{
  "nbformat": 4,
  "nbformat_minor": 0,
  "metadata": {
    "colab": {
      "name": "ASSIGNMENTS.ipynb",
      "provenance": [],
      "collapsed_sections": [],
      "include_colab_link": true
    },
    "kernelspec": {
      "name": "python3",
      "display_name": "Python 3"
    }
  },
  "cells": [
    {
      "cell_type": "markdown",
      "metadata": {
        "id": "view-in-github",
        "colab_type": "text"
      },
      "source": [
        "<a href=\"https://colab.research.google.com/github/coder-omer/Python/blob/main/ASSIGNMENTS.ipynb\" target=\"_parent\"><img src=\"https://colab.research.google.com/assets/colab-badge.svg\" alt=\"Open In Colab\"/></a>"
      ]
    },
    {
      "cell_type": "markdown",
      "metadata": {
        "id": "mb0eykGsiAlR"
      },
      "source": [
        "**17 ASSIGNMENT-008/9 (Letters Count)**\n",
        "\n",
        "Count the number of each letter in a sentence.\n",
        "\n",
        "The department you work for undertook a project construction that makes word / text analysis. You are asked to calculate the number of letters or any chars in the sentences entered under this project.\n",
        "\n",
        "Write a Python program that;\n",
        "\n",
        "takes a sentence from the user,\n",
        "\n",
        "counts the number of each letter of the sentence,\n",
        "\n",
        "collects the letters/chars as a key and the counted numbers as a value in a dictionary.\n",
        "\n",
        "\n",
        "Examples\n",
        "\n",
        "Sample inputs : hippo runs to us!\t\n",
        "\n",
        "Outputs : {'s': 2, 'r': 1, 't': 1, 'h': 1, 'n': 1, 'i': 1, 'u ': 2, 'o': 2, 'p': 2, ' ': 3, '!': 1}\n",
        "\n",
        "\t\n"
      ]
    },
    {
      "cell_type": "code",
      "metadata": {
        "id": "8eGsWQ6WJiDb",
        "colab": {
          "base_uri": "https://localhost:8080/"
        },
        "outputId": "5f759cc7-47d4-44ec-e609-1ea0f3c7a86f"
      },
      "source": [
        "# 017 ASSIGNMENT-008/9 (Letters Count)\n",
        "\n",
        "sentence = \"hippo runs to us!\"\n",
        "occurance = []\n",
        "\n",
        "for i in set(sentence):\n",
        "    occurance.append(sentence.count(i))\n",
        "print(dict(list(zip(set(sentence), occurance))))"
      ],
      "execution_count": null,
      "outputs": [
        {
          "output_type": "stream",
          "text": [
            "{' ': 3, 'n': 1, 'p': 2, 'o': 2, 's': 2, 'i': 1, 'r': 1, '!': 1, 'h': 1, 't': 1, 'u': 2}\n"
          ],
          "name": "stdout"
        }
      ]
    },
    {
      "cell_type": "code",
      "metadata": {
        "id": "isdvVZZzAEV-",
        "colab": {
          "base_uri": "https://localhost:8080/"
        },
        "outputId": "32fb9ad9-6ead-4a5b-d89a-35a1ff5dcc3d"
      },
      "source": [
        "text = \"hippo runs to us!\"\n",
        "letters = []\n",
        "counts = [] \n",
        "for i in text: \n",
        "  if i not in letters:\n",
        "    letters.append(i)\n",
        "    counts.append(text.count(i))\n",
        "letters_chars = {key:value for key, value in zip(letters, counts)} \n",
        "print(letters_chars)"
      ],
      "execution_count": null,
      "outputs": [
        {
          "output_type": "stream",
          "text": [
            "{'h': 1, 'i': 1, 'p': 2, 'o': 2, ' ': 3, 'r': 1, 'u': 2, 'n': 1, 's': 2, 't': 1, '!': 1}\n"
          ],
          "name": "stdout"
        }
      ]
    },
    {
      "cell_type": "markdown",
      "metadata": {
        "id": "68jXfaMbU5UB"
      },
      "source": [
        "\n",
        "**16 Assignment-008/8 (Leap Years)**\n",
        "\n",
        "Find out if a given year is a \"leap\" year.\n",
        "\n",
        "In the Gregorian calendar, three criteria must be taken into account to identify leap years:\n",
        "\n",
        "The year must be evenly divisible by 4;\n",
        "\n",
        "If the year can also be evenly divided by 100, it is not a leap year; unless...\n",
        "\n",
        "The year is also evenly divisible by 400. Then it is a leap year.\n",
        "According to these rules, the years 2000 and 2400 are leap years, while 1800, 1900, 2100, 2200, 2300, and 2500 are not the leap years.\n",
        "Write a Python program that prints such as \"2020 is a leap year\" if the given year by the user is a leap year, prints such as \"2019 is not a leap year\" otherwise."
      ]
    },
    {
      "cell_type": "code",
      "metadata": {
        "id": "ju37Fci2JiGL",
        "colab": {
          "base_uri": "https://localhost:8080/"
        },
        "outputId": "99db177e-f2c1-4ccf-a4eb-72d9e46dde42"
      },
      "source": [
        "# 016 ASSIGNMENT-008/8 (Leap Year)\n",
        "year = int(input(\"Enter Year: \"))\n",
        "\n",
        "if ((year % 4 == 0) and (year % 100 != 0)) or (year % 400 == 0) :\n",
        "  print(year, \" is leap year.\")\n",
        "else :\n",
        "  print(year, \" is not leap year.\")\n"
      ],
      "execution_count": null,
      "outputs": [
        {
          "output_type": "stream",
          "text": [
            "Enter Year: 2100\n",
            "2100  is not leap year.\n"
          ],
          "name": "stdout"
        }
      ]
    },
    {
      "cell_type": "markdown",
      "metadata": {
        "id": "a_PnV1q0QFlo"
      },
      "source": [
        "**14 ASSIGNMENT-008/7 (Fizz Buzz Numbers)**\n",
        "Task : Print the Fizz Buzz numbers.\n",
        "\n",
        "Fizz Buzz is a famous code challenge used in interviews to test basic programming skills. It's time to write your own implementation.\n",
        "\n",
        "- Print numbers from 1 to 100 inclusively following these instructions:\n",
        "\n",
        "- if a number is multiple of 3, print \"Fizz\" instead of this number,\n",
        "\n",
        "- if a number is multiple of 5, print \"Buzz\" instead of this number,\n",
        "\n",
        "- for numbers that are multiples of both 3 and 5, print \"FizzBuzz\",\n",
        "\n",
        "- print the rest of the numbers unchanged.\n",
        "\n",
        "- Output each value on a separate line."
      ]
    },
    {
      "cell_type": "code",
      "metadata": {
        "id": "KRhyJVCTbXjy",
        "colab": {
          "base_uri": "https://localhost:8080/"
        },
        "outputId": "277e3f31-96b1-4b25-8b87-6e04ae45a8eb"
      },
      "source": [
        "# 014 ASSIGNMENT-008/7 (Fizz Buzz Numbers)\n",
        "for i in range(1,101):\n",
        "  if i%3==0 and i%5==0:\n",
        "    print(\"FizzBuzz\")\n",
        "  elif i%3==0:\n",
        "    print(\"Fizz\")\n",
        "  elif i%5==0:\n",
        "    print(\"Buzz\")\n",
        "  else:\n",
        "    print(i)\n",
        "    i = i + 1"
      ],
      "execution_count": null,
      "outputs": [
        {
          "output_type": "stream",
          "text": [
            "1\n",
            "2\n",
            "Fizz\n",
            "4\n",
            "Buzz\n",
            "Fizz\n",
            "7\n",
            "8\n",
            "Fizz\n",
            "Buzz\n",
            "11\n",
            "Fizz\n",
            "13\n",
            "14\n",
            "FizzBuzz\n",
            "16\n",
            "17\n",
            "Fizz\n",
            "19\n",
            "Buzz\n",
            "Fizz\n",
            "22\n",
            "23\n",
            "Fizz\n",
            "Buzz\n",
            "26\n",
            "Fizz\n",
            "28\n",
            "29\n",
            "FizzBuzz\n",
            "31\n",
            "32\n",
            "Fizz\n",
            "34\n",
            "Buzz\n",
            "Fizz\n",
            "37\n",
            "38\n",
            "Fizz\n",
            "Buzz\n",
            "41\n",
            "Fizz\n",
            "43\n",
            "44\n",
            "FizzBuzz\n",
            "46\n",
            "47\n",
            "Fizz\n",
            "49\n",
            "Buzz\n",
            "Fizz\n",
            "52\n",
            "53\n",
            "Fizz\n",
            "Buzz\n",
            "56\n",
            "Fizz\n",
            "58\n",
            "59\n",
            "FizzBuzz\n",
            "61\n",
            "62\n",
            "Fizz\n",
            "64\n",
            "Buzz\n",
            "Fizz\n",
            "67\n",
            "68\n",
            "Fizz\n",
            "Buzz\n",
            "71\n",
            "Fizz\n",
            "73\n",
            "74\n",
            "FizzBuzz\n",
            "76\n",
            "77\n",
            "Fizz\n",
            "79\n",
            "Buzz\n",
            "Fizz\n",
            "82\n",
            "83\n",
            "Fizz\n",
            "Buzz\n",
            "86\n",
            "Fizz\n",
            "88\n",
            "89\n",
            "FizzBuzz\n",
            "91\n",
            "92\n",
            "Fizz\n",
            "94\n",
            "Buzz\n",
            "Fizz\n",
            "97\n",
            "98\n",
            "Fizz\n",
            "Buzz\n"
          ],
          "name": "stdout"
        }
      ]
    },
    {
      "cell_type": "markdown",
      "metadata": {
        "id": "1aaHR48W2g7v"
      },
      "source": [
        "**014 ASSIGNMENT-008/6 (PRIME NUMBERS)**\n",
        "\n",
        "Task : Print the prime numbers which are between 1 to entered limit number (n).\n",
        "\n",
        "You can use a nested for loop.\n",
        "\n",
        "Collect all these numbers into a list\n",
        "\n",
        "The desired output for n=100 :\n",
        "\n",
        "[2, 3, 5, 7, 11, 13, 17, 19, 23, 29, 31, 37, 41, 43, 47, 53, 59,\n",
        "61, 67, 71, 73, 79, 83, 89, 97]"
      ]
    },
    {
      "cell_type": "code",
      "metadata": {
        "id": "-HRlkYW7bGG8",
        "colab": {
          "base_uri": "https://localhost:8080/"
        },
        "outputId": "056e699d-38a1-41c8-a160-077423085df8"
      },
      "source": [
        "# 014 ASSIGNMENT-008/6 (PRIME NUMBERS)\n",
        "prime_number = []\n",
        "for n in range(2,101):\n",
        "    prime = True\n",
        "    for i in range(2,n):\n",
        "        if (n==0) or (n==1) or (n%i==0):\n",
        "            prime = False\n",
        "    if prime:\n",
        "       prime_number.append(n)\n",
        "print (prime_number)"
      ],
      "execution_count": null,
      "outputs": [
        {
          "output_type": "stream",
          "text": [
            "[2, 3, 5, 7, 11, 13, 17, 19, 23, 29, 31, 37, 41, 43, 47, 53, 59, 61, 67, 71, 73, 79, 83, 89, 97]\n"
          ],
          "name": "stdout"
        }
      ]
    },
    {
      "cell_type": "code",
      "metadata": {
        "colab": {
          "base_uri": "https://localhost:8080/"
        },
        "id": "Apfx-cTRBmIS",
        "outputId": "bc7f03c4-7564-486d-ca64-28d3aabeb709"
      },
      "source": [
        "# kullanıcı tarafından belirtilen sayıya kadar asal sayı bulan kodlama.\n",
        "asalslist = []\n",
        "son = int(input(\"Kaça Kadar Asal Sayı Bulmak İstiyorsunuz ? \"))\n",
        "for i in range(son+1):\n",
        "  if i != 2 and i % 2 == 0 :\n",
        "    continue\n",
        "  elif i != 3 and i % 3 == 0 :\n",
        "    continue\n",
        "  elif i % i**0.5 == 0:\n",
        "    continue\n",
        "  else :\n",
        "    asalslist.append(i)\n",
        "    \n",
        "print(asalslist)\n",
        "print(son, \"rakamına kadar\", len(asalslist),\"tane asal sayı vardır.\")"
      ],
      "execution_count": null,
      "outputs": [
        {
          "output_type": "stream",
          "name": "stdout",
          "text": [
            "Kaça Kadar Asal Sayı Bulmak İstiyorsunuz ? 101\n",
            "[2, 3, 5, 7, 11, 13, 17, 19, 23, 29, 31, 35, 37, 41, 43, 47, 53, 55, 59, 61, 65, 67, 71, 73, 77, 79, 83, 85, 89, 91, 95, 97, 101]\n",
            "101 rakamına kadar 33 tane asal sayı vardır.\n"
          ]
        }
      ]
    },
    {
      "cell_type": "code",
      "metadata": {
        "colab": {
          "base_uri": "https://localhost:8080/"
        },
        "id": "2EHk7w0fB6-P",
        "outputId": "47604b5d-2e0d-48a1-e1b1-dd56951f1cdb"
      },
      "source": [
        "def is_prime(n):\n",
        "    if n == 2:\n",
        "        return True\n",
        "    elif n < 0 or not n % 2:\n",
        "        return False\n",
        "    else:\n",
        "        for i in range(3, int(n**0.5)+1, 2):\n",
        "            if not n % i:\n",
        "                return False\n",
        "    return True\n",
        "\n",
        "prime_list = []\n",
        "number = int(input(\"Enter a positive whole number: \"))\n",
        "\n",
        "for i in range(2, number+1):\n",
        "    if is_prime(i):\n",
        "        prime_list.append(i)\n",
        "\n",
        "print(prime_list)"
      ],
      "execution_count": null,
      "outputs": [
        {
          "output_type": "stream",
          "name": "stdout",
          "text": [
            "Enter a positive whole number: 101\n",
            "[2, 3, 5, 7, 11, 13, 17, 19, 23, 29, 31, 37, 41, 43, 47, 53, 59, 61, 67, 71, 73, 79, 83, 89, 97, 101]\n"
          ]
        }
      ]
    },
    {
      "cell_type": "code",
      "metadata": {
        "colab": {
          "base_uri": "https://localhost:8080/"
        },
        "id": "bPZlwuqsCUsW",
        "outputId": "59f7652e-7e0c-4761-9f6c-01fbb310cb1f"
      },
      "source": [
        "prime = [2]\n",
        "p_num = []\n",
        "\n",
        "n = int(input(\"write a number: \")) # 100\n",
        "for i in range(3,n+1) :\n",
        "  for j in range(2,i) :\n",
        "    if i % j == 0 :\n",
        "      break\n",
        "  else :\n",
        "    prime += [i]\n",
        "\n",
        "for k in prime :\n",
        "  p_num.append(k)\n",
        "\n",
        "print(p_num)\n"
      ],
      "execution_count": null,
      "outputs": [
        {
          "output_type": "stream",
          "name": "stdout",
          "text": [
            "write a number: 101\n",
            "[2, 3, 5, 7, 11, 13, 17, 19, 23, 29, 31, 37, 41, 43, 47, 53, 59, 61, 67, 71, 73, 79, 83, 89, 97, 101]\n"
          ]
        }
      ]
    },
    {
      "cell_type": "code",
      "metadata": {
        "colab": {
          "base_uri": "https://localhost:8080/"
        },
        "id": "-Jm3emPFCu_D",
        "outputId": "0b4040b4-05e7-4ee1-f58d-68a517079de6"
      },
      "source": [
        "sayı =int(input(\"sayı gir\"))\n",
        "liste=[1]\n",
        "for a in range(2,sayı + 1):\n",
        "       for i in range(2,a):\n",
        "           if (a % i) == 0:\n",
        "               break\n",
        "       else:\n",
        "              liste += [a]\n",
        "print(liste)"
      ],
      "execution_count": null,
      "outputs": [
        {
          "output_type": "stream",
          "name": "stdout",
          "text": [
            "sayı gir101\n",
            "[1, 2, 3, 5, 7, 11, 13, 17, 19, 23, 29, 31, 37, 41, 43, 47, 53, 59, 61, 67, 71, 73, 79, 83, 89, 97, 101]\n"
          ]
        }
      ]
    },
    {
      "cell_type": "code",
      "metadata": {
        "colab": {
          "base_uri": "https://localhost:8080/"
        },
        "id": "0S0jxIWFC97u",
        "outputId": "be56f6e8-cede-4092-af53-a2e0190cc8d5"
      },
      "source": [
        "n= int(input(\"enter a positive number to check if it a prime number\"))\n",
        "counter = 0\n",
        "for i in range(1 ,n+1) :\n",
        "  if n % i == 0 :\n",
        "    counter += 1\n",
        "if (n==0) or (n==1) or (counter >=3 ) :\n",
        "  print(n,\"is not a prime number\")\n",
        "else :\n",
        "  print(n,\"is a Prime number\")"
      ],
      "execution_count": null,
      "outputs": [
        {
          "output_type": "stream",
          "name": "stdout",
          "text": [
            "enter a positive number to check if it a prime number101\n",
            "101 is a Prime number\n"
          ]
        }
      ]
    },
    {
      "cell_type": "code",
      "metadata": {
        "id": "t1j9SMPYDnSF",
        "colab": {
          "base_uri": "https://localhost:8080/"
        },
        "outputId": "93ba5738-492f-4bf4-bb9c-479ff59e4bd4"
      },
      "source": [
        "start= 1\n",
        "end= 100\n",
        "\n",
        "print(\"Prime numbers between\", start, \"and\", end, \"are:\")\n",
        "\n",
        "for num in range(start, end+ 1):\n",
        "   # all prime numbers are greater than 1\n",
        "   if num > 1:\n",
        "       for i in range(2, num):\n",
        "           if (num % i) == 0:\n",
        "               break\n",
        "       else:\n",
        "           print(num)"
      ],
      "execution_count": null,
      "outputs": [
        {
          "output_type": "stream",
          "name": "stdout",
          "text": [
            "Prime numbers between 1 and 100 are:\n",
            "2\n",
            "3\n",
            "5\n",
            "7\n",
            "11\n",
            "13\n",
            "17\n",
            "19\n",
            "23\n",
            "29\n",
            "31\n",
            "37\n",
            "41\n",
            "43\n",
            "47\n",
            "53\n",
            "59\n",
            "61\n",
            "67\n",
            "71\n",
            "73\n",
            "79\n",
            "83\n",
            "89\n",
            "97\n"
          ]
        }
      ]
    },
    {
      "cell_type": "markdown",
      "metadata": {
        "id": "TK79xWW8bKR8"
      },
      "source": [
        "**013 ASSIGNMENT-008/5 (FIBONACCI NUMBERS)**\n",
        "\n",
        "Task : Create a list consisting of Fibonacci numbers from 1 to 55 using control flow statements.\n",
        "\n",
        "The desired output is like :\n",
        "\n",
        "fibonacci →  [1, 1, 2, 3, 5, 8, 13, 21, 34, 55]"
      ]
    },
    {
      "cell_type": "code",
      "metadata": {
        "colab": {
          "base_uri": "https://localhost:8080/"
        },
        "id": "zzmeMsgKIwJL",
        "outputId": "46fc25e5-8366-406d-da29-d15f69d56dca"
      },
      "source": [
        "a = [ \"w\", \"z\", \"t\"]\n",
        "b = \"q\"\n",
        "print(b in a)"
      ],
      "execution_count": null,
      "outputs": [
        {
          "output_type": "stream",
          "text": [
            "False\n"
          ],
          "name": "stdout"
        }
      ]
    },
    {
      "cell_type": "code",
      "metadata": {
        "colab": {
          "base_uri": "https://localhost:8080/"
        },
        "id": "-ohEFRtdJSE4",
        "outputId": "0474397c-ec60-4220-e0bf-d400bb60a3b5"
      },
      "source": [
        "if b in a:\n",
        "  print(True)\n",
        "else:\n",
        "  print(False)"
      ],
      "execution_count": null,
      "outputs": [
        {
          "output_type": "stream",
          "text": [
            "False\n"
          ],
          "name": "stdout"
        }
      ]
    },
    {
      "cell_type": "code",
      "metadata": {
        "colab": {
          "base_uri": "https://localhost:8080/"
        },
        "id": "kBPQUE91Jh3g",
        "outputId": "eaf57b16-8155-497b-c9b0-c0bdf8b16018"
      },
      "source": [
        "# 013 ASSIGNMENT-008/5 (FIBONACCI NUMBERS)\n",
        "a = [1, 1]\n",
        "i = 0\n",
        "\n",
        "while i < 8:\n",
        "  x = int(a[i]) + int(a[i+1])\n",
        "  a.append(x)\n",
        "  i += 1\n",
        "print(a)"
      ],
      "execution_count": null,
      "outputs": [
        {
          "output_type": "stream",
          "text": [
            "[1, 1, 2, 3, 5, 8, 13, 21, 34, 55]\n"
          ],
          "name": "stdout"
        }
      ]
    },
    {
      "cell_type": "code",
      "metadata": {
        "colab": {
          "base_uri": "https://localhost:8080/"
        },
        "id": "0fBTGv94Jh7j",
        "outputId": "56b5319a-3d9e-458f-942e-75868b88b56a"
      },
      "source": [
        "# 013 ASSIGNMENT-008/5 (FIBONACCI NUMBERS)\n",
        "\n",
        "# Program to display the Fibonacci sequence up to n-th term\n",
        "nterms = int(input(\"How many terms? \"))\n",
        "\n",
        "# first two terms\n",
        "n1, n2 = 0, 1\n",
        "count = 0\n",
        "\n",
        "# check if the number of terms is valid\n",
        "if nterms <= 0:\n",
        "   print(\"Please enter a positive integer\")\n",
        "elif nterms == 1:\n",
        "   print(\"Fibonacci sequence upto\",nterms,\":\")\n",
        "   print(n1)\n",
        "else:\n",
        "   print(\"Fibonacci sequence:\")\n",
        "   while count < nterms:\n",
        "       print(n1)\n",
        "       nth = n1 + n2\n",
        "       # update values\n",
        "       n1 = n2\n",
        "       n2 = nth\n",
        "       count += 1"
      ],
      "execution_count": null,
      "outputs": [
        {
          "output_type": "stream",
          "text": [
            "How many terms? 10\n",
            "Fibonacci sequence:\n",
            "0\n",
            "1\n",
            "1\n",
            "2\n",
            "3\n",
            "5\n",
            "8\n",
            "13\n",
            "21\n",
            "34\n"
          ],
          "name": "stdout"
        }
      ]
    },
    {
      "cell_type": "code",
      "metadata": {
        "colab": {
          "base_uri": "https://localhost:8080/"
        },
        "id": "KGaSS1oDJh_l",
        "outputId": "0e981df0-dc88-4192-a580-9e4b5d173290"
      },
      "source": [
        "# 013 ASSIGNMENT-008/5 (FIBONACCI NUMBERS)\n",
        "\n",
        "# Enter number of terms needed                   #0,1,1,2,3,5....\n",
        "a=int(input(\"Enter the terms: \"))\n",
        "f=1                                         #first element of series\n",
        "s=1                                         #second element of series\n",
        "if a<=0:\n",
        "    print(\"The requested series is \",f)\n",
        "else:\n",
        "    print(f,s,end=\" \")\n",
        "    for x in range(2,a):\n",
        "        next=f+s                           \n",
        "        print(next,end=\" \")\n",
        "        f=s\n",
        "        s=next"
      ],
      "execution_count": null,
      "outputs": [
        {
          "output_type": "stream",
          "text": [
            "Enter the terms: 10\n",
            "1 1 2 3 5 8 13 21 34 55 "
          ],
          "name": "stdout"
        }
      ]
    },
    {
      "cell_type": "markdown",
      "metadata": {
        "id": "MMs2Jw9xDJR5"
      },
      "source": [
        "**012 ASSIGNMENT-008/4 (IS IT A PRIME NUMBER)**\n",
        "\n",
        "Task : Write a program that takes a number from the user and prints the result to check if it is a prime number.\n",
        "\n",
        "The examples of the desired output are as follows :\n",
        "\n",
        "input →  19 ⇉ output : 19 is a prime number\n",
        "\n",
        "input →  10 ⇉ output : 10 is not a prime number"
      ]
    },
    {
      "cell_type": "code",
      "metadata": {
        "colab": {
          "base_uri": "https://localhost:8080/"
        },
        "id": "Pi8feONPYRkC",
        "outputId": "00d80190-d0a1-485f-8ac9-cd08affaa4c8"
      },
      "source": [
        "# 012 ASSIGNMENT-008/4 (IS IT A PRIME NUMBER?)\n",
        "number = int(input(\"Enter a number: \"))\n",
        "\n",
        "if number > 1:\n",
        "   for i in range(2,number):\n",
        "       if (number % i) == 0:\n",
        "           print(number,\"is not a prime number\")\n",
        "           break\n",
        "   else:\n",
        "       print(number,\"is a prime number\")\n",
        "else:\n",
        "   print(number,\"is not a prime number\")"
      ],
      "execution_count": null,
      "outputs": [
        {
          "output_type": "stream",
          "text": [
            "Enter a number: 25\n",
            "25 is not a prime number\n"
          ],
          "name": "stdout"
        }
      ]
    },
    {
      "cell_type": "code",
      "metadata": {
        "id": "Q5NhwvVqDEiS",
        "colab": {
          "base_uri": "https://localhost:8080/"
        },
        "outputId": "f24aa79a-3a80-44b8-93c0-aacee43ff6cc"
      },
      "source": [
        "# 012 ASSIGNMENT-008/4 (IS IT A PRIME NUMBER?)\n",
        "# To take input from the user\n",
        "num = int(input(\"Enter a number: \"))\n",
        "# prime numbers are greater than 1\n",
        "if num > 1:\n",
        "   # check for factors\n",
        "   for i in range(2,num):\n",
        "       if (num % i) == 0:\n",
        "           print(num,\"is not a prime number\")\n",
        "           print(i,\"times\",num//i,\"is\",num)\n",
        "           break\n",
        "   else:\n",
        "       print(num,\"is a prime number\")\n",
        "# if input number is less than\n",
        "# or equal to 1, it is not prime\n",
        "else:\n",
        "   print(num,\"is not a prime number\")"
      ],
      "execution_count": null,
      "outputs": [
        {
          "output_type": "stream",
          "text": [
            "Enter a number: 25\n",
            "25 is not a prime number\n",
            "5 times 5 is 25\n"
          ],
          "name": "stdout"
        }
      ]
    },
    {
      "cell_type": "code",
      "metadata": {
        "colab": {
          "base_uri": "https://localhost:8080/"
        },
        "id": "O0oZTwqmOdx2",
        "outputId": "314b08c2-c72b-4c10-d724-2e4b24faa225"
      },
      "source": [
        "# 012 ASSIGNMENT-008/4 (IS IT A PRIME NUMBER?)\n",
        "# To take input from the user\n",
        "num2 = int(input(\"Enter a number: \"))\n",
        "# define a flag variable\n",
        "flag = False\n",
        "# prime numbers are greater than 1\n",
        "if num2 > 1:\n",
        "    # check for factors\n",
        "    for i in range(2, num):\n",
        "        if (num2 % i) == 0:\n",
        "            # if factor is found, set flag to True\n",
        "            flag = True\n",
        "            # break out of loop\n",
        "            break\n",
        "# check if flag is True\n",
        "if flag:\n",
        "    print(num2, \"is not a prime number\")\n",
        "else:\n",
        "    print(num2, \"is a prime number\")"
      ],
      "execution_count": null,
      "outputs": [
        {
          "output_type": "stream",
          "text": [
            "Enter a number: 25\n",
            "25 is not a prime number\n"
          ],
          "name": "stdout"
        }
      ]
    },
    {
      "cell_type": "markdown",
      "metadata": {
        "id": "ds6-mkqA2ARh"
      },
      "source": [
        "***011 ASSIGNMENT-008/3 (IS IT AN AMSTRONG NUMBER?) ***\n",
        "\n",
        "Task:\n",
        "\n",
        "Find out if a given number is an \"Armstrong Number\".\n",
        "\n",
        "An n-digit number that is the sum of the nth powers of its digits is called an n-Armstrong number. Examples :\n",
        "\n",
        "371 = 33 + 73 + 13;\n",
        "\n",
        "9474 = 94 + 44 + 74 + 44;\n",
        "\n",
        "93084 = 95 + 35 + 05 + 85 + 45.\n",
        "\n",
        "Write a Python program that;\n",
        "takes a positive integer number from the user,\n",
        "checks the entered number if it is Armstrong,\n",
        "consider the negative, float and any entries other than numeric values then display a warning message to the user."
      ]
    },
    {
      "cell_type": "code",
      "metadata": {
        "colab": {
          "base_uri": "https://localhost:8080/"
        },
        "id": "n4My8CXMuqVd",
        "outputId": "e863f876-9202-4af7-9384-9339f61843e7"
      },
      "source": [
        "while True :\n",
        "    \n",
        "    number = input(\"enter a positive integer number :\")\n",
        "    digits = len(number)\n",
        "    summ = 0\n",
        "    \n",
        "    if not number.isdigit() :\n",
        "        print(number, \" is invalid entry. Enter valid input.\")\n",
        "        \n",
        "    elif int(number) >= 0 :\n",
        "        for i in range(digits) :\n",
        "            \n",
        "            summ = summ + int(number[i]) ** digits\n",
        "        \n",
        "        if summ == int(number):\n",
        "            print(number, \" is an Armstrong Number\")\n",
        "            break\n",
        "            \n",
        "        else :\n",
        "            print(number, \"is not an Armstrong Number\")\n",
        "            break"
      ],
      "execution_count": null,
      "outputs": [
        {
          "output_type": "stream",
          "name": "stdout",
          "text": [
            "enter a positive integer number :123\n",
            "123 is not an Armstrong Number\n"
          ]
        }
      ]
    },
    {
      "cell_type": "markdown",
      "metadata": {
        "id": "rzyNxnK6-_Tf"
      },
      "source": [
        "**010 ASSIGNMENT-008/2 (COVID-19 RISK)**\n",
        "\n",
        "Task : Estimating the risk of death from coronavirus. Write a program that;\n",
        "\n",
        "Takes **\"Yes\"** or **\"No\"** from the user as an answer to the following questions :\n",
        "\n",
        "Are you a cigarette addict older than 75 years old? Variable → **age**\n",
        "\n",
        "Do you have a severe chronic disease? Variable → **chronic**\n",
        "\n",
        "Is your immune system too weak? Variable → **immune**\n",
        "\n",
        "Set a logical algorithm using boolean logic operators (and/or) and use if-statements with the given variables in order to print out us a message : \"You are in risky group\"(if True ) or \"You are not in risky group\" (if False).\n",
        "\n",
        "age =  # can be assigned only True/False\n",
        "\n",
        "chronic =  # can be assigned only True/False\n",
        "\n",
        "immune =  # can be assigned only True/False\n",
        "\n",
        "risk = ?\n"
      ]
    },
    {
      "cell_type": "code",
      "metadata": {
        "id": "AUzEpVjh0CJD",
        "colab": {
          "base_uri": "https://localhost:8080/"
        },
        "outputId": "b4a95674-2880-47e2-d02e-568fccca3f27"
      },
      "source": [
        "# 010 ASSIGNMENT-008/2 (COVID-19 RISK) versiyon3\n",
        "age = input(\"Are you a cigarette addict older than 75 years old? (Yes/No) \").title().strip() == \"Yes\"\n",
        "cronic = input(\"Do you have a severe chronic disease? (Yes/No) \").title().strip() == \"Yes\"\n",
        "immune = input(\"Is your immune system too weak? (Yes/No) \").title().strip() == \"Yes\"\n",
        "\n",
        "risk = age or cronic or immune\n",
        "\n",
        "if risk == True :\n",
        "  print(\"You are in risky group\")\n",
        "else :\n",
        "  print(\"You are not in risky group\")"
      ],
      "execution_count": null,
      "outputs": [
        {
          "output_type": "stream",
          "name": "stdout",
          "text": [
            "Are you a cigarette addict older than 75 years old? (Yes/No) yes\n",
            "Do you have a severe chronic disease? (Yes/No) no\n",
            "Is your immune system too weak? (Yes/No) yes\n",
            "You are not in risky group\n"
          ]
        }
      ]
    },
    {
      "cell_type": "code",
      "metadata": {
        "id": "BCzGPywARXIy",
        "colab": {
          "base_uri": "https://localhost:8080/"
        },
        "outputId": "21e65748-78bc-4135-963c-59382b1e04ac"
      },
      "source": [
        "# 010 ASSIGNMENT-008/2 (COVID-19 RISK) versiyon2\n",
        "age = input(\"Are you a cigarette addict older than 75 years old? (Yes/No) \").title().strip() == \"Yes\"\n",
        "cronic = input(\"Do you have a severe chronic disease? (Yes/No) \").title().strip() == \"Yes\"\n",
        "immune = input(\"Is your immune system too weak? (Yes/No) \").title().strip() == \"Yes\"\n",
        "\n",
        "if age == True :\n",
        "  print(\"You are in risky group\")\n",
        "elif cronic == True :\n",
        "  print(\"You are in risky group\")\n",
        "elif immune == True :\n",
        "  print(\"You are in risky group\")\n",
        "else :\n",
        "  print(\"You are not in risky group\")"
      ],
      "execution_count": null,
      "outputs": [
        {
          "output_type": "stream",
          "name": "stdout",
          "text": [
            "Are you a cigarette addict older than 75 years old? (Yes/No) yes\n",
            "Do you have a severe chronic disease? (Yes/No) no\n",
            "Is your immune system too weak? (Yes/No) yes\n",
            "You are in risky group\n"
          ]
        }
      ]
    },
    {
      "cell_type": "code",
      "metadata": {
        "colab": {
          "base_uri": "https://localhost:8080/"
        },
        "id": "k52g_bt_-vKq",
        "outputId": "94e7b0c0-9e17-4103-ce09-d87d9100e95a"
      },
      "source": [
        "# 010 ASSIGNMENT-008/2 (COVID-19 RISK) versiyon1\n",
        "age = input(\"Are you a cigarette addict older than 75 years old?(e.g. Yes or No) :\")\n",
        "cronic = input(\"Do you have a severe chronic disease?(e.g. Yes or No) :\")\n",
        "immune = input(\"Is your immune system too weak?(e.g. Yes or No) :\")\n",
        "\n",
        "if age == \"Yes\":\n",
        "  age = True\n",
        "  print(\"You are in risky group\")\n",
        "elif cronic == \"Yes\":\n",
        "  cronic = True\n",
        "  print(\"You are in risky group\")\n",
        "elif immune == \"Yes\":\n",
        "  immune = True\n",
        "  print(\"You are in risky group\")\n",
        "else :\n",
        "  print(\"You are not in risky group\")"
      ],
      "execution_count": null,
      "outputs": [
        {
          "output_type": "stream",
          "name": "stdout",
          "text": [
            "Are you a cigarette addict older than 75 years old?(e.g. Yes or No) :yes\n",
            "Do you have a severe chronic disease?(e.g. Yes or No) :no\n",
            "Is your immune system too weak?(e.g. Yes or No) :yes\n",
            "You are not in risky group\n"
          ]
        }
      ]
    },
    {
      "cell_type": "code",
      "metadata": {
        "colab": {
          "base_uri": "https://localhost:8080/"
        },
        "id": "6kaZar-JHzF0",
        "outputId": "3f142cf0-bc29-4a22-87e3-6d145d2cd241"
      },
      "source": [
        "# 009 ASSIGNMENT-008/1(PASSWORD REMINDER)\n",
        "# To improve your conditional algorithm and string operations skills.\n",
        "# Task : Let's say; you left a message in the past that prints a password you need. To see the password you wrote, you need to enter your name and the program should recognize you.\n",
        "# Write a program that \n",
        "# Takes the first name from the user and compares it to yours,\n",
        "# Then if the name the user entered is the same as yours, print out such as : \"Hello, Joseph! The password is : W@12\",\n",
        "# If the name the user entered is not the same as yours, print out such as : \"Hello, Amina! See you later.\"\n",
        "\n",
        "answer = \"Sam\"\n",
        "first_name = input(\"Please enter your first  name :  \")\n",
        "\n",
        "while answer != first_name :\n",
        "  print(\"Hello,\", first_name, \"! See you later.\")\n",
        "  first_name = input (\"Please enter your first  name again please! :  \")\n",
        "print(\"Hello, \", first_name, \"! The password is : W@12\")\n"
      ],
      "execution_count": null,
      "outputs": [
        {
          "output_type": "stream",
          "text": [
            "Please enter your first  name :  Kadir\n",
            "Hello, Kadir ! See you later.\n",
            "Please enter your first  name again please! :  Mustafa\n",
            "Hello, Mustafa ! See you later.\n",
            "Please enter your first  name again please! :  Sam\n",
            "Hello,  Sam ! The password is : W@12\n"
          ],
          "name": "stdout"
        }
      ]
    },
    {
      "cell_type": "code",
      "metadata": {
        "id": "MuyMTaAD3Omn",
        "colab": {
          "base_uri": "https://localhost:8080/"
        },
        "outputId": "839c0b67-ffb7-40f3-9871-8f05b4bc209b"
      },
      "source": [
        "# 008 ASSIGNMENT-008/3(COMFORTABLE WORDS)\n",
        "# Task : Find out if the given word is \"comfortable words\" in relation to the ten-finger keyboard use.\n",
        "# A comfortable word is a word which you can type always alternating the hand you type with (assuming you type using a Q-keyboard and use of the ten-fingers standard).\n",
        "# The word will always be a string consisting of only letters from a to z.\n",
        "# Write a program which returns True if it's a comfortable word or False otherwise.\n",
        "# Examples\n",
        "# GivenWord     Desired Output (explanation)\n",
        "# tester\t      False (uses only left-hand fingers)*\n",
        "# polly\t        False (uses only right-hand fingers)*\n",
        "# clarusway\t    True (uses both hand fingers)\n",
        "# Note : Do a quick research on ten-fingers keyboard usage. \n",
        "# (*) the explanation doesn't need to be in the output.\n",
        "# Left: q, w, e, r, t, a, s, d, f, g, z, x, c, v, b\n",
        "# Right: y, u, i, o, p, h, j, k, l, n, m\n",
        "\n",
        "given_word = set(\"tester\")\n",
        "right = set(\"yuiophjklnm\")\n",
        "left = set(\"qwertasdfgzxcvb\")\n",
        "print(given_word)\n",
        "print(right)\n",
        "print(left)\n",
        "\n",
        "rightcheck = given_word.intersection(right)\n",
        "leftcheck = given_word.intersection(left)\n",
        "print(rightcheck)\n",
        "print(leftcheck)\n",
        "\n",
        "rightcheck = bool(given_word.intersection(right))\n",
        "leftcheck = bool(given_word.intersection(left))\n",
        "print(rightcheck)\n",
        "print(leftcheck)\n",
        "\n",
        "print(rightcheck and leftcheck)\n"
      ],
      "execution_count": null,
      "outputs": [
        {
          "output_type": "stream",
          "name": "stdout",
          "text": [
            "{'e', 'r', 't', 's'}\n",
            "{'y', 'i', 'n', 'm', 'j', 'h', 'o', 'u', 'p', 'l', 'k'}\n",
            "{'a', 'v', 'r', 't', 'g', 'c', 'b', 'f', 's', 'x', 'q', 'e', 'w', 'z', 'd'}\n",
            "set()\n",
            "{'e', 'r', 't', 's'}\n",
            "False\n",
            "True\n",
            "False\n"
          ]
        }
      ]
    },
    {
      "cell_type": "code",
      "metadata": {
        "colab": {
          "base_uri": "https://localhost:8080/"
        },
        "id": "eHQ7_gchpguV",
        "outputId": "abe2fbc7-74be-4933-d028-45f29be286e9"
      },
      "source": [
        "given_word1 = set(\"polly\")\n",
        "right = set(\"yuiophjklnm\")\n",
        "left = set(\"qwertasdfgzxcvb\")\n",
        "print(given_word1)\n",
        "print(right)\n",
        "print(left)\n",
        "\n",
        "rightcheck = given_word1.intersection(right)\n",
        "leftcheck = given_word1.intersection(left)\n",
        "print(rightcheck)\n",
        "print(leftcheck)\n",
        "\n",
        "rightcheck = bool(given_word1.intersection(right))\n",
        "leftcheck = bool(given_word1.intersection(left))\n",
        "print(rightcheck)\n",
        "print(leftcheck)\n",
        "\n",
        "print(rightcheck and leftcheck)"
      ],
      "execution_count": null,
      "outputs": [
        {
          "output_type": "stream",
          "name": "stdout",
          "text": [
            "{'y', 'p', 'l', 'o'}\n",
            "{'y', 'i', 'n', 'm', 'j', 'h', 'o', 'u', 'p', 'l', 'k'}\n",
            "{'a', 'v', 'r', 't', 'g', 'c', 'b', 'f', 's', 'x', 'q', 'e', 'w', 'z', 'd'}\n",
            "{'y', 'p', 'l', 'o'}\n",
            "set()\n",
            "True\n",
            "False\n",
            "False\n"
          ]
        }
      ]
    },
    {
      "cell_type": "code",
      "metadata": {
        "colab": {
          "base_uri": "https://localhost:8080/"
        },
        "id": "mS8KsjmTpvvI",
        "outputId": "fcf87062-a65f-4ac4-b837-1de81706c702"
      },
      "source": [
        "given_word2 = set(\"clarusway\")\n",
        "right = set(\"yuiophjklnm\")\n",
        "left = set(\"qwertasdfgzxcvb\")\n",
        "print(given_word2)\n",
        "print(right)\n",
        "print(left)\n",
        "\n",
        "rightcheck = given_word2.intersection(right)\n",
        "leftcheck = given_word2.intersection(left)\n",
        "print(rightcheck)\n",
        "print(leftcheck)\n",
        "\n",
        "rightcheck = bool(given_word2.intersection(right))\n",
        "leftcheck = bool(given_word2.intersection(left))\n",
        "print(rightcheck)\n",
        "print(leftcheck)\n",
        "\n",
        "print(rightcheck and leftcheck)"
      ],
      "execution_count": null,
      "outputs": [
        {
          "output_type": "stream",
          "name": "stdout",
          "text": [
            "{'a', 'y', 'r', 'c', 'u', 's', 'l', 'w'}\n",
            "{'y', 'i', 'n', 'm', 'j', 'h', 'o', 'u', 'p', 'l', 'k'}\n",
            "{'a', 'v', 'r', 't', 'g', 'c', 'b', 'f', 's', 'x', 'q', 'e', 'w', 'z', 'd'}\n",
            "{'y', 'u', 'l'}\n",
            "{'a', 'r', 'c', 's', 'w'}\n",
            "True\n",
            "True\n",
            "True\n"
          ]
        }
      ]
    },
    {
      "cell_type": "code",
      "metadata": {
        "id": "NrgchqvqImJz",
        "colab": {
          "base_uri": "https://localhost:8080/"
        },
        "outputId": "7a8b1a75-ddc9-46ce-a486-60445b7864ff"
      },
      "source": [
        "# 007-2 ASSIGNMENT-008/2(PROFIT CALCULATION)\n",
        "# Task - 2 : Your boss wants you to prepare the payrolls of the workers in your department. You have to convert \n",
        "# the amount of dollars into payroll format. \n",
        "# In order to help move things along, you have volunteered to write a code that will take a float and return \n",
        "# the money in the following format (as dollars and cents). \n",
        "# Examples\n",
        "# GivenFloatTypeAmount\tDesiredOutput\n",
        "#   3\t                    $3.00\n",
        "#   29.99\t                $29.99\n",
        "#   4.1\t                  $4.10\n",
        "# The output should be float type as well and two digits after the period.\n",
        "\n",
        "# Task - 2 :\n",
        "us_rate = float(input(\"Enter Usual rate : \"))\n",
        "tax = float(input(\"Enter Tax : \"))\n",
        "ov_rate = float(input(\"Enter Overtime rate : \"))\n",
        "\n",
        "print(\"Usual rate : $%.2f\" % (us_rate), \"\\n\",\n",
        "      \"Tax : $%.2f\" % (tax), \"\\n\",\n",
        "      \"Overtime rate : $%.2f\" % (ov_rate))"
      ],
      "execution_count": null,
      "outputs": [
        {
          "output_type": "stream",
          "text": [
            "Enter Usual rate : 3\n",
            "Enter Tax : 29.99\n",
            "Enter Overtime rate : 4.1\n",
            "Usual rate : $3.00 \n",
            " Tax : $29.99 \n",
            " Overtime rate : $4.10\n"
          ],
          "name": "stdout"
        }
      ]
    },
    {
      "cell_type": "code",
      "metadata": {
        "id": "E-IMhcR8LUhw",
        "colab": {
          "base_uri": "https://localhost:8080/"
        },
        "outputId": "d4cb3bad-bacc-4bc1-a171-45432a5fda80"
      },
      "source": [
        "# 007-1 ASSIGNMENT-008/2 (PROFIT CALCULATION)\n",
        "# Task - 1 : You work for a manufacturer as a programmer and have been asked to calculate the total profit made on the sales of a product. \n",
        "# You are given a dictionary (sales) containing the cost price per unit (in dollars), sell price per unit (in dollars), and the beginning inventory. \n",
        "# Write a program to return the total profit made, rounded to the nearest dollar. Assume all of the inventory has been sold. \n",
        "# The name and the keys of the dictionary are constant, so use them as they are.\n",
        "\n",
        "# Task - 1 :\n",
        "sales = {\n",
        "  \"cost_value\": 31.87,\n",
        "  \"sell_value\": 45.00,\n",
        "  \"inventory\": 1000\n",
        "}\n",
        "total_cost_value = sales[\"cost_value\"]*sales[\"inventory\"]\n",
        "total_sell_value = sales[\"sell_value\"]*sales[\"inventory\"]\n",
        "total_profit = round(total_sell_value - total_cost_value)\n",
        "print(\"# the profit will be : \", total_profit)"
      ],
      "execution_count": null,
      "outputs": [
        {
          "output_type": "stream",
          "text": [
            "# the profit will be :  13130\n"
          ],
          "name": "stdout"
        }
      ]
    },
    {
      "cell_type": "code",
      "metadata": {
        "id": "ZdEjkQyMLXrS",
        "colab": {
          "base_uri": "https://localhost:8080/"
        },
        "outputId": "7beafb8d-b334-4185-96ba-2a7f192b0a67"
      },
      "source": [
        "# 006 ASSIGNMENT-008/1 (The Most Frequent Element)\n",
        "# Write a program that;\n",
        "# Finds out the most frequent number in the given list.\n",
        "# Calculates its frequency.\n",
        "# Prints out the result such as :\n",
        "# Example\n",
        "# Given list\tnumbers = [1, 3, 7, 4, 3, 0, 3, 6, 3]\n",
        "# Desired Output the most frequent number is 3 and it was 4 times repeated\n",
        "# Note : You can/should use useful/necessary built-in functions and methods of the list operation.\n",
        "\n",
        "numbers = [1, 3, 7, 4, 3, 0, 3, 6, 3]\n",
        "a = max(numbers, key = numbers.count)\n",
        "b = numbers.count(a)\n",
        "print(\"the most frequent number is\", a, \"and it was\", b, \"times repeated\")"
      ],
      "execution_count": null,
      "outputs": [
        {
          "output_type": "stream",
          "text": [
            "the most frequent number is 3 and it was 4 times repeated\n"
          ],
          "name": "stdout"
        }
      ]
    },
    {
      "cell_type": "code",
      "metadata": {
        "id": "S7OVvK_EWrPI",
        "colab": {
          "base_uri": "https://localhost:8080/"
        },
        "outputId": "404b81e1-f1c3-4bff-e4e9-5be48a6e4389"
      },
      "source": [
        "numbers_list = [1, 3, 7, 4, 3, 0, 3, 6, 3]\n",
        "\n",
        "frequencies = {}\n",
        "for x in numbers_list:\n",
        "    if x in frequencies:\n",
        "      frequencies[x] += 1\n",
        "    else:\n",
        "      frequencies[x] = 1\n",
        "      \n",
        "print(frequencies)"
      ],
      "execution_count": null,
      "outputs": [
        {
          "output_type": "stream",
          "name": "stdout",
          "text": [
            "{1: 1, 3: 4, 7: 1, 4: 1, 0: 1, 6: 1}\n"
          ]
        }
      ]
    },
    {
      "cell_type": "code",
      "metadata": {
        "colab": {
          "base_uri": "https://localhost:8080/"
        },
        "id": "RDmSOVfQhNUC",
        "outputId": "c73a629a-1c0d-43c0-a466-5aac07fb82de"
      },
      "source": [
        "numbers = [1, 3, 7, 4, 3, 0, 3, 6, 3]\n",
        "print(\"Given List:\\n\", numbers)\n",
        "mfe = max(set(numbers), key = numbers.count)\n",
        "print(\"The most frequent number is\",  mfe, \"and it was\", numbers.count(mfe), \"times repeated.\")"
      ],
      "execution_count": null,
      "outputs": [
        {
          "output_type": "stream",
          "text": [
            "Given List:\n",
            " [1, 3, 7, 4, 3, 0, 3, 6, 3]\n",
            "The most frequent number is 3 and it was 4 times repeated.\n"
          ],
          "name": "stdout"
        }
      ]
    },
    {
      "cell_type": "code",
      "metadata": {
        "colab": {
          "base_uri": "https://localhost:8080/"
        },
        "id": "2K9OIsx50p7t",
        "outputId": "d8e6af24-0a4d-4c8b-b25d-d5c355f8c28c"
      },
      "source": [
        "numbers = [1, 3, 7, 4, 3, 0, 3, 6, 3]\n",
        "frequency = [[numbers.count(0), \"0\"], \n",
        "             [numbers.count(1), \"1\"], \n",
        "             [numbers.count(3), \"3\"],\n",
        "             [numbers.count(4), \"4\"],\n",
        "             [numbers.count(6),\"6\"],\n",
        "             [numbers.count(7), \"7\"]\n",
        "            ]\n",
        "frequency.sort()\n",
        "frequency            \n",
        "print(\"The most frequent number is\", frequency[-1][1], \"and it was\", frequency[-1][0], \"times repeated.\")"
      ],
      "execution_count": null,
      "outputs": [
        {
          "output_type": "stream",
          "text": [
            "The most frequent number is 3 and it was 4 times repeated.\n"
          ],
          "name": "stdout"
        }
      ]
    },
    {
      "cell_type": "code",
      "metadata": {
        "colab": {
          "base_uri": "https://localhost:8080/"
        },
        "id": "sk9vq7JyJvB5",
        "outputId": "5fa194e2-2001-4846-9b4f-f0ba95e677e7"
      },
      "source": [
        "# 005 ASSIGNMENT-008/5 (LEAP YEAR)\n",
        "# Find out if a given year is a \"leap\" year. In the Gregorian calendar, three criteria must be taken into account to identify leap years:\n",
        "# 1.\tThe year must be evenly divisible by 4;\n",
        "# 2.\tIf the year can also be evenly divided by 100, it is not a leap year; unless...\n",
        "# 3.\tThe year is also evenly divisible by 400. Then it is a leap year.\n",
        "# According to these rules, the years 2000 and 2400 are leap years, while 1800, 1900, 2100, 2200, 2300, and 2500 are not the leap years.\n",
        "# Write a Python program that; Takes a 4-digit year from the user, Prints True if the given year by the user is a leap year, prints False otherwise.\n",
        "# Note that; this question is famous on the web, so that do it yourself to get more benefits from it.\n",
        "\n",
        "year = int(input(\"Enter Year: \"))\n",
        "print(bool(year % 4 == 0) and bool(year % 100 != 0) or bool(year % 400 == 0))"
      ],
      "execution_count": null,
      "outputs": [
        {
          "output_type": "stream",
          "text": [
            "Enter Year: 2100\n",
            "False\n"
          ],
          "name": "stdout"
        }
      ]
    },
    {
      "cell_type": "code",
      "metadata": {
        "colab": {
          "base_uri": "https://localhost:8080/"
        },
        "id": "tA2-ZFFDbCHO",
        "outputId": "2a1adacf-ca8f-4a83-91d3-128b14a595f5"
      },
      "source": [
        "# 004 ASSIGNMENT-008/4 (BOOLEAN TRUTHY)\n",
        "# Using the all following items once each, set a correct boolean expression that returns write me. \n",
        "# Use the print() function to display the result.\n",
        "\n",
        "# 0\n",
        "# and\n",
        "# not\n",
        "# \"write me\"\n",
        "# Input\t                Output\n",
        "# print(False or {})\t  {}\n",
        "\n",
        "print(not 0 and \"write me\")"
      ],
      "execution_count": null,
      "outputs": [
        {
          "output_type": "stream",
          "text": [
            "write me\n"
          ],
          "name": "stdout"
        }
      ]
    },
    {
      "cell_type": "code",
      "metadata": {
        "id": "pLh8yEFFKqD5",
        "colab": {
          "base_uri": "https://localhost:8080/"
        },
        "outputId": "2795fe40-2424-4d0c-c36f-1a9cf0b754f9"
      },
      "source": [
        "# 003 ASSIGNMENT-008/3 (COVID-19 RISK)\n",
        "# Task : Estimating the risk of death from coronavirus. Consider the following questions in terms of True/False \n",
        "# regarding anyone else. \n",
        "# Are you a cigarette addict older than 75 years old? Variable → age\n",
        "# Do you have a severe chronic disease? Variable → chronic\n",
        "# Is your immune system too weak? Variable → immune\n",
        "# Set a logical algorithm using boolean logic operators (and/or) and the given variables in order to give us \n",
        "# True (there is a risk of death) or False (there is not a risk of death) as a result.\n",
        "# age =  # can be assigned only True/False\n",
        "# chronic =  # can be assigned only True/False\n",
        "# immune =  # can be assigned only True/False\n",
        "# risk = ? (True or False)\n",
        "\n",
        "age = input(\"Are you a cigarette addict older than 75 years old? (Yes/No) \").title().strip() == \"Yes\"\n",
        "cronic = input(\"Do you have a severe chronic disease? (Yes/No) \").title().strip() == \"Yes\"\n",
        "immune = input(\"Is your immune system too weak? (Yes/No) \").title().strip() == \"Yes\"\n",
        "\n",
        "risk = age or cronic or immune\n",
        "print(risk)"
      ],
      "execution_count": null,
      "outputs": [
        {
          "output_type": "stream",
          "text": [
            "Are you a cigarette addict older than 75 years old? (Yes/No) Yes\n",
            "Do you have a severe chronic disease? (Yes/No) yes\n",
            "Is your immune system too weak? (Yes/No) no\n",
            "True\n"
          ],
          "name": "stdout"
        }
      ]
    },
    {
      "cell_type": "code",
      "metadata": {
        "colab": {
          "base_uri": "https://localhost:8080/"
        },
        "id": "LWn4wPoCZ6bN",
        "outputId": "40c9f940-f347-42c5-b4ff-e5a5f6f94f2f"
      },
      "source": [
        "age = input(\"Are you a cigarette addict older than 75 years old? (# True or False)\" )\n",
        "chronic = input(\"Do you have a severe chronic disease? (# True or False)\")\n",
        "immune = input(\"Is your immune system too weak?(# True or False)\")\n",
        "\n",
        "print(age.capitalize() and (chronic.capitalize() or immune.capitalize()))"
      ],
      "execution_count": null,
      "outputs": [
        {
          "output_type": "stream",
          "name": "stdout",
          "text": [
            "Are you a cigarette addict older than 75 years old? (# True or False)true\n",
            "Do you have a severe chronic disease? (# True or False)false\n",
            "Is your immune system too weak?(# True or False)true\n",
            "False\n"
          ]
        }
      ]
    },
    {
      "cell_type": "code",
      "metadata": {
        "id": "ucQdbSJuZrYC",
        "colab": {
          "base_uri": "https://localhost:8080/"
        },
        "outputId": "4500d3ae-6cb9-487e-f089-e42b23d06364"
      },
      "source": [
        "# 002-2 ASSIGNMENT-008/2 (MEASUREMENT CONVERTER)\n",
        "# Task-2: Write a short Python program that asks the user to enter a distance (it can be a decimal number) \n",
        "# in kilometers, converts the entered distance into miles and prints the result.\n",
        "\n",
        "distance_in_km = float(input(\"Please, enter the distance in kilometer!\"))\n",
        "print(distance_in_km, \"km\")\n",
        "print(distance_in_km*0.621371, \"miles\")"
      ],
      "execution_count": null,
      "outputs": [
        {
          "output_type": "stream",
          "name": "stdout",
          "text": [
            "Please, enter the distance in kilometer!5\n",
            "5.0 km\n",
            "3.106855 miles\n"
          ]
        }
      ]
    },
    {
      "cell_type": "code",
      "metadata": {
        "colab": {
          "base_uri": "https://localhost:8080/"
        },
        "id": "yBp0IXS4Hrev",
        "outputId": "f226298c-6331-413a-bee7-69badc712236"
      },
      "source": [
        "# 002-1 ASSIGNMENT-008/2 (MEASUREMENT CONVERTER)\n",
        "# Task-1: Write a short Python program that asks the user to enter Celsius temperature \n",
        "# (it can be a decimal number), converts the entered temperature into Fahrenheit degree and prints the result.\n",
        "\n",
        "temperature = int(input(\"Please, enter the temperature in celcius!\"))\n",
        "print(temperature, \"C\")\n",
        "if int(temperature) == 0:\n",
        "  print(int(temperature) + 32, \"F\") \n",
        "else:\n",
        "  print(((int(temperature) * 5 ) / 2) + 32, \"F\")"
      ],
      "execution_count": null,
      "outputs": [
        {
          "output_type": "stream",
          "name": "stdout",
          "text": [
            "Please, enter the temperature in celcius!5\n",
            "5 C\n",
            "44.5 F\n"
          ]
        }
      ]
    },
    {
      "cell_type": "code",
      "metadata": {
        "colab": {
          "base_uri": "https://localhost:8080/"
        },
        "id": "VrK3B0TjNnrh",
        "outputId": "e4a00acc-a520-4632-dd67-2c0170ec5511"
      },
      "source": [
        "# 001 ASSIGNMENT-008/1 (PROFIT CALCULATOR)\n",
        "# Write a Python code on your Playground/IDE and submit your code (answer) as a plain text.\n",
        "# PROBLEM : If you had deposited a coin on the cryptocurrency exchange that brought 7% fixed profit daily for a week, \n",
        "# how much would your $ 1000 reach at the end of the 7th day?\n",
        "\n",
        "depozit = 1000\n",
        "fixed_profit_daily = 0.07\n",
        "duration = 7\n",
        "earning_rate = (1 + fixed_profit_daily)**duration\n",
        "gain = depozit * earning_rate\n",
        "print(gain)"
      ],
      "execution_count": null,
      "outputs": [
        {
          "output_type": "stream",
          "text": [
            "1605.7814764784307\n"
          ],
          "name": "stdout"
        }
      ]
    }
  ]
}
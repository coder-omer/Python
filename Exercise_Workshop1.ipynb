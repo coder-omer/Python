{
  "nbformat": 4,
  "nbformat_minor": 0,
  "metadata": {
    "colab": {
      "name": "Exercise_Workshop1.ipynb",
      "provenance": [],
      "collapsed_sections": [],
      "authorship_tag": "ABX9TyPUaz0BezofDc8+wqo4NoEU",
      "include_colab_link": true
    },
    "kernelspec": {
      "name": "python3",
      "display_name": "Python 3"
    },
    "language_info": {
      "name": "python"
    }
  },
  "cells": [
    {
      "cell_type": "markdown",
      "metadata": {
        "id": "view-in-github",
        "colab_type": "text"
      },
      "source": [
        "<a href=\"https://colab.research.google.com/github/coder-omer/Python/blob/main/Exercise_Workshop1.ipynb\" target=\"_parent\"><img src=\"https://colab.research.google.com/assets/colab-badge.svg\" alt=\"Open In Colab\"/></a>"
      ]
    },
    {
      "cell_type": "code",
      "metadata": {
        "colab": {
          "base_uri": "https://localhost:8080/"
        },
        "id": "SC_Lf0Rhhut3",
        "outputId": "4bde1728-71e5-42a2-9dd8-75e63d57f16d"
      },
      "source": [
        "print(\"Bu program girilecek üç sayının çarpımını bulacak bir programdır\")\n",
        "\n",
        "sayi1=input(\"Birinci sayıyı girin: \")  #str formatında giriş yapar\n",
        "\n",
        "sayi2=input(\"İkinci sayıyı girin: \")\n",
        "\n",
        "sayi3=input(\"Üçüncü sayıyı girin: \")\n",
        "\n",
        "print(\"birinci sayiniz:\", sayi1)\n",
        "\n",
        "print(\"ikinci sayiniz:\", sayi2)\n",
        "\n",
        "print(\"üçüncü sayiniz:\", sayi3)\n",
        "\n",
        "carpim = int(sayi1) * int(sayi2) * int(sayi3) \n",
        "\n",
        "print(\"girdiğiniz sayıların çarpımı:\",carpim)"
      ],
      "execution_count": null,
      "outputs": [
        {
          "output_type": "stream",
          "name": "stdout",
          "text": [
            "Bu program girilecek üç sayının çarpımını bulacak bir programdır\n",
            "Birinci sayıyı girin: 2\n",
            "İkinci sayıyı girin: 3\n",
            "Üçüncü sayıyı girin: 4\n",
            "birinci sayiniz: 2\n",
            "ikinci sayiniz: 3\n",
            "üçüncü sayiniz: 4\n",
            "girdiğiniz sayıların çarpımı: 24\n"
          ]
        }
      ]
    },
    {
      "cell_type": "code",
      "metadata": {
        "colab": {
          "base_uri": "https://localhost:8080/"
        },
        "id": "ycF_WvWekqMt",
        "outputId": "828b372a-952e-4d8c-f0df-a0468c723605"
      },
      "source": [
        "print(\"Vücut Kitle Endeksi Hesaplama Programı\")\n",
        "\n",
        "height = float(input(\"Boy (m):\"))\n",
        "weight = int(input(\"Kilo (kg):\"))\n",
        " \n",
        "endeks  = weight/(height*height)\n",
        " \n",
        "print('Vücut Kitle Endeksiniz:', endeks)"
      ],
      "execution_count": null,
      "outputs": [
        {
          "output_type": "stream",
          "name": "stdout",
          "text": [
            "Vücut Kitle Endeksi Hesaplama Programı\n",
            "Boy (m):170\n",
            "Kilo (kg):76\n",
            "Vücut Kitle Endeksiniz: 0.002629757785467128\n"
          ]
        }
      ]
    },
    {
      "cell_type": "code",
      "metadata": {
        "colab": {
          "base_uri": "https://localhost:8080/"
        },
        "id": "HJe27Mowmczy",
        "outputId": "ea58e15b-b87c-4de0-e15a-2221e5bbe031"
      },
      "source": [
        "print('Alışveriş Programı')\n",
        "\n",
        "eldeki_para=200\n",
        "\n",
        "malzeme_parasi=11\n",
        "\n",
        "print('elimizdeki para ile alabileceğimiz malzeme sayisi:', 200 // 11)\n",
        "\n",
        "print('malzemeleri aldıktan sonra elimizde kalan para miktarı:', 200 % 11)\n"
      ],
      "execution_count": null,
      "outputs": [
        {
          "output_type": "stream",
          "name": "stdout",
          "text": [
            "Alışveriş Programı\n",
            "elimizdeki para ile alabileceğimiz malzeme sayisi: 18\n",
            "malzemeleri aldıktan sonra elimizde kalan para miktarı: 2\n"
          ]
        }
      ]
    },
    {
      "cell_type": "code",
      "metadata": {
        "colab": {
          "base_uri": "https://localhost:8080/"
        },
        "id": "QxfwwUkomc2i",
        "outputId": "e8cffa8a-3b2d-4246-b61a-54b283803868"
      },
      "source": [
        "print('Değişkenlerin Değerlerini Değiştirme Programı')\n",
        "\n",
        "birincisayi=input(\"Birinci sayıyı girin: \")\n",
        "\n",
        "ikincisayi=input(\"İkinci sayıyı girin: \")\n",
        "\n",
        "gecicidegisken=int(birincisayi)\n",
        "\n",
        "birincisayi=int(ikincisayi)\n",
        "\n",
        "ikincisayi=int(gecicidegisken)\n",
        "\n",
        "print('girdiğiniz sayıların yerleri değiştirilmiştir')\n",
        "\n",
        "print('birinci sayı:', birincisayi)\n",
        "\n",
        "print('ikincisayi:',ikincisayi)\n"
      ],
      "execution_count": null,
      "outputs": [
        {
          "output_type": "stream",
          "name": "stdout",
          "text": [
            "Değişkenlerin Değerlerini Değiştirme Programı\n",
            "Birinci sayıyı girin: 15\n",
            "İkinci sayıyı girin: 21\n",
            "girdiğiniz sayıların yerleri değiştirilmiştir\n",
            "birinci sayı: 21\n",
            "ikincisayi: 15\n"
          ]
        }
      ]
    },
    {
      "cell_type": "code",
      "metadata": {
        "colab": {
          "base_uri": "https://localhost:8080/"
        },
        "id": "Ou9C4rnCmc5h",
        "outputId": "9831fef8-e636-4426-865f-c1bc2536f49d"
      },
      "source": [
        "x, y = 5, 3\n",
        "\n",
        "result = (x-y) * (x+y)\n",
        "\n",
        "print(\"x=5 ve y=3 ise (x-y)*(x+y)=\", int(result))\n"
      ],
      "execution_count": null,
      "outputs": [
        {
          "output_type": "stream",
          "name": "stdout",
          "text": [
            "x=5 ve y=3 ise (x-y)*(x+y)= 16\n"
          ]
        }
      ]
    },
    {
      "cell_type": "code",
      "metadata": {
        "colab": {
          "base_uri": "https://localhost:8080/"
        },
        "id": "5Vy8LBT-mdkn",
        "outputId": "4b88f845-481e-4261-f011-126f8c4586e8"
      },
      "source": [
        "kelime=input(\"kelimenizi girin: \")\n",
        "\n",
        "ayirac=input(\"ayıracınızı girin: \")\n",
        "\n",
        "tekrar=input(\"tekrar sayınızı girin: \")\n",
        "\n",
        "print ((kelime+ayirac)*(int(tekrar)-1)+kelime)"
      ],
      "execution_count": null,
      "outputs": [
        {
          "output_type": "stream",
          "name": "stdout",
          "text": [
            "kelimenizi girin: ali\n",
            "ayıracınızı girin: /\n",
            "tekrar sayınızı girin: 3\n",
            "ali/ali/ali\n"
          ]
        }
      ]
    },
    {
      "cell_type": "code",
      "metadata": {
        "colab": {
          "base_uri": "https://localhost:8080/"
        },
        "id": "U-0T6kZwmdnV",
        "outputId": "81082580-5a1b-4cf3-989b-1f6a0f901d5e"
      },
      "source": [
        "print(True and False and (not True and False) and not (True or False))"
      ],
      "execution_count": null,
      "outputs": [
        {
          "output_type": "stream",
          "name": "stdout",
          "text": [
            "False\n"
          ]
        }
      ]
    },
    {
      "cell_type": "code",
      "metadata": {
        "colab": {
          "base_uri": "https://localhost:8080/"
        },
        "id": "oP2Flb1dmdqG",
        "outputId": "122090f1-92a4-4d65-a57f-595b5238175e"
      },
      "source": [
        "print(True and False and not \"False\" and None and (\"None\" or None))"
      ],
      "execution_count": null,
      "outputs": [
        {
          "output_type": "stream",
          "name": "stdout",
          "text": [
            "False\n"
          ]
        }
      ]
    },
    {
      "cell_type": "code",
      "metadata": {
        "colab": {
          "base_uri": "https://localhost:8080/"
        },
        "id": "txY9tG25_u-F",
        "outputId": "f210ee0c-12b5-4942-f26c-f7a9da85093f"
      },
      "source": [
        "print(\"clarusway\" and 0 and not \"\" and False and (\" \" or None))"
      ],
      "execution_count": null,
      "outputs": [
        {
          "output_type": "stream",
          "name": "stdout",
          "text": [
            "0\n"
          ]
        }
      ]
    },
    {
      "cell_type": "code",
      "metadata": {
        "colab": {
          "base_uri": "https://localhost:8080/"
        },
        "id": "E964jxlN9pMF",
        "outputId": "a6494c71-00cc-4ec2-c2f1-11888e5fc971"
      },
      "source": [
        "print(False and not \"False\")"
      ],
      "execution_count": null,
      "outputs": [
        {
          "output_type": "stream",
          "name": "stdout",
          "text": [
            "False\n"
          ]
        }
      ]
    },
    {
      "cell_type": "code",
      "metadata": {
        "colab": {
          "base_uri": "https://localhost:8080/"
        },
        "id": "-p78zSH49pR5",
        "outputId": "c23f3c6b-2b34-4fef-c8cb-58f4eb2fc77a"
      },
      "source": [
        "print(False and None)"
      ],
      "execution_count": null,
      "outputs": [
        {
          "output_type": "stream",
          "name": "stdout",
          "text": [
            "False\n"
          ]
        }
      ]
    },
    {
      "cell_type": "code",
      "metadata": {
        "id": "Gq-J-1FH9pVE"
      },
      "source": [
        ""
      ],
      "execution_count": null,
      "outputs": []
    },
    {
      "cell_type": "code",
      "metadata": {
        "id": "3-MrELKl9pY1"
      },
      "source": [
        ""
      ],
      "execution_count": null,
      "outputs": []
    },
    {
      "cell_type": "code",
      "metadata": {
        "colab": {
          "base_uri": "https://localhost:8080/"
        },
        "id": "FxzLlhB9mds0",
        "outputId": "2e480a38-7c2e-47d8-f233-f531b4275572"
      },
      "source": [
        "print(\"None\" or None)"
      ],
      "execution_count": null,
      "outputs": [
        {
          "output_type": "stream",
          "name": "stdout",
          "text": [
            "None\n"
          ]
        }
      ]
    },
    {
      "cell_type": "code",
      "metadata": {
        "colab": {
          "base_uri": "https://localhost:8080/"
        },
        "id": "BVV1Qp9JmdvZ",
        "outputId": "f0bc94d0-dd54-429b-b679-e9e6282b0606"
      },
      "source": [
        "print(bool(\"None\"))"
      ],
      "execution_count": null,
      "outputs": [
        {
          "output_type": "stream",
          "name": "stdout",
          "text": [
            "True\n"
          ]
        }
      ]
    },
    {
      "cell_type": "code",
      "metadata": {
        "colab": {
          "base_uri": "https://localhost:8080/"
        },
        "id": "WfIKB0WlmdyW",
        "outputId": "f8e6d52e-732e-4645-ef3d-f7308de10319"
      },
      "source": [
        "print(bool(\"False\"))"
      ],
      "execution_count": null,
      "outputs": [
        {
          "output_type": "stream",
          "name": "stdout",
          "text": [
            "True\n"
          ]
        }
      ]
    }
  ]
}
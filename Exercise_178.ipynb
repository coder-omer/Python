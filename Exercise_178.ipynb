{
  "nbformat": 4,
  "nbformat_minor": 0,
  "metadata": {
    "colab": {
      "name": "Exercise_178.ipynb",
      "provenance": [],
      "collapsed_sections": [],
      "include_colab_link": true
    },
    "kernelspec": {
      "name": "python3",
      "display_name": "Python 3"
    },
    "language_info": {
      "name": "python"
    }
  },
  "cells": [
    {
      "cell_type": "markdown",
      "metadata": {
        "id": "view-in-github",
        "colab_type": "text"
      },
      "source": [
        "<a href=\"https://colab.research.google.com/github/coder-omer/Python/blob/main/Exercise_178.ipynb\" target=\"_parent\"><img src=\"https://colab.research.google.com/assets/colab-badge.svg\" alt=\"Open In Colab\"/></a>"
      ]
    },
    {
      "cell_type": "markdown",
      "source": [
        "Exercise_178\n",
        "\n",
        "You certainly can tell which is the larger number between 210 and 215.\n",
        "\n",
        "But what about, say, 210 and 310? You know this one too.\n",
        "\n",
        "Things tend to get a bit more complicated with both different bases and exponents: which is larger between 39 and 56?\n",
        "\n",
        "Well, by now you have surely guessed that you have to build a function to compare powers, returning -1 if the first member is larger, 0 if they are equal, 1 otherwise; powers to compare will be provided in the [base, exponent] format:\n",
        "\n",
        "compare_powers([2,10],[2,15])==1\n",
        "\n",
        "compare_powers([2,10],[3,10])==1\n",
        "\n",
        "compare_powers([2,10],[2,10])==0\n",
        "\n",
        "compare_powers([3,9],[5,6])==-1\n",
        "\n",
        "compare_powers([7,7],[5,8])==-1\n",
        "\n",
        "Only positive integers will be tested, incluing bigger numbers - you are warned now, so be diligent try to implement an efficient solution not to drain too much on CW resources ;)!"
      ],
      "metadata": {
        "id": "AeVAFgsRSP3k"
      }
    },
    {
      "cell_type": "code",
      "source": [
        ""
      ],
      "metadata": {
        "id": "oAm-n7l4c1FL"
      },
      "execution_count": null,
      "outputs": []
    },
    {
      "cell_type": "code",
      "source": [
        "num1= list(map(int,input(\"pozitif bir sayı ve kuvvetini giriniz:\").split()))\n",
        "num2= list(map(int,input(\"pozitif bir sayı ve kuvvetini giriniz:\").split()))"
      ],
      "metadata": {
        "id": "PQS3-2bjSNpm"
      },
      "execution_count": null,
      "outputs": []
    },
    {
      "cell_type": "code",
      "source": [
        "num1,num2"
      ],
      "metadata": {
        "colab": {
          "base_uri": "https://localhost:8080/"
        },
        "id": "TJUQuUv0DdSq",
        "outputId": "008971b9-803c-445f-993e-de6262cfb7d3"
      },
      "execution_count": null,
      "outputs": [
        {
          "output_type": "execute_result",
          "data": {
            "text/plain": [
              "([3, 5], [2, 5])"
            ]
          },
          "metadata": {},
          "execution_count": 34
        }
      ]
    },
    {
      "cell_type": "code",
      "source": [
        "num1= list(map(int,input(\"pozitif bir sayı ve kuvvetini giriniz:\").split()))\n",
        "num2= list(map(int,input(\"pozitif bir sayı ve kuvvetini giriniz:\").split()))\n",
        "compare_powers=[num1,num2]\n",
        "power=[]\n",
        "for i in compare_powers:\n",
        "    i=i[0]**i[1]\n",
        "    power.append(i)\n",
        "if power[0]>power[1]:\n",
        "   print(f\"compare_powers({num1},{num2}) ==-1\")\n",
        "elif power[0]<power[1]:\n",
        "   print(f\"compare_powers({num1},{num2}) ==1\")\n",
        "else:\n",
        "    print(f\"compare_powers({num1},{num2}) ==0\")\n"
      ],
      "metadata": {
        "colab": {
          "base_uri": "https://localhost:8080/"
        },
        "id": "DeLQkR_HDdVg",
        "outputId": "39c761b2-9ed6-4cc0-8736-55ecc0909b93"
      },
      "execution_count": null,
      "outputs": [
        {
          "output_type": "stream",
          "name": "stdout",
          "text": [
            "pozitif bir sayı ve kuvvetini giriniz:5 6\n",
            "pozitif bir sayı ve kuvvetini giriniz:4 7\n",
            "15625\n",
            "16384\n",
            "compare_powers([5, 6],[4, 7]) ==-1\n"
          ]
        }
      ]
    },
    {
      "cell_type": "code",
      "source": [
        "def compare_powers(a,b):\n",
        "  num1 , num2 =a[0]**a[1] ,b[0]**b[1] \n",
        "  return -1 if num1>num2 else 1 if num1<num2 else 0\n",
        "\n",
        "compare_powers([5,6],[4,7])\n"
      ],
      "metadata": {
        "colab": {
          "base_uri": "https://localhost:8080/"
        },
        "id": "3vzBffpoGVhO",
        "outputId": "b61eb725-4903-4f87-9824-3f666b3a792d"
      },
      "execution_count": null,
      "outputs": [
        {
          "output_type": "execute_result",
          "data": {
            "text/plain": [
              "1"
            ]
          },
          "metadata": {},
          "execution_count": 23
        }
      ]
    },
    {
      "cell_type": "code",
      "source": [
        "def compare_powers(a,b):\n",
        "  num1 , num2 =a[0]**a[1] ,b[0]**b[1] \n",
        "  return -1 if num1>num2 else 1 if num1<num2 else 0\n",
        "\n",
        "compare_powers([7,7],[5,8])"
      ],
      "metadata": {
        "colab": {
          "base_uri": "https://localhost:8080/"
        },
        "id": "hUWdQXRrP02n",
        "outputId": "96176e38-640f-4a24-a777-70fd4f3f715d"
      },
      "execution_count": null,
      "outputs": [
        {
          "output_type": "execute_result",
          "data": {
            "text/plain": [
              "-1"
            ]
          },
          "metadata": {},
          "execution_count": 25
        }
      ]
    },
    {
      "cell_type": "code",
      "source": [
        "compare_powers([2,10],[2,10]]"
      ],
      "metadata": {
        "colab": {
          "base_uri": "https://localhost:8080/"
        },
        "id": "n3KzTN9UOp0D",
        "outputId": "b69ab998-2244-4c11-9b0e-3a81cd27f86a"
      },
      "execution_count": null,
      "outputs": [
        {
          "output_type": "execute_result",
          "data": {
            "text/plain": [
              "0"
            ]
          },
          "metadata": {},
          "execution_count": 16
        }
      ]
    },
    {
      "cell_type": "code",
      "source": [
        "compare_powers([3,10],[2,10])"
      ],
      "metadata": {
        "colab": {
          "base_uri": "https://localhost:8080/"
        },
        "id": "IUMdeHpeOp3l",
        "outputId": "a32d9823-5ded-4cd6-c23f-38b9dbb488ca"
      },
      "execution_count": null,
      "outputs": [
        {
          "output_type": "execute_result",
          "data": {
            "text/plain": [
              "1"
            ]
          },
          "metadata": {},
          "execution_count": 17
        }
      ]
    },
    {
      "cell_type": "code",
      "source": [
        "compare_powers([2400, 4800],[3000, 4000])"
      ],
      "metadata": {
        "colab": {
          "base_uri": "https://localhost:8080/"
        },
        "id": "7AupPI4vOp67",
        "outputId": "366f2c4d-47f5-472e-e212-1dccd3b352f5"
      },
      "execution_count": null,
      "outputs": [
        {
          "output_type": "execute_result",
          "data": {
            "text/plain": [
              "-1"
            ]
          },
          "metadata": {},
          "execution_count": 21
        }
      ]
    },
    {
      "cell_type": "code",
      "source": [
        "5%7"
      ],
      "metadata": {
        "colab": {
          "base_uri": "https://localhost:8080/"
        },
        "id": "znb9Fpry2NPR",
        "outputId": "ff9f2d89-49bc-4d49-ade2-e4e4cd1893ab"
      },
      "execution_count": null,
      "outputs": [
        {
          "output_type": "execute_result",
          "data": {
            "text/plain": [
              "5"
            ]
          },
          "metadata": {},
          "execution_count": 1
        }
      ]
    },
    {
      "cell_type": "code",
      "source": [
        "def josephus(n,k):\n",
        "  n_list=[i for i in range(1,n+1)]\n",
        "  print(n_list)\n",
        "  i=0\n",
        "  result=[]\n",
        "  while len(n_list)>1:\n",
        "    i=(k+i-1)%len(n_list)\n",
        "    print(i)\n",
        "    result.append(n_list.pop(i))\n",
        "    print(result)\n",
        "  return result\n",
        "josephus(7,3)"
      ],
      "metadata": {
        "colab": {
          "base_uri": "https://localhost:8080/"
        },
        "id": "4VmnkKH63tnI",
        "outputId": "55ec0de6-d69b-46a5-95bc-a7fbbf15377e"
      },
      "execution_count": null,
      "outputs": [
        {
          "output_type": "stream",
          "name": "stdout",
          "text": [
            "[1, 2, 3, 4, 5, 6, 7]\n",
            "2\n",
            "[3]\n",
            "4\n",
            "[3, 6]\n",
            "1\n",
            "[3, 6, 2]\n",
            "3\n",
            "[3, 6, 2, 7]\n",
            "2\n",
            "[3, 6, 2, 7, 5]\n",
            "0\n",
            "[3, 6, 2, 7, 5, 1]\n"
          ]
        },
        {
          "output_type": "execute_result",
          "data": {
            "text/plain": [
              "[3, 6, 2, 7, 5, 1]"
            ]
          },
          "metadata": {},
          "execution_count": 5
        }
      ]
    },
    {
      "cell_type": "code",
      "source": [
        "string = \"444996, 699990, 666690, 096904, 600644, 640646, 606469, 409694, 666094, 606490\"\n",
        "str_list= string.split(\", \")\n",
        "str_list\n",
        "#str_list[0][2] ==str_list[1][2]"
      ],
      "metadata": {
        "colab": {
          "base_uri": "https://localhost:8080/"
        },
        "id": "95eCWACu52ue",
        "outputId": "0dcc1917-7848-4a48-b34c-7abd25a8b804"
      },
      "execution_count": null,
      "outputs": [
        {
          "output_type": "execute_result",
          "data": {
            "text/plain": [
              "['444996',\n",
              " '699990',\n",
              " '666690',\n",
              " '096904',\n",
              " '600644',\n",
              " '640646',\n",
              " '606469',\n",
              " '409694',\n",
              " '666094',\n",
              " '606490']"
            ]
          },
          "metadata": {},
          "execution_count": 36
        }
      ]
    },
    {
      "cell_type": "code",
      "source": [
        "string = \"444996, 699990, 666690, 096904, 600644, 640646, 606469, 409694, 666094, 606490\"\n",
        "str_list= string.split(\", \")\n",
        "kesişen=[]\n",
        "k=9\n",
        "i=0\n",
        "while i+k<10:\n",
        "  for i in range(len(str_list)):\n",
        "     for j in range(len(str_list[i])) :\n",
        "        if str_list[i][j]==str_list[i+k][j]:\n",
        "            kesişen.append(str_list[i][j])\n",
        "            k-=1\n",
        "        print(kesişen)"
      ],
      "metadata": {
        "colab": {
          "base_uri": "https://localhost:8080/",
          "height": 1000
        },
        "id": "i9U1-A3G6HwE",
        "outputId": "ebe55bf2-c7ec-4af2-f17d-2c19f9c5886c"
      },
      "execution_count": null,
      "outputs": [
        {
          "output_type": "stream",
          "name": "stdout",
          "text": [
            "[]\n",
            "[]\n",
            "[]\n",
            "[]\n",
            "['9']\n",
            "['9']\n",
            "['9', '6']\n",
            "['9', '6']\n",
            "['9', '6']\n",
            "['9', '6']\n",
            "['9', '6', '9']\n",
            "['9', '6', '9']\n",
            "['9', '6', '9', '6']\n",
            "['9', '6', '9', '6']\n",
            "['9', '6', '9', '6']\n",
            "['9', '6', '9', '6', '6']\n",
            "['9', '6', '9', '6', '6']\n",
            "['9', '6', '9', '6', '6']\n",
            "['9', '6', '9', '6', '6']\n",
            "['9', '6', '9', '6', '6']\n",
            "['9', '6', '9', '6', '6']\n",
            "['9', '6', '9', '6', '6']\n",
            "['9', '6', '9', '6', '6']\n",
            "['9', '6', '9', '6', '6', '4']\n",
            "['9', '6', '9', '6', '6', '4']\n",
            "['9', '6', '9', '6', '6', '4', '0']\n",
            "['9', '6', '9', '6', '6', '4', '0']\n",
            "['9', '6', '9', '6', '6', '4', '0']\n",
            "['9', '6', '9', '6', '6', '4', '0']\n",
            "['9', '6', '9', '6', '6', '4', '0']\n",
            "['9', '6', '9', '6', '6', '4', '0']\n",
            "['9', '6', '9', '6', '6', '4', '0']\n",
            "['9', '6', '9', '6', '6', '4', '0']\n",
            "['9', '6', '9', '6', '6', '4', '0', '6']\n",
            "['9', '6', '9', '6', '6', '4', '0', '6']\n",
            "['9', '6', '9', '6', '6', '4', '0', '6']\n",
            "['9', '6', '9', '6', '6', '4', '0', '6']\n",
            "['9', '6', '9', '6', '6', '4', '0', '6', '0']\n",
            "['9', '6', '9', '6', '6', '4', '0', '6', '0', '6']\n",
            "['9', '6', '9', '6', '6', '4', '0', '6', '0', '6']\n",
            "['9', '6', '9', '6', '6', '4', '0', '6', '0', '6']\n",
            "['9', '6', '9', '6', '6', '4', '0', '6', '0', '6']\n",
            "['9', '6', '9', '6', '6', '4', '0', '6', '0', '6']\n",
            "['9', '6', '9', '6', '6', '4', '0', '6', '0', '6', '0']\n",
            "['9', '6', '9', '6', '6', '4', '0', '6', '0', '6', '0']\n",
            "['9', '6', '9', '6', '6', '4', '0', '6', '0', '6', '0', '6']\n",
            "['9', '6', '9', '6', '6', '4', '0', '6', '0', '6', '0', '6']\n",
            "['9', '6', '9', '6', '6', '4', '0', '6', '0', '6', '0', '6', '4']\n",
            "['9', '6', '9', '6', '6', '4', '0', '6', '0', '6', '0', '6', '4', '6']\n",
            "['9', '6', '9', '6', '6', '4', '0', '6', '0', '6', '0', '6', '4', '6']\n",
            "['9', '6', '9', '6', '6', '4', '0', '6', '0', '6', '0', '6', '4', '6', '6']\n",
            "['9', '6', '9', '6', '6', '4', '0', '6', '0', '6', '0', '6', '4', '6', '6']\n",
            "['9', '6', '9', '6', '6', '4', '0', '6', '0', '6', '0', '6', '4', '6', '6', '9']\n",
            "['9', '6', '9', '6', '6', '4', '0', '6', '0', '6', '0', '6', '4', '6', '6', '9']\n",
            "['9', '6', '9', '6', '6', '4', '0', '6', '0', '6', '0', '6', '4', '6', '6', '9', '6']\n",
            "['9', '6', '9', '6', '6', '4', '0', '6', '0', '6', '0', '6', '4', '6', '6', '9', '6']\n",
            "['9', '6', '9', '6', '6', '4', '0', '6', '0', '6', '0', '6', '4', '6', '6', '9', '6']\n",
            "['9', '6', '9', '6', '6', '4', '0', '6', '0', '6', '0', '6', '4', '6', '6', '9', '6']\n",
            "['9', '6', '9', '6', '6', '4', '0', '6', '0', '6', '0', '6', '4', '6', '6', '9', '6', '9']\n",
            "['9', '6', '9', '6', '6', '4', '0', '6', '0', '6', '0', '6', '4', '6', '6', '9', '6', '9']\n",
            "['9', '6', '9', '6', '6', '4', '0', '6', '0', '6', '0', '6', '4', '6', '6', '9', '6', '9']\n",
            "['9', '6', '9', '6', '6', '4', '0', '6', '0', '6', '0', '6', '4', '6', '6', '9', '6', '9']\n",
            "['9', '6', '9', '6', '6', '4', '0', '6', '0', '6', '0', '6', '4', '6', '6', '9', '6', '9']\n",
            "['9', '6', '9', '6', '6', '4', '0', '6', '0', '6', '0', '6', '4', '6', '6', '9', '6', '9', '9']\n",
            "['9', '6', '9', '6', '6', '4', '0', '6', '0', '6', '0', '6', '4', '6', '6', '9', '6', '9', '9', '9']\n"
          ]
        },
        {
          "output_type": "error",
          "ename": "IndexError",
          "evalue": "ignored",
          "traceback": [
            "\u001b[0;31m---------------------------------------------------------------------------\u001b[0m",
            "\u001b[0;31mIndexError\u001b[0m                                Traceback (most recent call last)",
            "\u001b[0;32m<ipython-input-48-e5db9535941f>\u001b[0m in \u001b[0;36m<module>\u001b[0;34m()\u001b[0m\n\u001b[1;32m      7\u001b[0m   \u001b[0;32mfor\u001b[0m \u001b[0mi\u001b[0m \u001b[0;32min\u001b[0m \u001b[0mrange\u001b[0m\u001b[0;34m(\u001b[0m\u001b[0mlen\u001b[0m\u001b[0;34m(\u001b[0m\u001b[0mstr_list\u001b[0m\u001b[0;34m)\u001b[0m\u001b[0;34m)\u001b[0m\u001b[0;34m:\u001b[0m\u001b[0;34m\u001b[0m\u001b[0;34m\u001b[0m\u001b[0m\n\u001b[1;32m      8\u001b[0m      \u001b[0;32mfor\u001b[0m \u001b[0mj\u001b[0m \u001b[0;32min\u001b[0m \u001b[0mrange\u001b[0m\u001b[0;34m(\u001b[0m\u001b[0mlen\u001b[0m\u001b[0;34m(\u001b[0m\u001b[0mstr_list\u001b[0m\u001b[0;34m[\u001b[0m\u001b[0mi\u001b[0m\u001b[0;34m]\u001b[0m\u001b[0;34m)\u001b[0m\u001b[0;34m)\u001b[0m \u001b[0;34m:\u001b[0m\u001b[0;34m\u001b[0m\u001b[0;34m\u001b[0m\u001b[0m\n\u001b[0;32m----> 9\u001b[0;31m         \u001b[0;32mif\u001b[0m \u001b[0mstr_list\u001b[0m\u001b[0;34m[\u001b[0m\u001b[0mi\u001b[0m\u001b[0;34m]\u001b[0m\u001b[0;34m[\u001b[0m\u001b[0mj\u001b[0m\u001b[0;34m]\u001b[0m\u001b[0;34m==\u001b[0m\u001b[0mstr_list\u001b[0m\u001b[0;34m[\u001b[0m\u001b[0mi\u001b[0m\u001b[0;34m+\u001b[0m\u001b[0mk\u001b[0m\u001b[0;34m]\u001b[0m\u001b[0;34m[\u001b[0m\u001b[0mj\u001b[0m\u001b[0;34m]\u001b[0m\u001b[0;34m:\u001b[0m\u001b[0;34m\u001b[0m\u001b[0;34m\u001b[0m\u001b[0m\n\u001b[0m\u001b[1;32m     10\u001b[0m             \u001b[0mkesişen\u001b[0m\u001b[0;34m.\u001b[0m\u001b[0mappend\u001b[0m\u001b[0;34m(\u001b[0m\u001b[0mstr_list\u001b[0m\u001b[0;34m[\u001b[0m\u001b[0mi\u001b[0m\u001b[0;34m]\u001b[0m\u001b[0;34m[\u001b[0m\u001b[0mj\u001b[0m\u001b[0;34m]\u001b[0m\u001b[0;34m)\u001b[0m\u001b[0;34m\u001b[0m\u001b[0;34m\u001b[0m\u001b[0m\n\u001b[1;32m     11\u001b[0m             \u001b[0mk\u001b[0m\u001b[0;34m-=\u001b[0m\u001b[0;36m1\u001b[0m\u001b[0;34m\u001b[0m\u001b[0;34m\u001b[0m\u001b[0m\n",
            "\u001b[0;31mIndexError\u001b[0m: list index out of range"
          ]
        }
      ]
    },
    {
      "cell_type": "code",
      "source": [
        "string = \"444996, 699990, 666690, 096904, 600644, 640646, 606469, 409694, 666094, 606490\"\n",
        "str_list= string.split(\", \")\n",
        "kesişen=[]\n",
        "k=9\n",
        "i=0\n",
        "while k>0:\n",
        "   for i in range(len(str_list)):\n",
        "     for j in range(len(str_list[i])) :\n",
        "         if i==i+k and str_list[i][j]==str_list[k][j]:\n",
        "                kesişen.append(str_list[i][j])\n",
        "                k-=1\n",
        "print(len(kesişen)/45)"
      ],
      "metadata": {
        "colab": {
          "base_uri": "https://localhost:8080/"
        },
        "id": "sAJ_uCa0EByO",
        "outputId": "3563e616-022a-4a47-c64d-1cd486fe939e"
      },
      "execution_count": null,
      "outputs": [
        {
          "output_type": "stream",
          "name": "stdout",
          "text": [
            "0.4\n"
          ]
        }
      ]
    },
    {
      "cell_type": "code",
      "source": [
        "s = list(\"444996, 699990, 666690, 096904, 600644,\\\n",
        " 640646, 606469, 409694, 666094, 606490\".split(\", \"))\n",
        "a = \"\"\n",
        "combinations = len(s)*(len(s)-1)/2*len(s[0])\n",
        "counter = 0\n",
        "while len(s) > 0:\n",
        "  a = s[0]\n",
        "  for i in s:\n",
        "    for j in range(len(i)):\n",
        "      if a != i and a[j] == i[j]:\n",
        "        counter += 1\n",
        "  s.remove(s[0])   \n",
        "print(counter) "
      ],
      "metadata": {
        "colab": {
          "base_uri": "https://localhost:8080/"
        },
        "id": "H1I8q42oEeyi",
        "outputId": "24a53e06-73c7-4150-d416-fb5d893fd2dc"
      },
      "execution_count": null,
      "outputs": [
        {
          "output_type": "stream",
          "name": "stdout",
          "text": [
            "79\n"
          ]
        }
      ]
    },
    {
      "cell_type": "code",
      "source": [
        "def pos_average(s):\n",
        "    values = s.split(\", \")\n",
        "    count, total = 0, 0\n",
        "    for i in range(len(values)-1):\n",
        "        for j in range(i+1,len(values)):\n",
        "            for k in range(len(values[i])):\n",
        "                if values[i][k] == values[j][k]: count += 1\n",
        "                total += 1\n",
        "    return count / total * 100"
      ],
      "metadata": {
        "id": "KIVvs76AEwcP"
      },
      "execution_count": null,
      "outputs": []
    },
    {
      "cell_type": "code",
      "source": [
        "string = \"444996, 699990, 666690, 096904, 600644, 640646, 606469, 409694, 666094, 606490\"\n",
        "str_list= string.split(\", \")\n",
        "kesişen=[]\n",
        "k=9\n",
        "i=0\n",
        "while k>0:\n",
        "    for:\n",
        "            if str_list[i][j]==str_list[k][j]:\n",
        "                kesişen.append(str_list[i][j])\n",
        "        k-=1\n",
        "print(len(kesişen))\n",
        "      "
      ],
      "metadata": {
        "colab": {
          "base_uri": "https://localhost:8080/"
        },
        "id": "2bwoBBFkHmsz",
        "outputId": "21497884-4de6-4571-ae0c-56d0b949fb41"
      },
      "execution_count": null,
      "outputs": [
        {
          "output_type": "stream",
          "name": "stdout",
          "text": [
            "0.6\n"
          ]
        }
      ]
    },
    {
      "cell_type": "code",
      "source": [
        "for i in range(len(str_list)):\n",
        "     for j in range(len(str_list[i])):\n",
        "     print(str_list[i][j])"
      ],
      "metadata": {
        "colab": {
          "base_uri": "https://localhost:8080/",
          "height": 133
        },
        "id": "YW0SFH3eLY2f",
        "outputId": "301fc56b-a0e3-4d0a-e675-3338011d3058"
      },
      "execution_count": null,
      "outputs": [
        {
          "output_type": "error",
          "ename": "IndentationError",
          "evalue": "ignored",
          "traceback": [
            "\u001b[0;36m  File \u001b[0;32m\"<ipython-input-77-5101c2afe070>\"\u001b[0;36m, line \u001b[0;32m3\u001b[0m\n\u001b[0;31m    print(str_list[i][j])\u001b[0m\n\u001b[0m        ^\u001b[0m\n\u001b[0;31mIndentationError\u001b[0m\u001b[0;31m:\u001b[0m expected an indented block\n"
          ]
        }
      ]
    },
    {
      "cell_type": "code",
      "source": [
        "def pos_average(s):\n",
        "    values = s.split(\", \")\n",
        "    count=[]\n",
        "    total = 0\n",
        "    for i in range(len(values)-1):\n",
        "        for j in range(i+1,len(values)):\n",
        "            for k in range(len(values[i])):\n",
        "                if values[i][k] == values[j][k]: \n",
        "                  count.append(k)\n",
        "                  total += 1\n",
        "    print(count) \n",
        "pos_average(\"444996, 699990, 666690, 096904, 600644, 640646, 606469, 409694, 666094, 606490\")"
      ],
      "metadata": {
        "colab": {
          "base_uri": "https://localhost:8080/"
        },
        "id": "rnWE98P8JJi3",
        "outputId": "6ce11a9a-14b5-4900-b45a-b0c5d3d681f9"
      },
      "execution_count": null,
      "outputs": [
        {
          "output_type": "stream",
          "name": "stdout",
          "text": [
            "[3, 4, 4, 3, 1, 5, 0, 4, 4, 4, 0, 4, 5, 1, 3, 0, 0, 0, 2, 4, 0, 4, 0, 4, 5, 2, 0, 3, 0, 3, 0, 2, 3, 4, 0, 1, 2, 4, 0, 2, 4, 5, 5, 2, 5, 2, 5, 2, 0, 2, 3, 4, 0, 1, 1, 3, 5, 0, 5, 0, 1, 0, 3, 0, 0, 1, 0, 2, 0, 1, 2, 3, 4, 5, 1, 4, 0, 2, 4]\n"
          ]
        }
      ]
    }
  ]
}
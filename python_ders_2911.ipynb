{
  "nbformat": 4,
  "nbformat_minor": 0,
  "metadata": {
    "colab": {
      "name": "python_ders_2911.ipynb",
      "provenance": [],
      "authorship_tag": "ABX9TyPm8ItZZReOMkvOmPOuikhO"
    },
    "kernelspec": {
      "name": "python3",
      "display_name": "Python 3"
    },
    "language_info": {
      "name": "python"
    }
  },
  "cells": [
    {
      "cell_type": "code",
      "metadata": {
        "colab": {
          "base_uri": "https://localhost:8080/"
        },
        "id": "cU3zxO1hezwk",
        "outputId": "d0921138-d6a8-481a-a670-5a52a90758cf"
      },
      "source": [
        "def square(x):\n",
        "  return x**2\n",
        "  print(x)\n",
        "\n",
        "square(4)\n"
      ],
      "execution_count": 6,
      "outputs": [
        {
          "output_type": "execute_result",
          "data": {
            "text/plain": [
              "16"
            ]
          },
          "metadata": {},
          "execution_count": 6
        }
      ]
    },
    {
      "cell_type": "code",
      "metadata": {
        "colab": {
          "base_uri": "https://localhost:8080/"
        },
        "id": "CwVw6g2RhlTs",
        "outputId": "417a48d9-a4b1-42b6-9f5a-36f0a05b58fa"
      },
      "source": [
        "print((lambda x: x**2)(2))"
      ],
      "execution_count": 2,
      "outputs": [
        {
          "output_type": "stream",
          "name": "stdout",
          "text": [
            "4\n"
          ]
        }
      ]
    },
    {
      "cell_type": "code",
      "metadata": {
        "colab": {
          "base_uri": "https://localhost:8080/"
        },
        "id": "YLBg1irzhlXj",
        "outputId": "77f266dc-372c-49f2-8366-724da1c2c293"
      },
      "source": [
        "lambda x: x**2\n",
        "x=2\n",
        "print(x)"
      ],
      "execution_count": 3,
      "outputs": [
        {
          "output_type": "stream",
          "name": "stdout",
          "text": [
            "2\n"
          ]
        }
      ]
    },
    {
      "cell_type": "code",
      "metadata": {
        "colab": {
          "base_uri": "https://localhost:8080/",
          "height": 35
        },
        "id": "kPBzBix6hlZ1",
        "outputId": "e635d89f-18c8-4ebd-88f5-65317cd5ba5f"
      },
      "source": [
        "(lambda x:\"odd\" if x%2 != 0 else \"even\")(3)"
      ],
      "execution_count": 7,
      "outputs": [
        {
          "output_type": "execute_result",
          "data": {
            "application/vnd.google.colaboratory.intrinsic+json": {
              "type": "string"
            },
            "text/plain": [
              "'odd'"
            ]
          },
          "metadata": {},
          "execution_count": 7
        }
      ]
    },
    {
      "cell_type": "code",
      "metadata": {
        "colab": {
          "base_uri": "https://localhost:8080/",
          "height": 35
        },
        "id": "qpnKmGUnhlcz",
        "outputId": "2129dbc4-a5cb-45a3-8243-63464d107a01"
      },
      "source": [
        "(lambda x : x[::-1])(\"deneme\")\n"
      ],
      "execution_count": 8,
      "outputs": [
        {
          "output_type": "execute_result",
          "data": {
            "application/vnd.google.colaboratory.intrinsic+json": {
              "type": "string"
            },
            "text/plain": [
              "'emened'"
            ]
          },
          "metadata": {},
          "execution_count": 8
        }
      ]
    },
    {
      "cell_type": "code",
      "metadata": {
        "colab": {
          "base_uri": "https://localhost:8080/"
        },
        "id": "XrzHl3G0hlfo",
        "outputId": "f6520ef8-05b6-4d31-c392-bd14586d0671"
      },
      "source": [
        "(lambda a,b : (a+b)/2)(3,5)"
      ],
      "execution_count": 9,
      "outputs": [
        {
          "output_type": "execute_result",
          "data": {
            "text/plain": [
              "4.0"
            ]
          },
          "metadata": {},
          "execution_count": 9
        }
      ]
    },
    {
      "cell_type": "code",
      "metadata": {
        "colab": {
          "base_uri": "https://localhost:8080/"
        },
        "id": "5-WOBcGghljL",
        "outputId": "fe6881f9-c497-4cab-fea7-33220d9edcb2"
      },
      "source": [
        " print((lambda x : x.sort(reverse=True))([1, 2, 3, 4]))"
      ],
      "execution_count": 12,
      "outputs": [
        {
          "output_type": "stream",
          "name": "stdout",
          "text": [
            "None\n"
          ]
        }
      ]
    },
    {
      "cell_type": "code",
      "metadata": {
        "colab": {
          "base_uri": "https://localhost:8080/"
        },
        "id": "tSqrpdV-8WQy",
        "outputId": "6c315639-79fe-4869-dcfb-655e9326d1a9"
      },
      "source": [
        "liste = [1, 2, 3, 4]\n",
        "\n",
        "for i in liste:\n",
        "  if i % 2 != 0:\n",
        "    print(i, \": odd\")\n",
        "  else: \n",
        "    print(i, \": even\")\n"
      ],
      "execution_count": 13,
      "outputs": [
        {
          "output_type": "stream",
          "name": "stdout",
          "text": [
            "1 : odd\n",
            "2 : even\n",
            "3 : odd\n",
            "4 : even\n"
          ]
        }
      ]
    },
    {
      "cell_type": "code",
      "metadata": {
        "colab": {
          "base_uri": "https://localhost:8080/"
        },
        "id": "FvxTRlXq8WUY",
        "outputId": "02d183c5-aac0-4f17-e341-963b1de76bc7"
      },
      "source": [
        "sayilar = [1, 2, 3, 4]\n",
        "for a in sayilar:\n",
        "  print(a, \":\", (lambda x:\"odd\" if x%2 != 0 else \"even\")(a))"
      ],
      "execution_count": 14,
      "outputs": [
        {
          "output_type": "stream",
          "name": "stdout",
          "text": [
            "1 : odd\n",
            "2 : even\n",
            "3 : odd\n",
            "4 : even\n"
          ]
        }
      ]
    },
    {
      "cell_type": "code",
      "metadata": {
        "colab": {
          "base_uri": "https://localhost:8080/"
        },
        "id": "NGtcrfm_8WXm",
        "outputId": "55f1c159-65cf-4173-b4ad-1ba74796fef1"
      },
      "source": [
        "liste1 = [1, 2, 3, 4]\n",
        "for i in liste1:\n",
        "  print(i, (lambda i:\": odd\" if i%2 != 0 else \": even\")(i))"
      ],
      "execution_count": 15,
      "outputs": [
        {
          "output_type": "stream",
          "name": "stdout",
          "text": [
            "1 : odd\n",
            "2 : even\n",
            "3 : odd\n",
            "4 : even\n"
          ]
        }
      ]
    },
    {
      "cell_type": "code",
      "metadata": {
        "colab": {
          "base_uri": "https://localhost:8080/",
          "height": 208
        },
        "id": "h6KE6p3I8WeH",
        "outputId": "16e150c4-dc1f-42fa-f724-0fe93c953362"
      },
      "source": [
        "number = [1,2,3,4,5]\n",
        "for a in number :\n",
        "    print(a, \":\" (lambda x : \"even\" if a % 2 != 0 else \"odd\")(x))"
      ],
      "execution_count": 6,
      "outputs": [
        {
          "output_type": "error",
          "ename": "TypeError",
          "evalue": "ignored",
          "traceback": [
            "\u001b[0;31m---------------------------------------------------------------------------\u001b[0m",
            "\u001b[0;31mTypeError\u001b[0m                                 Traceback (most recent call last)",
            "\u001b[0;32m<ipython-input-6-ee85984526ba>\u001b[0m in \u001b[0;36m<module>\u001b[0;34m()\u001b[0m\n\u001b[1;32m      1\u001b[0m \u001b[0mnumber\u001b[0m \u001b[0;34m=\u001b[0m \u001b[0;34m[\u001b[0m\u001b[0;36m1\u001b[0m\u001b[0;34m,\u001b[0m\u001b[0;36m2\u001b[0m\u001b[0;34m,\u001b[0m\u001b[0;36m3\u001b[0m\u001b[0;34m,\u001b[0m\u001b[0;36m4\u001b[0m\u001b[0;34m,\u001b[0m\u001b[0;36m5\u001b[0m\u001b[0;34m]\u001b[0m\u001b[0;34m\u001b[0m\u001b[0;34m\u001b[0m\u001b[0m\n\u001b[1;32m      2\u001b[0m \u001b[0;32mfor\u001b[0m \u001b[0ma\u001b[0m \u001b[0;32min\u001b[0m \u001b[0mnumber\u001b[0m \u001b[0;34m:\u001b[0m\u001b[0;34m\u001b[0m\u001b[0;34m\u001b[0m\u001b[0m\n\u001b[0;32m----> 3\u001b[0;31m     \u001b[0mprint\u001b[0m\u001b[0;34m(\u001b[0m\u001b[0ma\u001b[0m\u001b[0;34m,\u001b[0m \u001b[0;34m\":\"\u001b[0m \u001b[0;34m(\u001b[0m\u001b[0;32mlambda\u001b[0m \u001b[0mx\u001b[0m \u001b[0;34m:\u001b[0m \u001b[0;34m\"even\"\u001b[0m \u001b[0;32mif\u001b[0m \u001b[0ma\u001b[0m \u001b[0;34m%\u001b[0m \u001b[0;36m2\u001b[0m \u001b[0;34m!=\u001b[0m \u001b[0;36m0\u001b[0m \u001b[0;32melse\u001b[0m \u001b[0;34m\"odd\"\u001b[0m\u001b[0;34m)\u001b[0m\u001b[0;34m(\u001b[0m\u001b[0mx\u001b[0m\u001b[0;34m)\u001b[0m\u001b[0;34m)\u001b[0m\u001b[0;34m\u001b[0m\u001b[0;34m\u001b[0m\u001b[0m\n\u001b[0m",
            "\u001b[0;31mTypeError\u001b[0m: 'str' object is not callable"
          ]
        }
      ]
    },
    {
      "cell_type": "code",
      "metadata": {
        "id": "641TdQOi8WkE"
      },
      "source": [
        "reverser = lambda x : x[::-1]"
      ],
      "execution_count": 7,
      "outputs": []
    },
    {
      "cell_type": "code",
      "metadata": {
        "colab": {
          "base_uri": "https://localhost:8080/"
        },
        "id": "mmMsYh898WmZ",
        "outputId": "bcb3e6ca-8e54-456b-85bc-4c54853dbddc"
      },
      "source": [
        "reverser([1, 2, 3, 4])"
      ],
      "execution_count": 8,
      "outputs": [
        {
          "output_type": "execute_result",
          "data": {
            "text/plain": [
              "[4, 3, 2, 1]"
            ]
          },
          "metadata": {},
          "execution_count": 8
        }
      ]
    },
    {
      "cell_type": "code",
      "metadata": {
        "id": "liHL29qQ8Wox"
      },
      "source": [
        "fonksiyon = lambda x : x ** 2\n",
        "iterable = [1, 2, 3]"
      ],
      "execution_count": 9,
      "outputs": []
    },
    {
      "cell_type": "code",
      "metadata": {
        "colab": {
          "base_uri": "https://localhost:8080/"
        },
        "id": "IY214VQY8Wrs",
        "outputId": "fd5dbb65-7332-41e3-82fc-fd4bdf1bc35d"
      },
      "source": [
        "sonuc = map(fonksiyon, iterable)\n",
        "print(*sonuc)"
      ],
      "execution_count": 10,
      "outputs": [
        {
          "output_type": "stream",
          "name": "stdout",
          "text": [
            "1 4 9\n"
          ]
        }
      ]
    },
    {
      "cell_type": "code",
      "metadata": {
        "id": "UFMj8Q-Q8Wvb"
      },
      "source": [
        "def kare(b) :\n",
        "  return b ** 2"
      ],
      "execution_count": 11,
      "outputs": []
    },
    {
      "cell_type": "code",
      "metadata": {
        "colab": {
          "base_uri": "https://localhost:8080/"
        },
        "id": "MW2RzG3NEfRG",
        "outputId": "a43b5fb6-f52c-476f-9d58-8028bc0c350d"
      },
      "source": [
        "sonuc2 = map(kare, iterable)\n",
        "print(* sonuc2)"
      ],
      "execution_count": null,
      "outputs": [
        {
          "output_type": "stream",
          "name": "stdout",
          "text": [
            "1 4 9\n"
          ]
        }
      ]
    },
    {
      "cell_type": "code",
      "metadata": {
        "colab": {
          "base_uri": "https://localhost:8080/"
        },
        "id": "yc6q5pAhEfUF",
        "outputId": "aeddf6aa-3bc8-459d-d49f-7cf18986af9b"
      },
      "source": [
        "letter1 = ['o','s','t','t']\n",
        "letter2 = ['n','i','e','w']\n",
        "letter3 = ['e','x','n','o']\n",
        "numbers = map(lambda x, y, z: x+y+z, letter1, letter2, letter3)\n",
        "\n",
        "print(list(numbers))"
      ],
      "execution_count": 12,
      "outputs": [
        {
          "output_type": "stream",
          "name": "stdout",
          "text": [
            "['one', 'six', 'ten', 'two']\n"
          ]
        }
      ]
    },
    {
      "cell_type": "code",
      "metadata": {
        "id": "820yaLF4EfW6"
      },
      "source": [
        "num1 = [9,6,7,4]\n",
        "num2 = [3,8,11,16]"
      ],
      "execution_count": 13,
      "outputs": []
    },
    {
      "cell_type": "code",
      "metadata": {
        "id": "sNkZxn0MHmlc"
      },
      "source": [
        "func = lambda x, y : (x+y) / 2 "
      ],
      "execution_count": 14,
      "outputs": []
    },
    {
      "cell_type": "code",
      "metadata": {
        "colab": {
          "base_uri": "https://localhost:8080/"
        },
        "id": "ZXYnDKnuEfZx",
        "outputId": "754cd946-b615-4c4e-d34b-376fec4d000c"
      },
      "source": [
        "numbers = map(func, num1, num2)\n",
        "print(list(numbers))"
      ],
      "execution_count": 15,
      "outputs": [
        {
          "output_type": "stream",
          "name": "stdout",
          "text": [
            "[6.0, 7.0, 9.0, 10.0]\n"
          ]
        }
      ]
    },
    {
      "cell_type": "code",
      "metadata": {
        "colab": {
          "base_uri": "https://localhost:8080/"
        },
        "id": "Cl5tV-5XEfck",
        "outputId": "d509cbd6-02c3-4d95-b652-d8c62a3f2ba9"
      },
      "source": [
        "words1 = [\"you\",\"much\",\"hard\"]\n",
        "words2 = [\"i\",\"you\",\"he\"]\n",
        "words3 = [\"love\",\"ate\",\"works\"]\n",
        "\n",
        "sentences = map(lambda x, y, z: x + \" \" + y + \" \" + z, words2, words3, words1)\n",
        "\n",
        "for i in sentences:\n",
        "  print(i)\n"
      ],
      "execution_count": 16,
      "outputs": [
        {
          "output_type": "stream",
          "name": "stdout",
          "text": [
            "i love you\n",
            "you ate much\n",
            "he works hard\n"
          ]
        }
      ]
    },
    {
      "cell_type": "code",
      "metadata": {
        "colab": {
          "base_uri": "https://localhost:8080/"
        },
        "id": "xOcoYsFQEffj",
        "outputId": "6ad018fa-5fc3-4ab4-f072-1402983385cd"
      },
      "source": [
        "words = [\"apple\", \"swim\", \"clock\", \"me\", \"kiwi\", \"banana\"]\n",
        "print(list(filter(lambda i: len(i) < 5, words )))"
      ],
      "execution_count": 17,
      "outputs": [
        {
          "output_type": "stream",
          "name": "stdout",
          "text": [
            "['swim', 'me', 'kiwi']\n"
          ]
        }
      ]
    },
    {
      "cell_type": "code",
      "metadata": {
        "id": "0oKqFYHvEfib"
      },
      "source": [
        "vowel_list = ['a', 'e', 'i', 'o', 'u']\n",
        "first_ten = ['a', 'b', 'c', 'd', 'e', 'f', 'g', 'h', 'i', 'j']"
      ],
      "execution_count": 18,
      "outputs": []
    },
    {
      "cell_type": "code",
      "metadata": {
        "colab": {
          "base_uri": "https://localhost:8080/"
        },
        "id": "lGxpZGYI8WzN",
        "outputId": "c0ed4ebd-4e81-4ec3-9f58-9bfab71273b8"
      },
      "source": [
        "\"a\" in vowel_list"
      ],
      "execution_count": 19,
      "outputs": [
        {
          "output_type": "execute_result",
          "data": {
            "text/plain": [
              "True"
            ]
          },
          "metadata": {},
          "execution_count": 19
        }
      ]
    },
    {
      "cell_type": "code",
      "metadata": {
        "colab": {
          "base_uri": "https://localhost:8080/"
        },
        "id": "1qF3AW3dR0nk",
        "outputId": "3aced46b-2be1-4a30-feee-ba8bdf6e9deb"
      },
      "source": [
        "\"b\" in vowel_list"
      ],
      "execution_count": 20,
      "outputs": [
        {
          "output_type": "execute_result",
          "data": {
            "text/plain": [
              "False"
            ]
          },
          "metadata": {},
          "execution_count": 20
        }
      ]
    },
    {
      "cell_type": "code",
      "metadata": {
        "colab": {
          "base_uri": "https://localhost:8080/"
        },
        "id": "-o-LFmfhR0ql",
        "outputId": "3e442827-9ef7-45cc-ede2-cf34410a5c1d"
      },
      "source": [
        "def functioner(emoji):\n",
        "  return lambda x : print(x, emoji)\n",
        "\n",
        "myPrint_smile = functioner(\":)\")\n",
        "myPrint_sad = functioner(\":(\")\n",
        "myPrint_neutral = functioner(\":|\")\n",
        "\n",
        "myPrint_sad(\"hello\")"
      ],
      "execution_count": 21,
      "outputs": [
        {
          "output_type": "stream",
          "name": "stdout",
          "text": [
            "hello :(\n"
          ]
        }
      ]
    }
  ]
}
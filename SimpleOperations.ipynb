{
  "nbformat": 4,
  "nbformat_minor": 0,
  "metadata": {
    "colab": {
      "name": "SimpleOperations.ipynb",
      "provenance": [],
      "authorship_tag": "ABX9TyN0/ewba7mNvjuKtUnkVSba"
    },
    "kernelspec": {
      "name": "python3",
      "display_name": "Python 3"
    },
    "language_info": {
      "name": "python"
    }
  },
  "cells": [
    {
      "cell_type": "code",
      "metadata": {
        "colab": {
          "base_uri": "https://localhost:8080/"
        },
        "id": "2jrK2w3ulM2Z",
        "outputId": "b652fd76-a78e-45d9-e039-2780262c578c"
      },
      "source": [
        "number = 2020\n",
        "text = \"çocuklar da büyükler kadar saygı görmeyi hakederler\"\n",
        "print(text, number)"
      ],
      "execution_count": null,
      "outputs": [
        {
          "output_type": "stream",
          "name": "stdout",
          "text": [
            "çocuklar da büyükler kadar saygı görmeyi hakederler 2020\n"
          ]
        }
      ]
    },
    {
      "cell_type": "code",
      "metadata": {
        "colab": {
          "base_uri": "https://localhost:8080/"
        },
        "id": "64Mm_Vh_l_0T",
        "outputId": "52278016-0a59-424d-d554-cab96ef82a3e"
      },
      "source": [
        "print(\"yesterday I ate\", 2, \"apples\")"
      ],
      "execution_count": null,
      "outputs": [
        {
          "output_type": "stream",
          "name": "stdout",
          "text": [
            "yesterday I ate 2 apples\n"
          ]
        }
      ]
    },
    {
      "cell_type": "code",
      "metadata": {
        "colab": {
          "base_uri": "https://localhost:8080/"
        },
        "id": "lt1gv9Wdl_9w",
        "outputId": "6b2d11c2-5a69-4587-b43d-2d58c8e9d462"
      },
      "source": [
        "print('i', end=' ')\n",
        "print('will say', end=' ')\n",
        "print(\"'i missed you'\", end=' ')\n",
        "print('to my mother') \n"
      ],
      "execution_count": null,
      "outputs": [
        {
          "output_type": "stream",
          "name": "stdout",
          "text": [
            "i will say 'i missed you' to my mother\n"
          ]
        }
      ]
    },
    {
      "cell_type": "code",
      "metadata": {
        "colab": {
          "base_uri": "https://localhost:8080/"
        },
        "id": "LCv9zOOKmAGM",
        "outputId": "c7a66b7a-540a-4237-c251-baaa6f42b784"
      },
      "source": [
        "print('i')\n",
        "print('will say')\n",
        "print(\"'i missed you'\")\n",
        "print('to my mother') "
      ],
      "execution_count": null,
      "outputs": [
        {
          "output_type": "stream",
          "name": "stdout",
          "text": [
            "i\n",
            "will say\n",
            "'i missed you'\n",
            "to my mother\n"
          ]
        }
      ]
    },
    {
      "cell_type": "code",
      "metadata": {
        "colab": {
          "base_uri": "https://localhost:8080/"
        },
        "id": "JNMUnU5WmANs",
        "outputId": "8805ca51-cdfe-4ce0-a9ef-33d75a3996ed"
      },
      "source": [
        "print('smoking', 'is', 'slowly', 'killing me', sep=' + ')"
      ],
      "execution_count": null,
      "outputs": [
        {
          "output_type": "stream",
          "name": "stdout",
          "text": [
            "smoking + is + slowly + killing me\n"
          ]
        }
      ]
    },
    {
      "cell_type": "code",
      "metadata": {
        "colab": {
          "base_uri": "https://localhost:8080/"
        },
        "id": "Tr5atX8bn76e",
        "outputId": "f4ee3b52-5524-430b-84ce-5edd05590640"
      },
      "source": [
        "print('smoking', 'is', 'slowly', 'killing me')"
      ],
      "execution_count": null,
      "outputs": [
        {
          "output_type": "stream",
          "name": "stdout",
          "text": [
            "smoking is slowly killing me\n"
          ]
        }
      ]
    },
    {
      "cell_type": "code",
      "metadata": {
        "colab": {
          "base_uri": "https://localhost:8080/"
        },
        "id": "236WcvJkoE5y",
        "outputId": "9886b124-1281-4377-93cb-2c052d1f0c2e"
      },
      "source": [
        "print('smoking', 'is', 'slowly', 'killing me', sep='\\n')"
      ],
      "execution_count": null,
      "outputs": [
        {
          "output_type": "stream",
          "name": "stdout",
          "text": [
            "smoking\n",
            "is\n",
            "slowly\n",
            "killing me\n"
          ]
        }
      ]
    },
    {
      "cell_type": "code",
      "metadata": {
        "colab": {
          "base_uri": "https://localhost:8080/"
        },
        "id": "J6aFrdkSnukV",
        "outputId": "b4c52ba1-3c0d-44d4-c11c-998b6e30110e"
      },
      "source": [
        "x = 5\n",
        "print ('value of x       : ', x)"
      ],
      "execution_count": null,
      "outputs": [
        {
          "output_type": "stream",
          "name": "stdout",
          "text": [
            "value of x       :  5\n"
          ]
        }
      ]
    },
    {
      "cell_type": "code",
      "metadata": {
        "colab": {
          "base_uri": "https://localhost:8080/"
        },
        "id": "h7vD1PdCpNYC",
        "outputId": "126efdfc-9893-4ebc-8c73-e1d9f4c32ac3"
      },
      "source": [
        "x += 2\n",
        "print (\"2 more of x      : \", x, \"\\n\")"
      ],
      "execution_count": null,
      "outputs": [
        {
          "output_type": "stream",
          "name": "stdout",
          "text": [
            "2 more of x      :  17 \n",
            "\n"
          ]
        }
      ]
    },
    {
      "cell_type": "code",
      "metadata": {
        "colab": {
          "base_uri": "https://localhost:8080/"
        },
        "id": "F1siAfMTnvpF",
        "outputId": "627e062c-24d4-4814-c06f-8e98c4e445a7"
      },
      "source": [
        "x += 2\n",
        "print (\"2 more of x      : \", x, \"\\n\")"
      ],
      "execution_count": null,
      "outputs": [
        {
          "output_type": "stream",
          "name": "stdout",
          "text": [
            "2 more of x      :  15 \n",
            "\n"
          ]
        }
      ]
    },
    {
      "cell_type": "code",
      "metadata": {
        "colab": {
          "base_uri": "https://localhost:8080/"
        },
        "id": "UmxEX_PEnvyk",
        "outputId": "3603dabf-dbbc-4a02-dfd8-146f426becdd"
      },
      "source": [
        "y = 10\n",
        "print ('value of y       : ', y)"
      ],
      "execution_count": null,
      "outputs": [
        {
          "output_type": "stream",
          "name": "stdout",
          "text": [
            "value of y       :  10\n"
          ]
        }
      ]
    },
    {
      "cell_type": "code",
      "metadata": {
        "colab": {
          "base_uri": "https://localhost:8080/"
        },
        "id": "B9KDSDagnv9l",
        "outputId": "dda1e390-eca1-4f2f-c5db-53cc158e69e0"
      },
      "source": [
        "y -= 2\n",
        "print (\"2 minus y        : \", y, \"\\n\")"
      ],
      "execution_count": null,
      "outputs": [
        {
          "output_type": "stream",
          "name": "stdout",
          "text": [
            "2 minus y        :  8 \n",
            "\n"
          ]
        }
      ]
    },
    {
      "cell_type": "code",
      "metadata": {
        "colab": {
          "base_uri": "https://localhost:8080/"
        },
        "id": "2ctFWkVonwKE",
        "outputId": "fc149047-70d1-40b8-c6f6-d3b469c94489"
      },
      "source": [
        "z = 6\n",
        "print ('value of z       : ', z)"
      ],
      "execution_count": null,
      "outputs": [
        {
          "output_type": "stream",
          "name": "stdout",
          "text": [
            "value of z       :  6\n"
          ]
        }
      ]
    },
    {
      "cell_type": "code",
      "metadata": {
        "colab": {
          "base_uri": "https://localhost:8080/"
        },
        "id": "dlz8u0mcoxEd",
        "outputId": "1a79c21c-12ee-4313-d1b2-4d94548bf7c2"
      },
      "source": [
        "z *= 2\n",
        "print (\"2 times z        : \", z, \"\\n\")"
      ],
      "execution_count": null,
      "outputs": [
        {
          "output_type": "stream",
          "name": "stdout",
          "text": [
            "2 times z        :  12 \n",
            "\n"
          ]
        }
      ]
    },
    {
      "cell_type": "code",
      "metadata": {
        "colab": {
          "base_uri": "https://localhost:8080/"
        },
        "id": "HymRxPgXoxPx",
        "outputId": "b02cf346-6bd7-4dff-f870-b77bc2071904"
      },
      "source": [
        "fruit = 'Orange'\n",
        "vegetable = \"Tomato\"\n",
        "print (fruit, \"\"\" and \"\"\" , vegetable)"
      ],
      "execution_count": null,
      "outputs": [
        {
          "output_type": "stream",
          "name": "stdout",
          "text": [
            "Orange  and  Tomato\n"
          ]
        }
      ]
    },
    {
      "cell_type": "code",
      "metadata": {
        "colab": {
          "base_uri": "https://localhost:8080/"
        },
        "id": "1d_d3Z_OoxT-",
        "outputId": "8e305717-756a-41fe-d841-ccf11655317a"
      },
      "source": [
        "fruit = 'Orange'\n",
        "vegetable = \"Tomato\"\n",
        "print (fruit, ' and ' , vegetable)"
      ],
      "execution_count": null,
      "outputs": [
        {
          "output_type": "stream",
          "name": "stdout",
          "text": [
            "Orange  and  Tomato\n"
          ]
        }
      ]
    },
    {
      "cell_type": "code",
      "metadata": {
        "colab": {
          "base_uri": "https://localhost:8080/"
        },
        "id": "b_3t0ZyxoxXi",
        "outputId": "c99b7705-32d4-41b5-84f7-70eafaff4b62"
      },
      "source": [
        "print(\"hello\", 3.14, 74)"
      ],
      "execution_count": null,
      "outputs": [
        {
          "output_type": "stream",
          "name": "stdout",
          "text": [
            "hello 3.14 74\n"
          ]
        }
      ]
    },
    {
      "cell_type": "code",
      "metadata": {
        "colab": {
          "base_uri": "https://localhost:8080/"
        },
        "id": "X4tnWHk0oxay",
        "outputId": "0926c5ea-4d84-45b1-8b05-b4d7f7805293"
      },
      "source": [
        "print(type(\"hello\"), type(3.14), type(74))"
      ],
      "execution_count": null,
      "outputs": [
        {
          "output_type": "stream",
          "name": "stdout",
          "text": [
            "<class 'str'> <class 'float'> <class 'int'>\n"
          ]
        }
      ]
    },
    {
      "cell_type": "code",
      "metadata": {
        "colab": {
          "base_uri": "https://localhost:8080/"
        },
        "id": "q8ZbzJ-Fri4O",
        "outputId": "0e419fea-67d0-4832-ed5d-e26e49b41082"
      },
      "source": [
        "print(type(\"hello\"), type(3.14), type(74), sep='\\n')"
      ],
      "execution_count": null,
      "outputs": [
        {
          "output_type": "stream",
          "name": "stdout",
          "text": [
            "<class 'str'>\n",
            "<class 'float'>\n",
            "<class 'int'>\n"
          ]
        }
      ]
    },
    {
      "cell_type": "code",
      "metadata": {
        "colab": {
          "base_uri": "https://localhost:8080/"
        },
        "id": "n6wPOPSkoxdv",
        "outputId": "107954c9-4f22-4200-a0e2-bcbb7459d224"
      },
      "source": [
        "print(type(\"hello\"), type(3.14), type(74), end='\\n')"
      ],
      "execution_count": null,
      "outputs": [
        {
          "output_type": "stream",
          "name": "stdout",
          "text": [
            "<class 'str'> <class 'float'> <class 'int'>\n"
          ]
        }
      ]
    },
    {
      "cell_type": "code",
      "metadata": {
        "colab": {
          "base_uri": "https://localhost:8080/"
        },
        "id": "JLw9bVrNoxgv",
        "outputId": "9532f647-8c1a-4c9c-dcb3-182deea23cf2"
      },
      "source": [
        "print(type(\"hello\"), type(3.14), type(74), '\\n')"
      ],
      "execution_count": null,
      "outputs": [
        {
          "output_type": "stream",
          "name": "stdout",
          "text": [
            "<class 'str'> <class 'float'> <class 'int'> \n",
            "\n"
          ]
        }
      ]
    },
    {
      "cell_type": "code",
      "metadata": {
        "colab": {
          "base_uri": "https://localhost:8080/"
        },
        "id": "-i7NQFS3oxju",
        "outputId": "88ac523b-ecd9-474a-f091-48ed43c2957d"
      },
      "source": [
        "print('C:\\\\november\\number_expenditure.txt')"
      ],
      "execution_count": null,
      "outputs": [
        {
          "output_type": "stream",
          "name": "stdout",
          "text": [
            "C:\\november\n",
            "umber_expenditure.txt\n"
          ]
        }
      ]
    },
    {
      "cell_type": "code",
      "metadata": {
        "colab": {
          "base_uri": "https://localhost:8080/"
        },
        "id": "_1J4UteQoxmu",
        "outputId": "d3533cb6-78ce-4b90-c0e1-d68e25930036"
      },
      "source": [
        "print('C:\\november\\number_expenditure.txt')"
      ],
      "execution_count": null,
      "outputs": [
        {
          "output_type": "stream",
          "name": "stdout",
          "text": [
            "C:\n",
            "ovember\n",
            "umber_expenditure.txt\n"
          ]
        }
      ]
    },
    {
      "cell_type": "code",
      "metadata": {
        "colab": {
          "base_uri": "https://localhost:8080/"
        },
        "id": "ewF5BIuNoxpf",
        "outputId": "558646a8-2c16-48fe-df67-f6d2698853ec"
      },
      "source": [
        "print(\"one\", \"two\", \"three\", sep=\"\\t\") # separated by tab marks"
      ],
      "execution_count": null,
      "outputs": [
        {
          "output_type": "stream",
          "name": "stdout",
          "text": [
            "one\ttwo\tthree\n"
          ]
        }
      ]
    },
    {
      "cell_type": "code",
      "metadata": {
        "id": "8viUXxAhoxsX",
        "colab": {
          "base_uri": "https://localhost:8080/"
        },
        "outputId": "2141daf1-d7b4-4efb-94e2-318d81cc8723"
      },
      "source": [
        "print('we', '\\bare', '\\bunited') # remember, normally print() function\n",
        "# separates expressions by spaces"
      ],
      "execution_count": null,
      "outputs": [
        {
          "output_type": "stream",
          "name": "stdout",
          "text": [
            "we \bare \bunited\n"
          ]
        }
      ]
    },
    {
      "cell_type": "code",
      "metadata": {
        "id": "2E0VdX1_oxu_",
        "colab": {
          "base_uri": "https://localhost:8080/"
        },
        "outputId": "abacde11-619d-4087-d344-80db1d0312ed"
      },
      "source": [
        "print('we ','\\bare ','\\bunited') # remember, normally print() function\n",
        "# separates expressions by spaces"
      ],
      "execution_count": null,
      "outputs": [
        {
          "output_type": "stream",
          "name": "stdout",
          "text": [
            "we  \bare  \bunited\n"
          ]
        }
      ]
    },
    {
      "cell_type": "code",
      "metadata": {
        "id": "KJ_iBEOZoxx-",
        "colab": {
          "base_uri": "https://localhost:8080/"
        },
        "outputId": "32433211-fe70-4735-abb6-4f364240bc52"
      },
      "source": [
        "print('it\\'s funny to learn Python') "
      ],
      "execution_count": null,
      "outputs": [
        {
          "output_type": "stream",
          "name": "stdout",
          "text": [
            "it's funny to learn Python\n"
          ]
        }
      ]
    },
    {
      "cell_type": "code",
      "metadata": {
        "id": "hQWB_HoIox1C",
        "colab": {
          "base_uri": "https://localhost:8080/"
        },
        "outputId": "bbc1e05d-28b6-4c3a-b3fe-1ec40cf196b5"
      },
      "source": [
        "text1 = 'it'\n",
        "text2 = 'easy'\n",
        "print(text1 + '\\'s very '+ text2)"
      ],
      "execution_count": null,
      "outputs": [
        {
          "output_type": "stream",
          "name": "stdout",
          "text": [
            "it's very easy\n"
          ]
        }
      ]
    }
  ]
}
{
  "nbformat": 4,
  "nbformat_minor": 0,
  "metadata": {
    "colab": {
      "name": "04112021ders.ipynb",
      "provenance": [],
      "collapsed_sections": [],
      "authorship_tag": "ABX9TyO6FsYKA2Pza0uNgyP1/Mwo"
    },
    "kernelspec": {
      "name": "python3",
      "display_name": "Python 3"
    },
    "language_info": {
      "name": "python"
    }
  },
  "cells": [
    {
      "cell_type": "code",
      "metadata": {
        "id": "wnMCMEVcDOZ1",
        "colab": {
          "base_uri": "https://localhost:8080/"
        },
        "outputId": "dd3780c3-1ae1-4581-bb37-86ae6a426843"
      },
      "source": [
        "a = set(\"philedelphia\")"
      ],
      "execution_count": 1,
      "outputs": [
        {
          "output_type": "execute_result",
          "data": {
            "text/plain": [
              "{'a', 'd', 'e', 'h', 'i', 'l', 'p'}"
            ]
          },
          "metadata": {},
          "execution_count": 1
        }
      ]
    },
    {
      "cell_type": "code",
      "metadata": {
        "id": "o4g96I5VDPDY",
        "colab": {
          "base_uri": "https://localhost:8080/"
        },
        "outputId": "53c3d4e7-2306-4d8f-a476-2ad77efd4313"
      },
      "source": [
        "b = set(\"dolphin\")"
      ],
      "execution_count": 2,
      "outputs": [
        {
          "output_type": "execute_result",
          "data": {
            "text/plain": [
              "{'d', 'h', 'i', 'l', 'n', 'o', 'p'}"
            ]
          },
          "metadata": {},
          "execution_count": 2
        }
      ]
    },
    {
      "cell_type": "code",
      "metadata": {
        "colab": {
          "base_uri": "https://localhost:8080/"
        },
        "id": "ZSwrBOATDPGK",
        "outputId": "664206cb-5f32-4e65-cf3d-071facba8410"
      },
      "source": [
        "print(a-b)"
      ],
      "execution_count": null,
      "outputs": [
        {
          "output_type": "stream",
          "name": "stdout",
          "text": [
            "{'a', 'e'}\n"
          ]
        }
      ]
    },
    {
      "cell_type": "code",
      "metadata": {
        "colab": {
          "base_uri": "https://localhost:8080/"
        },
        "id": "OQI1VgG_DPI3",
        "outputId": "29aa4a7b-1d1e-486e-c23c-01f07f7fbb69"
      },
      "source": [
        "b-a"
      ],
      "execution_count": null,
      "outputs": [
        {
          "output_type": "execute_result",
          "data": {
            "text/plain": [
              "{'n', 'o'}"
            ]
          },
          "metadata": {},
          "execution_count": 5
        }
      ]
    },
    {
      "cell_type": "code",
      "metadata": {
        "colab": {
          "base_uri": "https://localhost:8080/"
        },
        "id": "eSzZ6ZTEDPLW",
        "outputId": "cc27e12a-017c-44e4-b400-631fe537ead9"
      },
      "source": [
        "a"
      ],
      "execution_count": null,
      "outputs": [
        {
          "output_type": "execute_result",
          "data": {
            "text/plain": [
              "{'a', 'd', 'e', 'h', 'i', 'l', 'p'}"
            ]
          },
          "metadata": {},
          "execution_count": 6
        }
      ]
    },
    {
      "cell_type": "code",
      "metadata": {
        "colab": {
          "base_uri": "https://localhost:8080/"
        },
        "id": "VV07P4foDPOK",
        "outputId": "80f6384d-a093-4dd6-bb1a-31169f5e62b9"
      },
      "source": [
        "b"
      ],
      "execution_count": null,
      "outputs": [
        {
          "output_type": "execute_result",
          "data": {
            "text/plain": [
              "{'d', 'h', 'i', 'l', 'n', 'o', 'p'}"
            ]
          },
          "metadata": {},
          "execution_count": 7
        }
      ]
    },
    {
      "cell_type": "code",
      "metadata": {
        "colab": {
          "base_uri": "https://localhost:8080/"
        },
        "id": "UWsZ7YHhDPRA",
        "outputId": "377f9338-9e55-4d28-c98f-db7c1903b777"
      },
      "source": [
        "bool(set())"
      ],
      "execution_count": null,
      "outputs": [
        {
          "output_type": "execute_result",
          "data": {
            "text/plain": [
              "False"
            ]
          },
          "metadata": {},
          "execution_count": 9
        }
      ]
    },
    {
      "cell_type": "code",
      "metadata": {
        "colab": {
          "base_uri": "https://localhost:8080/"
        },
        "id": "zUvfHXeyDPTr",
        "outputId": "099ae564-f0df-424a-e359-101bec387d6e"
      },
      "source": [
        "a|b == b|a"
      ],
      "execution_count": null,
      "outputs": [
        {
          "output_type": "execute_result",
          "data": {
            "text/plain": [
              "True"
            ]
          },
          "metadata": {},
          "execution_count": 10
        }
      ]
    },
    {
      "cell_type": "code",
      "source": [
        "print(a|b)"
      ],
      "metadata": {
        "colab": {
          "base_uri": "https://localhost:8080/"
        },
        "id": "wo1Hs93QPQh3",
        "outputId": "afcd6f94-dad6-45d9-e63d-220ab9a2d239"
      },
      "execution_count": 3,
      "outputs": [
        {
          "output_type": "stream",
          "name": "stdout",
          "text": [
            "{'h', 'o', 'n', 'a', 'p', 'd', 'e', 'i', 'l'}\n"
          ]
        }
      ]
    },
    {
      "cell_type": "code",
      "metadata": {
        "colab": {
          "base_uri": "https://localhost:8080/"
        },
        "id": "T0SDzIODDPW1",
        "outputId": "56866844-147d-4448-9899-6e15c661b0ad"
      },
      "source": [
        "a&b"
      ],
      "execution_count": null,
      "outputs": [
        {
          "output_type": "execute_result",
          "data": {
            "text/plain": [
              "{'d', 'h', 'i', 'l', 'p'}"
            ]
          },
          "metadata": {},
          "execution_count": 11
        }
      ]
    },
    {
      "cell_type": "code",
      "metadata": {
        "id": "y0qjERMYDPZD"
      },
      "source": [
        "date =\"11/04/2021\""
      ],
      "execution_count": null,
      "outputs": []
    },
    {
      "cell_type": "code",
      "metadata": {
        "colab": {
          "base_uri": "https://localhost:8080/"
        },
        "id": "u08P1xBKDPbZ",
        "outputId": "eabdb7f0-7aca-4681-9b81-fae9a5e0698b"
      },
      "source": [
        "set(date)"
      ],
      "execution_count": null,
      "outputs": [
        {
          "output_type": "execute_result",
          "data": {
            "text/plain": [
              "{'/', '0', '1', '2', '4'}"
            ]
          },
          "metadata": {},
          "execution_count": 13
        }
      ]
    },
    {
      "cell_type": "code",
      "metadata": {
        "colab": {
          "base_uri": "https://localhost:8080/"
        },
        "id": "PEkZdIi3DPeX",
        "outputId": "d3496c80-596f-4297-e4de-7fa939ac47ba"
      },
      "source": [
        "{date}"
      ],
      "execution_count": null,
      "outputs": [
        {
          "output_type": "execute_result",
          "data": {
            "text/plain": [
              "{'11/04/2021'}"
            ]
          },
          "metadata": {},
          "execution_count": 14
        }
      ]
    },
    {
      "cell_type": "code",
      "metadata": {
        "colab": {
          "base_uri": "https://localhost:8080/"
        },
        "id": "XBlznK_MDPhP",
        "outputId": "042c6148-cd40-472f-860b-34851234857a"
      },
      "source": [
        "a = set('09/01/2021')\n",
        "b = {'09/01/2021'}\n",
        "print(a)\n",
        "print(b)"
      ],
      "execution_count": null,
      "outputs": [
        {
          "output_type": "stream",
          "name": "stdout",
          "text": [
            "{'/', '9', '0', '2', '1'}\n",
            "{'09/01/2021'}\n"
          ]
        }
      ]
    },
    {
      "cell_type": "code",
      "metadata": {
        "id": "8GbeyYbeDPky"
      },
      "source": [
        "given_list = [1,2,3,3,3,3,4,4,5,5]"
      ],
      "execution_count": 5,
      "outputs": []
    },
    {
      "cell_type": "code",
      "source": [
        "a = set(given_list)\n",
        "a"
      ],
      "metadata": {
        "colab": {
          "base_uri": "https://localhost:8080/"
        },
        "id": "UHQiRipZPtJw",
        "outputId": "3720032b-6f64-4444-c403-86c52085871f"
      },
      "execution_count": 7,
      "outputs": [
        {
          "output_type": "execute_result",
          "data": {
            "text/plain": [
              "{1, 2, 3, 4, 5}"
            ]
          },
          "metadata": {},
          "execution_count": 7
        }
      ]
    },
    {
      "cell_type": "code",
      "metadata": {
        "id": "WJO6lsUfDPoL"
      },
      "source": [
        "usa = set(\"washington\")\n",
        "nz = set(\"wellington\")"
      ],
      "execution_count": null,
      "outputs": []
    },
    {
      "cell_type": "code",
      "metadata": {
        "colab": {
          "base_uri": "https://localhost:8080/"
        },
        "id": "2RBkXf3JDPp0",
        "outputId": "e730a2be-02e1-40da-b699-d89f0a40cb4e"
      },
      "source": [
        "usa - nz"
      ],
      "execution_count": null,
      "outputs": [
        {
          "output_type": "execute_result",
          "data": {
            "text/plain": [
              "{'a', 'h', 's'}"
            ]
          },
          "metadata": {},
          "execution_count": 18
        }
      ]
    },
    {
      "cell_type": "code",
      "metadata": {
        "colab": {
          "base_uri": "https://localhost:8080/"
        },
        "id": "V4Xu6IN4DPsB",
        "outputId": "e4a22426-1204-4fc2-bf36-ea03f9f87a3e"
      },
      "source": [
        "nz - usa"
      ],
      "execution_count": null,
      "outputs": [
        {
          "output_type": "execute_result",
          "data": {
            "text/plain": [
              "{'e', 'l'}"
            ]
          },
          "metadata": {},
          "execution_count": 19
        }
      ]
    },
    {
      "cell_type": "code",
      "metadata": {
        "colab": {
          "base_uri": "https://localhost:8080/"
        },
        "id": "BhWVu5Y6DPvA",
        "outputId": "549deacc-f458-446b-b33e-60499a7894fc"
      },
      "source": [
        "usa & nz"
      ],
      "execution_count": null,
      "outputs": [
        {
          "output_type": "execute_result",
          "data": {
            "text/plain": [
              "{'g', 'i', 'n', 'o', 't', 'w'}"
            ]
          },
          "metadata": {},
          "execution_count": 20
        }
      ]
    },
    {
      "cell_type": "code",
      "metadata": {
        "colab": {
          "base_uri": "https://localhost:8080/"
        },
        "id": "0RQm4tSHDPxy",
        "outputId": "f971de3a-e604-43b6-b350-aa02e565fb40"
      },
      "source": [
        "usa|nz"
      ],
      "execution_count": null,
      "outputs": [
        {
          "output_type": "execute_result",
          "data": {
            "text/plain": [
              "{'a', 'e', 'g', 'h', 'i', 'l', 'n', 'o', 's', 't', 'w'}"
            ]
          },
          "metadata": {},
          "execution_count": 21
        }
      ]
    },
    {
      "cell_type": "code",
      "metadata": {
        "colab": {
          "base_uri": "https://localhost:8080/"
        },
        "id": "f7xPfIXjDP0y",
        "outputId": "61ea52f8-8847-42ca-9cdb-58c5324800e9"
      },
      "source": [
        "nz.union(usa)"
      ],
      "execution_count": null,
      "outputs": [
        {
          "output_type": "execute_result",
          "data": {
            "text/plain": [
              "{'a', 'e', 'g', 'h', 'i', 'l', 'n', 'o', 's', 't', 'w'}"
            ]
          },
          "metadata": {},
          "execution_count": 22
        }
      ]
    },
    {
      "cell_type": "code",
      "metadata": {
        "id": "YspR4u0hDP3r"
      },
      "source": [
        "if \"0\" and \"\":\n",
        "  print(\"hello\")"
      ],
      "execution_count": 8,
      "outputs": []
    },
    {
      "cell_type": "code",
      "metadata": {
        "colab": {
          "base_uri": "https://localhost:8080/"
        },
        "id": "h_AaFhFjDP6P",
        "outputId": "bfdaccff-01a3-4080-97bd-04b355c824fe"
      },
      "source": [
        "if \"0\":\n",
        "  print(\"hello\")\n",
        "print(\"print me in all cases\")"
      ],
      "execution_count": 9,
      "outputs": [
        {
          "output_type": "stream",
          "name": "stdout",
          "text": [
            "hello\n",
            "print me in all cases\n"
          ]
        }
      ]
    },
    {
      "cell_type": "code",
      "metadata": {
        "id": "GrqzlogRDP9M"
      },
      "source": [
        "if 0:\n",
        "  print(\"hello\")"
      ],
      "execution_count": 10,
      "outputs": []
    },
    {
      "cell_type": "code",
      "metadata": {
        "id": "SST4LxLiDQAZ"
      },
      "source": [
        "minced = True\n",
        "bread = True\n",
        "\n",
        "lettuce = True\n",
        "onion = True\n",
        "\n",
        "grocer = True\n",
        "\n",
        "hamburger = (minced and grocer and bread) and (lettuce or onion)"
      ],
      "execution_count": 11,
      "outputs": []
    },
    {
      "cell_type": "code",
      "metadata": {
        "colab": {
          "base_uri": "https://localhost:8080/"
        },
        "id": "RZrbe2MnDQC6",
        "outputId": "d461ecac-c0d6-4293-b4b8-89b3432ea8e1"
      },
      "source": [
        "hamburger"
      ],
      "execution_count": 12,
      "outputs": [
        {
          "output_type": "execute_result",
          "data": {
            "text/plain": [
              "True"
            ]
          },
          "metadata": {},
          "execution_count": 12
        }
      ]
    },
    {
      "cell_type": "code",
      "metadata": {
        "colab": {
          "base_uri": "https://localhost:8080/"
        },
        "id": "Bm5wEGAyDQGB",
        "outputId": "2e8282c1-0cef-418a-f4c2-f260f428144d"
      },
      "source": [
        "if hamburger:\n",
        "  print(\"Bon Appetit\")"
      ],
      "execution_count": 13,
      "outputs": [
        {
          "output_type": "stream",
          "name": "stdout",
          "text": [
            "Bon Appetit\n"
          ]
        }
      ]
    },
    {
      "cell_type": "code",
      "metadata": {
        "colab": {
          "base_uri": "https://localhost:8080/"
        },
        "id": "eD7WgwabDQI7",
        "outputId": "6301587f-2bc2-496d-9ce5-86729210924d"
      },
      "source": [
        "1 == 0"
      ],
      "execution_count": 14,
      "outputs": [
        {
          "output_type": "execute_result",
          "data": {
            "text/plain": [
              "False"
            ]
          },
          "metadata": {},
          "execution_count": 14
        }
      ]
    },
    {
      "cell_type": "code",
      "metadata": {
        "colab": {
          "base_uri": "https://localhost:8080/"
        },
        "id": "hq5cuDwmDQLz",
        "outputId": "83a78125-10e8-4031-96c0-c776f5c831b5"
      },
      "source": [
        "3 > 3"
      ],
      "execution_count": 15,
      "outputs": [
        {
          "output_type": "execute_result",
          "data": {
            "text/plain": [
              "False"
            ]
          },
          "metadata": {},
          "execution_count": 15
        }
      ]
    },
    {
      "cell_type": "code",
      "metadata": {
        "colab": {
          "base_uri": "https://localhost:8080/"
        },
        "id": "baGk4ExJDQO9",
        "outputId": "1ff978b5-fa68-45a5-93ca-6a3f63b67273"
      },
      "source": [
        "3>=3"
      ],
      "execution_count": 16,
      "outputs": [
        {
          "output_type": "execute_result",
          "data": {
            "text/plain": [
              "True"
            ]
          },
          "metadata": {},
          "execution_count": 16
        }
      ]
    },
    {
      "cell_type": "code",
      "metadata": {
        "colab": {
          "base_uri": "https://localhost:8080/"
        },
        "id": "ubkV3bDEDQRq",
        "outputId": "94c42741-42d1-4091-e567-475a7a1d3ba5"
      },
      "source": [
        "\"ali\" == \"Ali\""
      ],
      "execution_count": 17,
      "outputs": [
        {
          "output_type": "execute_result",
          "data": {
            "text/plain": [
              "False"
            ]
          },
          "metadata": {},
          "execution_count": 17
        }
      ]
    },
    {
      "cell_type": "code",
      "metadata": {
        "colab": {
          "base_uri": "https://localhost:8080/"
        },
        "id": "dXHduFg7DQUz",
        "outputId": "5ad2df61-8752-47ac-8f9f-b66f86f15a10"
      },
      "source": [
        "\"Ali\" == \"Ali\""
      ],
      "execution_count": 18,
      "outputs": [
        {
          "output_type": "execute_result",
          "data": {
            "text/plain": [
              "True"
            ]
          },
          "metadata": {},
          "execution_count": 18
        }
      ]
    },
    {
      "cell_type": "code",
      "metadata": {
        "colab": {
          "base_uri": "https://localhost:8080/"
        },
        "id": "AVu68Gi8DQXo",
        "outputId": "8df967cc-54aa-4fd7-a8ad-6795e3b44f6a"
      },
      "source": [
        "\"ali\" != \"Ali\""
      ],
      "execution_count": 19,
      "outputs": [
        {
          "output_type": "execute_result",
          "data": {
            "text/plain": [
              "True"
            ]
          },
          "metadata": {},
          "execution_count": 19
        }
      ]
    },
    {
      "cell_type": "code",
      "metadata": {
        "colab": {
          "base_uri": "https://localhost:8080/"
        },
        "id": "qJRIYPZrDQah",
        "outputId": "9b77863d-418f-4a76-9dbf-33d19fd8150d"
      },
      "source": [
        "x = 6\n",
        "y = 9\n",
        "print(x != y)"
      ],
      "execution_count": 20,
      "outputs": [
        {
          "output_type": "stream",
          "name": "stdout",
          "text": [
            "True\n"
          ]
        }
      ]
    },
    {
      "cell_type": "code",
      "metadata": {
        "colab": {
          "base_uri": "https://localhost:8080/"
        },
        "id": "rkoPPw4zDQdj",
        "outputId": "2a98309b-909c-4f6a-f665-037892f5446e"
      },
      "source": [
        "a = \"TWELVE PLUS ONE\"\n",
        "b = \"ELEVEN PLUS TWO\"\n",
        "\n",
        "set1 = set(a)\n",
        "set2 = set(b)\n",
        "\n",
        "if set1 == set2:\n",
        "  print(\"we are the same!\")"
      ],
      "execution_count": 21,
      "outputs": [
        {
          "output_type": "stream",
          "name": "stdout",
          "text": [
            "we are the same!\n"
          ]
        }
      ]
    },
    {
      "cell_type": "code",
      "metadata": {
        "colab": {
          "base_uri": "https://localhost:8080/"
        },
        "id": "qU-AfhupIWFw",
        "outputId": "4d621c79-4302-427f-df0b-a20b1f2cb4d5"
      },
      "source": [
        "str1 = input(\"Yes ya da No giriniz: \")\n",
        "\n",
        "if str1.title() == \"Yes\":\n",
        "  print(\"You entered True\")\n",
        "if str1.title() == \"No\":\n",
        "  print(\"You entered False\")\n",
        "\n"
      ],
      "execution_count": 22,
      "outputs": [
        {
          "output_type": "stream",
          "name": "stdout",
          "text": [
            "Yes ya da No giriniz: yes\n",
            "You entered True\n"
          ]
        }
      ]
    },
    {
      "cell_type": "code",
      "metadata": {
        "colab": {
          "base_uri": "https://localhost:8080/"
        },
        "id": "cqKCg3IEIWQd",
        "outputId": "17a24935-c6ec-4012-9d14-8c33716e2ff2"
      },
      "source": [
        "convert = input(\"Enter Yes or No: \").title().strip() == \"Yes\""
      ],
      "execution_count": 23,
      "outputs": [
        {
          "name": "stdout",
          "output_type": "stream",
          "text": [
            "Enter Yes or No: yes\n"
          ]
        }
      ]
    },
    {
      "cell_type": "code",
      "metadata": {
        "colab": {
          "base_uri": "https://localhost:8080/"
        },
        "id": "VLT-ac1NIWSj",
        "outputId": "dd345680-be84-4c6f-f6c1-11a644c3c842"
      },
      "source": [
        "print(\"You entered: \",convert)"
      ],
      "execution_count": 24,
      "outputs": [
        {
          "output_type": "stream",
          "name": "stdout",
          "text": [
            "You entered:  True\n"
          ]
        }
      ]
    },
    {
      "cell_type": "code",
      "metadata": {
        "colab": {
          "base_uri": "https://localhost:8080/"
        },
        "id": "_L8s7bDcIWVD",
        "outputId": "a8a20e53-a183-46f6-9171-b626050e0395"
      },
      "source": [
        "print(f\"You entered {input('Enter Yes or No :').title().strip() == 'Yes'}\")"
      ],
      "execution_count": 25,
      "outputs": [
        {
          "output_type": "stream",
          "name": "stdout",
          "text": [
            "Enter Yes or No :no\n",
            "You entered False\n"
          ]
        }
      ]
    },
    {
      "cell_type": "code",
      "metadata": {
        "colab": {
          "base_uri": "https://localhost:8080/"
        },
        "id": "qYHXRu7MIWX4",
        "outputId": "dba5ed0b-e785-41ee-f65b-429185dfa455"
      },
      "source": [
        "a = int(input('bir sayı giriniz: '))\n",
        "if (a%2)==0:\n",
        "  print('bu sayı çift')\n",
        "else:\n",
        "   print('bu sayı tek')"
      ],
      "execution_count": 26,
      "outputs": [
        {
          "output_type": "stream",
          "name": "stdout",
          "text": [
            "bir sayı giriniz: 5\n",
            "bu sayı tek\n"
          ]
        }
      ]
    },
    {
      "cell_type": "code",
      "metadata": {
        "colab": {
          "base_uri": "https://localhost:8080/"
        },
        "id": "1DOdysIAIWau",
        "outputId": "f2da0c28-def5-4833-e833-ff18af503718"
      },
      "source": [
        "a = int(input('pozitif ya da negatif bir sayı giriniz: '))\n",
        "if a < 0:\n",
        "  print('bu sayı negatif')\n",
        "else:\n",
        "   print('bu sayı pozitif')"
      ],
      "execution_count": 27,
      "outputs": [
        {
          "output_type": "stream",
          "name": "stdout",
          "text": [
            "pozitif ya da negatif bir sayı giriniz: 4\n",
            "bu sayı pozitif\n"
          ]
        }
      ]
    },
    {
      "cell_type": "code",
      "metadata": {
        "colab": {
          "base_uri": "https://localhost:8080/"
        },
        "id": "XEepzah4IWgJ",
        "outputId": "e8e79168-846f-4545-8efc-e207735db27a"
      },
      "source": [
        "a = float(input('pozitif ya da negatif bir sayı giriniz: '))\n",
        "if a < 0:\n",
        "  print('bu sayı negatif')\n",
        "else:\n",
        "   print('bu sayı pozitif')"
      ],
      "execution_count": 28,
      "outputs": [
        {
          "output_type": "stream",
          "name": "stdout",
          "text": [
            "pozitif ya da negatif bir sayı giriniz: -3.4\n",
            "bu sayı negatif\n"
          ]
        }
      ]
    },
    {
      "cell_type": "code",
      "metadata": {
        "colab": {
          "base_uri": "https://localhost:8080/"
        },
        "id": "SQbWhWhyIWjz",
        "outputId": "ee75e2b4-898c-423e-94fc-fa203b58d8c3"
      },
      "source": [
        "num1 = int(input(\"Birinci sayıyı giriniz: \"))\n",
        "num2 = int(input(\"İkinci sayıyı giriniz: \"))\n",
        "\n",
        "if num1 > num2:\n",
        "  print(\"Büyük sayı: \",num1)\n",
        "else:\n",
        "  print(\"Büyük sayı: \",num2)"
      ],
      "execution_count": 29,
      "outputs": [
        {
          "output_type": "stream",
          "name": "stdout",
          "text": [
            "Birinci sayıyı giriniz: 34\n",
            "İkinci sayıyı giriniz: 32\n",
            "Büyük sayı:  34\n"
          ]
        }
      ]
    },
    {
      "cell_type": "code",
      "metadata": {
        "id": "7uogYCJcIXk4"
      },
      "source": [
        ""
      ],
      "execution_count": null,
      "outputs": []
    }
  ]
}
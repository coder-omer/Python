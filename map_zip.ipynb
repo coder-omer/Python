{
  "nbformat": 4,
  "nbformat_minor": 0,
  "metadata": {
    "colab": {
      "name": "map_zip.ipynb",
      "provenance": [],
      "authorship_tag": "ABX9TyMGGxv856vOSXgvVyNLvZzA",
      "include_colab_link": true
    },
    "kernelspec": {
      "name": "python3",
      "display_name": "Python 3"
    },
    "language_info": {
      "name": "python"
    }
  },
  "cells": [
    {
      "cell_type": "markdown",
      "metadata": {
        "id": "view-in-github",
        "colab_type": "text"
      },
      "source": [
        "<a href=\"https://colab.research.google.com/github/coder-omer/Python/blob/main/map_zip.ipynb\" target=\"_parent\"><img src=\"https://colab.research.google.com/assets/colab-badge.svg\" alt=\"Open In Colab\"/></a>"
      ]
    },
    {
      "cell_type": "code",
      "execution_count": null,
      "metadata": {
        "id": "0UZM_8qVZzP2"
      },
      "outputs": [],
      "source": [
        "sayilar =[3, 5, 6, 7]"
      ]
    },
    {
      "cell_type": "code",
      "source": [
        "def karesi(sayi):\n",
        "  return sayi**2"
      ],
      "metadata": {
        "id": "2PI8dHQJZ_Ml"
      },
      "execution_count": null,
      "outputs": []
    },
    {
      "cell_type": "code",
      "source": [
        "empty_list = []\n",
        "for sayi in sayilar:\n",
        "  empty_list.append(karesi(sayi))"
      ],
      "metadata": {
        "id": "CUN4TpMHZ_VS"
      },
      "execution_count": null,
      "outputs": []
    },
    {
      "cell_type": "code",
      "source": [
        "print(empty_list)"
      ],
      "metadata": {
        "colab": {
          "base_uri": "https://localhost:8080/"
        },
        "id": "n7DFIz-dZ_YU",
        "outputId": "e834d705-38b4-46f8-a4dc-2bb84e447fce"
      },
      "execution_count": null,
      "outputs": [
        {
          "output_type": "stream",
          "name": "stdout",
          "text": [
            "[9, 25, 36, 49]\n"
          ]
        }
      ]
    },
    {
      "cell_type": "code",
      "source": [
        "sayilar =[3, 5, 6, 7]\n",
        "\n",
        "def karesi(sayi):\n",
        "  return sayi**2\n",
        "\n",
        "sonuc = map(karesi,sayilar)\n",
        "print(list(sonuc))"
      ],
      "metadata": {
        "colab": {
          "base_uri": "https://localhost:8080/"
        },
        "id": "KZtc8IzEZ_bk",
        "outputId": "d56384aa-0e4d-4302-f0c3-ea8c8ef57974"
      },
      "execution_count": null,
      "outputs": [
        {
          "output_type": "stream",
          "name": "stdout",
          "text": [
            "[9, 25, 36, 49]\n"
          ]
        }
      ]
    },
    {
      "cell_type": "code",
      "source": [
        "sayilar =[3, 5, 6, 7]\n",
        "\n",
        "sonuc = map(lambda x:x**2,sayilar)\n",
        "print(list(sonuc))"
      ],
      "metadata": {
        "colab": {
          "base_uri": "https://localhost:8080/"
        },
        "id": "MTRMw0iQa-Tj",
        "outputId": "7f5462eb-d5a3-4a0a-d36c-8d3d38199d86"
      },
      "execution_count": null,
      "outputs": [
        {
          "output_type": "stream",
          "name": "stdout",
          "text": [
            "[9, 25, 36, 49]\n"
          ]
        }
      ]
    },
    {
      "cell_type": "code",
      "source": [
        "sayilar =[3, 5, 6, 7]\n",
        "\n",
        "print(list(map(lambda x:x**2,sayilar)))"
      ],
      "metadata": {
        "colab": {
          "base_uri": "https://localhost:8080/"
        },
        "id": "3upRTl1la-Wr",
        "outputId": "4628fdc0-0290-4ad9-f5b8-efe42a1e56b2"
      },
      "execution_count": null,
      "outputs": [
        {
          "output_type": "stream",
          "name": "stdout",
          "text": [
            "[9, 25, 36, 49]\n"
          ]
        }
      ]
    },
    {
      "cell_type": "code",
      "source": [
        "sayilar1 = [3, 5, 6, 7]\n",
        "sayilar2 = [1, 15, 4, 9]\n",
        "\n",
        "def kucuk(x,y):\n",
        "  if x < y:\n",
        "    return x\n",
        "  return y\n",
        "\n",
        "sonuc = map(kucuk, sayilar1, sayilar2)\n",
        "print(list(sonuc))"
      ],
      "metadata": {
        "colab": {
          "base_uri": "https://localhost:8080/"
        },
        "id": "iWMswWaYa-Zj",
        "outputId": "21c2db84-71b2-493b-8a0e-787f05344f04"
      },
      "execution_count": null,
      "outputs": [
        {
          "output_type": "stream",
          "name": "stdout",
          "text": [
            "[1, 5, 4, 7]\n"
          ]
        }
      ]
    },
    {
      "cell_type": "code",
      "source": [
        "yas = [3, 5, 6, 7]\n",
        "isim = [\"Sinan\", \"erdinç\"]\n",
        "\n",
        "sonuc = zip(yas,isim)\n",
        "print(list(sonuc))\n"
      ],
      "metadata": {
        "colab": {
          "base_uri": "https://localhost:8080/"
        },
        "id": "qQtHkzDqa-fZ",
        "outputId": "1319f7ff-b93b-4f00-b710-f2d1110a80eb"
      },
      "execution_count": null,
      "outputs": [
        {
          "output_type": "stream",
          "name": "stdout",
          "text": [
            "[(3, 'Sinan'), (5, 'erdinç')]\n"
          ]
        }
      ]
    },
    {
      "cell_type": "code",
      "source": [
        "yas = [3, 5, 6, 7]\n",
        "isim = [\"Sinan\", \"erdinç\"]\n",
        "\n",
        "sonuc = zip(yas,isim)\n",
        "print(dict(sonuc))"
      ],
      "metadata": {
        "colab": {
          "base_uri": "https://localhost:8080/"
        },
        "id": "cmCdGu8fgR-e",
        "outputId": "412fd08b-b9f4-41a6-a79a-46f5262a4f42"
      },
      "execution_count": null,
      "outputs": [
        {
          "output_type": "stream",
          "name": "stdout",
          "text": [
            "{3: 'Sinan', 5: 'erdinç'}\n"
          ]
        }
      ]
    },
    {
      "cell_type": "code",
      "source": [
        "yas = [3, 5, 6, 7]\n",
        "isim = [\"Sinan\", \"erdinç\"]\n",
        "\n",
        "sonuc = zip(yas,isim)\n",
        "print(tuple(sonuc))"
      ],
      "metadata": {
        "colab": {
          "base_uri": "https://localhost:8080/"
        },
        "id": "Ia7sajcZgZ8q",
        "outputId": "4db41331-17cb-4ab3-a4bf-79bb01379162"
      },
      "execution_count": null,
      "outputs": [
        {
          "output_type": "stream",
          "name": "stdout",
          "text": [
            "((3, 'Sinan'), (5, 'erdinç'))\n"
          ]
        }
      ]
    },
    {
      "cell_type": "code",
      "source": [
        "from functools import reduce"
      ],
      "metadata": {
        "id": "5_cXg-Zaa-iS"
      },
      "execution_count": null,
      "outputs": []
    },
    {
      "cell_type": "code",
      "source": [
        "numbers = [11,3,9,12,124,15,66]\n",
        "\n",
        "def find_max(a,b):\n",
        "  if a > b:\n",
        "    return a\n",
        "  return b\n",
        "\n",
        "sonuc =  reduce(find_max, numbers)\n",
        "print(sonuc)"
      ],
      "metadata": {
        "colab": {
          "base_uri": "https://localhost:8080/"
        },
        "id": "nllOGGkRa-la",
        "outputId": "ebd875d2-dc31-47fe-c2c9-eb830aeac5d0"
      },
      "execution_count": null,
      "outputs": [
        {
          "output_type": "stream",
          "name": "stdout",
          "text": [
            "124\n"
          ]
        }
      ]
    },
    {
      "cell_type": "code",
      "source": [
        "numbers = [1,2,3,4]\n",
        "\n",
        "def carp(a,b):\n",
        "  return a*b\n",
        "\n",
        "sonuc =  reduce(carp, numbers)\n",
        "print(sonuc)"
      ],
      "metadata": {
        "colab": {
          "base_uri": "https://localhost:8080/"
        },
        "id": "5hh1n2NXZ_hT",
        "outputId": "d5829b17-b665-4c9c-e881-992186df82d2"
      },
      "execution_count": null,
      "outputs": [
        {
          "output_type": "stream",
          "name": "stdout",
          "text": [
            "24\n"
          ]
        }
      ]
    },
    {
      "cell_type": "code",
      "source": [
        "isim = [\"sinan\",\"erdinç\", \"ali\", \"mehmet\"]\n",
        "tarih = [1990, 1991, 1992, 1988]"
      ],
      "metadata": {
        "id": "l5OvMG4qZ_kI"
      },
      "execution_count": null,
      "outputs": []
    },
    {
      "cell_type": "code",
      "source": [
        "data = list(zip(isim, tarih))"
      ],
      "metadata": {
        "id": "M0A41iK4Z_nb"
      },
      "execution_count": null,
      "outputs": []
    },
    {
      "cell_type": "code",
      "source": [
        "print(data)"
      ],
      "metadata": {
        "colab": {
          "base_uri": "https://localhost:8080/"
        },
        "id": "VsOVxNMxZ_qX",
        "outputId": "a116ca57-a3a7-45a3-c5f0-aa26a9ca6f27"
      },
      "execution_count": null,
      "outputs": [
        {
          "output_type": "stream",
          "name": "stdout",
          "text": [
            "[('sinan', 1990), ('erdinç', 1991), ('ali', 1992), ('mehmet', 1988)]\n"
          ]
        }
      ]
    },
    {
      "cell_type": "code",
      "source": [
        "print(data[0])"
      ],
      "metadata": {
        "colab": {
          "base_uri": "https://localhost:8080/"
        },
        "id": "teitZySAqbHG",
        "outputId": "79118e11-22f0-4ee4-bc58-65adf09453c3"
      },
      "execution_count": null,
      "outputs": [
        {
          "output_type": "stream",
          "name": "stdout",
          "text": [
            "('sinan', 1990)\n"
          ]
        }
      ]
    },
    {
      "cell_type": "code",
      "source": [
        "print(data[0][0])"
      ],
      "metadata": {
        "colab": {
          "base_uri": "https://localhost:8080/"
        },
        "id": "nVTUMYfbrDcA",
        "outputId": "dc722c53-f200-47ac-e3b2-ce8053e768a0"
      },
      "execution_count": null,
      "outputs": [
        {
          "output_type": "stream",
          "name": "stdout",
          "text": [
            "sinan\n"
          ]
        }
      ]
    },
    {
      "cell_type": "code",
      "source": [
        "print(data[0][1])"
      ],
      "metadata": {
        "colab": {
          "base_uri": "https://localhost:8080/"
        },
        "id": "E8d1nbo9rIFZ",
        "outputId": "6aaae36a-db1f-4fb8-b887-3f41fa029b3c"
      },
      "execution_count": null,
      "outputs": [
        {
          "output_type": "stream",
          "name": "stdout",
          "text": [
            "1990\n"
          ]
        }
      ]
    },
    {
      "cell_type": "code",
      "source": [
        "sonuc = filter(lambda x: x>1990, tarih)\n",
        "print(list(sonuc))"
      ],
      "metadata": {
        "colab": {
          "base_uri": "https://localhost:8080/"
        },
        "id": "Qj7VeVVCaARH",
        "outputId": "d54b6c6b-1f30-4a24-f8c3-49f915462f92"
      },
      "execution_count": null,
      "outputs": [
        {
          "output_type": "stream",
          "name": "stdout",
          "text": [
            "[1991, 1992]\n"
          ]
        }
      ]
    },
    {
      "cell_type": "code",
      "source": [
        "sonuc = filter(lambda x: x[1]>1990, data)\n",
        "print(list(sonuc))"
      ],
      "metadata": {
        "colab": {
          "base_uri": "https://localhost:8080/"
        },
        "id": "SAM4-sHgaAUQ",
        "outputId": "00a97128-7a57-42f3-f61b-31888988e367"
      },
      "execution_count": null,
      "outputs": [
        {
          "output_type": "stream",
          "name": "stdout",
          "text": [
            "[('erdinç', 1991), ('ali', 1992)]\n"
          ]
        }
      ]
    },
    {
      "cell_type": "code",
      "source": [
        "sonuc = filter(lambda x: x[1]<1990, data)\n",
        "print(list(sonuc))"
      ],
      "metadata": {
        "colab": {
          "base_uri": "https://localhost:8080/"
        },
        "id": "ajo4-dsQr0N_",
        "outputId": "088fc449-6cf2-4f9a-d3b9-e0f928bf444d"
      },
      "execution_count": null,
      "outputs": [
        {
          "output_type": "stream",
          "name": "stdout",
          "text": [
            "[('mehmet', 1988)]\n"
          ]
        }
      ]
    },
    {
      "cell_type": "code",
      "source": [
        "cumle = [\"merhaba\", \"benim\", \"adım\", \"sinan\", \"istanbul\"]"
      ],
      "metadata": {
        "id": "wK_6yzBQaAZe"
      },
      "execution_count": null,
      "outputs": []
    },
    {
      "cell_type": "code",
      "source": [
        "sonuc1 = filter(lambda word: len(word) >= 6, cumle)\n",
        "print(list(sonuc1))"
      ],
      "metadata": {
        "colab": {
          "base_uri": "https://localhost:8080/"
        },
        "id": "51pbGlilaAce",
        "outputId": "879d06c0-ae14-49e7-c8d6-81b5c7621474"
      },
      "execution_count": null,
      "outputs": [
        {
          "output_type": "stream",
          "name": "stdout",
          "text": [
            "['merhaba', 'istanbul']\n"
          ]
        }
      ]
    },
    {
      "cell_type": "code",
      "source": [
        "sonuc2 = map(lambda word: len(word), cumle)\n",
        "print(list(sonuc2))"
      ],
      "metadata": {
        "colab": {
          "base_uri": "https://localhost:8080/"
        },
        "id": "QziTB1-9aAfb",
        "outputId": "db9da879-e2f4-4d05-ef8d-13d51b4ddeec"
      },
      "execution_count": null,
      "outputs": [
        {
          "output_type": "stream",
          "name": "stdout",
          "text": [
            "[7, 5, 4, 5, 8]\n"
          ]
        }
      ]
    },
    {
      "cell_type": "code",
      "source": [
        "from datetime import datetime\n",
        "birthday = input(\"when is your birthday(dd/mm/yyyy)?\")\n",
        "birthdate= datetime.strptime(birthday,\"%d/%m/%y\")\n",
        "print(\"birthday: \"+ str(birthdate))"
      ],
      "metadata": {
        "colab": {
          "base_uri": "https://localhost:8080/",
          "height": 380
        },
        "id": "5WLOrxPut8zK",
        "outputId": "d54cc9cc-f657-4761-dbac-89441c9847e3"
      },
      "execution_count": null,
      "outputs": [
        {
          "name": "stdout",
          "output_type": "stream",
          "text": [
            "when is your birthday(dd/mm/yyyy)?02/05/2012\n"
          ]
        },
        {
          "output_type": "error",
          "ename": "ValueError",
          "evalue": "ignored",
          "traceback": [
            "\u001b[0;31m---------------------------------------------------------------------------\u001b[0m",
            "\u001b[0;31mValueError\u001b[0m                                Traceback (most recent call last)",
            "\u001b[0;32m<ipython-input-59-e673a69cdcdf>\u001b[0m in \u001b[0;36m<module>\u001b[0;34m()\u001b[0m\n\u001b[1;32m      1\u001b[0m \u001b[0;32mfrom\u001b[0m \u001b[0mdatetime\u001b[0m \u001b[0;32mimport\u001b[0m \u001b[0mdatetime\u001b[0m\u001b[0;34m\u001b[0m\u001b[0;34m\u001b[0m\u001b[0m\n\u001b[1;32m      2\u001b[0m \u001b[0mbirthday\u001b[0m \u001b[0;34m=\u001b[0m \u001b[0minput\u001b[0m\u001b[0;34m(\u001b[0m\u001b[0;34m\"when is your birthday(dd/mm/yyyy)?\"\u001b[0m\u001b[0;34m)\u001b[0m\u001b[0;34m\u001b[0m\u001b[0;34m\u001b[0m\u001b[0m\n\u001b[0;32m----> 3\u001b[0;31m \u001b[0mbirthdate\u001b[0m\u001b[0;34m=\u001b[0m \u001b[0mdatetime\u001b[0m\u001b[0;34m.\u001b[0m\u001b[0mstrptime\u001b[0m\u001b[0;34m(\u001b[0m\u001b[0mbirthday\u001b[0m\u001b[0;34m,\u001b[0m\u001b[0;34m\"%d/%m/%y\"\u001b[0m\u001b[0;34m)\u001b[0m\u001b[0;34m\u001b[0m\u001b[0;34m\u001b[0m\u001b[0m\n\u001b[0m\u001b[1;32m      4\u001b[0m \u001b[0mprint\u001b[0m\u001b[0;34m(\u001b[0m\u001b[0;34m\"birthday: \"\u001b[0m\u001b[0;34m+\u001b[0m \u001b[0mstr\u001b[0m\u001b[0;34m(\u001b[0m\u001b[0mbirthdate\u001b[0m\u001b[0;34m)\u001b[0m\u001b[0;34m)\u001b[0m\u001b[0;34m\u001b[0m\u001b[0;34m\u001b[0m\u001b[0m\n",
            "\u001b[0;32m/usr/lib/python3.7/_strptime.py\u001b[0m in \u001b[0;36m_strptime_datetime\u001b[0;34m(cls, data_string, format)\u001b[0m\n\u001b[1;32m    575\u001b[0m     \"\"\"Return a class cls instance based on the input string and the\n\u001b[1;32m    576\u001b[0m     format string.\"\"\"\n\u001b[0;32m--> 577\u001b[0;31m     \u001b[0mtt\u001b[0m\u001b[0;34m,\u001b[0m \u001b[0mfraction\u001b[0m\u001b[0;34m,\u001b[0m \u001b[0mgmtoff_fraction\u001b[0m \u001b[0;34m=\u001b[0m \u001b[0m_strptime\u001b[0m\u001b[0;34m(\u001b[0m\u001b[0mdata_string\u001b[0m\u001b[0;34m,\u001b[0m \u001b[0mformat\u001b[0m\u001b[0;34m)\u001b[0m\u001b[0;34m\u001b[0m\u001b[0;34m\u001b[0m\u001b[0m\n\u001b[0m\u001b[1;32m    578\u001b[0m     \u001b[0mtzname\u001b[0m\u001b[0;34m,\u001b[0m \u001b[0mgmtoff\u001b[0m \u001b[0;34m=\u001b[0m \u001b[0mtt\u001b[0m\u001b[0;34m[\u001b[0m\u001b[0;34m-\u001b[0m\u001b[0;36m2\u001b[0m\u001b[0;34m:\u001b[0m\u001b[0;34m]\u001b[0m\u001b[0;34m\u001b[0m\u001b[0;34m\u001b[0m\u001b[0m\n\u001b[1;32m    579\u001b[0m     \u001b[0margs\u001b[0m \u001b[0;34m=\u001b[0m \u001b[0mtt\u001b[0m\u001b[0;34m[\u001b[0m\u001b[0;34m:\u001b[0m\u001b[0;36m6\u001b[0m\u001b[0;34m]\u001b[0m \u001b[0;34m+\u001b[0m \u001b[0;34m(\u001b[0m\u001b[0mfraction\u001b[0m\u001b[0;34m,\u001b[0m\u001b[0;34m)\u001b[0m\u001b[0;34m\u001b[0m\u001b[0;34m\u001b[0m\u001b[0m\n",
            "\u001b[0;32m/usr/lib/python3.7/_strptime.py\u001b[0m in \u001b[0;36m_strptime\u001b[0;34m(data_string, format)\u001b[0m\n\u001b[1;32m    360\u001b[0m     \u001b[0;32mif\u001b[0m \u001b[0mlen\u001b[0m\u001b[0;34m(\u001b[0m\u001b[0mdata_string\u001b[0m\u001b[0;34m)\u001b[0m \u001b[0;34m!=\u001b[0m \u001b[0mfound\u001b[0m\u001b[0;34m.\u001b[0m\u001b[0mend\u001b[0m\u001b[0;34m(\u001b[0m\u001b[0;34m)\u001b[0m\u001b[0;34m:\u001b[0m\u001b[0;34m\u001b[0m\u001b[0;34m\u001b[0m\u001b[0m\n\u001b[1;32m    361\u001b[0m         raise ValueError(\"unconverted data remains: %s\" %\n\u001b[0;32m--> 362\u001b[0;31m                           data_string[found.end():])\n\u001b[0m\u001b[1;32m    363\u001b[0m \u001b[0;34m\u001b[0m\u001b[0m\n\u001b[1;32m    364\u001b[0m     \u001b[0miso_year\u001b[0m \u001b[0;34m=\u001b[0m \u001b[0myear\u001b[0m \u001b[0;34m=\u001b[0m \u001b[0;32mNone\u001b[0m\u001b[0;34m\u001b[0m\u001b[0;34m\u001b[0m\u001b[0m\n",
            "\u001b[0;31mValueError\u001b[0m: unconverted data remains: 12"
          ]
        }
      ]
    }
  ]
}
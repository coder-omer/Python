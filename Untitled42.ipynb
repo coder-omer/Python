{
  "nbformat": 4,
  "nbformat_minor": 0,
  "metadata": {
    "colab": {
      "name": "Untitled42.ipynb",
      "provenance": [],
      "authorship_tag": "ABX9TyOyjjAPwsxLir3Bm24UakMg",
      "include_colab_link": true
    },
    "kernelspec": {
      "name": "python3",
      "display_name": "Python 3"
    },
    "language_info": {
      "name": "python"
    }
  },
  "cells": [
    {
      "cell_type": "markdown",
      "metadata": {
        "id": "view-in-github",
        "colab_type": "text"
      },
      "source": [
        "<a href=\"https://colab.research.google.com/github/coder-omer/Python/blob/main/Untitled42.ipynb\" target=\"_parent\"><img src=\"https://colab.research.google.com/assets/colab-badge.svg\" alt=\"Open In Colab\"/></a>"
      ]
    },
    {
      "cell_type": "code",
      "execution_count": null,
      "metadata": {
        "colab": {
          "base_uri": "https://localhost:8080/"
        },
        "id": "zDbQe4wcI4WF",
        "outputId": "cc47f7be-b4e8-46f3-f851-e818a9c3a016"
      },
      "outputs": [
        {
          "output_type": "stream",
          "name": "stdout",
          "text": [
            "Alabama\n"
          ]
        }
      ],
      "source": [
        "words=[\"Clarusway\", \"Arthur\", \"Data Science\", \"Statistics\", \"Alabama\"]\n",
        "print(sorted(words)[0])\n"
      ]
    },
    {
      "cell_type": "code",
      "source": [
        "words=[\"Clarusway\", \"Arthur\", \"Data Science\", \"Statistics\", \"Alabama\"]"
      ],
      "metadata": {
        "id": "5cjasub8R_hN"
      },
      "execution_count": null,
      "outputs": []
    },
    {
      "cell_type": "code",
      "source": [
        "words=[\"Clarusway\", \"Arthur\", \"Data Science\", \"Statistics\", \"Alabama\"]\n",
        "sayac = 0\n",
        "\n",
        "for i in words[sayac]:\n",
        "  if i == \"a\":\n",
        "    sayac += 1\n",
        "    print(words[sayac])\n",
        "\n",
        "print(\"a sayısı: \",sayac)"
      ],
      "metadata": {
        "colab": {
          "base_uri": "https://localhost:8080/"
        },
        "id": "_Y54RpFsR_k_",
        "outputId": "1bd34b3e-ee2c-41f8-87dc-35247bcad830"
      },
      "execution_count": null,
      "outputs": [
        {
          "output_type": "stream",
          "name": "stdout",
          "text": [
            "Arthur\n",
            "Data Science\n",
            "a sayısı:  2\n"
          ]
        }
      ]
    },
    {
      "cell_type": "code",
      "source": [
        "words=[\"Clarusway\", \"Arthur\", \"Data Science\", \"Statistics\", \"Alabama\"]\n",
        "print(sorted(words, key=len)[0])"
      ],
      "metadata": {
        "colab": {
          "base_uri": "https://localhost:8080/"
        },
        "id": "MKadBcchI7Sc",
        "outputId": "14f7b586-71a5-4413-f553-3c5a0091470f"
      },
      "execution_count": null,
      "outputs": [
        {
          "output_type": "stream",
          "name": "stdout",
          "text": [
            "Arthur\n"
          ]
        }
      ]
    },
    {
      "cell_type": "code",
      "source": [
        "print(max([i.lower().count(\"a\") for i in words]))"
      ],
      "metadata": {
        "colab": {
          "base_uri": "https://localhost:8080/"
        },
        "id": "Djnc41LeKpej",
        "outputId": "f6aed179-b037-4bf2-e15e-22dde650516e"
      },
      "execution_count": null,
      "outputs": [
        {
          "output_type": "stream",
          "name": "stdout",
          "text": [
            "4\n"
          ]
        }
      ]
    },
    {
      "cell_type": "code",
      "source": [
        "print(max([i for i.lower().count(\"a\") for i in words]))"
      ],
      "metadata": {
        "colab": {
          "base_uri": "https://localhost:8080/",
          "height": 130
        },
        "id": "DhmVKdPVKpiR",
        "outputId": "e2781309-ecc7-477f-a214-d79ff4b2a8b7"
      },
      "execution_count": null,
      "outputs": [
        {
          "output_type": "error",
          "ename": "SyntaxError",
          "evalue": "ignored",
          "traceback": [
            "\u001b[0;36m  File \u001b[0;32m\"<ipython-input-5-2bb6da996233>\"\u001b[0;36m, line \u001b[0;32m1\u001b[0m\n\u001b[0;31m    print(max([i for i.lower().count(\"a\") for i in words]))\u001b[0m\n\u001b[0m                                            ^\u001b[0m\n\u001b[0;31mSyntaxError\u001b[0m\u001b[0;31m:\u001b[0m invalid syntax\n"
          ]
        }
      ]
    },
    {
      "cell_type": "code",
      "source": [
        "newlist = [x if x != \"banana\" else \"orange\" for x in fruits]"
      ],
      "metadata": {
        "id": "19Pbwi4eKplc"
      },
      "execution_count": null,
      "outputs": []
    },
    {
      "cell_type": "code",
      "source": [
        "wordlist = [i if i.count(\"a\")==4 for i in words])]"
      ],
      "metadata": {
        "colab": {
          "base_uri": "https://localhost:8080/",
          "height": 130
        },
        "id": "lRhUHRTWKpo4",
        "outputId": "437b7bce-7cc0-4f7c-c2ff-711d69a6b986"
      },
      "execution_count": null,
      "outputs": [
        {
          "output_type": "error",
          "ename": "SyntaxError",
          "evalue": "ignored",
          "traceback": [
            "\u001b[0;36m  File \u001b[0;32m\"<ipython-input-10-fa7b38782d5a>\"\u001b[0;36m, line \u001b[0;32m1\u001b[0m\n\u001b[0;31m    wordlist = [i if i.count(\"a\")==4 for i in words])]\u001b[0m\n\u001b[0m                                       ^\u001b[0m\n\u001b[0;31mSyntaxError\u001b[0m\u001b[0;31m:\u001b[0m invalid syntax\n"
          ]
        }
      ]
    },
    {
      "cell_type": "code",
      "source": [
        "words=[\"Clarusway\", \"Arthur\", \"Data Science\", \"Statistics\", \"Alabama\"]\n",
        "print(words[[i.lower().count(\"a\") for i in words].index(max([i.lower().count(\"a\") for i in words]))])\n"
      ],
      "metadata": {
        "colab": {
          "base_uri": "https://localhost:8080/"
        },
        "id": "JFMz15cRXp7Z",
        "outputId": "05340169-e8e8-4943-ffe3-d55aac1e33f5"
      },
      "execution_count": null,
      "outputs": [
        {
          "output_type": "stream",
          "name": "stdout",
          "text": [
            "Alabama\n"
          ]
        }
      ]
    },
    {
      "cell_type": "code",
      "source": [
        "words=[\"Clarusway\", \"Arthur\", \"Data Science\", \"Statistics\", \"Alabama\"]\n",
        "print(words[[i.lower().count(\"a\") for i in words].index(max([i.lower().count(\"a\") for i in words]))])\n"
      ],
      "metadata": {
        "colab": {
          "base_uri": "https://localhost:8080/"
        },
        "id": "Lk-aLueGXp4Q",
        "outputId": "a6a71eef-288b-4e3f-ea63-158b58324ef9"
      },
      "execution_count": null,
      "outputs": [
        {
          "output_type": "stream",
          "name": "stdout",
          "text": [
            "Alabama\n"
          ]
        }
      ]
    },
    {
      "cell_type": "code",
      "source": [
        "print(words.index(max([i.lower().count(\"a\") for i in words])))"
      ],
      "metadata": {
        "colab": {
          "base_uri": "https://localhost:8080/",
          "height": 165
        },
        "id": "rncxBn5yXpuz",
        "outputId": "7454a8fe-e91c-4ef2-a428-1f12b3ba3180"
      },
      "execution_count": null,
      "outputs": [
        {
          "output_type": "error",
          "ename": "ValueError",
          "evalue": "ignored",
          "traceback": [
            "\u001b[0;31m---------------------------------------------------------------------------\u001b[0m",
            "\u001b[0;31mValueError\u001b[0m                                Traceback (most recent call last)",
            "\u001b[0;32m<ipython-input-25-671b6694f3b5>\u001b[0m in \u001b[0;36m<module>\u001b[0;34m()\u001b[0m\n\u001b[0;32m----> 1\u001b[0;31m \u001b[0mprint\u001b[0m\u001b[0;34m(\u001b[0m\u001b[0mwords\u001b[0m\u001b[0;34m.\u001b[0m\u001b[0mindex\u001b[0m\u001b[0;34m(\u001b[0m\u001b[0mmax\u001b[0m\u001b[0;34m(\u001b[0m\u001b[0;34m[\u001b[0m\u001b[0mi\u001b[0m\u001b[0;34m.\u001b[0m\u001b[0mlower\u001b[0m\u001b[0;34m(\u001b[0m\u001b[0;34m)\u001b[0m\u001b[0;34m.\u001b[0m\u001b[0mcount\u001b[0m\u001b[0;34m(\u001b[0m\u001b[0;34m\"a\"\u001b[0m\u001b[0;34m)\u001b[0m \u001b[0;32mfor\u001b[0m \u001b[0mi\u001b[0m \u001b[0;32min\u001b[0m \u001b[0mwords\u001b[0m\u001b[0;34m]\u001b[0m\u001b[0;34m)\u001b[0m\u001b[0;34m)\u001b[0m\u001b[0;34m)\u001b[0m\u001b[0;34m\u001b[0m\u001b[0;34m\u001b[0m\u001b[0m\n\u001b[0m",
            "\u001b[0;31mValueError\u001b[0m: 4 is not in list"
          ]
        }
      ]
    },
    {
      "cell_type": "code",
      "source": [
        "words=[\"Clarusway\", \"Arthur\", \"Data Science\", \"Alabama\", \"Statistics\"]\n",
        "print(words[[i.lower().count(\"a\") for i in words].index(max([i.lower().count(\"a\") for i in words]))])"
      ],
      "metadata": {
        "colab": {
          "base_uri": "https://localhost:8080/"
        },
        "id": "YBH5FHM0cL22",
        "outputId": "c9621b01-4694-4bb7-d091-d4d75e7855b4"
      },
      "execution_count": null,
      "outputs": [
        {
          "output_type": "stream",
          "name": "stdout",
          "text": [
            "Alabama\n"
          ]
        }
      ]
    },
    {
      "cell_type": "code",
      "source": [
        "print([i.lower().count(\"a\") for i in words])"
      ],
      "metadata": {
        "colab": {
          "base_uri": "https://localhost:8080/"
        },
        "id": "q8V0hkowXpqz",
        "outputId": "60f6cd95-777d-4564-92c9-ab78d0b0460b"
      },
      "execution_count": null,
      "outputs": [
        {
          "output_type": "stream",
          "name": "stdout",
          "text": [
            "[2, 1, 2, 1, 4]\n"
          ]
        }
      ]
    },
    {
      "cell_type": "code",
      "source": [
        "print(max([i.lower().count(\"a\") for i in words]))"
      ],
      "metadata": {
        "colab": {
          "base_uri": "https://localhost:8080/"
        },
        "id": "RCPHtSvLXpoB",
        "outputId": "ff0472ad-b1d4-4963-eb51-2aa4ce5b7c7b"
      },
      "execution_count": null,
      "outputs": [
        {
          "output_type": "stream",
          "name": "stdout",
          "text": [
            "4\n"
          ]
        }
      ]
    },
    {
      "cell_type": "code",
      "source": [
        "print(words[max([i.lower().count(\"a\") for i in words])])"
      ],
      "metadata": {
        "colab": {
          "base_uri": "https://localhost:8080/"
        },
        "id": "yTxrMKt_bXtG",
        "outputId": "55680667-8a13-499e-bb61-064e125d7e53"
      },
      "execution_count": null,
      "outputs": [
        {
          "output_type": "stream",
          "name": "stdout",
          "text": [
            "Alabama\n"
          ]
        }
      ]
    },
    {
      "cell_type": "code",
      "source": [
        "words=[\"Clarusway\", \"Arthur\", \"Data Science\", \"Statistics\", \"Alabama\"]\n",
        "print(words[max([i.lower().count(\"a\") for i in words])])"
      ],
      "metadata": {
        "colab": {
          "base_uri": "https://localhost:8080/"
        },
        "id": "ZOYGhe0ubgO5",
        "outputId": "55df006d-034e-481a-8276-39e48269683f"
      },
      "execution_count": null,
      "outputs": [
        {
          "output_type": "stream",
          "name": "stdout",
          "text": [
            "Alabama\n"
          ]
        }
      ]
    },
    {
      "cell_type": "code",
      "source": [
        "words=[\"Clarusway\", \"Alabama\", \"Data Science\", \"Statistics\", \"Arthur\"]\n",
        "print(words[max([i.lower().count(\"a\") for i in words])])"
      ],
      "metadata": {
        "colab": {
          "base_uri": "https://localhost:8080/"
        },
        "id": "uiMWXNiPblUY",
        "outputId": "fb03bce3-72dd-4801-84c2-b77e74f028a7"
      },
      "execution_count": null,
      "outputs": [
        {
          "output_type": "stream",
          "name": "stdout",
          "text": [
            "Arthur\n"
          ]
        }
      ]
    },
    {
      "cell_type": "code",
      "source": [
        "words=[\"Clarusway\", \"Arthur\", \"Data Science\", \"Statistics\", \"Alabama\"]\n",
        "newlist = max([i.lower().count(\"a\") for i in words])\n",
        "print(words[newlist])"
      ],
      "metadata": {
        "colab": {
          "base_uri": "https://localhost:8080/"
        },
        "id": "XVmTu5p5blRe",
        "outputId": "15722820-1932-4e58-a742-97044a136ce8"
      },
      "execution_count": null,
      "outputs": [
        {
          "output_type": "stream",
          "name": "stdout",
          "text": [
            "Alabama\n"
          ]
        }
      ]
    },
    {
      "cell_type": "code",
      "source": [
        "print(words[max([i.lower().count(\"a\") for i in words])])"
      ],
      "metadata": {
        "colab": {
          "base_uri": "https://localhost:8080/"
        },
        "id": "994aYfdFblLn",
        "outputId": "13a39b3f-15fc-40c6-fbd6-93c5db9993a3"
      },
      "execution_count": null,
      "outputs": [
        {
          "output_type": "stream",
          "name": "stdout",
          "text": [
            "Alabama\n"
          ]
        }
      ]
    },
    {
      "cell_type": "code",
      "source": [
        "words=[\"Clarusway\", \"Arthur\", \"Data Science\", \"Alabama\", \"Statistics\"]\n",
        "print(words[max([i.lower().count(\"a\") for i in words])])"
      ],
      "metadata": {
        "colab": {
          "base_uri": "https://localhost:8080/"
        },
        "id": "2vEXG06SblIu",
        "outputId": "904d33da-bed7-428a-aff1-bf91801c06f2"
      },
      "execution_count": null,
      "outputs": [
        {
          "output_type": "stream",
          "name": "stdout",
          "text": [
            "Statistics\n"
          ]
        }
      ]
    },
    {
      "cell_type": "code",
      "source": [
        "s=input();print(s.count(\"a\"),s.count(\"l\"),s.count(\"b\"),s.count(\"m\"))"
      ],
      "metadata": {
        "colab": {
          "base_uri": "https://localhost:8080/"
        },
        "id": "95Ev0-0cblEC",
        "outputId": "09612258-60af-4664-fe9d-965e9b15236f"
      },
      "execution_count": null,
      "outputs": [
        {
          "output_type": "stream",
          "name": "stdout",
          "text": [
            "alabama\n",
            "4 1 1 1\n"
          ]
        }
      ]
    },
    {
      "cell_type": "code",
      "source": [
        "words=[\"Clarusway\", \"Arthur\", \"Data Science\", \"Statistics\", \"Alabama\"]\n",
        "print(words[0].count(\"a\"))"
      ],
      "metadata": {
        "colab": {
          "base_uri": "https://localhost:8080/"
        },
        "id": "vBPa4EV7iN6O",
        "outputId": "20d313b1-9ce6-4420-eb3c-d2bd8c02f612"
      },
      "execution_count": null,
      "outputs": [
        {
          "output_type": "stream",
          "name": "stdout",
          "text": [
            "2\n"
          ]
        }
      ]
    },
    {
      "cell_type": "code",
      "source": [
        "words=[\"Clarusway\", \"Arthur\", \"Data Science\", \"Statistics\", \"Alabama\"]\n",
        "ogren = (lambda i: words.count(\"a\") if i in words else False)(\"clarusway\")\n",
        "print(ogren)\n"
      ],
      "metadata": {
        "colab": {
          "base_uri": "https://localhost:8080/"
        },
        "id": "6QvqDR_2kG5i",
        "outputId": "d569b4f7-6557-4aa4-d201-b01101896aaa"
      },
      "execution_count": null,
      "outputs": [
        {
          "output_type": "stream",
          "name": "stdout",
          "text": [
            "True\n"
          ]
        }
      ]
    }
  ]
}
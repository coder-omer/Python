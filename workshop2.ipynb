{
  "nbformat": 4,
  "nbformat_minor": 0,
  "metadata": {
    "colab": {
      "name": "workshop2.ipynb",
      "provenance": [],
      "collapsed_sections": [],
      "authorship_tag": "ABX9TyOV1HuccqbRF3pDagK+each",
      "include_colab_link": true
    },
    "kernelspec": {
      "name": "python3",
      "display_name": "Python 3"
    },
    "language_info": {
      "name": "python"
    }
  },
  "cells": [
    {
      "cell_type": "markdown",
      "metadata": {
        "id": "view-in-github",
        "colab_type": "text"
      },
      "source": [
        "<a href=\"https://colab.research.google.com/github/coder-omer/Python/blob/main/workshop2.ipynb\" target=\"_parent\"><img src=\"https://colab.research.google.com/assets/colab-badge.svg\" alt=\"Open In Colab\"/></a>"
      ]
    },
    {
      "cell_type": "code",
      "metadata": {
        "colab": {
          "base_uri": "https://localhost:8080/"
        },
        "id": "DEqqoAqDQIER",
        "outputId": "0512fac7-d63c-4580-b0a0-8a79c2ce82e2"
      },
      "source": [
        "print(not 0 and \"write me\")"
      ],
      "execution_count": null,
      "outputs": [
        {
          "output_type": "stream",
          "name": "stdout",
          "text": [
            "write me\n"
          ]
        }
      ]
    },
    {
      "cell_type": "code",
      "metadata": {
        "colab": {
          "base_uri": "https://localhost:8080/"
        },
        "id": "jrPVjqoLQT2z",
        "outputId": "bb154ae5-7300-4435-bb37-5334d2b87ab2"
      },
      "source": [
        "yil = input('Hangi yıl olduğunu giriniz?(Örneğin 1984)')\n",
        "kontrol1 = int(yil) % 4\n",
        "kontrol2 = int(yil) % 400\n",
        "artik_yil = bool((kontrol1 == 0) and (kontrol2 == 0))\n",
        "print(artik_yil)"
      ],
      "execution_count": null,
      "outputs": [
        {
          "output_type": "stream",
          "name": "stdout",
          "text": [
            "Hangi yıl olduğunu giriniz?(Örneğin 1984)2100\n",
            "False\n"
          ]
        }
      ]
    },
    {
      "cell_type": "code",
      "metadata": {
        "colab": {
          "base_uri": "https://localhost:8080/"
        },
        "id": "SrfgX4vjQT5J",
        "outputId": "0ed21c4d-296c-47b3-8a3a-bb9c0e5c0740"
      },
      "source": [
        "yil = input('Hangi yıl olduğunu giriniz?(Örneğin 1984)')\n",
        "artik_yil = bool((int(yil) % 4 == 0) and (int(yil) % 400 == 0))\n",
        "print(artik_yil)"
      ],
      "execution_count": null,
      "outputs": [
        {
          "output_type": "stream",
          "name": "stdout",
          "text": [
            "Hangi yıl olduğunu giriniz?(Örneğin 1984)2100\n",
            "False\n"
          ]
        }
      ]
    },
    {
      "cell_type": "code",
      "metadata": {
        "colab": {
          "base_uri": "https://localhost:8080/"
        },
        "id": "EvXkqlmCQT75",
        "outputId": "8ab7f532-8e24-4567-d13d-7d5f7c5a14a4"
      },
      "source": [
        "yil = input('Hangi yıl olduğunu giriniz?(Örneğin 1984)')\n",
        "print(bool((int(yil) % 4 == 0) and (int(yil) % 400 == 0)))"
      ],
      "execution_count": null,
      "outputs": [
        {
          "output_type": "stream",
          "name": "stdout",
          "text": [
            "Hangi yıl olduğunu giriniz?(Örneğin 1984)2100\n",
            "False\n"
          ]
        }
      ]
    },
    {
      "cell_type": "code",
      "metadata": {
        "colab": {
          "base_uri": "https://localhost:8080/"
        },
        "id": "j0a-lsGaQT-r",
        "outputId": "00cd05b6-20ff-4e6d-a1e9-dbfec8a6f45a"
      },
      "source": [
        "cost_value = 31.87\n",
        "sell_value = 45.00\n",
        "inventory  = 1000\n",
        "\n",
        "total_profit = round ((sell_value-cost_value)*1000)\n",
        "print(total_profit)\n"
      ],
      "execution_count": null,
      "outputs": [
        {
          "output_type": "stream",
          "name": "stdout",
          "text": [
            "13130\n"
          ]
        }
      ]
    },
    {
      "cell_type": "code",
      "metadata": {
        "colab": {
          "base_uri": "https://localhost:8080/"
        },
        "id": "6YnvZZN0QUB0",
        "outputId": "131346ea-21d8-49e9-bee5-b50b91ab9786"
      },
      "source": [
        "sales = {\n",
        "  \"cost_value\": 31.87,\n",
        "  \"sell_value\": 45.00,\n",
        "  \"inventory\": 1000\n",
        "}  \n",
        "\n",
        "total_profit = round ((float(sales[\"sell_value\"])-float(sales[\"cost_value\"]))*int(sales[\"inventory\"]))\n",
        "print(total_profit)"
      ],
      "execution_count": null,
      "outputs": [
        {
          "output_type": "stream",
          "name": "stdout",
          "text": [
            "13130\n"
          ]
        }
      ]
    },
    {
      "cell_type": "code",
      "metadata": {
        "colab": {
          "base_uri": "https://localhost:8080/"
        },
        "id": "Kkc3wzyGQUEb",
        "outputId": "ca0d7a03-d471-494a-dac2-c6c3c29e4b51"
      },
      "source": [
        "sales = {\n",
        "  \"cost_value\": 31.87,\n",
        "  \"sell_value\": 45.00,\n",
        "  \"inventory\": 1000\n",
        "}  \n",
        "\n",
        "print(float(sales[\"cost_value\"]))\n"
      ],
      "execution_count": null,
      "outputs": [
        {
          "output_type": "stream",
          "name": "stdout",
          "text": [
            "31.87\n"
          ]
        }
      ]
    },
    {
      "cell_type": "code",
      "metadata": {
        "colab": {
          "base_uri": "https://localhost:8080/"
        },
        "id": "POj-qC0iQUG4",
        "outputId": "a06eccb4-e30b-419b-f170-46410d00d28f"
      },
      "source": [
        "amount_given = float(input(\"amount of dollars?\"))\n",
        "print(\"%.2f\" % amount_given)\n"
      ],
      "execution_count": null,
      "outputs": [
        {
          "output_type": "stream",
          "name": "stdout",
          "text": [
            "amount of dollars?4.1\n",
            "4.10\n"
          ]
        }
      ]
    }
  ]
}
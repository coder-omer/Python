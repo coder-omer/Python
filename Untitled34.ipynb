{
  "nbformat": 4,
  "nbformat_minor": 0,
  "metadata": {
    "colab": {
      "name": "Untitled34.ipynb",
      "provenance": [],
      "authorship_tag": "ABX9TyML6aafbWxIs3pCE0ywQLA4",
      "include_colab_link": true
    },
    "kernelspec": {
      "name": "python3",
      "display_name": "Python 3"
    },
    "language_info": {
      "name": "python"
    }
  },
  "cells": [
    {
      "cell_type": "markdown",
      "metadata": {
        "id": "view-in-github",
        "colab_type": "text"
      },
      "source": [
        "<a href=\"https://colab.research.google.com/github/coder-omer/Python/blob/main/Untitled34.ipynb\" target=\"_parent\"><img src=\"https://colab.research.google.com/assets/colab-badge.svg\" alt=\"Open In Colab\"/></a>"
      ]
    },
    {
      "cell_type": "markdown",
      "source": [
        "Create a method reverseNoSpec(String) that will reverse a string without affecting special characters\n",
        "Given a string, that contains special character together with alphabets (‘a’ to ‘z’ and ‘A’ to ‘Z’), reverse the string in a way that special characters are not affected.\n",
        "Input:   str = \"a,b$c\"\n",
        "Output:  str = \"c,b$a\"\n",
        "Note that $ and , are not moved anywhere.\n",
        "Only subsequence \"abc\" is reversed.\n",
        "Input:   str = \"a,b$c\"\n",
        "Output:  str = \"c,b$a\"\n",
        "Note that $ and , are not moved anywhere.\n",
        "Only subsequence \"abc\" is reversed.\n",
        "Input:   str = \"Ab,c,de!$\"\n",
        "Output:  str = \"ed,c,bA!$\"\n",
        "Input:   str = \"Ab,c,de!$\"\n",
        "Output:  str = \"ed,c,bA!$\"\n",
        "Input:   str = \"----qwe--r--tyf...gd.---\"\n",
        "Output:  str = \"----dgf--y--tre...wq.---\""
      ],
      "metadata": {
        "id": "VvyiIaGCIBch"
      }
    },
    {
      "cell_type": "code",
      "execution_count": null,
      "metadata": {
        "colab": {
          "base_uri": "https://localhost:8080/"
        },
        "id": "iTnxkYbqH9Hk",
        "outputId": "dc4f6505-3421-4c79-8172-cb0b39ab8e31"
      },
      "outputs": [
        {
          "output_type": "stream",
          "name": "stdout",
          "text": [
            "ila\n"
          ]
        }
      ],
      "source": [
        "def reverseNoSpec(String):\n",
        "  yaz = String[::-1]\n",
        "  print(yaz)\n",
        "\n",
        "reverseNoSpec(\"ali\")\n",
        "\n",
        "\n",
        "\n",
        "\n",
        "\n",
        "# '[@_!#$%^&*()<>?/\\|}{~:]'\n"
      ]
    },
    {
      "cell_type": "code",
      "source": [
        "def reverse_string_without_affecting_number(text):\n",
        "    temp = []\n",
        "    text = list(text)\n",
        "    for i in text:\n",
        "        if not i.isnumeric():\n",
        "            temp.append(i)\n",
        "    reverse_temp =  temp [::-1]\n",
        "    count = 0\n",
        "    for i in range(0,len(text)):  \n",
        "        if not text[i].isnumeric():\n",
        "            text[i] = reverse_temp[count]\n",
        "            count +=1  \n",
        "        else:\n",
        "            continue\n",
        "    return \"\".join(text)\n",
        "    \n",
        "print (reverse_string_without_affecting_number('abc1235de9f15ui!#$'))"
      ],
      "metadata": {
        "colab": {
          "base_uri": "https://localhost:8080/"
        },
        "id": "XpeAVnVtLYs-",
        "outputId": "6ae62c3a-9fce-43cd-8989-897ea31562e3"
      },
      "execution_count": null,
      "outputs": [
        {
          "output_type": "stream",
          "name": "stdout",
          "text": [
            "$#!1235iu9f15edcba\n"
          ]
        }
      ]
    },
    {
      "cell_type": "code",
      "source": [
        "def reverse_string_without_affecting_number(text):\n",
        "    temp = []\n",
        "    text = list(text)\n",
        "    for i in text:\n",
        "        if not i.isalnum():\n",
        "            temp.append(i)\n",
        "    reverse_temp =  temp [::-1]\n",
        "    count = 0\n",
        "    for i in range(0,len(text)):  \n",
        "        if not text[i].isalnum():\n",
        "            text[i] = reverse_temp[count]\n",
        "            count +=1  \n",
        "        else:\n",
        "            continue\n",
        "    return \"\".join(text)\n",
        "    \n",
        "print (reverse_string_without_affecting_number('abc1235de9f15ui!#$'))"
      ],
      "metadata": {
        "colab": {
          "base_uri": "https://localhost:8080/"
        },
        "id": "SBckUYMiLjX2",
        "outputId": "113012ce-67db-4c4b-da85-2dd2104b5109"
      },
      "execution_count": null,
      "outputs": [
        {
          "output_type": "stream",
          "name": "stdout",
          "text": [
            "abc1235de9f15ui$#!\n"
          ]
        }
      ]
    },
    {
      "cell_type": "code",
      "source": [
        "def reverse_string(st):\n",
        "    rev_word=''     \n",
        "    reverse_str=''\n",
        "    for l in st:\n",
        "        if l.isalpha():\n",
        "            rev_word=l+rev_word  \n",
        "\n",
        "        else:\n",
        "            reverse_str+=rev_word\n",
        "            rev_word=''\n",
        "            reverse_str+=l\n",
        "\n",
        "    return reverse_str\n",
        "\n",
        "\n",
        "reverse_string(' Hello, are you fine....')\n",
        "\n",
        "reverse_string('Ab,c,de!$')\n",
        "\n"
      ],
      "metadata": {
        "colab": {
          "base_uri": "https://localhost:8080/",
          "height": 35
        },
        "id": "3dE410dPMvLN",
        "outputId": "1d22bb59-5122-4a56-a508-b6011c95201c"
      },
      "execution_count": null,
      "outputs": [
        {
          "output_type": "execute_result",
          "data": {
            "application/vnd.google.colaboratory.intrinsic+json": {
              "type": "string"
            },
            "text/plain": [
              "'bA,c,ed!$'"
            ]
          },
          "metadata": {},
          "execution_count": 19
        }
      ]
    },
    {
      "cell_type": "code",
      "source": [
        "def ters(kelime):\n",
        "  tersi=[]\n",
        "  kelime = list(kelime)\n",
        "  for i in kelime:\n",
        "    if i.isalpha():\n",
        "      tersi[i] = i\n",
        "  return tersi\n",
        "\n",
        "ters(\"aslan\")\n"
      ],
      "metadata": {
        "colab": {
          "base_uri": "https://localhost:8080/",
          "height": 321
        },
        "id": "FwezALG_OV4B",
        "outputId": "17bb7c65-f690-4073-a504-1ad7b4f7d0ef"
      },
      "execution_count": null,
      "outputs": [
        {
          "output_type": "error",
          "ename": "TypeError",
          "evalue": "ignored",
          "traceback": [
            "\u001b[0;31m---------------------------------------------------------------------------\u001b[0m",
            "\u001b[0;31mTypeError\u001b[0m                                 Traceback (most recent call last)",
            "\u001b[0;32m<ipython-input-22-990a21e8ce25>\u001b[0m in \u001b[0;36m<module>\u001b[0;34m()\u001b[0m\n\u001b[1;32m      7\u001b[0m   \u001b[0;32mreturn\u001b[0m \u001b[0mtersi\u001b[0m\u001b[0;34m\u001b[0m\u001b[0;34m\u001b[0m\u001b[0m\n\u001b[1;32m      8\u001b[0m \u001b[0;34m\u001b[0m\u001b[0m\n\u001b[0;32m----> 9\u001b[0;31m \u001b[0mters\u001b[0m\u001b[0;34m(\u001b[0m\u001b[0;34m\"aslan\"\u001b[0m\u001b[0;34m)\u001b[0m\u001b[0;34m\u001b[0m\u001b[0;34m\u001b[0m\u001b[0m\n\u001b[0m",
            "\u001b[0;32m<ipython-input-22-990a21e8ce25>\u001b[0m in \u001b[0;36mters\u001b[0;34m(kelime)\u001b[0m\n\u001b[1;32m      4\u001b[0m   \u001b[0;32mfor\u001b[0m \u001b[0mi\u001b[0m \u001b[0;32min\u001b[0m \u001b[0mkelime\u001b[0m\u001b[0;34m:\u001b[0m\u001b[0;34m\u001b[0m\u001b[0;34m\u001b[0m\u001b[0m\n\u001b[1;32m      5\u001b[0m     \u001b[0;32mif\u001b[0m \u001b[0mi\u001b[0m\u001b[0;34m.\u001b[0m\u001b[0misalpha\u001b[0m\u001b[0;34m(\u001b[0m\u001b[0;34m)\u001b[0m\u001b[0;34m:\u001b[0m\u001b[0;34m\u001b[0m\u001b[0;34m\u001b[0m\u001b[0m\n\u001b[0;32m----> 6\u001b[0;31m       \u001b[0mtersi\u001b[0m\u001b[0;34m[\u001b[0m\u001b[0mi\u001b[0m\u001b[0;34m]\u001b[0m \u001b[0;34m=\u001b[0m \u001b[0mi\u001b[0m\u001b[0;34m\u001b[0m\u001b[0;34m\u001b[0m\u001b[0m\n\u001b[0m\u001b[1;32m      7\u001b[0m   \u001b[0;32mreturn\u001b[0m \u001b[0mtersi\u001b[0m\u001b[0;34m\u001b[0m\u001b[0;34m\u001b[0m\u001b[0m\n\u001b[1;32m      8\u001b[0m \u001b[0;34m\u001b[0m\u001b[0m\n",
            "\u001b[0;31mTypeError\u001b[0m: list indices must be integers or slices, not str"
          ]
        }
      ]
    },
    {
      "cell_type": "code",
      "source": [
        "site1 = \"www.google.com\"\n",
        "site2 = \"www.istihza.com\"\n",
        "site3 = \"www.yahoo.com\"\n",
        "site4 = \"www.gnu.org\"\n",
        "\n",
        "for isim in site1, site2, site3, site4:\n",
        "    print(\"site: \", isim[4:-4])"
      ],
      "metadata": {
        "colab": {
          "base_uri": "https://localhost:8080/"
        },
        "id": "pEUcm0dFOV7G",
        "outputId": "25913142-12a7-4bbf-d348-69f96bbff366"
      },
      "execution_count": null,
      "outputs": [
        {
          "output_type": "stream",
          "name": "stdout",
          "text": [
            "site:  google\n",
            "site:  istihza\n",
            "site:  yahoo\n",
            "site:  gnu\n"
          ]
        }
      ]
    },
    {
      "cell_type": "code",
      "source": [
        "kardiz = \"Sana Gül Bahçesi Vadetmedim\"\n",
        "kardiz[::-1]"
      ],
      "metadata": {
        "colab": {
          "base_uri": "https://localhost:8080/",
          "height": 35
        },
        "id": "gAm6snlsOV-p",
        "outputId": "a0e0b8d4-ff7d-4abd-ca1b-c13880dd1669"
      },
      "execution_count": null,
      "outputs": [
        {
          "output_type": "execute_result",
          "data": {
            "application/vnd.google.colaboratory.intrinsic+json": {
              "type": "string"
            },
            "text/plain": [
              "'midemtedaV iseçhaB lüG anaS'"
            ]
          },
          "metadata": {},
          "execution_count": 24
        }
      ]
    },
    {
      "cell_type": "code",
      "source": [
        "zit=reversed(\"Sana Gül Bahçesi Vadetmedim\")\n",
        "print(zit)"
      ],
      "metadata": {
        "colab": {
          "base_uri": "https://localhost:8080/"
        },
        "id": "U0n_XLAOOWBq",
        "outputId": "0f6cfbc9-e42d-4180-e435-a3a6947d71d3"
      },
      "execution_count": null,
      "outputs": [
        {
          "output_type": "stream",
          "name": "stdout",
          "text": [
            "<reversed object at 0x7f40336ba510>\n"
          ]
        }
      ]
    },
    {
      "cell_type": "code",
      "source": [
        "for i in range(10):\n",
        "    print(i)"
      ],
      "metadata": {
        "colab": {
          "base_uri": "https://localhost:8080/"
        },
        "id": "tWKpT5-ROWFE",
        "outputId": "afafd5e4-513d-4c67-f73c-06cfa200ba7f"
      },
      "execution_count": null,
      "outputs": [
        {
          "output_type": "stream",
          "name": "stdout",
          "text": [
            "0\n",
            "1\n",
            "2\n",
            "3\n",
            "4\n",
            "5\n",
            "6\n",
            "7\n",
            "8\n",
            "9\n"
          ]
        }
      ]
    },
    {
      "cell_type": "code",
      "source": [
        "print(*range(10))"
      ],
      "metadata": {
        "colab": {
          "base_uri": "https://localhost:8080/"
        },
        "id": "yDTR1Sk_OWIY",
        "outputId": "001453da-035c-41e9-e27e-d75a23950ee1"
      },
      "execution_count": null,
      "outputs": [
        {
          "output_type": "stream",
          "name": "stdout",
          "text": [
            "0 1 2 3 4 5 6 7 8 9\n"
          ]
        }
      ]
    },
    {
      "cell_type": "code",
      "source": [
        "for i in reversed(\"Sana Gül Bahçesi Vadetmedim\"):\n",
        "    print(i, end=\"\")"
      ],
      "metadata": {
        "colab": {
          "base_uri": "https://localhost:8080/"
        },
        "id": "WiOyw3WHRpkg",
        "outputId": "59992c05-3026-48a7-fc6b-e0423e74f627"
      },
      "execution_count": null,
      "outputs": [
        {
          "output_type": "stream",
          "name": "stdout",
          "text": [
            "midemtedaV iseçhaB lüG anaS"
          ]
        }
      ]
    },
    {
      "cell_type": "code",
      "source": [
        "for i in (\"Sana Gül Bahçesi Vadetmedim\"):\n",
        "    print(i, end=\"\")"
      ],
      "metadata": {
        "colab": {
          "base_uri": "https://localhost:8080/"
        },
        "id": "grqdHu_eRpn-",
        "outputId": "85848ff8-306e-42ee-ba5a-7007c0857f07"
      },
      "execution_count": null,
      "outputs": [
        {
          "output_type": "stream",
          "name": "stdout",
          "text": [
            "Sana Gül Bahçesi Vadetmedim"
          ]
        }
      ]
    },
    {
      "cell_type": "code",
      "source": [
        "sesli_harfler = \"aeıioöuü\"\n",
        "sessiz_harfler = \"bcçdfgğhjklmnprsştvyz\"\n",
        "\n",
        "sesliler = \"\"\n",
        "sessizler = \"\"\n",
        "\n",
        "kelime = \"istanbul\"\n",
        "\n",
        "for i in kelime:\n",
        "    if i in sesli_harfler:\n",
        "        sesliler += i\n",
        "    else:\n",
        "        sessizler += i\n",
        "\n",
        "print(\"sesli harfler: \", sesliler)\n",
        "print(\"sessiz harfler: \", sessizler)"
      ],
      "metadata": {
        "colab": {
          "base_uri": "https://localhost:8080/"
        },
        "id": "BhfoIKjDRpuF",
        "outputId": "304c8c35-92a9-4949-8aa4-59a96c980c27"
      },
      "execution_count": null,
      "outputs": [
        {
          "output_type": "stream",
          "name": "stdout",
          "text": [
            "sesli harfler:  iau\n",
            "sessiz harfler:  stnbl\n"
          ]
        }
      ]
    },
    {
      "cell_type": "code",
      "source": [
        "strSample='abc/defgh$ij'\n",
        " \n",
        "#convert string into list\n",
        "listSample=list(strSample)\n",
        " \n",
        "i=0\n",
        "j=len(listSample)-1\n",
        " \n",
        "while i<j:\n",
        "    if not listSample[i].isalpha():\n",
        "        i+=1\n",
        "    elif not listSample[j].isalpha():\n",
        "        j-=1\n",
        "    else:\n",
        "        #swap the element in the list \n",
        "        #if both elements are alphabets\n",
        "        listSample[i], listSample[j]=listSample[j], listSample[i]\n",
        "        i+=1\n",
        "        j-=1\n",
        "\n",
        "#convert list into string \n",
        "#by concatinating each element in the list\n",
        "strOut=''.join(listSample)\n",
        "print(strOut)"
      ],
      "metadata": {
        "colab": {
          "base_uri": "https://localhost:8080/"
        },
        "id": "SUlw320BRpxW",
        "outputId": "c0025a6c-4347-4e66-a8e4-87f20c425b5c"
      },
      "execution_count": null,
      "outputs": [
        {
          "output_type": "stream",
          "name": "stdout",
          "text": [
            "jih/gfedc$ba\n"
          ]
        }
      ]
    },
    {
      "cell_type": "code",
      "source": [
        "Girdi= input(\"Input a string that will be reversed without affecting special characters :  \")\n",
        "\n",
        "liste1 = list(Girdi)\n",
        "\n",
        "i = 0\n",
        "j = len(liste1) - 1\n",
        "\n",
        "while i<j:\n",
        "    if not liste1[i].isalpha():      # isalpha işlevi bir karakterin alfabetik bir karakter olup olmadığını sınar\n",
        "        i+=1\n",
        "    elif not liste1[j].isalpha():\n",
        "        j-=1\n",
        "    else:\n",
        "        liste1[i], liste1[j]=liste1[j], liste1[i]\n",
        "        i+=1\n",
        "        j-=1\n",
        "\n",
        "Çıktı=''.join(liste1)\n",
        "print(Çıktı)\n",
        "\n",
        "    \n"
      ],
      "metadata": {
        "colab": {
          "base_uri": "https://localhost:8080/"
        },
        "id": "HZZrJDf-Rp0x",
        "outputId": "d974bcc9-ce20-4cbc-e4fa-978466b6fe5a"
      },
      "execution_count": null,
      "outputs": [
        {
          "output_type": "stream",
          "name": "stdout",
          "text": [
            "Input a string that will be reversed without affecting special characters :  \"Ab,c,de!$\"\n",
            "\"ed,c,bA!$\"\n"
          ]
        }
      ]
    },
    {
      "cell_type": "code",
      "source": [
        "Girdi= input(\"Input a string that will be reversed without affecting special characters :  \")\n",
        "\n",
        "liste1 = list(Girdi)\n",
        "\n",
        "print(liste1)\n",
        "print(len(liste1))\n",
        "\n",
        "i = 0\n",
        "j = len(liste1) - 1\n",
        "\n",
        "while i<j:\n",
        "    if not liste1[i].isalpha():      # isalpha işlevi bir karakterin alfabetik bir karakter olup olmadığını sınar\n",
        "        i+=1\n",
        "    elif not liste1[j].isalpha():\n",
        "        j-=1\n",
        "    else:\n",
        "        liste1[i], liste1[j]=liste1[j], liste1[i]\n",
        "        i+=1\n",
        "        j-=1\n",
        "\n",
        "Çıktı=''.join(liste1)\n",
        "print(Çıktı)"
      ],
      "metadata": {
        "colab": {
          "base_uri": "https://localhost:8080/"
        },
        "id": "CMZsu9nWRp3g",
        "outputId": "aa92829f-789a-4bd9-b18d-42f4e574163a"
      },
      "execution_count": null,
      "outputs": [
        {
          "output_type": "stream",
          "name": "stdout",
          "text": [
            "Input a string that will be reversed without affecting special characters :  \"a,b$c\"\n",
            "['\"', 'a', ',', 'b', '$', 'c', '\"']\n",
            "7\n",
            "\"c,b$a\"\n"
          ]
        }
      ]
    }
  ]
}
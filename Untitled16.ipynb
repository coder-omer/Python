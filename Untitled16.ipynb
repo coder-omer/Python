{
  "nbformat": 4,
  "nbformat_minor": 0,
  "metadata": {
    "colab": {
      "name": "Untitled16.ipynb",
      "provenance": [],
      "authorship_tag": "ABX9TyMxPyLRgeAlF4hcbweFDnoU"
    },
    "kernelspec": {
      "name": "python3",
      "display_name": "Python 3"
    },
    "language_info": {
      "name": "python"
    }
  },
  "cells": [
    {
      "cell_type": "code",
      "metadata": {
        "id": "W0YuSFxcwCWv"
      },
      "source": [
        "# def\n",
        "# True\n",
        "# and \n",
        "# or\n",
        "# while"
      ],
      "execution_count": null,
      "outputs": []
    },
    {
      "cell_type": "code",
      "metadata": {
        "colab": {
          "base_uri": "https://localhost:8080/"
        },
        "id": "Plnz-uDBwC_j",
        "outputId": "2a53e40e-8be8-4ee6-a4d9-ef49246e6766"
      },
      "source": [
        "january=march=may=june=august=october=december=31\n",
        "april=may=july=september=november=30\n",
        "february=28\n",
        "print(january,february,march,april)"
      ],
      "execution_count": null,
      "outputs": [
        {
          "output_type": "stream",
          "name": "stdout",
          "text": [
            "31 28 31 30\n"
          ]
        }
      ]
    },
    {
      "cell_type": "code",
      "metadata": {
        "colab": {
          "base_uri": "https://localhost:8080/"
        },
        "id": "FtH2mYLBwDCB",
        "outputId": "a927ba30-a055-4e0a-dca7-5fe05ac0ab39"
      },
      "source": [
        "thomas = 33\n",
        "edwin = 30\n",
        "walter = None\n",
        "isabella = 44\n",
        "\n",
        "print(thomas)\n",
        "print(edwin)\n",
        "print(walter)\n",
        "print(isabella)"
      ],
      "execution_count": null,
      "outputs": [
        {
          "output_type": "stream",
          "name": "stdout",
          "text": [
            "33\n",
            "30\n",
            "None\n",
            "44\n"
          ]
        }
      ]
    },
    {
      "cell_type": "code",
      "metadata": {
        "colab": {
          "base_uri": "https://localhost:8080/",
          "height": 135
        },
        "id": "VjkuDSQ1Si4d",
        "outputId": "bded82c0-35e3-455e-da23-5fcd09b1923a"
      },
      "source": [
        "\"Ali\" = \"Veli\""
      ],
      "execution_count": null,
      "outputs": [
        {
          "output_type": "error",
          "ename": "SyntaxError",
          "evalue": "ignored",
          "traceback": [
            "\u001b[0;36m  File \u001b[0;32m\"<ipython-input-6-c866fc356b2f>\"\u001b[0;36m, line \u001b[0;32m1\u001b[0m\n\u001b[0;31m    \"Ali\" = \"Veli\"\u001b[0m\n\u001b[0m                  ^\u001b[0m\n\u001b[0;31mSyntaxError\u001b[0m\u001b[0;31m:\u001b[0m can't assign to literal\n"
          ]
        }
      ]
    },
    {
      "cell_type": "code",
      "metadata": {
        "colab": {
          "base_uri": "https://localhost:8080/"
        },
        "id": "OZnYFG03wDE7",
        "outputId": "a7339535-ec52-45d1-da13-0edaebbad604"
      },
      "source": [
        "type(-18.66)"
      ],
      "execution_count": null,
      "outputs": [
        {
          "output_type": "execute_result",
          "data": {
            "text/plain": [
              "float"
            ]
          },
          "metadata": {},
          "execution_count": 9
        }
      ]
    },
    {
      "cell_type": "code",
      "metadata": {
        "colab": {
          "base_uri": "https://localhost:8080/"
        },
        "id": "Ol5qWphHwDHC",
        "outputId": "5cf36f32-1097-44b6-e920-edcf5fa8ab12"
      },
      "source": [
        "type(5)"
      ],
      "execution_count": null,
      "outputs": [
        {
          "output_type": "execute_result",
          "data": {
            "text/plain": [
              "int"
            ]
          },
          "metadata": {},
          "execution_count": 1
        }
      ]
    },
    {
      "cell_type": "code",
      "metadata": {
        "id": "tQ2pwcZ8Syox"
      },
      "source": [
        ""
      ],
      "execution_count": null,
      "outputs": []
    }
  ]
}
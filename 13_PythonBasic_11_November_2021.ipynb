{
  "nbformat": 4,
  "nbformat_minor": 5,
  "metadata": {
    "kernelspec": {
      "display_name": "Python 3",
      "language": "python",
      "name": "python3"
    },
    "language_info": {
      "codemirror_mode": {
        "name": "ipython",
        "version": 3
      },
      "file_extension": ".py",
      "mimetype": "text/x-python",
      "name": "python",
      "nbconvert_exporter": "python",
      "pygments_lexer": "ipython3",
      "version": "3.8.8"
    },
    "colab": {
      "name": "13_PythonBasic_11-November-2021.ipynb",
      "provenance": []
    }
  },
  "cells": [
    {
      "cell_type": "code",
      "metadata": {
        "id": "8a5ef814"
      },
      "source": [
        "# while condition1 :\n",
        "#     body\n",
        "#     while condition2 :\n",
        "#         body\n",
        "#         break\n",
        "        \n",
        "#     break"
      ],
      "id": "8a5ef814",
      "execution_count": 27,
      "outputs": []
    },
    {
      "cell_type": "code",
      "metadata": {
        "id": "99156b6f",
        "outputId": "f442a30a-ef98-4133-bf16-54f9b9304c3d",
        "colab": {
          "base_uri": "https://localhost:8080/"
        }
      },
      "source": [
        "for i in range(5) :\n",
        "    print(i)"
      ],
      "id": "99156b6f",
      "execution_count": 3,
      "outputs": [
        {
          "output_type": "stream",
          "name": "stdout",
          "text": [
            "0\n",
            "1\n",
            "2\n",
            "3\n",
            "4\n"
          ]
        }
      ]
    },
    {
      "cell_type": "code",
      "metadata": {
        "id": "2edb209c",
        "outputId": "65930e5c-5718-4a28-e155-c3d8fcddc6da",
        "colab": {
          "base_uri": "https://localhost:8080/"
        }
      },
      "source": [
        "i"
      ],
      "id": "2edb209c",
      "execution_count": 4,
      "outputs": [
        {
          "output_type": "execute_result",
          "data": {
            "text/plain": [
              "4"
            ]
          },
          "metadata": {},
          "execution_count": 4
        }
      ]
    },
    {
      "cell_type": "code",
      "metadata": {
        "id": "fc03e8cb",
        "outputId": "5aa544ba-93c4-4bdb-d64e-99b9f74d3655",
        "colab": {
          "base_uri": "https://localhost:8080/"
        }
      },
      "source": [
        "range(11)"
      ],
      "id": "fc03e8cb",
      "execution_count": 5,
      "outputs": [
        {
          "output_type": "execute_result",
          "data": {
            "text/plain": [
              "range(0, 11)"
            ]
          },
          "metadata": {},
          "execution_count": 5
        }
      ]
    },
    {
      "cell_type": "code",
      "metadata": {
        "id": "ed20edda",
        "outputId": "89faebc8-e1c2-4690-9eca-28b001621932",
        "colab": {
          "base_uri": "https://localhost:8080/"
        }
      },
      "source": [
        "for i in range(11) :\n",
        "    print(i, end= \" \")"
      ],
      "id": "ed20edda",
      "execution_count": 6,
      "outputs": [
        {
          "output_type": "stream",
          "name": "stdout",
          "text": [
            "0 1 2 3 4 5 6 7 8 9 10 "
          ]
        }
      ]
    },
    {
      "cell_type": "code",
      "metadata": {
        "id": "76034d45",
        "outputId": "0f54c3eb-d941-4728-d578-5cafa9a339ef",
        "colab": {
          "base_uri": "https://localhost:8080/"
        }
      },
      "source": [
        "list(range(11))"
      ],
      "id": "76034d45",
      "execution_count": 7,
      "outputs": [
        {
          "output_type": "execute_result",
          "data": {
            "text/plain": [
              "[0, 1, 2, 3, 4, 5, 6, 7, 8, 9, 10]"
            ]
          },
          "metadata": {},
          "execution_count": 7
        }
      ]
    },
    {
      "cell_type": "code",
      "metadata": {
        "id": "b3c5e1bd",
        "outputId": "154e695b-5375-496e-8d80-862a1bd52249",
        "colab": {
          "base_uri": "https://localhost:8080/"
        }
      },
      "source": [
        "tuple(range(11))"
      ],
      "id": "b3c5e1bd",
      "execution_count": 8,
      "outputs": [
        {
          "output_type": "execute_result",
          "data": {
            "text/plain": [
              "(0, 1, 2, 3, 4, 5, 6, 7, 8, 9, 10)"
            ]
          },
          "metadata": {},
          "execution_count": 8
        }
      ]
    },
    {
      "cell_type": "code",
      "metadata": {
        "id": "ff602f24",
        "outputId": "c61e45f9-e405-41ec-8cb6-e036e384d2b4",
        "colab": {
          "base_uri": "https://localhost:8080/"
        }
      },
      "source": [
        "set(range(11))"
      ],
      "id": "ff602f24",
      "execution_count": 9,
      "outputs": [
        {
          "output_type": "execute_result",
          "data": {
            "text/plain": [
              "{0, 1, 2, 3, 4, 5, 6, 7, 8, 9, 10}"
            ]
          },
          "metadata": {},
          "execution_count": 9
        }
      ]
    },
    {
      "cell_type": "code",
      "metadata": {
        "id": "33a98b0a",
        "outputId": "212657c2-58dd-40b6-90d4-c1933aed9dd4",
        "colab": {
          "base_uri": "https://localhost:8080/"
        }
      },
      "source": [
        "print(* range(11))"
      ],
      "id": "33a98b0a",
      "execution_count": 10,
      "outputs": [
        {
          "output_type": "stream",
          "name": "stdout",
          "text": [
            "0 1 2 3 4 5 6 7 8 9 10\n"
          ]
        }
      ]
    },
    {
      "cell_type": "code",
      "metadata": {
        "id": "f8574e69",
        "outputId": "55dd1a75-de0c-4312-b59d-edaef7886b4a",
        "colab": {
          "base_uri": "https://localhost:8080/"
        }
      },
      "source": [
        "print(range(11))"
      ],
      "id": "f8574e69",
      "execution_count": 11,
      "outputs": [
        {
          "output_type": "stream",
          "name": "stdout",
          "text": [
            "range(0, 11)\n"
          ]
        }
      ]
    },
    {
      "cell_type": "code",
      "metadata": {
        "scrolled": true,
        "id": "63d5b820",
        "outputId": "48757627-f93e-4c6a-82ee-de44c5599434",
        "colab": {
          "base_uri": "https://localhost:8080/"
        }
      },
      "source": [
        "word = input(\"Give me a word : \")\n",
        "\n",
        "counter = 0\n",
        "for i in word :\n",
        "    \n",
        "    counter += 1\n",
        "    \n",
        "    if counter < len(word) :\n",
        "        i = i + \"-\"\n",
        "    print(i, end = \"\")"
      ],
      "id": "63d5b820",
      "execution_count": 12,
      "outputs": [
        {
          "output_type": "stream",
          "name": "stdout",
          "text": [
            "Give me a word : clarusway\n",
            "c-l-a-r-u-s-w-a-y"
          ]
        }
      ]
    },
    {
      "cell_type": "code",
      "metadata": {
        "id": "6cf43b7c",
        "outputId": "d25ca0de-e3f4-48ff-f952-a56adc4a13b7",
        "colab": {
          "base_uri": "https://localhost:8080/"
        }
      },
      "source": [
        "user = {\n",
        "\t'name':'Daniel',\n",
        "\t'surname':'Smith',\n",
        "\t'age':35\n",
        "}\n",
        "\n",
        "for i, j in user.items():\n",
        "\tprint(i, j)\n"
      ],
      "id": "6cf43b7c",
      "execution_count": 13,
      "outputs": [
        {
          "output_type": "stream",
          "name": "stdout",
          "text": [
            "name Daniel\n",
            "surname Smith\n",
            "age 35\n"
          ]
        }
      ]
    },
    {
      "cell_type": "code",
      "metadata": {
        "id": "de930a33"
      },
      "source": [
        "test = [(1,2), (3,4), (5,6)]"
      ],
      "id": "de930a33",
      "execution_count": 14,
      "outputs": []
    },
    {
      "cell_type": "code",
      "metadata": {
        "id": "e3f1de08",
        "outputId": "738ca704-1d4a-41c9-a38b-8f1449234bc4",
        "colab": {
          "base_uri": "https://localhost:8080/"
        }
      },
      "source": [
        "for i, j in test :\n",
        "    print(i, j)"
      ],
      "id": "e3f1de08",
      "execution_count": 15,
      "outputs": [
        {
          "output_type": "stream",
          "name": "stdout",
          "text": [
            "1 2\n",
            "3 4\n",
            "5 6\n"
          ]
        }
      ]
    },
    {
      "cell_type": "code",
      "metadata": {
        "id": "23d0eb4a",
        "outputId": "a42d38cd-c758-4fdf-bf51-33297c63e88c",
        "colab": {
          "base_uri": "https://localhost:8080/"
        }
      },
      "source": [
        "numara = int(input(\"enter a number between 1-9\"))\n",
        "\n",
        "for i in range(11) :\n",
        "    print(\"{}x{} = \".format(numara, i), numara * i)"
      ],
      "id": "23d0eb4a",
      "execution_count": 16,
      "outputs": [
        {
          "output_type": "stream",
          "name": "stdout",
          "text": [
            "enter a number between 1-96\n",
            "6x0 =  0\n",
            "6x1 =  6\n",
            "6x2 =  12\n",
            "6x3 =  18\n",
            "6x4 =  24\n",
            "6x5 =  30\n",
            "6x6 =  36\n",
            "6x7 =  42\n",
            "6x8 =  48\n",
            "6x9 =  54\n",
            "6x10 =  60\n"
          ]
        }
      ]
    },
    {
      "cell_type": "markdown",
      "metadata": {
        "id": "a1859915"
      },
      "source": [
        "```\n",
        "1\n",
        "22\n",
        "333\n",
        "4444\n",
        "55555\n",
        "666666\n",
        "7777777\n",
        "88888888\n",
        "999999999\n",
        "```"
      ],
      "id": "a1859915"
    },
    {
      "cell_type": "code",
      "metadata": {
        "id": "8606c184",
        "outputId": "6ccb3284-93f6-4708-cfb9-c2f67db32623",
        "colab": {
          "base_uri": "https://localhost:8080/"
        }
      },
      "source": [
        "for i in range(1,10):\n",
        "    print(str(i) * i)"
      ],
      "id": "8606c184",
      "execution_count": 17,
      "outputs": [
        {
          "output_type": "stream",
          "name": "stdout",
          "text": [
            "1\n",
            "22\n",
            "333\n",
            "4444\n",
            "55555\n",
            "666666\n",
            "7777777\n",
            "88888888\n",
            "999999999\n"
          ]
        }
      ]
    },
    {
      "cell_type": "code",
      "metadata": {
        "id": "cd14be7b",
        "outputId": "c0593585-d259-42f0-c18f-9afae6ac1d60",
        "colab": {
          "base_uri": "https://localhost:8080/",
          "height": 35
        }
      },
      "source": [
        "\"5\" * 5"
      ],
      "id": "cd14be7b",
      "execution_count": 18,
      "outputs": [
        {
          "output_type": "execute_result",
          "data": {
            "application/vnd.google.colaboratory.intrinsic+json": {
              "type": "string"
            },
            "text/plain": [
              "'55555'"
            ]
          },
          "metadata": {},
          "execution_count": 18
        }
      ]
    },
    {
      "cell_type": "code",
      "metadata": {
        "id": "bfa2ff0b",
        "outputId": "45c1c39d-ed8e-412a-a398-d87a398bc1d1",
        "colab": {
          "base_uri": "https://localhost:8080/",
          "height": 35
        }
      },
      "source": [
        "\"ali \" * 3"
      ],
      "id": "bfa2ff0b",
      "execution_count": 19,
      "outputs": [
        {
          "output_type": "execute_result",
          "data": {
            "application/vnd.google.colaboratory.intrinsic+json": {
              "type": "string"
            },
            "text/plain": [
              "'ali ali ali '"
            ]
          },
          "metadata": {},
          "execution_count": 19
        }
      ]
    },
    {
      "cell_type": "code",
      "metadata": {
        "id": "5a233160",
        "outputId": "4cc92878-4f50-4ab6-ef16-a26219070b8b",
        "colab": {
          "base_uri": "https://localhost:8080/"
        }
      },
      "source": [
        "print(* range(10,1,-1))"
      ],
      "id": "5a233160",
      "execution_count": 20,
      "outputs": [
        {
          "output_type": "stream",
          "name": "stdout",
          "text": [
            "10 9 8 7 6 5 4 3 2\n"
          ]
        }
      ]
    },
    {
      "cell_type": "code",
      "metadata": {
        "id": "40c5aeeb"
      },
      "source": [
        "text = ['one', 'two', 'three', 'four', 'five']\n",
        "numbers = [1, 2, 3, 4, 5]\n"
      ],
      "id": "40c5aeeb",
      "execution_count": 21,
      "outputs": []
    },
    {
      "cell_type": "code",
      "metadata": {
        "id": "a20709da"
      },
      "source": [
        "zipped = zip(text, numbers)"
      ],
      "id": "a20709da",
      "execution_count": 22,
      "outputs": []
    },
    {
      "cell_type": "code",
      "metadata": {
        "id": "49a8cc80",
        "outputId": "8bea6d68-4772-4215-c46c-96b7783de825",
        "colab": {
          "base_uri": "https://localhost:8080/"
        }
      },
      "source": [
        "zipped"
      ],
      "id": "49a8cc80",
      "execution_count": 23,
      "outputs": [
        {
          "output_type": "execute_result",
          "data": {
            "text/plain": [
              "<zip at 0x7f96fed81c30>"
            ]
          },
          "metadata": {},
          "execution_count": 23
        }
      ]
    },
    {
      "cell_type": "code",
      "metadata": {
        "id": "5ae328b0",
        "outputId": "6cb3cc7a-ea37-43e7-ad53-2df8fcd4b509",
        "colab": {
          "base_uri": "https://localhost:8080/"
        }
      },
      "source": [
        "print(* zipped)"
      ],
      "id": "5ae328b0",
      "execution_count": 24,
      "outputs": [
        {
          "output_type": "stream",
          "name": "stdout",
          "text": [
            "('one', 1) ('two', 2) ('three', 3) ('four', 4) ('five', 5)\n"
          ]
        }
      ]
    },
    {
      "cell_type": "code",
      "metadata": {
        "id": "48bca89a"
      },
      "source": [
        "zipped = zip(text, numbers)"
      ],
      "id": "48bca89a",
      "execution_count": 25,
      "outputs": []
    },
    {
      "cell_type": "code",
      "metadata": {
        "id": "1686d46d",
        "outputId": "12f3e706-ce40-4118-a356-4b0046022eb0",
        "colab": {
          "base_uri": "https://localhost:8080/"
        }
      },
      "source": [
        "for x, y in zipped:\n",
        "\tprint(x, ':', y)\n"
      ],
      "id": "1686d46d",
      "execution_count": 26,
      "outputs": [
        {
          "output_type": "stream",
          "name": "stdout",
          "text": [
            "one : 1\n",
            "two : 2\n",
            "three : 3\n",
            "four : 4\n",
            "five : 5\n"
          ]
        }
      ]
    },
    {
      "cell_type": "code",
      "metadata": {
        "id": "d4a7f88d"
      },
      "source": [
        "zipped = zip(text, numbers)"
      ],
      "id": "d4a7f88d",
      "execution_count": 29,
      "outputs": []
    },
    {
      "cell_type": "code",
      "metadata": {
        "id": "51ddd032",
        "outputId": "99a687eb-96e4-42ec-fc9f-f4d37dbdcda8",
        "colab": {
          "base_uri": "https://localhost:8080/"
        }
      },
      "source": [
        "list(zipped)"
      ],
      "id": "51ddd032",
      "execution_count": 30,
      "outputs": [
        {
          "output_type": "execute_result",
          "data": {
            "text/plain": [
              "[('one', 1), ('two', 2), ('three', 3), ('four', 4), ('five', 5)]"
            ]
          },
          "metadata": {},
          "execution_count": 30
        }
      ]
    },
    {
      "cell_type": "code",
      "metadata": {
        "id": "33815c94"
      },
      "source": [
        "zipped = zip(text, numbers)"
      ],
      "id": "33815c94",
      "execution_count": 31,
      "outputs": []
    },
    {
      "cell_type": "code",
      "metadata": {
        "id": "3a7b8481",
        "outputId": "5856e6e8-a944-4d67-a685-d867ccc8dd4d",
        "colab": {
          "base_uri": "https://localhost:8080/"
        }
      },
      "source": [
        "dict(zipped)"
      ],
      "id": "3a7b8481",
      "execution_count": 32,
      "outputs": [
        {
          "output_type": "execute_result",
          "data": {
            "text/plain": [
              "{'five': 5, 'four': 4, 'one': 1, 'three': 3, 'two': 2}"
            ]
          },
          "metadata": {},
          "execution_count": 32
        }
      ]
    },
    {
      "cell_type": "code",
      "metadata": {
        "id": "65e533c1",
        "outputId": "b1cb4567-6a21-4807-f879-c08ac015641e",
        "colab": {
          "base_uri": "https://localhost:8080/"
        }
      },
      "source": [
        "evens = []\n",
        "odds = []\n",
        "\n",
        "for n in range(10) :\n",
        "    \n",
        "    if n % 2 == 0 :\n",
        "        evens.append(n)\n",
        "    else :\n",
        "        odds.append(n)\n",
        "        \n",
        "print(\"evens : \", evens)\n",
        "print(\"odds : \", odds)"
      ],
      "id": "65e533c1",
      "execution_count": 33,
      "outputs": [
        {
          "output_type": "stream",
          "name": "stdout",
          "text": [
            "evens :  [0, 2, 4, 6, 8]\n",
            "odds :  [1, 3, 5, 7, 9]\n"
          ]
        }
      ]
    },
    {
      "cell_type": "code",
      "metadata": {
        "id": "f889a5a3"
      },
      "source": [
        "numbers = (11, 36, 33, 66, 89, 21, 32, 16, 10)"
      ],
      "id": "f889a5a3",
      "execution_count": 34,
      "outputs": []
    },
    {
      "cell_type": "code",
      "metadata": {
        "id": "e78f9add",
        "outputId": "31c6b714-207a-4f9b-f648-9fbe80977f63",
        "colab": {
          "base_uri": "https://localhost:8080/"
        }
      },
      "source": [
        "odds = 0\n",
        "evens = 0\n",
        "\n",
        "for i in numbers :\n",
        "    \n",
        "    if i % 2 == 0 :\n",
        "        evens += 1\n",
        "    else :\n",
        "        odds += 1\n",
        "        \n",
        "print(\"evens count :\", evens)\n",
        "print(\"odds count : \", odds)"
      ],
      "id": "e78f9add",
      "execution_count": 35,
      "outputs": [
        {
          "output_type": "stream",
          "name": "stdout",
          "text": [
            "evens count : 5\n",
            "odds count :  4\n"
          ]
        }
      ]
    },
    {
      "cell_type": "code",
      "metadata": {
        "id": "18a86305"
      },
      "source": [
        ""
      ],
      "id": "18a86305",
      "execution_count": null,
      "outputs": []
    }
  ]
}
{
  "nbformat": 4,
  "nbformat_minor": 0,
  "metadata": {
    "colab": {
      "name": "Untitled19.ipynb",
      "provenance": [],
      "authorship_tag": "ABX9TyOTiXIAyULiZmur54bbWhgJ",
      "include_colab_link": true
    },
    "kernelspec": {
      "name": "python3",
      "display_name": "Python 3"
    },
    "language_info": {
      "name": "python"
    }
  },
  "cells": [
    {
      "cell_type": "markdown",
      "metadata": {
        "id": "view-in-github",
        "colab_type": "text"
      },
      "source": [
        "<a href=\"https://colab.research.google.com/github/coder-omer/Python/blob/main/Untitled19.ipynb\" target=\"_parent\"><img src=\"https://colab.research.google.com/assets/colab-badge.svg\" alt=\"Open In Colab\"/></a>"
      ]
    },
    {
      "cell_type": "markdown",
      "source": [
        "                          Exercise 168\n",
        "\n",
        "Given the triangle of consecutive odd numbers:\n",
        "\n",
        "               1\n",
        "            3     5\n",
        "        7     9    11\n",
        "     13    15    17    19\n",
        "    21    23    25    27    29\n",
        "\n",
        "...\n",
        "\n",
        "Calculate the sum of the numbers in the nth row of this triangle (starting at index 1) e.g.: (Input --> Output)\n",
        "\n",
        "1 -->  1\n",
        "\n",
        "2 --> 3 + 5 = 8"
      ],
      "metadata": {
        "id": "uiI5PbP3SxOy"
      }
    },
    {
      "cell_type": "markdown",
      "source": [
        ""
      ],
      "metadata": {
        "id": "lQZuVomKVj3q"
      }
    },
    {
      "cell_type": "code",
      "source": [
        ""
      ],
      "metadata": {
        "id": "yEWAMv7TVkPA"
      },
      "execution_count": null,
      "outputs": []
    },
    {
      "cell_type": "code",
      "source": [
        "def sum_odd_tri(num):\n",
        "  return num ** 3\n",
        "\n",
        "sum_odd_tri(8)"
      ],
      "metadata": {
        "colab": {
          "base_uri": "https://localhost:8080/"
        },
        "id": "WKceaiPNVq3o",
        "outputId": "63befe0f-a711-4f07-ad00-20c08868b4e3"
      },
      "execution_count": null,
      "outputs": [
        {
          "output_type": "execute_result",
          "data": {
            "text/plain": [
              "512"
            ]
          },
          "metadata": {},
          "execution_count": 14
        }
      ]
    },
    {
      "cell_type": "code",
      "source": [
        ""
      ],
      "metadata": {
        "id": "cEURu6EdWVln"
      },
      "execution_count": null,
      "outputs": []
    },
    {
      "cell_type": "markdown",
      "source": [
        "Verilen sayıya kadar olan tek sayıların toplamı"
      ],
      "metadata": {
        "id": "15qcri405S2Y"
      }
    },
    {
      "cell_type": "code",
      "execution_count": null,
      "metadata": {
        "colab": {
          "base_uri": "https://localhost:8080/"
        },
        "id": "CxzLGxXvSFd7",
        "outputId": "aeb7bf07-343e-4c4f-9b91-e7fd8250dad4"
      },
      "outputs": [
        {
          "output_type": "execute_result",
          "data": {
            "text/plain": [
              "36"
            ]
          },
          "metadata": {},
          "execution_count": 34
        }
      ],
      "source": [
        "def sum_triangle(number):\n",
        "    res = 0\n",
        "    for i in range(1,number+1):\n",
        "      if i % 2 != 0:\n",
        "        res = res + i\n",
        "    return res\n",
        "\n",
        "sum_triangle(12)"
      ]
    },
    {
      "cell_type": "markdown",
      "source": [
        "5 e kadar tek sayıları bulan fonksiyon"
      ],
      "metadata": {
        "id": "L4xVtLc97Mn6"
      }
    },
    {
      "cell_type": "code",
      "source": [
        "def sum_1(number):\n",
        "  return [i for i in range(1,number+1) if i%2!=0]\n",
        "\n",
        "sum_1(5)"
      ],
      "metadata": {
        "colab": {
          "base_uri": "https://localhost:8080/"
        },
        "id": "24GFsGZv5Ggp",
        "outputId": "76c2cdf1-6901-4715-bfeb-ed4c3146cd0e"
      },
      "execution_count": null,
      "outputs": [
        {
          "output_type": "execute_result",
          "data": {
            "text/plain": [
              "[1, 3, 5]"
            ]
          },
          "metadata": {},
          "execution_count": 39
        }
      ]
    },
    {
      "cell_type": "markdown",
      "source": [
        "5 e kadar tek sayıların toplamını bulan fonksiyon"
      ],
      "metadata": {
        "id": "LTpHLvwZ7ak4"
      }
    },
    {
      "cell_type": "code",
      "source": [
        "def sum_2(number):\n",
        "  return sum([i for i in range(1,number+1) if i%2!=0])\n",
        "\n",
        "sum_2(5)"
      ],
      "metadata": {
        "colab": {
          "base_uri": "https://localhost:8080/"
        },
        "id": "Nrea31B_5GVc",
        "outputId": "517e392b-8de9-4cb6-ed5e-1154c7f613cf"
      },
      "execution_count": null,
      "outputs": [
        {
          "output_type": "execute_result",
          "data": {
            "text/plain": [
              "9"
            ]
          },
          "metadata": {},
          "execution_count": 40
        }
      ]
    },
    {
      "cell_type": "code",
      "source": [
        "def iki_1(number):\n",
        "  liste1 = []\n",
        "  return [i for i in range(1,number+1) if i%2!=0]\n",
        "\n",
        "iki_1(2)"
      ],
      "metadata": {
        "colab": {
          "base_uri": "https://localhost:8080/"
        },
        "id": "z9JAYJzM5GJd",
        "outputId": "cb47fcb9-40a7-40ea-c0bf-2a4765ebd9d4"
      },
      "execution_count": null,
      "outputs": [
        {
          "output_type": "execute_result",
          "data": {
            "text/plain": [
              "[1]"
            ]
          },
          "metadata": {},
          "execution_count": 2
        }
      ]
    },
    {
      "cell_type": "code",
      "source": [
        "a = range(5)\n",
        "a"
      ],
      "metadata": {
        "colab": {
          "base_uri": "https://localhost:8080/"
        },
        "id": "jG7vnp5sWN4h",
        "outputId": "566db80f-3a54-4bf9-8568-7fab09d84042"
      },
      "execution_count": null,
      "outputs": [
        {
          "output_type": "execute_result",
          "data": {
            "text/plain": [
              "range(0, 5)"
            ]
          },
          "metadata": {},
          "execution_count": 36
        }
      ]
    },
    {
      "cell_type": "code",
      "source": [
        "for i in range(5):\n",
        "  print(i, end=\" \")"
      ],
      "metadata": {
        "colab": {
          "base_uri": "https://localhost:8080/"
        },
        "id": "rNSDusi9WN1k",
        "outputId": "271b3e1f-8f98-4346-9d51-21839332d32e"
      },
      "execution_count": null,
      "outputs": [
        {
          "output_type": "stream",
          "name": "stdout",
          "text": [
            "0 1 2 3 4 "
          ]
        }
      ]
    },
    {
      "cell_type": "code",
      "source": [
        "b = [i for i in range(5)]\n",
        "b"
      ],
      "metadata": {
        "colab": {
          "base_uri": "https://localhost:8080/"
        },
        "id": "NByPfWNHWNv8",
        "outputId": "d9111672-18b1-4bc7-d68b-fd8a5d01a313"
      },
      "execution_count": null,
      "outputs": [
        {
          "output_type": "execute_result",
          "data": {
            "text/plain": [
              "[0, 1, 2, 3, 4]"
            ]
          },
          "metadata": {},
          "execution_count": 17
        }
      ]
    },
    {
      "cell_type": "code",
      "source": [
        "c = sum (b)\n",
        "c"
      ],
      "metadata": {
        "colab": {
          "base_uri": "https://localhost:8080/"
        },
        "id": "E1P5a6_5WNst",
        "outputId": "3ccf028c-6c3b-418c-b0bb-15798ae0174d"
      },
      "execution_count": null,
      "outputs": [
        {
          "output_type": "execute_result",
          "data": {
            "text/plain": [
              "10"
            ]
          },
          "metadata": {},
          "execution_count": 18
        }
      ]
    },
    {
      "cell_type": "code",
      "source": [
        ""
      ],
      "metadata": {
        "id": "UrqelT_K6Lwf"
      },
      "execution_count": null,
      "outputs": []
    },
    {
      "cell_type": "code",
      "source": [
        "d = 2*c+1\n",
        "d"
      ],
      "metadata": {
        "colab": {
          "base_uri": "https://localhost:8080/"
        },
        "id": "EV56dH8lWNi0",
        "outputId": "2da1d493-7401-40a0-9b6d-331f618276a8"
      },
      "execution_count": null,
      "outputs": [
        {
          "output_type": "execute_result",
          "data": {
            "text/plain": [
              "21"
            ]
          },
          "metadata": {},
          "execution_count": 20
        }
      ]
    },
    {
      "cell_type": "code",
      "source": [
        "for i in range(5):\n",
        "  e = d + i\n",
        "e"
      ],
      "metadata": {
        "colab": {
          "base_uri": "https://localhost:8080/"
        },
        "id": "G6BNv402Y2-F",
        "outputId": "9019b91b-8c0b-4cd8-9430-35f79d7b9091"
      },
      "execution_count": null,
      "outputs": [
        {
          "output_type": "execute_result",
          "data": {
            "text/plain": [
              "25"
            ]
          },
          "metadata": {},
          "execution_count": 21
        }
      ]
    },
    {
      "cell_type": "code",
      "source": [
        "for i in range(5):\n",
        "  e = (2*(sum([i for i in range(5)])))\n",
        "e"
      ],
      "metadata": {
        "colab": {
          "base_uri": "https://localhost:8080/"
        },
        "id": "CFwsNSWbZajJ",
        "outputId": "1f662ecd-2cc4-45ce-8e10-e643d8997d98"
      },
      "execution_count": null,
      "outputs": [
        {
          "output_type": "execute_result",
          "data": {
            "text/plain": [
              "20"
            ]
          },
          "metadata": {},
          "execution_count": 26
        }
      ]
    },
    {
      "cell_type": "code",
      "source": [
        "def sum_odd(n) :\n",
        "  odd = sum([i for i in range(n)])\n",
        "  return sum([(2 * odd + 1) + (2 * i) for i in range(n)])\n",
        "\n",
        "sum_odd(8)"
      ],
      "metadata": {
        "colab": {
          "base_uri": "https://localhost:8080/"
        },
        "id": "Q7IoWnbI6TVR",
        "outputId": "2cc2ae8e-96f8-4d06-a587-34300a5e26ec"
      },
      "execution_count": null,
      "outputs": [
        {
          "output_type": "execute_result",
          "data": {
            "text/plain": [
              "512"
            ]
          },
          "metadata": {},
          "execution_count": 9
        }
      ]
    },
    {
      "cell_type": "code",
      "source": [
        "my_liste = [1,3,5,7,9,11,13,15,17,19,21,23,25,27,29]"
      ],
      "metadata": {
        "id": "DsOqrhW9-NOA"
      },
      "execution_count": null,
      "outputs": []
    },
    {
      "cell_type": "code",
      "source": [
        "for i in range(15):\n",
        "  print(my_liste[i]+my_liste[i+1])"
      ],
      "metadata": {
        "colab": {
          "base_uri": "https://localhost:8080/",
          "height": 426
        },
        "id": "uhRtFC3u-NJj",
        "outputId": "ec9bb8ce-19cd-4d41-eef0-7e71ec282b35"
      },
      "execution_count": null,
      "outputs": [
        {
          "output_type": "stream",
          "name": "stdout",
          "text": [
            "4\n",
            "8\n",
            "12\n",
            "16\n",
            "20\n",
            "24\n",
            "28\n",
            "32\n",
            "36\n",
            "40\n",
            "44\n",
            "48\n",
            "52\n",
            "56\n"
          ]
        },
        {
          "output_type": "error",
          "ename": "IndexError",
          "evalue": "ignored",
          "traceback": [
            "\u001b[0;31m---------------------------------------------------------------------------\u001b[0m",
            "\u001b[0;31mIndexError\u001b[0m                                Traceback (most recent call last)",
            "\u001b[0;32m<ipython-input-6-055b403c9dc2>\u001b[0m in \u001b[0;36m<module>\u001b[0;34m()\u001b[0m\n\u001b[1;32m      1\u001b[0m \u001b[0;32mfor\u001b[0m \u001b[0mi\u001b[0m \u001b[0;32min\u001b[0m \u001b[0mrange\u001b[0m\u001b[0;34m(\u001b[0m\u001b[0;36m15\u001b[0m\u001b[0;34m)\u001b[0m\u001b[0;34m:\u001b[0m\u001b[0;34m\u001b[0m\u001b[0;34m\u001b[0m\u001b[0m\n\u001b[0;32m----> 2\u001b[0;31m   \u001b[0mprint\u001b[0m\u001b[0;34m(\u001b[0m\u001b[0mmy_liste\u001b[0m\u001b[0;34m[\u001b[0m\u001b[0mi\u001b[0m\u001b[0;34m]\u001b[0m\u001b[0;34m+\u001b[0m\u001b[0mmy_liste\u001b[0m\u001b[0;34m[\u001b[0m\u001b[0mi\u001b[0m\u001b[0;34m+\u001b[0m\u001b[0;36m1\u001b[0m\u001b[0;34m]\u001b[0m\u001b[0;34m)\u001b[0m\u001b[0;34m\u001b[0m\u001b[0;34m\u001b[0m\u001b[0m\n\u001b[0m",
            "\u001b[0;31mIndexError\u001b[0m: list index out of range"
          ]
        }
      ]
    },
    {
      "cell_type": "markdown",
      "source": [
        ""
      ],
      "metadata": {
        "id": "QWC0lJ_gRmnv"
      }
    },
    {
      "cell_type": "markdown",
      "source": [
        " Write a function to find the sum of the digits of a number in Python?\n",
        "\n",
        "> Girintili blok\n",
        "\n"
      ],
      "metadata": {
        "id": "-4XNwFmnBiOm"
      }
    },
    {
      "cell_type": "code",
      "source": [
        ""
      ],
      "metadata": {
        "id": "2Jkxw1Wt-NEl"
      },
      "execution_count": null,
      "outputs": []
    },
    {
      "cell_type": "code",
      "source": [
        ""
      ],
      "metadata": {
        "id": "w51ppVTp-M_v"
      },
      "execution_count": null,
      "outputs": []
    },
    {
      "cell_type": "markdown",
      "source": [
        "Given the triangle of consecutive odd numbers:\n",
        "\n",
        "               1\n",
        "            3     5\n",
        "        7     9    11\n",
        "     13    15    17    19\n",
        "    21    23    25    27    29\n",
        "  31    33     35    37   39   41\n",
        "\n",
        "..."
      ],
      "metadata": {
        "id": "7OpeC3UZTQep"
      }
    },
    {
      "cell_type": "markdown",
      "source": [
        "N=2 ise Sonuç= 8     N^3 (N üzeri 3)\n",
        "N=3 ise      = 27\n",
        "N=4 ise      = 64\n",
        "N=5 ise      = 125    \n",
        "n=6 ise      = 216\n",
        "N=7          = 343\n",
        "N=8          = 512"
      ],
      "metadata": {
        "id": "kct6-ixSTcg4"
      }
    },
    {
      "cell_type": "code",
      "source": [
        ""
      ],
      "metadata": {
        "id": "R9h9T2fd-M5t"
      },
      "execution_count": null,
      "outputs": []
    }
  ]
}
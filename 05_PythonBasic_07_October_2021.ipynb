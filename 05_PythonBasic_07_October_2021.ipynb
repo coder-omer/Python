{
  "cells": [
    {
      "cell_type": "markdown",
      "metadata": {
        "id": "view-in-github",
        "colab_type": "text"
      },
      "source": [
        "<a href=\"https://colab.research.google.com/github/coder-omer/Python/blob/main/05_PythonBasic_07_October_2021.ipynb\" target=\"_parent\"><img src=\"https://colab.research.google.com/assets/colab-badge.svg\" alt=\"Open In Colab\"/></a>"
      ]
    },
    {
      "cell_type": "code",
      "execution_count": null,
      "id": "ca5205a0",
      "metadata": {
        "id": "ca5205a0",
        "outputId": "79fda70f-9666-43d0-bdab-c104b9534b22"
      },
      "outputs": [
        {
          "data": {
            "text/plain": [
              "'121121'"
            ]
          },
          "execution_count": 2,
          "metadata": {},
          "output_type": "execute_result"
        }
      ],
      "source": [
        "sonuc = str((5 + 6) ** 2) + \"121\"\n",
        "sonuc"
      ]
    },
    {
      "cell_type": "code",
      "execution_count": null,
      "id": "d3d36a2d",
      "metadata": {
        "id": "d3d36a2d",
        "outputId": "7550b5e5-8935-4b2f-c5c3-063d6b546c6e"
      },
      "outputs": [
        {
          "data": {
            "text/plain": [
              "'121121121121121121121121'"
            ]
          },
          "execution_count": 3,
          "metadata": {},
          "output_type": "execute_result"
        }
      ],
      "source": [
        "sonuc = (sonuc + sonuc) * 2\n",
        "sonuc"
      ]
    },
    {
      "cell_type": "code",
      "execution_count": null,
      "id": "68889c79",
      "metadata": {
        "id": "68889c79",
        "outputId": "e6aee49f-c079-458c-e908-57b552031acb"
      },
      "outputs": [
        {
          "data": {
            "text/plain": [
              "'clarusway clarusway clarusway '"
            ]
          },
          "execution_count": 4,
          "metadata": {},
          "output_type": "execute_result"
        }
      ],
      "source": [
        "\"clarusway \" * 3"
      ]
    },
    {
      "cell_type": "code",
      "execution_count": null,
      "id": "55a0ad96",
      "metadata": {
        "id": "55a0ad96",
        "outputId": "9d942400-532f-4ea5-e174-ae6b6885fc67"
      },
      "outputs": [
        {
          "data": {
            "text/plain": [
              "'ali veli deliali veli deliali veli deli'"
            ]
          },
          "execution_count": 5,
          "metadata": {},
          "output_type": "execute_result"
        }
      ],
      "source": [
        "\"ali veli deli\" * 3"
      ]
    },
    {
      "cell_type": "code",
      "execution_count": null,
      "id": "85285b66",
      "metadata": {
        "id": "85285b66",
        "outputId": "37a4d416-3704-4d94-dfa7-5a56b6ae102b"
      },
      "outputs": [
        {
          "name": "stdout",
          "output_type": "stream",
          "text": [
            "c l a r u s w a y\n"
          ]
        }
      ],
      "source": [
        "print(* \"clarusway\")"
      ]
    },
    {
      "cell_type": "code",
      "execution_count": null,
      "id": "60d77fd3",
      "metadata": {
        "id": "60d77fd3",
        "outputId": "e4c2933d-2281-42c0-c62c-e21297863e2d"
      },
      "outputs": [
        {
          "ename": "TypeError",
          "evalue": "unsupported operand type(s) for +: 'int' and 'str'",
          "output_type": "error",
          "traceback": [
            "\u001b[0;31m---------------------------------------------------------------------------\u001b[0m",
            "\u001b[0;31mTypeError\u001b[0m                                 Traceback (most recent call last)",
            "\u001b[0;32m<ipython-input-7-b780703cc5f9>\u001b[0m in \u001b[0;36m<module>\u001b[0;34m\u001b[0m\n\u001b[0;32m----> 1\u001b[0;31m \u001b[0;36m1\u001b[0m \u001b[0;34m+\u001b[0m \u001b[0;34m\"1\"\u001b[0m\u001b[0;34m\u001b[0m\u001b[0;34m\u001b[0m\u001b[0m\n\u001b[0m",
            "\u001b[0;31mTypeError\u001b[0m: unsupported operand type(s) for +: 'int' and 'str'"
          ]
        }
      ],
      "source": [
        "1 + \"1\""
      ]
    },
    {
      "cell_type": "code",
      "execution_count": null,
      "id": "8580635e",
      "metadata": {
        "id": "8580635e"
      },
      "outputs": [],
      "source": [
        "\"metodlar\".format()"
      ]
    },
    {
      "cell_type": "code",
      "execution_count": null,
      "id": "26df0bf7",
      "metadata": {
        "id": "26df0bf7"
      },
      "outputs": [],
      "source": [
        "değişkenn = \"string\""
      ]
    },
    {
      "cell_type": "code",
      "execution_count": null,
      "id": "b68e6aa0",
      "metadata": {
        "id": "b68e6aa0"
      },
      "outputs": [],
      "source": [
        "saat = \"05:00\"\n",
        "yer = \"Okul\"\n",
        "miktar = 2"
      ]
    },
    {
      "cell_type": "code",
      "execution_count": null,
      "id": "7c7c7a8d",
      "metadata": {
        "id": "7c7c7a8d",
        "outputId": "dcd149fc-d630-46b7-f4aa-3ddf9ba2d99b"
      },
      "outputs": [
        {
          "data": {
            "text/plain": [
              "\"Ben sabah 05:00 de uyandım. Okul'a gittim. Gelirken de 2 kg elma aldım.\""
            ]
          },
          "execution_count": 11,
          "metadata": {},
          "output_type": "execute_result"
        }
      ],
      "source": [
        "\"Ben sabah {} de uyandım. {}'a gittim. Gelirken de {} kg elma aldım.\".format(saat, yer, miktar)"
      ]
    },
    {
      "cell_type": "code",
      "execution_count": null,
      "id": "73437f2b",
      "metadata": {
        "id": "73437f2b",
        "outputId": "de7f0012-00bf-4ad4-9373-856b666c869b"
      },
      "outputs": [
        {
          "data": {
            "text/plain": [
              "\"Ben sabah 05:00 de uyandım. Okul'a gittim. Gelirken de 2 kg elma aldım.\""
            ]
          },
          "execution_count": 12,
          "metadata": {},
          "output_type": "execute_result"
        }
      ],
      "source": [
        "\"Ben sabah {} de uyandım. {}'a gittim. Gelirken de {} kg elma aldım.\".format(\"05:00\", \"Okul\", 2)\n"
      ]
    },
    {
      "cell_type": "code",
      "execution_count": null,
      "id": "3a9a3e6c",
      "metadata": {
        "id": "3a9a3e6c",
        "outputId": "39cc8054-bf43-46b2-b0b1-4befeda9f352"
      },
      "outputs": [
        {
          "data": {
            "text/plain": [
              "\"Ben sabah 05:00 de uyandım. Okul'a gittim. Gelirken de 2 kg elma aldım.\""
            ]
          },
          "execution_count": 13,
          "metadata": {},
          "output_type": "execute_result"
        }
      ],
      "source": [
        "\"Ben sabah {saat} de uyandım. {yer}'a gittim. Gelirken de {miktar} kg elma aldım.\".format(yer = \"Okul\", saat = \"05:00\", miktar = 2)\n"
      ]
    },
    {
      "cell_type": "code",
      "execution_count": null,
      "id": "60811d20",
      "metadata": {
        "id": "60811d20",
        "outputId": "c2652d15-7e33-4372-c0ac-d65908826c6c"
      },
      "outputs": [
        {
          "data": {
            "text/plain": [
              "\"Ben sabah 05:00 de uyandım. Okul'a gittim. Gelirken de 2 kg elma aldım.\""
            ]
          },
          "execution_count": 14,
          "metadata": {},
          "output_type": "execute_result"
        }
      ],
      "source": [
        "\"Ben sabah {1} de uyandım. {0}'a gittim. Gelirken de {2} kg elma aldım.\".format(\"Okul\", \"05:00\", 2)\n"
      ]
    },
    {
      "cell_type": "code",
      "execution_count": null,
      "id": "3edb05b4",
      "metadata": {
        "id": "3edb05b4",
        "outputId": "1d24214d-bd75-4c8b-bcb1-8e26143360c2"
      },
      "outputs": [
        {
          "name": "stdout",
          "output_type": "stream",
          "text": [
            "12-Feb-Feb\n",
            "12-Feb-Feb\n",
            "I will have started a new job in 6 months\n"
          ]
        }
      ],
      "source": [
        "print(\"{}-{}-{}\".format(\"12\", \"Feb\", \"Feb\"))\n",
        "print(\"{no}-{month}-{month}\".format(no=\"12\", month=\"Feb\"))\n",
        "\n",
        "print(\"{6} {5} {0} {1} {3} {4} {2}\".format(\"a new\", \"job\", \"months\", \"in\", 6, \"have started\", \"I will\"))"
      ]
    },
    {
      "cell_type": "code",
      "execution_count": null,
      "id": "208ec1f2",
      "metadata": {
        "id": "208ec1f2",
        "outputId": "f1b47f0e-81ab-4307-d0e2-682cae0acde4"
      },
      "outputs": [
        {
          "name": "stdout",
          "output_type": "stream",
          "text": [
            "1111\n"
          ]
        }
      ],
      "source": [
        "text = f\"{str(11)+'11'}\"\n",
        "print(text)"
      ]
    },
    {
      "cell_type": "code",
      "execution_count": null,
      "id": "0382acd4",
      "metadata": {
        "id": "0382acd4",
        "outputId": "4a2253cc-c13a-4ee8-c05a-a26a182e467f"
      },
      "outputs": [
        {
          "name": "stdout",
          "output_type": "stream",
          "text": [
            "ali veli deli\n"
          ]
        }
      ],
      "source": [
        "text = f\"ali veli {'seli'.replace('s', 'd')}\"\n",
        "print(text)"
      ]
    },
    {
      "cell_type": "code",
      "execution_count": null,
      "id": "b946a310",
      "metadata": {
        "id": "b946a310",
        "outputId": "ac9d31b5-71bf-4121-aaf0-94ed95375b9a"
      },
      "outputs": [
        {
          "data": {
            "text/plain": [
              "\"Ben sabah 05:00 de uyandım. Okul'a gittim. Gelirken de 2 kg elma aldım.\""
            ]
          },
          "execution_count": 19,
          "metadata": {},
          "output_type": "execute_result"
        }
      ],
      "source": [
        "\"Ben sabah {1} de uyandım. {0}'a gittim. Gelirken \\\n",
        "de {2} kg elma aldım.\".format(\\\n",
        "\"Okul\", \"05:00\", 2)\n"
      ]
    },
    {
      "cell_type": "code",
      "execution_count": null,
      "id": "bab28581",
      "metadata": {
        "id": "bab28581"
      },
      "outputs": [],
      "source": [
        "para = 1000"
      ]
    },
    {
      "cell_type": "code",
      "execution_count": null,
      "id": "176e7c56",
      "metadata": {
        "id": "176e7c56",
        "outputId": "a4e7ef12-28e8-4415-be28-cd153190775a"
      },
      "outputs": [
        {
          "data": {
            "text/plain": [
              "1070.0"
            ]
          },
          "execution_count": 21,
          "metadata": {},
          "output_type": "execute_result"
        }
      ],
      "source": [
        "para = para + para * 0.07 # pazartesi\n",
        "para"
      ]
    },
    {
      "cell_type": "code",
      "execution_count": null,
      "id": "7a4a7a3e",
      "metadata": {
        "id": "7a4a7a3e",
        "outputId": "8bdcfa86-fcd8-4a5e-afc5-ff658d66f850"
      },
      "outputs": [
        {
          "data": {
            "text/plain": [
              "1144.9"
            ]
          },
          "execution_count": 22,
          "metadata": {},
          "output_type": "execute_result"
        }
      ],
      "source": [
        "para = para + para * 0.07 # salı\n",
        "para"
      ]
    },
    {
      "cell_type": "code",
      "execution_count": null,
      "id": "ae45a3a1",
      "metadata": {
        "id": "ae45a3a1",
        "outputId": "6eb5e093-ae15-40ad-c3eb-c46c33f894a8"
      },
      "outputs": [
        {
          "data": {
            "text/plain": [
              "1225.0430000000001"
            ]
          },
          "execution_count": 23,
          "metadata": {},
          "output_type": "execute_result"
        }
      ],
      "source": [
        "para = para + para * 0.07 # çarşamba\n",
        "para"
      ]
    },
    {
      "cell_type": "code",
      "execution_count": null,
      "id": "bfba33a6",
      "metadata": {
        "id": "bfba33a6",
        "outputId": "700b6bd1-7098-4a88-f55f-3bd544543d72"
      },
      "outputs": [
        {
          "data": {
            "text/plain": [
              "1310.79601"
            ]
          },
          "execution_count": 24,
          "metadata": {},
          "output_type": "execute_result"
        }
      ],
      "source": [
        "para = para + para * 0.07 # perşembe\n",
        "para"
      ]
    },
    {
      "cell_type": "code",
      "execution_count": null,
      "id": "6f20df27",
      "metadata": {
        "id": "6f20df27",
        "outputId": "8781b38c-14b6-4b79-9562-6e6cbfda2aef"
      },
      "outputs": [
        {
          "data": {
            "text/plain": [
              "1402.5517307"
            ]
          },
          "execution_count": 25,
          "metadata": {},
          "output_type": "execute_result"
        }
      ],
      "source": [
        "para = para + para * 0.07 # cuma\n",
        "para"
      ]
    },
    {
      "cell_type": "code",
      "execution_count": null,
      "id": "1653f76e",
      "metadata": {
        "id": "1653f76e",
        "outputId": "ce24cafd-5888-4611-8330-3319e914a772"
      },
      "outputs": [
        {
          "data": {
            "text/plain": [
              "1500.730351849"
            ]
          },
          "execution_count": 26,
          "metadata": {},
          "output_type": "execute_result"
        }
      ],
      "source": [
        "para = para + para * 0.07 # cumartesi\n",
        "para"
      ]
    },
    {
      "cell_type": "code",
      "execution_count": null,
      "id": "3258b4e9",
      "metadata": {
        "id": "3258b4e9",
        "outputId": "67018cdb-5b47-48ac-afd5-7fbf92b68a16"
      },
      "outputs": [
        {
          "data": {
            "text/plain": [
              "1605.78147647843"
            ]
          },
          "execution_count": 27,
          "metadata": {},
          "output_type": "execute_result"
        }
      ],
      "source": [
        "para = para + para * 0.07 # pazar\n",
        "para"
      ]
    },
    {
      "cell_type": "code",
      "execution_count": null,
      "id": "d0fe6151",
      "metadata": {
        "id": "d0fe6151"
      },
      "outputs": [],
      "source": [
        "para = 1000"
      ]
    },
    {
      "cell_type": "code",
      "execution_count": null,
      "id": "5e4c96e2",
      "metadata": {
        "id": "5e4c96e2",
        "outputId": "42404398-2176-4513-f295-3be805dfbf01"
      },
      "outputs": [
        {
          "data": {
            "text/plain": [
              "1605.7814764784307"
            ]
          },
          "execution_count": 29,
          "metadata": {},
          "output_type": "execute_result"
        }
      ],
      "source": [
        "para = para * 1.07 ** 7\n",
        "para"
      ]
    },
    {
      "cell_type": "code",
      "execution_count": null,
      "id": "c2167421",
      "metadata": {
        "id": "c2167421"
      },
      "outputs": [],
      "source": [
        ""
      ]
    },
    {
      "cell_type": "code",
      "execution_count": null,
      "id": "9d4ae26e",
      "metadata": {
        "id": "9d4ae26e"
      },
      "outputs": [],
      "source": [
        ""
      ]
    },
    {
      "cell_type": "code",
      "execution_count": null,
      "id": "9c554b11",
      "metadata": {
        "id": "9c554b11"
      },
      "outputs": [],
      "source": [
        ""
      ]
    }
  ],
  "metadata": {
    "kernelspec": {
      "display_name": "Python 3",
      "language": "python",
      "name": "python3"
    },
    "language_info": {
      "codemirror_mode": {
        "name": "ipython",
        "version": 3
      },
      "file_extension": ".py",
      "mimetype": "text/x-python",
      "name": "python",
      "nbconvert_exporter": "python",
      "pygments_lexer": "ipython3",
      "version": "3.8.8"
    },
    "colab": {
      "name": "05_PythonBasic_07-October-2021.ipynb",
      "provenance": [],
      "include_colab_link": true
    }
  },
  "nbformat": 4,
  "nbformat_minor": 5
}
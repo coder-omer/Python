{
  "nbformat": 4,
  "nbformat_minor": 0,
  "metadata": {
    "colab": {
      "name": "Sets.ipynb",
      "provenance": [],
      "authorship_tag": "ABX9TyOWtM4hIR/GDIOgeBpSTS8u"
    },
    "kernelspec": {
      "name": "python3",
      "display_name": "Python 3"
    },
    "language_info": {
      "name": "python"
    }
  },
  "cells": [
    {
      "cell_type": "code",
      "metadata": {
        "colab": {
          "base_uri": "https://localhost:8080/"
        },
        "id": "IXtDNX5ZAPcz",
        "outputId": "f6e98d8b-17ae-4b7f-b453-656e22b7c92b"
      },
      "source": [
        "py_set = set( )\n",
        "print(py_set)"
      ],
      "execution_count": null,
      "outputs": [
        {
          "output_type": "stream",
          "name": "stdout",
          "text": [
            "set()\n"
          ]
        }
      ]
    },
    {
      "cell_type": "code",
      "metadata": {
        "colab": {
          "base_uri": "https://localhost:8080/"
        },
        "id": "DkmCd6_xAULq",
        "outputId": "63e87c5e-5e99-481c-fd1e-28eb0525720d"
      },
      "source": [
        "py_set = {1,2,3,4}\n",
        "print(py_set)"
      ],
      "execution_count": null,
      "outputs": [
        {
          "output_type": "stream",
          "name": "stdout",
          "text": [
            "{1, 2, 3, 4}\n"
          ]
        }
      ]
    },
    {
      "cell_type": "code",
      "metadata": {
        "colab": {
          "base_uri": "https://localhost:8080/"
        },
        "id": "5JBwZs8zAUOs",
        "outputId": "a1a83f9f-edfb-465e-89e0-bd77076ad759"
      },
      "source": [
        "py_set = set('Python Sets')\n",
        "print (py_set)"
      ],
      "execution_count": null,
      "outputs": [
        {
          "output_type": "stream",
          "name": "stdout",
          "text": [
            "{'P', 'o', 'h', 's', 't', 'e', 'n', 'y', 'S', ' '}\n"
          ]
        }
      ]
    },
    {
      "cell_type": "code",
      "metadata": {
        "colab": {
          "base_uri": "https://localhost:8080/"
        },
        "id": "bZUeB-TGAURf",
        "outputId": "5c2b2091-df1f-404d-aac7-ebf30063a247"
      },
      "source": [
        "py_set = set(('a','b','c','d'))\n",
        "print (py_set)"
      ],
      "execution_count": null,
      "outputs": [
        {
          "output_type": "stream",
          "name": "stdout",
          "text": [
            "{'c', 'd', 'b', 'a'}\n"
          ]
        }
      ]
    },
    {
      "cell_type": "code",
      "metadata": {
        "colab": {
          "base_uri": "https://localhost:8080/"
        },
        "id": "i6BmFxj1AUVQ",
        "outputId": "c005e4d1-544a-463c-fa7c-b47c6573bd49"
      },
      "source": [
        "py_set=set(['H','B','O'])\n",
        "py_set"
      ],
      "execution_count": null,
      "outputs": [
        {
          "output_type": "execute_result",
          "data": {
            "text/plain": [
              "{'B', 'H', 'O'}"
            ]
          },
          "metadata": {},
          "execution_count": 12
        }
      ]
    },
    {
      "cell_type": "code",
      "metadata": {
        "id": "GWPugmEnAUrC"
      },
      "source": [
        ""
      ],
      "execution_count": null,
      "outputs": []
    }
  ]
}
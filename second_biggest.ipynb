{
  "nbformat": 4,
  "nbformat_minor": 0,
  "metadata": {
    "colab": {
      "name": "second_biggest.ipynb",
      "provenance": [],
      "authorship_tag": "ABX9TyPmqs7+Hd9gTdav/mK0Be80",
      "include_colab_link": true
    },
    "kernelspec": {
      "name": "python3",
      "display_name": "Python 3"
    },
    "language_info": {
      "name": "python"
    }
  },
  "cells": [
    {
      "cell_type": "markdown",
      "metadata": {
        "id": "view-in-github",
        "colab_type": "text"
      },
      "source": [
        "<a href=\"https://colab.research.google.com/github/coder-omer/Python/blob/main/second_biggest.ipynb\" target=\"_parent\"><img src=\"https://colab.research.google.com/assets/colab-badge.svg\" alt=\"Open In Colab\"/></a>"
      ]
    },
    {
      "cell_type": "markdown",
      "source": [
        "Write a Python function to find the second biggest number in a list."
      ],
      "metadata": {
        "id": "0aly5Og07dQm"
      }
    },
    {
      "cell_type": "code",
      "source": [
        "def second_biggest(new_list):\n",
        "  new_list=list(set(new_list))\n",
        "  new_list.sort()\n",
        "  return new_list[-2]\n",
        "\n",
        "list1 = [5, 69, 14, 70, 70, 28, 36, 94, 94, 20, 51, 1]\n",
        "print(second_biggest(list1))"
      ],
      "metadata": {
        "colab": {
          "base_uri": "https://localhost:8080/"
        },
        "id": "X4yKlycAA1wQ",
        "outputId": "b950e7df-9326-42dd-fd7d-703659d4b153"
      },
      "execution_count": null,
      "outputs": [
        {
          "output_type": "stream",
          "name": "stdout",
          "text": [
            "70\n"
          ]
        }
      ]
    },
    {
      "cell_type": "code",
      "source": [
        "def second_biggest(new_list):\n",
        "  new_list.sort()\n",
        "  return new_list[-2]\n",
        "\n",
        "list1 = [5, 69, 14, 28, 36, 94, 20, 51, 1]\n",
        "print(second_biggest(list1))"
      ],
      "metadata": {
        "colab": {
          "base_uri": "https://localhost:8080/"
        },
        "id": "FSO3Fz9G999U",
        "outputId": "787e25bc-15cb-48ce-f187-e417dbd0112a"
      },
      "execution_count": null,
      "outputs": [
        {
          "output_type": "stream",
          "name": "stdout",
          "text": [
            "69\n"
          ]
        }
      ]
    },
    {
      "cell_type": "code",
      "source": [
        "liste = [5, 69, 14, 28, 36, 94, 20, 51, 1]\n",
        "liste.sort()\n",
        "print(liste[-2])"
      ],
      "metadata": {
        "colab": {
          "base_uri": "https://localhost:8080/"
        },
        "id": "b0KFYDM19U8q",
        "outputId": "ab63df51-9838-4b07-f2de-96424fc7e67b"
      },
      "execution_count": null,
      "outputs": [
        {
          "output_type": "stream",
          "name": "stdout",
          "text": [
            "69\n"
          ]
        }
      ]
    },
    {
      "cell_type": "code",
      "source": [
        "liste = [5, 9, 14, 28, 36, 4, 20, 51, 1]\n",
        "liste.sort()\n",
        "print(liste)\n",
        "print(liste[-2])"
      ],
      "metadata": {
        "colab": {
          "base_uri": "https://localhost:8080/"
        },
        "id": "67GhTWtR8spa",
        "outputId": "2135ff63-02d0-491a-dc55-33438f50fe11"
      },
      "execution_count": null,
      "outputs": [
        {
          "output_type": "stream",
          "name": "stdout",
          "text": [
            "[1, 4, 5, 9, 14, 20, 28, 36, 51]\n",
            "36\n"
          ]
        }
      ]
    },
    {
      "cell_type": "code",
      "execution_count": null,
      "metadata": {
        "colab": {
          "base_uri": "https://localhost:8080/"
        },
        "id": "JXWF6jJB7bzb",
        "outputId": "9347663b-d6fc-4718-8871-cb29957a1916"
      },
      "outputs": [
        {
          "output_type": "stream",
          "name": "stdout",
          "text": [
            "51\n"
          ]
        }
      ],
      "source": [
        "liste = [5, 9, 14, 28, 36, 4, 20, 51, 1]\n",
        "num = 0\n",
        "for i in liste:\n",
        "  while i > num:\n",
        "    num = i\n",
        "print(num)"
      ]
    },
    {
      "cell_type": "code",
      "source": [
        "def second_biggest(new_list):\n",
        "  new_list=list(set(new_list))\n",
        "  new_list.sort()\n",
        "  return new_list[-2]\n",
        "\n",
        "list1 = [5, 69, 14, 70, 70, 28, 36, 94, 94, 20, 51, 1]\n",
        "print(second_biggest(list1))"
      ],
      "metadata": {
        "colab": {
          "base_uri": "https://localhost:8080/"
        },
        "id": "d3M_1513_bZN",
        "outputId": "cacbbfd4-c91c-45b5-8dd3-8084b3130e80"
      },
      "execution_count": null,
      "outputs": [
        {
          "output_type": "stream",
          "name": "stdout",
          "text": [
            "70\n"
          ]
        }
      ]
    }
  ]
}
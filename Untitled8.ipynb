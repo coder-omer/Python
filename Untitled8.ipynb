{
  "nbformat": 4,
  "nbformat_minor": 0,
  "metadata": {
    "colab": {
      "name": "Untitled8.ipynb",
      "provenance": [],
      "authorship_tag": "ABX9TyP3PLXC23Yg4YQK+DAJH3fv",
      "include_colab_link": true
    },
    "kernelspec": {
      "name": "python3",
      "display_name": "Python 3"
    },
    "language_info": {
      "name": "python"
    }
  },
  "cells": [
    {
      "cell_type": "markdown",
      "metadata": {
        "id": "view-in-github",
        "colab_type": "text"
      },
      "source": [
        "<a href=\"https://colab.research.google.com/github/coder-omer/Python/blob/main/Untitled8.ipynb\" target=\"_parent\"><img src=\"https://colab.research.google.com/assets/colab-badge.svg\" alt=\"Open In Colab\"/></a>"
      ]
    },
    {
      "cell_type": "code",
      "metadata": {
        "colab": {
          "base_uri": "https://localhost:8080/"
        },
        "id": "mflVRNzVW7Ik",
        "outputId": "a5cf3ced-3060-4132-9276-2e201871386d"
      },
      "source": [
        "print(None or 1)"
      ],
      "execution_count": null,
      "outputs": [
        {
          "output_type": "stream",
          "name": "stdout",
          "text": [
            "1\n"
          ]
        }
      ]
    },
    {
      "cell_type": "code",
      "metadata": {
        "colab": {
          "base_uri": "https://localhost:8080/"
        },
        "id": "4DBde1gIW84j",
        "outputId": "40f61a5b-77d4-4634-ff96-4bad626e27a3"
      },
      "source": [
        "print(None)"
      ],
      "execution_count": null,
      "outputs": [
        {
          "output_type": "stream",
          "name": "stdout",
          "text": [
            "None\n"
          ]
        }
      ]
    },
    {
      "cell_type": "code",
      "metadata": {
        "colab": {
          "base_uri": "https://localhost:8080/"
        },
        "id": "DrgDflO1W87i",
        "outputId": "c44ac0d0-69dd-4438-8af9-29310c2bc6c1"
      },
      "source": [
        "print(1)"
      ],
      "execution_count": null,
      "outputs": [
        {
          "output_type": "stream",
          "name": "stdout",
          "text": [
            "1\n"
          ]
        }
      ]
    },
    {
      "cell_type": "code",
      "metadata": {
        "colab": {
          "base_uri": "https://localhost:8080/"
        },
        "id": "n92zaN6iW89r",
        "outputId": "49a8ce9e-526a-438b-ce2c-3eeaddc9ec16"
      },
      "source": [
        "print(1 and \"I am doing good!\")"
      ],
      "execution_count": null,
      "outputs": [
        {
          "output_type": "stream",
          "name": "stdout",
          "text": [
            "I am doing good!\n"
          ]
        }
      ]
    },
    {
      "cell_type": "code",
      "metadata": {
        "colab": {
          "base_uri": "https://localhost:8080/"
        },
        "id": "mrMxJxRcW9Ac",
        "outputId": "918ebfa2-b917-4f2f-9d55-fa56420374ed"
      },
      "source": [
        "print([] and \"Hello World!\")"
      ],
      "execution_count": null,
      "outputs": [
        {
          "output_type": "stream",
          "name": "stdout",
          "text": [
            "[]\n"
          ]
        }
      ]
    },
    {
      "cell_type": "code",
      "metadata": {
        "colab": {
          "base_uri": "https://localhost:8080/"
        },
        "id": "iJJ00f0BW9C6",
        "outputId": "e326cdb9-5bc5-4ce6-b528-6d72d6e70329"
      },
      "source": [
        "print([])"
      ],
      "execution_count": null,
      "outputs": [
        {
          "output_type": "stream",
          "name": "stdout",
          "text": [
            "[]\n"
          ]
        }
      ]
    },
    {
      "cell_type": "code",
      "metadata": {
        "colab": {
          "base_uri": "https://localhost:8080/"
        },
        "id": "rxaSe2svW9Fr",
        "outputId": "a1a6214b-e486-4b08-de2e-e8b7d5309720"
      },
      "source": [
        "print(\"Hello World!\")"
      ],
      "execution_count": null,
      "outputs": [
        {
          "output_type": "stream",
          "name": "stdout",
          "text": [
            "Hello World!\n"
          ]
        }
      ]
    },
    {
      "cell_type": "code",
      "metadata": {
        "colab": {
          "base_uri": "https://localhost:8080/"
        },
        "id": "XQYxaS1SW9Ib",
        "outputId": "3e2fad86-1dab-43ae-86e8-a7a1ced1e7aa"
      },
      "source": [
        "print(2 or 3)"
      ],
      "execution_count": null,
      "outputs": [
        {
          "output_type": "stream",
          "name": "stdout",
          "text": [
            "2\n"
          ]
        }
      ]
    },
    {
      "cell_type": "code",
      "metadata": {
        "colab": {
          "base_uri": "https://localhost:8080/"
        },
        "id": "UvoXSzgHW9LC",
        "outputId": "aab55eae-7b94-4de1-bcd7-43288351f362"
      },
      "source": [
        "print(None or 1)"
      ],
      "execution_count": null,
      "outputs": [
        {
          "output_type": "stream",
          "name": "stdout",
          "text": [
            "1\n"
          ]
        }
      ]
    },
    {
      "cell_type": "code",
      "metadata": {
        "colab": {
          "base_uri": "https://localhost:8080/"
        },
        "id": "70EH5PjYW9N_",
        "outputId": "155979a2-45d5-4e60-88f7-44a7e89418dd"
      },
      "source": [
        "print(0 or {})"
      ],
      "execution_count": null,
      "outputs": [
        {
          "output_type": "stream",
          "name": "stdout",
          "text": [
            "{}\n"
          ]
        }
      ]
    },
    {
      "cell_type": "code",
      "metadata": {
        "colab": {
          "base_uri": "https://localhost:8080/"
        },
        "id": "UUB2OCTQW9Q-",
        "outputId": "074eec0b-b226-4156-9277-1a1a3af646fd"
      },
      "source": [
        "print([] or \"Hello World!\")"
      ],
      "execution_count": null,
      "outputs": [
        {
          "output_type": "stream",
          "name": "stdout",
          "text": [
            "Hello World!\n"
          ]
        }
      ]
    },
    {
      "cell_type": "code",
      "metadata": {
        "colab": {
          "base_uri": "https://localhost:8080/"
        },
        "id": "vrJm4zK4W9Tv",
        "outputId": "9dc1ac0f-d93c-4c08-fa61-c4a024dd951e"
      },
      "source": [
        "print(len([[12,4,56]]))"
      ],
      "execution_count": null,
      "outputs": [
        {
          "output_type": "stream",
          "name": "stdout",
          "text": [
            "1\n"
          ]
        }
      ]
    },
    {
      "cell_type": "code",
      "metadata": {
        "colab": {
          "base_uri": "https://localhost:8080/"
        },
        "id": "lh8z3rswW9Wu",
        "outputId": "a5a8a2fb-1df6-4014-8349-1b9d66c68b7e"
      },
      "source": [
        "text = \"Clarusway, Clarusway, Clarusway, \\n\\tClarusway, Clarusway, Clarusway, \\n\\t\\tClarusway, Clarusway, Clarusway\"\n",
        "print(text)"
      ],
      "execution_count": null,
      "outputs": [
        {
          "output_type": "stream",
          "name": "stdout",
          "text": [
            "Clarusway, Clarusway, Clarusway, \n",
            "\tClarusway, Clarusway, Clarusway, \n",
            "\t\tClarusway, Clarusway, Clarusway\n"
          ]
        }
      ]
    },
    {
      "cell_type": "code",
      "metadata": {
        "id": "Y5Zj6zSyW9Zg",
        "colab": {
          "base_uri": "https://localhost:8080/"
        },
        "outputId": "fafc13bb-294b-478b-ce77-7312ada637b7"
      },
      "source": [
        "print(({0}and False) or [])"
      ],
      "execution_count": null,
      "outputs": [
        {
          "output_type": "stream",
          "name": "stdout",
          "text": [
            "[]\n"
          ]
        }
      ]
    },
    {
      "cell_type": "code",
      "metadata": {
        "id": "5UQmfieJW9ce",
        "colab": {
          "base_uri": "https://localhost:8080/"
        },
        "outputId": "d614a229-5f71-45bc-fe10-8ae50be5fea5"
      },
      "source": [
        "word = 'clarusway'\n",
        "n = 3\n",
        "front = word[0:n]\n",
        "back = word[n+1:]\n",
        "print(front + back)"
      ],
      "execution_count": null,
      "outputs": [
        {
          "output_type": "stream",
          "name": "stdout",
          "text": [
            "clausway\n"
          ]
        }
      ]
    },
    {
      "cell_type": "code",
      "metadata": {
        "colab": {
          "base_uri": "https://localhost:8080/"
        },
        "id": "vUExMWnDfFXy",
        "outputId": "159c27a0-1000-42c4-a7ad-9fa6f8b5ed2c"
      },
      "source": [
        "city = \"SARAJEVO\"\n",
        "text = 'I live in ' + f\"{city.capitalize()}\" + '.'\n",
        "print(text)"
      ],
      "execution_count": null,
      "outputs": [
        {
          "output_type": "stream",
          "name": "stdout",
          "text": [
            "I live in Sarajevo.\n"
          ]
        }
      ]
    },
    {
      "cell_type": "code",
      "metadata": {
        "colab": {
          "base_uri": "https://localhost:8080/"
        },
        "id": "LAI3CEYafFah",
        "outputId": "bc10e867-aa39-4465-b5b3-46bec7258f2c"
      },
      "source": [
        "text = \"{}! I am a {} programmer and I {} Clarusway.\".format(\"Hello\", \"new\", \"love\")\n",
        "print(text)"
      ],
      "execution_count": null,
      "outputs": [
        {
          "output_type": "stream",
          "name": "stdout",
          "text": [
            "Hello! I am a new programmer and I love Clarusway.\n"
          ]
        }
      ]
    }
  ]
}
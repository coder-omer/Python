{
  "nbformat": 4,
  "nbformat_minor": 0,
  "metadata": {
    "colab": {
      "name": "python_recap.ipynb",
      "provenance": [],
      "authorship_tag": "ABX9TyOTcjwK+FQWcuMBV9JOUY1l",
      "include_colab_link": true
    },
    "kernelspec": {
      "name": "python3",
      "display_name": "Python 3"
    },
    "language_info": {
      "name": "python"
    }
  },
  "cells": [
    {
      "cell_type": "markdown",
      "metadata": {
        "id": "view-in-github",
        "colab_type": "text"
      },
      "source": [
        "<a href=\"https://colab.research.google.com/github/coder-omer/Python/blob/main/python_recap.ipynb\" target=\"_parent\"><img src=\"https://colab.research.google.com/assets/colab-badge.svg\" alt=\"Open In Colab\"/></a>"
      ]
    },
    {
      "cell_type": "code",
      "execution_count": null,
      "metadata": {
        "colab": {
          "base_uri": "https://localhost:8080/"
        },
        "id": "hMYgZ53kH5Bu",
        "outputId": "ebbecfc2-839e-4175-9d70-52724af7df1a"
      },
      "outputs": [
        {
          "output_type": "execute_result",
          "data": {
            "text/plain": [
              "33"
            ]
          },
          "metadata": {},
          "execution_count": 4
        }
      ],
      "source": [
        "0xA + 0xB + 0xC"
      ]
    },
    {
      "cell_type": "code",
      "source": [
        "print(r\"\\nhello\")"
      ],
      "metadata": {
        "colab": {
          "base_uri": "https://localhost:8080/"
        },
        "id": "E5yYYY8vJON2",
        "outputId": "4f1fa503-e800-4b0d-f9bc-e7223ccaa379"
      },
      "execution_count": null,
      "outputs": [
        {
          "output_type": "stream",
          "name": "stdout",
          "text": [
            "\\nhello\n"
          ]
        }
      ]
    },
    {
      "cell_type": "code",
      "source": [
        "print(\"new\" \"line\")"
      ],
      "metadata": {
        "colab": {
          "base_uri": "https://localhost:8080/"
        },
        "id": "_YErHtQOJOQ2",
        "outputId": "c465f15d-ff72-436c-a824-286cfbb0bfd7"
      },
      "execution_count": null,
      "outputs": [
        {
          "output_type": "stream",
          "name": "stdout",
          "text": [
            "newline\n"
          ]
        }
      ]
    },
    {
      "cell_type": "code",
      "source": [
        "print(\"new\" \"line\" \"end\")"
      ],
      "metadata": {
        "colab": {
          "base_uri": "https://localhost:8080/"
        },
        "id": "4-aLAMshJOUI",
        "outputId": "7ce6a884-9403-49bc-b673-46436d235bf3"
      },
      "execution_count": null,
      "outputs": [
        {
          "output_type": "stream",
          "name": "stdout",
          "text": [
            "newlineend\n"
          ]
        }
      ]
    },
    {
      "cell_type": "code",
      "source": [
        "print(\"new\" \"line\" \"end\" 3)"
      ],
      "metadata": {
        "colab": {
          "base_uri": "https://localhost:8080/",
          "height": 130
        },
        "id": "izwh7i48JOW9",
        "outputId": "2a0eefd6-c74e-40f3-934e-79f76e1c649f"
      },
      "execution_count": null,
      "outputs": [
        {
          "output_type": "error",
          "ename": "SyntaxError",
          "evalue": "ignored",
          "traceback": [
            "\u001b[0;36m  File \u001b[0;32m\"<ipython-input-21-693762d2e4e6>\"\u001b[0;36m, line \u001b[0;32m1\u001b[0m\n\u001b[0;31m    print(\"new\" \"line\" \"end\" 3)\u001b[0m\n\u001b[0m                             ^\u001b[0m\n\u001b[0;31mSyntaxError\u001b[0m\u001b[0;31m:\u001b[0m invalid syntax\n"
          ]
        }
      ]
    },
    {
      "cell_type": "code",
      "source": [
        "print(\"new\" \"line\" \"end\", 3)"
      ],
      "metadata": {
        "colab": {
          "base_uri": "https://localhost:8080/"
        },
        "id": "B8_a9V8oJOZ5",
        "outputId": "dca43101-9fd2-41a0-c900-333d7494edfc"
      },
      "execution_count": null,
      "outputs": [
        {
          "output_type": "stream",
          "name": "stdout",
          "text": [
            "newlineend 3\n"
          ]
        }
      ]
    },
    {
      "cell_type": "code",
      "source": [
        "str1 = \"clarsuway\"\n",
        "print(str1[::-1])"
      ],
      "metadata": {
        "colab": {
          "base_uri": "https://localhost:8080/"
        },
        "id": "DXWYPWCqJOdK",
        "outputId": "b341b0e2-078f-46e1-9cf7-f13edc25ee27"
      },
      "execution_count": null,
      "outputs": [
        {
          "output_type": "stream",
          "name": "stdout",
          "text": [
            "yawusralc\n"
          ]
        }
      ]
    },
    {
      "cell_type": "code",
      "source": [
        "example = \"snow world\"\n",
        "print(\"%s\" % example[4:7])"
      ],
      "metadata": {
        "colab": {
          "base_uri": "https://localhost:8080/"
        },
        "id": "rbsPEYPCN7n8",
        "outputId": "d3b2e47c-1142-4de4-f61b-ea1cedc8a74c"
      },
      "execution_count": null,
      "outputs": [
        {
          "output_type": "stream",
          "name": "stdout",
          "text": [
            " wo\n"
          ]
        }
      ]
    },
    {
      "cell_type": "code",
      "source": [
        "example = \"snow world\"\n",
        "print(% example[4:7])"
      ],
      "metadata": {
        "colab": {
          "base_uri": "https://localhost:8080/",
          "height": 130
        },
        "id": "_53RbqNHN7sW",
        "outputId": "ad4e719c-38c8-489a-bb76-bd6295120fba"
      },
      "execution_count": null,
      "outputs": [
        {
          "output_type": "error",
          "ename": "SyntaxError",
          "evalue": "ignored",
          "traceback": [
            "\u001b[0;36m  File \u001b[0;32m\"<ipython-input-29-f3d5ab42f3f9>\"\u001b[0;36m, line \u001b[0;32m2\u001b[0m\n\u001b[0;31m    print(% example[4:7])\u001b[0m\n\u001b[0m          ^\u001b[0m\n\u001b[0;31mSyntaxError\u001b[0m\u001b[0;31m:\u001b[0m invalid syntax\n"
          ]
        }
      ]
    },
    {
      "cell_type": "code",
      "source": [
        "example = 499999656\n",
        "print(\"%s\" % example[4:7])"
      ],
      "metadata": {
        "colab": {
          "base_uri": "https://localhost:8080/",
          "height": 182
        },
        "id": "qHi1fmYvN7z2",
        "outputId": "1bfcc64a-7f37-4bd0-e22b-87d12b047779"
      },
      "execution_count": null,
      "outputs": [
        {
          "output_type": "error",
          "ename": "TypeError",
          "evalue": "ignored",
          "traceback": [
            "\u001b[0;31m---------------------------------------------------------------------------\u001b[0m",
            "\u001b[0;31mTypeError\u001b[0m                                 Traceback (most recent call last)",
            "\u001b[0;32m<ipython-input-30-bd523b33fcfa>\u001b[0m in \u001b[0;36m<module>\u001b[0;34m()\u001b[0m\n\u001b[1;32m      1\u001b[0m \u001b[0mexample\u001b[0m \u001b[0;34m=\u001b[0m \u001b[0;36m499999656\u001b[0m\u001b[0;34m\u001b[0m\u001b[0;34m\u001b[0m\u001b[0m\n\u001b[0;32m----> 2\u001b[0;31m \u001b[0mprint\u001b[0m\u001b[0;34m(\u001b[0m\u001b[0;34m\"%s\"\u001b[0m \u001b[0;34m%\u001b[0m \u001b[0mexample\u001b[0m\u001b[0;34m[\u001b[0m\u001b[0;36m4\u001b[0m\u001b[0;34m:\u001b[0m\u001b[0;36m7\u001b[0m\u001b[0;34m]\u001b[0m\u001b[0;34m)\u001b[0m\u001b[0;34m\u001b[0m\u001b[0;34m\u001b[0m\u001b[0m\n\u001b[0m",
            "\u001b[0;31mTypeError\u001b[0m: 'int' object is not subscriptable"
          ]
        }
      ]
    },
    {
      "cell_type": "code",
      "source": [
        "print(\"DA\", sep=\"-\",end = ' ')\n",
        "print(\"CA\", end = '')\n",
        "print(\"BA\", sep=\"-\", end = ' ')\n",
        "print(\"AA\", end = '')"
      ],
      "metadata": {
        "colab": {
          "base_uri": "https://localhost:8080/"
        },
        "id": "ZXhnqk1MN76H",
        "outputId": "84a16e60-1233-4fd3-d256-f89bfbf4d50c"
      },
      "execution_count": null,
      "outputs": [
        {
          "output_type": "stream",
          "name": "stdout",
          "text": [
            "DA CABA AA"
          ]
        }
      ]
    },
    {
      "cell_type": "code",
      "source": [
        "example = \"snow world\"\n",
        "example[3] = 's'\n",
        "print(example)"
      ],
      "metadata": {
        "colab": {
          "base_uri": "https://localhost:8080/",
          "height": 200
        },
        "id": "7_5Ae7OsN79R",
        "outputId": "086dfb74-f537-429f-e8e4-81c07b9a76da"
      },
      "execution_count": null,
      "outputs": [
        {
          "output_type": "error",
          "ename": "TypeError",
          "evalue": "ignored",
          "traceback": [
            "\u001b[0;31m---------------------------------------------------------------------------\u001b[0m",
            "\u001b[0;31mTypeError\u001b[0m                                 Traceback (most recent call last)",
            "\u001b[0;32m<ipython-input-36-a26d86948a3b>\u001b[0m in \u001b[0;36m<module>\u001b[0;34m()\u001b[0m\n\u001b[1;32m      1\u001b[0m \u001b[0mexample\u001b[0m \u001b[0;34m=\u001b[0m \u001b[0;34m\"snow world\"\u001b[0m\u001b[0;34m\u001b[0m\u001b[0;34m\u001b[0m\u001b[0m\n\u001b[0;32m----> 2\u001b[0;31m \u001b[0mexample\u001b[0m\u001b[0;34m[\u001b[0m\u001b[0;36m3\u001b[0m\u001b[0;34m]\u001b[0m \u001b[0;34m=\u001b[0m \u001b[0;34m's'\u001b[0m\u001b[0;34m\u001b[0m\u001b[0;34m\u001b[0m\u001b[0m\n\u001b[0m\u001b[1;32m      3\u001b[0m \u001b[0mprint\u001b[0m\u001b[0;34m(\u001b[0m\u001b[0mexample\u001b[0m\u001b[0;34m)\u001b[0m\u001b[0;34m\u001b[0m\u001b[0;34m\u001b[0m\u001b[0m\n",
            "\u001b[0;31mTypeError\u001b[0m: 'str' object does not support item assignment"
          ]
        }
      ]
    },
    {
      "cell_type": "code",
      "source": [
        "print(max(\"joseph\"))"
      ],
      "metadata": {
        "colab": {
          "base_uri": "https://localhost:8080/"
        },
        "id": "qzF63SFQN7_9",
        "outputId": "ca1c4967-eab5-45d5-c89f-df9029b9ac82"
      },
      "execution_count": null,
      "outputs": [
        {
          "output_type": "stream",
          "name": "stdout",
          "text": [
            "s\n"
          ]
        }
      ]
    },
    {
      "cell_type": "code",
      "source": [
        "example = \"hello\"\n",
        "print(example.count(\"l\"))"
      ],
      "metadata": {
        "colab": {
          "base_uri": "https://localhost:8080/"
        },
        "id": "A63tcmnzN8DI",
        "outputId": "26168f08-60d5-46ed-8987-4a963cd1029a"
      },
      "execution_count": null,
      "outputs": [
        {
          "output_type": "stream",
          "name": "stdout",
          "text": [
            "2\n"
          ]
        }
      ]
    },
    {
      "cell_type": "code",
      "source": [
        "example = \"helen\"\n",
        "print(example.find(\"e\"))"
      ],
      "metadata": {
        "colab": {
          "base_uri": "https://localhost:8080/"
        },
        "id": "0nD0km3aN8GX",
        "outputId": "0483b563-b847-49b2-8b0a-68c77633988e"
      },
      "execution_count": null,
      "outputs": [
        {
          "output_type": "stream",
          "name": "stdout",
          "text": [
            "1\n"
          ]
        }
      ]
    },
    {
      "cell_type": "code",
      "source": [
        "example=\"helloworld\"\n",
        "print(example[::-1].startswith(\"eh\"))"
      ],
      "metadata": {
        "colab": {
          "base_uri": "https://localhost:8080/"
        },
        "id": "4vYPyEupN8Jb",
        "outputId": "29ee9653-10a5-4c52-84de-ba9e4eaa4dfc"
      },
      "execution_count": null,
      "outputs": [
        {
          "output_type": "stream",
          "name": "stdout",
          "text": [
            "False\n"
          ]
        }
      ]
    },
    {
      "cell_type": "code",
      "source": [
        "print(\"hello\\example\\test.txt\")"
      ],
      "metadata": {
        "colab": {
          "base_uri": "https://localhost:8080/"
        },
        "id": "FwFcEilrQyqw",
        "outputId": "8b3d9ef5-7e49-4795-e16d-9c5231c2b558"
      },
      "execution_count": null,
      "outputs": [
        {
          "output_type": "stream",
          "name": "stdout",
          "text": [
            "hello\\example\test.txt\n"
          ]
        }
      ]
    },
    {
      "cell_type": "code",
      "source": [
        "print(\"hello\\\"example\\\"test.txt\")"
      ],
      "metadata": {
        "colab": {
          "base_uri": "https://localhost:8080/"
        },
        "id": "GIXHTYiRQytu",
        "outputId": "f5c3b596-162a-4913-acab-bee6c7c1e096"
      },
      "execution_count": null,
      "outputs": [
        {
          "output_type": "stream",
          "name": "stdout",
          "text": [
            "hello\"example\"test.txt\n"
          ]
        }
      ]
    },
    {
      "cell_type": "code",
      "source": [
        "print(“hello\"\\example\"\\test.txt”)"
      ],
      "metadata": {
        "colab": {
          "base_uri": "https://localhost:8080/",
          "height": 130
        },
        "id": "hQ-y-WTZQyxG",
        "outputId": "895e4597-a50d-42c7-8a55-c391d50d9153"
      },
      "execution_count": null,
      "outputs": [
        {
          "output_type": "error",
          "ename": "SyntaxError",
          "evalue": "ignored",
          "traceback": [
            "\u001b[0;36m  File \u001b[0;32m\"<ipython-input-43-6078bbd80ebe>\"\u001b[0;36m, line \u001b[0;32m1\u001b[0m\n\u001b[0;31m    print(“hello\"\\example\"\\test.txt”)\u001b[0m\n\u001b[0m               ^\u001b[0m\n\u001b[0;31mSyntaxError\u001b[0m\u001b[0;31m:\u001b[0m invalid character in identifier\n"
          ]
        }
      ]
    },
    {
      "cell_type": "code",
      "source": [
        "print(\"hello\\\\example\\\\test.txt\")"
      ],
      "metadata": {
        "colab": {
          "base_uri": "https://localhost:8080/"
        },
        "id": "qgF02SDtQyz0",
        "outputId": "e5ca7080-b8ad-42c1-87be-50556832c66b"
      },
      "execution_count": null,
      "outputs": [
        {
          "output_type": "stream",
          "name": "stdout",
          "text": [
            "hello\\example\\test.txt\n"
          ]
        }
      ]
    },
    {
      "cell_type": "code",
      "source": [
        "print(\"hello\\n\\example\\n\\test.txt\")"
      ],
      "metadata": {
        "colab": {
          "base_uri": "https://localhost:8080/"
        },
        "id": "vL3w8ETMRIai",
        "outputId": "7637cd1b-85b3-4ad3-b08a-c332605733fe"
      },
      "execution_count": null,
      "outputs": [
        {
          "output_type": "stream",
          "name": "stdout",
          "text": [
            "hello\n",
            "\\example\n",
            "\test.txt\n"
          ]
        }
      ]
    },
    {
      "cell_type": "code",
      "source": [
        "s = \"\\t\\tWorld\\n\"\n",
        "print(s.strip())"
      ],
      "metadata": {
        "colab": {
          "base_uri": "https://localhost:8080/"
        },
        "id": "qIUQ5a2vRIdw",
        "outputId": "8194048b-ab83-4444-c98c-49bee7da080a"
      },
      "execution_count": null,
      "outputs": [
        {
          "output_type": "stream",
          "name": "stdout",
          "text": [
            "World\n"
          ]
        }
      ]
    },
    {
      "cell_type": "code",
      "source": [
        "print(\"hello\" +\"1+2+\"\"3\")"
      ],
      "metadata": {
        "colab": {
          "base_uri": "https://localhost:8080/"
        },
        "id": "dZ7LCg35RIgW",
        "outputId": "ed72405a-6119-4ae8-df54-c49e4d2305aa"
      },
      "execution_count": null,
      "outputs": [
        {
          "output_type": "stream",
          "name": "stdout",
          "text": [
            "hello1+2+3\n"
          ]
        }
      ]
    },
    {
      "cell_type": "code",
      "source": [
        "\"\"\" this is my first module & script \"\"\"\n",
        "\n",
        "def my_func1(x):\n",
        "    return print(x**2)\n",
        "\n",
        "def my_func2(y):\n",
        "    return print(*y)\n",
        "\n",
        "if __name__ == '__main__':  # output-generating statements are here\n",
        "    print('hello') \n",
        "    my_func1(3)\n",
        "    my_func2(\"clarusway\")"
      ],
      "metadata": {
        "colab": {
          "base_uri": "https://localhost:8080/"
        },
        "id": "MBPPrL_vRIjZ",
        "outputId": "7ad93703-6631-4be5-adfa-2d58d37714e7"
      },
      "execution_count": null,
      "outputs": [
        {
          "output_type": "stream",
          "name": "stdout",
          "text": [
            "hello\n",
            "9\n",
            "c l a r u s w a y\n"
          ]
        }
      ]
    },
    {
      "cell_type": "code",
      "source": [
        "def parrot(voltage, state='a stiff', action='voom', type='Norwegian Blue'):\n",
        "    print(\"-- This parrot wouldn't\", action, end=' ')\n",
        "    print(\"if you put\", voltage, \"volts through it.\")\n",
        "    print(\"-- Lovely plumage, the\", type)\n",
        "    print(\"-- It's\", state, \"!\")"
      ],
      "metadata": {
        "id": "f8HSNDUMRImX"
      },
      "execution_count": null,
      "outputs": []
    },
    {
      "cell_type": "code",
      "source": [
        "parrot(1000)"
      ],
      "metadata": {
        "colab": {
          "base_uri": "https://localhost:8080/"
        },
        "id": "6uxjEBDURIph",
        "outputId": "c2614c84-7ec7-4d1e-b68b-21c38ecdf98e"
      },
      "execution_count": null,
      "outputs": [
        {
          "output_type": "stream",
          "name": "stdout",
          "text": [
            "-- This parrot wouldn't voom if you put 1000 volts through it.\n",
            "-- Lovely plumage, the Norwegian Blue\n",
            "-- It's a stiff !\n"
          ]
        }
      ]
    },
    {
      "cell_type": "code",
      "source": [
        "parrot(voltage=1000)"
      ],
      "metadata": {
        "colab": {
          "base_uri": "https://localhost:8080/"
        },
        "id": "gf8fsU0BRIsn",
        "outputId": "d59d8375-f491-4756-ef74-6a9c226a7c9c"
      },
      "execution_count": null,
      "outputs": [
        {
          "output_type": "stream",
          "name": "stdout",
          "text": [
            "-- This parrot wouldn't voom if you put 1000 volts through it.\n",
            "-- Lovely plumage, the Norwegian Blue\n",
            "-- It's a stiff !\n"
          ]
        }
      ]
    },
    {
      "cell_type": "code",
      "source": [
        "parrot(voltage=1000000, action='VOOOOOM')"
      ],
      "metadata": {
        "colab": {
          "base_uri": "https://localhost:8080/"
        },
        "id": "uiN4jIVRRIvo",
        "outputId": "a8e8a16c-801b-420c-cba6-9b014854089a"
      },
      "execution_count": null,
      "outputs": [
        {
          "output_type": "stream",
          "name": "stdout",
          "text": [
            "-- This parrot wouldn't VOOOOOM if you put 1000000 volts through it.\n",
            "-- Lovely plumage, the Norwegian Blue\n",
            "-- It's a stiff !\n"
          ]
        }
      ]
    },
    {
      "cell_type": "code",
      "source": [
        "parrot(action='VOOOOOM', voltage=1000000)"
      ],
      "metadata": {
        "colab": {
          "base_uri": "https://localhost:8080/"
        },
        "id": "C5Y3q4MWRIyn",
        "outputId": "79019c90-6e7e-482c-d15f-f6fac9a2040b"
      },
      "execution_count": null,
      "outputs": [
        {
          "output_type": "stream",
          "name": "stdout",
          "text": [
            "-- This parrot wouldn't VOOOOOM if you put 1000000 volts through it.\n",
            "-- Lovely plumage, the Norwegian Blue\n",
            "-- It's a stiff !\n"
          ]
        }
      ]
    },
    {
      "cell_type": "code",
      "source": [
        "parrot('a million', 'bereft of life', 'jump')"
      ],
      "metadata": {
        "colab": {
          "base_uri": "https://localhost:8080/"
        },
        "id": "5XfwvoHNRI1m",
        "outputId": "79f2c731-154e-4ea4-8d7d-962b2cb14f91"
      },
      "execution_count": null,
      "outputs": [
        {
          "output_type": "stream",
          "name": "stdout",
          "text": [
            "-- This parrot wouldn't jump if you put a million volts through it.\n",
            "-- Lovely plumage, the Norwegian Blue\n",
            "-- It's bereft of life !\n"
          ]
        }
      ]
    },
    {
      "cell_type": "code",
      "source": [
        "parrot('a thousand', state='pushing up the daisies') "
      ],
      "metadata": {
        "colab": {
          "base_uri": "https://localhost:8080/"
        },
        "id": "OpFLd-UeRI45",
        "outputId": "afddaa7f-bbe3-4c73-85ee-d48dcdc1e4ac"
      },
      "execution_count": null,
      "outputs": [
        {
          "output_type": "stream",
          "name": "stdout",
          "text": [
            "-- This parrot wouldn't voom if you put a thousand volts through it.\n",
            "-- Lovely plumage, the Norwegian Blue\n",
            "-- It's pushing up the daisies !\n"
          ]
        }
      ]
    },
    {
      "cell_type": "code",
      "source": [
        "def fruiterer(*fruit) :\n",
        "    print('I want to get :')\n",
        "    for i in fruit :\n",
        "        print('-', i)\n",
        "        \n",
        "fruiterer('orange', 'banana', 'melon', 'ananas')"
      ],
      "metadata": {
        "colab": {
          "base_uri": "https://localhost:8080/"
        },
        "id": "2nG1JYh0RI_I",
        "outputId": "3d09e8f3-b403-4613-b1ab-aafb90f27c91"
      },
      "execution_count": null,
      "outputs": [
        {
          "output_type": "stream",
          "name": "stdout",
          "text": [
            "I want to get :\n",
            "- orange\n",
            "- banana\n",
            "- melon\n",
            "- ananas\n"
          ]
        }
      ]
    },
    {
      "cell_type": "code",
      "source": [
        "def animals(**kwargs):\n",
        "    for i, j in kwargs.items():\n",
        "        print(j, \"are\", i)\n",
        " \n",
        "animals(Carnivores=\"Lions\", Omnivores=\"Bears\", Herbivores=\"Deers\", Nomnivores=\"Human\")"
      ],
      "metadata": {
        "colab": {
          "base_uri": "https://localhost:8080/"
        },
        "id": "aYATn-1ZRJB-",
        "outputId": "739f43b3-c622-40cc-d46a-40e3b616c814"
      },
      "execution_count": null,
      "outputs": [
        {
          "output_type": "stream",
          "name": "stdout",
          "text": [
            "Lions are Carnivores\n",
            "Bears are Omnivores\n",
            "Deers are Herbivores\n",
            "Human are Nomnivores\n"
          ]
        }
      ]
    },
    {
      "cell_type": "code",
      "source": [
        "def brothers(bro1, bro2, bro3):\n",
        "    print('Here are the names of brothers :')\n",
        "    print(bro1, bro2, bro3, sep='\\n')\n",
        "\n",
        "family = ['tom', 'sue', 'tim']\n",
        "brothers(*family)"
      ],
      "metadata": {
        "colab": {
          "base_uri": "https://localhost:8080/"
        },
        "id": "dvgbppiR2kg_",
        "outputId": "97fc8ea3-11e5-453e-f4b3-b5f9f2d365ca"
      },
      "execution_count": null,
      "outputs": [
        {
          "output_type": "stream",
          "name": "stdout",
          "text": [
            "Here are the names of brothers :\n",
            "tom\n",
            "sue\n",
            "tim\n"
          ]
        }
      ]
    },
    {
      "cell_type": "code",
      "source": [
        "def gene(x, y):  # defined by positional args\n",
        "    print(x, \"belongs to Generation X\")\n",
        "    print(y, \"belongs to Generation Y\")\n",
        " \n",
        "dict_gene = {'y' : \"Marry\", 'x' : \"Fred\"}\n",
        "gene(**dict_gene)  # we call the function by a single argument(variable)"
      ],
      "metadata": {
        "colab": {
          "base_uri": "https://localhost:8080/"
        },
        "id": "_nrTRT2l2kkP",
        "outputId": "b40d5bc2-12e5-4a71-dcf2-11e939a493c8"
      },
      "execution_count": null,
      "outputs": [
        {
          "output_type": "stream",
          "name": "stdout",
          "text": [
            "Fred belongs to Generation X\n",
            "Marry belongs to Generation Y\n"
          ]
        }
      ]
    },
    {
      "cell_type": "code",
      "source": [
        "def gene(x='Solomon', y='David'):  # defined by kwargs (default values assigned to x and y)\n",
        "    print(x, \"belongs to Generation X\")\n",
        "    print(y, \"belongs to Generation Y\")\n",
        " \n",
        "dict_gene = {'y' : \"Marry\"}\n",
        "gene(**dict_gene) "
      ],
      "metadata": {
        "colab": {
          "base_uri": "https://localhost:8080/"
        },
        "id": "JC5QkKqr2knE",
        "outputId": "d5c8ed2d-388c-4305-af3e-0112ddb40c33"
      },
      "execution_count": null,
      "outputs": [
        {
          "output_type": "stream",
          "name": "stdout",
          "text": [
            "Solomon belongs to Generation X\n",
            "Marry belongs to Generation Y\n"
          ]
        }
      ]
    },
    {
      "cell_type": "code",
      "source": [
        "count = 1\n",
        "\n",
        "def counter():\n",
        "    global count  # we've changed its scope\n",
        "    print(count)  # it's global anymore\n",
        "    count += 1\n",
        " \n",
        "counter() \n",
        "counter()\n",
        "counter()"
      ],
      "metadata": {
        "colab": {
          "base_uri": "https://localhost:8080/"
        },
        "id": "n0PwwSSB2kpy",
        "outputId": "7f038b07-7182-41de-f68c-b8194d007a4b"
      },
      "execution_count": null,
      "outputs": [
        {
          "output_type": "stream",
          "name": "stdout",
          "text": [
            "1\n",
            "2\n",
            "3\n"
          ]
        }
      ]
    },
    {
      "cell_type": "code",
      "source": [
        "def square(x):\n",
        "    return x**2\n",
        "\n",
        "square(2)"
      ],
      "metadata": {
        "colab": {
          "base_uri": "https://localhost:8080/"
        },
        "id": "IaZ4kYAX2ksj",
        "outputId": "d4c722a1-668f-4d4a-8415-72561c36172b"
      },
      "execution_count": null,
      "outputs": [
        {
          "output_type": "execute_result",
          "data": {
            "text/plain": [
              "4"
            ]
          },
          "metadata": {},
          "execution_count": 68
        }
      ]
    },
    {
      "cell_type": "code",
      "source": [
        "(lambda x: x**2)(2)"
      ],
      "metadata": {
        "colab": {
          "base_uri": "https://localhost:8080/"
        },
        "id": "0-mVGntt2kv7",
        "outputId": "0f5b8a95-a751-448a-c422-f4ac09995249"
      },
      "execution_count": null,
      "outputs": [
        {
          "output_type": "execute_result",
          "data": {
            "text/plain": [
              "4"
            ]
          },
          "metadata": {},
          "execution_count": 73
        }
      ]
    },
    {
      "cell_type": "code",
      "source": [
        "print((lambda x, y: (x+y)/2)(3, 5))  # takes two int, returns mean of them"
      ],
      "metadata": {
        "colab": {
          "base_uri": "https://localhost:8080/"
        },
        "id": "bo-4TiQa2kyN",
        "outputId": "7998401c-6874-46c7-80bd-6332b213b231"
      },
      "execution_count": null,
      "outputs": [
        {
          "output_type": "stream",
          "name": "stdout",
          "text": [
            "4.0\n"
          ]
        }
      ]
    },
    {
      "cell_type": "code",
      "source": [
        "average = (lambda x, y: (x+y)/2)(3, 5) \n",
        "print(average)"
      ],
      "metadata": {
        "colab": {
          "base_uri": "https://localhost:8080/"
        },
        "id": "q6sxcc972k1g",
        "outputId": "32488c69-1127-4aac-cf05-7405362969b7"
      },
      "execution_count": null,
      "outputs": [
        {
          "output_type": "stream",
          "name": "stdout",
          "text": [
            "4.0\n"
          ]
        }
      ]
    },
    {
      "cell_type": "code",
      "source": [
        "my_list = [1,2,3,4,5,6]\n",
        "new_list = []"
      ],
      "metadata": {
        "id": "OAZwT0s42k4h"
      },
      "execution_count": null,
      "outputs": []
    },
    {
      "cell_type": "code",
      "source": [
        "for x in my_list:\n",
        "  if x % 2 != 0 :\n",
        "    new_list.append(x**2)\n",
        "\n",
        "print(new_list)"
      ],
      "metadata": {
        "colab": {
          "base_uri": "https://localhost:8080/"
        },
        "id": "d92mYgwO2lZx",
        "outputId": "eacc5d04-10a3-4cd1-b8c0-dcb2c863af73"
      },
      "execution_count": null,
      "outputs": [
        {
          "output_type": "stream",
          "name": "stdout",
          "text": [
            "[1, 9, 25]\n"
          ]
        }
      ]
    },
    {
      "cell_type": "code",
      "source": [
        "[x**2 for x in my_list]"
      ],
      "metadata": {
        "colab": {
          "base_uri": "https://localhost:8080/"
        },
        "id": "dfAnjMEC2ldE",
        "outputId": "4be7bb99-6b68-4a17-882e-f3d8e7026489"
      },
      "execution_count": null,
      "outputs": [
        {
          "output_type": "execute_result",
          "data": {
            "text/plain": [
              "[1, 4, 9, 16, 25, 36]"
            ]
          },
          "metadata": {},
          "execution_count": 3
        }
      ]
    },
    {
      "cell_type": "code",
      "source": [
        "[x**2 for x in my_list if x % 2 != 0]"
      ],
      "metadata": {
        "colab": {
          "base_uri": "https://localhost:8080/"
        },
        "id": "GXSsUC7J2lgj",
        "outputId": "00759a3b-7785-48f0-b9bd-3ebd0b4a31f9"
      },
      "execution_count": null,
      "outputs": [
        {
          "output_type": "execute_result",
          "data": {
            "text/plain": [
              "[1, 9, 25]"
            ]
          },
          "metadata": {},
          "execution_count": 4
        }
      ]
    },
    {
      "cell_type": "code",
      "source": [
        "for item in iterable:\n",
        "  if condition:\n",
        "    expression"
      ],
      "metadata": {
        "id": "ZHMaLnzM2lj7"
      },
      "execution_count": null,
      "outputs": []
    },
    {
      "cell_type": "code",
      "source": [
        "[expression for item in iterable if condition]"
      ],
      "metadata": {
        "id": "6URKvu0A2mn5"
      },
      "execution_count": null,
      "outputs": []
    },
    {
      "cell_type": "code",
      "source": [
        "iterable = [1, 2, 3, 4, 5]\n",
        "map(lambda x:x**2, iterable)\n",
        "result = map(lambda x:x**2, iterable)\n",
        "print(type(result))  # it's a map type\n",
        "\n",
        "print(list(result))  # we've converted it to list type to print\n",
        "\n",
        "print(list(map(lambda x:x**2, iterable)))  # you can print directly"
      ],
      "metadata": {
        "colab": {
          "base_uri": "https://localhost:8080/"
        },
        "id": "dFpj1SPf2mtq",
        "outputId": "61a61703-667e-4a5b-df59-7ab3cd03a210"
      },
      "execution_count": null,
      "outputs": [
        {
          "output_type": "stream",
          "name": "stdout",
          "text": [
            "<class 'map'>\n",
            "[1, 4, 9, 16, 25]\n",
            "[1, 4, 9, 16, 25]\n"
          ]
        }
      ]
    },
    {
      "cell_type": "code",
      "source": [
        "def square(n):\n",
        "  return n**2\n",
        "\n",
        "iterable = [1, 2, 3, 4, 5]\n",
        "result = map(square, iterable) \n",
        "print(list(result))"
      ],
      "metadata": {
        "colab": {
          "base_uri": "https://localhost:8080/"
        },
        "id": "211yLUzjzSl1",
        "outputId": "730a7b5d-d962-4c6b-d16e-43ee13550f43"
      },
      "execution_count": null,
      "outputs": [
        {
          "output_type": "stream",
          "name": "stdout",
          "text": [
            "[1, 4, 9, 16, 25]\n"
          ]
        }
      ]
    },
    {
      "cell_type": "code",
      "source": [
        "letter1 = ['o', 's', 't', 't']\n",
        "letter2 = ['n', 'i', 'e', 'w']\n",
        "letter3 = ['e', 'x', 'n', 'o']\n",
        "numbers = map(lambda x, y, z: x+y+z, letter1, letter2, letter3)\n",
        "\n",
        "print(list(numbers))"
      ],
      "metadata": {
        "colab": {
          "base_uri": "https://localhost:8080/"
        },
        "id": "OKg6iSuzzSpP",
        "outputId": "946d46ac-af19-4017-d279-0e5fea9d8c62"
      },
      "execution_count": null,
      "outputs": [
        {
          "output_type": "stream",
          "name": "stdout",
          "text": [
            "['one', 'six', 'ten', 'two']\n"
          ]
        }
      ]
    },
    {
      "cell_type": "code",
      "source": [
        "first_ten = [0, 1, 2, 3, 4, 5, 6, 7, 8, 9] \n",
        "  \n",
        "even = filter(lambda x:x%2==0, first_ten) \n",
        "print(type(even))  # it's 'filter' type, \n",
        "                   # in order to print the result,\n",
        "                   # we'd better convert it into the list type\n",
        "\n",
        "print('Even numbers are :', list(even))"
      ],
      "metadata": {
        "colab": {
          "base_uri": "https://localhost:8080/"
        },
        "id": "hZqySWc2zSsb",
        "outputId": "0da23d27-5c7e-4223-cfa8-742656e1ae40"
      },
      "execution_count": null,
      "outputs": [
        {
          "output_type": "stream",
          "name": "stdout",
          "text": [
            "<class 'filter'>\n",
            "Even numbers are : [0, 2, 4, 6, 8]\n"
          ]
        }
      ]
    },
    {
      "cell_type": "code",
      "source": [
        "vowel_list = ['a', 'e', 'i', 'o', 'u']\n",
        "first_ten = ['a', 'b', 'c', 'd', 'e', 'f', 'g', 'h', 'i', 'j']\n",
        "vowels = filter(lambda x: True if x in vowel_list else False, first_ten)\n",
        "\n",
        "print('Vowels are :', list(vowels))"
      ],
      "metadata": {
        "colab": {
          "base_uri": "https://localhost:8080/"
        },
        "id": "f1JTUjRczSvh",
        "outputId": "5dd8b4b0-62e0-4e01-8583-e7d96180cae1"
      },
      "execution_count": null,
      "outputs": [
        {
          "output_type": "stream",
          "name": "stdout",
          "text": [
            "Vowels are : ['a', 'e', 'i']\n"
          ]
        }
      ]
    },
    {
      "cell_type": "code",
      "source": [
        "number_list=[1, 2, 3, 4, 5, 6, 7, 8, 9, 10]\n",
        "result = filter(lambda x: x >= 6, number_list)\n",
        "print(list(result))"
      ],
      "metadata": {
        "colab": {
          "base_uri": "https://localhost:8080/"
        },
        "id": "Layn0PhmzSys",
        "outputId": "93bf4483-8055-4aa6-c34a-608a150484fd"
      },
      "execution_count": null,
      "outputs": [
        {
          "output_type": "stream",
          "name": "stdout",
          "text": [
            "[6, 7, 8, 9, 10]\n"
          ]
        }
      ]
    },
    {
      "cell_type": "code",
      "source": [
        "number_list=[ 1, 2, 3, 4, 5, 6, 7, 8, 9, 10 ]\n",
        "number_list=str(number_list)\n",
        "print(number_list)\n",
        "harf_list = ['a', 'b', 'c', 'd', 'e', 'f', 'g', 'h', 'i', 'j']\n",
        "\n",
        "resmap = map(lambda x, y : x+y, number_list, harf_list)\n",
        "\n",
        "print(list(resmap))"
      ],
      "metadata": {
        "colab": {
          "base_uri": "https://localhost:8080/"
        },
        "id": "YXC2DkJl2mwL",
        "outputId": "2def62be-ebe8-438e-a471-7cf002a266b2"
      },
      "execution_count": null,
      "outputs": [
        {
          "output_type": "stream",
          "name": "stdout",
          "text": [
            "[1, 2, 3, 4, 5, 6, 7, 8, 9, 10]\n",
            "['[a', '1b', ',c', ' d', '2e', ',f', ' g', '3h', ',i', ' j']\n"
          ]
        }
      ]
    },
    {
      "cell_type": "markdown",
      "source": [
        ""
      ],
      "metadata": {
        "id": "gYXQvhcLGzXA"
      }
    },
    {
      "cell_type": "code",
      "source": [
        "def modular_function(n):\n",
        "    return lambda x: x ** n\n",
        "    \n",
        "power_of_2 = modular_function(2)  # first sub-function derived from def\n",
        "power_of_3 = modular_function(3)  # second sub-function derived from def\n",
        "power_of_4 = modular_function(4)  # third sub-function derived from def\n",
        "\n",
        "print(power_of_2(2))  # 2 to the power of 2\n",
        "print(power_of_3(5))  # 2 to the power of 3\n",
        "print(power_of_4(10))  # 2 to the power of 4"
      ],
      "metadata": {
        "colab": {
          "base_uri": "https://localhost:8080/"
        },
        "id": "aik7OpAy2mzC",
        "outputId": "a78295d7-c5a5-473a-a409-171b6d930c7e"
      },
      "execution_count": null,
      "outputs": [
        {
          "output_type": "stream",
          "name": "stdout",
          "text": [
            "4\n",
            "125\n",
            "10000\n"
          ]
        }
      ]
    },
    {
      "cell_type": "code",
      "source": [
        "def repeater(n):\n",
        "    return lambda x: x * n\n",
        "    \n",
        "repeat_2_times = repeater(2)  # repeats 2 times\n",
        "repeat_3_times = repeater(3)  # repeats 3 times\n",
        "repeat_4_times = repeater(4)  # repeats 4 times\n",
        "\n",
        "print(repeat_2_times('alex '))\n",
        "print(repeat_3_times('lara '))\n",
        "print(repeat_4_times('linda '))"
      ],
      "metadata": {
        "colab": {
          "base_uri": "https://localhost:8080/"
        },
        "id": "du4aNBPL2m2O",
        "outputId": "8f4696b5-c510-48d1-d2e4-a45dfb648eff"
      },
      "execution_count": null,
      "outputs": [
        {
          "output_type": "stream",
          "name": "stdout",
          "text": [
            "alex alex \n",
            "lara lara lara \n",
            "linda linda linda linda \n"
          ]
        }
      ]
    },
    {
      "cell_type": "code",
      "source": [
        "number_list = [1, 2, 3, 4]\n",
        "result = map(lambda x:x**3, number_list)\n",
        "print(list(result))"
      ],
      "metadata": {
        "colab": {
          "base_uri": "https://localhost:8080/"
        },
        "id": "QybYoYhSSTxJ",
        "outputId": "f70c83df-2e45-46ed-8efe-6f68d929c495"
      },
      "execution_count": null,
      "outputs": [
        {
          "output_type": "stream",
          "name": "stdout",
          "text": [
            "[1, 8, 27, 64]\n"
          ]
        }
      ]
    },
    {
      "cell_type": "code",
      "source": [
        "number_list = [0, 1, 2, 3, 4, 5, 6, 7, 8, 9, 10, 11, 12] \n",
        "divisible_list = filter(lambda x:x%3==0, number_list) \n",
        "print(list(divisible_list))"
      ],
      "metadata": {
        "colab": {
          "base_uri": "https://localhost:8080/"
        },
        "id": "T-7swVwvSUHx",
        "outputId": "8871d3a4-0ec2-4b79-8652-438b6039772e"
      },
      "execution_count": null,
      "outputs": [
        {
          "output_type": "stream",
          "name": "stdout",
          "text": [
            "[0, 3, 6, 9, 12]\n"
          ]
        }
      ]
    },
    {
      "cell_type": "code",
      "source": [
        "def my_function_1(a, b):\n",
        "    area = a * b\n",
        "    return area"
      ],
      "metadata": {
        "id": "3B7x0U1PSUK2"
      },
      "execution_count": null,
      "outputs": []
    },
    {
      "cell_type": "code",
      "source": [
        "area_1 = my_function_1(3, 4)\n",
        "area_2 = my_function_1(5, 6)\n",
        "area_3 = my_function_1(6, 8)\n",
        "\n",
        "print(area_1)\n",
        "print(area_2)\n",
        "print(area_3)"
      ],
      "metadata": {
        "colab": {
          "base_uri": "https://localhost:8080/"
        },
        "id": "SVxJ5KbuSUON",
        "outputId": "6708de33-d587-408b-9c05-4ef60d02c1cd"
      },
      "execution_count": null,
      "outputs": [
        {
          "output_type": "stream",
          "name": "stdout",
          "text": [
            "12\n",
            "30\n",
            "48\n"
          ]
        }
      ]
    }
  ]
}
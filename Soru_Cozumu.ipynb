{
  "nbformat": 4,
  "nbformat_minor": 0,
  "metadata": {
    "interpreter": {
      "hash": "fa6a0a764cb4097f59c43fd49950221d10fdd80b639457893697b370f7a39508"
    },
    "kernelspec": {
      "display_name": "Python 3.10.0 64-bit",
      "language": "python",
      "name": "python3"
    },
    "language_info": {
      "codemirror_mode": {
        "name": "ipython",
        "version": 3
      },
      "file_extension": ".py",
      "mimetype": "text/x-python",
      "name": "python",
      "nbconvert_exporter": "python",
      "pygments_lexer": "ipython3",
      "version": "3.10.0"
    },
    "orig_nbformat": 4,
    "colab": {
      "name": "Soru Cozumu.ipynb",
      "provenance": []
    }
  },
  "cells": [
    {
      "cell_type": "code",
      "metadata": {
        "id": "5TcNCCEFAFYr"
      },
      "source": [
        "# Basic introduction to control flow statements\n",
        "\n",
        "#  if condition:\n",
        "#       body\n",
        "#  elif condition:\n",
        "#       body\n",
        "#  else:\n",
        "#       body\n",
        "\n",
        "\n",
        "# for i in iterable:\n",
        "#    body\n",
        "\n",
        "# while condition:\n",
        "#    body\n",
        "\n"
      ],
      "execution_count": null,
      "outputs": []
    },
    {
      "cell_type": "code",
      "metadata": {
        "id": "uUksCq7eAFYw"
      },
      "source": [
        "# Difference between for and while"
      ],
      "execution_count": null,
      "outputs": []
    },
    {
      "cell_type": "code",
      "metadata": {
        "id": "zpA5piUwAFYw",
        "outputId": "f994b3b7-1b0e-4e8b-cf5a-787ac5713ec6"
      },
      "source": [
        "liste = [1,2,3,4,5]\n",
        "print(list(map(str, liste)))"
      ],
      "execution_count": null,
      "outputs": [
        {
          "name": "stdout",
          "output_type": "stream",
          "text": [
            "['1', '2', '3', '4', '5']\n"
          ]
        }
      ]
    },
    {
      "cell_type": "code",
      "metadata": {
        "id": "Fo5YjwMsAFYy"
      },
      "source": [
        "# Find a students average\n",
        "\n",
        "#   Sample Input :\n",
        "#       2\n",
        "#       Harsh 25 26.5 28\n",
        "#       Anurag 26 28 30\n",
        "#       Harsh\n",
        "\n",
        "#   Sample Output:\n",
        "#       26.50"
      ],
      "execution_count": null,
      "outputs": []
    },
    {
      "cell_type": "code",
      "metadata": {
        "id": "zEvH6KL_AFYy",
        "outputId": "c225fadc-f33b-4214-fe41-af6f9ed215a4"
      },
      "source": [
        "student_number = int(input(\"How many students are you going to enter? \"))\n",
        "students = dict()\n",
        "for i in range(student_number):\n",
        "    student_info = input(\"What is the students name and his grades? \")\n",
        "    student_info = student_info.split() #       ['Harsh', '25', '26.5', '28']\n",
        "    student_name = student_info[0]\n",
        "    students[student_name] = student_info[1:]\n",
        "\n",
        "wanted_student = input(\"Whose grades do you want to see? \")\n",
        "\n",
        "sum_of_grades = 0\n",
        "for grade in students[wanted_student]:\n",
        "    grade = float(grade)\n",
        "    sum_of_grades += grade\n",
        "average_grade = sum_of_grades / 3 \n",
        "print(average_grade)"
      ],
      "execution_count": null,
      "outputs": [
        {
          "name": "stdout",
          "output_type": "stream",
          "text": [
            "40.0\n"
          ]
        }
      ]
    },
    {
      "cell_type": "code",
      "metadata": {
        "id": "AWWqZtjkAFYz"
      },
      "source": [
        "student_number = int(input(\"How many students are you going to enter? \"))\n",
        "students = dict()\n",
        "for i in range(student_number):\n",
        "    student_info = input(\"What is the students name and his grades? \")\n",
        "    student_info = student_info.split() #       ['Harsh', '25', '26.5', '28']\n",
        "    student_name = student_info[0]\n",
        "    students[student_name] = list(map(float,student_info[1:]))\n",
        "\n",
        "wanted_student = input(\"Whose grades do you want to see? \")\n",
        "\n",
        "sum_of_grades = sum(students[wanted_student])\n",
        "average_grade = sum_of_grades / len(students[wanted_student]) \n",
        "print(average_grade)"
      ],
      "execution_count": null,
      "outputs": []
    },
    {
      "cell_type": "code",
      "metadata": {
        "id": "M655HCk4AFYz"
      },
      "source": [
        "student_number = int(input(\"How many students are you going to enter? \"))\n",
        "students = dict()\n",
        "for i in range(student_number):\n",
        "    student_name = input(\"What is the students name? \")\n",
        "    student_grades = input(f\"What is {student_name}'s grades? \")\n",
        "    student_grades = map(float, student_grades.split())\n",
        "    students[student_name] = student_grades\n",
        "\n",
        "wanted_student = input(\"Whose grades do you want to see? \")\n",
        "\n",
        "sum_of_grades = sum(students[wanted_student])\n",
        "average_grade = sum_of_grades / len(students[wanted_student]) \n",
        "print(average_grade)"
      ],
      "execution_count": null,
      "outputs": []
    },
    {
      "cell_type": "code",
      "metadata": {
        "id": "ZrD2XxylAFY0"
      },
      "source": [
        "# Find the Runner up score\n",
        "\n",
        "#   Sample input:\n",
        "#       3\n",
        "#       2\n",
        "#       3\n",
        "#       6\n",
        "\n",
        "#   Sample output:\n",
        "#       3"
      ],
      "execution_count": null,
      "outputs": []
    },
    {
      "cell_type": "code",
      "metadata": {
        "id": "N4U8ghWaAFY0",
        "outputId": "141c32dd-960e-4577-f404-608272f2736e"
      },
      "source": [
        "number = int(input(\"How many number are you going to enter? \"))\n",
        "number_list = [] \n",
        "for i in range(number):\n",
        "    current_num = int(input(\"Enter your number : \"))\n",
        "    number_list.append(current_num)\n",
        "print(number_list)\n",
        "number_list = list(set(number_list))\n",
        "number_list.sort()\n",
        "print(number_list[-2])"
      ],
      "execution_count": null,
      "outputs": [
        {
          "name": "stdout",
          "output_type": "stream",
          "text": [
            "[6, 5, 6, 4, 2]\n",
            "5\n"
          ]
        }
      ]
    },
    {
      "cell_type": "code",
      "metadata": {
        "id": "sC9y8pyqAFY1",
        "outputId": "a043c298-e864-45cd-df83-8f9d33384a84"
      },
      "source": [
        "string = \"omer\"\n",
        "print(\"\".join(sorted(string)))"
      ],
      "execution_count": null,
      "outputs": [
        {
          "name": "stdout",
          "output_type": "stream",
          "text": [
            "emor\n"
          ]
        }
      ]
    },
    {
      "cell_type": "code",
      "metadata": {
        "id": "QJzSHq61AFY2"
      },
      "source": [
        "# 6 ogrenci 3 notunu girelim ve onlarin ilk sinav ortalamasini alalim"
      ],
      "execution_count": null,
      "outputs": []
    },
    {
      "cell_type": "code",
      "metadata": {
        "id": "h_RbrgJDAFY2"
      },
      "source": [
        ""
      ],
      "execution_count": null,
      "outputs": []
    },
    {
      "cell_type": "code",
      "metadata": {
        "id": "w2D5mt7XAFY3"
      },
      "source": [
        "# reverse every string in a list\n",
        "\n",
        "#   Sample input:\n",
        "#       'clarusway, omer mentor'\n",
        "\n",
        "#   Sample Output:\n",
        "#       ['yawsuralc', 'rotnem remo']"
      ],
      "execution_count": null,
      "outputs": []
    },
    {
      "cell_type": "code",
      "metadata": {
        "colab": {
          "base_uri": "https://localhost:8080/"
        },
        "id": "kXNPovt3AFY3",
        "outputId": "44ebb776-e3b0-4f3f-91cc-f9b443f27b80"
      },
      "source": [
        "strs = input(\"Enter your strings as comma seperated\")\n",
        "strs = strs.split(\", \")\n",
        "for i in range(len(strs)):\n",
        "    strs[i] = strs[i][::-1]\n",
        "\n",
        "print(strs)"
      ],
      "execution_count": null,
      "outputs": [
        {
          "output_type": "stream",
          "name": "stdout",
          "text": [
            "Enter your strings as comma seperatedhadi , len, oradan\n",
            "[' idah', 'nel', 'nadaro']\n"
          ]
        }
      ]
    },
    {
      "cell_type": "code",
      "metadata": {
        "colab": {
          "base_uri": "https://localhost:8080/"
        },
        "id": "PPWGKshVAFY4",
        "outputId": "fff965b2-d66d-4032-a2ac-1a011ae1b87d"
      },
      "source": [
        "strs = input(\"Enter your strings as comma seperated\")\n",
        "strs = strs.split(\", \")\n",
        "reversed_strs = [i[::-1] for i in strs]\n",
        "reversed_strs"
      ],
      "execution_count": 1,
      "outputs": [
        {
          "name": "stdout",
          "output_type": "stream",
          "text": [
            "Enter your strings as comma seperatedfenerbahçe,spor,kulübü\n"
          ]
        },
        {
          "output_type": "execute_result",
          "data": {
            "text/plain": [
              "['übüluk,rops,eçhabrenef']"
            ]
          },
          "metadata": {},
          "execution_count": 1
        }
      ]
    },
    {
      "cell_type": "code",
      "metadata": {
        "id": "I5i29qAAAFY4",
        "outputId": "ba34fad0-4903-48d4-d7da-d3446a93bd19",
        "colab": {
          "base_uri": "https://localhost:8080/"
        }
      },
      "source": [
        "# 371 = 3^3 + 7^3 + 1^3 -> armstrong sayisidir\n",
        "\n",
        "number = input(\"Enter your number\") \n",
        "if number.isdigit() and int(number) > 0:\n",
        "    length = len(number)\n",
        "    sum = 0\n",
        "    for integer in number:\n",
        "        integer = int(integer)\n",
        "        sum += integer ** length\n",
        "    if int(number) == sum:\n",
        "        print(\"This is an armstrong number\")\n",
        "    else:\n",
        "        print(\"This is not an armstrong number\")\n",
        "else:\n",
        "    print(\"Please enter a valid number\")\n"
      ],
      "execution_count": 2,
      "outputs": [
        {
          "output_type": "stream",
          "name": "stdout",
          "text": [
            "Enter your number371\n",
            "This is an armstrong number\n"
          ]
        }
      ]
    },
    {
      "cell_type": "code",
      "metadata": {
        "id": "TSsV5FuNAFY5",
        "outputId": "9958af53-6307-46aa-a53b-12059eed086c"
      },
      "source": [
        "while(True):\n",
        "    number = input(\"Enter your number\") \n",
        "    if number.isdigit() and int(number) > 0:\n",
        "        length = len(number)\n",
        "        sum = 0\n",
        "        for integer in number:\n",
        "            integer = int(integer)\n",
        "            sum += integer ** length\n",
        "        if int(number) == sum:\n",
        "            print(\"This is an armstrong number\")  \n",
        "        else:\n",
        "            print(\"This is not an armstrong number\")\n",
        "        break\n",
        "    else:\n",
        "        print(\"Please enter a valid number\")"
      ],
      "execution_count": null,
      "outputs": [
        {
          "name": "stdout",
          "output_type": "stream",
          "text": [
            "Please enter a valid number\n",
            "Please enter a valid number\n",
            "This is not an armstrong number\n",
            "This is an armstrong number\n"
          ]
        }
      ]
    },
    {
      "cell_type": "code",
      "metadata": {
        "colab": {
          "base_uri": "https://localhost:8080/"
        },
        "id": "AzDj68sRAFY5",
        "outputId": "486a2305-5ec2-4951-c97e-3e747e14ad35"
      },
      "source": [
        "strs = \"latin\"\n",
        "strs =  list(strs)\n",
        "print(strs)\n",
        "\n",
        "cont = strs[::-1]\n",
        "\n",
        "print(cont)"
      ],
      "execution_count": null,
      "outputs": [
        {
          "output_type": "stream",
          "name": "stdout",
          "text": [
            "['l', 'a', 't', 'i', 'n']\n",
            "['n', 'i', 't', 'a', 'l']\n"
          ]
        }
      ]
    },
    {
      "cell_type": "code",
      "metadata": {
        "colab": {
          "base_uri": "https://localhost:8080/"
        },
        "id": "ImwQ2j60Hwab",
        "outputId": "18a11da5-43c2-48ad-fafa-bc3ed993ab43"
      },
      "source": [
        "txt = \"Company12\"\n",
        "x = txt.isalnum()\n",
        "print(x)"
      ],
      "execution_count": 3,
      "outputs": [
        {
          "output_type": "stream",
          "name": "stdout",
          "text": [
            "True\n"
          ]
        }
      ]
    },
    {
      "cell_type": "code",
      "metadata": {
        "colab": {
          "base_uri": "https://localhost:8080/"
        },
        "id": "PTi798AZHwd2",
        "outputId": "526d70e4-4e87-4f47-9513-07b249280f36"
      },
      "source": [
        "txt = \"Company12}\"\n",
        "\n",
        "duz1 = txt.isalnum()\n",
        "\n",
        "print(duz1)"
      ],
      "execution_count": 5,
      "outputs": [
        {
          "output_type": "stream",
          "name": "stdout",
          "text": [
            "False\n"
          ]
        }
      ]
    }
  ]
}
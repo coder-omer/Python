{
  "nbformat": 4,
  "nbformat_minor": 0,
  "metadata": {
    "colab": {
      "name": "Untitled25.ipynb",
      "provenance": [],
      "authorship_tag": "ABX9TyM0aRNfKZ3vO6XzQAdYu/tw",
      "include_colab_link": true
    },
    "kernelspec": {
      "name": "python3",
      "display_name": "Python 3"
    },
    "language_info": {
      "name": "python"
    }
  },
  "cells": [
    {
      "cell_type": "markdown",
      "metadata": {
        "id": "view-in-github",
        "colab_type": "text"
      },
      "source": [
        "<a href=\"https://colab.research.google.com/github/coder-omer/Python/blob/main/Untitled25.ipynb\" target=\"_parent\"><img src=\"https://colab.research.google.com/assets/colab-badge.svg\" alt=\"Open In Colab\"/></a>"
      ]
    },
    {
      "cell_type": "code",
      "metadata": {
        "colab": {
          "base_uri": "https://localhost:8080/"
        },
        "id": "1_dii0SmtCp3",
        "outputId": "920d168b-c8a2-4178-d0a9-28bfa678c6d8"
      },
      "source": [
        "def get_initial(name):\n",
        "  initial =  name[0:1].upper()\n",
        "  return initial\n",
        "\n",
        "first_name = input('Enter your first name: ')\n",
        "first_name_initial = get_initial(first_name)\n",
        "\n",
        "print('your initial is: ' + first_name_initial)"
      ],
      "execution_count": null,
      "outputs": [
        {
          "output_type": "stream",
          "name": "stdout",
          "text": [
            "Enter your first name: omer\n",
            "your initial is: O\n"
          ]
        }
      ]
    },
    {
      "cell_type": "code",
      "metadata": {
        "colab": {
          "base_uri": "https://localhost:8080/"
        },
        "id": "-67cx2Uetxy2",
        "outputId": "cbe79ebe-fc06-4fc4-ad30-cfdc2d78bb53"
      },
      "source": [
        "def get_initial(name, force_uppercase):\n",
        "  if force_uppercase:\n",
        "    initial = name[0:1].upper()\n",
        "  else:\n",
        "    initial =name[0:1]\n",
        "  return initial\n",
        "\n",
        "first_name = input('Enter your first name: ')\n",
        "first_name_initial = get_initial(first_name, True)\n",
        "\n",
        "print('your initial is: ' + first_name_initial)"
      ],
      "execution_count": null,
      "outputs": [
        {
          "output_type": "stream",
          "name": "stdout",
          "text": [
            "Enter your first name: ali\n",
            "your initial is: A\n"
          ]
        }
      ]
    },
    {
      "cell_type": "code",
      "metadata": {
        "colab": {
          "base_uri": "https://localhost:8080/"
        },
        "id": "5oqAkzIxuQHe",
        "outputId": "028b04bc-8a56-436f-ecd5-67c65e3135b6"
      },
      "source": [
        "def get_initial(name, force_uppercase=True):\n",
        "  if force_uppercase:\n",
        "    initial = name[0:1].upper()\n",
        "  else:\n",
        "    initial =name[0:1]\n",
        "  return initial\n",
        "\n",
        "first_name = input('Enter your first name: ')\n",
        "first_name_initial = get_initial(first_name)\n",
        "\n",
        "print('your initial is: ' + first_name_initial)"
      ],
      "execution_count": null,
      "outputs": [
        {
          "output_type": "stream",
          "name": "stdout",
          "text": [
            "Enter your first name: adam\n",
            "your initial is: A\n"
          ]
        }
      ]
    },
    {
      "cell_type": "code",
      "metadata": {
        "colab": {
          "base_uri": "https://localhost:8080/"
        },
        "id": "5rTAuO_gtxwo",
        "outputId": "c4cd47b5-a8c1-487e-addd-488168de9f0e"
      },
      "source": [
        "def get_initial(name, force_uppercase=True):\n",
        "  if force_uppercase:\n",
        "    initial = name[0:1].upper()\n",
        "  else:\n",
        "    initial =name[0:1]\n",
        "  return initial\n",
        "\n",
        "first_name = input('Enter your first name: ')\n",
        "first_name_initial = get_initial(first_name, False)\n",
        "\n",
        "print('your initial is: ' + first_name_initial)"
      ],
      "execution_count": null,
      "outputs": [
        {
          "output_type": "stream",
          "name": "stdout",
          "text": [
            "Enter your first name: adam\n",
            "your initial is: a\n"
          ]
        }
      ]
    },
    {
      "cell_type": "code",
      "metadata": {
        "colab": {
          "base_uri": "https://localhost:8080/"
        },
        "id": "HlWotDTFtxti",
        "outputId": "0750d149-5590-467d-da4b-a8b9b0d7f5fb"
      },
      "source": [
        "my_var = 'outer variable'\n",
        "\n",
        "def func_var(): \n",
        "\tmy_var= 'inner variable'\n",
        "\tprint(my_var) \n",
        "\n",
        "func_var() \n",
        "print(my_var)"
      ],
      "execution_count": null,
      "outputs": [
        {
          "output_type": "stream",
          "name": "stdout",
          "text": [
            "inner variable\n",
            "outer variable\n"
          ]
        }
      ]
    },
    {
      "cell_type": "code",
      "metadata": {
        "colab": {
          "base_uri": "https://localhost:8080/"
        },
        "id": "gFrjrGB7txqj",
        "outputId": "b9fd4c10-bec6-4c3d-f27c-4daa07711781"
      },
      "source": [
        "text = \"I am the global one\"\n",
        " \n",
        "def global_func():\n",
        "    print(text)  # we can use 'text' in a function\n",
        "                 # because it's a global variable\n",
        "\n",
        "global_func()  # 'I am the global one' will be printed\n",
        "print(text)  # it can also be printed outside of the function\n",
        " \n",
        "text = \"The globals are valid everywhere \"\n",
        " \n",
        "global_func()  # we changed the value of 'text'\n",
        "# 'The globals are valid everywhere' will be printed\n",
        " \n",
        "def local_func():\n",
        "    local_text = \"I am the local one\"\n",
        "    print(local_text)  # local_text is a local variable\n",
        "\n",
        "local_func()  # 'I am the local one' will be printed as expected\n",
        " "
      ],
      "execution_count": null,
      "outputs": [
        {
          "output_type": "stream",
          "name": "stdout",
          "text": [
            "I am the global one\n",
            "I am the global one\n",
            "The globals are valid everywhere \n",
            "I am the local one\n"
          ]
        }
      ]
    },
    {
      "cell_type": "code",
      "metadata": {
        "colab": {
          "base_uri": "https://localhost:8080/"
        },
        "id": "vVJdypD5txoD",
        "outputId": "cce9479f-b6b6-48ac-cfb9-5702e73a93ae"
      },
      "source": [
        "count = 1\n",
        "\n",
        "def print_global():\n",
        "    print(count)\n",
        " \n",
        "print_global()\n",
        " \n",
        "def counter():\n",
        "    global count\n",
        "    print(count)\n",
        "    count += 1  # we're trying to change its value\n",
        " \n",
        "print()  # just empty line\n",
        "counter()\n",
        "counter()\n",
        "counter()"
      ],
      "execution_count": null,
      "outputs": [
        {
          "output_type": "stream",
          "name": "stdout",
          "text": [
            "1\n",
            "\n",
            "1\n",
            "2\n",
            "3\n"
          ]
        }
      ]
    },
    {
      "cell_type": "code",
      "metadata": {
        "colab": {
          "base_uri": "https://localhost:8080/"
        },
        "id": "MZo6UB6dtxlR",
        "outputId": "48de0e73-3e4d-4c00-8daa-b4e25b4e7cdb"
      },
      "source": [
        "def func_enclosing1():\n",
        "    x = 'outer variable'\n",
        "    def func_enclosing2():\n",
        "        x = 'inner variable'\n",
        "        print(\"inner:\", x)\n",
        "    func_enclosing2()\n",
        "    print(\"outer:\", x)\n",
        "\n",
        "func_enclosing1() "
      ],
      "execution_count": null,
      "outputs": [
        {
          "output_type": "stream",
          "name": "stdout",
          "text": [
            "inner: inner variable\n",
            "outer: outer variable\n"
          ]
        }
      ]
    },
    {
      "cell_type": "code",
      "metadata": {
        "colab": {
          "base_uri": "https://localhost:8080/"
        },
        "id": "BqNzpuPKtxik",
        "outputId": "24f2c1e4-c6e9-4c18-faf2-b40b0136dd4a"
      },
      "source": [
        "def enclosing_func1():\n",
        "    x = 'outer variable'\n",
        "    def enclosing_func2():\n",
        "        nonlocal x  # its inner-value can be used in the outer scope\n",
        "        x = 'inner variable'\n",
        "        print(\"inner:\", x)\n",
        "    enclosing_func2()\n",
        "    print(\"outer:\", x)\n",
        "\n",
        "enclosing_func1() "
      ],
      "execution_count": null,
      "outputs": [
        {
          "output_type": "stream",
          "name": "stdout",
          "text": [
            "inner: inner variable\n",
            "outer: inner variable\n"
          ]
        }
      ]
    },
    {
      "cell_type": "code",
      "metadata": {
        "colab": {
          "base_uri": "https://localhost:8080/"
        },
        "id": "SNRCJNPAtxfz",
        "outputId": "da802d17-4f4d-4ecf-b917-71f39a5c6ee5"
      },
      "source": [
        "x = 10\n",
        "  \n",
        "def my_function(): \n",
        "    global x\n",
        "    x += 5 \n",
        "    print(x) \n",
        "\n",
        "my_function()"
      ],
      "execution_count": null,
      "outputs": [
        {
          "output_type": "stream",
          "name": "stdout",
          "text": [
            "15\n"
          ]
        }
      ]
    },
    {
      "cell_type": "code",
      "metadata": {
        "colab": {
          "base_uri": "https://localhost:8080/"
        },
        "id": "3goEhAwLtxc0",
        "outputId": "2cd01b38-ba9b-423b-d754-0cc462074c77"
      },
      "source": [
        "count = 1\n",
        "\n",
        "def counter():\n",
        "    print(count)  \n",
        "\n",
        "counter()"
      ],
      "execution_count": null,
      "outputs": [
        {
          "output_type": "stream",
          "name": "stdout",
          "text": [
            "1\n"
          ]
        }
      ]
    }
  ]
}
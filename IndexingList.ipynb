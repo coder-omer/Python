{
  "nbformat": 4,
  "nbformat_minor": 0,
  "metadata": {
    "colab": {
      "name": "IndexingList.ipynb",
      "provenance": [],
      "authorship_tag": "ABX9TyPbsd95JSGm5k1pMkWMsqmm",
      "include_colab_link": true
    },
    "kernelspec": {
      "name": "python3",
      "display_name": "Python 3"
    },
    "language_info": {
      "name": "python"
    }
  },
  "cells": [
    {
      "cell_type": "markdown",
      "metadata": {
        "id": "view-in-github",
        "colab_type": "text"
      },
      "source": [
        "<a href=\"https://colab.research.google.com/github/coder-omer/Python/blob/main/IndexingList.ipynb\" target=\"_parent\"><img src=\"https://colab.research.google.com/assets/colab-badge.svg\" alt=\"Open In Colab\"/></a>"
      ]
    },
    {
      "cell_type": "code",
      "metadata": {
        "colab": {
          "base_uri": "https://localhost:8080/"
        },
        "id": "qI6JCPv7eAU_",
        "outputId": "0d2ed909-ba2c-42b6-f446-3d2de88a553e"
      },
      "source": [
        "colors = ['red', 'purple', 'blue', 'yellow', 'green']\n",
        "print(colors[2])  # If we start at zero, \n",
        "# the second element will be 'blue'."
      ],
      "execution_count": null,
      "outputs": [
        {
          "output_type": "stream",
          "name": "stdout",
          "text": [
            "blue\n"
          ]
        }
      ]
    },
    {
      "cell_type": "code",
      "metadata": {
        "colab": {
          "base_uri": "https://localhost:8080/"
        },
        "id": "9R25UyZOeBJd",
        "outputId": "4eeff67f-8c5a-486f-83e5-f99b240a438e"
      },
      "source": [
        "city = ['New York', 'London', 'Istanbul', 'Seoul', 'Sydney']\n",
        "\n",
        "city_list = []\n",
        "city_list.append(city) # we have created a nested list\n",
        "\n",
        "print(city_list)"
      ],
      "execution_count": null,
      "outputs": [
        {
          "output_type": "stream",
          "name": "stdout",
          "text": [
            "[['New York', 'London', 'Istanbul', 'Seoul', 'Sydney']]\n"
          ]
        }
      ]
    },
    {
      "cell_type": "code",
      "metadata": {
        "colab": {
          "base_uri": "https://localhost:8080/"
        },
        "id": "uNcbld_HeBWx",
        "outputId": "12f3aae7-0251-46c2-886d-b353e37e968a"
      },
      "source": [
        "city_list = [['New York', 'London', 'Istanbul', 'Seoul', 'Sydney']]\n",
        "print(city_list[0]) # access to first and only element"
      ],
      "execution_count": null,
      "outputs": [
        {
          "output_type": "stream",
          "name": "stdout",
          "text": [
            "['New York', 'London', 'Istanbul', 'Seoul', 'Sydney']\n"
          ]
        }
      ]
    },
    {
      "cell_type": "code",
      "metadata": {
        "colab": {
          "base_uri": "https://localhost:8080/"
        },
        "id": "q4eujzTqeBZW",
        "outputId": "161b2303-cc15-4f35-d5c2-8f8b8018c218"
      },
      "source": [
        "city_list = [['New York', 'London', 'Istanbul', 'Seoul', 'Sydney']]\n",
        "print(city_list[0][2])"
      ],
      "execution_count": null,
      "outputs": [
        {
          "output_type": "stream",
          "name": "stdout",
          "text": [
            "Istanbul\n"
          ]
        }
      ]
    },
    {
      "cell_type": "code",
      "metadata": {
        "colab": {
          "base_uri": "https://localhost:8080/"
        },
        "id": "6KQMrxuReBcC",
        "outputId": "9df90d64-8aa8-412a-b930-fec1abdd90d9"
      },
      "source": [
        "city_list = [['New York', 'London', 'Istanbul', 'Seoul', 'Sydney']]\n",
        "print(city_list[0][2][3])"
      ],
      "execution_count": null,
      "outputs": [
        {
          "output_type": "stream",
          "name": "stdout",
          "text": [
            "a\n"
          ]
        }
      ]
    },
    {
      "cell_type": "code",
      "metadata": {
        "colab": {
          "base_uri": "https://localhost:8080/"
        },
        "id": "ZweYy0yoeBey",
        "outputId": "564ca48c-9a54-4c18-851c-6642922096b8"
      },
      "source": [
        "odd_numbers = [[11, 13, 15], 17, 19, 21, 23, 25, 27, 29]\n",
        "\n",
        "print(odd_numbers[6])"
      ],
      "execution_count": null,
      "outputs": [
        {
          "output_type": "stream",
          "name": "stdout",
          "text": [
            "27\n"
          ]
        }
      ]
    },
    {
      "cell_type": "code",
      "metadata": {
        "colab": {
          "base_uri": "https://localhost:8080/"
        },
        "id": "ryfdejvLeBhS",
        "outputId": "72c65467-99f8-4ae8-ac26-2874f79ca4e6"
      },
      "source": [
        "fruits = ['apple', 'banana', 'watermelon', 'orange', 'mango', 'avocado']\n",
        "\n",
        "fruit_list = []\n",
        "fruit_list.insert(0, fruits)\n",
        "print(fruit_list[0][2][7])"
      ],
      "execution_count": null,
      "outputs": [
        {
          "output_type": "stream",
          "name": "stdout",
          "text": [
            "l\n"
          ]
        }
      ]
    },
    {
      "cell_type": "code",
      "metadata": {
        "colab": {
          "base_uri": "https://localhost:8080/"
        },
        "id": "XxF_gdOveBkC",
        "outputId": "72aa84d5-8ef7-4ee8-a521-b43d713690e5"
      },
      "source": [
        "numbers = [1, 3, 5, 7, 9, 11, 13, 15, 17]\n",
        "print(numbers[2:5])  # we get the elements from index=2 to index=5(5 is not included)"
      ],
      "execution_count": null,
      "outputs": [
        {
          "output_type": "stream",
          "name": "stdout",
          "text": [
            "[5, 7, 9]\n"
          ]
        }
      ]
    },
    {
      "cell_type": "code",
      "metadata": {
        "id": "jv5clUJDeBmg",
        "colab": {
          "base_uri": "https://localhost:8080/"
        },
        "outputId": "12eee5e1-4af6-4cff-85bb-c5c1801f3391"
      },
      "source": [
        "numbers = {}\n",
        "\n",
        "numbers['x'] = 12\n",
        "numbers['y'] = 4\n",
        "numbers.update({'z': 3})\n",
        "\n",
        "print(numbers['x'] + numbers['y'] + numbers['z']**2)"
      ],
      "execution_count": null,
      "outputs": [
        {
          "output_type": "stream",
          "name": "stdout",
          "text": [
            "25\n"
          ]
        }
      ]
    },
    {
      "cell_type": "code",
      "metadata": {
        "id": "8QPEJ0RxeBpD",
        "colab": {
          "base_uri": "https://localhost:8080/"
        },
        "outputId": "a6bb7950-0b1b-4626-ae81-be10db21958d"
      },
      "source": [
        "letters = ['a', 'b', 'c', 'd', 'f']\n",
        "letters.insert(4, 'e')\n",
        "print(letters)"
      ],
      "execution_count": null,
      "outputs": [
        {
          "output_type": "stream",
          "name": "stdout",
          "text": [
            "['a', 'b', 'c', 'd', 'e', 'f']\n"
          ]
        }
      ]
    },
    {
      "cell_type": "code",
      "metadata": {
        "id": "eZePSFq6eBr9",
        "colab": {
          "base_uri": "https://localhost:8080/"
        },
        "outputId": "a11541e1-4ebb-4162-d81b-93b43237d661"
      },
      "source": [
        "numbers_10 = [10, 30, 40, 50, 60, 70, 80, 90, 100]\n",
        "numbers_10.insert(1,20)\n",
        "print(numbers_10)"
      ],
      "execution_count": null,
      "outputs": [
        {
          "output_type": "stream",
          "name": "stdout",
          "text": [
            "[10, 20, 30, 40, 50, 60, 70, 80, 90, 100]\n"
          ]
        }
      ]
    },
    {
      "cell_type": "code",
      "metadata": {
        "id": "ulBKrp4EeBuj",
        "colab": {
          "base_uri": "https://localhost:8080/"
        },
        "outputId": "c14f5c58-050f-40bb-b9a8-0c410c3621f2"
      },
      "source": [
        "fruits_vegetables = [\"fruit\", \"vegetable\", [\"apple\", \"banana\", [\"mango\", \"avocado\"]], [\"spinach\", \"broccoli\"]]\n",
        "print(fruits_vegetables[3][0])"
      ],
      "execution_count": null,
      "outputs": [
        {
          "output_type": "stream",
          "name": "stdout",
          "text": [
            "spinach\n"
          ]
        }
      ]
    },
    {
      "cell_type": "code",
      "metadata": {
        "id": "j4uSwQSveBxT",
        "colab": {
          "base_uri": "https://localhost:8080/"
        },
        "outputId": "be060ee9-05b5-4017-9eca-6f1256197ac1"
      },
      "source": [
        "family_members = ('Meghan', 'Tom', 'Nicole', 'Tim')\n",
        "print(family_members)\n",
        "print(type(family_members))\n"
      ],
      "execution_count": null,
      "outputs": [
        {
          "output_type": "stream",
          "name": "stdout",
          "text": [
            "('Meghan', 'Tom', 'Nicole', 'Tim')\n",
            "<class 'tuple'>\n"
          ]
        }
      ]
    }
  ]
}
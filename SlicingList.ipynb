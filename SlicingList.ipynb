{
  "nbformat": 4,
  "nbformat_minor": 0,
  "metadata": {
    "colab": {
      "name": "SlicingList.ipynb",
      "provenance": [],
      "authorship_tag": "ABX9TyOqjBZqHzIQZ7bKhTiCPbRf",
      "include_colab_link": true
    },
    "kernelspec": {
      "name": "python3",
      "display_name": "Python 3"
    },
    "language_info": {
      "name": "python"
    }
  },
  "cells": [
    {
      "cell_type": "markdown",
      "metadata": {
        "id": "view-in-github",
        "colab_type": "text"
      },
      "source": [
        "<a href=\"https://colab.research.google.com/github/coder-omer/Python/blob/main/SlicingList.ipynb\" target=\"_parent\"><img src=\"https://colab.research.google.com/assets/colab-badge.svg\" alt=\"Open In Colab\"/></a>"
      ]
    },
    {
      "cell_type": "code",
      "metadata": {
        "colab": {
          "base_uri": "https://localhost:8080/"
        },
        "id": "lw5fapBZiHUy",
        "outputId": "5ddc6c0f-fcba-41e0-f42d-668c0dd98c2a"
      },
      "source": [
        "count = list(range(11))\n",
        "print(count)\n",
        "\n",
        "print(count[0:11:2])"
      ],
      "execution_count": null,
      "outputs": [
        {
          "output_type": "stream",
          "name": "stdout",
          "text": [
            "[0, 1, 2, 3, 4, 5, 6, 7, 8, 9, 10]\n",
            "[0, 2, 4, 6, 8, 10]\n"
          ]
        }
      ]
    },
    {
      "cell_type": "code",
      "metadata": {
        "colab": {
          "base_uri": "https://localhost:8080/"
        },
        "id": "nPbx8fKriKID",
        "outputId": "63488209-7df7-42f8-91a8-b1dd870a5282"
      },
      "source": [
        "count = list(range(8))\n",
        "print(count)\n",
        "\n",
        "print(count[1:8:2])"
      ],
      "execution_count": null,
      "outputs": [
        {
          "output_type": "stream",
          "name": "stdout",
          "text": [
            "[0, 1, 2, 3, 4, 5, 6, 7]\n",
            "[1, 3, 5, 7]\n"
          ]
        }
      ]
    },
    {
      "cell_type": "code",
      "metadata": {
        "colab": {
          "base_uri": "https://localhost:8080/"
        },
        "id": "bTJMNKqniKLB",
        "outputId": "38fde3fc-25e3-40d6-a1ef-b28ffe0a3ee9"
      },
      "source": [
        "animals = ['elephant', 'bear', 'fox', 'wolf', 'rabbit', 'deer', 'giraffe']\n",
        "\n",
        "print(animals[:])  # all elements of the list"
      ],
      "execution_count": null,
      "outputs": [
        {
          "output_type": "stream",
          "name": "stdout",
          "text": [
            "['elephant', 'bear', 'fox', 'wolf', 'rabbit', 'deer', 'giraffe']\n"
          ]
        }
      ]
    },
    {
      "cell_type": "code",
      "metadata": {
        "colab": {
          "base_uri": "https://localhost:8080/"
        },
        "id": "sPQCWvwAiKNV",
        "outputId": "5d0e7ea9-c157-49f1-e3f8-0af7fac54c18"
      },
      "source": [
        "print(animals[0:])"
      ],
      "execution_count": null,
      "outputs": [
        {
          "output_type": "stream",
          "name": "stdout",
          "text": [
            "['elephant', 'bear', 'fox', 'wolf', 'rabbit', 'deer', 'giraffe']\n"
          ]
        }
      ]
    },
    {
      "cell_type": "code",
      "metadata": {
        "colab": {
          "base_uri": "https://localhost:8080/"
        },
        "id": "Kn2PalsliKP3",
        "outputId": "71979983-daa1-4fbc-a496-942759ded7ad"
      },
      "source": [
        "print(animals[:4])"
      ],
      "execution_count": null,
      "outputs": [
        {
          "output_type": "stream",
          "name": "stdout",
          "text": [
            "['elephant', 'bear', 'fox', 'wolf']\n"
          ]
        }
      ]
    },
    {
      "cell_type": "code",
      "metadata": {
        "colab": {
          "base_uri": "https://localhost:8080/"
        },
        "id": "RQbzyMMxiKST",
        "outputId": "a35be6f8-5e81-406c-b480-6e007e3185c6"
      },
      "source": [
        "print(animals[::2])"
      ],
      "execution_count": null,
      "outputs": [
        {
          "output_type": "stream",
          "name": "stdout",
          "text": [
            "['elephant', 'fox', 'rabbit', 'giraffe']\n"
          ]
        }
      ]
    },
    {
      "cell_type": "code",
      "metadata": {
        "colab": {
          "base_uri": "https://localhost:8080/"
        },
        "id": "oy79KHyXiKVD",
        "outputId": "a97ff434-cd49-434d-ca3f-ab8706bec663"
      },
      "source": [
        "print(animals[3:])"
      ],
      "execution_count": null,
      "outputs": [
        {
          "output_type": "stream",
          "name": "stdout",
          "text": [
            "['wolf', 'rabbit', 'deer', 'giraffe']\n"
          ]
        }
      ]
    },
    {
      "cell_type": "code",
      "metadata": {
        "colab": {
          "base_uri": "https://localhost:8080/"
        },
        "id": "fH7ZP5ztiKXU",
        "outputId": "d408f497-cf87-4772-8039-4589519c254f"
      },
      "source": [
        "print(animals[::2])"
      ],
      "execution_count": null,
      "outputs": [
        {
          "output_type": "stream",
          "name": "stdout",
          "text": [
            "['elephant', 'fox', 'rabbit', 'giraffe']\n"
          ]
        }
      ]
    },
    {
      "cell_type": "code",
      "metadata": {
        "colab": {
          "base_uri": "https://localhost:8080/"
        },
        "id": "R0gM1jsEiKZz",
        "outputId": "c00ccb3e-3829-4afc-b6fe-1bec4b5a7e66"
      },
      "source": [
        "even_numbers = [2, 4, 6, 8, 10, 12, 14, 16, 18, 20]\n",
        "\n",
        "print(even_numbers[4:9])"
      ],
      "execution_count": null,
      "outputs": [
        {
          "output_type": "stream",
          "name": "stdout",
          "text": [
            "[10, 12, 14, 16, 18]\n"
          ]
        }
      ]
    },
    {
      "cell_type": "code",
      "metadata": {
        "colab": {
          "base_uri": "https://localhost:8080/"
        },
        "id": "wSmHDaSZiKcm",
        "outputId": "0644b29d-ad5a-49bf-d816-10b2b8b0bf8b"
      },
      "source": [
        "print(len([[12, 34, 56]]))"
      ],
      "execution_count": null,
      "outputs": [
        {
          "output_type": "stream",
          "name": "stdout",
          "text": [
            "1\n"
          ]
        }
      ]
    },
    {
      "cell_type": "code",
      "metadata": {
        "colab": {
          "base_uri": "https://localhost:8080/"
        },
        "id": "bJO2v7B_iKfV",
        "outputId": "af3b4ea8-17dc-41c0-b8b8-3c6f896237b2"
      },
      "source": [
        "print(len([[2,4]]))"
      ],
      "execution_count": null,
      "outputs": [
        {
          "output_type": "stream",
          "name": "stdout",
          "text": [
            "1\n"
          ]
        }
      ]
    },
    {
      "cell_type": "code",
      "metadata": {
        "colab": {
          "base_uri": "https://localhost:8080/"
        },
        "id": "TvLamWHaiKiR",
        "outputId": "3702a8e5-7ca0-48f3-936b-d82c09f1b8a3"
      },
      "source": [
        "print(len([[12, 34, 56, 48]][0]))"
      ],
      "execution_count": null,
      "outputs": [
        {
          "output_type": "stream",
          "name": "stdout",
          "text": [
            "4\n"
          ]
        }
      ]
    },
    {
      "cell_type": "code",
      "metadata": {
        "colab": {
          "base_uri": "https://localhost:8080/"
        },
        "id": "GtziR5G5k_99",
        "outputId": "fa9f0a20-2604-45aa-8114-45ac6bb701ff"
      },
      "source": [
        "city = ['New York', 'London', 'Istanbul', 'Seoul', 'Sydney']\n",
        "print(city[-4])"
      ],
      "execution_count": null,
      "outputs": [
        {
          "output_type": "stream",
          "name": "stdout",
          "text": [
            "London\n"
          ]
        }
      ]
    },
    {
      "cell_type": "code",
      "metadata": {
        "colab": {
          "base_uri": "https://localhost:8080/"
        },
        "id": "DiqOotxtlAAt",
        "outputId": "f2560e64-ceb6-42c2-fc7f-bb5da2739040"
      },
      "source": [
        "reef = ['swordfish', 'shark', 'whale', 'jellyfish', 'lobster', 'squid', 'octopus']\n",
        "print(reef[-3:])"
      ],
      "execution_count": null,
      "outputs": [
        {
          "output_type": "stream",
          "name": "stdout",
          "text": [
            "['lobster', 'squid', 'octopus']\n"
          ]
        }
      ]
    },
    {
      "cell_type": "code",
      "metadata": {
        "colab": {
          "base_uri": "https://localhost:8080/"
        },
        "id": "3SH0bh7XlADO",
        "outputId": "79d0c8aa-20d4-444b-def8-1ba9a45a0613"
      },
      "source": [
        "reef = ['swordfish', 'shark', 'whale', 'jellyfish', 'lobster', 'squid', 'octopus']\n",
        "print(reef[:-3])"
      ],
      "execution_count": null,
      "outputs": [
        {
          "output_type": "stream",
          "name": "stdout",
          "text": [
            "['swordfish', 'shark', 'whale', 'jellyfish']\n"
          ]
        }
      ]
    },
    {
      "cell_type": "code",
      "metadata": {
        "colab": {
          "base_uri": "https://localhost:8080/"
        },
        "id": "V9OrSyEnlAF1",
        "outputId": "1788c559-e5da-447b-c6d9-f3575f30db4b"
      },
      "source": [
        "reef = ['swordfish', 'shark', 'whale', 'jellyfish', 'lobster', 'squid', 'octopus']\n",
        "print(reef[::-1])  # we have produced the reverse of the list"
      ],
      "execution_count": null,
      "outputs": [
        {
          "output_type": "stream",
          "name": "stdout",
          "text": [
            "['octopus', 'squid', 'lobster', 'jellyfish', 'whale', 'shark', 'swordfish']\n"
          ]
        }
      ]
    },
    {
      "cell_type": "code",
      "metadata": {
        "colab": {
          "base_uri": "https://localhost:8080/"
        },
        "id": "acRb6XvGlAIp",
        "outputId": "a48fbf7e-ee58-4675-913b-b6e3da076840"
      },
      "source": [
        "reef = ['swordfish', 'shark', 'whale', 'jellyfish', 'lobster', 'squid', 'octopus']\n",
        "print(reef[::-2])"
      ],
      "execution_count": null,
      "outputs": [
        {
          "output_type": "stream",
          "name": "stdout",
          "text": [
            "['octopus', 'lobster', 'whale', 'swordfish']\n"
          ]
        }
      ]
    },
    {
      "cell_type": "code",
      "metadata": {
        "colab": {
          "base_uri": "https://localhost:8080/"
        },
        "id": "C86oe8yglAKy",
        "outputId": "c6fe73fa-916b-4e16-9d2a-072d01e147c4"
      },
      "source": [
        "odd_no = [1, 2, 3, 4, 5, 6, 7, 8, 9, 10]\n",
        "\n",
        "print(odd_no[7:3:-1])\n",
        "print(odd_no[2:6:-1])"
      ],
      "execution_count": null,
      "outputs": [
        {
          "output_type": "stream",
          "name": "stdout",
          "text": [
            "[8, 7, 6, 5]\n",
            "[]\n"
          ]
        }
      ]
    },
    {
      "cell_type": "code",
      "metadata": {
        "colab": {
          "base_uri": "https://localhost:8080/",
          "height": 129
        },
        "id": "WNvyog2XlANv",
        "outputId": "008b3d56-e53d-439b-a097-25eb16cc17bd"
      },
      "source": [
        "count = list(range(11))\n",
        "count.sort(::-1)\n",
        "print(count)\n"
      ],
      "execution_count": null,
      "outputs": [
        {
          "output_type": "error",
          "ename": "SyntaxError",
          "evalue": "ignored",
          "traceback": [
            "\u001b[0;36m  File \u001b[0;32m\"<ipython-input-39-820299057263>\"\u001b[0;36m, line \u001b[0;32m2\u001b[0m\n\u001b[0;31m    count.sort(::-1)\u001b[0m\n\u001b[0m               ^\u001b[0m\n\u001b[0;31mSyntaxError\u001b[0m\u001b[0;31m:\u001b[0m invalid syntax\n"
          ]
        }
      ]
    },
    {
      "cell_type": "code",
      "metadata": {
        "colab": {
          "base_uri": "https://localhost:8080/",
          "height": 231
        },
        "id": "A-ZHLamJiKlE",
        "outputId": "01092b95-23f5-48a1-f78f-7a71f4e00bc0"
      },
      "source": [
        "flowers = [[\"jasmine\", [\"lavender\", \"rose\"], \"tulip\"]]\n",
        "colors = [\"red\", (\"blue\", [\"yellow\", \"green\"]), \"pink\"]\n",
        "text = \"My two favorite flowers are {} and {}, two favorite colors are {} and {}\".format(flowers[0][1])\n",
        "print(text)"
      ],
      "execution_count": null,
      "outputs": [
        {
          "output_type": "error",
          "ename": "IndexError",
          "evalue": "ignored",
          "traceback": [
            "\u001b[0;31m---------------------------------------------------------------------------\u001b[0m",
            "\u001b[0;31mIndexError\u001b[0m                                Traceback (most recent call last)",
            "\u001b[0;32m<ipython-input-53-e25a025d3f5a>\u001b[0m in \u001b[0;36m<module>\u001b[0;34m()\u001b[0m\n\u001b[1;32m      1\u001b[0m \u001b[0mflowers\u001b[0m \u001b[0;34m=\u001b[0m \u001b[0;34m[\u001b[0m\u001b[0;34m[\u001b[0m\u001b[0;34m\"jasmine\"\u001b[0m\u001b[0;34m,\u001b[0m \u001b[0;34m[\u001b[0m\u001b[0;34m\"lavender\"\u001b[0m\u001b[0;34m,\u001b[0m \u001b[0;34m\"rose\"\u001b[0m\u001b[0;34m]\u001b[0m\u001b[0;34m,\u001b[0m \u001b[0;34m\"tulip\"\u001b[0m\u001b[0;34m]\u001b[0m\u001b[0;34m]\u001b[0m\u001b[0;34m\u001b[0m\u001b[0;34m\u001b[0m\u001b[0m\n\u001b[1;32m      2\u001b[0m \u001b[0mcolors\u001b[0m \u001b[0;34m=\u001b[0m \u001b[0;34m[\u001b[0m\u001b[0;34m\"red\"\u001b[0m\u001b[0;34m,\u001b[0m \u001b[0;34m(\u001b[0m\u001b[0;34m\"blue\"\u001b[0m\u001b[0;34m,\u001b[0m \u001b[0;34m[\u001b[0m\u001b[0;34m\"yellow\"\u001b[0m\u001b[0;34m,\u001b[0m \u001b[0;34m\"green\"\u001b[0m\u001b[0;34m]\u001b[0m\u001b[0;34m)\u001b[0m\u001b[0;34m,\u001b[0m \u001b[0;34m\"pink\"\u001b[0m\u001b[0;34m]\u001b[0m\u001b[0;34m\u001b[0m\u001b[0;34m\u001b[0m\u001b[0m\n\u001b[0;32m----> 3\u001b[0;31m \u001b[0mtext\u001b[0m \u001b[0;34m=\u001b[0m \u001b[0;34m\"My two favorite flowers are {} and {}, two favorite colors are {} and {}\"\u001b[0m\u001b[0;34m.\u001b[0m\u001b[0mformat\u001b[0m\u001b[0;34m(\u001b[0m\u001b[0mflowers\u001b[0m\u001b[0;34m[\u001b[0m\u001b[0;36m0\u001b[0m\u001b[0;34m]\u001b[0m\u001b[0;34m[\u001b[0m\u001b[0;36m1\u001b[0m\u001b[0;34m]\u001b[0m\u001b[0;34m)\u001b[0m\u001b[0;34m\u001b[0m\u001b[0;34m\u001b[0m\u001b[0m\n\u001b[0m\u001b[1;32m      4\u001b[0m \u001b[0mprint\u001b[0m\u001b[0;34m(\u001b[0m\u001b[0mtext\u001b[0m\u001b[0;34m)\u001b[0m\u001b[0;34m\u001b[0m\u001b[0;34m\u001b[0m\u001b[0m\n",
            "\u001b[0;31mIndexError\u001b[0m: tuple index out of range"
          ]
        }
      ]
    },
    {
      "cell_type": "code",
      "metadata": {
        "colab": {
          "base_uri": "https://localhost:8080/"
        },
        "id": "roObeAp8iKnx",
        "outputId": "cb7a4bb8-1363-49d6-d159-eaeba54e2c1a"
      },
      "source": [
        "flowers = [[\"jasmine\", [\"lavender\", \"rose\"], \"tulip\"]]\n",
        "print(flowers[0][2])\n",
        "print(flowers[0][1][1])"
      ],
      "execution_count": null,
      "outputs": [
        {
          "output_type": "stream",
          "name": "stdout",
          "text": [
            "tulip\n",
            "rose\n"
          ]
        }
      ]
    },
    {
      "cell_type": "code",
      "metadata": {
        "colab": {
          "base_uri": "https://localhost:8080/"
        },
        "id": "iAruXj7b9vKq",
        "outputId": "002602fe-e584-448f-cb14-8f13cd3d4baa"
      },
      "source": [
        "colors = [\"red\", (\"blue\", [\"yellow\", \"green\"]), \"pink\"]\n",
        "print(colors[1][0])\n",
        "print(colors[1][1][1])"
      ],
      "execution_count": null,
      "outputs": [
        {
          "output_type": "stream",
          "name": "stdout",
          "text": [
            "blue\n",
            "green\n"
          ]
        }
      ]
    },
    {
      "cell_type": "code",
      "metadata": {
        "colab": {
          "base_uri": "https://localhost:8080/"
        },
        "id": "HPVmMkqY9_hm",
        "outputId": "362d4cc4-f275-4e48-9cda-d3d4e0aa6741"
      },
      "source": [
        "flowers = [[\"jasmine\", [\"lavender\", \"rose\"], \"tulip\"]]\n",
        "colors = [\"red\", (\"blue\", [\"yellow\", \"green\"]), \"pink\"]\n",
        "#text = .........\n",
        "print(\"My two favorite flowers are {} and {}, two favorite colors are {} and {}.\".format(flowers[0][2],flowers[0][1][1],colors[1][0],colors[1][1][1]))"
      ],
      "execution_count": null,
      "outputs": [
        {
          "output_type": "stream",
          "name": "stdout",
          "text": [
            "My two favorite flowers are tulip and rose, two favorite colors are blue and green.\n"
          ]
        }
      ]
    },
    {
      "cell_type": "code",
      "metadata": {
        "colab": {
          "base_uri": "https://localhost:8080/"
        },
        "id": "Q-7sd-f59_kY",
        "outputId": "b92ac18e-5d50-4cdb-f17d-3566209a4d47"
      },
      "source": [
        "flowers = [[\"jasmine\", [\"lavender\", \"rose\"], \"tulip\"]]\n",
        "colors = [\"red\", (\"blue\", [\"yellow\", \"green\"]), \"pink\"]\n",
        "text = \"My two favorite flowers are {} and {}, two favorite colors are {} and {}.\".format(flowers[0][2],flowers[0][1][1],colors[1][0],colors[1][1][1])\n",
        "print(text)"
      ],
      "execution_count": null,
      "outputs": [
        {
          "output_type": "stream",
          "name": "stdout",
          "text": [
            "My two favorite flowers are tulip and rose, two favorite colors are blue and green.\n"
          ]
        }
      ]
    },
    {
      "cell_type": "code",
      "metadata": {
        "colab": {
          "base_uri": "https://localhost:8080/"
        },
        "id": "D8xX5Kjd9_pI",
        "outputId": "34405848-479a-4f36-9cf8-67764f1f98f1"
      },
      "source": [
        "escapes = [\"\\n\\t\", (\"\\t\", \"\\t\\t\"), [\"\\n\", \"\\n\\t\\t\"]]\n",
        "\n",
        "sentence = \"I am 40 years old. I have two children. Data Science is my IT domain.\"\n",
        "\n",
        "print(sentence)"
      ],
      "execution_count": null,
      "outputs": [
        {
          "output_type": "stream",
          "name": "stdout",
          "text": [
            "I am 40 years old. I have two children. Data Science is my IT domain.\n"
          ]
        }
      ]
    },
    {
      "cell_type": "code",
      "metadata": {
        "colab": {
          "base_uri": "https://localhost:8080/"
        },
        "id": "tfJdhh4V9_sL",
        "outputId": "18e1e3e5-817f-4778-d97b-dddf2e0dbc31"
      },
      "source": [
        "escapes = [\"\\n\\t\", (\"\\t\", \"\\t\\t\"), [\"\\n\", \"\\n\\t\\t\"]]\n",
        "\n",
        "sentence = \"I am 40 years old. {}I have two children. {}Data Science is my IT domain.\".format(escapes[0],escapes[2][1])\n",
        "\n",
        "print(sentence)"
      ],
      "execution_count": null,
      "outputs": [
        {
          "output_type": "stream",
          "name": "stdout",
          "text": [
            "I am 40 years old. \n",
            "\tI have two children. \n",
            "\t\tData Science is my IT domain.\n"
          ]
        }
      ]
    },
    {
      "cell_type": "code",
      "metadata": {
        "colab": {
          "base_uri": "https://localhost:8080/"
        },
        "id": "PE2M_MW89_v0",
        "outputId": "9f7c99bc-226e-4521-813c-49a0ef449f03"
      },
      "source": [
        "escapes = [\"\\n\\t\", (\"\\t\", \"\\t\\t\"), [\"\\n\", \"\\n\\t\\t\"]]\n",
        "month = \"Şubat{} Mart{} Nisan\".format(escapes[0],escapes[2][1])\n",
        "print(month)"
      ],
      "execution_count": null,
      "outputs": [
        {
          "output_type": "stream",
          "name": "stdout",
          "text": [
            "Şubat\n",
            "\t Mart\n",
            "\t\t Nisan\n"
          ]
        }
      ]
    },
    {
      "cell_type": "code",
      "metadata": {
        "colab": {
          "base_uri": "https://localhost:8080/",
          "height": 197
        },
        "id": "_Nry0Qid9vNv",
        "outputId": "96b79434-7da3-470b-a50b-f268d6ae7c16"
      },
      "source": [
        "count = list(range(11))\n",
        "descending_list = count.sort()\n",
        "print(descending_list[:0:-1])"
      ],
      "execution_count": null,
      "outputs": [
        {
          "output_type": "error",
          "ename": "TypeError",
          "evalue": "ignored",
          "traceback": [
            "\u001b[0;31m---------------------------------------------------------------------------\u001b[0m",
            "\u001b[0;31mTypeError\u001b[0m                                 Traceback (most recent call last)",
            "\u001b[0;32m<ipython-input-88-44ccf6db90b4>\u001b[0m in \u001b[0;36m<module>\u001b[0;34m()\u001b[0m\n\u001b[1;32m      1\u001b[0m \u001b[0mcount\u001b[0m \u001b[0;34m=\u001b[0m \u001b[0mlist\u001b[0m\u001b[0;34m(\u001b[0m\u001b[0mrange\u001b[0m\u001b[0;34m(\u001b[0m\u001b[0;36m11\u001b[0m\u001b[0;34m)\u001b[0m\u001b[0;34m)\u001b[0m\u001b[0;34m\u001b[0m\u001b[0;34m\u001b[0m\u001b[0m\n\u001b[1;32m      2\u001b[0m \u001b[0mdescending_list\u001b[0m \u001b[0;34m=\u001b[0m \u001b[0mcount\u001b[0m\u001b[0;34m.\u001b[0m\u001b[0msort\u001b[0m\u001b[0;34m(\u001b[0m\u001b[0;34m)\u001b[0m\u001b[0;34m\u001b[0m\u001b[0;34m\u001b[0m\u001b[0m\n\u001b[0;32m----> 3\u001b[0;31m \u001b[0mprint\u001b[0m\u001b[0;34m(\u001b[0m\u001b[0mdescending_list\u001b[0m\u001b[0;34m[\u001b[0m\u001b[0;34m:\u001b[0m\u001b[0;36m0\u001b[0m\u001b[0;34m:\u001b[0m\u001b[0;34m-\u001b[0m\u001b[0;36m1\u001b[0m\u001b[0;34m]\u001b[0m\u001b[0;34m)\u001b[0m\u001b[0;34m\u001b[0m\u001b[0;34m\u001b[0m\u001b[0m\n\u001b[0m",
            "\u001b[0;31mTypeError\u001b[0m: 'NoneType' object is not subscriptable"
          ]
        }
      ]
    },
    {
      "cell_type": "code",
      "metadata": {
        "colab": {
          "base_uri": "https://localhost:8080/"
        },
        "id": "4hSJfC7D9vP5",
        "outputId": "d8fad85f-22f6-4ff9-9a03-b8fa9d131064"
      },
      "source": [
        "count = list(range(11))\n",
        "count.sort()\n",
        "descending_list = count[:0:-1]\n",
        "print(descending_list)"
      ],
      "execution_count": null,
      "outputs": [
        {
          "output_type": "stream",
          "name": "stdout",
          "text": [
            "[10, 9, 8, 7, 6, 5, 4, 3, 2, 1]\n"
          ]
        }
      ]
    },
    {
      "cell_type": "code",
      "metadata": {
        "id": "0psQjk-9iKq2"
      },
      "source": [
        ""
      ],
      "execution_count": null,
      "outputs": []
    }
  ]
}
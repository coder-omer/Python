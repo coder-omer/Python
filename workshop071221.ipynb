{
  "nbformat": 4,
  "nbformat_minor": 0,
  "metadata": {
    "colab": {
      "name": "workshop071221.ipynb",
      "provenance": [],
      "authorship_tag": "ABX9TyOSvBu2P/uKnLVnx56uYDIq"
    },
    "kernelspec": {
      "name": "python3",
      "display_name": "Python 3"
    },
    "language_info": {
      "name": "python"
    }
  },
  "cells": [
    {
      "cell_type": "code",
      "metadata": {
        "colab": {
          "base_uri": "https://localhost:8080/"
        },
        "id": "7M_n2JA_6qBM",
        "outputId": "19e4d81c-4def-4f94-bd32-cf06b7f17812"
      },
      "source": [
        "def is_palindrome(user_sentence):\n",
        "\n",
        "    filtered_str = \"\".join(i.lower() for i in user_sentence if i.isalnum())\n",
        "    return filtered_str == filtered_str[::-1]\n",
        "\n",
        "user_sentence = input(\"Write your sentence please :  \")\n",
        "\n",
        "if is_palindrome(user_sentence):\n",
        "  print(\" '{}' is a palindrome\".format(user_sentence))\n",
        "else:\n",
        "  print(\" '{}' is not a palindrome\".format(user_sentence))"
      ],
      "execution_count": null,
      "outputs": [
        {
          "output_type": "stream",
          "name": "stdout",
          "text": [
            "Write your sentence please :  Do not consider punctuation\n",
            " 'Do not consider punctuation' is not a palindrome\n"
          ]
        }
      ]
    },
    {
      "cell_type": "code",
      "metadata": {
        "id": "FF8ciHdd6p15"
      },
      "source": [
        ""
      ],
      "execution_count": null,
      "outputs": []
    },
    {
      "cell_type": "code",
      "metadata": {
        "id": "NfV-gJop6py1",
        "colab": {
          "base_uri": "https://localhost:8080/"
        },
        "outputId": "59b6c462-8c9c-4574-a163-89408fc08989"
      },
      "source": [
        "cumle = \"ey edip adana'da, pide ye!\"\n",
        "suz = [x for x in cumle if x.isalnum()]\n",
        "print(suz)"
      ],
      "execution_count": null,
      "outputs": [
        {
          "output_type": "stream",
          "name": "stdout",
          "text": [
            "['e', 'y', 'e', 'd', 'i', 'p', 'a', 'd', 'a', 'n', 'a', 'd', 'a', 'p', 'i', 'd', 'e', 'y', 'e']\n"
          ]
        }
      ]
    },
    {
      "cell_type": "code",
      "source": [
        "suz1 = \"\".join(x for x in cumle if x.isalnum())\n",
        "print(suz1)\n",
        "print()\n",
        "ters_suz1 = suz1[::-1]\n",
        "print(ters_suz1)\n",
        "print()\n",
        "if suz1 == ters_suz1:\n",
        "  print(\"tersi düzüne eşit\")"
      ],
      "metadata": {
        "colab": {
          "base_uri": "https://localhost:8080/"
        },
        "id": "NTzEnE8iBew4",
        "outputId": "69d11749-930f-417d-e00e-bb335911356c"
      },
      "execution_count": null,
      "outputs": [
        {
          "output_type": "stream",
          "name": "stdout",
          "text": [
            "eyedipadanadapideye\n",
            "\n",
            "eyedipadanadapideye\n",
            "\n",
            "tersi düzüne eşit\n"
          ]
        }
      ]
    },
    {
      "cell_type": "code",
      "source": [
        "def ters_düz_kontrol(cumle2)\n",
        "  cumle2 = \"Ey edip Adana'da, pide ye!\"\n",
        "  suz2 = \"\".join(j.lower() for j in cumle2 if j.isalnum())\n",
        "  print(suz2)\n",
        "  ters_suz2 = suz2[::-1]\n",
        "  \n",
        "  print(ters_suz2)"
      ],
      "metadata": {
        "colab": {
          "base_uri": "https://localhost:8080/"
        },
        "id": "6-BclyVOBetG",
        "outputId": "9905e0dc-50ee-4e4e-e5ee-a5a9d13ca311"
      },
      "execution_count": null,
      "outputs": [
        {
          "output_type": "stream",
          "name": "stdout",
          "text": [
            "eyedipadanadapideye\n",
            "eyedipadanadapideye\n"
          ]
        }
      ]
    },
    {
      "cell_type": "code",
      "source": [
        ""
      ],
      "metadata": {
        "id": "hWJpxrbSBeQG"
      },
      "execution_count": null,
      "outputs": []
    },
    {
      "cell_type": "markdown",
      "source": [
        "\n",
        "List Comprehension Çalışması\n",
        "\n"
      ],
      "metadata": {
        "id": "tTaJ_V9ZBFn8"
      }
    },
    {
      "cell_type": "code",
      "metadata": {
        "id": "jFFLB3wh6pwK",
        "colab": {
          "base_uri": "https://localhost:8080/"
        },
        "outputId": "2e8b41da-aba7-4256-a30c-6ae6fa136300"
      },
      "source": [
        "fruits = [\"apple\", \"banana\", \"cherry\", \"kiwi\", \"mango\"]\n",
        "newlist = []\n",
        "\n",
        "for x in fruits:\n",
        "  if \"a\" in x:\n",
        "    newlist.append(x)\n",
        "\n",
        "print(newlist)"
      ],
      "execution_count": null,
      "outputs": [
        {
          "output_type": "stream",
          "name": "stdout",
          "text": [
            "['apple', 'banana', 'mango']\n"
          ]
        }
      ]
    },
    {
      "cell_type": "code",
      "metadata": {
        "id": "xB_rVor56ptX",
        "colab": {
          "base_uri": "https://localhost:8080/"
        },
        "outputId": "47ac1ae9-0a37-4c61-c330-cf787644a72e"
      },
      "source": [
        "fruits = [\"apple\", \"banana\", \"cherry\", \"kiwi\", \"mango\"]\n",
        "\n",
        "newlist = [x for x in fruits if \"a\" in x]\n",
        "\n",
        "print(newlist)"
      ],
      "execution_count": 1,
      "outputs": [
        {
          "output_type": "stream",
          "name": "stdout",
          "text": [
            "['apple', 'banana', 'mango']\n"
          ]
        }
      ]
    },
    {
      "cell_type": "code",
      "metadata": {
        "id": "KxGpQ6Zx6pnX"
      },
      "source": [
        ""
      ],
      "execution_count": null,
      "outputs": []
    },
    {
      "cell_type": "code",
      "metadata": {
        "id": "9-nAkEF36pZW"
      },
      "source": [
        ""
      ],
      "execution_count": null,
      "outputs": []
    },
    {
      "cell_type": "code",
      "metadata": {
        "colab": {
          "base_uri": "https://localhost:8080/"
        },
        "id": "O7C04DL-9VOb",
        "outputId": "0594a0af-12dd-41a1-8724-73426ea823e0"
      },
      "source": [
        "sentence = \"ey edip adana'da, pide ye!\"\n",
        "duz = list(sentence)\n",
        "print(duz)\n",
        "\n",
        "ters = duz[::-1]\n",
        "print(ters)"
      ],
      "execution_count": null,
      "outputs": [
        {
          "output_type": "stream",
          "name": "stdout",
          "text": [
            "['e', 'y', ' ', 'e', 'd', 'i', 'p', ' ', 'a', 'd', 'a', 'n', 'a', \"'\", 'd', 'a', ',', ' ', 'p', 'i', 'd', 'e', ' ', 'y', 'e', '!']\n",
            "['!', 'e', 'y', ' ', 'e', 'd', 'i', 'p', ' ', ',', 'a', 'd', \"'\", 'a', 'n', 'a', 'd', 'a', ' ', 'p', 'i', 'd', 'e', ' ', 'y', 'e']\n"
          ]
        }
      ]
    },
    {
      "cell_type": "code",
      "metadata": {
        "colab": {
          "base_uri": "https://localhost:8080/"
        },
        "id": "2L9PbdKI9V37",
        "outputId": "5d734d3d-20c6-4adf-c019-a1b2c340d0f7"
      },
      "source": [
        "def is_palindrome(user_sentence):\n",
        "\n",
        "    filtered_str = \"\".join(i.lower() for i in user_sentence if i.isalnum())\n",
        "    return filtered_str == filtered_str[::-1]\n",
        "\n",
        "user_sentence = input(\"Write your sentence please :  \")\n",
        "\n",
        "\n",
        "if is_palindrome(user_sentence):\n",
        "  print(\" '{}' is a palindrome\".format(user_sentence))\n",
        "else:\n",
        "  print(\" '{}' is not a palindrome\".format(user_sentence))\n"
      ],
      "execution_count": null,
      "outputs": [
        {
          "output_type": "stream",
          "name": "stdout",
          "text": [
            "Write your sentence please :  understand the use of loops\n",
            " 'understand the use of loops' is not a palindrome\n"
          ]
        }
      ]
    },
    {
      "cell_type": "code",
      "metadata": {
        "colab": {
          "base_uri": "https://localhost:8080/"
        },
        "id": "KfppIbFE9V6s",
        "outputId": "a9a21abd-9d4a-461a-8bcc-99e099376e64"
      },
      "source": [
        "sentence = \"ali\"\n",
        "sentence = list(sentence)\n",
        "print(sentence)\n",
        "\n",
        "for i in range(len(sentence)):\n",
        "  if sentence[i].isalnum():\n",
        "    print(sentence)\n",
        "\n",
        "\n",
        "cont = sentence[::-1]\n",
        "print(cont)\n"
      ],
      "execution_count": 4,
      "outputs": [
        {
          "output_type": "stream",
          "name": "stdout",
          "text": [
            "['a', 'l', 'i']\n",
            "['a', 'l', 'i']\n",
            "['a', 'l', 'i']\n",
            "['a', 'l', 'i']\n",
            "['i', 'l', 'a']\n"
          ]
        }
      ]
    },
    {
      "cell_type": "code",
      "metadata": {
        "id": "p4x_Z8jJ9V9q",
        "colab": {
          "base_uri": "https://localhost:8080/"
        },
        "outputId": "e7d4c9c0-fcba-4db5-e00c-0d54bd943d66"
      },
      "source": [
        "metin = input('Metni Girin : \\n')\n",
        "ters=metin[::-1]\n",
        "print('Girilen metin = ', metin)\n",
        "print('Girilen metnin tersi = ', ters)\n",
        "if ters == metin:\n",
        "    print('Girilen metin palindrome')\n",
        "else:\n",
        "    print('Girilen metin palindrome değil.')"
      ],
      "execution_count": null,
      "outputs": [
        {
          "output_type": "stream",
          "name": "stdout",
          "text": [
            "Metni Girin : \n",
            "aba\n",
            "Girilen metin =  aba\n",
            "Girilen metnin tersi =  aba\n",
            "Girilen metin palindrome\n"
          ]
        }
      ]
    },
    {
      "cell_type": "code",
      "metadata": {
        "colab": {
          "base_uri": "https://localhost:8080/"
        },
        "id": "UGEkTgvL9WAW",
        "outputId": "c8ba4930-7073-4697-ebd3-19a62ad998d4"
      },
      "source": [
        "\"I love Python\".isalnum()\n"
      ],
      "execution_count": null,
      "outputs": [
        {
          "output_type": "execute_result",
          "data": {
            "text/plain": [
              "False"
            ]
          },
          "metadata": {},
          "execution_count": 40
        }
      ]
    },
    {
      "cell_type": "code",
      "metadata": {
        "id": "_Cp6ny4K9WDN"
      },
      "source": [
        "def is_palindrome(input_str):\n",
        "    \"\"\" Given a string, determine if it is a palindrome.\n",
        "        Whitespaces, character-casing, and non-alphanumeric\n",
        "        characters are all ignored.\n",
        "\n",
        "        Parameters\n",
        "        ----------\n",
        "        s: str\n",
        "            Input string\n",
        "\n",
        "        Returns\n",
        "        -------\n",
        "        bool\n",
        "    \"\"\"\n",
        "    filtered_str = \"\".join(c.lower() for c in input_str if c.isalnum())\n",
        "    return filtered_str == filtered_str[::-1]"
      ],
      "execution_count": null,
      "outputs": []
    },
    {
      "cell_type": "code",
      "metadata": {
        "id": "9oKeqsdq9WGO",
        "colab": {
          "base_uri": "https://localhost:8080/",
          "height": 35
        },
        "outputId": "07e1e3c3-be00-4225-a94d-59015d565c85"
      },
      "source": [
        "string = \"Special $#! characters   spaces 888323\"\n",
        "''.join(e for e in string if e.isalnum())"
      ],
      "execution_count": null,
      "outputs": [
        {
          "output_type": "execute_result",
          "data": {
            "application/vnd.google.colaboratory.intrinsic+json": {
              "type": "string"
            },
            "text/plain": [
              "'Specialcharactersspaces888323'"
            ]
          },
          "metadata": {},
          "execution_count": 49
        }
      ]
    },
    {
      "cell_type": "code",
      "metadata": {
        "id": "FetSy7UR9WJM"
      },
      "source": [
        "    for (int i = 0; i < N; i++)\n",
        "    {\n",
        "        for (int j = 0; j < N; j++)\n",
        "            cout << arr[i][j] << \" \";\n",
        "        cout << endl;\n",
        "    }"
      ],
      "execution_count": null,
      "outputs": []
    }
  ]
}
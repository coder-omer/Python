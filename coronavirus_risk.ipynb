{
  "nbformat": 4,
  "nbformat_minor": 0,
  "metadata": {
    "colab": {
      "name": "coronavirus_risk.ipynb",
      "provenance": [],
      "authorship_tag": "ABX9TyPNbo3mJz+x91DZDRi8sFVv"
    },
    "kernelspec": {
      "name": "python3",
      "display_name": "Python 3"
    },
    "language_info": {
      "name": "python"
    }
  },
  "cells": [
    {
      "cell_type": "code",
      "metadata": {
        "colab": {
          "base_uri": "https://localhost:8080/"
        },
        "id": "c6ANd4c9Bz_D",
        "outputId": "f80af250-0ad3-4e03-cb63-8e943b1cbf48"
      },
      "source": [
        "age = input(\"Are you a cigarette addict older than 75 years old? \")\n",
        "chronic = input(\"Do you have a severe chronic disease? \")\n",
        "immune = input(\"Is your immune system too weak? \")\n",
        "\n",
        "if (age == 'yes') or (chronic == 'yes') or (immune == 'yes'):\n",
        "  print(\"You are in risky group\")\n",
        "else:\n",
        "  print(\"You are not in risky group\")\n",
        "\n"
      ],
      "execution_count": null,
      "outputs": [
        {
          "output_type": "stream",
          "name": "stdout",
          "text": [
            "Are you a cigarette addict older than 75 years old? yes\n",
            "Do you have a severe chronic disease? no\n",
            "Is your immune system too weak? yes\n",
            "You are in risky group\n"
          ]
        }
      ]
    }
  ]
}
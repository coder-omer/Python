{
  "nbformat": 4,
  "nbformat_minor": 0,
  "metadata": {
    "colab": {
      "name": "simpleArray.ipynb",
      "provenance": [],
      "authorship_tag": "ABX9TyMbQOOJotHcH8Z8+xBQaP7V",
      "include_colab_link": true
    },
    "kernelspec": {
      "name": "python3",
      "display_name": "Python 3"
    },
    "language_info": {
      "name": "python"
    }
  },
  "cells": [
    {
      "cell_type": "markdown",
      "metadata": {
        "id": "view-in-github",
        "colab_type": "text"
      },
      "source": [
        "<a href=\"https://colab.research.google.com/github/coder-omer/Python/blob/main/simpleArray.ipynb\" target=\"_parent\"><img src=\"https://colab.research.google.com/assets/colab-badge.svg\" alt=\"Open In Colab\"/></a>"
      ]
    },
    {
      "cell_type": "code",
      "source": [
        "#!/bin/python3\n",
        "\n",
        "import math\n",
        "import os\n",
        "import random\n",
        "import re\n",
        "import sys\n",
        "\n",
        "#\n",
        "# Complete the 'simpleArraySum' function below.\n",
        "#\n",
        "# The function is expected to return an INTEGER.\n",
        "# The function accepts INTEGER_ARRAY ar as parameter.\n",
        "#\n",
        "\n",
        "def simpleArraySum(ar):\n",
        "    # Write your code here\n",
        "    sum = 0\n",
        "    for i in ar:\n",
        "        sum += i\n",
        "    return sum\n",
        "    \n",
        "# ar_count = int(input().strip())\n",
        "\n",
        "ar = list(map(int, input().rstrip().split()))\n",
        "\n",
        "result = simpleArraySum(ar)\n",
        "\n",
        "print(result)\n"
      ],
      "metadata": {
        "colab": {
          "base_uri": "https://localhost:8080/"
        },
        "id": "1VWunJoNMdJp",
        "outputId": "1b8c622b-2e9f-4054-f0e1-03cfb466ca59"
      },
      "execution_count": null,
      "outputs": [
        {
          "output_type": "stream",
          "name": "stdout",
          "text": [
            "2\n",
            "2\n"
          ]
        }
      ]
    }
  ]
}
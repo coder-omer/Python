{
  "nbformat": 4,
  "nbformat_minor": 0,
  "metadata": {
    "colab": {
      "name": "Untitled13.ipynb",
      "provenance": [],
      "authorship_tag": "ABX9TyN15kt1lGC/7QvWeiSqiPEV",
      "include_colab_link": true
    },
    "kernelspec": {
      "name": "python3",
      "display_name": "Python 3"
    },
    "language_info": {
      "name": "python"
    }
  },
  "cells": [
    {
      "cell_type": "markdown",
      "metadata": {
        "id": "view-in-github",
        "colab_type": "text"
      },
      "source": [
        "<a href=\"https://colab.research.google.com/github/coder-omer/Python/blob/main/Untitled13.ipynb\" target=\"_parent\"><img src=\"https://colab.research.google.com/assets/colab-badge.svg\" alt=\"Open In Colab\"/></a>"
      ]
    },
    {
      "cell_type": "code",
      "execution_count": null,
      "metadata": {
        "id": "VyGoku9g5GD6"
      },
      "outputs": [],
      "source": [
        "def sn(number):\n",
        "    if type(number)!=int :\n",
        "        print(\"0\")\n",
        "    elif number<0:\n",
        "        print(sum([i for i in range(number, 0)]))\n",
        "    else:\n",
        "        print(sum([i for i in range(0, number + 1)]))"
      ]
    },
    {
      "cell_type": "code",
      "source": [
        "sn(-8)"
      ],
      "metadata": {
        "colab": {
          "base_uri": "https://localhost:8080/"
        },
        "id": "ynPgIX1s5KnN",
        "outputId": "aa296482-4f97-422a-e9f8-c7b1e4744525"
      },
      "execution_count": null,
      "outputs": [
        {
          "output_type": "stream",
          "name": "stdout",
          "text": [
            "-36\n"
          ]
        }
      ]
    },
    {
      "cell_type": "code",
      "source": [
        "def topla_gel(num):\n",
        "  if type(num) == int and num <= 0:\n",
        "    print(sum(range(num,0)))\n",
        "  elif type(num) == int and num > 0:\n",
        "    print(sum(range(0,num+1)))\n",
        "  else:\n",
        "    print(0)\n",
        "\n",
        "topla_gel(10)\n",
        "topla_gel(55.6)\n",
        "topla_gel(-6)"
      ],
      "metadata": {
        "colab": {
          "base_uri": "https://localhost:8080/"
        },
        "id": "BAfHSoVX5K1K",
        "outputId": "6e2398a1-7ac1-469d-cc7c-79a709f96ffe"
      },
      "execution_count": null,
      "outputs": [
        {
          "output_type": "stream",
          "name": "stdout",
          "text": [
            "55\n",
            "0\n",
            "-21\n"
          ]
        }
      ]
    },
    {
      "cell_type": "code",
      "source": [
        ""
      ],
      "metadata": {
        "id": "X7XI_VLd6SdW"
      },
      "execution_count": null,
      "outputs": []
    }
  ]
}
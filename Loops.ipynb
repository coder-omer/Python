{
  "nbformat": 4,
  "nbformat_minor": 0,
  "metadata": {
    "colab": {
      "name": "Loops.ipynb",
      "provenance": [],
      "authorship_tag": "ABX9TyN6CD+qCl9YwdsxCSYRbiep"
    },
    "kernelspec": {
      "name": "python3",
      "display_name": "Python 3"
    },
    "language_info": {
      "name": "python"
    }
  },
  "cells": [
    {
      "cell_type": "code",
      "metadata": {
        "colab": {
          "base_uri": "https://localhost:8080/"
        },
        "id": "-RUDfn4q16_h",
        "outputId": "5f75c757-f2b0-45da-b970-1a5838a6968b"
      },
      "source": [
        "number = 0\n",
        "\n",
        "while number < 6:\n",
        "    print(number)\n",
        "    number += 1\n",
        "print('now, number is bigger or equal to 6')"
      ],
      "execution_count": null,
      "outputs": [
        {
          "output_type": "stream",
          "name": "stdout",
          "text": [
            "0\n",
            "1\n",
            "2\n",
            "3\n",
            "4\n",
            "5\n",
            "now, number is bigger or equal to 6\n"
          ]
        }
      ]
    },
    {
      "cell_type": "code",
      "metadata": {
        "colab": {
          "base_uri": "https://localhost:8080/"
        },
        "id": "O0Hwym2X17dE",
        "outputId": "2ee24f56-7aba-4dbf-c177-ad98f60eabf6"
      },
      "source": [
        "my_list=[\"a\", \"b\", \"c\", \"d\", \"e\"]\n",
        "\n",
        "a = 0\n",
        "\n",
        "while a < len(my_list):\n",
        "    print('square of {} is : {}'.format(a, a**2))\n",
        "    a+=1"
      ],
      "execution_count": null,
      "outputs": [
        {
          "output_type": "stream",
          "name": "stdout",
          "text": [
            "square of 0 is : 0\n",
            "square of 1 is : 1\n",
            "square of 2 is : 4\n",
            "square of 3 is : 9\n",
            "square of 4 is : 16\n"
          ]
        }
      ]
    },
    {
      "cell_type": "code",
      "metadata": {
        "colab": {
          "base_uri": "https://localhost:8080/"
        },
        "id": "rBpswNsU17f0",
        "outputId": "5c149587-b8db-48e8-ac37-2cb370d47448"
      },
      "source": [
        "answer = 44\n",
        "\n",
        "question = 'What number am I thinking of?  '\n",
        "print (\"Let's play the guessing game!\")\n",
        "\n",
        "while True:\n",
        "    guess = int(input(question))\n",
        "\n",
        "    if guess < answer:\n",
        "        print('Little higher')\n",
        "    elif guess > answer:\n",
        "        print('Little lower')\n",
        "    else:  # guess == answer\n",
        "        print('Are you a MINDREADER!!!')\n",
        "        break"
      ],
      "execution_count": null,
      "outputs": [
        {
          "output_type": "stream",
          "name": "stdout",
          "text": [
            "Let's play the guessing game!\n",
            "What number am I thinking of?  54\n",
            "Little lower\n",
            "What number am I thinking of?  50\n",
            "Little lower\n",
            "What number am I thinking of?  35\n",
            "Little higher\n",
            "What number am I thinking of?  40\n",
            "Little higher\n",
            "What number am I thinking of?  48\n",
            "Little lower\n",
            "What number am I thinking of?  46\n",
            "Little lower\n",
            "What number am I thinking of?  43\n",
            "Little higher\n",
            "What number am I thinking of?  45\n",
            "Little lower\n",
            "What number am I thinking of?  44\n",
            "Are you a MINDREADER!!!\n"
          ]
        }
      ]
    },
    {
      "cell_type": "code",
      "metadata": {
        "colab": {
          "base_uri": "https://localhost:8080/"
        },
        "id": "xphIJbjK17iO",
        "outputId": "44f10327-e26f-469f-a6f3-10a19fa4c440"
      },
      "source": [
        "flowers = ['Rose', 'Orchid', 'Tulip']\n",
        "count1 = len(flowers)\n",
        "count2 = 0\n",
        "\n",
        "while count1>0 :\n",
        "    print(flowers[count2])\n",
        "    count1 -= 1\n",
        "    count2 += 1"
      ],
      "execution_count": null,
      "outputs": [
        {
          "output_type": "stream",
          "name": "stdout",
          "text": [
            "Rose\n",
            "Orchid\n",
            "Tulip\n"
          ]
        }
      ]
    },
    {
      "cell_type": "code",
      "metadata": {
        "colab": {
          "base_uri": "https://localhost:8080/"
        },
        "id": "GJ7AxBzd17k3",
        "outputId": "8b04e0f4-b1a0-4683-fbd3-f1d5f9b14d76"
      },
      "source": [
        "for i in [1, 2, 3, 4, 5] :\n",
        "    print(i)"
      ],
      "execution_count": null,
      "outputs": [
        {
          "output_type": "stream",
          "name": "stdout",
          "text": [
            "1\n",
            "2\n",
            "3\n",
            "4\n",
            "5\n"
          ]
        }
      ]
    },
    {
      "cell_type": "code",
      "metadata": {
        "colab": {
          "base_uri": "https://localhost:8080/"
        },
        "id": "jUFa23ii17nX",
        "outputId": "ef851476-06dc-419b-9371-f1a3af9730cc"
      },
      "source": [
        "seasons = ['spring', 'summer', 'autumn', 'winter']\n",
        "\n",
        "for season in seasons :\n",
        "    print(season)"
      ],
      "execution_count": null,
      "outputs": [
        {
          "output_type": "stream",
          "name": "stdout",
          "text": [
            "spring\n",
            "summer\n",
            "autumn\n",
            "winter\n"
          ]
        }
      ]
    },
    {
      "cell_type": "code",
      "metadata": {
        "colab": {
          "base_uri": "https://localhost:8080/"
        },
        "id": "AThxTK9B17qb",
        "outputId": "63fecabc-b940-4b3b-9f03-f361cf91e2ee"
      },
      "source": [
        "for i in {'n1' : 'one', 'n2' : 'two'} : print(i)"
      ],
      "execution_count": null,
      "outputs": [
        {
          "output_type": "stream",
          "name": "stdout",
          "text": [
            "n1\n",
            "n2\n"
          ]
        }
      ]
    },
    {
      "cell_type": "code",
      "metadata": {
        "colab": {
          "base_uri": "https://localhost:8080/"
        },
        "id": "OKiu9NWC17tM",
        "outputId": "f6b06a55-5fd2-4655-d6f6-30d7cc104320"
      },
      "source": [
        "iterable = [1, 2, 3, 4]\n",
        "for i in iterable:\n",
        "  print(i*i)"
      ],
      "execution_count": null,
      "outputs": [
        {
          "output_type": "stream",
          "name": "stdout",
          "text": [
            "1\n",
            "4\n",
            "9\n",
            "16\n"
          ]
        }
      ]
    },
    {
      "cell_type": "code",
      "metadata": {
        "colab": {
          "base_uri": "https://localhost:8080/"
        },
        "id": "5xSOSnnu17wK",
        "outputId": "5686e27b-4860-491d-8b8a-bb83057b4e4e"
      },
      "source": [
        "course = 'clarusway'\n",
        "\n",
        "for i in course :\n",
        "    print(i)"
      ],
      "execution_count": null,
      "outputs": [
        {
          "output_type": "stream",
          "name": "stdout",
          "text": [
            "c\n",
            "l\n",
            "a\n",
            "r\n",
            "u\n",
            "s\n",
            "w\n",
            "a\n",
            "y\n"
          ]
        }
      ]
    },
    {
      "cell_type": "code",
      "metadata": {
        "id": "FcjbyWsR17zR"
      },
      "source": [
        "course = 'clarusway'\n",
        "\n",
        "for i in course :\n",
        "    print(i)"
      ],
      "execution_count": null,
      "outputs": []
    },
    {
      "cell_type": "code",
      "metadata": {
        "colab": {
          "base_uri": "https://localhost:8080/"
        },
        "id": "6y8W9Li1172K",
        "outputId": "3f0f2338-2b45-4b27-e56e-6c6e13f5046e"
      },
      "source": [
        "course = 'clarusway'\n",
        "a=0\n",
        "while a < len(course): \n",
        "    print(course[a])\n",
        "    a=a+1"
      ],
      "execution_count": null,
      "outputs": [
        {
          "output_type": "stream",
          "name": "stdout",
          "text": [
            "c\n",
            "l\n",
            "a\n",
            "r\n",
            "u\n",
            "s\n",
            "w\n",
            "a\n",
            "y\n"
          ]
        }
      ]
    },
    {
      "cell_type": "code",
      "metadata": {
        "colab": {
          "base_uri": "https://localhost:8080/"
        },
        "id": "4n8Fjwft1748",
        "outputId": "0b8a8b6d-1348-4f9a-fbc7-bb12bc8dad0f"
      },
      "source": [
        "course = 'clarusway'\n",
        "a=0\n",
        "for a in course: \n",
        "    print(a)\n",
        "    a='a+1'"
      ],
      "execution_count": null,
      "outputs": [
        {
          "output_type": "stream",
          "name": "stdout",
          "text": [
            "c\n",
            "l\n",
            "a\n",
            "r\n",
            "u\n",
            "s\n",
            "w\n",
            "a\n",
            "y\n"
          ]
        }
      ]
    },
    {
      "cell_type": "code",
      "metadata": {
        "colab": {
          "base_uri": "https://localhost:8080/"
        },
        "id": "X9xFnrXu1777",
        "outputId": "9a60bf7f-a218-4a2a-aa55-e2514a2e5606"
      },
      "source": [
        "times = int(input(\"How many times should I say 'I love you'\"))\n",
        "\n",
        "for i in range(times):\n",
        "    print('I love you')"
      ],
      "execution_count": null,
      "outputs": [
        {
          "output_type": "stream",
          "name": "stdout",
          "text": [
            "How many times should I say 'I love you'5\n",
            "I love you\n",
            "I love you\n",
            "I love you\n",
            "I love you\n",
            "I love you\n"
          ]
        }
      ]
    },
    {
      "cell_type": "code",
      "metadata": {
        "colab": {
          "base_uri": "https://localhost:8080/"
        },
        "id": "2cMHsjpj17-8",
        "outputId": "9936de75-bd19-4d74-b79c-09f40a7db16c"
      },
      "source": [
        "n = int(input('enter a number between 1-10'))\n",
        "\n",
        "for i in range(11):\n",
        "    print('{}x{} = '.format(n, i), n*i)"
      ],
      "execution_count": null,
      "outputs": [
        {
          "output_type": "stream",
          "name": "stdout",
          "text": [
            "enter a number between 1-103\n",
            "3x0 =  0\n",
            "3x1 =  3\n",
            "3x2 =  6\n",
            "3x3 =  9\n",
            "3x4 =  12\n",
            "3x5 =  15\n",
            "3x6 =  18\n",
            "3x7 =  21\n",
            "3x8 =  24\n",
            "3x9 =  27\n",
            "3x10 =  30\n"
          ]
        }
      ]
    },
    {
      "cell_type": "code",
      "metadata": {
        "colab": {
          "base_uri": "https://localhost:8080/"
        },
        "id": "9-WRLfO_TRw3",
        "outputId": "3fb09456-a0f2-4277-ed63-1ee50759ec7c"
      },
      "source": [
        "n = int(input('enter a number between 1-10'))\n",
        "\n",
        "for i in range(11):\n",
        "    i=i+1\n",
        "    print('{}%{} = '.format(n, i), n % i)"
      ],
      "execution_count": null,
      "outputs": [
        {
          "output_type": "stream",
          "name": "stdout",
          "text": [
            "enter a number between 1-106\n",
            "6%1 =  0\n",
            "6%2 =  0\n",
            "6%3 =  0\n",
            "6%4 =  2\n",
            "6%5 =  1\n",
            "6%6 =  0\n",
            "6%7 =  6\n",
            "6%8 =  6\n",
            "6%9 =  6\n",
            "6%10 =  6\n",
            "6%11 =  6\n"
          ]
        }
      ]
    },
    {
      "cell_type": "code",
      "metadata": {
        "colab": {
          "base_uri": "https://localhost:8080/"
        },
        "id": "KIqrOQZHTR24",
        "outputId": "16e64ea2-77df-41e9-b3cb-d65830883769"
      },
      "source": [
        "b = list(range(11))\n",
        "\n",
        "print(b)"
      ],
      "execution_count": null,
      "outputs": [
        {
          "output_type": "stream",
          "name": "stdout",
          "text": [
            "[0, 1, 2, 3, 4, 5, 6, 7, 8, 9, 10]\n"
          ]
        }
      ]
    },
    {
      "cell_type": "code",
      "metadata": {
        "colab": {
          "base_uri": "https://localhost:8080/"
        },
        "id": "kiZsIl7GTR6K",
        "outputId": "7adcc3cb-520b-478d-aaf7-e123dbd6b0b9"
      },
      "source": [
        "b = range(11)\n",
        "\n",
        "print(b)"
      ],
      "execution_count": null,
      "outputs": [
        {
          "output_type": "stream",
          "name": "stdout",
          "text": [
            "range(0, 11)\n"
          ]
        }
      ]
    },
    {
      "cell_type": "code",
      "metadata": {
        "colab": {
          "base_uri": "https://localhost:8080/"
        },
        "id": "2NwRMpYzTR8n",
        "outputId": "ed6b6494-fad2-459a-ec1c-bff5d58ba090"
      },
      "source": [
        "a = set(range(0,10))\n",
        "\n",
        "print(a)"
      ],
      "execution_count": null,
      "outputs": [
        {
          "output_type": "stream",
          "name": "stdout",
          "text": [
            "{0, 1, 2, 3, 4, 5, 6, 7, 8, 9}\n"
          ]
        }
      ]
    },
    {
      "cell_type": "code",
      "metadata": {
        "colab": {
          "base_uri": "https://localhost:8080/"
        },
        "id": "SbGQekuFTR_u",
        "outputId": "e75a9892-6e9a-4639-fa60-cebddecd3745"
      },
      "source": [
        "c = tuple(range(11))\n",
        "\n",
        "print(c)"
      ],
      "execution_count": null,
      "outputs": [
        {
          "output_type": "stream",
          "name": "stdout",
          "text": [
            "(0, 1, 2, 3, 4, 5, 6, 7, 8, 9, 10)\n"
          ]
        }
      ]
    },
    {
      "cell_type": "markdown",
      "metadata": {
        "id": "RKCdFTssVAeE"
      },
      "source": [
        "The formula syntax is : range(start, stop, step)"
      ]
    },
    {
      "cell_type": "code",
      "metadata": {
        "colab": {
          "base_uri": "https://localhost:8080/"
        },
        "id": "gAJxVK8RTSC4",
        "outputId": "e95f0b5a-8f42-4c56-ddcd-c7d1065d7af7"
      },
      "source": [
        "print(range(5))  # it will not print the numbers in sequence\n",
        "\n",
        "print(*range(5))  # '*' separates its elements"
      ],
      "execution_count": null,
      "outputs": [
        {
          "output_type": "stream",
          "name": "stdout",
          "text": [
            "range(0, 5)\n",
            "0 1 2 3 4\n"
          ]
        }
      ]
    },
    {
      "cell_type": "code",
      "metadata": {
        "colab": {
          "base_uri": "https://localhost:8080/"
        },
        "id": "TAVrRxCsTSGY",
        "outputId": "d690d74e-d325-43e7-bd93-50df8a12e851"
      },
      "source": [
        "print(*range(5,25,2))"
      ],
      "execution_count": null,
      "outputs": [
        {
          "output_type": "stream",
          "name": "stdout",
          "text": [
            "5 7 9 11 13 15 17 19 21 23\n"
          ]
        }
      ]
    },
    {
      "cell_type": "code",
      "metadata": {
        "colab": {
          "base_uri": "https://localhost:8080/"
        },
        "id": "VTyIWDZlTSJb",
        "outputId": "7bcec660-39fa-4509-c78d-435253f1611a"
      },
      "source": [
        "print(*('separate'))"
      ],
      "execution_count": null,
      "outputs": [
        {
          "output_type": "stream",
          "name": "stdout",
          "text": [
            "s e p a r a t e\n"
          ]
        }
      ]
    },
    {
      "cell_type": "code",
      "metadata": {
        "colab": {
          "base_uri": "https://localhost:8080/"
        },
        "id": "17fRIZn4TSMd",
        "outputId": "aac4fdb5-3581-458d-919d-853e78366195"
      },
      "source": [
        "print(*range(10,0,-2))"
      ],
      "execution_count": null,
      "outputs": [
        {
          "output_type": "stream",
          "name": "stdout",
          "text": [
            "10 8 6 4 2\n"
          ]
        }
      ]
    },
    {
      "cell_type": "code",
      "metadata": {
        "colab": {
          "base_uri": "https://localhost:8080/"
        },
        "id": "IhE0LcAfTSPL",
        "outputId": "2d4fcb32-6beb-4743-a533-ee72864a3369"
      },
      "source": [
        "text = ['one','two','three','four','five']\n",
        "numbers = [1, 2, 3, 4, 5]\n",
        "for x, y in zip(text, numbers):\n",
        "    print(x, ':', y)"
      ],
      "execution_count": null,
      "outputs": [
        {
          "output_type": "stream",
          "name": "stdout",
          "text": [
            "one : 1\n",
            "two : 2\n",
            "three : 3\n",
            "four : 4\n",
            "five : 5\n"
          ]
        }
      ]
    },
    {
      "cell_type": "code",
      "metadata": {
        "colab": {
          "base_uri": "https://localhost:8080/"
        },
        "id": "J9ywpaJWTSSc",
        "outputId": "2557a4a3-204a-4858-9fce-04a67b957091"
      },
      "source": [
        "who = ['I am ', 'You are ']\n",
        "mood = ['happy', 'confident']\n",
        "for i in who:\n",
        "    for ii in mood:\n",
        "        print(i + ii)"
      ],
      "execution_count": null,
      "outputs": [
        {
          "output_type": "stream",
          "name": "stdout",
          "text": [
            "I am happy\n",
            "I am confident\n",
            "You are happy\n",
            "You are confident\n"
          ]
        }
      ]
    },
    {
      "cell_type": "code",
      "metadata": {
        "colab": {
          "base_uri": "https://localhost:8080/"
        },
        "id": "U3Ajp7EmTSVV",
        "outputId": "01c475ab-66d2-4745-c50e-66aa801a9da0"
      },
      "source": [
        "for name in ['Chris','Susan']:\n",
        "  print(name)"
      ],
      "execution_count": null,
      "outputs": [
        {
          "output_type": "stream",
          "name": "stdout",
          "text": [
            "Chris\n",
            "Susan\n"
          ]
        }
      ]
    },
    {
      "cell_type": "code",
      "metadata": {
        "colab": {
          "base_uri": "https://localhost:8080/"
        },
        "id": "-j6B_x0h18Bx",
        "outputId": "1e59f39d-f306-4421-c4aa-78f7a898e16d"
      },
      "source": [
        "for index in range(0,2):\n",
        "  print(index)"
      ],
      "execution_count": null,
      "outputs": [
        {
          "output_type": "stream",
          "name": "stdout",
          "text": [
            "0\n",
            "1\n"
          ]
        }
      ]
    },
    {
      "cell_type": "code",
      "metadata": {
        "colab": {
          "base_uri": "https://localhost:8080/"
        },
        "id": "BIIUOukc18Ex",
        "outputId": "1d4a7932-de24-4bd4-acb1-5238acb0805b"
      },
      "source": [
        "names = ['Christopher', 'Susan']\n",
        "index = 0\n",
        "while index < len(names):\n",
        "  print(names[index])\n",
        "  index = index + 1"
      ],
      "execution_count": null,
      "outputs": [
        {
          "output_type": "stream",
          "name": "stdout",
          "text": [
            "Christopher\n",
            "Susan\n"
          ]
        }
      ]
    },
    {
      "cell_type": "code",
      "metadata": {
        "colab": {
          "base_uri": "https://localhost:8080/"
        },
        "id": "-He6PcZY18Hr",
        "outputId": "3a30059b-af11-4447-e32d-319e28da78df"
      },
      "source": [
        "people = ['Chris','Susan']\n",
        "\n",
        "for name in people:\n",
        "  print(name)"
      ],
      "execution_count": null,
      "outputs": [
        {
          "output_type": "stream",
          "name": "stdout",
          "text": [
            "Chris\n",
            "Susan\n"
          ]
        }
      ]
    },
    {
      "cell_type": "code",
      "metadata": {
        "colab": {
          "base_uri": "https://localhost:8080/"
        },
        "id": "jMZYL9cV18Ki",
        "outputId": "4d71aacb-491b-4da9-ab46-7f0dd93671e3"
      },
      "source": [
        "people = ['Chris','Susan']\n",
        "\n",
        "index = 0\n",
        "while index < len(people):\n",
        "  print(people[index])\n",
        "  index=index+1"
      ],
      "execution_count": null,
      "outputs": [
        {
          "output_type": "stream",
          "name": "stdout",
          "text": [
            "Chris\n",
            "Susan\n"
          ]
        }
      ]
    },
    {
      "cell_type": "code",
      "metadata": {
        "id": "HJ03_8a918Na"
      },
      "source": [
        ""
      ],
      "execution_count": null,
      "outputs": []
    }
  ]
}
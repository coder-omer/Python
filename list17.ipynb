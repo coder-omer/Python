{
  "cells": [
    {
      "cell_type": "code",
      "execution_count": null,
      "metadata": {
        "colab": {
          "base_uri": "https://localhost:8080/"
        },
        "id": "VqgWwXI3FrEe",
        "outputId": "cf94fc24-d80b-47b7-8718-e34b2d4ca674"
      },
      "outputs": [
        {
          "name": "stdout",
          "output_type": "stream",
          "text": [
            "['four', 'nine', 'one']\n"
          ]
        }
      ],
      "source": [
        "list1 =  ['one','four','nine']\n",
        "list1.sort()\n",
        "print(list1)"
      ]
    },
    {
      "cell_type": "code",
      "execution_count": null,
      "metadata": {
        "colab": {
          "base_uri": "https://localhost:8080/"
        },
        "id": "nX96f2xBFsaU",
        "outputId": "01997b50-b408-41ab-84b6-c0b9f3b3eccb"
      },
      "outputs": [
        {
          "name": "stdout",
          "output_type": "stream",
          "text": [
            "['*-', '@', 'False']\n"
          ]
        }
      ],
      "source": [
        "list2 =  ['@','*-','False']\n",
        "list2.sort()\n",
        "print(list2)"
      ]
    },
    {
      "cell_type": "code",
      "execution_count": null,
      "metadata": {
        "colab": {
          "base_uri": "https://localhost:8080/"
        },
        "id": "DJWNVV73Fsdk",
        "outputId": "761f5aab-638a-45ea-e94c-44a1f231b62f"
      },
      "outputs": [
        {
          "name": "stdout",
          "output_type": "stream",
          "text": [
            "[False, True]\n"
          ]
        }
      ],
      "source": [
        "list3 = [True, False]\n",
        "list3.sort()\n",
        "print(list3)"
      ]
    },
    {
      "cell_type": "code",
      "execution_count": null,
      "metadata": {
        "colab": {
          "background_save": true,
          "base_uri": "https://localhost:8080/"
        },
        "id": "mebJZvsyFsgT",
        "outputId": "f78c103c-4f56-4260-db3c-55fa6f6d6372"
      },
      "outputs": [
        {
          "name": "stdout",
          "output_type": "stream",
          "text": [
            "[[-12], [3], [44]]\n"
          ]
        }
      ],
      "source": [
        "list4 =  [[3], [44] 8,3,11]\n",
        "list4.sort()\n",
        "print(list4)"
      ]
    },
    {
      "cell_type": "code",
      "execution_count": null,
      "metadata": {
        "id": "df9tozl2FtNZ"
      },
      "outputs": [],
      "source": [
        ""
      ]
    }
  ],
  "metadata": {
    "colab": {
      "name": "list17.ipynb",
      "provenance": [],
      "authorship_tag": "ABX9TyPNbWHjpXhq//23JwPCrWdz"
    },
    "kernelspec": {
      "display_name": "Python 3",
      "name": "python3"
    },
    "language_info": {
      "name": "python"
    }
  },
  "nbformat": 4,
  "nbformat_minor": 0
}
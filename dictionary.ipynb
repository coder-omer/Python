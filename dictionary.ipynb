{
  "nbformat": 4,
  "nbformat_minor": 0,
  "metadata": {
    "colab": {
      "name": "dictionary.ipynb",
      "provenance": [],
      "authorship_tag": "ABX9TyN71oRYtdNx2VLPNqduFzt8",
      "include_colab_link": true
    },
    "kernelspec": {
      "name": "python3",
      "display_name": "Python 3"
    },
    "language_info": {
      "name": "python"
    }
  },
  "cells": [
    {
      "cell_type": "markdown",
      "metadata": {
        "id": "view-in-github",
        "colab_type": "text"
      },
      "source": [
        "<a href=\"https://colab.research.google.com/github/coder-omer/Python/blob/main/dictionary.ipynb\" target=\"_parent\"><img src=\"https://colab.research.google.com/assets/colab-badge.svg\" alt=\"Open In Colab\"/></a>"
      ]
    },
    {
      "cell_type": "code",
      "metadata": {
        "id": "BH5Q791AITxK"
      },
      "source": [
        "empty_dict_1 = {}\n",
        "\n",
        "empty_dict_2 = dict()\n"
      ],
      "execution_count": null,
      "outputs": []
    },
    {
      "cell_type": "code",
      "metadata": {
        "colab": {
          "base_uri": "https://localhost:8080/"
        },
        "id": "XDzQJ7IGIWec",
        "outputId": "f0310809-d55d-4a6d-d2a1-e57b88b3ae3b"
      },
      "source": [
        "empty_dict_1 = {}\n",
        "\n",
        "print(type(empty_dict_1))"
      ],
      "execution_count": null,
      "outputs": [
        {
          "output_type": "stream",
          "name": "stdout",
          "text": [
            "<class 'dict'>\n"
          ]
        }
      ]
    },
    {
      "cell_type": "code",
      "metadata": {
        "id": "-efc8BewIWg-"
      },
      "source": [
        "my_dict = {'key1': 'value1',\n",
        "            'key2': 'value2',\n",
        "            'key3': 'value3'\n",
        "            }"
      ],
      "execution_count": null,
      "outputs": []
    },
    {
      "cell_type": "code",
      "metadata": {
        "colab": {
          "base_uri": "https://localhost:8080/"
        },
        "id": "0zpL2tHKIWjr",
        "outputId": "1ed8ecb1-8840-4cc8-d1c9-dc794a44c53b"
      },
      "source": [
        "print(my_dict)"
      ],
      "execution_count": null,
      "outputs": [
        {
          "output_type": "stream",
          "name": "stdout",
          "text": [
            "{'key1': 'value1', 'key2': 'value2', 'key3': 'value3'}\n"
          ]
        }
      ]
    },
    {
      "cell_type": "code",
      "metadata": {
        "colab": {
          "base_uri": "https://localhost:8080/"
        },
        "id": "elALmLKqIWns",
        "outputId": "6a151825-21d1-4cf3-db96-7cbe496bbfea"
      },
      "source": [
        "state_capitals = {'Arkansas': 'Little Rock',\n",
        "                  'Colorado': 'Denver',\n",
        "                  'California': 'Sacramento',\n",
        "                  'Georgia': 'Atlanta' \n",
        "                 }\n",
        "print(state_capitals['Colorado']) # accessing method"
      ],
      "execution_count": null,
      "outputs": [
        {
          "output_type": "stream",
          "name": "stdout",
          "text": [
            "Denver\n"
          ]
        }
      ]
    },
    {
      "cell_type": "code",
      "metadata": {
        "colab": {
          "base_uri": "https://localhost:8080/"
        },
        "id": "wU07WJwDIWrd",
        "outputId": "5b4c56d4-fdf0-4f8b-ec5b-833c4e452d5e"
      },
      "source": [
        "state_capitals = {'Arkansas': 'Little Rock',\n",
        "                  'Colorado': 'Denver',\n",
        "                  'California': 'Sacramento',\n",
        "                  'Georgia': 'Atlanta' \n",
        "                 }\n",
        "\n",
        "state_capitals['Virginia'] = 'Richmond' # adding a new item\n",
        "\n",
        "print(state_capitals)"
      ],
      "execution_count": null,
      "outputs": [
        {
          "output_type": "stream",
          "name": "stdout",
          "text": [
            "{'Arkansas': 'Little Rock', 'Colorado': 'Denver', 'California': 'Sacramento', 'Georgia': 'Atlanta', 'Virginia': 'Richmond'}\n"
          ]
        }
      ]
    },
    {
      "cell_type": "code",
      "metadata": {
        "colab": {
          "base_uri": "https://localhost:8080/"
        },
        "id": "DCFydRPfIWud",
        "outputId": "9568cf98-4aac-4585-caa7-355ed141b6e6"
      },
      "source": [
        "mix_values = {'animal': ('dog', 'cat'),  # tuple type\n",
        "              'planet': ['Neptun', 'Saturn', 'Jupiter'],  # list type\n",
        "              'number': 40,  # int type\n",
        "              'pi': 3.14,  # float type\n",
        "              'is_good': True}  # bool type\n",
        "\n",
        "mix_keys = {22 : \"integer\",\n",
        "            1.2 : \"float\",\n",
        "            True : \"boolean\",\n",
        "            \"key\" : \"string\"}\n",
        "\n",
        "print(mix_values)\n",
        "print(mix_keys)"
      ],
      "execution_count": null,
      "outputs": [
        {
          "output_type": "stream",
          "name": "stdout",
          "text": [
            "{'animal': ('dog', 'cat'), 'planet': ['Neptun', 'Saturn', 'Jupiter'], 'number': 40, 'pi': 3.14, 'is_good': True}\n",
            "{22: 'integer', 1.2: 'float', True: 'boolean', 'key': 'string'}\n"
          ]
        }
      ]
    },
    {
      "cell_type": "code",
      "metadata": {
        "colab": {
          "base_uri": "https://localhost:8080/"
        },
        "id": "FcFA4SRTIWxv",
        "outputId": "5c625da5-38f9-49ac-e339-ec976384f30d"
      },
      "source": [
        "dict_by_dict = dict(animal='dog', planet='neptun', number=40, pi=3.14, is_good=True)\n",
        "\n",
        "print(dict_by_dict)"
      ],
      "execution_count": null,
      "outputs": [
        {
          "output_type": "stream",
          "name": "stdout",
          "text": [
            "{'animal': 'dog', 'planet': 'neptun', 'number': 40, 'pi': 3.14, 'is_good': True}\n"
          ]
        }
      ]
    },
    {
      "cell_type": "code",
      "metadata": {
        "colab": {
          "base_uri": "https://localhost:8080/"
        },
        "id": "bjY8GuDbIWzv",
        "outputId": "9840ab47-353a-4875-cb3e-9f575dbff49e"
      },
      "source": [
        "dict_by_dict = {'animal': 'dog',\n",
        "                'planet': 'neptun',\n",
        "                'number': 40,\n",
        "                'pi': 3.14,\n",
        "                'is_good': True}\n",
        "\n",
        "print(dict_by_dict.items(), '\\n')\n",
        "print(dict_by_dict.keys(), '\\n')\n",
        "print(dict_by_dict.values())"
      ],
      "execution_count": null,
      "outputs": [
        {
          "output_type": "stream",
          "name": "stdout",
          "text": [
            "dict_items([('animal', 'dog'), ('planet', 'neptun'), ('number', 40), ('pi', 3.14), ('is_good', True)]) \n",
            "\n",
            "dict_keys(['animal', 'planet', 'number', 'pi', 'is_good']) \n",
            "\n",
            "dict_values(['dog', 'neptun', 40, 3.14, True])\n"
          ]
        }
      ]
    },
    {
      "cell_type": "code",
      "metadata": {
        "colab": {
          "base_uri": "https://localhost:8080/"
        },
        "id": "EZAuUS-IIW2c",
        "outputId": "0451eb78-2d4b-4179-ef4c-0dd6377dac94"
      },
      "source": [
        "dict_by_dict = {'animal': 'dog',\n",
        "                'planet': 'neptun',\n",
        "                'number': 40,\n",
        "                'pi': 3.14,\n",
        "                'is_good': True}\n",
        "\n",
        "dict_by_dict.update({'is_bad': False})\n",
        "\n",
        "print(dict_by_dict)"
      ],
      "execution_count": null,
      "outputs": [
        {
          "output_type": "stream",
          "name": "stdout",
          "text": [
            "{'animal': 'dog', 'planet': 'neptun', 'number': 40, 'pi': 3.14, 'is_good': True, 'is_bad': False}\n"
          ]
        }
      ]
    },
    {
      "cell_type": "code",
      "metadata": {
        "colab": {
          "base_uri": "https://localhost:8080/"
        },
        "id": "pHPA8zeTIW49",
        "outputId": "944e7c5e-f0f6-4a06-c7cf-80d1eaef806f"
      },
      "source": [
        "dict_by_dict = {'animal': 'dog',\n",
        "               'planet': 'neptun',\n",
        "               'number': 40,\n",
        "               'pi': 3.14,\n",
        "               'is_good': True,\n",
        "               'is_bad': False}\n",
        "\n",
        "del dict_by_dict['animal']\n",
        "\n",
        "print(dict_by_dict) "
      ],
      "execution_count": null,
      "outputs": [
        {
          "output_type": "stream",
          "name": "stdout",
          "text": [
            "{'planet': 'neptun', 'number': 40, 'pi': 3.14, 'is_good': True, 'is_bad': False}\n"
          ]
        }
      ]
    },
    {
      "cell_type": "code",
      "metadata": {
        "colab": {
          "base_uri": "https://localhost:8080/"
        },
        "id": "DFf3hAwSIW7v",
        "outputId": "2f4768db-e954-4c1d-dfc0-71471282b38c"
      },
      "source": [
        "dict_by_dict = {'planet': 'neptun',\n",
        "               'number': 40,\n",
        "               'pi': 3.14,\n",
        "               'is_good': True,\n",
        "               'is_bad': False}\n",
        "\n",
        "print('pi' in dict_by_dict) \n",
        "print('animal' not in dict_by_dict)  # remember, we have deleted 'animal'"
      ],
      "execution_count": null,
      "outputs": [
        {
          "output_type": "stream",
          "name": "stdout",
          "text": [
            "True\n",
            "True\n"
          ]
        }
      ]
    },
    {
      "cell_type": "code",
      "metadata": {
        "colab": {
          "base_uri": "https://localhost:8080/"
        },
        "id": "2ZvzxGLeIW-z",
        "outputId": "138a7d15-374d-4db2-cd83-9fcd4bd0bb57"
      },
      "source": [
        "student_ages = {\"Harry\": 29,\n",
        "                \"Clark\": 32,\n",
        "                \"Peter\": 22,\n",
        "                \"Bruce\": 36\n",
        "                }\n",
        "print(student_ages.values())"
      ],
      "execution_count": null,
      "outputs": [
        {
          "output_type": "stream",
          "name": "stdout",
          "text": [
            "dict_values([29, 32, 22, 36])\n"
          ]
        }
      ]
    },
    {
      "cell_type": "code",
      "metadata": {
        "colab": {
          "base_uri": "https://localhost:8080/"
        },
        "id": "x8W31h53IXCS",
        "outputId": "c022066e-237d-4a7b-d7e8-8f355d0a7616"
      },
      "source": [
        "student_ages = {\"Harry\": 29,\n",
        "                \"Clark\": 32,\n",
        "                \"Peter\": 22,\n",
        "                \"Bruce\": 36\n",
        "                }\n",
        "print(student_ages[\"Clark\"])"
      ],
      "execution_count": null,
      "outputs": [
        {
          "output_type": "stream",
          "name": "stdout",
          "text": [
            "32\n"
          ]
        }
      ]
    },
    {
      "cell_type": "code",
      "metadata": {
        "id": "uClAN16RIXji"
      },
      "source": [
        ""
      ],
      "execution_count": null,
      "outputs": []
    },
    {
      "cell_type": "code",
      "metadata": {
        "id": "62kz2UC8IXmQ"
      },
      "source": [
        ""
      ],
      "execution_count": null,
      "outputs": []
    },
    {
      "cell_type": "code",
      "metadata": {
        "id": "edXP4BScIXpH"
      },
      "source": [
        ""
      ],
      "execution_count": null,
      "outputs": []
    },
    {
      "cell_type": "code",
      "metadata": {
        "id": "WOGBvUCvIXsF"
      },
      "source": [
        ""
      ],
      "execution_count": null,
      "outputs": []
    }
  ]
}
{
  "cells": [
    {
      "cell_type": "code",
      "execution_count": null,
      "id": "ec16cc90",
      "metadata": {
        "id": "ec16cc90"
      },
      "outputs": [],
      "source": [
        "command = [\"right 20\", \"right 30\", \"left 50\", \"up 10\", \"down 20\"]"
      ]
    },
    {
      "cell_type": "code",
      "execution_count": null,
      "id": "29bd2c1a",
      "metadata": {
        "id": "29bd2c1a",
        "outputId": "a1f1a431-7a45-4697-883e-df171582230b"
      },
      "outputs": [
        {
          "data": {
            "text/plain": [
              "['right 20', 'right 30', 'left 50', 'up 10', 'down 20']"
            ]
          },
          "execution_count": 2,
          "metadata": {},
          "output_type": "execute_result"
        }
      ],
      "source": [
        "command"
      ]
    },
    {
      "cell_type": "code",
      "execution_count": null,
      "id": "1aa9feb7",
      "metadata": {
        "id": "1aa9feb7"
      },
      "outputs": [],
      "source": [
        "x = y = 0"
      ]
    },
    {
      "cell_type": "code",
      "execution_count": null,
      "id": "5421511a",
      "metadata": {
        "id": "5421511a"
      },
      "outputs": [],
      "source": [
        "# [x, y]"
      ]
    },
    {
      "cell_type": "code",
      "execution_count": null,
      "id": "dc87c14a",
      "metadata": {
        "id": "dc87c14a",
        "outputId": "f91f23d9-ec0e-4393-ca57-88158fe42d4c"
      },
      "outputs": [
        {
          "data": {
            "text/plain": [
              "'down 20'"
            ]
          },
          "execution_count": 5,
          "metadata": {},
          "output_type": "execute_result"
        }
      ],
      "source": [
        "command[-1]"
      ]
    },
    {
      "cell_type": "code",
      "execution_count": null,
      "id": "53ad02f2",
      "metadata": {
        "id": "53ad02f2",
        "outputId": "0006cb62-b1ee-4d91-92cc-8347e92927ba"
      },
      "outputs": [
        {
          "data": {
            "text/plain": [
              "5"
            ]
          },
          "execution_count": 6,
          "metadata": {},
          "output_type": "execute_result"
        }
      ],
      "source": [
        "len(command)"
      ]
    },
    {
      "cell_type": "code",
      "execution_count": null,
      "id": "622edb21",
      "metadata": {
        "id": "622edb21",
        "outputId": "a227e1f3-5b64-4f06-fc9d-86f6fd50dad5"
      },
      "outputs": [
        {
          "data": {
            "text/plain": [
              "['down', '20']"
            ]
          },
          "execution_count": 7,
          "metadata": {},
          "output_type": "execute_result"
        }
      ],
      "source": [
        "command[-1].split()"
      ]
    },
    {
      "cell_type": "code",
      "execution_count": null,
      "id": "5a6b0b69",
      "metadata": {
        "id": "5a6b0b69",
        "outputId": "618b218c-4cb9-4c8b-eed2-33f01b383b1c"
      },
      "outputs": [
        {
          "data": {
            "text/plain": [
              "'right 20'"
            ]
          },
          "execution_count": 8,
          "metadata": {},
          "output_type": "execute_result"
        }
      ],
      "source": [
        "command[0]"
      ]
    },
    {
      "cell_type": "code",
      "execution_count": null,
      "id": "b5a917d1",
      "metadata": {
        "id": "b5a917d1",
        "outputId": "9a886f95-decd-4502-f91b-946d90361671"
      },
      "outputs": [
        {
          "data": {
            "text/plain": [
              "'20'"
            ]
          },
          "execution_count": 10,
          "metadata": {},
          "output_type": "execute_result"
        }
      ],
      "source": [
        "command[0].split()[1]"
      ]
    },
    {
      "cell_type": "code",
      "execution_count": null,
      "id": "e06e985d",
      "metadata": {
        "id": "e06e985d",
        "outputId": "96b0db35-8d35-4e8b-e578-fe2f6cca5e50"
      },
      "outputs": [
        {
          "data": {
            "text/plain": [
              "str"
            ]
          },
          "execution_count": 11,
          "metadata": {},
          "output_type": "execute_result"
        }
      ],
      "source": [
        "type(command[0].split()[1])"
      ]
    },
    {
      "cell_type": "code",
      "execution_count": null,
      "id": "62cd09f2",
      "metadata": {
        "id": "62cd09f2",
        "outputId": "d6800cae-f93b-4b51-ee07-67bc0fcbc72a"
      },
      "outputs": [
        {
          "data": {
            "text/plain": [
              "[0, -10]"
            ]
          },
          "execution_count": 12,
          "metadata": {},
          "output_type": "execute_result"
        }
      ],
      "source": [
        "for i in range(len(command)) :\n",
        "    if command[i].startswith(\"r\") : x = x + int(command[i].split()[1]) \n",
        "    elif command[i].startswith(\"l\") : x = x - int(command[i].split()[1])\n",
        "    elif command[i].startswith(\"u\") : y = y + int(command[i].split()[1])\n",
        "    elif command[i].startswith(\"d\") : y = y - int(command[i].split()[1])\n",
        "        \n",
        "[x, y]"
      ]
    },
    {
      "cell_type": "markdown",
      "id": "b59a20ba",
      "metadata": {
        "id": "b59a20ba"
      },
      "source": [
        "## Valid Paranthesis"
      ]
    },
    {
      "cell_type": "markdown",
      "id": "ddf89ac8",
      "metadata": {
        "id": "ddf89ac8"
      },
      "source": [
        "```\n",
        "Input        Output\n",
        "--------:    ------:\n",
        "\"()\"         True\n",
        "\"()[]{}\"     True\n",
        "\"(]\"         False\n",
        "\"([)]\"       False\n",
        "\"{[]}\"       True\n",
        "\"\"           True\n",
        "```"
      ]
    },
    {
      "cell_type": "code",
      "execution_count": null,
      "id": "988f25a8",
      "metadata": {
        "id": "988f25a8"
      },
      "outputs": [],
      "source": [
        "\"([{({})}]({}))\""
      ]
    },
    {
      "cell_type": "code",
      "execution_count": null,
      "id": "1abf0e05",
      "metadata": {
        "id": "1abf0e05"
      },
      "outputs": [],
      "source": [
        "\"([{()}]())\""
      ]
    },
    {
      "cell_type": "code",
      "execution_count": null,
      "id": "27aaab59",
      "metadata": {
        "id": "27aaab59"
      },
      "outputs": [],
      "source": [
        "\"([{}])\""
      ]
    },
    {
      "cell_type": "code",
      "execution_count": null,
      "id": "89220672",
      "metadata": {
        "id": "89220672"
      },
      "outputs": [],
      "source": [
        "\"([])\""
      ]
    },
    {
      "cell_type": "code",
      "execution_count": null,
      "id": "54f8b52e",
      "metadata": {
        "id": "54f8b52e"
      },
      "outputs": [],
      "source": [
        "\"()\""
      ]
    },
    {
      "cell_type": "code",
      "execution_count": null,
      "id": "dfc4c8fe",
      "metadata": {
        "id": "dfc4c8fe"
      },
      "outputs": [],
      "source": [
        "\"\""
      ]
    },
    {
      "cell_type": "code",
      "execution_count": null,
      "id": "bd67c9b9",
      "metadata": {
        "id": "bd67c9b9"
      },
      "outputs": [],
      "source": [
        "\"[([{({})}]({}))\""
      ]
    },
    {
      "cell_type": "code",
      "execution_count": null,
      "id": "2c0328b2",
      "metadata": {
        "id": "2c0328b2"
      },
      "outputs": [],
      "source": [
        "\"[\""
      ]
    },
    {
      "cell_type": "code",
      "execution_count": null,
      "id": "6d279b03",
      "metadata": {
        "id": "6d279b03"
      },
      "outputs": [],
      "source": [
        "x = \"[([{({})}]({}))\""
      ]
    },
    {
      "cell_type": "code",
      "execution_count": null,
      "id": "d5f18dcf",
      "metadata": {
        "id": "d5f18dcf",
        "outputId": "fd886301-d55f-4228-ba76-371bd51de330"
      },
      "outputs": [
        {
          "data": {
            "text/plain": [
              "'ali+deli+veli'"
            ]
          },
          "execution_count": 14,
          "metadata": {},
          "output_type": "execute_result"
        }
      ],
      "source": [
        "\"ali-deli-veli\".replace(\"-\", \"+\")"
      ]
    },
    {
      "cell_type": "code",
      "execution_count": null,
      "id": "a63a4322",
      "metadata": {
        "id": "a63a4322",
        "outputId": "d81af8c3-471a-4807-9052-0e14f45ac0eb"
      },
      "outputs": [
        {
          "data": {
            "text/plain": [
              "'ldelvel'"
            ]
          },
          "execution_count": 17,
          "metadata": {},
          "output_type": "execute_result"
        }
      ],
      "source": [
        "\"ali-deli-veli\".replace(\"-\", \"\").replace(\"a\", \"\").replace(\"i\", \"\")"
      ]
    },
    {
      "cell_type": "code",
      "execution_count": null,
      "id": "31a69d29",
      "metadata": {
        "id": "31a69d29"
      },
      "outputs": [],
      "source": [
        "def isValid(s) :\n",
        "    while \"()\" in s or \"[]\" in s or \"{}\" in s :\n",
        "        s = s.replace(\"()\", \"\").replace(\"[]\", \"\").replace(\"{}\", \"\")\n",
        "    return s == \"\""
      ]
    },
    {
      "cell_type": "code",
      "execution_count": null,
      "id": "2ab8efc3",
      "metadata": {
        "id": "2ab8efc3",
        "outputId": "2f6123a1-49ed-44ce-d07b-fe2fd0caf8c8"
      },
      "outputs": [
        {
          "data": {
            "text/plain": [
              "False"
            ]
          },
          "execution_count": 19,
          "metadata": {},
          "output_type": "execute_result"
        }
      ],
      "source": [
        "isValid(x)"
      ]
    },
    {
      "cell_type": "markdown",
      "id": "372fe9ce",
      "metadata": {
        "id": "372fe9ce"
      },
      "source": [
        "## Building a Calculator using `dict` with `lambda` Expression"
      ]
    },
    {
      "cell_type": "code",
      "execution_count": null,
      "id": "46bdeaec",
      "metadata": {
        "id": "46bdeaec",
        "outputId": "d74b0e98-cf65-44ba-ae28-d3d225bf3e77"
      },
      "outputs": [
        {
          "data": {
            "text/plain": [
              "9"
            ]
          },
          "execution_count": 20,
          "metadata": {},
          "output_type": "execute_result"
        }
      ],
      "source": [
        "(lambda x, y : x + y)(4, 5)"
      ]
    },
    {
      "cell_type": "code",
      "execution_count": null,
      "id": "f9d29c67",
      "metadata": {
        "id": "f9d29c67"
      },
      "outputs": [],
      "source": [
        "bir_dikşinıri = {\"ne_diyorum\" : \"sesimi_duy\",\n",
        "                 \"neden\" : [\"bilmiyorum\"]}"
      ]
    },
    {
      "cell_type": "code",
      "execution_count": null,
      "id": "d462988a",
      "metadata": {
        "id": "d462988a",
        "outputId": "905f9727-5aa3-4bff-d47a-db716a746afa"
      },
      "outputs": [
        {
          "data": {
            "text/plain": [
              "['bilmiyorum']"
            ]
          },
          "execution_count": 22,
          "metadata": {},
          "output_type": "execute_result"
        }
      ],
      "source": [
        "bir_dikşinıri[\"neden\"]"
      ]
    },
    {
      "cell_type": "code",
      "execution_count": null,
      "id": "1553b6cb",
      "metadata": {
        "id": "1553b6cb",
        "outputId": "000602e8-eaf2-4b04-b714-6611e475a803"
      },
      "outputs": [
        {
          "data": {
            "text/plain": [
              "<function __main__.<lambda>(x, y)>"
            ]
          },
          "execution_count": 26,
          "metadata": {},
          "output_type": "execute_result"
        }
      ],
      "source": [
        "(lambda x, y : x + y)"
      ]
    },
    {
      "cell_type": "code",
      "execution_count": null,
      "id": "0d159161",
      "metadata": {
        "id": "0d159161"
      },
      "outputs": [],
      "source": [
        "calculator = {\"+\" : (lambda x, y : x + y),\n",
        "              \"-\" : (lambda x, y : x - y),\n",
        "              \"*\" : (lambda x, y : x * y),\n",
        "              \"/\" : (lambda x, y : x / y)}"
      ]
    },
    {
      "cell_type": "code",
      "execution_count": null,
      "id": "4623b7e2",
      "metadata": {
        "id": "4623b7e2",
        "outputId": "dd5883d3-fce3-4701-e3e2-c460dd4540e4"
      },
      "outputs": [
        {
          "data": {
            "text/plain": [
              "<function __main__.<lambda>(x, y)>"
            ]
          },
          "execution_count": 25,
          "metadata": {},
          "output_type": "execute_result"
        }
      ],
      "source": [
        "calculator[\"+\"]"
      ]
    },
    {
      "cell_type": "code",
      "execution_count": null,
      "id": "cbcc3086",
      "metadata": {
        "id": "cbcc3086",
        "outputId": "fb293dc2-61bc-4fd4-a262-e4480d6b9b0d"
      },
      "outputs": [
        {
          "data": {
            "text/plain": [
              "9"
            ]
          },
          "execution_count": 27,
          "metadata": {},
          "output_type": "execute_result"
        }
      ],
      "source": [
        "calculator[\"+\"](4, 5)"
      ]
    },
    {
      "cell_type": "code",
      "execution_count": null,
      "id": "88629665",
      "metadata": {
        "id": "88629665",
        "outputId": "8aa7aa31-64f9-4b39-fbab-07f2c3523db0"
      },
      "outputs": [
        {
          "data": {
            "text/plain": [
              "10.0"
            ]
          },
          "execution_count": 28,
          "metadata": {},
          "output_type": "execute_result"
        }
      ],
      "source": [
        "calculator[\"/\"](20, 2)"
      ]
    },
    {
      "cell_type": "code",
      "execution_count": null,
      "id": "5d7428db",
      "metadata": {
        "id": "5d7428db"
      },
      "outputs": [],
      "source": [
        "import random"
      ]
    },
    {
      "cell_type": "code",
      "execution_count": null,
      "id": "8c0874cd",
      "metadata": {
        "id": "8c0874cd",
        "outputId": "986d3c2d-3f6b-4e6d-b580-9fb0d8314d93"
      },
      "outputs": [
        {
          "data": {
            "text/plain": [
              "24"
            ]
          },
          "execution_count": 30,
          "metadata": {},
          "output_type": "execute_result"
        }
      ],
      "source": [
        "random.randint(10,30)"
      ]
    },
    {
      "cell_type": "code",
      "execution_count": null,
      "id": "8c9fdcf2",
      "metadata": {
        "id": "8c9fdcf2",
        "outputId": "5c85dbc8-f90d-4e80-afa9-75d7a6af005f"
      },
      "outputs": [
        {
          "data": {
            "text/plain": [
              "'o'"
            ]
          },
          "execution_count": 33,
          "metadata": {},
          "output_type": "execute_result"
        }
      ],
      "source": [
        "chr(111)"
      ]
    },
    {
      "cell_type": "code",
      "execution_count": null,
      "id": "05393cf9",
      "metadata": {
        "id": "05393cf9",
        "outputId": "bc8bfc37-503e-4b7f-92c8-32af8f84fa14"
      },
      "outputs": [
        {
          "data": {
            "text/plain": [
              "'W'"
            ]
          },
          "execution_count": 35,
          "metadata": {},
          "output_type": "execute_result"
        }
      ],
      "source": [
        "chr(random.randint(65, 90))"
      ]
    },
    {
      "cell_type": "code",
      "execution_count": null,
      "id": "be0905e2",
      "metadata": {
        "id": "be0905e2",
        "outputId": "3e76034a-b013-47c8-e0d8-267500346c82"
      },
      "outputs": [
        {
          "data": {
            "text/plain": [
              "'i'"
            ]
          },
          "execution_count": 36,
          "metadata": {},
          "output_type": "execute_result"
        }
      ],
      "source": [
        "chr(random.randint(97, 122))"
      ]
    },
    {
      "cell_type": "code",
      "execution_count": null,
      "id": "d6642732",
      "metadata": {
        "id": "d6642732",
        "outputId": "cf06e81c-499f-4a53-edc9-d3532face7c7"
      },
      "outputs": [
        {
          "data": {
            "text/plain": [
              "'2'"
            ]
          },
          "execution_count": 37,
          "metadata": {},
          "output_type": "execute_result"
        }
      ],
      "source": [
        "chr(random.randint(48, 57))"
      ]
    },
    {
      "cell_type": "code",
      "execution_count": null,
      "id": "d72bc36f",
      "metadata": {
        "id": "d72bc36f"
      },
      "outputs": [],
      "source": [
        "chr(random.randint(65, 90))"
      ]
    },
    {
      "cell_type": "code",
      "execution_count": null,
      "id": "33983294",
      "metadata": {
        "id": "33983294",
        "outputId": "7ffd1094-5e49-4048-c8e6-5ec02a98ddc6"
      },
      "outputs": [
        {
          "data": {
            "text/plain": [
              "','"
            ]
          },
          "execution_count": 38,
          "metadata": {},
          "output_type": "execute_result"
        }
      ],
      "source": [
        "chr(random.randint(33, 47))"
      ]
    },
    {
      "cell_type": "code",
      "execution_count": null,
      "id": "dc891ae1",
      "metadata": {
        "id": "dc891ae1",
        "outputId": "87592624-163b-4be1-a33e-040e47bf010d"
      },
      "outputs": [
        {
          "data": {
            "text/plain": [
              "';'"
            ]
          },
          "execution_count": 39,
          "metadata": {},
          "output_type": "execute_result"
        }
      ],
      "source": [
        "chr(random.randint(58, 64))"
      ]
    },
    {
      "cell_type": "code",
      "execution_count": null,
      "id": "532da5e8",
      "metadata": {
        "id": "532da5e8",
        "outputId": "ec63859f-2079-43a2-f26e-563289c497d9"
      },
      "outputs": [
        {
          "data": {
            "text/plain": [
              "['U', 'P', 'Q']"
            ]
          },
          "execution_count": 43,
          "metadata": {},
          "output_type": "execute_result"
        }
      ],
      "source": [
        "uppers = [chr(random.randint(65, 90)) for i in range(3)]\n",
        "uppers"
      ]
    },
    {
      "cell_type": "code",
      "execution_count": null,
      "id": "e0697f67",
      "metadata": {
        "id": "e0697f67",
        "outputId": "13c5cf5f-a044-48a8-9471-7cc7e1e93b47"
      },
      "outputs": [
        {
          "data": {
            "text/plain": [
              "['g', 'y', 'm']"
            ]
          },
          "execution_count": 47,
          "metadata": {},
          "output_type": "execute_result"
        }
      ],
      "source": [
        "lowers = [chr(random.randint(97, 122)) for i in range(3)]\n",
        "lowers"
      ]
    },
    {
      "cell_type": "code",
      "execution_count": null,
      "id": "e06fe676",
      "metadata": {
        "id": "e06fe676",
        "outputId": "d4847e62-a3a1-49d8-a098-b8aa868fa948"
      },
      "outputs": [
        {
          "data": {
            "text/plain": [
              "['9', '6', '6']"
            ]
          },
          "execution_count": 50,
          "metadata": {},
          "output_type": "execute_result"
        }
      ],
      "source": [
        "numbers = [chr(random.randint(48,57)) for i in range(3)]\n",
        "numbers"
      ]
    },
    {
      "cell_type": "code",
      "execution_count": null,
      "id": "1a02c3da",
      "metadata": {
        "id": "1a02c3da",
        "outputId": "2993e0ef-f4fb-45dd-bd9b-5a2c9c9e0c01"
      },
      "outputs": [
        {
          "data": {
            "text/plain": [
              "')>'"
            ]
          },
          "execution_count": 53,
          "metadata": {},
          "output_type": "execute_result"
        }
      ],
      "source": [
        "chars = chr(random.randint(33,47))+chr(random.randint(58,64))\n",
        "chars"
      ]
    },
    {
      "cell_type": "code",
      "execution_count": null,
      "id": "42ccdf65",
      "metadata": {
        "id": "42ccdf65",
        "outputId": "0581bb0e-9ccb-40d7-95d9-d79f678f899c"
      },
      "outputs": [
        {
          "data": {
            "text/plain": [
              "'966'"
            ]
          },
          "execution_count": 59,
          "metadata": {},
          "output_type": "execute_result"
        }
      ],
      "source": [
        "\"\".join(numbers)"
      ]
    },
    {
      "cell_type": "code",
      "execution_count": null,
      "id": "c573e699",
      "metadata": {
        "id": "c573e699",
        "outputId": "8f328bee-5e94-4191-e108-74cbf27f7e71"
      },
      "outputs": [
        {
          "data": {
            "text/plain": [
              "'UPQgym966)>'"
            ]
          },
          "execution_count": 60,
          "metadata": {},
          "output_type": "execute_result"
        }
      ],
      "source": [
        "passw = \"\".join(uppers) + \"\".join(lowers) + \"\".join(numbers) + \"\".join(chars)\n",
        "passw"
      ]
    },
    {
      "cell_type": "code",
      "execution_count": null,
      "id": "d37496c9",
      "metadata": {
        "id": "d37496c9"
      },
      "outputs": [],
      "source": [
        "ornek = \"alivelideli\""
      ]
    },
    {
      "cell_type": "code",
      "execution_count": null,
      "id": "d651bb7d",
      "metadata": {
        "id": "d651bb7d"
      },
      "outputs": [],
      "source": [
        "random.shuffle()"
      ]
    },
    {
      "cell_type": "code",
      "execution_count": null,
      "id": "a7cd2732",
      "metadata": {
        "id": "a7cd2732"
      },
      "outputs": [],
      "source": [
        "ornek_list = list(ornek)"
      ]
    },
    {
      "cell_type": "code",
      "execution_count": null,
      "id": "9e3633ea",
      "metadata": {
        "id": "9e3633ea",
        "outputId": "2859e9fb-8d90-435d-aecf-a8778e35aa40"
      },
      "outputs": [
        {
          "data": {
            "text/plain": [
              "['a', 'l', 'i', 'v', 'e', 'l', 'i', 'd', 'e', 'l', 'i']"
            ]
          },
          "execution_count": 66,
          "metadata": {},
          "output_type": "execute_result"
        }
      ],
      "source": [
        "ornek_list"
      ]
    },
    {
      "cell_type": "code",
      "execution_count": null,
      "id": "7ce3b9fe",
      "metadata": {
        "id": "7ce3b9fe"
      },
      "outputs": [],
      "source": [
        "random.shuffle(ornek_list)"
      ]
    },
    {
      "cell_type": "code",
      "execution_count": null,
      "id": "eac62ee8",
      "metadata": {
        "id": "eac62ee8",
        "outputId": "5f274f3c-253b-4259-ad0c-75ac760b00e7"
      },
      "outputs": [
        {
          "data": {
            "text/plain": [
              "['e', 'l', 'i', 'i', 'l', 'v', 'd', 'i', 'e', 'a', 'l']"
            ]
          },
          "execution_count": 68,
          "metadata": {},
          "output_type": "execute_result"
        }
      ],
      "source": [
        "ornek_list"
      ]
    },
    {
      "cell_type": "code",
      "execution_count": null,
      "id": "39b0d122",
      "metadata": {
        "id": "39b0d122",
        "outputId": "6fcc0d4c-a37c-48ec-c986-54c6a494e065"
      },
      "outputs": [
        {
          "data": {
            "text/plain": [
              "'eliilvdieal'"
            ]
          },
          "execution_count": 72,
          "metadata": {},
          "output_type": "execute_result"
        }
      ],
      "source": [
        "\"\".join(ornek_list)"
      ]
    },
    {
      "cell_type": "code",
      "execution_count": null,
      "id": "4fbd78f7",
      "metadata": {
        "id": "4fbd78f7"
      },
      "outputs": [],
      "source": [
        "def karıştır(password) :\n",
        "    templist = list(password)\n",
        "    random.shuffle(templist)\n",
        "    return \"\".join(templist)"
      ]
    },
    {
      "cell_type": "code",
      "execution_count": null,
      "id": "c925dc30",
      "metadata": {
        "id": "c925dc30",
        "outputId": "0be80b9b-c5c5-41d9-fa38-29a748ff4321"
      },
      "outputs": [
        {
          "data": {
            "text/plain": [
              "'y)9U6gQ>m6P'"
            ]
          },
          "execution_count": 76,
          "metadata": {},
          "output_type": "execute_result"
        }
      ],
      "source": [
        "passw = karıştır(passw)\n",
        "passw"
      ]
    },
    {
      "cell_type": "code",
      "execution_count": null,
      "id": "08145161",
      "metadata": {
        "id": "08145161"
      },
      "outputs": [],
      "source": [
        "from timeit import timeit"
      ]
    },
    {
      "cell_type": "code",
      "execution_count": null,
      "id": "0a83dea1",
      "metadata": {
        "id": "0a83dea1"
      },
      "outputs": [],
      "source": [
        "def for_loop() :\n",
        "    \n",
        "    result = []\n",
        "    \n",
        "    for i in range(1000000) :\n",
        "        result.append(i)\n",
        "    return result"
      ]
    },
    {
      "cell_type": "code",
      "execution_count": null,
      "id": "8d7a4807",
      "metadata": {
        "id": "8d7a4807"
      },
      "outputs": [],
      "source": [
        "def list_comp() :\n",
        "    return [i for i in range(1000000)]"
      ]
    },
    {
      "cell_type": "code",
      "execution_count": null,
      "id": "9edd634b",
      "metadata": {
        "id": "9edd634b"
      },
      "outputs": [],
      "source": [
        "#size = 100\n",
        "\n",
        "time_for = timeit(for_loop, number = size)\n",
        "time_list_comp = timeit(list_comp, number = size)"
      ]
    },
    {
      "cell_type": "code",
      "execution_count": null,
      "id": "2aabdb04",
      "metadata": {
        "id": "2aabdb04",
        "outputId": "d2a3ef7c-8ba5-4053-c7b9-2300bf53edee"
      },
      "outputs": [
        {
          "name": "stdout",
          "output_type": "stream",
          "text": [
            "List Comp. is 1.57 times faster than for loops.\n"
          ]
        }
      ],
      "source": [
        "print(f\"List Comp. is {round(time_for/time_list_comp, 2)} times faster than for loops.\")"
      ]
    },
    {
      "cell_type": "code",
      "execution_count": null,
      "id": "1f475dc3",
      "metadata": {
        "id": "1f475dc3"
      },
      "outputs": [],
      "source": [
        ""
      ]
    },
    {
      "cell_type": "code",
      "execution_count": null,
      "id": "202c2e23",
      "metadata": {
        "id": "202c2e23"
      },
      "outputs": [],
      "source": [
        ""
      ]
    }
  ],
  "metadata": {
    "kernelspec": {
      "display_name": "Python 3",
      "language": "python",
      "name": "python3"
    },
    "language_info": {
      "codemirror_mode": {
        "name": "ipython",
        "version": 3
      },
      "file_extension": ".py",
      "mimetype": "text/x-python",
      "name": "python",
      "nbconvert_exporter": "python",
      "pygments_lexer": "ipython3",
      "version": "3.8.8"
    },
    "colab": {
      "name": "20_PythonBasic_09-December-2021.ipynb",
      "provenance": []
    }
  },
  "nbformat": 4,
  "nbformat_minor": 5
}
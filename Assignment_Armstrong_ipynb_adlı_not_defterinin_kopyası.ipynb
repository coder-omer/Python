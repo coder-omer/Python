{
  "nbformat": 4,
  "nbformat_minor": 0,
  "metadata": {
    "colab": {
      "name": "Assignment_Armstrong.ipynb adlı not defterinin kopyası",
      "provenance": [],
      "authorship_tag": "ABX9TyNKrK6ybBwokqg9SPFymKei"
    },
    "kernelspec": {
      "name": "python3",
      "display_name": "Python 3"
    },
    "language_info": {
      "name": "python"
    }
  },
  "cells": [
    {
      "cell_type": "code",
      "metadata": {
        "colab": {
          "base_uri": "https://localhost:8080/"
        },
        "id": "FJ42G031q0X9",
        "outputId": "87774f73-c819-4666-8b8d-65e3cbc249b0"
      },
      "source": [
        "number = input(\"Enter a positive integer number please :  \")\n",
        "nod = len(str(number))\n",
        "sum = 0\n",
        "sum_npowers = 0\n",
        "\n",
        "for i in str(number):\n",
        "  sum += int(i)\n",
        "  sum_npowers += (pow(int(i), nod))\n",
        "\n",
        "\n",
        "\n",
        "print('number of digits= ', nod)\n",
        "print('sum of digits', sum)\n",
        "print('sum of the nth powers of its digits is', sum_npowers)"
      ],
      "execution_count": null,
      "outputs": [
        {
          "output_type": "stream",
          "name": "stdout",
          "text": [
            "Enter a positive integer number please :  93084\n",
            "number of digits=  5\n",
            "sum of digits 24\n",
            "sum of the nth powers of its digits is 93084\n"
          ]
        }
      ]
    },
    {
      "cell_type": "code",
      "metadata": {
        "colab": {
          "base_uri": "https://localhost:8080/"
        },
        "id": "waBHXkEWq0zy",
        "outputId": "86d4aa16-0cf9-4b68-f6be-b26afcc4e9c1"
      },
      "source": [
        "number = input(\"Enter a positive integer number please : \")\n",
        "try:\n",
        "  number = int(number) \n",
        "  if number < 0:\n",
        "    print(\"It is an invalid entry. Don't use non-numeric, float, or negative values!\")\n",
        "\n",
        "  elif number >= 0:\n",
        "     nod = len(str(number))\n",
        "     sum = 0\n",
        "\n",
        "     for i in str(number):\n",
        "       sum += (pow(int(i), nod))\n",
        "\n",
        "     if number == sum:\n",
        "       print(\"{} is an Amstrong number\".format(number))\n",
        "     else:\n",
        "       print(\"{} is not an Amstrong number\".format(number))\n",
        " \n",
        "except ValueError:\n",
        "  try:\n",
        "    number = float(number)\n",
        "    print(\"Input is a float  number. Number = \", number)\n",
        "  except ValueError:\n",
        "    print(\"It is an invalid entry. Don't use non-numeric, float, or negative values!\")\n"
      ],
      "execution_count": null,
      "outputs": [
        {
          "output_type": "stream",
          "name": "stdout",
          "text": [
            "Enter a positive integer number please : 371\n",
            "371 is an Amstrong number\n"
          ]
        }
      ]
    },
    {
      "cell_type": "code",
      "metadata": {
        "colab": {
          "base_uri": "https://localhost:8080/"
        },
        "id": "pbDB2JHZGDdP",
        "outputId": "ed26c024-f740-4c63-cc6d-e73e012efb7f"
      },
      "source": [
        "a=1.4\n",
        "print(type(a)==float)"
      ],
      "execution_count": null,
      "outputs": [
        {
          "output_type": "stream",
          "name": "stdout",
          "text": [
            "True\n"
          ]
        }
      ]
    },
    {
      "cell_type": "code",
      "metadata": {
        "id": "lYBrGp3YGDgt"
      },
      "source": [
        ""
      ],
      "execution_count": null,
      "outputs": []
    },
    {
      "cell_type": "code",
      "metadata": {
        "colab": {
          "base_uri": "https://localhost:8080/"
        },
        "id": "VIn3GP6KGDnP",
        "outputId": "47a14ccf-1378-41c2-eb7a-c70f8ec97372"
      },
      "source": [
        "number = input(\"Enter a positive integer number please :  \")\n",
        "\n",
        "print(type(a)==float)"
      ],
      "execution_count": null,
      "outputs": [
        {
          "output_type": "stream",
          "name": "stdout",
          "text": [
            "Enter a positive integer number please :  14.8\n",
            "True\n"
          ]
        }
      ]
    },
    {
      "cell_type": "code",
      "metadata": {
        "id": "BNW4lOZwGD2s"
      },
      "source": [
        ""
      ],
      "execution_count": null,
      "outputs": []
    },
    {
      "cell_type": "code",
      "metadata": {
        "id": "VL_NWntYq05g"
      },
      "source": [
        "try:\n",
        "  number = int(number)\n",
        "except ValueError:\n",
        "    print(\"Sorry, that's not a valid integer\")"
      ],
      "execution_count": null,
      "outputs": []
    },
    {
      "cell_type": "code",
      "metadata": {
        "colab": {
          "base_uri": "https://localhost:8080/"
        },
        "id": "AmDjlYa9q08Q",
        "outputId": "2d7902f2-1a13-48cd-bb5b-f9227ada0b21"
      },
      "source": [
        "isinstance(3, int)"
      ],
      "execution_count": null,
      "outputs": [
        {
          "output_type": "execute_result",
          "data": {
            "text/plain": [
              "True"
            ]
          },
          "metadata": {},
          "execution_count": 86
        }
      ]
    },
    {
      "cell_type": "code",
      "metadata": {
        "colab": {
          "base_uri": "https://localhost:8080/"
        },
        "id": "wz--kPMDq0_K",
        "outputId": "e0fb48b1-6c06-4f5b-94b9-690c3ddb6e0b"
      },
      "source": [
        "isinstance(3.14, int)"
      ],
      "execution_count": null,
      "outputs": [
        {
          "output_type": "execute_result",
          "data": {
            "text/plain": [
              "False"
            ]
          },
          "metadata": {},
          "execution_count": 88
        }
      ]
    },
    {
      "cell_type": "code",
      "metadata": {
        "colab": {
          "base_uri": "https://localhost:8080/"
        },
        "id": "Gr4IIP-lq1B_",
        "outputId": "008c77a7-f1cd-4908-be69-8c1cebf20aa2"
      },
      "source": [
        "name = int(5)\n",
        "if type(name) == int:\n",
        "    print ('this works')\n",
        "else:\n",
        "    print ('this does not work')"
      ],
      "execution_count": null,
      "outputs": [
        {
          "output_type": "stream",
          "name": "stdout",
          "text": [
            "this works\n"
          ]
        }
      ]
    },
    {
      "cell_type": "code",
      "metadata": {
        "colab": {
          "base_uri": "https://localhost:8080/"
        },
        "id": "2UkKYASEq1Ek",
        "outputId": "89aadd41-c408-460f-bb78-53342f42a759"
      },
      "source": [
        "test = input(\"Enter some text here: \")\n",
        "print(isinstance(test, float))\n"
      ],
      "execution_count": null,
      "outputs": [
        {
          "output_type": "stream",
          "name": "stdout",
          "text": [
            "Enter some text here: 15.4\n",
            "False\n"
          ]
        }
      ]
    },
    {
      "cell_type": "code",
      "metadata": {
        "colab": {
          "base_uri": "https://localhost:8080/"
        },
        "id": "mx4dszyqq1Hk",
        "outputId": "a2ccbad2-fa14-4574-e1c7-91032dd38f16"
      },
      "source": [
        "input1 = input(\"Enter your Age : \")\n",
        "try:\n",
        "  # Convert it into integer\n",
        "  age = int(input1)\n",
        "  print(\"Input is an integer number. Number = \", age)\n",
        "except ValueError:\n",
        "  try:\n",
        "    # Convert it into float\n",
        "    age = float(input1)\n",
        "    print(\"Input is a float  number. Number = \", age)\n",
        "  except ValueError:\n",
        "    print(\"No.. input is not a number. It's a string\")"
      ],
      "execution_count": null,
      "outputs": [
        {
          "output_type": "stream",
          "name": "stdout",
          "text": [
            "Enter your Age : 17.4\n",
            "Input is a float  number. Number =  17.4\n"
          ]
        }
      ]
    },
    {
      "cell_type": "code",
      "metadata": {
        "colab": {
          "base_uri": "https://localhost:8080/"
        },
        "id": "rbHVf3P2q1KW",
        "outputId": "462d1cd0-2c27-4d0b-daae-035c978a51b6"
      },
      "source": [
        "number = input(\"Enter a positive integer number please : \")\n",
        "\n",
        "if number == int(number):\n",
        "  if number < 0:\n",
        "    print(\"It is an invalid entry. Don't use non-numeric, float, or negative values!\")\n",
        "\n",
        "  elif number >= 0:\n",
        "     nod = len(str(number))\n",
        "     sum = 0\n",
        "\n",
        "     for i in str(number):\n",
        "       sum += (pow(int(i), nod))\n",
        "\n",
        "     if number == sum:\n",
        "       print(\"{} is an Amstrong number\".format(number))\n",
        "     else:\n",
        "       print(\"{} is not an Amstrong number\".format(number))\n",
        " \n",
        "else:\n",
        "    number = float(number)\n",
        "    print(\"It is an invalid entry. Don't use non-numeric, float, or negative values!\")"
      ],
      "execution_count": null,
      "outputs": [
        {
          "output_type": "stream",
          "name": "stdout",
          "text": [
            "Enter a positive integer number please : 371\n",
            "It is an invalid entry. Don't use non-numeric, float, or negative values!\n"
          ]
        }
      ]
    },
    {
      "cell_type": "code",
      "metadata": {
        "id": "J1wc01MMgItW"
      },
      "source": [
        ""
      ],
      "execution_count": null,
      "outputs": []
    },
    {
      "cell_type": "code",
      "metadata": {
        "colab": {
          "base_uri": "https://localhost:8080/"
        },
        "id": "dBFk0tYlgIwl",
        "outputId": "5672753d-36b2-4d2c-9808-84962bee6e3c"
      },
      "source": [
        "number = input(\"Enter a positive integer number please :  \")\n",
        "nod = len(str(number))\n",
        "sum = 0\n",
        "sum_npowers = 0\n",
        "\n",
        "for i in str(number):\n",
        "  sum += int(i)\n",
        "  sum_npowers += (pow(int(i), nod))\n",
        "\n",
        "\n",
        "\n",
        "print('number of digits= ', nod)\n",
        "print('sum of digits', sum)\n",
        "print('sum of the nth powers of its digits is', sum_npowers)"
      ],
      "execution_count": null,
      "outputs": [
        {
          "output_type": "stream",
          "name": "stdout",
          "text": [
            "Enter a positive integer number please :  371\n",
            "number of digits=  3\n",
            "sum of digits 11\n",
            "sum of the nth powers of its digits is 371\n"
          ]
        }
      ]
    },
    {
      "cell_type": "code",
      "metadata": {
        "id": "bIoH0CxvopCF"
      },
      "source": [
        ""
      ],
      "execution_count": null,
      "outputs": []
    },
    {
      "cell_type": "code",
      "metadata": {
        "colab": {
          "base_uri": "https://localhost:8080/"
        },
        "id": "a8-YBLrnopHU",
        "outputId": "69ba4b3a-2101-4c36-db35-25208ba3a1ab"
      },
      "source": [
        "number = input(\"Enter a positive integer number please : \")\n",
        "\n",
        "print(isinstance(number, float))\n",
        "print(type(number))\n",
        "\n",
        "while isinstance(number, float):\n",
        " \n",
        "  print(\"It is an invalid entry. Don't use non-numeric, float, or negative values!\")\n",
        "\n",
        "  break"
      ],
      "execution_count": null,
      "outputs": [
        {
          "output_type": "stream",
          "name": "stdout",
          "text": [
            "Enter a positive integer number please : 10.4\n",
            "False\n",
            "<class 'str'>\n"
          ]
        }
      ]
    }
  ]
}
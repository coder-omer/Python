{
  "nbformat": 4,
  "nbformat_minor": 0,
  "metadata": {
    "colab": {
      "name": "Untitled15.ipynb",
      "provenance": [],
      "authorship_tag": "ABX9TyOUgYxmLWF+VRuLqqGsUWfc",
      "include_colab_link": true
    },
    "kernelspec": {
      "name": "python3",
      "display_name": "Python 3"
    },
    "language_info": {
      "name": "python"
    }
  },
  "cells": [
    {
      "cell_type": "markdown",
      "metadata": {
        "id": "view-in-github",
        "colab_type": "text"
      },
      "source": [
        "<a href=\"https://colab.research.google.com/github/coder-omer/Python/blob/main/Untitled15.ipynb\" target=\"_parent\"><img src=\"https://colab.research.google.com/assets/colab-badge.svg\" alt=\"Open In Colab\"/></a>"
      ]
    },
    {
      "cell_type": "markdown",
      "source": [
        "Write a function to find the average of numbers in a list in Python. (The list should be user input and we don’t know the number of elements in the list)"
      ],
      "metadata": {
        "id": "6AAe3o_ViaQy"
      }
    },
    {
      "cell_type": "code",
      "source": [
        "def ortalama1(num):\n",
        "  res1 = 0\n",
        "  for i in num:\n",
        "    res1 = res1 + int(i)\n",
        "  ort1 = res1 / len(num)\n",
        "  print(ort1)"
      ],
      "metadata": {
        "id": "vSGr7MjyxG-a"
      },
      "execution_count": null,
      "outputs": []
    },
    {
      "cell_type": "code",
      "source": [
        "liste1 = []\n",
        "eleman_sayisi = int(input(\"Listeye eklenecek eleman sayısı :  \"))\n",
        "while eleman_sayisi > 0:\n",
        "  liste1.append(input(\"Listeye Eklenecek Sayıları Giriniz: \"))\n",
        "  eleman_sayisi = eleman_sayisi -1"
      ],
      "metadata": {
        "colab": {
          "base_uri": "https://localhost:8080/"
        },
        "id": "_9MdpjyjxOlp",
        "outputId": "29c7f657-cd62-4887-a87c-1ab953a78189"
      },
      "execution_count": null,
      "outputs": [
        {
          "name": "stdout",
          "output_type": "stream",
          "text": [
            "Listeye eklenecek eleman sayısı :  3\n",
            "Listeye Eklenecek Sayıları Giriniz: 1\n",
            "Listeye Eklenecek Sayıları Giriniz: 2\n",
            "Listeye Eklenecek Sayıları Giriniz: 3\n"
          ]
        }
      ]
    },
    {
      "cell_type": "code",
      "source": [
        "ortalama1(liste1)"
      ],
      "metadata": {
        "colab": {
          "base_uri": "https://localhost:8080/"
        },
        "id": "u3BO5_sTxJk-",
        "outputId": "6df9a447-cc60-403c-c661-adc635921a85"
      },
      "execution_count": null,
      "outputs": [
        {
          "output_type": "stream",
          "name": "stdout",
          "text": [
            "2.0\n"
          ]
        }
      ]
    },
    {
      "cell_type": "code",
      "source": [
        "new_list = [1,2,3,4,5,6]"
      ],
      "metadata": {
        "id": "tcfeJmDvieBU"
      },
      "execution_count": null,
      "outputs": []
    },
    {
      "cell_type": "code",
      "source": [
        "def my_average(*num):\n",
        "  res = sum(num,0)\n",
        "  res =res / len(num)\n",
        "  print(res)"
      ],
      "metadata": {
        "id": "VVXLbDInid9D"
      },
      "execution_count": null,
      "outputs": []
    },
    {
      "cell_type": "code",
      "source": [
        "my_average(1,2,3,4,5,6)"
      ],
      "metadata": {
        "colab": {
          "base_uri": "https://localhost:8080/"
        },
        "id": "cy-RdlKBqPVe",
        "outputId": "3753dc1a-aa4e-4877-a9c7-458c97bb22ab"
      },
      "execution_count": null,
      "outputs": [
        {
          "output_type": "stream",
          "name": "stdout",
          "text": [
            "3.5\n"
          ]
        }
      ]
    },
    {
      "cell_type": "code",
      "source": [
        "def average(*num):\n",
        "  res = sum(num,0) / len(num)\n",
        "  print(res)\n",
        "\n"
      ],
      "metadata": {
        "colab": {
          "base_uri": "https://localhost:8080/"
        },
        "id": "HLvFieJDnL8o",
        "outputId": "54d0b828-5e27-47c9-e426-7845fc115c43"
      },
      "execution_count": null,
      "outputs": [
        {
          "output_type": "stream",
          "name": "stdout",
          "text": [
            "3.5\n"
          ]
        }
      ]
    },
    {
      "cell_type": "code",
      "source": [
        "liste = []\n",
        "liste.append(input(\"Listeye Eklenecek Nesneleri Giriniz: \"))\n",
        "print(liste)"
      ],
      "metadata": {
        "colab": {
          "base_uri": "https://localhost:8080/"
        },
        "id": "ldmBnUi9pGV9",
        "outputId": "32dd1a12-de67-409f-ad44-d1c2acccc60a"
      },
      "execution_count": null,
      "outputs": [
        {
          "output_type": "stream",
          "name": "stdout",
          "text": [
            "Listeye Eklenecek Nesneleri Giriniz: 1, 2, 3, 4, 5, 6\n",
            "['1, 2, 3, 4, 5, 6']\n"
          ]
        }
      ]
    },
    {
      "cell_type": "code",
      "source": [
        "my_average(new_list)"
      ],
      "metadata": {
        "colab": {
          "base_uri": "https://localhost:8080/",
          "height": 269
        },
        "id": "5F8Dq_L-qS1p",
        "outputId": "0e57a769-21bf-4096-aa35-76ec5e1ffc6a"
      },
      "execution_count": null,
      "outputs": [
        {
          "output_type": "error",
          "ename": "TypeError",
          "evalue": "ignored",
          "traceback": [
            "\u001b[0;31m---------------------------------------------------------------------------\u001b[0m",
            "\u001b[0;31mTypeError\u001b[0m                                 Traceback (most recent call last)",
            "\u001b[0;32m<ipython-input-33-d261211e722a>\u001b[0m in \u001b[0;36m<module>\u001b[0;34m()\u001b[0m\n\u001b[0;32m----> 1\u001b[0;31m \u001b[0mmy_average\u001b[0m\u001b[0;34m(\u001b[0m\u001b[0mnew_list\u001b[0m\u001b[0;34m)\u001b[0m\u001b[0;34m\u001b[0m\u001b[0;34m\u001b[0m\u001b[0m\n\u001b[0m",
            "\u001b[0;32m<ipython-input-27-2182ce5142ba>\u001b[0m in \u001b[0;36mmy_average\u001b[0;34m(*num)\u001b[0m\n\u001b[1;32m      1\u001b[0m \u001b[0;32mdef\u001b[0m \u001b[0mmy_average\u001b[0m\u001b[0;34m(\u001b[0m\u001b[0;34m*\u001b[0m\u001b[0mnum\u001b[0m\u001b[0;34m)\u001b[0m\u001b[0;34m:\u001b[0m\u001b[0;34m\u001b[0m\u001b[0;34m\u001b[0m\u001b[0m\n\u001b[0;32m----> 2\u001b[0;31m   \u001b[0mres\u001b[0m \u001b[0;34m=\u001b[0m \u001b[0msum\u001b[0m\u001b[0;34m(\u001b[0m\u001b[0mnum\u001b[0m\u001b[0;34m,\u001b[0m\u001b[0;36m0\u001b[0m\u001b[0;34m)\u001b[0m\u001b[0;34m\u001b[0m\u001b[0;34m\u001b[0m\u001b[0m\n\u001b[0m\u001b[1;32m      3\u001b[0m   \u001b[0mres\u001b[0m \u001b[0;34m=\u001b[0m\u001b[0mres\u001b[0m \u001b[0;34m/\u001b[0m \u001b[0mlen\u001b[0m\u001b[0;34m(\u001b[0m\u001b[0mnum\u001b[0m\u001b[0;34m)\u001b[0m\u001b[0;34m\u001b[0m\u001b[0;34m\u001b[0m\u001b[0m\n\u001b[1;32m      4\u001b[0m   \u001b[0mprint\u001b[0m\u001b[0;34m(\u001b[0m\u001b[0mres\u001b[0m\u001b[0;34m)\u001b[0m\u001b[0;34m\u001b[0m\u001b[0;34m\u001b[0m\u001b[0m\n",
            "\u001b[0;31mTypeError\u001b[0m: unsupported operand type(s) for +: 'int' and 'list'"
          ]
        }
      ]
    },
    {
      "cell_type": "code",
      "source": [
        "def ort(*sayi):\n",
        "  for i in sayi:\n",
        "    print(i)\n",
        "\n",
        "liste = [1, 2, 3, 4]\n",
        "ort(liste)"
      ],
      "metadata": {
        "colab": {
          "base_uri": "https://localhost:8080/"
        },
        "id": "PKcz_HbXlQcD",
        "outputId": "4ff952e3-0a78-4221-e2ec-44e62563a590"
      },
      "execution_count": null,
      "outputs": [
        {
          "output_type": "stream",
          "name": "stdout",
          "text": [
            "[1, 2, 3, 4]\n"
          ]
        }
      ]
    },
    {
      "cell_type": "code",
      "source": [
        "def ortalama1(num):\n",
        "  res1 = 0\n",
        "  for i in num:\n",
        "    res1 = res1 + int(i)\n",
        "  ort1 = res1 / len(num)\n",
        "  print(ort1)"
      ],
      "metadata": {
        "id": "Bb0DMVELmrLB"
      },
      "execution_count": null,
      "outputs": []
    },
    {
      "cell_type": "code",
      "source": [
        "liste1 = []\n",
        "eleman_sayisi = int(input(\"Listeye eklenecek eleman sayısı :  \"))\n",
        "while eleman_sayisi > 0:\n",
        "  liste1.append(input(\"Listeye Eklenecek Sayıları Giriniz: \"))\n",
        "  eleman_sayisi = eleman_sayisi -1\n",
        "print(liste1)"
      ],
      "metadata": {
        "colab": {
          "base_uri": "https://localhost:8080/"
        },
        "id": "WXe07gu5mrH_",
        "outputId": "6534ece3-1e40-4f1f-f5a4-9c0cad056472"
      },
      "execution_count": null,
      "outputs": [
        {
          "output_type": "stream",
          "name": "stdout",
          "text": [
            "Listeye eklenecek eleman sayısı :  3\n",
            "Listeye Eklenecek Sayıları Giriniz: 5\n",
            "Listeye Eklenecek Sayıları Giriniz: 6\n",
            "Listeye Eklenecek Sayıları Giriniz: 4\n",
            "['5', '6', '4']\n"
          ]
        }
      ]
    },
    {
      "cell_type": "code",
      "source": [
        "ortalama1(liste1)"
      ],
      "metadata": {
        "colab": {
          "base_uri": "https://localhost:8080/"
        },
        "id": "VoTuPeikmrE-",
        "outputId": "a579114b-9996-4cca-83fc-1ef311de59df"
      },
      "execution_count": null,
      "outputs": [
        {
          "output_type": "stream",
          "name": "stdout",
          "text": [
            "5.0\n"
          ]
        }
      ]
    },
    {
      "cell_type": "code",
      "source": [
        "def ortalama1(num):\n",
        "  res1 = 0\n",
        "  for i in num:\n",
        "    res1 = res1 + int(i)\n",
        "  ort1 = res1 / len(num)\n",
        "  return ort1\n",
        "\n",
        "liste1 = []\n",
        "eleman_sayisi = int(input(\"Listeye eklenecek eleman sayısı :  \"))\n",
        "while eleman_sayisi > 0:\n",
        "  liste1.append(input(\"Listeye eklenecek sayıları giriniz: \"))\n",
        "  eleman_sayisi = eleman_sayisi - 1\n",
        "\n",
        "print(ortalama1(liste1))"
      ],
      "metadata": {
        "colab": {
          "base_uri": "https://localhost:8080/"
        },
        "id": "U4YfDLK7mrCP",
        "outputId": "c1b8c25e-f614-4849-c6d6-5541c1a5325c"
      },
      "execution_count": null,
      "outputs": [
        {
          "output_type": "stream",
          "name": "stdout",
          "text": [
            "Listeye eklenecek eleman sayısı :  4\n",
            "Listeye eklenecek sayıları giriniz: 6\n",
            "Listeye eklenecek sayıları giriniz: 5\n",
            "Listeye eklenecek sayıları giriniz: 1\n",
            "Listeye eklenecek sayıları giriniz: 4\n",
            "4.0\n"
          ]
        }
      ]
    },
    {
      "cell_type": "code",
      "source": [
        "def ort():\n",
        "  listem = list(map(float,input(\"enter number:\").split()))\n",
        "  return sum(listem)/len(listem)"
      ],
      "metadata": {
        "id": "q0r2D6Eamq_Y"
      },
      "execution_count": null,
      "outputs": []
    },
    {
      "cell_type": "code",
      "source": [
        "ort()"
      ],
      "metadata": {
        "colab": {
          "base_uri": "https://localhost:8080/"
        },
        "id": "IfPnMJnnmq2f",
        "outputId": "bad015db-7609-4640-f340-c3f1564cba07"
      },
      "execution_count": null,
      "outputs": [
        {
          "name": "stdout",
          "output_type": "stream",
          "text": [
            "enter number:4 5 6 5\n"
          ]
        },
        {
          "output_type": "execute_result",
          "data": {
            "text/plain": [
              "5.0"
            ]
          },
          "metadata": {},
          "execution_count": 68
        }
      ]
    },
    {
      "cell_type": "code",
      "source": [
        "liste2 = list(map(float,input(\"enter number:\").split()))"
      ],
      "metadata": {
        "colab": {
          "base_uri": "https://localhost:8080/"
        },
        "id": "pQZ7cJrDmqyx",
        "outputId": "d28e0ce5-f1be-4579-9a04-b7e328088b51"
      },
      "execution_count": null,
      "outputs": [
        {
          "name": "stdout",
          "output_type": "stream",
          "text": [
            "enter number:1 2 3 4\n"
          ]
        }
      ]
    },
    {
      "cell_type": "code",
      "source": [
        "liste2"
      ],
      "metadata": {
        "colab": {
          "base_uri": "https://localhost:8080/"
        },
        "id": "isrKF6d71AvP",
        "outputId": "44ac30fe-f849-4b4f-f890-054f9e9a6330"
      },
      "execution_count": null,
      "outputs": [
        {
          "output_type": "execute_result",
          "data": {
            "text/plain": [
              "[1.0, 2.0, 3.0, 4.0]"
            ]
          },
          "metadata": {},
          "execution_count": 73
        }
      ]
    },
    {
      "cell_type": "code",
      "source": [
        "liste3 = list(input(\"enter number:\").split())"
      ],
      "metadata": {
        "colab": {
          "base_uri": "https://localhost:8080/"
        },
        "id": "WxsVN3AJ1GPz",
        "outputId": "f4aaae41-3157-4818-9fc6-b58a9b02b634"
      },
      "execution_count": null,
      "outputs": [
        {
          "name": "stdout",
          "output_type": "stream",
          "text": [
            "enter number:5 6 4 8\n"
          ]
        }
      ]
    },
    {
      "cell_type": "code",
      "source": [
        "liste3"
      ],
      "metadata": {
        "colab": {
          "base_uri": "https://localhost:8080/"
        },
        "id": "bRSzhIKb1GMn",
        "outputId": "9890b694-12dc-474b-932a-6d92d6a5840c"
      },
      "execution_count": null,
      "outputs": [
        {
          "output_type": "execute_result",
          "data": {
            "text/plain": [
              "['5', '6', '4', '8']"
            ]
          },
          "metadata": {},
          "execution_count": 80
        }
      ]
    },
    {
      "cell_type": "code",
      "source": [
        "listem = list(map(float,input(\"enter number:\").split()))\n",
        "print(type(listem))"
      ],
      "metadata": {
        "colab": {
          "base_uri": "https://localhost:8080/"
        },
        "id": "nyViWtUu1GJl",
        "outputId": "30cea7ef-6b91-42b0-9935-702147e9cd00"
      },
      "execution_count": null,
      "outputs": [
        {
          "output_type": "stream",
          "name": "stdout",
          "text": [
            "enter number:5 6 6\n",
            "<class 'list'>\n"
          ]
        }
      ]
    },
    {
      "cell_type": "code",
      "source": [
        "print(map(float,input(\"enter number:\").split()))"
      ],
      "metadata": {
        "colab": {
          "base_uri": "https://localhost:8080/"
        },
        "id": "_KBNH3dq1GGu",
        "outputId": "0295fba6-8526-4278-f6cf-d5597a881bd2"
      },
      "execution_count": null,
      "outputs": [
        {
          "output_type": "stream",
          "name": "stdout",
          "text": [
            "enter number:1 5 6\n",
            "<map object at 0x7fb4062d7910>\n"
          ]
        }
      ]
    },
    {
      "cell_type": "code",
      "source": [
        "def ortalama1(num):\n",
        "  res1 = 0\n",
        "  for i in num:\n",
        "    res1 = res1 + float(i)\n",
        "  ort1 = res1 / len(num)\n",
        "  return ort1\n",
        "\n",
        "liste1 = []\n",
        "eleman_sayisi = float(input(\"Listeye eklenecek eleman sayısı :  \"))\n",
        "while eleman_sayisi > 0:\n",
        "  liste1.append(input(\"Listeye eklenecek sayıları giriniz: \"))\n",
        "  eleman_sayisi = eleman_sayisi - 1\n",
        "\n",
        "print(ortalama1(liste1))"
      ],
      "metadata": {
        "colab": {
          "base_uri": "https://localhost:8080/"
        },
        "id": "8ewPBjmx1GCL",
        "outputId": "871cc499-5f71-48ea-c111-5e0bbd0103c1"
      },
      "execution_count": null,
      "outputs": [
        {
          "output_type": "stream",
          "name": "stdout",
          "text": [
            "Listeye eklenecek eleman sayısı :  3\n",
            "Listeye eklenecek sayıları giriniz: 6\n",
            "Listeye eklenecek sayıları giriniz: 5\n",
            "Listeye eklenecek sayıları giriniz: 4\n",
            "5.0\n"
          ]
        }
      ]
    },
    {
      "cell_type": "code",
      "source": [
        ""
      ],
      "metadata": {
        "id": "uns5NfLv1FyX"
      },
      "execution_count": null,
      "outputs": []
    }
  ]
}
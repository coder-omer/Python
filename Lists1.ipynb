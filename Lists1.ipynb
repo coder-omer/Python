{
  "nbformat": 4,
  "nbformat_minor": 0,
  "metadata": {
    "colab": {
      "name": "Lists1.ipynb",
      "provenance": [],
      "authorship_tag": "ABX9TyMTs/VZg61UD3U+2WakfE43"
    },
    "kernelspec": {
      "name": "python3",
      "display_name": "Python 3"
    },
    "language_info": {
      "name": "python"
    }
  },
  "cells": [
    {
      "cell_type": "code",
      "metadata": {
        "colab": {
          "base_uri": "https://localhost:8080/"
        },
        "id": "mlFrNsTQ2r5C",
        "outputId": "d178d7cb-59f1-4686-a787-ae53f07ff9a7"
      },
      "source": [
        "var_string = 'Clarusway'\n",
        "print(var_string.lower())\n",
        "print(var_string)\n",
        "var_string = 'Clarusway'.lower()\n",
        "print(var_string)"
      ],
      "execution_count": null,
      "outputs": [
        {
          "output_type": "stream",
          "name": "stdout",
          "text": [
            "clarusway\n",
            "Clarusway\n",
            "clarusway\n"
          ]
        }
      ]
    },
    {
      "cell_type": "code",
      "metadata": {
        "colab": {
          "base_uri": "https://localhost:8080/"
        },
        "id": "WfYI6yuu2scg",
        "outputId": "fce5ee2d-eea6-4c5b-f3f4-2b119070087d"
      },
      "source": [
        "var_str='In God we Trust'\n",
        "var_str = var_str.lower()\n",
        "print(var_str)"
      ],
      "execution_count": null,
      "outputs": [
        {
          "output_type": "stream",
          "name": "stdout",
          "text": [
            "in god we trust\n"
          ]
        }
      ]
    },
    {
      "cell_type": "code",
      "metadata": {
        "colab": {
          "base_uri": "https://localhost:8080/"
        },
        "id": "spiXvMEY2sf5",
        "outputId": "aabda530-9a57-4920-c009-e16b704d09ad"
      },
      "source": [
        "text = 'www.clarusway.com'\n",
        "print(text.endswith('.com'))\n",
        "print(text.startswith('http:'))"
      ],
      "execution_count": null,
      "outputs": [
        {
          "output_type": "stream",
          "name": "stdout",
          "text": [
            "True\n",
            "False\n"
          ]
        }
      ]
    },
    {
      "cell_type": "code",
      "metadata": {
        "colab": {
          "base_uri": "https://localhost:8080/"
        },
        "id": "D1cRUWj32siw",
        "outputId": "03a3726d-9d92-4f34-c8a9-a2b577c16f9c"
      },
      "source": [
        "sentence='I live and work in Virginia'\n",
        "print(sentence.upper())\n",
        "print(sentence.lower())\n",
        "print(sentence.swapcase())\n",
        "print(sentence)\n"
      ],
      "execution_count": null,
      "outputs": [
        {
          "output_type": "stream",
          "name": "stdout",
          "text": [
            "I LIVE AND WORK IN VIRGINIA\n",
            "i live and work in virginia\n",
            "i LIVE AND WORK IN vIRGINIA\n",
            "I live and work in Virginia\n"
          ]
        }
      ]
    },
    {
      "cell_type": "code",
      "metadata": {
        "colab": {
          "base_uri": "https://localhost:8080/"
        },
        "id": "KqbHFr252slg",
        "outputId": "21f953d5-e0ac-43bd-a981-f16c8adaa80b"
      },
      "source": [
        "sentence=\"I live and work in Virginia\"\n",
        "title_sentence=sentence.title()\n",
        "print(title_sentence)\n",
        "\n",
        "changed_sentence=sentence.replace(\"i\",\"+\")\n",
        "print(changed_sentence)\n",
        "\n",
        "print(sentence)\n"
      ],
      "execution_count": null,
      "outputs": [
        {
          "output_type": "stream",
          "name": "stdout",
          "text": [
            "I Live And Work In Virginia\n",
            "I l+ve and work +n V+rg+n+a\n",
            "I live and work in Virginia\n"
          ]
        }
      ]
    },
    {
      "cell_type": "code",
      "metadata": {
        "colab": {
          "base_uri": "https://localhost:8080/"
        },
        "id": "xPj3YhEY2sou",
        "outputId": "b0612cd6-d508-44e6-e7cd-162b859d159f"
      },
      "source": [
        "text = \"the better the family, the better the society\"\n",
        "text_title= text.title()\n",
        "print(text_title)"
      ],
      "execution_count": null,
      "outputs": [
        {
          "output_type": "stream",
          "name": "stdout",
          "text": [
            "The Better The Family, The Better The Society\n"
          ]
        }
      ]
    },
    {
      "cell_type": "code",
      "metadata": {
        "colab": {
          "base_uri": "https://localhost:8080/"
        },
        "id": "XYlYQH-T2suu",
        "outputId": "0aa6b004-d74b-4647-dac3-42870817951c"
      },
      "source": [
        "text =\"S0d0me and G0m0re\"\n",
        "text=text.replace('0','o')\n",
        "print(text)"
      ],
      "execution_count": null,
      "outputs": [
        {
          "output_type": "stream",
          "name": "stdout",
          "text": [
            "Sodome and Gomore\n"
          ]
        }
      ]
    },
    {
      "cell_type": "code",
      "metadata": {
        "colab": {
          "base_uri": "https://localhost:8080/"
        },
        "id": "KUBehqWf2sxg",
        "outputId": "1d58170c-183e-4f5d-fbe8-e0c0ae34dcba"
      },
      "source": [
        "space_string=\"      listen first      \"\n",
        "print(space_string.strip())"
      ],
      "execution_count": null,
      "outputs": [
        {
          "output_type": "stream",
          "name": "stdout",
          "text": [
            "listen first\n"
          ]
        }
      ]
    },
    {
      "cell_type": "code",
      "metadata": {
        "colab": {
          "base_uri": "https://localhost:8080/"
        },
        "id": "eVUfTb3_2s0h",
        "outputId": "daae1fe8-b9e7-4e9e-cfc2-a458fb372c83"
      },
      "source": [
        "space_string=\"      listen first      \"\n",
        "print(space_string.lstrip())"
      ],
      "execution_count": null,
      "outputs": [
        {
          "output_type": "stream",
          "name": "stdout",
          "text": [
            "listen first      \n"
          ]
        }
      ]
    },
    {
      "cell_type": "code",
      "metadata": {
        "colab": {
          "base_uri": "https://localhost:8080/"
        },
        "id": "qyIvP8do2s3v",
        "outputId": "652d19a3-8418-495b-e527-6eb244b0c251"
      },
      "source": [
        "space_string=\"      listen first      \"\n",
        "print(space_string.rstrip())"
      ],
      "execution_count": null,
      "outputs": [
        {
          "output_type": "stream",
          "name": "stdout",
          "text": [
            "      listen first\n"
          ]
        }
      ]
    },
    {
      "cell_type": "code",
      "metadata": {
        "colab": {
          "base_uri": "https://localhost:8080/"
        },
        "id": "WVss65kp2s6v",
        "outputId": "04c292ee-8ab1-45c7-ac11-fdec30c4b510"
      },
      "source": [
        "space_string=\"      listen first      \"\n",
        "print(space_string.strip())"
      ],
      "execution_count": null,
      "outputs": [
        {
          "output_type": "stream",
          "name": "stdout",
          "text": [
            "nteroperabilit\n"
          ]
        }
      ]
    },
    {
      "cell_type": "code",
      "metadata": {
        "colab": {
          "base_uri": "https://localhost:8080/"
        },
        "id": "tgHrISlW2s9w",
        "outputId": "8e2678fb-619a-4840-c1ff-646ef8908bd5"
      },
      "source": [
        "kaynak=\"karşılaştırma\"\n",
        "print(kaynak.strip(\"karma\"))"
      ],
      "execution_count": null,
      "outputs": [
        {
          "output_type": "stream",
          "name": "stdout",
          "text": [
            "şılaştı\n"
          ]
        }
      ]
    },
    {
      "cell_type": "code",
      "metadata": {
        "colab": {
          "base_uri": "https://localhost:8080/"
        },
        "id": "2ishj0V42tAy",
        "outputId": "2a5fd0fe-754c-4af6-8b42-1303b578ef7b"
      },
      "source": [
        "text=\"tyou can learn almost everything in pre-classz\"\n",
        "print((text.strip('tz')).upper())"
      ],
      "execution_count": null,
      "outputs": [
        {
          "output_type": "stream",
          "name": "stdout",
          "text": [
            "YOU CAN LEARN ALMOST EVERYTHING IN PRE-CLASS\n"
          ]
        }
      ]
    },
    {
      "cell_type": "code",
      "metadata": {
        "colab": {
          "base_uri": "https://localhost:8080/"
        },
        "id": "wROP3nBx2tEC",
        "outputId": "82eb0185-a619-4b14-bca2-7b0a44670963"
      },
      "source": [
        "list1 = ['h','a','p','p','y']\n",
        "word = 'happy'\n",
        "list2 = list(word)\n",
        "print(list1)\n",
        "print(list2)"
      ],
      "execution_count": null,
      "outputs": [
        {
          "output_type": "stream",
          "name": "stdout",
          "text": [
            "['h', 'a', 'p', 'p', 'y']\n",
            "['h', 'a', 'p', 'p', 'y']\n"
          ]
        }
      ]
    },
    {
      "cell_type": "code",
      "metadata": {
        "id": "RAjMh5ZSDlZv"
      },
      "source": [
        ""
      ],
      "execution_count": null,
      "outputs": []
    }
  ]
}
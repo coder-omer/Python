{
  "nbformat": 4,
  "nbformat_minor": 0,
  "metadata": {
    "colab": {
      "name": "Untitled39.ipynb",
      "provenance": [],
      "authorship_tag": "ABX9TyMbjdjskHSJogVhwjtnwKy0",
      "include_colab_link": true
    },
    "kernelspec": {
      "name": "python3",
      "display_name": "Python 3"
    },
    "language_info": {
      "name": "python"
    }
  },
  "cells": [
    {
      "cell_type": "markdown",
      "metadata": {
        "id": "view-in-github",
        "colab_type": "text"
      },
      "source": [
        "<a href=\"https://colab.research.google.com/github/coder-omer/Python/blob/main/Untitled39.ipynb\" target=\"_parent\"><img src=\"https://colab.research.google.com/assets/colab-badge.svg\" alt=\"Open In Colab\"/></a>"
      ]
    },
    {
      "cell_type": "code",
      "execution_count": null,
      "metadata": {
        "colab": {
          "base_uri": "https://localhost:8080/"
        },
        "id": "2SyC1b186426",
        "outputId": "09283386-1880-402c-99b2-9ed67a5c9559"
      },
      "outputs": [
        {
          "output_type": "stream",
          "name": "stdout",
          "text": [
            "[['eat', 'tea', 'ate'], ['tan', 'nat'], ['bat'], ['cat', 'tac']]\n"
          ]
        }
      ],
      "source": [
        "strs = [\"eat\", \"tea\", \"tan\", \"ate\", \"nat\", \"bat\", \"cat\", \"tac\"]\n",
        "group = {}\n",
        "\n",
        "for i in strs :\n",
        "  kelime = \"\".join(sorted(i))\n",
        "  if kelime in group :\n",
        "    group[kelime].append(i)\n",
        "  else :\n",
        "    group[kelime] = [i]\n",
        "\n",
        "print(list(group.values()))"
      ]
    },
    {
      "cell_type": "code",
      "source": [
        "strs = [\"eat\", \"tea\", \"tan\", \"ate\", \"nat\", \"bat\", \"cat\", \"tac\"]\n",
        "group = {}\n",
        "\n",
        "for i in strs :\n",
        "  kelime = \"\".join(sorted(i))\n",
        "  if kelime in group :\n",
        "    group[kelime].append(i)\n",
        "  else :\n",
        "    group[kelime] = [i]\n",
        "\n",
        "print(group)"
      ],
      "metadata": {
        "colab": {
          "base_uri": "https://localhost:8080/"
        },
        "id": "BSBdf9xX65aj",
        "outputId": "1e6c58fb-8584-43ee-8658-8a064ac8d814"
      },
      "execution_count": null,
      "outputs": [
        {
          "output_type": "stream",
          "name": "stdout",
          "text": [
            "{'aet': ['eat', 'tea', 'ate'], 'ant': ['tan', 'nat'], 'abt': ['bat'], 'act': ['cat', 'tac']}\n"
          ]
        }
      ]
    },
    {
      "cell_type": "code",
      "source": [
        "i = 1\n",
        "print(sorted(strs[i]))"
      ],
      "metadata": {
        "colab": {
          "base_uri": "https://localhost:8080/"
        },
        "id": "PJ25JiB865dU",
        "outputId": "8c7293c9-bc4c-4bf6-e088-99e2391baa90"
      },
      "execution_count": null,
      "outputs": [
        {
          "output_type": "stream",
          "name": "stdout",
          "text": [
            "['a', 'e', 't']\n"
          ]
        }
      ]
    },
    {
      "cell_type": "code",
      "source": [
        "strs = [\"eat\", \"tea\", \"tan\", \"ate\", \"nat\", \"bat\", \"cat\", \"tac\"]\n",
        "group = {}\n",
        "\n",
        "for i in strs :\n",
        "  kelime = \"\".join(sorted(i))\n",
        "  if kelime in group :\n",
        "    group[kelime].append(i)\n",
        "\n",
        "print(group)"
      ],
      "metadata": {
        "colab": {
          "base_uri": "https://localhost:8080/"
        },
        "id": "howytiXt65mA",
        "outputId": "b53a50bb-7cf6-42b3-e39d-1c17bc6ebb67"
      },
      "execution_count": null,
      "outputs": [
        {
          "output_type": "stream",
          "name": "stdout",
          "text": [
            "{}\n"
          ]
        }
      ]
    },
    {
      "cell_type": "code",
      "source": [
        "strs = [\"eat\", \"tea\", \"tan\", \"ate\", \"nat\", \"bat\", \"cat\", \"tac\"]\n",
        "group = {}\n",
        "\n",
        "for i in strs :\n",
        "  kelime = \"\".join(sorted(i))\n",
        "  if kelime in group :\n",
        "    group[kelime].append(i)\n",
        "  else :\n",
        "    group[kelime] = [i]\n",
        "\n",
        "print(group)"
      ],
      "metadata": {
        "colab": {
          "base_uri": "https://localhost:8080/"
        },
        "id": "dlRCfrWh65pA",
        "outputId": "ed0ba062-be1b-48e3-a443-fcfe124429d7"
      },
      "execution_count": null,
      "outputs": [
        {
          "output_type": "stream",
          "name": "stdout",
          "text": [
            "{'aet': ['eat', 'tea', 'ate'], 'ant': ['tan', 'nat'], 'abt': ['bat'], 'act': ['cat', 'tac']}\n"
          ]
        }
      ]
    }
  ]
}
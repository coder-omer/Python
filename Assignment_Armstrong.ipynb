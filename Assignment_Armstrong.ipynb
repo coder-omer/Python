{
  "nbformat": 4,
  "nbformat_minor": 0,
  "metadata": {
    "colab": {
      "name": "Assignment_Armstrong.ipynb",
      "provenance": [],
      "collapsed_sections": [],
      "authorship_tag": "ABX9TyPFi8AK9Gig2dr6uX/8N1V8"
    },
    "kernelspec": {
      "name": "python3",
      "display_name": "Python 3"
    },
    "language_info": {
      "name": "python"
    }
  },
  "cells": [
    {
      "cell_type": "code",
      "metadata": {
        "colab": {
          "base_uri": "https://localhost:8080/"
        },
        "id": "rbHVf3P2q1KW",
        "outputId": "489b7eab-e45c-4068-ad0d-42c04e951234"
      },
      "source": [
        "number = input(\"Enter a positive integer number please : \")\n",
        "if number.isdigit() and int(number) > 0:\n",
        "     nod = len(number)\n",
        "     sum = 0\n",
        "     for i in number:\n",
        "       i = int(i)\n",
        "       sum += (pow(i, nod))\n",
        "     if int(number) == sum:\n",
        "       print(\"{} is an Amstrong number\".format(number))\n",
        "     else:\n",
        "       print(\"{} is not an Amstrong number\".format(number)) \n",
        "else:\n",
        "  print(\"It is an invalid entry. Don't use non-numeric, float, or negative values!\")"
      ],
      "execution_count": null,
      "outputs": [
        {
          "output_type": "stream",
          "name": "stdout",
          "text": [
            "Enter a positive integer number please : 371\n",
            "371 is an Amstrong number\n"
          ]
        }
      ]
    }
  ]
}
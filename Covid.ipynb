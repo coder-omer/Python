{
  "nbformat": 4,
  "nbformat_minor": 0,
  "metadata": {
    "colab": {
      "name": "Covid.ipynb",
      "provenance": [],
      "authorship_tag": "ABX9TyORHmws30s3kawJPvL9d8Eb"
    },
    "kernelspec": {
      "name": "python3",
      "display_name": "Python 3"
    },
    "language_info": {
      "name": "python"
    }
  },
  "cells": [
    {
      "cell_type": "code",
      "metadata": {
        "colab": {
          "base_uri": "https://localhost:8080/"
        },
        "id": "pEEBZ6Rymnj5",
        "outputId": "76e5c933-0a01-4bbf-ac12-39e6dfa99039"
      },
      "source": [
        "age = True # can be assigned only True/False\n",
        "chronic = True # can be assigned only True/False\n",
        "immune = True  # can be assigned only True/False\n",
        "\n",
        "risk = age or chronic or immune # can be only True/False\n",
        "print(risk)"
      ],
      "execution_count": null,
      "outputs": [
        {
          "output_type": "stream",
          "name": "stdout",
          "text": [
            "True\n"
          ]
        }
      ]
    },
    {
      "cell_type": "code",
      "metadata": {
        "id": "ksOfgsy1n6ND"
      },
      "source": [
        ""
      ],
      "execution_count": null,
      "outputs": []
    },
    {
      "cell_type": "code",
      "metadata": {
        "id": "WCDizq6In6QG",
        "colab": {
          "base_uri": "https://localhost:8080/"
        },
        "outputId": "4553a662-b74d-42e8-de7a-07f35b54824e"
      },
      "source": [
        "age = True              # can be assigned only True/False\n",
        "chronic = True        # can be assigned only True/False\n",
        "immune = True       # can be assigned only True/False\n",
        "\n",
        "risk = age or chronic or immune          # can be only True/False\n",
        "print(risk)"
      ],
      "execution_count": null,
      "outputs": [
        {
          "output_type": "stream",
          "name": "stdout",
          "text": [
            "True\n"
          ]
        }
      ]
    },
    {
      "cell_type": "code",
      "metadata": {
        "id": "cDsDcXT0n6S_"
      },
      "source": [
        ""
      ],
      "execution_count": null,
      "outputs": []
    },
    {
      "cell_type": "code",
      "metadata": {
        "colab": {
          "base_uri": "https://localhost:8080/"
        },
        "id": "ytlIbNsyn6Xb",
        "outputId": "f771be2f-0b1d-40d9-9e03-1b8afd239fb3"
      },
      "source": [
        "type(False)"
      ],
      "execution_count": null,
      "outputs": [
        {
          "output_type": "execute_result",
          "data": {
            "text/plain": [
              "bool"
            ]
          },
          "metadata": {},
          "execution_count": 1
        }
      ]
    },
    {
      "cell_type": "code",
      "metadata": {
        "colab": {
          "base_uri": "https://localhost:8080/"
        },
        "id": "ZCVJB2Z2n-fJ",
        "outputId": "8be315a2-849a-4906-8f3a-36f9ac17667a"
      },
      "source": [
        "type(True)"
      ],
      "execution_count": null,
      "outputs": [
        {
          "output_type": "execute_result",
          "data": {
            "text/plain": [
              "bool"
            ]
          },
          "metadata": {},
          "execution_count": 2
        }
      ]
    },
    {
      "cell_type": "code",
      "metadata": {
        "colab": {
          "base_uri": "https://localhost:8080/"
        },
        "id": "elkQY82pn-ia",
        "outputId": "29530fb6-b9a0-4437-9afd-24a8b496ec26"
      },
      "source": [
        "bool"
      ],
      "execution_count": null,
      "outputs": [
        {
          "output_type": "execute_result",
          "data": {
            "text/plain": [
              "bool"
            ]
          },
          "metadata": {},
          "execution_count": 3
        }
      ]
    },
    {
      "cell_type": "code",
      "metadata": {
        "colab": {
          "base_uri": "https://localhost:8080/"
        },
        "id": "fHiIzCqon-lY",
        "outputId": "0008cc3c-8d39-4856-bb2e-163d84661e7c"
      },
      "source": [
        "bool = \"this is not a type\"\n",
        "print(bool)"
      ],
      "execution_count": null,
      "outputs": [
        {
          "output_type": "stream",
          "name": "stdout",
          "text": [
            "this is not a type\n"
          ]
        }
      ]
    }
  ]
}
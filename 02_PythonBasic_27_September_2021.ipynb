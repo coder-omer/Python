{
  "nbformat": 4,
  "nbformat_minor": 5,
  "metadata": {
    "kernelspec": {
      "display_name": "Python 3",
      "language": "python",
      "name": "python3"
    },
    "language_info": {
      "codemirror_mode": {
        "name": "ipython",
        "version": 3
      },
      "file_extension": ".py",
      "mimetype": "text/x-python",
      "name": "python",
      "nbconvert_exporter": "python",
      "pygments_lexer": "ipython3",
      "version": "3.8.8"
    },
    "colab": {
      "name": "02_PythonBasic_27-September-2021.ipynb",
      "provenance": []
    }
  },
  "cells": [
    {
      "cell_type": "markdown",
      "metadata": {
        "id": "22263af8"
      },
      "source": [
        "<h1><p style=\"text-align: center; color:darkblue\">Python In-Class, <br>27 September 2021</p><h1>"
      ],
      "id": "22263af8"
    },
    {
      "cell_type": "code",
      "metadata": {
        "id": "b21ac7b4",
        "outputId": "3a4487a8-6d60-4a68-fa1c-03fe8c504dc5"
      },
      "source": [
        "pwd"
      ],
      "id": "b21ac7b4",
      "execution_count": null,
      "outputs": [
        {
          "data": {
            "text/plain": [
              "'/Users/ozgurhamdullah/jobs/CW/pythonic/python_sessions/PythonSessions-Cohort-010'"
            ]
          },
          "execution_count": 1,
          "metadata": {},
          "output_type": "execute_result"
        }
      ]
    },
    {
      "cell_type": "code",
      "metadata": {
        "id": "64ef9245"
      },
      "source": [
        "class_ = \"ali\""
      ],
      "id": "64ef9245",
      "execution_count": null,
      "outputs": []
    },
    {
      "cell_type": "code",
      "metadata": {
        "id": "8f7460ca"
      },
      "source": [
        "_in_ = \"cumali\""
      ],
      "id": "8f7460ca",
      "execution_count": null,
      "outputs": []
    },
    {
      "cell_type": "code",
      "metadata": {
        "id": "c675d0e9"
      },
      "source": [
        "# def\n",
        "# True\n",
        "# and \n",
        "# or\n",
        "# while"
      ],
      "id": "c675d0e9",
      "execution_count": null,
      "outputs": []
    },
    {
      "cell_type": "code",
      "metadata": {
        "id": "9731c708",
        "outputId": "75b86413-8423-41d6-d79b-d8ab16784ca6"
      },
      "source": [
        "?_ali = \"absurd\""
      ],
      "id": "9731c708",
      "execution_count": null,
      "outputs": [
        {
          "name": "stdout",
          "output_type": "stream",
          "text": [
            "Object `_ali = \"absurd\"` not found.\n"
          ]
        }
      ]
    },
    {
      "cell_type": "code",
      "metadata": {
        "id": "c8444a44"
      },
      "source": [
        "!'^+%&&()=?\\}][{§½$#£>}]'"
      ],
      "id": "c8444a44",
      "execution_count": null,
      "outputs": []
    },
    {
      "cell_type": "code",
      "metadata": {
        "id": "8d457ca7",
        "outputId": "0114841e-565c-468a-f77d-307e7d96a322"
      },
      "source": [
        "x = y = z = \"clarusway\"\n",
        "print(x)"
      ],
      "id": "8d457ca7",
      "execution_count": null,
      "outputs": [
        {
          "name": "stdout",
          "output_type": "stream",
          "text": [
            "clarusway\n"
          ]
        }
      ]
    },
    {
      "cell_type": "code",
      "metadata": {
        "id": "5f0095ab",
        "outputId": "371cf43f-4f5e-4ee3-d267-c47031ffd101"
      },
      "source": [
        "a = b = c = ali\n",
        "print(a)"
      ],
      "id": "5f0095ab",
      "execution_count": null,
      "outputs": [
        {
          "ename": "NameError",
          "evalue": "name 'ali' is not defined",
          "output_type": "error",
          "traceback": [
            "\u001b[0;31m---------------------------------------------------------------------------\u001b[0m",
            "\u001b[0;31mNameError\u001b[0m                                 Traceback (most recent call last)",
            "\u001b[0;32m<ipython-input-10-0ae33c121304>\u001b[0m in \u001b[0;36m<module>\u001b[0;34m\u001b[0m\n\u001b[0;32m----> 1\u001b[0;31m \u001b[0ma\u001b[0m \u001b[0;34m=\u001b[0m \u001b[0mb\u001b[0m \u001b[0;34m=\u001b[0m \u001b[0mc\u001b[0m \u001b[0;34m=\u001b[0m \u001b[0mali\u001b[0m\u001b[0;34m\u001b[0m\u001b[0;34m\u001b[0m\u001b[0m\n\u001b[0m\u001b[1;32m      2\u001b[0m \u001b[0mprint\u001b[0m\u001b[0;34m(\u001b[0m\u001b[0ma\u001b[0m\u001b[0;34m)\u001b[0m\u001b[0;34m\u001b[0m\u001b[0;34m\u001b[0m\u001b[0m\n",
            "\u001b[0;31mNameError\u001b[0m: name 'ali' is not defined"
          ]
        }
      ]
    },
    {
      "cell_type": "code",
      "metadata": {
        "id": "1d8d4c4b",
        "outputId": "af67d8cf-cd06-4594-bcdd-c40f50da681f"
      },
      "source": [
        "a = b = c = \"ali\"\n",
        "print(a)"
      ],
      "id": "1d8d4c4b",
      "execution_count": null,
      "outputs": [
        {
          "name": "stdout",
          "output_type": "stream",
          "text": [
            "ali\n"
          ]
        }
      ]
    },
    {
      "cell_type": "code",
      "metadata": {
        "id": "218763bc"
      },
      "source": [
        "ali = a = veli = \"deli\""
      ],
      "id": "218763bc",
      "execution_count": null,
      "outputs": []
    },
    {
      "cell_type": "code",
      "metadata": {
        "id": "51db3cca",
        "outputId": "a2cad8d6-8815-4d56-e05a-1d85e127fd65"
      },
      "source": [
        "print(ali)"
      ],
      "id": "51db3cca",
      "execution_count": null,
      "outputs": [
        {
          "name": "stdout",
          "output_type": "stream",
          "text": [
            "deli\n"
          ]
        }
      ]
    },
    {
      "cell_type": "code",
      "metadata": {
        "id": "0eee2443",
        "outputId": "d10f046d-4db2-4cf8-f1e3-b6901003f971"
      },
      "source": [
        "print(a)"
      ],
      "id": "0eee2443",
      "execution_count": null,
      "outputs": [
        {
          "name": "stdout",
          "output_type": "stream",
          "text": [
            "deli\n"
          ]
        }
      ]
    },
    {
      "cell_type": "code",
      "metadata": {
        "id": "daed957a",
        "outputId": "4d55ff46-cd55-4065-99cc-63bfacdd64c8"
      },
      "source": [
        "print(veli)"
      ],
      "id": "daed957a",
      "execution_count": null,
      "outputs": [
        {
          "name": "stdout",
          "output_type": "stream",
          "text": [
            "deli\n"
          ]
        }
      ]
    },
    {
      "cell_type": "code",
      "metadata": {
        "id": "517953ad"
      },
      "source": [
        "j = o = s = e = p = h = 41"
      ],
      "id": "517953ad",
      "execution_count": null,
      "outputs": []
    },
    {
      "cell_type": "code",
      "metadata": {
        "id": "9402dbfa",
        "outputId": "e350a41b-0782-4692-b7d5-d425b234d87f"
      },
      "source": [
        "j"
      ],
      "id": "9402dbfa",
      "execution_count": null,
      "outputs": [
        {
          "data": {
            "text/plain": [
              "41"
            ]
          },
          "execution_count": 17,
          "metadata": {},
          "output_type": "execute_result"
        }
      ]
    },
    {
      "cell_type": "code",
      "metadata": {
        "id": "3a40d098",
        "outputId": "a65d704d-cfe9-4210-a83e-2c43617da589"
      },
      "source": [
        "o"
      ],
      "id": "3a40d098",
      "execution_count": null,
      "outputs": [
        {
          "data": {
            "text/plain": [
              "41"
            ]
          },
          "execution_count": 18,
          "metadata": {},
          "output_type": "execute_result"
        }
      ]
    },
    {
      "cell_type": "code",
      "metadata": {
        "id": "2415610c",
        "outputId": "93bcfd90-fb9f-4772-afad-95c325cdf869"
      },
      "source": [
        "h"
      ],
      "id": "2415610c",
      "execution_count": null,
      "outputs": [
        {
          "data": {
            "text/plain": [
              "41"
            ]
          },
          "execution_count": 19,
          "metadata": {},
          "output_type": "execute_result"
        }
      ]
    },
    {
      "cell_type": "code",
      "metadata": {
        "id": "f646836b",
        "outputId": "ab872e64-ebef-427a-927c-f218054a7062"
      },
      "source": [
        "thomas = 33\n",
        "edwin = 30\n",
        "walter =\n",
        "isabella = 44"
      ],
      "id": "f646836b",
      "execution_count": null,
      "outputs": [
        {
          "ename": "SyntaxError",
          "evalue": "invalid syntax (<ipython-input-20-3b116f8797b0>, line 3)",
          "output_type": "error",
          "traceback": [
            "\u001b[0;36m  File \u001b[0;32m\"<ipython-input-20-3b116f8797b0>\"\u001b[0;36m, line \u001b[0;32m3\u001b[0m\n\u001b[0;31m    walter =\u001b[0m\n\u001b[0m            ^\u001b[0m\n\u001b[0;31mSyntaxError\u001b[0m\u001b[0;31m:\u001b[0m invalid syntax\n"
          ]
        }
      ]
    },
    {
      "cell_type": "code",
      "metadata": {
        "colab": {
          "base_uri": "https://localhost:8080/",
          "height": 225
        },
        "id": "e9706736",
        "outputId": "27fbbefc-05dd-4271-df43-9b34cab1e5d0"
      },
      "source": [
        "thomas = 33\n",
        "edwin = 30\n",
        "walter = X\n",
        "isabella = 44"
      ],
      "id": "e9706736",
      "execution_count": null,
      "outputs": [
        {
          "output_type": "error",
          "ename": "NameError",
          "evalue": "ignored",
          "traceback": [
            "\u001b[0;31m---------------------------------------------------------------------------\u001b[0m",
            "\u001b[0;31mNameError\u001b[0m                                 Traceback (most recent call last)",
            "\u001b[0;32m<ipython-input-1-677358272ab6>\u001b[0m in \u001b[0;36m<module>\u001b[0;34m()\u001b[0m\n\u001b[1;32m      1\u001b[0m \u001b[0mthomas\u001b[0m \u001b[0;34m=\u001b[0m \u001b[0;36m33\u001b[0m\u001b[0;34m\u001b[0m\u001b[0;34m\u001b[0m\u001b[0m\n\u001b[1;32m      2\u001b[0m \u001b[0medwin\u001b[0m \u001b[0;34m=\u001b[0m \u001b[0;36m30\u001b[0m\u001b[0;34m\u001b[0m\u001b[0;34m\u001b[0m\u001b[0m\n\u001b[0;32m----> 3\u001b[0;31m \u001b[0mwalter\u001b[0m \u001b[0;34m=\u001b[0m \u001b[0mX\u001b[0m\u001b[0;34m\u001b[0m\u001b[0;34m\u001b[0m\u001b[0m\n\u001b[0m\u001b[1;32m      4\u001b[0m \u001b[0misabella\u001b[0m \u001b[0;34m=\u001b[0m \u001b[0;36m44\u001b[0m\u001b[0;34m\u001b[0m\u001b[0;34m\u001b[0m\u001b[0m\n",
            "\u001b[0;31mNameError\u001b[0m: name 'X' is not defined"
          ]
        }
      ]
    },
    {
      "cell_type": "code",
      "metadata": {
        "id": "17095122"
      },
      "source": [
        "thomas = 33\n",
        "edwin = 30\n",
        "walter = None\n",
        "isabella = 44+1"
      ],
      "id": "17095122",
      "execution_count": null,
      "outputs": []
    },
    {
      "cell_type": "code",
      "metadata": {
        "id": "303db385",
        "outputId": "3bde12db-80ca-4d9c-9182-8ba96d749f44"
      },
      "source": [
        "type(\"ali\")"
      ],
      "id": "303db385",
      "execution_count": null,
      "outputs": [
        {
          "data": {
            "text/plain": [
              "str"
            ]
          },
          "execution_count": 25,
          "metadata": {},
          "output_type": "execute_result"
        }
      ]
    },
    {
      "cell_type": "code",
      "metadata": {
        "id": "e39a62a2",
        "outputId": "1134131c-44b7-491f-93ef-0fa58a3cc0cf"
      },
      "source": [
        "type(\"veli\")"
      ],
      "id": "e39a62a2",
      "execution_count": null,
      "outputs": [
        {
          "data": {
            "text/plain": [
              "str"
            ]
          },
          "execution_count": 26,
          "metadata": {},
          "output_type": "execute_result"
        }
      ]
    },
    {
      "cell_type": "code",
      "metadata": {
        "id": "5658049d",
        "outputId": "c877d76a-b53d-426a-e735-b860b4f33ab9"
      },
      "source": [
        "type(a)"
      ],
      "id": "5658049d",
      "execution_count": null,
      "outputs": [
        {
          "data": {
            "text/plain": [
              "str"
            ]
          },
          "execution_count": 27,
          "metadata": {},
          "output_type": "execute_result"
        }
      ]
    },
    {
      "cell_type": "code",
      "metadata": {
        "id": "2d158bee",
        "outputId": "b5f2674d-ba33-43ba-e457-b77f900d6103"
      },
      "source": [
        "type(cc)"
      ],
      "id": "2d158bee",
      "execution_count": null,
      "outputs": [
        {
          "ename": "NameError",
          "evalue": "name 'cc' is not defined",
          "output_type": "error",
          "traceback": [
            "\u001b[0;31m---------------------------------------------------------------------------\u001b[0m",
            "\u001b[0;31mNameError\u001b[0m                                 Traceback (most recent call last)",
            "\u001b[0;32m<ipython-input-28-8e1badea3ece>\u001b[0m in \u001b[0;36m<module>\u001b[0;34m\u001b[0m\n\u001b[0;32m----> 1\u001b[0;31m \u001b[0mtype\u001b[0m\u001b[0;34m(\u001b[0m\u001b[0mcc\u001b[0m\u001b[0;34m)\u001b[0m\u001b[0;34m\u001b[0m\u001b[0;34m\u001b[0m\u001b[0m\n\u001b[0m",
            "\u001b[0;31mNameError\u001b[0m: name 'cc' is not defined"
          ]
        }
      ]
    },
    {
      "cell_type": "code",
      "metadata": {
        "id": "4eb4e3e0",
        "outputId": "3c11fb78-ab69-4748-a7e7-8f3dbf3a8e17"
      },
      "source": [
        "type(\"deli\")"
      ],
      "id": "4eb4e3e0",
      "execution_count": null,
      "outputs": [
        {
          "data": {
            "text/plain": [
              "str"
            ]
          },
          "execution_count": 29,
          "metadata": {},
          "output_type": "execute_result"
        }
      ]
    },
    {
      "cell_type": "code",
      "metadata": {
        "id": "3d938504",
        "outputId": "075edf10-e40f-4b77-f1ac-fcb1bfde0c07"
      },
      "source": [
        "\"clarusway@gmail.com\""
      ],
      "id": "3d938504",
      "execution_count": null,
      "outputs": [
        {
          "data": {
            "text/plain": [
              "'clarusway@gmail.com'"
            ]
          },
          "execution_count": 30,
          "metadata": {},
          "output_type": "execute_result"
        }
      ]
    },
    {
      "cell_type": "code",
      "metadata": {
        "id": "e9ad60da",
        "outputId": "7487b5eb-3634-4e89-add5-d4ed656e1607"
      },
      "source": [
        "\"Tom's cat\""
      ],
      "id": "e9ad60da",
      "execution_count": null,
      "outputs": [
        {
          "data": {
            "text/plain": [
              "\"Tom's cat\""
            ]
          },
          "execution_count": 32,
          "metadata": {},
          "output_type": "execute_result"
        }
      ]
    },
    {
      "cell_type": "code",
      "metadata": {
        "id": "bd42bea1",
        "outputId": "7c3a5b0c-1e39-442c-c2ab-818fbe7699eb"
      },
      "source": [
        "10.5"
      ],
      "id": "bd42bea1",
      "execution_count": null,
      "outputs": [
        {
          "data": {
            "text/plain": [
              "10.5"
            ]
          },
          "execution_count": 33,
          "metadata": {},
          "output_type": "execute_result"
        }
      ]
    },
    {
      "cell_type": "code",
      "metadata": {
        "id": "3ba6f236",
        "outputId": "06dcc33a-5b95-4bde-9d25-20269e02b8b6"
      },
      "source": [
        "type(0.0)"
      ],
      "id": "3ba6f236",
      "execution_count": null,
      "outputs": [
        {
          "data": {
            "text/plain": [
              "float"
            ]
          },
          "execution_count": 34,
          "metadata": {},
          "output_type": "execute_result"
        }
      ]
    },
    {
      "cell_type": "code",
      "metadata": {
        "id": "deffe655",
        "outputId": "4340ffca-3e41-4aae-bf54-676023139dce"
      },
      "source": [
        "0.0 == 0"
      ],
      "id": "deffe655",
      "execution_count": null,
      "outputs": [
        {
          "data": {
            "text/plain": [
              "True"
            ]
          },
          "execution_count": 35,
          "metadata": {},
          "output_type": "execute_result"
        }
      ]
    },
    {
      "cell_type": "code",
      "metadata": {
        "id": "1acba676",
        "outputId": "44f15f80-4435-4ca0-eafd-74c7bf08b58a"
      },
      "source": [
        "int(\"ali\")"
      ],
      "id": "1acba676",
      "execution_count": null,
      "outputs": [
        {
          "ename": "ValueError",
          "evalue": "invalid literal for int() with base 10: 'ali'",
          "output_type": "error",
          "traceback": [
            "\u001b[0;31m---------------------------------------------------------------------------\u001b[0m",
            "\u001b[0;31mValueError\u001b[0m                                Traceback (most recent call last)",
            "\u001b[0;32m<ipython-input-36-f69bbecb707e>\u001b[0m in \u001b[0;36m<module>\u001b[0;34m\u001b[0m\n\u001b[0;32m----> 1\u001b[0;31m \u001b[0mint\u001b[0m\u001b[0;34m(\u001b[0m\u001b[0;34m\"ali\"\u001b[0m\u001b[0;34m)\u001b[0m\u001b[0;34m\u001b[0m\u001b[0;34m\u001b[0m\u001b[0m\n\u001b[0m",
            "\u001b[0;31mValueError\u001b[0m: invalid literal for int() with base 10: 'ali'"
          ]
        }
      ]
    },
    {
      "cell_type": "code",
      "metadata": {
        "id": "a2303e99",
        "outputId": "d5b948d0-c7d1-4c90-e9f2-174670abb06a"
      },
      "source": [
        "str(False)"
      ],
      "id": "a2303e99",
      "execution_count": null,
      "outputs": [
        {
          "data": {
            "text/plain": [
              "'False'"
            ]
          },
          "execution_count": 37,
          "metadata": {},
          "output_type": "execute_result"
        }
      ]
    },
    {
      "cell_type": "code",
      "metadata": {
        "id": "6b2d7557",
        "outputId": "a4cac0ec-c882-4f87-db6e-528913fc1d59"
      },
      "source": [
        "str(True)"
      ],
      "id": "6b2d7557",
      "execution_count": null,
      "outputs": [
        {
          "data": {
            "text/plain": [
              "'True'"
            ]
          },
          "execution_count": 38,
          "metadata": {},
          "output_type": "execute_result"
        }
      ]
    },
    {
      "cell_type": "code",
      "metadata": {
        "id": "e536c487",
        "outputId": "c93f7f8b-f729-49da-f77e-702e7789b14b"
      },
      "source": [
        "str(100)"
      ],
      "id": "e536c487",
      "execution_count": null,
      "outputs": [
        {
          "data": {
            "text/plain": [
              "'100'"
            ]
          },
          "execution_count": 39,
          "metadata": {},
          "output_type": "execute_result"
        }
      ]
    },
    {
      "cell_type": "code",
      "metadata": {
        "id": "038e3971",
        "outputId": "27ab2f53-5877-402e-f4ff-98b12bc3bf36"
      },
      "source": [
        "str(3.14)"
      ],
      "id": "038e3971",
      "execution_count": null,
      "outputs": [
        {
          "data": {
            "text/plain": [
              "'3.14'"
            ]
          },
          "execution_count": 40,
          "metadata": {},
          "output_type": "execute_result"
        }
      ]
    },
    {
      "cell_type": "code",
      "metadata": {
        "id": "7fd36a68",
        "outputId": "9bd8a50c-6d25-4297-ed92-00a34fa1f48d"
      },
      "source": [
        "int(4.9)"
      ],
      "id": "7fd36a68",
      "execution_count": null,
      "outputs": [
        {
          "data": {
            "text/plain": [
              "4"
            ]
          },
          "execution_count": 41,
          "metadata": {},
          "output_type": "execute_result"
        }
      ]
    },
    {
      "cell_type": "code",
      "metadata": {
        "id": "d01f3029",
        "outputId": "440d7d63-ab4b-43e8-804a-5dd5ae994c73"
      },
      "source": [
        "float(4)"
      ],
      "id": "d01f3029",
      "execution_count": null,
      "outputs": [
        {
          "data": {
            "text/plain": [
              "4.0"
            ]
          },
          "execution_count": 43,
          "metadata": {},
          "output_type": "execute_result"
        }
      ]
    },
    {
      "cell_type": "code",
      "metadata": {
        "id": "dc192589",
        "outputId": "fedf6f62-9b6f-4063-a858-56e35cb00263"
      },
      "source": [
        "float(\"4\")"
      ],
      "id": "dc192589",
      "execution_count": null,
      "outputs": [
        {
          "data": {
            "text/plain": [
              "4.0"
            ]
          },
          "execution_count": 42,
          "metadata": {},
          "output_type": "execute_result"
        }
      ]
    },
    {
      "cell_type": "code",
      "metadata": {
        "id": "8ccab411",
        "outputId": "5b240b93-89f3-42db-d6cb-a2789ea48de5"
      },
      "source": [
        "\"clarus\" + \"way\""
      ],
      "id": "8ccab411",
      "execution_count": null,
      "outputs": [
        {
          "data": {
            "text/plain": [
              "'clarusway'"
            ]
          },
          "execution_count": 44,
          "metadata": {},
          "output_type": "execute_result"
        }
      ]
    },
    {
      "cell_type": "code",
      "metadata": {
        "id": "a610934b"
      },
      "source": [
        "part1 = \"clarus\"\n",
        "part2 = \"way\""
      ],
      "id": "a610934b",
      "execution_count": null,
      "outputs": []
    },
    {
      "cell_type": "code",
      "metadata": {
        "id": "620c3a99",
        "outputId": "7d229a1b-ebc1-49d7-c92e-bc24d192c1b7"
      },
      "source": [
        "part1 + part2"
      ],
      "id": "620c3a99",
      "execution_count": null,
      "outputs": [
        {
          "data": {
            "text/plain": [
              "'clarusway'"
            ]
          },
          "execution_count": 46,
          "metadata": {},
          "output_type": "execute_result"
        }
      ]
    },
    {
      "cell_type": "code",
      "metadata": {
        "id": "65df1229",
        "outputId": "1bda4617-e2b0-420e-c642-93ec1dacb31b"
      },
      "source": [
        "\"ali \" + \"demir\""
      ],
      "id": "65df1229",
      "execution_count": null,
      "outputs": [
        {
          "data": {
            "text/plain": [
              "'ali demir'"
            ]
          },
          "execution_count": 47,
          "metadata": {},
          "output_type": "execute_result"
        }
      ]
    },
    {
      "cell_type": "code",
      "metadata": {
        "id": "0560cbaa",
        "outputId": "7d481a01-f73c-447b-88db-668ec4589c9e"
      },
      "source": [
        "\"ali \" + \"-demir\""
      ],
      "id": "0560cbaa",
      "execution_count": null,
      "outputs": [
        {
          "data": {
            "text/plain": [
              "'ali -demir'"
            ]
          },
          "execution_count": 48,
          "metadata": {},
          "output_type": "execute_result"
        }
      ]
    },
    {
      "cell_type": "code",
      "metadata": {
        "id": "a6e55a1f"
      },
      "source": [
        ""
      ],
      "id": "a6e55a1f",
      "execution_count": null,
      "outputs": []
    }
  ]
}
{
  "cells": [
    {
      "cell_type": "code",
      "execution_count": null,
      "id": "3351c407",
      "metadata": {
        "id": "3351c407"
      },
      "outputs": [],
      "source": [
        "bool_value = False"
      ]
    },
    {
      "cell_type": "code",
      "execution_count": null,
      "id": "539c5faf",
      "metadata": {
        "id": "539c5faf",
        "outputId": "c5068898-ea99-480d-bb71-17aed0e9c69c"
      },
      "outputs": [
        {
          "name": "stdout",
          "output_type": "stream",
          "text": [
            "No\n"
          ]
        }
      ],
      "source": [
        "if bool_value :\n",
        "    print(\"Yes\")\n",
        "    \n",
        "else : \n",
        "    print(\"No\")"
      ]
    },
    {
      "cell_type": "code",
      "execution_count": null,
      "id": "41f6ceae",
      "metadata": {
        "id": "41f6ceae"
      },
      "outputs": [],
      "source": [
        "bool_value = True"
      ]
    },
    {
      "cell_type": "code",
      "execution_count": null,
      "id": "636aa782",
      "metadata": {
        "id": "636aa782",
        "outputId": "9e308878-b118-4261-c930-0c147a03a0d7"
      },
      "outputs": [
        {
          "name": "stdout",
          "output_type": "stream",
          "text": [
            "Yes\n"
          ]
        }
      ],
      "source": [
        "if bool_value :\n",
        "    print(\"Yes\")\n",
        "    \n",
        "else : \n",
        "    print(\"No\")"
      ]
    },
    {
      "cell_type": "code",
      "execution_count": null,
      "id": "963ab3e8",
      "metadata": {
        "id": "963ab3e8",
        "outputId": "9603f944-38a3-4301-87d8-fc79fd1a4033"
      },
      "outputs": [
        {
          "name": "stdout",
          "output_type": "stream",
          "text": [
            "if bloku çalıştı\n"
          ]
        }
      ],
      "source": [
        "if True :\n",
        "    print(\"if bloku çalıştı\")\n",
        "elif True :\n",
        "    print(\"ilk elif bloku çalıştı\")"
      ]
    },
    {
      "cell_type": "code",
      "execution_count": null,
      "id": "d4ab51c3",
      "metadata": {
        "id": "d4ab51c3",
        "outputId": "6260231d-b94b-4bcd-ae60-6f8fef2b12ce"
      },
      "outputs": [
        {
          "name": "stdout",
          "output_type": "stream",
          "text": [
            "if bloku çalıştı\n",
            "ilk elif bloku çalıştı\n"
          ]
        }
      ],
      "source": [
        "if True :\n",
        "    print(\"if bloku çalıştı\")\n",
        "if True :\n",
        "    print(\"ilk elif bloku çalıştı\")"
      ]
    },
    {
      "cell_type": "code",
      "execution_count": null,
      "id": "5841d8de",
      "metadata": {
        "id": "5841d8de",
        "outputId": "49eadaba-ead6-442f-f063-52442843c40e"
      },
      "outputs": [
        {
          "name": "stdout",
          "output_type": "stream",
          "text": [
            "Enter first number :7\n",
            "Enter second number :5\n",
            "Enter third number :3\n",
            "the largest number is :  7.0\n"
          ]
        }
      ],
      "source": [
        "num1 = float(input(\"Enter first number :\"))\n",
        "num2 = float(input(\"Enter second number :\"))\n",
        "num3 = float(input(\"Enter third number :\"))\n",
        "\n",
        "if (num1 > num2) and (num1 > num3) :\n",
        "    largest = num1\n",
        "elif (num2 > num1) and (num2 > num3) :\n",
        "    largest = num2\n",
        "else :\n",
        "    largest = num3\n",
        "    \n",
        "print(\"the largest number is : \", largest)"
      ]
    },
    {
      "cell_type": "code",
      "execution_count": null,
      "id": "7ec3dac3",
      "metadata": {
        "id": "7ec3dac3",
        "outputId": "06d3f8ad-bc83-4257-c5f1-67477d883ae1"
      },
      "outputs": [
        {
          "name": "stdout",
          "output_type": "stream",
          "text": [
            "enter a number :-8\n",
            "Negative number.\n"
          ]
        }
      ],
      "source": [
        "num = float(input(\"enter a number :\"))\n",
        "\n",
        "if num > 0 :\n",
        "    print(\"Positive number.\")\n",
        "elif num == 0 :\n",
        "    print(\"Zero\")\n",
        "else :\n",
        "    print(\"Negative number.\")"
      ]
    },
    {
      "cell_type": "code",
      "execution_count": null,
      "id": "b17c2591",
      "metadata": {
        "id": "b17c2591",
        "outputId": "c977adeb-338e-4cd4-86be-8c8b2779d206"
      },
      "outputs": [
        {
          "name": "stdout",
          "output_type": "stream",
          "text": [
            "enter a number :0\n",
            "Zero\n"
          ]
        }
      ],
      "source": [
        "num = float(input(\"enter a number :\"))\n",
        "\n",
        "if num > 0 :\n",
        "    print(\"Positive number.\")\n",
        "elif num == 0 :\n",
        "    print(\"Zero\")\n",
        "else :\n",
        "    print(\"Negative number.\")"
      ]
    },
    {
      "cell_type": "code",
      "execution_count": null,
      "id": "87a45e7e",
      "metadata": {
        "id": "87a45e7e",
        "outputId": "b1479a35-49cf-43f2-d376-a847025b5812"
      },
      "outputs": [
        {
          "name": "stdout",
          "output_type": "stream",
          "text": [
            "Enter your score :88\n",
            "Your degree is :  B+\n"
          ]
        }
      ],
      "source": [
        "score = int(input(\"Enter your score :\"))\n",
        "\n",
        "if score >= 90 :\n",
        "    if score >= 95 :\n",
        "        score_letter = \"A+\"\n",
        "    else :\n",
        "        score_letter = \"A\"\n",
        "        \n",
        "elif score >= 80 :\n",
        "    if score >= 85 :\n",
        "        score_letter = \"B+\"\n",
        "    else :\n",
        "        score_letter = \"B\"\n",
        "\n",
        "else :\n",
        "    score_letter = \"B-\"\n",
        "    \n",
        "print(\"Your degree is : \", score_letter)"
      ]
    },
    {
      "cell_type": "code",
      "execution_count": null,
      "id": "edf8a98d",
      "metadata": {
        "id": "edf8a98d",
        "outputId": "3c7fcbcb-83d6-42f7-9757-724c594054f9"
      },
      "outputs": [
        {
          "name": "stdout",
          "output_type": "stream",
          "text": [
            "Enter your score :95\n",
            "Your degree is :  A+\n"
          ]
        }
      ],
      "source": [
        "score = int(input(\"Enter your score :\"))\n",
        "\n",
        "if score >= 90 :\n",
        "    if score >= 95 :\n",
        "        score_letter = \"A+\"\n",
        "    else :\n",
        "        score_letter = \"A\"\n",
        "        \n",
        "elif score >= 80 :\n",
        "    if score >= 85 :\n",
        "        score_letter = \"B+\"\n",
        "    else :\n",
        "        score_letter = \"B\"\n",
        "\n",
        "else :\n",
        "    score_letter = \"B-\"\n",
        "    \n",
        "print(\"Your degree is : \", score_letter)"
      ]
    },
    {
      "cell_type": "code",
      "execution_count": null,
      "id": "75eaa312",
      "metadata": {
        "id": "75eaa312"
      },
      "outputs": [],
      "source": [
        "while 0 :\n",
        "    print(\"one\")"
      ]
    },
    {
      "cell_type": "code",
      "execution_count": null,
      "id": "c8ca6112",
      "metadata": {
        "id": "c8ca6112",
        "outputId": "41d107e0-5187-470b-ff79-e955e181eac2"
      },
      "outputs": [
        {
          "name": "stdout",
          "output_type": "stream",
          "text": [
            "4\n",
            "3\n",
            "2\n",
            "1\n",
            "0\n"
          ]
        }
      ],
      "source": [
        "condition = 5\n",
        "\n",
        "while condition :\n",
        "    \n",
        "    condition -= 1\n",
        "    \n",
        "    print(condition)"
      ]
    },
    {
      "cell_type": "code",
      "execution_count": null,
      "id": "2d51c3ea",
      "metadata": {
        "id": "2d51c3ea",
        "outputId": "be0bbfe9-344c-4e17-8abc-db78653c7d95"
      },
      "outputs": [
        {
          "name": "stdout",
          "output_type": "stream",
          "text": [
            "4\n",
            "3\n",
            "2\n",
            "1\n",
            "0\n"
          ]
        }
      ],
      "source": [
        "condition = 5\n",
        "\n",
        "while True :\n",
        "    \n",
        "    condition -= 1\n",
        "    \n",
        "    print(condition)\n",
        "    \n",
        "    if condition == 0 :\n",
        "        break"
      ]
    },
    {
      "cell_type": "code",
      "execution_count": null,
      "id": "6720a42f",
      "metadata": {
        "id": "6720a42f",
        "outputId": "7dfce999-53d3-4e8d-b1ef-5dfc682c285d"
      },
      "outputs": [
        {
          "data": {
            "text/plain": [
              "False"
            ]
          },
          "execution_count": 15,
          "metadata": {},
          "output_type": "execute_result"
        }
      ],
      "source": [
        "\"onaltı\".isdigit()"
      ]
    },
    {
      "cell_type": "code",
      "execution_count": null,
      "id": "57f299f4",
      "metadata": {
        "id": "57f299f4",
        "outputId": "8c1c04c0-3efa-4a98-b2c6-937082301d3a"
      },
      "outputs": [
        {
          "data": {
            "text/plain": [
              "True"
            ]
          },
          "execution_count": 16,
          "metadata": {},
          "output_type": "execute_result"
        }
      ],
      "source": [
        "\"44\".isdigit()"
      ]
    },
    {
      "cell_type": "code",
      "execution_count": null,
      "id": "b6f82468",
      "metadata": {
        "id": "b6f82468",
        "outputId": "8876a186-f697-4c43-b5b0-824723a52790"
      },
      "outputs": [
        {
          "data": {
            "text/plain": [
              "False"
            ]
          },
          "execution_count": 17,
          "metadata": {},
          "output_type": "execute_result"
        }
      ],
      "source": [
        "\"44.0\".isdigit()"
      ]
    },
    {
      "cell_type": "code",
      "execution_count": null,
      "id": "6efea623",
      "metadata": {
        "id": "6efea623",
        "outputId": "a01d1871-4aaf-4b3b-dd7b-1d40162175f5"
      },
      "outputs": [
        {
          "data": {
            "text/plain": [
              "False"
            ]
          },
          "execution_count": 18,
          "metadata": {},
          "output_type": "execute_result"
        }
      ],
      "source": [
        "\"-33\".isdigit()"
      ]
    },
    {
      "cell_type": "code",
      "execution_count": null,
      "id": "011a4a5b",
      "metadata": {
        "id": "011a4a5b"
      },
      "outputs": [],
      "source": [
        "age = input(\"Enter your age please :\")\n",
        "\n",
        "while not age.isdigit() :\n",
        "    \n",
        "    print(\"You entered incorrect.\")\n",
        "    \n",
        "    age = input(\"Enter your age again :\")\n",
        "    \n",
        "print(\"Great! You enter valid input : \", age)"
      ]
    },
    {
      "cell_type": "code",
      "execution_count": null,
      "id": "b481b432",
      "metadata": {
        "id": "b481b432",
        "outputId": "d2832a5f-e333-4824-90dc-6665812ed838"
      },
      "outputs": [
        {
          "data": {
            "text/plain": [
              "True"
            ]
          },
          "execution_count": 19,
          "metadata": {},
          "output_type": "execute_result"
        }
      ],
      "source": [
        "\"a\" > \"A\""
      ]
    },
    {
      "cell_type": "code",
      "execution_count": null,
      "id": "df8c2081",
      "metadata": {
        "id": "df8c2081",
        "outputId": "560c0f20-7e3d-4746-ad30-dc81801101be"
      },
      "outputs": [
        {
          "data": {
            "text/plain": [
              "True"
            ]
          },
          "execution_count": 20,
          "metadata": {},
          "output_type": "execute_result"
        }
      ],
      "source": [
        "\"a\" == \"a\""
      ]
    },
    {
      "cell_type": "code",
      "execution_count": null,
      "id": "560c600b",
      "metadata": {
        "id": "560c600b",
        "outputId": "fb474f3d-b7f7-4784-f8a8-7f55e2cbaf15"
      },
      "outputs": [
        {
          "data": {
            "text/plain": [
              "False"
            ]
          },
          "execution_count": 21,
          "metadata": {},
          "output_type": "execute_result"
        }
      ],
      "source": [
        "\"bb\" == \"bB\""
      ]
    },
    {
      "cell_type": "code",
      "execution_count": null,
      "id": "6bfd9abc",
      "metadata": {
        "id": "6bfd9abc",
        "outputId": "f5641c6e-e704-42a6-8a27-ce8dfbe2dfb5"
      },
      "outputs": [
        {
          "name": "stdout",
          "output_type": "stream",
          "text": [
            "Enter your age please : -44\n",
            "You entered incorrectly!\n",
            "Enter your age please : onaltı\n",
            "You entered incorrectly!\n",
            "Enter your age please : -0\n",
            "You entered incorrectly!\n",
            "Enter your age please : 888\n",
            "Great! You enter valid input :  888\n"
          ]
        }
      ],
      "source": [
        "age = input('Enter your age please : ')\n",
        "\n",
        "while not age.isdigit():\n",
        "\tprint ('You entered incorrectly!')\n",
        "\tage = input('Enter your age please : ')\n",
        "print('Great! You enter valid input : ',age)"
      ]
    },
    {
      "cell_type": "code",
      "execution_count": null,
      "id": "984d3ce4",
      "metadata": {
        "id": "984d3ce4",
        "outputId": "1faceeb4-d019-45dd-c2d0-665661c26cc0"
      },
      "outputs": [
        {
          "name": "stdout",
          "output_type": "stream",
          "text": [
            "Let's play the guessing game!\n",
            "What a two-digit number ama I thinking of?88\n",
            "Little lower..\n",
            "What a two-digit number ama I thinking of?55\n",
            "Little lower..\n",
            "What a two-digit number ama I thinking of?11\n",
            "Little higher..\n",
            "What a two-digit number ama I thinking of?20\n",
            "Little higher..\n",
            "What a two-digit number ama I thinking of?22\n",
            "Are you a MINDREADER!!\n"
          ]
        }
      ],
      "source": [
        "answer = 22\n",
        "\n",
        "print(\"Let's play the guessing game!\")\n",
        "\n",
        "while True :\n",
        "    \n",
        "    guess = int(input(\"What a two-digit number ama I thinking of?\"))\n",
        "    \n",
        "    if guess < answer :\n",
        "        print(\"Little higher..\")\n",
        "    elif guess > answer :\n",
        "        print(\"Little lower..\")\n",
        "    else :\n",
        "        print(\"Are you a MINDREADER!!\")\n",
        "        break"
      ]
    },
    {
      "cell_type": "code",
      "execution_count": null,
      "id": "324d73cc",
      "metadata": {
        "id": "324d73cc",
        "outputId": "9afdf72d-c24e-4aa2-9258-60cef6dbec69"
      },
      "outputs": [
        {
          "data": {
            "text/plain": [
              "['The', 'best', 'is', 'Clarusway', 'always.']"
            ]
          },
          "execution_count": 27,
          "metadata": {},
          "output_type": "execute_result"
        }
      ],
      "source": [
        "\"The best is Clarusway always.\".split()"
      ]
    },
    {
      "cell_type": "code",
      "execution_count": null,
      "id": "cf3caef6",
      "metadata": {
        "id": "cf3caef6",
        "outputId": "8c067c4b-956e-4d41-d1c5-6bbc5d5631e1"
      },
      "outputs": [
        {
          "name": "stdout",
          "output_type": "stream",
          "text": [
            "Give me a sentence.clarusway is the best\n",
            "the length of the longest word : 9\n"
          ]
        }
      ],
      "source": [
        "sentence = input(\"Give me a sentence.\")\n",
        "\n",
        "word_list = sentence.split()\n",
        "i = 0\n",
        "longest = 0\n",
        "\n",
        "while i < len(word_list) :\n",
        "    \n",
        "    if len(word_list[i]) > longest :\n",
        "        \n",
        "        longest = len(word_list[i])\n",
        "        \n",
        "    i += 1\n",
        "    \n",
        "print(\"the length of the longest word :\", longest)"
      ]
    }
  ],
  "metadata": {
    "kernelspec": {
      "display_name": "Python 3",
      "language": "python",
      "name": "python3"
    },
    "language_info": {
      "codemirror_mode": {
        "name": "ipython",
        "version": 3
      },
      "file_extension": ".py",
      "mimetype": "text/x-python",
      "name": "python",
      "nbconvert_exporter": "python",
      "pygments_lexer": "ipython3",
      "version": "3.8.8"
    },
    "colab": {
      "name": "12_PythonBasic_8-November-2021.ipynb",
      "provenance": []
    }
  },
  "nbformat": 4,
  "nbformat_minor": 5
}
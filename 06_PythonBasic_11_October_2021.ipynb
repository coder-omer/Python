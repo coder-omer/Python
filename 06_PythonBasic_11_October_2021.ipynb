{
  "cells": [
    {
      "cell_type": "markdown",
      "id": "22263af8",
      "metadata": {
        "id": "22263af8"
      },
      "source": [
        "<h1><p style=\"text-align: center; color:darkblue\">Python In-Class, <br>11 October 2021</p><h1>"
      ]
    },
    {
      "cell_type": "code",
      "execution_count": null,
      "id": "b7b5dd8e",
      "metadata": {
        "id": "b7b5dd8e"
      },
      "outputs": [],
      "source": [
        "text = \"clarusway\""
      ]
    },
    {
      "cell_type": "code",
      "execution_count": null,
      "id": "5a676124",
      "metadata": {
        "id": "5a676124",
        "outputId": "09da953f-cb7b-45d6-cb92-26edca3893c6"
      },
      "outputs": [
        {
          "data": {
            "text/plain": [
              "True"
            ]
          },
          "execution_count": 4,
          "metadata": {},
          "output_type": "execute_result"
        }
      ],
      "source": [
        "text.startswith(\"u\", 4)"
      ]
    },
    {
      "cell_type": "code",
      "execution_count": null,
      "id": "eb589695",
      "metadata": {
        "id": "eb589695",
        "outputId": "c72fcd70-8361-4fa2-ad4e-4e7b0d75452f"
      },
      "outputs": [
        {
          "data": {
            "text/plain": [
              "False"
            ]
          },
          "execution_count": 3,
          "metadata": {},
          "output_type": "execute_result"
        }
      ],
      "source": [
        "text.endswith(\"ya\")"
      ]
    },
    {
      "cell_type": "code",
      "execution_count": null,
      "id": "4cebc176",
      "metadata": {
        "id": "4cebc176"
      },
      "outputs": [],
      "source": [
        "text.startswith()"
      ]
    },
    {
      "cell_type": "code",
      "execution_count": null,
      "id": "c9375829",
      "metadata": {
        "id": "c9375829",
        "outputId": "7844dd3c-d23b-40c2-aa33-4ada697c173f"
      },
      "outputs": [
        {
          "data": {
            "text/plain": [
              "'clarusway'"
            ]
          },
          "execution_count": 5,
          "metadata": {},
          "output_type": "execute_result"
        }
      ],
      "source": [
        "text.replace(\"c\", \"C\")\n",
        "print(text)"
      ]
    },
    {
      "cell_type": "code",
      "execution_count": null,
      "id": "2edee54d",
      "metadata": {
        "id": "2edee54d",
        "outputId": "db08723c-98d0-4571-b67d-930675498b65"
      },
      "outputs": [
        {
          "data": {
            "text/plain": [
              "str"
            ]
          },
          "execution_count": 7,
          "metadata": {},
          "output_type": "execute_result"
        }
      ],
      "source": [
        "type(text.replace(\"c\", \"C\"))"
      ]
    },
    {
      "cell_type": "code",
      "execution_count": null,
      "id": "05d4866e",
      "metadata": {
        "id": "05d4866e",
        "outputId": "8f0851f5-876a-40fa-ce9d-f72dd1c76f16"
      },
      "outputs": [
        {
          "data": {
            "text/plain": [
              "'clarusway'"
            ]
          },
          "execution_count": 8,
          "metadata": {},
          "output_type": "execute_result"
        }
      ],
      "source": [
        "text"
      ]
    },
    {
      "cell_type": "code",
      "execution_count": null,
      "id": "46b43b25",
      "metadata": {
        "id": "46b43b25"
      },
      "outputs": [],
      "source": [
        "yeni = text.replace(\"c\", \"C\")"
      ]
    },
    {
      "cell_type": "code",
      "execution_count": null,
      "id": "f584aef7",
      "metadata": {
        "id": "f584aef7",
        "outputId": "aded020e-8a87-4636-9e06-c0215a637e15"
      },
      "outputs": [
        {
          "data": {
            "text/plain": [
              "'Clarusway'"
            ]
          },
          "execution_count": 10,
          "metadata": {},
          "output_type": "execute_result"
        }
      ],
      "source": [
        "yeni"
      ]
    },
    {
      "cell_type": "code",
      "execution_count": null,
      "id": "dc3debb1",
      "metadata": {
        "id": "dc3debb1",
        "outputId": "f24ebb91-cbc5-4a0a-ed52-cb5f047c01c1"
      },
      "outputs": [
        {
          "name": "stdout",
          "output_type": "stream",
          "text": [
            "\tali veli deli\t\n"
          ]
        }
      ],
      "source": [
        "print(\"\\tali veli deli\\t\")"
      ]
    },
    {
      "cell_type": "code",
      "execution_count": null,
      "id": "16f599b5",
      "metadata": {
        "id": "16f599b5"
      },
      "outputs": [],
      "source": [
        "canlı_yayın = \"\\tali veli deli\\t\""
      ]
    },
    {
      "cell_type": "code",
      "execution_count": null,
      "id": "134184fe",
      "metadata": {
        "id": "134184fe",
        "outputId": "e36c6c6d-0702-41bc-b75b-44e477e0373d"
      },
      "outputs": [
        {
          "name": "stdout",
          "output_type": "stream",
          "text": [
            "ali veli deli\n"
          ]
        }
      ],
      "source": [
        "print(canlı_yayın.strip())"
      ]
    },
    {
      "cell_type": "code",
      "execution_count": null,
      "id": "f6136c6a",
      "metadata": {
        "id": "f6136c6a",
        "outputId": "eb476f30-1455-4811-b59e-fcb204ddf8d9"
      },
      "outputs": [
        {
          "data": {
            "text/plain": [
              "'laruswa'"
            ]
          },
          "execution_count": 17,
          "metadata": {},
          "output_type": "execute_result"
        }
      ],
      "source": [
        "\"clarusway\".strip(\"cy\")"
      ]
    },
    {
      "cell_type": "code",
      "execution_count": null,
      "id": "f63909d3",
      "metadata": {
        "id": "f63909d3"
      },
      "outputs": [],
      "source": [
        "a = 1"
      ]
    },
    {
      "cell_type": "code",
      "execution_count": null,
      "id": "b61dad41",
      "metadata": {
        "id": "b61dad41",
        "outputId": "68ba6b4c-e9cc-414a-fb16-1f1e70d0156f"
      },
      "outputs": [
        {
          "name": "stdout",
          "output_type": "stream",
          "text": [
            "-1\n"
          ]
        }
      ],
      "source": [
        "print(-a)"
      ]
    },
    {
      "cell_type": "code",
      "execution_count": null,
      "id": "41c58ea5",
      "metadata": {
        "id": "41c58ea5"
      },
      "outputs": [],
      "source": [
        "b = -11"
      ]
    },
    {
      "cell_type": "code",
      "execution_count": null,
      "id": "9c8cb167",
      "metadata": {
        "id": "9c8cb167",
        "outputId": "ae16f313-0dfa-4303-871d-64eab5d9a391"
      },
      "outputs": [
        {
          "name": "stdout",
          "output_type": "stream",
          "text": [
            "11\n"
          ]
        }
      ],
      "source": [
        "print(-b)"
      ]
    },
    {
      "cell_type": "code",
      "execution_count": null,
      "id": "e6b506ba",
      "metadata": {
        "id": "e6b506ba"
      },
      "outputs": [],
      "source": [
        "a = 3\n",
        "b = 4"
      ]
    },
    {
      "cell_type": "code",
      "execution_count": null,
      "id": "fad9f15d",
      "metadata": {
        "id": "fad9f15d",
        "outputId": "5bbb332b-7ed5-4ac5-c842-6851f3b98941"
      },
      "outputs": [
        {
          "name": "stdout",
          "output_type": "stream",
          "text": [
            "The sum of 3 + 4 is : 7\n"
          ]
        }
      ],
      "source": [
        "print(\"The sum of {} + {} is : {}\".format(a, b, a+b))"
      ]
    },
    {
      "cell_type": "code",
      "execution_count": null,
      "id": "56755ded",
      "metadata": {
        "id": "56755ded",
        "outputId": "722c6e72-84d4-4c34-8813-4f5eccaa0072"
      },
      "outputs": [
        {
          "name": "stdout",
          "output_type": "stream",
          "text": [
            "The multiplication of 3 x 4 is : 12\n"
          ]
        }
      ],
      "source": [
        "print(\"The multiplication of {} x {} is : {}\".format(a, b, a*b))"
      ]
    },
    {
      "cell_type": "code",
      "execution_count": null,
      "id": "39ff844d",
      "metadata": {
        "id": "39ff844d",
        "outputId": "a028c50c-15c1-48fd-8c85-ba2c9dceb4fb"
      },
      "outputs": [
        {
          "name": "stdout",
          "output_type": "stream",
          "text": [
            "The power of 3 to 2 is : 8\n"
          ]
        }
      ],
      "source": [
        "x = 2\n",
        "y = 3\n",
        "print(\"The power of {} to {} is : {}\".format(y, x, x ** y))"
      ]
    },
    {
      "cell_type": "code",
      "execution_count": null,
      "id": "6f92aa61",
      "metadata": {
        "id": "6f92aa61",
        "outputId": "9bf2e59c-6dde-4920-acda-35f33a02a9e2"
      },
      "outputs": [
        {
          "data": {
            "text/plain": [
              "'3.15, 5.367, 7.3243'"
            ]
          },
          "execution_count": 28,
          "metadata": {},
          "output_type": "execute_result"
        }
      ],
      "source": [
        "text = \"{:.2f}, {:.3f}, {:.4f}\".format(3.1463, 5.367, 7.324324)\n",
        "\n",
        "text"
      ]
    },
    {
      "cell_type": "code",
      "execution_count": null,
      "id": "9dc6996c",
      "metadata": {
        "id": "9dc6996c",
        "outputId": "100e832a-1edc-49f7-e819-c4baffb6e8cd"
      },
      "outputs": [
        {
          "data": {
            "text/plain": [
              "'3.1, 5.37, 7.324'"
            ]
          },
          "execution_count": 31,
          "metadata": {},
          "output_type": "execute_result"
        }
      ],
      "source": [
        "# text = \"{:.2}, {:.3}, {:.4}\".format(3.1463, 5.367, 7.324324)\n",
        "\n",
        "# text"
      ]
    },
    {
      "cell_type": "code",
      "execution_count": null,
      "id": "968e13b0",
      "metadata": {
        "id": "968e13b0",
        "outputId": "95e6ff65-0402-4a8c-b83a-ff94e5498483"
      },
      "outputs": [
        {
          "data": {
            "text/plain": [
              "'a3, 5.b, 7.32'"
            ]
          },
          "execution_count": 29,
          "metadata": {},
          "output_type": "execute_result"
        }
      ],
      "source": [
        "text = \"{:.2s}, {:.3s}, {:.4s}\".format(\"a3.1463\", \"5.b367\", \"7.324324c\")\n",
        "\n",
        "text"
      ]
    },
    {
      "cell_type": "code",
      "execution_count": null,
      "id": "74d574a4",
      "metadata": {
        "id": "74d574a4",
        "outputId": "39c4a567-7f37-4fda-9ce5-b1dfe24c27ee"
      },
      "outputs": [
        {
          "data": {
            "text/plain": [
              "'a3, 5.b, 7.32'"
            ]
          },
          "execution_count": 30,
          "metadata": {},
          "output_type": "execute_result"
        }
      ],
      "source": [
        "text = \"{:.2}, {:.3}, {:.4}\".format(\"a3.1463\", \"5.b367\", \"7.324324c\")\n",
        "\n",
        "text"
      ]
    },
    {
      "cell_type": "code",
      "execution_count": null,
      "id": "6c2f47e7",
      "metadata": {
        "id": "6c2f47e7",
        "outputId": "1c019a20-c613-4e3a-82ac-84ca937940d5"
      },
      "outputs": [
        {
          "data": {
            "text/plain": [
              "'      test'"
            ]
          },
          "execution_count": 32,
          "metadata": {},
          "output_type": "execute_result"
        }
      ],
      "source": [
        "text = \"{:>10}\".format(\"test\")\n",
        "\n",
        "text"
      ]
    },
    {
      "cell_type": "code",
      "execution_count": null,
      "id": "6e4ac9be",
      "metadata": {
        "id": "6e4ac9be",
        "outputId": "781ec042-9ac3-4bee-8b94-185692841b97"
      },
      "outputs": [
        {
          "data": {
            "text/plain": [
              "'test      '"
            ]
          },
          "execution_count": 33,
          "metadata": {},
          "output_type": "execute_result"
        }
      ],
      "source": [
        "text = \"{:<10}\".format(\"test\")\n",
        "\n",
        "text"
      ]
    },
    {
      "cell_type": "code",
      "execution_count": null,
      "id": "2f630356",
      "metadata": {
        "id": "2f630356",
        "outputId": "173e7b7a-642d-435e-ddfd-ca38f0d005d2"
      },
      "outputs": [
        {
          "data": {
            "text/plain": [
              "'formatlama satırı                 test bu da textin son kısmı'"
            ]
          },
          "execution_count": 34,
          "metadata": {},
          "output_type": "execute_result"
        }
      ],
      "source": [
        "text = \"formatlama satırı {:>20} bu da textin son kısmı\".format(\"test\")\n",
        "\n",
        "text"
      ]
    },
    {
      "cell_type": "code",
      "execution_count": null,
      "id": "a3dd4d87",
      "metadata": {
        "id": "a3dd4d87",
        "outputId": "df702378-98e5-442c-b49c-6339117b6b42"
      },
      "outputs": [
        {
          "data": {
            "text/plain": [
              "'bla bla okkes           formatlama cümleciğim benim'"
            ]
          },
          "execution_count": 35,
          "metadata": {},
          "output_type": "execute_result"
        }
      ],
      "source": [
        "text = \"bla bla {:<15} formatlama cümleciğim benim\".format(\"okkes\")\n",
        "\n",
        "text"
      ]
    },
    {
      "cell_type": "code",
      "execution_count": null,
      "id": "b55e4149",
      "metadata": {
        "id": "b55e4149",
        "outputId": "0b74a485-ce6b-4721-cf6e-c39e8f0cc9a6"
      },
      "outputs": [
        {
          "data": {
            "text/plain": [
              "'        abc         '"
            ]
          },
          "execution_count": 36,
          "metadata": {},
          "output_type": "execute_result"
        }
      ],
      "source": [
        "text = \"{:^20}\".format(\"abc\")\n",
        "\n",
        "text"
      ]
    },
    {
      "cell_type": "code",
      "execution_count": null,
      "id": "95e97fd2",
      "metadata": {
        "id": "95e97fd2",
        "outputId": "bb9bc143-b6da-4d10-b1ae-a0f283d21b5c"
      },
      "outputs": [
        {
          "data": {
            "text/plain": [
              "'hippo     '"
            ]
          },
          "execution_count": 37,
          "metadata": {},
          "output_type": "execute_result"
        }
      ],
      "source": [
        "\"{:10.5}\".format(\"hippopotamus\")"
      ]
    },
    {
      "cell_type": "code",
      "execution_count": null,
      "id": "541e09a1",
      "metadata": {
        "id": "541e09a1",
        "outputId": "f86eb6b0-3f88-4419-dbb2-69910c29970d"
      },
      "outputs": [
        {
          "data": {
            "text/plain": [
              "'          hippo'"
            ]
          },
          "execution_count": 38,
          "metadata": {},
          "output_type": "execute_result"
        }
      ],
      "source": [
        "\"{:>15.5}\".format(\"hippopotamus\")"
      ]
    },
    {
      "cell_type": "code",
      "execution_count": null,
      "id": "f59e2c5d",
      "metadata": {
        "id": "f59e2c5d",
        "outputId": "d5eff723-4967-4f1c-ab0e-487472575fe4"
      },
      "outputs": [
        {
          "data": {
            "text/plain": [
              "'+55'"
            ]
          },
          "execution_count": 39,
          "metadata": {},
          "output_type": "execute_result"
        }
      ],
      "source": [
        "\"{:+}\".format(55)"
      ]
    },
    {
      "cell_type": "code",
      "execution_count": null,
      "id": "ae16bb69",
      "metadata": {
        "id": "ae16bb69",
        "outputId": "d7cd0b6f-966d-47b9-afb9-8a505e60a963"
      },
      "outputs": [
        {
          "data": {
            "text/plain": [
              "False"
            ]
          },
          "execution_count": 42,
          "metadata": {},
          "output_type": "execute_result"
        }
      ],
      "source": [
        "age = False\n",
        "chronic = False\n",
        "immune = False\n",
        "\n",
        "\n",
        "risk = age or chronic or immune\n",
        "risk"
      ]
    }
  ],
  "metadata": {
    "kernelspec": {
      "display_name": "Python 3",
      "language": "python",
      "name": "python3"
    },
    "language_info": {
      "codemirror_mode": {
        "name": "ipython",
        "version": 3
      },
      "file_extension": ".py",
      "mimetype": "text/x-python",
      "name": "python",
      "nbconvert_exporter": "python",
      "pygments_lexer": "ipython3",
      "version": "3.8.8"
    },
    "colab": {
      "name": "06_PythonBasic_11-October-2021.ipynb",
      "provenance": []
    }
  },
  "nbformat": 4,
  "nbformat_minor": 5
}
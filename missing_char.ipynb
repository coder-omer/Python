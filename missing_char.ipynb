{
  "nbformat": 4,
  "nbformat_minor": 0,
  "metadata": {
    "colab": {
      "name": "missing_char.ipynb",
      "provenance": [],
      "collapsed_sections": [],
      "authorship_tag": "ABX9TyPC+wypy4ejvJmZ08dYrwj5",
      "include_colab_link": true
    },
    "kernelspec": {
      "name": "python3",
      "display_name": "Python 3"
    },
    "language_info": {
      "name": "python"
    }
  },
  "cells": [
    {
      "cell_type": "markdown",
      "metadata": {
        "id": "view-in-github",
        "colab_type": "text"
      },
      "source": [
        "<a href=\"https://colab.research.google.com/github/coder-omer/Python/blob/main/missing_char.ipynb\" target=\"_parent\"><img src=\"https://colab.research.google.com/assets/colab-badge.svg\" alt=\"Open In Colab\"/></a>"
      ]
    },
    {
      "cell_type": "code",
      "execution_count": null,
      "metadata": {
        "colab": {
          "base_uri": "https://localhost:8080/"
        },
        "id": "fODfVWzsZczr",
        "outputId": "c988cf55-e56c-42a7-a7aa-adc62553d65b"
      },
      "outputs": [
        {
          "output_type": "stream",
          "name": "stdout",
          "text": [
            "ktchen\n",
            "itchen\n",
            "kitcen\n"
          ]
        }
      ],
      "source": [
        "def missing_char(word, n):\n",
        "  word = word.replace(word[n],\"\")\n",
        "  return word\n",
        "\n",
        "print(missing_char('kitchen', 1))\n",
        "print(missing_char('kitchen', 0))\n",
        "print(missing_char('kitchen', 4))\n"
      ]
    },
    {
      "cell_type": "code",
      "source": [
        "a = \"almanya\"\n",
        "new_a = a.replace(\"m\",\"s\")\n",
        "print(a)\n",
        "print(new_a)"
      ],
      "metadata": {
        "colab": {
          "base_uri": "https://localhost:8080/"
        },
        "id": "e-fSLWQ8dSMM",
        "outputId": "2a7f260a-e7f6-441d-937c-10b2a912243c"
      },
      "execution_count": null,
      "outputs": [
        {
          "output_type": "stream",
          "name": "stdout",
          "text": [
            "almanya\n",
            "alsanya\n"
          ]
        }
      ]
    },
    {
      "cell_type": "code",
      "source": [
        "a = \"almanya\"\n",
        "new_a = a.replace(\"m\",\"\")\n",
        "print(a)\n",
        "print(new_a)"
      ],
      "metadata": {
        "colab": {
          "base_uri": "https://localhost:8080/"
        },
        "id": "1a7l4bIfekzS",
        "outputId": "7198f68f-fae5-4278-c58e-6c254a76b68c"
      },
      "execution_count": null,
      "outputs": [
        {
          "output_type": "stream",
          "name": "stdout",
          "text": [
            "almanya\n",
            "alanya\n"
          ]
        }
      ]
    },
    {
      "cell_type": "code",
      "source": [
        "a = \"almanya\"\n",
        "sil = a[4]\n",
        "new_a = a.replace(\"m\",\"s\")\n",
        "print(a)\n",
        "print(new_a)\n",
        "print()\n",
        "new2_a = a.replace(sil, \"\") \n",
        "print(new2_a)"
      ],
      "metadata": {
        "colab": {
          "base_uri": "https://localhost:8080/"
        },
        "id": "f6ydj0aBesj1",
        "outputId": "eaa597e7-7905-4c68-a745-511db6661c92"
      },
      "execution_count": null,
      "outputs": [
        {
          "output_type": "stream",
          "name": "stdout",
          "text": [
            "almanya\n",
            "alsanya\n",
            "\n",
            "almaya\n"
          ]
        }
      ]
    },
    {
      "cell_type": "code",
      "source": [
        "def missing_char(word, n):\n",
        "  word = word.replace(word[n],\"\")\n",
        "  return word\n",
        "\n",
        "print(missing_char('kitchen', 4))"
      ],
      "metadata": {
        "colab": {
          "base_uri": "https://localhost:8080/"
        },
        "id": "1Ii2bl1yfeqY",
        "outputId": "555e3cb9-7baf-4a8b-824d-6daf4e43542f"
      },
      "execution_count": null,
      "outputs": [
        {
          "output_type": "stream",
          "name": "stdout",
          "text": [
            "kitcen\n"
          ]
        }
      ]
    }
  ]
}
{
  "nbformat": 4,
  "nbformat_minor": 0,
  "metadata": {
    "colab": {
      "name": "Letters Count.ipynb",
      "provenance": [],
      "authorship_tag": "ABX9TyOQdweKfLvI+WG7cXLXdoFo",
      "include_colab_link": true
    },
    "kernelspec": {
      "name": "python3",
      "display_name": "Python 3"
    },
    "language_info": {
      "name": "python"
    }
  },
  "cells": [
    {
      "cell_type": "markdown",
      "metadata": {
        "id": "view-in-github",
        "colab_type": "text"
      },
      "source": [
        "<a href=\"https://colab.research.google.com/github/coder-omer/Python/blob/main/Letters_Count.ipynb\" target=\"_parent\"><img src=\"https://colab.research.google.com/assets/colab-badge.svg\" alt=\"Open In Colab\"/></a>"
      ]
    },
    {
      "cell_type": "code",
      "execution_count": null,
      "metadata": {
        "colab": {
          "base_uri": "https://localhost:8080/"
        },
        "id": "d-otyBw1g-Wt",
        "outputId": "40128610-2aae-419e-ff6d-949648e69a37"
      },
      "outputs": [
        {
          "output_type": "stream",
          "name": "stdout",
          "text": [
            "Please enter your sentence: hippo runs to us!\n",
            "{'h': 1, 'i': 1, 'p': 2, 'o': 2, ' ': 3, 'r': 1, 'u': 2, 'n': 1, 's': 2, 't': 1, '!': 1}\n"
          ]
        }
      ],
      "source": [
        "sentence = input(\"Please enter your sentence: \")\n",
        "letters = []\n",
        "counts = []\n",
        "\n",
        "for i in sentence:\n",
        "  if i not in letters:\n",
        "    letters.append(i)\n",
        "    counts.append(sentence.count(i))\n",
        "\n",
        "dictionary = {key:value for key, value in zip(letters, counts)} \n",
        "print(dictionary)"
      ]
    },
    {
      "cell_type": "code",
      "source": [
        "veri = [\"a\", \"b\", True, (False, 1), {\"1\" : 2}, [1,2], {\"2\" : \"two\"}, {2, \"3\"}, \"c\", 23, 0]"
      ],
      "metadata": {
        "id": "ghsRwqUyd4bX"
      },
      "execution_count": null,
      "outputs": []
    },
    {
      "cell_type": "code",
      "source": [
        "tipler = [\"int\", \"str\", \"bool\", \"list\", \"tuple\", \"dict\", \"set\"]"
      ],
      "metadata": {
        "id": "N-UyxCAVdue4"
      },
      "execution_count": null,
      "outputs": []
    }
  ]
}
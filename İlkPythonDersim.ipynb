{
  "nbformat": 4,
  "nbformat_minor": 0,
  "metadata": {
    "colab": {
      "name": "İlkPythonDersim.ipynb",
      "provenance": [],
      "authorship_tag": "ABX9TyPqhRAGSgzFqpEtzxqjObnk"
    },
    "kernelspec": {
      "name": "python3",
      "display_name": "Python 3"
    },
    "language_info": {
      "name": "python"
    }
  },
  "cells": [
    {
      "cell_type": "code",
      "metadata": {
        "colab": {
          "base_uri": "https://localhost:8080/"
        },
        "id": "IBhwztce2z5J",
        "outputId": "a1e60566-8f1a-4cf9-e672-d310cd144424"
      },
      "source": [
        "print(\"hello world!\")\n",
        "print(\"öğreniyorum\")\n",
        "print(\"güzel\")"
      ],
      "execution_count": null,
      "outputs": [
        {
          "output_type": "stream",
          "name": "stdout",
          "text": [
            "hello world!\n",
            "öğreniyorum\n",
            "güzel\n"
          ]
        }
      ]
    },
    {
      "cell_type": "code",
      "metadata": {
        "colab": {
          "base_uri": "https://localhost:8080/"
        },
        "id": "uFWSVFsAiJiX",
        "outputId": "81e1fec7-963b-47eb-a973-16f9aaad3c30"
      },
      "source": [
        "type(\"ali\")"
      ],
      "execution_count": null,
      "outputs": [
        {
          "output_type": "execute_result",
          "data": {
            "text/plain": [
              "str"
            ]
          },
          "metadata": {},
          "execution_count": 1
        }
      ]
    },
    {
      "cell_type": "code",
      "metadata": {
        "colab": {
          "base_uri": "https://localhost:8080/"
        },
        "id": "XBNuhEVk97tm",
        "outputId": "2be05e96-193f-4dae-bb07-c2d74efb7258"
      },
      "source": [
        "print('Sevim\"in kedisi')"
      ],
      "execution_count": null,
      "outputs": [
        {
          "output_type": "stream",
          "name": "stdout",
          "text": [
            "Sevim\"in kedisi\n"
          ]
        }
      ]
    },
    {
      "cell_type": "code",
      "metadata": {
        "colab": {
          "base_uri": "https://localhost:8080/"
        },
        "id": "SiTh_WQP98CM",
        "outputId": "cae3617c-c064-4663-a1f9-3f516f2642f6"
      },
      "source": [
        "print(''''We should have enough time for our family\"''')"
      ],
      "execution_count": null,
      "outputs": [
        {
          "output_type": "stream",
          "name": "stdout",
          "text": [
            "'We should have enough time for our family\"\n"
          ]
        }
      ]
    },
    {
      "cell_type": "code",
      "metadata": {
        "colab": {
          "base_uri": "https://localhost:8080/"
        },
        "id": "2n2ddrXv98Ug",
        "outputId": "5f85724f-fadf-49d4-9ea4-fda495b0aab3"
      },
      "source": [
        "print(\"\"\"e\"\"\")"
      ],
      "execution_count": null,
      "outputs": [
        {
          "output_type": "stream",
          "name": "stdout",
          "text": [
            "e\n"
          ]
        }
      ]
    },
    {
      "cell_type": "code",
      "metadata": {
        "id": "o6NyZC3q98je"
      },
      "source": [
        ""
      ],
      "execution_count": null,
      "outputs": []
    }
  ]
}
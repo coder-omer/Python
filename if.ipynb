{
  "nbformat": 4,
  "nbformat_minor": 0,
  "metadata": {
    "colab": {
      "name": "if.ipynb",
      "provenance": [],
      "authorship_tag": "ABX9TyMLoF+VktNZ3EdYOGiSiTQr"
    },
    "kernelspec": {
      "name": "python3",
      "display_name": "Python 3"
    },
    "language_info": {
      "name": "python"
    }
  },
  "cells": [
    {
      "cell_type": "code",
      "metadata": {
        "colab": {
          "base_uri": "https://localhost:8080/"
        },
        "id": "2gzUyPnDgSPj",
        "outputId": "a432d22f-7674-4760-9ac7-f0b09e758e53"
      },
      "source": [
        "if True:\n",
        "    print('it is true')"
      ],
      "execution_count": null,
      "outputs": [
        {
          "output_type": "stream",
          "name": "stdout",
          "text": [
            "it is true\n"
          ]
        }
      ]
    },
    {
      "cell_type": "code",
      "metadata": {
        "colab": {
          "base_uri": "https://localhost:8080/"
        },
        "id": "eP1MoVQsgT7j",
        "outputId": "76fb3c76-448b-444b-ee08-c596b1adeef0"
      },
      "source": [
        "empty_seat = 14\n",
        "if empty_seat > 3:  # in this case, 14>3=True, so the body will execute\n",
        "    print('there is still seat to sit')"
      ],
      "execution_count": null,
      "outputs": [
        {
          "output_type": "stream",
          "name": "stdout",
          "text": [
            "there is still seat to sit\n"
          ]
        }
      ]
    },
    {
      "cell_type": "code",
      "metadata": {
        "id": "2zsQzGYhgT-S"
      },
      "source": [
        "!=\n",
        "==\n",
        "<\n",
        ">\n",
        ">=\n",
        "<="
      ],
      "execution_count": null,
      "outputs": []
    },
    {
      "cell_type": "code",
      "metadata": {
        "colab": {
          "base_uri": "https://localhost:8080/"
        },
        "id": "rOVtk8gugUBE",
        "outputId": "53a8a1da-2d1b-41ec-af63-61dfae3232ec"
      },
      "source": [
        "x = 6\n",
        "y = 9\n",
        "print (\"is x equal to y?                 :\" , x == y)\n",
        "print (\"is x not equal to y?             :\" , x != y)\n",
        "print (\"is x less than y?                :\" , x < y)\n",
        "print (\"is x greater than y?             :\" , x > y)\n",
        "print (\"is x less than or equal to y?    :\" , x <= y)\n",
        "print (\"is x greater than or equal to y? :\" , x >= y)"
      ],
      "execution_count": null,
      "outputs": [
        {
          "output_type": "stream",
          "name": "stdout",
          "text": [
            "is x equal to y?                 : False\n",
            "is x not equal to y?             : True\n",
            "is x less than y?                : True\n",
            "is x greater than y?             : False\n",
            "is x less than or equal to y?    : True\n",
            "is x greater than or equal to y? : False\n"
          ]
        }
      ]
    },
    {
      "cell_type": "code",
      "metadata": {
        "id": "mOILBWXugUDy"
      },
      "source": [
        "if condition1:  \n",
        "    execute body1\n",
        "else : # if condition1 is not ensured execute body2\n",
        "    execute body2"
      ],
      "execution_count": null,
      "outputs": []
    },
    {
      "cell_type": "code",
      "metadata": {
        "colab": {
          "base_uri": "https://localhost:8080/"
        },
        "id": "7_LGcmeXgUGk",
        "outputId": "56c245c1-ba4b-4cfc-9138-f4ff26518f1f"
      },
      "source": [
        "course = 'clarusway'\n",
        "\n",
        "if course == \"clarusway\":\n",
        "    print(\"you guaranteed the job\")\n",
        "else:\n",
        "    print(\"think about it again\")"
      ],
      "execution_count": null,
      "outputs": [
        {
          "output_type": "stream",
          "name": "stdout",
          "text": [
            "you guaranteed the job\n"
          ]
        }
      ]
    },
    {
      "cell_type": "code",
      "metadata": {
        "colab": {
          "base_uri": "https://localhost:8080/"
        },
        "id": "oSjpHEx7gUJJ",
        "outputId": "1d9c7686-0a02-4dc9-a82e-f3bde5294f73"
      },
      "source": [
        "number = 5\n",
        "if number <= 3:    \n",
        "    print(\"Number is smaller than or equal to 3\") \n",
        "else:  # Optional clause (you can only have one else)\n",
        "    print(\"Number is bigger than 3\")"
      ],
      "execution_count": null,
      "outputs": [
        {
          "output_type": "stream",
          "name": "stdout",
          "text": [
            "Number is bigger than 3\n"
          ]
        }
      ]
    },
    {
      "cell_type": "code",
      "metadata": {
        "colab": {
          "base_uri": "https://localhost:8080/"
        },
        "id": "OFcriuNKgULy",
        "outputId": "c148c82b-3b92-498d-f2c3-04bde651c858"
      },
      "source": [
        "weight = 80\n",
        "\n",
        "if weight > 100:\n",
        "    print(\"That's too heavy!\")\n",
        "elif weight > 75:\n",
        "    print(\"I can lift that!\")\n",
        "else:\n",
        "    print(\"That's too light!\")"
      ],
      "execution_count": null,
      "outputs": [
        {
          "output_type": "stream",
          "name": "stdout",
          "text": [
            "I can lift that!\n"
          ]
        }
      ]
    },
    {
      "cell_type": "code",
      "metadata": {
        "colab": {
          "base_uri": "https://localhost:8080/"
        },
        "id": "rNZo1J6BgUOo",
        "outputId": "bb701d24-ba6f-4535-d372-2948c3934411"
      },
      "source": [
        "audience = \"baby\"\n",
        "\n",
        "if audience == \"kid\":\n",
        "    print(\"it is free to go to cinema\")\n",
        "elif audience == \"teen\":\n",
        "    print(\"discounted price!\")\n",
        "elif audience == \"adult\":\n",
        "    print(\"normal price\")\n",
        "else:\n",
        "    print(\"No such audience, stay at your home!\")"
      ],
      "execution_count": null,
      "outputs": [
        {
          "output_type": "stream",
          "name": "stdout",
          "text": [
            "No such audience, stay at your home!\n"
          ]
        }
      ]
    },
    {
      "cell_type": "code",
      "metadata": {
        "colab": {
          "base_uri": "https://localhost:8080/"
        },
        "id": "VdNtbRDmgURW",
        "outputId": "fe89939e-4955-4fd7-c0a8-e9ca25f0228a"
      },
      "source": [
        "number =  23\n",
        "if number >= 10:\n",
        "    print('The number is equal or greater than 10')\n",
        "else:\n",
        "    print('The number is less than 10')"
      ],
      "execution_count": null,
      "outputs": [
        {
          "output_type": "stream",
          "name": "stdout",
          "text": [
            "The number is equal or greater than 10\n"
          ]
        }
      ]
    },
    {
      "cell_type": "code",
      "metadata": {
        "colab": {
          "base_uri": "https://localhost:8080/"
        },
        "id": "As1pAFmVpcLU",
        "outputId": "0e0d93d4-93b0-404a-c375-fdd3909598ad"
      },
      "source": [
        "audience_group = 'kid', 'teen', 'adult'\n",
        "\n",
        "audience = \"teen\"\n",
        "\n",
        "if audience in audience_group:\n",
        "    if audience == \"kid\":\n",
        "        print(\"it is free to go to cinema\")\n",
        "    elif audience == \"teen\":\n",
        "        print(\"discounted price!\")\n",
        "    else: # audience == \"adult\":\n",
        "        print(\"normal price\")\n",
        "else:\n",
        "    print(\"No such audience, stay at your home!\")"
      ],
      "execution_count": null,
      "outputs": [
        {
          "output_type": "stream",
          "name": "stdout",
          "text": [
            "discounted price!\n"
          ]
        }
      ]
    },
    {
      "cell_type": "code",
      "metadata": {
        "colab": {
          "base_uri": "https://localhost:8080/"
        },
        "id": "XVWPDx-WpcOP",
        "outputId": "dc5f6bcc-07c7-4e8d-ba92-d2a60ed022e7"
      },
      "source": [
        "score = int (input(\"Enter your score :\"))\n",
        "\n",
        "if score >= 90:\n",
        "    if score >= 95:\n",
        "        Score_letter=\"A+\"\n",
        "    else:\n",
        "        Score_letter=\"A\"\n",
        "elif score >= 80:\n",
        "    if score >= 85:\n",
        "        Score_letter=\"B+\"\n",
        "    else:\n",
        "        Score_letter=\"B\"\n",
        "else:\n",
        "    Score_letter=\"below B\"\n",
        "\n",
        "print (\"Your degree: %s\" % Score_letter)"
      ],
      "execution_count": null,
      "outputs": [
        {
          "output_type": "stream",
          "name": "stdout",
          "text": [
            "Enter your score :89\n",
            "Your degree: B+\n"
          ]
        }
      ]
    },
    {
      "cell_type": "code",
      "metadata": {
        "colab": {
          "base_uri": "https://localhost:8080/"
        },
        "id": "RYh-xhA0pcRR",
        "outputId": "e09d97ce-4229-4af7-b19c-810ec898bb7f"
      },
      "source": [
        ">>> x = int(input(\"Please enter an integer: \"))\n",
        ">>> if x < 0:\n",
        "...     x = 0\n",
        "...     print('Negative changed to zero')\n",
        "... elif x == 0:\n",
        "...     print('Zero')\n",
        "... elif x == 1:\n",
        "...     print('Single')\n",
        "... else:\n",
        "...     print('More')\n",
        " "
      ],
      "execution_count": null,
      "outputs": [
        {
          "output_type": "stream",
          "name": "stdout",
          "text": [
            "Please enter an integer: -1\n",
            "Negative changed to zero\n"
          ]
        }
      ]
    },
    {
      "cell_type": "code",
      "metadata": {
        "colab": {
          "base_uri": "https://localhost:8080/"
        },
        "id": "hQrXyIFdpcT-",
        "outputId": "545cbc90-3adc-4947-ee96-23e8dbd6bb08"
      },
      "source": [
        "words = ['cat', 'window', 'defenestrate']\n",
        "for w in words:\n",
        "    print(w, len(w))\n"
      ],
      "execution_count": null,
      "outputs": [
        {
          "output_type": "stream",
          "name": "stdout",
          "text": [
            "cat 3\n",
            "window 6\n",
            "defenestrate 12\n"
          ]
        }
      ]
    },
    {
      "cell_type": "code",
      "metadata": {
        "colab": {
          "base_uri": "https://localhost:8080/"
        },
        "id": "sDilZ3p-pcW-",
        "outputId": "bb718213-a50c-419e-c28b-2c1e9b2e6f02"
      },
      "source": [
        "for i in range(5):\n",
        "...     print(i)"
      ],
      "execution_count": null,
      "outputs": [
        {
          "output_type": "stream",
          "name": "stdout",
          "text": [
            "0\n",
            "1\n",
            "2\n",
            "3\n",
            "4\n"
          ]
        }
      ]
    },
    {
      "cell_type": "code",
      "metadata": {
        "colab": {
          "base_uri": "https://localhost:8080/"
        },
        "id": "fEeuWO1bpcZ8",
        "outputId": "5798a7d0-d412-44bb-9d80-c325a4ad885e"
      },
      "source": [
        "a = ['Mary', 'had', 'a', 'little', 'lamb']\n",
        "for i in range(len(a)):\n",
        "  print(i, a[i])"
      ],
      "execution_count": null,
      "outputs": [
        {
          "output_type": "stream",
          "name": "stdout",
          "text": [
            "0 Mary\n",
            "1 had\n",
            "2 a\n",
            "3 little\n",
            "4 lamb\n"
          ]
        }
      ]
    },
    {
      "cell_type": "code",
      "metadata": {
        "colab": {
          "base_uri": "https://localhost:8080/"
        },
        "id": "UnlCX73Fpcci",
        "outputId": "ef68f412-5dac-4c10-819d-5dbef52903bb"
      },
      "source": [
        "sum(range(4))  # 0 + 1 + 2 + 3"
      ],
      "execution_count": null,
      "outputs": [
        {
          "output_type": "execute_result",
          "data": {
            "text/plain": [
              "6"
            ]
          },
          "metadata": {},
          "execution_count": 33
        }
      ]
    },
    {
      "cell_type": "code",
      "metadata": {
        "colab": {
          "base_uri": "https://localhost:8080/"
        },
        "id": "-v_6pL95pcfs",
        "outputId": "291cf9a1-9259-4692-8dba-ea4c186b0895"
      },
      "source": [
        "list(range(4))"
      ],
      "execution_count": null,
      "outputs": [
        {
          "output_type": "execute_result",
          "data": {
            "text/plain": [
              "[0, 1, 2, 3]"
            ]
          },
          "metadata": {},
          "execution_count": 34
        }
      ]
    },
    {
      "cell_type": "code",
      "metadata": {
        "colab": {
          "base_uri": "https://localhost:8080/"
        },
        "id": "bXLTRb0Mpcii",
        "outputId": "871de77d-12a7-4368-fb68-80a8360a9fa6"
      },
      "source": [
        "for n in range(2, 10):\n",
        "...     for x in range(2, n):\n",
        "...         if n % x == 0:\n",
        "...             print(n, 'equals', x, '*', n//x)\n",
        "...             break\n",
        "...     else:\n",
        "...         # loop fell through without finding a factor\n",
        "...         print(n, 'is a prime number')\n"
      ],
      "execution_count": null,
      "outputs": [
        {
          "output_type": "stream",
          "name": "stdout",
          "text": [
            "2 is a prime number\n",
            "3 is a prime number\n",
            "4 equals 2 * 2\n",
            "5 is a prime number\n",
            "6 equals 2 * 3\n",
            "7 is a prime number\n",
            "8 equals 2 * 4\n",
            "9 equals 3 * 3\n"
          ]
        }
      ]
    },
    {
      "cell_type": "code",
      "metadata": {
        "colab": {
          "base_uri": "https://localhost:8080/"
        },
        "id": "IOdvASQPgUUC",
        "outputId": "6c4d97d8-0178-493a-b5cc-033b88096732"
      },
      "source": [
        "saved_amount = int(input('Please enter your saved amount: '))\n",
        "\n",
        "ps4_price = 200\n",
        "\n",
        "if saved_amount <= ps4_price/2 :\n",
        "  print(\"You must save more, keep saving!\")\n",
        "\n",
        "elif saved_amount > ps4_price/2  and saved_amount <= ps4_price:\n",
        "  print(\"You saved more than half, keep saving!\")\n",
        "\n",
        "elif saved_amount > ps4_price :\n",
        "  print(\"Yippee! You can buy your PS4\")\n"
      ],
      "execution_count": null,
      "outputs": [
        {
          "output_type": "stream",
          "name": "stdout",
          "text": [
            "Please enter your saved amount: 190\n",
            "You saved more than half, keep saving!\n"
          ]
        }
      ]
    },
    {
      "cell_type": "code",
      "metadata": {
        "colab": {
          "base_uri": "https://localhost:8080/"
        },
        "id": "BO5z_CImgUW6",
        "outputId": "e7e742aa-2800-4683-ddfc-a6025456bd61"
      },
      "source": [
        "math_mark = int(input('Please enter the mark: '))\n",
        "if math_mark >= 85 and math_mark <= 100:\n",
        "  print ('A (Excellent)')\n",
        "elif math_mark >= 70 and math_mark <= 84:\n",
        "  print ('B (Good)')\n",
        "elif math_mark >= 60 and math_mark <= 69:\n",
        "  print ('C (Medium)')\n",
        "elif math_mark >= 45 and math_mark <= 59:\n",
        "  print ('D (Not Bad)')\n",
        "elif math_mark >= 0 and math_mark <= 44:\n",
        "  print ('F (Failed)')\n",
        "else:\n",
        "  print ('Wrong Number')"
      ],
      "execution_count": null,
      "outputs": [
        {
          "output_type": "stream",
          "name": "stdout",
          "text": [
            "Please enter the mark: 110\n",
            "Wrong Number\n"
          ]
        }
      ]
    }
  ]
}
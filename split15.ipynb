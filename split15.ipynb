{
  "nbformat": 4,
  "nbformat_minor": 0,
  "metadata": {
    "colab": {
      "name": "split15.ipynb",
      "provenance": [],
      "authorship_tag": "ABX9TyM67kCgH287VJNdntozeSpr"
    },
    "kernelspec": {
      "name": "python3",
      "display_name": "Python 3"
    },
    "language_info": {
      "name": "python"
    }
  },
  "cells": [
    {
      "cell_type": "code",
      "metadata": {
        "colab": {
          "base_uri": "https://localhost:8080/"
        },
        "id": "pdXb4V5v_Qd4",
        "outputId": "5a88edfe-8d96-434c-c203-38096ebb031f"
      },
      "source": [
        "print(\"xyyzxyzxzxyy\".count('xyy', 2, 11))"
      ],
      "execution_count": null,
      "outputs": [
        {
          "output_type": "stream",
          "name": "stdout",
          "text": [
            "0\n"
          ]
        }
      ]
    },
    {
      "cell_type": "code",
      "metadata": {
        "colab": {
          "base_uri": "https://localhost:8080/"
        },
        "id": "9TiLVbI3ADYs",
        "outputId": "c9af6ef2-6cd5-4093-c817-0026b8c219a8"
      },
      "source": [
        "print('abcdefcdghcd'.split('cd'))"
      ],
      "execution_count": null,
      "outputs": [
        {
          "output_type": "stream",
          "name": "stdout",
          "text": [
            "['ab', 'ef', 'gh', '']\n"
          ]
        }
      ]
    },
    {
      "cell_type": "code",
      "metadata": {
        "colab": {
          "base_uri": "https://localhost:8080/"
        },
        "id": "zWwkLoNAADcZ",
        "outputId": "241d674c-c78d-4241-9532-0e059b669518"
      },
      "source": [
        "print('abcdefcdghcda'.split('cd'))"
      ],
      "execution_count": null,
      "outputs": [
        {
          "output_type": "stream",
          "name": "stdout",
          "text": [
            "['ab', 'ef', 'gh', 'a']\n"
          ]
        }
      ]
    },
    {
      "cell_type": "code",
      "metadata": {
        "id": "lhKG-eqeAD2i"
      },
      "source": [
        ""
      ],
      "execution_count": null,
      "outputs": []
    }
  ]
}
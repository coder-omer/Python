{
  "nbformat": 4,
  "nbformat_minor": 0,
  "metadata": {
    "colab": {
      "name": "2111ders.ipynb",
      "provenance": [],
      "collapsed_sections": [],
      "authorship_tag": "ABX9TyOmOqpOVRkF+Wu5VvN9rSBu"
    },
    "kernelspec": {
      "name": "python3",
      "display_name": "Python 3"
    },
    "language_info": {
      "name": "python"
    }
  },
  "cells": [
    {
      "cell_type": "code",
      "metadata": {
        "colab": {
          "base_uri": "https://localhost:8080/"
        },
        "id": "wYJ1bFcD0AIx",
        "outputId": "07add4fe-49dd-429b-882c-f675ae8be9b9"
      },
      "source": [
        "a=\"i\"\n",
        "b=\"love\"\n",
        "c=\"you\"\n",
        "\n",
        "def texter(text1,text2,text3):\n",
        "  print(text2,text3,text1)\n",
        "\n",
        "texter(c,a,b)"
      ],
      "execution_count": null,
      "outputs": [
        {
          "output_type": "stream",
          "name": "stdout",
          "text": [
            "i love you\n"
          ]
        }
      ]
    },
    {
      "cell_type": "code",
      "metadata": {
        "colab": {
          "base_uri": "https://localhost:8080/"
        },
        "id": "t-WzFt7P4x9V",
        "outputId": "52ea89c9-1465-4ba0-c037-bbd27b4e6148"
      },
      "source": [
        "texter(text1=\"you\",text2=\"i\",text3=\"love\")"
      ],
      "execution_count": null,
      "outputs": [
        {
          "output_type": "stream",
          "name": "stdout",
          "text": [
            "i love you\n"
          ]
        }
      ]
    },
    {
      "cell_type": "code",
      "metadata": {
        "colab": {
          "base_uri": "https://localhost:8080/"
        },
        "id": "SH7BLvN04yAU",
        "outputId": "e8673933-5c1e-4479-bd6b-c5b33468611a"
      },
      "source": [
        "def fonksiyon(x=\"ali\", y=22):\n",
        "  print(x, y, \"yaşındadır\")\n",
        "\n",
        "fonksiyon()"
      ],
      "execution_count": null,
      "outputs": [
        {
          "output_type": "stream",
          "name": "stdout",
          "text": [
            "ali 22 yaşındadır\n"
          ]
        }
      ]
    },
    {
      "cell_type": "code",
      "metadata": {
        "colab": {
          "base_uri": "https://localhost:8080/"
        },
        "id": "5DAZj4ug4yHG",
        "outputId": "af9d093d-527b-4cf1-f9f9-dbd8b37b0813"
      },
      "source": [
        "fonksiyon(x=\"deli\", y=33)"
      ],
      "execution_count": null,
      "outputs": [
        {
          "output_type": "stream",
          "name": "stdout",
          "text": [
            "deli 33 yaşındadır\n"
          ]
        }
      ]
    },
    {
      "cell_type": "code",
      "metadata": {
        "colab": {
          "base_uri": "https://localhost:8080/"
        },
        "id": "-zMaoh8f4yKX",
        "outputId": "e2d764cf-2c98-438a-b10a-e61609954f11"
      },
      "source": [
        "fonksiyon(\"veli\", 40)"
      ],
      "execution_count": null,
      "outputs": [
        {
          "output_type": "stream",
          "name": "stdout",
          "text": [
            "veli 40 yaşındadır\n"
          ]
        }
      ]
    },
    {
      "cell_type": "code",
      "metadata": {
        "colab": {
          "base_uri": "https://localhost:8080/"
        },
        "id": "uX97Gaac4yNU",
        "outputId": "26ea488d-1ba5-423e-9a75-8c480759c255"
      },
      "source": [
        "fonksiyon(\"selin\")"
      ],
      "execution_count": null,
      "outputs": [
        {
          "output_type": "stream",
          "name": "stdout",
          "text": [
            "selin 22 yaşındadır\n"
          ]
        }
      ]
    },
    {
      "cell_type": "code",
      "metadata": {
        "id": "-icrKedp4yQn"
      },
      "source": [
        "def parrot(voltage, state='a stiff', action='voom', type='Norwegian Blue'):\n",
        "    print(\"-- This parrot wouldn't\", action, end=' ')\n",
        "    print(\"if you put\", voltage, \"volts through it.\")\n",
        "    print(\"-- Lovely plumage, the\", type)\n",
        "    print(\"-- It's\", state, \"!\")"
      ],
      "execution_count": null,
      "outputs": []
    },
    {
      "cell_type": "code",
      "metadata": {
        "colab": {
          "base_uri": "https://localhost:8080/"
        },
        "id": "BPM8EDHu4yTo",
        "outputId": "05729297-b430-40d2-9312-a0be222f0977"
      },
      "source": [
        "parrot(1000)"
      ],
      "execution_count": null,
      "outputs": [
        {
          "output_type": "stream",
          "name": "stdout",
          "text": [
            "-- This parrot wouldn't voom if you put 1000 volts through it.\n",
            "-- Lovely plumage, the Norwegian Blue\n",
            "-- It's a stiff !\n"
          ]
        }
      ]
    },
    {
      "cell_type": "code",
      "metadata": {
        "colab": {
          "base_uri": "https://localhost:8080/"
        },
        "id": "nCG9bru94yXO",
        "outputId": "ac0f8642-381c-461f-a023-ee47b289cbde"
      },
      "source": [
        "parrot(voltage=1000000, action='VOOOOOM') "
      ],
      "execution_count": null,
      "outputs": [
        {
          "output_type": "stream",
          "name": "stdout",
          "text": [
            "-- This parrot wouldn't VOOOOOM if you put 1000000 volts through it.\n",
            "-- Lovely plumage, the Norwegian Blue\n",
            "-- It's a stiff !\n"
          ]
        }
      ]
    },
    {
      "cell_type": "code",
      "metadata": {
        "colab": {
          "base_uri": "https://localhost:8080/"
        },
        "id": "ybuZHTtZ4yaU",
        "outputId": "9bbc984a-06d2-4ed1-9e9f-b4b19a997c1e"
      },
      "source": [
        "parrot(\"a million\", \"bereft of life\", \"jump\")"
      ],
      "execution_count": null,
      "outputs": [
        {
          "output_type": "stream",
          "name": "stdout",
          "text": [
            "-- This parrot wouldn't jump if you put a million volts through it.\n",
            "-- Lovely plumage, the Norwegian Blue\n",
            "-- It's bereft of life !\n"
          ]
        }
      ]
    },
    {
      "cell_type": "code",
      "metadata": {
        "colab": {
          "base_uri": "https://localhost:8080/"
        },
        "id": "Fh6BJY8n1Ajm",
        "outputId": "41d26228-9cc3-4435-c404-5de91e480996"
      },
      "source": [
        "sayi=\"371\"\n",
        "print(sayi[0])\n",
        "print(sayi[1])\n",
        "print(sayi[2])\n"
      ],
      "execution_count": null,
      "outputs": [
        {
          "output_type": "stream",
          "name": "stdout",
          "text": [
            "3\n",
            "7\n",
            "1\n"
          ]
        }
      ]
    },
    {
      "cell_type": "markdown",
      "metadata": {
        "id": "-4RPZWIzKQ3J"
      },
      "source": [
        "Armstrong Numbers"
      ]
    },
    {
      "cell_type": "code",
      "metadata": {
        "colab": {
          "base_uri": "https://localhost:8080/"
        },
        "id": "C4KPKMUH1Am0",
        "outputId": "5bdfe0da-0f6d-4e5d-cc2e-adab7ee959ce"
      },
      "source": [
        "while True:\n",
        "  number = input(\"enter a positive integer number:\")\n",
        "  digits = len(number)\n",
        "  summ = 0\n",
        "\n",
        "  if not number.isdigit():\n",
        "    print(number, \"is invalid entry. Enter valid input.\")\n",
        "  \n",
        "  elif int(number) >= 0:\n",
        "    for i in range(digits):\n",
        "\n",
        "      summ = summ + int(number[i]) ** digits\n",
        "\n",
        "    if summ == int(number):\n",
        "      print(number, \"is an Armstrong Number\")\n",
        "      break\n",
        "    \n",
        "    else: \n",
        "      print(number, \"is not an Armstrong Number\")\n",
        "      break"
      ],
      "execution_count": null,
      "outputs": [
        {
          "output_type": "stream",
          "name": "stdout",
          "text": [
            "enter a positive integer number:407\n",
            "407 is an Armstrong Number\n"
          ]
        }
      ]
    },
    {
      "cell_type": "markdown",
      "metadata": {
        "id": "qMlErKrZTa2x"
      },
      "source": [
        "is it a Prime Number"
      ]
    },
    {
      "cell_type": "code",
      "metadata": {
        "colab": {
          "base_uri": "https://localhost:8080/"
        },
        "id": "mwNMU0GD1Ap0",
        "outputId": "d5be4f55-bda8-4eb8-d7ee-063379b8a533"
      },
      "source": [
        "n = int (input(\"Enter a positive numberto check if it is a Prime Number? \"))\n",
        "counter = 0\n",
        "\n",
        "for i in range(1, n+1):\n",
        "  if n % i == 0:\n",
        "    counter += 1\n",
        "\n",
        "if (n == 0) or (n == 1) or (counter >= 3):\n",
        "  print(n, \"is not a Prime Number \")\n",
        "\n",
        "else:\n",
        "  print(n, \"is a Prime Number \")"
      ],
      "execution_count": null,
      "outputs": [
        {
          "output_type": "stream",
          "name": "stdout",
          "text": [
            "Enter a positive numberto check if it is a Prime Number? 112223\n",
            "112223 is a Prime Number \n"
          ]
        }
      ]
    },
    {
      "cell_type": "code",
      "metadata": {
        "id": "r1sa4Vy-1AtU"
      },
      "source": [
        ""
      ],
      "execution_count": null,
      "outputs": []
    },
    {
      "cell_type": "code",
      "metadata": {
        "id": "OQbSqPmn1Av_"
      },
      "source": [
        ""
      ],
      "execution_count": null,
      "outputs": []
    },
    {
      "cell_type": "code",
      "metadata": {
        "id": "oyMB-e031Ayr"
      },
      "source": [
        ""
      ],
      "execution_count": null,
      "outputs": []
    },
    {
      "cell_type": "code",
      "metadata": {
        "id": "qM7PqnF71A16",
        "outputId": "32f7efb6-6e35-4af7-afea-be2d2c4ac0d0",
        "colab": {
          "base_uri": "https://localhost:8080/",
          "height": 281
        }
      },
      "source": [
        "number= input(\"bir sayı giriniz:\")\n",
        "print(number)\n",
        "boş=0\n",
        "for i in number:\n",
        "  i =int(i) **len(number)\n",
        "  boş+=i\n",
        "print(boş)\n",
        "if boş==int(number):\n",
        "  print(\"armstrong\")\n",
        "else:\n",
        "  print(\"üzgünüm\")"
      ],
      "execution_count": null,
      "outputs": [
        {
          "output_type": "stream",
          "name": "stdout",
          "text": [
            "bir sayı giriniz:10.5\n",
            "10.5\n"
          ]
        },
        {
          "output_type": "error",
          "ename": "ValueError",
          "evalue": "ignored",
          "traceback": [
            "\u001b[0;31m---------------------------------------------------------------------------\u001b[0m",
            "\u001b[0;31mValueError\u001b[0m                                Traceback (most recent call last)",
            "\u001b[0;32m<ipython-input-1-75b7e27f5db1>\u001b[0m in \u001b[0;36m<module>\u001b[0;34m()\u001b[0m\n\u001b[1;32m      3\u001b[0m \u001b[0mboş\u001b[0m\u001b[0;34m=\u001b[0m\u001b[0;36m0\u001b[0m\u001b[0;34m\u001b[0m\u001b[0;34m\u001b[0m\u001b[0m\n\u001b[1;32m      4\u001b[0m \u001b[0;32mfor\u001b[0m \u001b[0mi\u001b[0m \u001b[0;32min\u001b[0m \u001b[0mnumber\u001b[0m\u001b[0;34m:\u001b[0m\u001b[0;34m\u001b[0m\u001b[0;34m\u001b[0m\u001b[0m\n\u001b[0;32m----> 5\u001b[0;31m   \u001b[0mi\u001b[0m \u001b[0;34m=\u001b[0m\u001b[0mint\u001b[0m\u001b[0;34m(\u001b[0m\u001b[0mi\u001b[0m\u001b[0;34m)\u001b[0m \u001b[0;34m**\u001b[0m\u001b[0mlen\u001b[0m\u001b[0;34m(\u001b[0m\u001b[0mnumber\u001b[0m\u001b[0;34m)\u001b[0m\u001b[0;34m\u001b[0m\u001b[0;34m\u001b[0m\u001b[0m\n\u001b[0m\u001b[1;32m      6\u001b[0m   \u001b[0mboş\u001b[0m\u001b[0;34m+=\u001b[0m\u001b[0mi\u001b[0m\u001b[0;34m\u001b[0m\u001b[0;34m\u001b[0m\u001b[0m\n\u001b[1;32m      7\u001b[0m \u001b[0mprint\u001b[0m\u001b[0;34m(\u001b[0m\u001b[0mboş\u001b[0m\u001b[0;34m)\u001b[0m\u001b[0;34m\u001b[0m\u001b[0;34m\u001b[0m\u001b[0m\n",
            "\u001b[0;31mValueError\u001b[0m: invalid literal for int() with base 10: '.'"
          ]
        }
      ]
    }
  ]
}
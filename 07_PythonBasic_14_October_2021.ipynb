{
  "cells": [
    {
      "cell_type": "code",
      "execution_count": null,
      "id": "ee47dfa4",
      "metadata": {
        "id": "ee47dfa4"
      },
      "outputs": [],
      "source": [
        "yil = \"2020's hard\""
      ]
    },
    {
      "cell_type": "code",
      "execution_count": null,
      "id": "f9554f87",
      "metadata": {
        "id": "f9554f87"
      },
      "outputs": [],
      "source": [
        "yil_list = list(yil)"
      ]
    },
    {
      "cell_type": "code",
      "execution_count": null,
      "id": "79d13804",
      "metadata": {
        "id": "79d13804",
        "outputId": "1b8b9e6f-2ab9-48fd-c4e9-ea1ec9286e1c"
      },
      "outputs": [
        {
          "data": {
            "text/plain": [
              "['2', '0', '2', '0', \"'\", 's', ' ', 'h', 'a', 'r', 'd']"
            ]
          },
          "execution_count": 4,
          "metadata": {},
          "output_type": "execute_result"
        }
      ],
      "source": [
        "yil_list"
      ]
    },
    {
      "cell_type": "code",
      "execution_count": null,
      "id": "15a0b741",
      "metadata": {
        "id": "15a0b741",
        "outputId": "460ba4c0-8a45-491a-b297-8f86bf2157a6"
      },
      "outputs": [
        {
          "data": {
            "text/plain": [
              "[\"2020's hard\"]"
            ]
          },
          "execution_count": 5,
          "metadata": {},
          "output_type": "execute_result"
        }
      ],
      "source": [
        "yil_list_2 = [\"2020's hard\"]\n",
        "\n",
        "yil_list_2"
      ]
    },
    {
      "cell_type": "code",
      "execution_count": null,
      "id": "4cd61e52",
      "metadata": {
        "id": "4cd61e52"
      },
      "outputs": [],
      "source": [
        "a = 1\n",
        "b = 2\n",
        "c = 3"
      ]
    },
    {
      "cell_type": "code",
      "execution_count": null,
      "id": "0cdee9c9",
      "metadata": {
        "id": "0cdee9c9",
        "outputId": "8e29115a-22ef-402d-e277-316be68999f4"
      },
      "outputs": [
        {
          "data": {
            "text/plain": [
              "[1, 2, 3]"
            ]
          },
          "execution_count": 7,
          "metadata": {},
          "output_type": "execute_result"
        }
      ],
      "source": [
        "sayılar = [a, b, c]\n",
        "\n",
        "sayılar"
      ]
    },
    {
      "cell_type": "code",
      "execution_count": null,
      "id": "7b80abe6",
      "metadata": {
        "id": "7b80abe6"
      },
      "outputs": [],
      "source": [
        "boş1 = list()"
      ]
    },
    {
      "cell_type": "code",
      "execution_count": null,
      "id": "65491cb5",
      "metadata": {
        "id": "65491cb5",
        "outputId": "256f00f1-cb86-4474-a494-fa1c95e94a0a"
      },
      "outputs": [
        {
          "data": {
            "text/plain": [
              "[]"
            ]
          },
          "execution_count": 9,
          "metadata": {},
          "output_type": "execute_result"
        }
      ],
      "source": [
        "boş1"
      ]
    },
    {
      "cell_type": "code",
      "execution_count": null,
      "id": "e95f7d35",
      "metadata": {
        "id": "e95f7d35"
      },
      "outputs": [],
      "source": [
        "boş2 = []"
      ]
    },
    {
      "cell_type": "code",
      "execution_count": null,
      "id": "159416bd",
      "metadata": {
        "id": "159416bd",
        "outputId": "8f0a384c-0978-4cb4-9fca-730c473aa063"
      },
      "outputs": [
        {
          "data": {
            "text/plain": [
              "[]"
            ]
          },
          "execution_count": 11,
          "metadata": {},
          "output_type": "execute_result"
        }
      ],
      "source": [
        "boş2"
      ]
    },
    {
      "cell_type": "code",
      "execution_count": null,
      "id": "29becfac",
      "metadata": {
        "id": "29becfac"
      },
      "outputs": [],
      "source": [
        "\"sting\"."
      ]
    },
    {
      "cell_type": "code",
      "execution_count": null,
      "id": "5e0b0013",
      "metadata": {
        "id": "5e0b0013",
        "outputId": "7702cc9a-e02f-4324-9443-e550d4995042"
      },
      "outputs": [
        {
          "data": {
            "text/plain": [
              "[11]"
            ]
          },
          "execution_count": 14,
          "metadata": {},
          "output_type": "execute_result"
        }
      ],
      "source": [
        "listem = []\n",
        "\n",
        "listem.append(11)\n",
        "\n",
        "listem"
      ]
    },
    {
      "cell_type": "code",
      "execution_count": null,
      "id": "9ea502be",
      "metadata": {
        "id": "9ea502be",
        "outputId": "23243ea5-656d-4254-f3e1-b926b07c5575"
      },
      "outputs": [
        {
          "data": {
            "text/plain": [
              "['ali', 'weli']"
            ]
          },
          "execution_count": 15,
          "metadata": {},
          "output_type": "execute_result"
        }
      ],
      "source": [
        "kardeşler = [\"ali\", \"weli\"]\n",
        "\n",
        "kardeşler"
      ]
    },
    {
      "cell_type": "code",
      "execution_count": null,
      "id": "e4674c56",
      "metadata": {
        "id": "e4674c56",
        "outputId": "7e10bb42-cbb0-48af-9136-63c6ee449473"
      },
      "outputs": [
        {
          "data": {
            "text/plain": [
              "['ali', 'weli', 'theli']"
            ]
          },
          "execution_count": 16,
          "metadata": {},
          "output_type": "execute_result"
        }
      ],
      "source": [
        "kardeşler.append(\"theli\")\n",
        "\n",
        "kardeşler"
      ]
    },
    {
      "cell_type": "code",
      "execution_count": null,
      "id": "1d25f6d8",
      "metadata": {
        "id": "1d25f6d8",
        "outputId": "054d3a49-e64e-4786-b274-562f4c113e96"
      },
      "outputs": [
        {
          "data": {
            "text/plain": [
              "['ali', 'weli', 'theli', True]"
            ]
          },
          "execution_count": 17,
          "metadata": {},
          "output_type": "execute_result"
        }
      ],
      "source": [
        "kardeşler.append(True)\n",
        "\n",
        "kardeşler"
      ]
    },
    {
      "cell_type": "code",
      "execution_count": null,
      "id": "932e70f8",
      "metadata": {
        "id": "932e70f8",
        "outputId": "50837c81-2caf-4593-ecaf-5d60ffdf2010"
      },
      "outputs": [
        {
          "data": {
            "text/plain": [
              "['ali', 'weli', 'theli', True, 3.14]"
            ]
          },
          "execution_count": 18,
          "metadata": {},
          "output_type": "execute_result"
        }
      ],
      "source": [
        "kardeşler.append(3.14)\n",
        "\n",
        "kardeşler"
      ]
    },
    {
      "cell_type": "code",
      "execution_count": null,
      "id": "151ea9bb",
      "metadata": {
        "id": "151ea9bb",
        "outputId": "c53ec709-9465-4331-9569-5657c753118d"
      },
      "outputs": [
        {
          "data": {
            "text/plain": [
              "3.14"
            ]
          },
          "execution_count": 19,
          "metadata": {},
          "output_type": "execute_result"
        }
      ],
      "source": [
        "kardeşler.pop()"
      ]
    },
    {
      "cell_type": "code",
      "execution_count": null,
      "id": "ce86aae3",
      "metadata": {
        "id": "ce86aae3",
        "outputId": "2bf5c7a8-afda-4360-8d83-f6542b45efc5"
      },
      "outputs": [
        {
          "data": {
            "text/plain": [
              "['ali', 'weli', 'theli', True]"
            ]
          },
          "execution_count": 20,
          "metadata": {},
          "output_type": "execute_result"
        }
      ],
      "source": [
        "kardeşler"
      ]
    },
    {
      "cell_type": "code",
      "execution_count": null,
      "id": "320758ce",
      "metadata": {
        "id": "320758ce",
        "outputId": "8312c755-6efd-42b5-fbc0-474648782439"
      },
      "outputs": [
        {
          "data": {
            "text/plain": [
              "True"
            ]
          },
          "execution_count": 21,
          "metadata": {},
          "output_type": "execute_result"
        }
      ],
      "source": [
        "kardeşler.pop()"
      ]
    },
    {
      "cell_type": "code",
      "execution_count": null,
      "id": "6e2ef33c",
      "metadata": {
        "id": "6e2ef33c",
        "outputId": "bb3868db-f752-44f1-8bc4-5c23075ca9d8"
      },
      "outputs": [
        {
          "data": {
            "text/plain": [
              "['ali', 'weli', 'theli']"
            ]
          },
          "execution_count": 22,
          "metadata": {},
          "output_type": "execute_result"
        }
      ],
      "source": [
        "kardeşler"
      ]
    },
    {
      "cell_type": "code",
      "execution_count": null,
      "id": "34733e5a",
      "metadata": {
        "id": "34733e5a",
        "outputId": "82cec4cf-f703-420b-d77f-2dda79de20d9"
      },
      "outputs": [
        {
          "data": {
            "text/plain": [
              "['ali', 'theli']"
            ]
          },
          "execution_count": 23,
          "metadata": {},
          "output_type": "execute_result"
        }
      ],
      "source": [
        "kardeşler.pop(1)\n",
        "\n",
        "kardeşler"
      ]
    },
    {
      "cell_type": "code",
      "execution_count": null,
      "id": "6baf4785",
      "metadata": {
        "id": "6baf4785",
        "outputId": "5fe9249f-d4b5-425b-99fc-e1b9313ec749"
      },
      "outputs": [
        {
          "data": {
            "text/plain": [
              "['ali', 'weli', 'theli']"
            ]
          },
          "execution_count": 24,
          "metadata": {},
          "output_type": "execute_result"
        }
      ],
      "source": [
        "kardeşler.insert(1, \"weli\")\n",
        "\n",
        "kardeşler"
      ]
    },
    {
      "cell_type": "code",
      "execution_count": null,
      "id": "3be56593",
      "metadata": {
        "id": "3be56593",
        "outputId": "4c04be51-cf12-44d5-d8e8-89d97b3b4c56"
      },
      "outputs": [
        {
          "data": {
            "text/plain": [
              "[1, 2, 3]"
            ]
          },
          "execution_count": 25,
          "metadata": {},
          "output_type": "execute_result"
        }
      ],
      "source": [
        "sayılar"
      ]
    },
    {
      "cell_type": "code",
      "execution_count": null,
      "id": "2dde31aa",
      "metadata": {
        "id": "2dde31aa"
      },
      "outputs": [],
      "source": [
        "sayılar.append(\"sonsuz\")"
      ]
    },
    {
      "cell_type": "code",
      "execution_count": null,
      "id": "d8a2fe4b",
      "metadata": {
        "id": "d8a2fe4b",
        "outputId": "f9713eae-1223-4214-abae-36b659f406e6"
      },
      "outputs": [
        {
          "data": {
            "text/plain": [
              "[1, 2, 3, 'sonsuz', 'sonsuz', 'sonsuz', 'sonsuz', 'sonsuz']"
            ]
          },
          "execution_count": 31,
          "metadata": {},
          "output_type": "execute_result"
        }
      ],
      "source": [
        "sayılar"
      ]
    },
    {
      "cell_type": "code",
      "execution_count": null,
      "id": "c64a327f",
      "metadata": {
        "id": "c64a327f"
      },
      "outputs": [],
      "source": [
        "numbers = [1, 2, 3, 4]"
      ]
    },
    {
      "cell_type": "code",
      "execution_count": null,
      "id": "bce80778",
      "metadata": {
        "id": "bce80778",
        "outputId": "9f74629a-db2a-423e-d113-2990542303fd"
      },
      "outputs": [
        {
          "data": {
            "text/plain": [
              "[1, 2, 3, 4]"
            ]
          },
          "execution_count": 33,
          "metadata": {},
          "output_type": "execute_result"
        }
      ],
      "source": [
        "numbers"
      ]
    },
    {
      "cell_type": "code",
      "execution_count": null,
      "id": "a1f0b821",
      "metadata": {
        "id": "a1f0b821",
        "outputId": "beff4020-e278-4ab7-a820-900f2d33b203"
      },
      "outputs": [
        {
          "data": {
            "text/plain": [
              "[1, 2, 3, 4, 5]"
            ]
          },
          "execution_count": 34,
          "metadata": {},
          "output_type": "execute_result"
        }
      ],
      "source": [
        "numbers.insert(4, 5)\n",
        "\n",
        "numbers"
      ]
    },
    {
      "cell_type": "code",
      "execution_count": null,
      "id": "27f7e082",
      "metadata": {
        "id": "27f7e082",
        "outputId": "ae644ef7-ba42-4c01-c699-28b59f8e8677"
      },
      "outputs": [
        {
          "data": {
            "text/plain": [
              "[1, 2, 3, 4, 5, 6]"
            ]
          },
          "execution_count": 35,
          "metadata": {},
          "output_type": "execute_result"
        }
      ],
      "source": [
        "numbers.insert(10, 6)\n",
        "\n",
        "numbers"
      ]
    },
    {
      "cell_type": "code",
      "execution_count": null,
      "id": "05335e38",
      "metadata": {
        "id": "05335e38",
        "outputId": "a3e12046-74ba-404c-fa3e-86a9c93e32e4"
      },
      "outputs": [
        {
          "data": {
            "text/plain": [
              "97"
            ]
          },
          "execution_count": 36,
          "metadata": {},
          "output_type": "execute_result"
        }
      ],
      "source": [
        "ord(\"a\")"
      ]
    },
    {
      "cell_type": "code",
      "execution_count": null,
      "id": "88cf5511",
      "metadata": {
        "id": "88cf5511",
        "outputId": "4bb7dbf5-94ca-447e-8b43-6e39d5b972d6"
      },
      "outputs": [
        {
          "data": {
            "text/plain": [
              "65"
            ]
          },
          "execution_count": 37,
          "metadata": {},
          "output_type": "execute_result"
        }
      ],
      "source": [
        "ord(\"A\")"
      ]
    },
    {
      "cell_type": "code",
      "execution_count": null,
      "id": "2d18348a",
      "metadata": {
        "id": "2d18348a"
      },
      "outputs": [],
      "source": [
        "harfler = [\"b\", \"A\", \"B\", \"a\"]"
      ]
    },
    {
      "cell_type": "code",
      "execution_count": null,
      "id": "2e636f21",
      "metadata": {
        "id": "2e636f21",
        "outputId": "88a0cfe2-0303-4f54-dffa-190304b4df40"
      },
      "outputs": [
        {
          "data": {
            "text/plain": [
              "['A', 'B', 'a', 'b']"
            ]
          },
          "execution_count": 39,
          "metadata": {},
          "output_type": "execute_result"
        }
      ],
      "source": [
        "harfler.sort()\n",
        "\n",
        "harfler"
      ]
    },
    {
      "cell_type": "code",
      "execution_count": null,
      "id": "581b8500",
      "metadata": {
        "id": "581b8500",
        "outputId": "a34f0aed-e832-496a-fab9-d93fac18782d"
      },
      "outputs": [
        {
          "name": "stdout",
          "output_type": "stream",
          "text": [
            "65\n",
            "66\n",
            "97\n",
            "98\n"
          ]
        }
      ],
      "source": [
        "print(ord(\"A\"))\n",
        "print(ord(\"B\"))\n",
        "print(ord(\"a\"))\n",
        "print(ord(\"b\"))"
      ]
    },
    {
      "cell_type": "code",
      "execution_count": null,
      "id": "080e9407",
      "metadata": {
        "id": "080e9407"
      },
      "outputs": [],
      "source": [
        "list_1 = ['one', 'four', 'nine']"
      ]
    },
    {
      "cell_type": "code",
      "execution_count": null,
      "id": "d6060525",
      "metadata": {
        "id": "d6060525"
      },
      "outputs": [],
      "source": [
        "list_1.sort(reverse = True)"
      ]
    },
    {
      "cell_type": "code",
      "execution_count": null,
      "id": "c6fbb9ef",
      "metadata": {
        "id": "c6fbb9ef",
        "outputId": "237ccff2-2041-43f8-f6c5-6345d4ce988a"
      },
      "outputs": [
        {
          "data": {
            "text/plain": [
              "['one', 'nine', 'four']"
            ]
          },
          "execution_count": 49,
          "metadata": {},
          "output_type": "execute_result"
        }
      ],
      "source": [
        "list_1"
      ]
    },
    {
      "cell_type": "code",
      "execution_count": null,
      "id": "6feccd95",
      "metadata": {
        "id": "6feccd95",
        "outputId": "505d8948-3404-4f87-ff7e-583f9632551c"
      },
      "outputs": [
        {
          "data": {
            "text/plain": [
              "102"
            ]
          },
          "execution_count": 44,
          "metadata": {},
          "output_type": "execute_result"
        }
      ],
      "source": [
        "ord(\"f\")"
      ]
    },
    {
      "cell_type": "code",
      "execution_count": null,
      "id": "0964cc0a",
      "metadata": {
        "id": "0964cc0a",
        "outputId": "1bc771dd-a3ae-4343-ed00-f0f313bb2d6d"
      },
      "outputs": [
        {
          "data": {
            "text/plain": [
              "110"
            ]
          },
          "execution_count": 45,
          "metadata": {},
          "output_type": "execute_result"
        }
      ],
      "source": [
        "ord(\"n\")"
      ]
    },
    {
      "cell_type": "code",
      "execution_count": null,
      "id": "81a74f51",
      "metadata": {
        "id": "81a74f51",
        "outputId": "a6faa8ab-42f1-4c29-caf8-a466447a31d0"
      },
      "outputs": [
        {
          "data": {
            "text/plain": [
              "111"
            ]
          },
          "execution_count": 46,
          "metadata": {},
          "output_type": "execute_result"
        }
      ],
      "source": [
        "ord(\"o\")"
      ]
    },
    {
      "cell_type": "code",
      "execution_count": null,
      "id": "ad7417fa",
      "metadata": {
        "id": "ad7417fa"
      },
      "outputs": [],
      "source": [
        "list_2 = ['@', '*-', 'False']"
      ]
    },
    {
      "cell_type": "code",
      "execution_count": null,
      "id": "3dd62f9f",
      "metadata": {
        "id": "3dd62f9f"
      },
      "outputs": [],
      "source": [
        "list_2.sort()"
      ]
    },
    {
      "cell_type": "code",
      "execution_count": null,
      "id": "2594b8a4",
      "metadata": {
        "id": "2594b8a4",
        "outputId": "83dc7019-83bd-4037-bb4e-c9c725a567a3"
      },
      "outputs": [
        {
          "data": {
            "text/plain": [
              "64"
            ]
          },
          "execution_count": 52,
          "metadata": {},
          "output_type": "execute_result"
        }
      ],
      "source": [
        "ord(\"@\")"
      ]
    },
    {
      "cell_type": "code",
      "execution_count": null,
      "id": "3ac96172",
      "metadata": {
        "id": "3ac96172",
        "outputId": "1b083f31-8706-4fbf-f805-a0d332889f92"
      },
      "outputs": [
        {
          "data": {
            "text/plain": [
              "42"
            ]
          },
          "execution_count": 53,
          "metadata": {},
          "output_type": "execute_result"
        }
      ],
      "source": [
        "ord(\"*\")"
      ]
    },
    {
      "cell_type": "code",
      "execution_count": null,
      "id": "5046e81c",
      "metadata": {
        "id": "5046e81c",
        "outputId": "34252870-58d1-4cea-ebed-2fbf309af097"
      },
      "outputs": [
        {
          "data": {
            "text/plain": [
              "70"
            ]
          },
          "execution_count": 54,
          "metadata": {},
          "output_type": "execute_result"
        }
      ],
      "source": [
        "ord(\"F\")"
      ]
    },
    {
      "cell_type": "code",
      "execution_count": null,
      "id": "7f4b8e50",
      "metadata": {
        "id": "7f4b8e50",
        "outputId": "ec06271c-42ea-4080-e32f-d73fb706f699"
      },
      "outputs": [
        {
          "data": {
            "text/plain": [
              "['*-', '@', 'False']"
            ]
          },
          "execution_count": 55,
          "metadata": {},
          "output_type": "execute_result"
        }
      ],
      "source": [
        "list_2"
      ]
    },
    {
      "cell_type": "code",
      "execution_count": null,
      "id": "99128ca4",
      "metadata": {
        "id": "99128ca4"
      },
      "outputs": [],
      "source": [
        "list_3 = [True, False]"
      ]
    },
    {
      "cell_type": "code",
      "execution_count": null,
      "id": "4a8dd3b3",
      "metadata": {
        "id": "4a8dd3b3"
      },
      "outputs": [],
      "source": [
        "list_3.sort()"
      ]
    },
    {
      "cell_type": "code",
      "execution_count": null,
      "id": "9fd6608e",
      "metadata": {
        "id": "9fd6608e",
        "outputId": "93e15ea9-65ba-43af-8589-d834a4620dcb"
      },
      "outputs": [
        {
          "data": {
            "text/plain": [
              "[False, True]"
            ]
          },
          "execution_count": 58,
          "metadata": {},
          "output_type": "execute_result"
        }
      ],
      "source": [
        "list_3"
      ]
    },
    {
      "cell_type": "code",
      "execution_count": null,
      "id": "ca6281e0",
      "metadata": {
        "id": "ca6281e0"
      },
      "outputs": [],
      "source": [
        "list_4 = [[3], [44], [-12]]"
      ]
    },
    {
      "cell_type": "code",
      "execution_count": null,
      "id": "c63edae8",
      "metadata": {
        "id": "c63edae8"
      },
      "outputs": [],
      "source": [
        "list_4.sort()"
      ]
    },
    {
      "cell_type": "code",
      "execution_count": null,
      "id": "bb76bd9f",
      "metadata": {
        "id": "bb76bd9f",
        "outputId": "3c9fbd12-0460-45f9-8384-211e38c3556b"
      },
      "outputs": [
        {
          "data": {
            "text/plain": [
              "[[-12], [3], [44]]"
            ]
          },
          "execution_count": 62,
          "metadata": {},
          "output_type": "execute_result"
        }
      ],
      "source": [
        "list_4"
      ]
    },
    {
      "cell_type": "code",
      "execution_count": null,
      "id": "0312277f",
      "metadata": {
        "id": "0312277f"
      },
      "outputs": [],
      "source": [
        ""
      ]
    },
    {
      "cell_type": "code",
      "execution_count": null,
      "id": "b2c502d8",
      "metadata": {
        "id": "b2c502d8"
      },
      "outputs": [],
      "source": [
        ""
      ]
    },
    {
      "cell_type": "code",
      "execution_count": null,
      "id": "b26fd707",
      "metadata": {
        "id": "b26fd707"
      },
      "outputs": [],
      "source": [
        "list_5 = [[1, 3], [44, -40], [-12, 1]]"
      ]
    },
    {
      "cell_type": "code",
      "execution_count": null,
      "id": "9985b507",
      "metadata": {
        "id": "9985b507"
      },
      "outputs": [],
      "source": [
        "list_5.sort()"
      ]
    },
    {
      "cell_type": "code",
      "execution_count": null,
      "id": "17a2588b",
      "metadata": {
        "id": "17a2588b",
        "outputId": "67239d34-cb2a-4a50-a98a-a2a92b0a7a7a"
      },
      "outputs": [
        {
          "data": {
            "text/plain": [
              "[[-12, 1], [1, 3], [44, -40]]"
            ]
          },
          "execution_count": 65,
          "metadata": {},
          "output_type": "execute_result"
        }
      ],
      "source": [
        "list_5"
      ]
    },
    {
      "cell_type": "code",
      "execution_count": null,
      "id": "3094292a",
      "metadata": {
        "id": "3094292a",
        "outputId": "8633e711-b648-454a-d187-a6b4c389f6da"
      },
      "outputs": [
        {
          "data": {
            "text/plain": [
              "'F'"
            ]
          },
          "execution_count": 66,
          "metadata": {},
          "output_type": "execute_result"
        }
      ],
      "source": [
        "chr(70)"
      ]
    },
    {
      "cell_type": "code",
      "execution_count": null,
      "id": "60eb5bca",
      "metadata": {
        "id": "60eb5bca",
        "outputId": "c52626cf-6bb2-4da8-e532-3bf99045dd2c"
      },
      "outputs": [
        {
          "data": {
            "text/plain": [
              "'ƻ'"
            ]
          },
          "execution_count": 71,
          "metadata": {},
          "output_type": "execute_result"
        }
      ],
      "source": [
        "chr(443)"
      ]
    },
    {
      "cell_type": "code",
      "execution_count": null,
      "id": "be39f39d",
      "metadata": {
        "id": "be39f39d"
      },
      "outputs": [],
      "source": [
        ""
      ]
    }
  ],
  "metadata": {
    "kernelspec": {
      "display_name": "Python 3",
      "language": "python",
      "name": "python3"
    },
    "language_info": {
      "codemirror_mode": {
        "name": "ipython",
        "version": 3
      },
      "file_extension": ".py",
      "mimetype": "text/x-python",
      "name": "python",
      "nbconvert_exporter": "python",
      "pygments_lexer": "ipython3",
      "version": "3.8.8"
    },
    "colab": {
      "name": "07_PythonBasic_14-October-2021.ipynb",
      "provenance": []
    }
  },
  "nbformat": 4,
  "nbformat_minor": 5
}
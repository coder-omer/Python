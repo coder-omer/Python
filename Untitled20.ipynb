{
  "nbformat": 4,
  "nbformat_minor": 0,
  "metadata": {
    "colab": {
      "name": "Untitled20.ipynb",
      "provenance": [],
      "collapsed_sections": [],
      "authorship_tag": "ABX9TyNKFr+I31CgADRreitGxxMn"
    },
    "kernelspec": {
      "name": "python3",
      "display_name": "Python 3"
    },
    "language_info": {
      "name": "python"
    }
  },
  "cells": [
    {
      "cell_type": "code",
      "metadata": {
        "colab": {
          "base_uri": "https://localhost:8080/"
        },
        "id": "CMh_vLZfEBKN",
        "outputId": "bdfcd339-0d35-4b5b-d58c-96b8d524b97e"
      },
      "source": [
        "i = 0\n",
        "numbers = []\n",
        "n = int(input(\"kaç sayı girmek istersiniz:\"))\n",
        "\n",
        "while i < n:\n",
        "  yenisayi = int (input(\"bir sayı giriniz:\"))\n",
        "  numbers += [yenisayi]\n",
        "  i = i + 1\n",
        "\n",
        "numbers.sort()\n",
        "\n",
        "print(\"girdiğiniz sayıların içerisinde en büyüğü:\", numbers[n-1])\n",
        "\n",
        "    \n"
      ],
      "execution_count": null,
      "outputs": [
        {
          "output_type": "stream",
          "name": "stdout",
          "text": [
            "kaç sayı girmek istersiniz:5\n",
            "bir sayı giriniz:8\n",
            "bir sayı giriniz:4\n",
            "bir sayı giriniz:6\n",
            "bir sayı giriniz:1\n",
            "bir sayı giriniz:9\n",
            "girdiğiniz sayıların içerisinde en büyüğü: 9\n"
          ]
        }
      ]
    },
    {
      "cell_type": "code",
      "metadata": {
        "id": "S_IGrKp7EBr3"
      },
      "source": [
        "bir = int(input(\"birinci sayiyi giriniz:\"))\n",
        "iki = int(input(\"ikinci sayiyi giriniz:\"))\n",
        "uc = int(input(\"üçüncü sayiyi giriniz:\"))\n",
        "dort = int(input(\"dördüncü sayiyi giriniz:\"))\n",
        "bes = int(input(\"beşinci sayiyi giriniz:\"))"
      ],
      "execution_count": null,
      "outputs": []
    },
    {
      "cell_type": "code",
      "metadata": {
        "id": "ewckKwBbEBvD"
      },
      "source": [
        ""
      ],
      "execution_count": null,
      "outputs": []
    },
    {
      "cell_type": "code",
      "metadata": {
        "colab": {
          "base_uri": "https://localhost:8080/"
        },
        "id": "64lcOgagEBx7",
        "outputId": "cc33637e-7f80-4dc0-f1fc-268b3c0e047b"
      },
      "source": [
        "count = [65,75,83,90,11]\n",
        "count.sort()\n",
        "descending_list = count[:0:-1]\n",
        "print(descending_list)"
      ],
      "execution_count": null,
      "outputs": [
        {
          "output_type": "stream",
          "name": "stdout",
          "text": [
            "[90, 83, 75, 65]\n"
          ]
        }
      ]
    },
    {
      "cell_type": "code",
      "metadata": {
        "colab": {
          "base_uri": "https://localhost:8080/"
        },
        "id": "11JXYsQ8EB0o",
        "outputId": "3c5b7fe2-b283-4650-ec84-7237ed0eaeac"
      },
      "source": [
        "sayılar = []\n",
        "for i in range(5):\n",
        "    veri = int(input('lütfen 5 sayı giriniz:'))\n",
        "    sayılar += [veri] \n",
        "sayılar.sort()\n",
        "print(\"Largest element is:\", sayılar[4])"
      ],
      "execution_count": null,
      "outputs": [
        {
          "output_type": "stream",
          "name": "stdout",
          "text": [
            "lütfen 5 sayı giriniz:8\n",
            "lütfen 5 sayı giriniz:2\n",
            "lütfen 5 sayı giriniz:6\n",
            "lütfen 5 sayı giriniz:1\n",
            "lütfen 5 sayı giriniz:9\n",
            "Largest element is: 9\n"
          ]
        }
      ]
    },
    {
      "cell_type": "code",
      "metadata": {
        "colab": {
          "base_uri": "https://localhost:8080/"
        },
        "id": "AEXMl2OwEB3H",
        "outputId": "371318c7-1882-44f4-e08b-bd9ebddc2027"
      },
      "source": [
        "küme = [\"eat\", \"tea\", \"tan\", \"ate\", \"nat\", \"bat\"]\n",
        "i=0\n",
        "\n",
        "while i<6: \n",
        "  kelime = list(küme[i])\n",
        "  kelime.sort()\n",
        "  i=i+1\n",
        "  print(kelime)\n",
        "\n",
        "\n",
        "\n",
        "\n"
      ],
      "execution_count": null,
      "outputs": [
        {
          "output_type": "stream",
          "name": "stdout",
          "text": [
            "['a', 'e', 't']\n",
            "['a', 'e', 't']\n",
            "['a', 'n', 't']\n",
            "['a', 'e', 't']\n",
            "['a', 'n', 't']\n",
            "['a', 'b', 't']\n"
          ]
        }
      ]
    },
    {
      "cell_type": "code",
      "metadata": {
        "id": "ZtrfpQRxEB8U"
      },
      "source": [
        ""
      ],
      "execution_count": null,
      "outputs": []
    },
    {
      "cell_type": "code",
      "metadata": {
        "colab": {
          "base_uri": "https://localhost:8080/",
          "height": 135
        },
        "id": "IyW6K44tEB_G",
        "outputId": "3d630257-8618-4679-b5b5-30ea1037c10c"
      },
      "source": [
        "word = sorted('rac')\n",
        "alternatives = ['car', 'girl', 'tofu', 'rca']\n",
        "\n",
        "for alt in alternatives:\n",
        "    if word == sorted(alt):\n",
        "        print alt"
      ],
      "execution_count": null,
      "outputs": [
        {
          "output_type": "error",
          "ename": "SyntaxError",
          "evalue": "ignored",
          "traceback": [
            "\u001b[0;36m  File \u001b[0;32m\"<ipython-input-43-42e60d5b301b>\"\u001b[0;36m, line \u001b[0;32m6\u001b[0m\n\u001b[0;31m    print alt\u001b[0m\n\u001b[0m            ^\u001b[0m\n\u001b[0;31mSyntaxError\u001b[0m\u001b[0;31m:\u001b[0m Missing parentheses in call to 'print'. Did you mean print(alt)?\n"
          ]
        }
      ]
    },
    {
      "cell_type": "code",
      "metadata": {
        "id": "RA5av5N6ECCV"
      },
      "source": [
        ""
      ],
      "execution_count": null,
      "outputs": []
    },
    {
      "cell_type": "code",
      "metadata": {
        "colab": {
          "base_uri": "https://localhost:8080/",
          "height": 262
        },
        "id": "28Utq4MiECFW",
        "outputId": "1ede8acb-02a4-4f13-ab88-243c67941925"
      },
      "source": [
        "count=0\n",
        "array=[]\n",
        "size = int(input(\"How many numbers will you enter? \"))\n",
        "\n",
        "while count < size:\n",
        "    number= int(input('Please enter the number: '))\n",
        "    array.append(number)\n",
        "    count = count +1\n",
        "largest = array[0]\n",
        "\n",
        "for i in array:\n",
        "    if i > largest:\n",
        "        largest = i\n",
        "print(\"The largest number is : \", largest)\n"
      ],
      "execution_count": null,
      "outputs": [
        {
          "name": "stdout",
          "output_type": "stream",
          "text": [
            "How many numbers will you enter? \n"
          ]
        },
        {
          "output_type": "error",
          "ename": "ValueError",
          "evalue": "ignored",
          "traceback": [
            "\u001b[0;31m---------------------------------------------------------------------------\u001b[0m",
            "\u001b[0;31mValueError\u001b[0m                                Traceback (most recent call last)",
            "\u001b[0;32m<ipython-input-44-ac85b80f2cfa>\u001b[0m in \u001b[0;36m<module>\u001b[0;34m()\u001b[0m\n\u001b[1;32m      1\u001b[0m \u001b[0mcount\u001b[0m\u001b[0;34m=\u001b[0m\u001b[0;36m0\u001b[0m\u001b[0;34m\u001b[0m\u001b[0;34m\u001b[0m\u001b[0m\n\u001b[1;32m      2\u001b[0m \u001b[0marray\u001b[0m\u001b[0;34m=\u001b[0m\u001b[0;34m[\u001b[0m\u001b[0;34m]\u001b[0m\u001b[0;34m\u001b[0m\u001b[0;34m\u001b[0m\u001b[0m\n\u001b[0;32m----> 3\u001b[0;31m \u001b[0msize\u001b[0m \u001b[0;34m=\u001b[0m \u001b[0mint\u001b[0m\u001b[0;34m(\u001b[0m\u001b[0minput\u001b[0m\u001b[0;34m(\u001b[0m\u001b[0;34m\"How many numbers will you enter? \"\u001b[0m\u001b[0;34m)\u001b[0m\u001b[0;34m)\u001b[0m\u001b[0;34m\u001b[0m\u001b[0;34m\u001b[0m\u001b[0m\n\u001b[0m\u001b[1;32m      4\u001b[0m \u001b[0;34m\u001b[0m\u001b[0m\n\u001b[1;32m      5\u001b[0m \u001b[0;32mwhile\u001b[0m \u001b[0mcount\u001b[0m \u001b[0;34m<\u001b[0m \u001b[0msize\u001b[0m\u001b[0;34m:\u001b[0m\u001b[0;34m\u001b[0m\u001b[0;34m\u001b[0m\u001b[0m\n",
            "\u001b[0;31mValueError\u001b[0m: invalid literal for int() with base 10: ''"
          ]
        }
      ]
    }
  ]
}
{
  "nbformat": 4,
  "nbformat_minor": 0,
  "metadata": {
    "colab": {
      "name": "Ders141021.ipynb",
      "provenance": [],
      "authorship_tag": "ABX9TyMwQZFvPAYoyFPapkDoowQu"
    },
    "kernelspec": {
      "name": "python3",
      "display_name": "Python 3"
    },
    "language_info": {
      "name": "python"
    }
  },
  "cells": [
    {
      "cell_type": "code",
      "metadata": {
        "colab": {
          "base_uri": "https://localhost:8080/"
        },
        "id": "5qp2SZyYw0Fa",
        "outputId": "81a38247-f048-42fd-d6d2-2a5a85147ca1"
      },
      "source": [
        "string_1 = 'I quit smoking'\n",
        "\n",
        "new_list_1 = list(string_1)\n",
        "print(new_list_1)\n",
        "\n",
        "new_list_2 = [string_1]\n",
        "print(new_list_2)"
      ],
      "execution_count": null,
      "outputs": [
        {
          "output_type": "stream",
          "name": "stdout",
          "text": [
            "['I', ' ', 'q', 'u', 'i', 't', ' ', 's', 'm', 'o', 'k', 'i', 'n', 'g']\n",
            "['I quit smoking']\n"
          ]
        }
      ]
    },
    {
      "cell_type": "code",
      "metadata": {
        "colab": {
          "base_uri": "https://localhost:8080/"
        },
        "id": "KY2B6m_Fw4pT",
        "outputId": "6187ccd4-6011-4049-e23d-38f4cd4ca01c"
      },
      "source": [
        "my_list=['Joseph', 'Clarusway', 2020]\n",
        "new_list1=list(my_list)\n",
        "new_list2=[my_list]\n",
        "\n",
        "print(new_list1)\n",
        "print(len(new_list1))\n",
        "print(new_list2)\n",
        "print(len(new_list2))\n"
      ],
      "execution_count": null,
      "outputs": [
        {
          "output_type": "stream",
          "name": "stdout",
          "text": [
            "['Joseph', 'Clarusway', 2020]\n",
            "3\n",
            "[['Joseph', 'Clarusway', 2020]]\n",
            "1\n"
          ]
        }
      ]
    },
    {
      "cell_type": "code",
      "metadata": {
        "colab": {
          "base_uri": "https://localhost:8080/"
        },
        "id": "FrULP-UKw4r6",
        "outputId": "df21f999-9067-4663-8c87-587fd4a04cd2"
      },
      "source": [
        "yil=\"2020's hard\"\n",
        "yeniyil=list(yil)\n",
        "\n",
        "print(yeniyil)"
      ],
      "execution_count": null,
      "outputs": [
        {
          "output_type": "stream",
          "name": "stdout",
          "text": [
            "['2', '0', '2', '0', \"'\", 's', ' ', 'h', 'a', 'r', 'd']\n"
          ]
        }
      ]
    },
    {
      "cell_type": "code",
      "metadata": {
        "colab": {
          "base_uri": "https://localhost:8080/"
        },
        "id": "QXaxcykHw4u7",
        "outputId": "a2aca614-e12d-4acb-dca9-baa428c2aea8"
      },
      "source": [
        "yil_list2=[\"2020's hard\"]\n",
        "yil_list2"
      ],
      "execution_count": null,
      "outputs": [
        {
          "output_type": "execute_result",
          "data": {
            "text/plain": [
              "[\"2020's hard\"]"
            ]
          },
          "metadata": {},
          "execution_count": 14
        }
      ]
    },
    {
      "cell_type": "code",
      "metadata": {
        "colab": {
          "base_uri": "https://localhost:8080/"
        },
        "id": "F6ykeieqw4xq",
        "outputId": "2d3207d0-bacc-44d9-9b05-ce009b5bde41"
      },
      "source": [
        "a=1\n",
        "b=2\n",
        "c=3\n",
        "\n",
        "sayilar=[a, b, c]\n",
        "sayilar"
      ],
      "execution_count": null,
      "outputs": [
        {
          "output_type": "execute_result",
          "data": {
            "text/plain": [
              "[1, 2, 3]"
            ]
          },
          "metadata": {},
          "execution_count": 15
        }
      ]
    },
    {
      "cell_type": "code",
      "metadata": {
        "colab": {
          "base_uri": "https://localhost:8080/"
        },
        "id": "1OzDj5YOw425",
        "outputId": "f779bf49-5efc-469d-f1b0-165fe096d242"
      },
      "source": [
        "list()"
      ],
      "execution_count": null,
      "outputs": [
        {
          "output_type": "execute_result",
          "data": {
            "text/plain": [
              "[]"
            ]
          },
          "metadata": {},
          "execution_count": 18
        }
      ]
    },
    {
      "cell_type": "code",
      "metadata": {
        "colab": {
          "base_uri": "https://localhost:8080/"
        },
        "id": "dBJyHKvxw458",
        "outputId": "7b41cb2a-8f7d-4c22-f4c4-2bcd04d1b7f4"
      },
      "source": [
        "listem = []\n",
        "listem.append(11)\n",
        "listem"
      ],
      "execution_count": null,
      "outputs": [
        {
          "output_type": "execute_result",
          "data": {
            "text/plain": [
              "[11]"
            ]
          },
          "metadata": {},
          "execution_count": 20
        }
      ]
    },
    {
      "cell_type": "code",
      "metadata": {
        "colab": {
          "base_uri": "https://localhost:8080/"
        },
        "id": "XJK1zbk7w49N",
        "outputId": "49d99986-897c-47ba-fc27-7d73436427d8"
      },
      "source": [
        "kardeşler = [\"ali\",\"veli\"]\n",
        "kardeşler"
      ],
      "execution_count": null,
      "outputs": [
        {
          "output_type": "execute_result",
          "data": {
            "text/plain": [
              "['ali', 'veli']"
            ]
          },
          "metadata": {},
          "execution_count": 21
        }
      ]
    },
    {
      "cell_type": "code",
      "metadata": {
        "colab": {
          "base_uri": "https://localhost:8080/"
        },
        "id": "IQ04qj7_w4_-",
        "outputId": "6a66ebf6-d114-44af-9104-69c0edf3473b"
      },
      "source": [
        "kardeşler.append(\"theli\")\n",
        "kardeşler"
      ],
      "execution_count": null,
      "outputs": [
        {
          "output_type": "execute_result",
          "data": {
            "text/plain": [
              "['ali', 'veli', 'theli']"
            ]
          },
          "metadata": {},
          "execution_count": 22
        }
      ]
    },
    {
      "cell_type": "code",
      "metadata": {
        "colab": {
          "base_uri": "https://localhost:8080/"
        },
        "id": "VsYrSpVxw5Cq",
        "outputId": "9a16c53e-5594-4443-8bfb-d05ace6a6bda"
      },
      "source": [
        "numbers =[1, 4, 7]\n",
        "numbers.append(9)\n",
        "numbers.append('9')\n",
        "print(numbers)"
      ],
      "execution_count": null,
      "outputs": [
        {
          "output_type": "stream",
          "name": "stdout",
          "text": [
            "[1, 4, 7, 9, '9']\n"
          ]
        }
      ]
    },
    {
      "cell_type": "code",
      "metadata": {
        "colab": {
          "base_uri": "https://localhost:8080/"
        },
        "id": "KFD2WdDmw5Fb",
        "outputId": "f1649e36-013c-4e89-eb09-e8d641c29f78"
      },
      "source": [
        "kardeşler.append(True)\n",
        "kardeşler"
      ],
      "execution_count": null,
      "outputs": [
        {
          "output_type": "execute_result",
          "data": {
            "text/plain": [
              "['ali', 'veli', 'theli', True]"
            ]
          },
          "metadata": {},
          "execution_count": 25
        }
      ]
    },
    {
      "cell_type": "code",
      "metadata": {
        "colab": {
          "base_uri": "https://localhost:8080/"
        },
        "id": "gB0BmoR2w5IK",
        "outputId": "362436f1-486e-4433-b45b-bb750427cf0e"
      },
      "source": [
        "kardeşler.append(3.14)\n",
        "kardeşler"
      ],
      "execution_count": null,
      "outputs": [
        {
          "output_type": "execute_result",
          "data": {
            "text/plain": [
              "['ali', 'veli', 'theli', True, 3.14]"
            ]
          },
          "metadata": {},
          "execution_count": 26
        }
      ]
    },
    {
      "cell_type": "code",
      "metadata": {
        "colab": {
          "base_uri": "https://localhost:8080/"
        },
        "id": "4b0xxT3nw5LO",
        "outputId": "15fdb840-3600-4cd1-bbd6-737ef33a4c84"
      },
      "source": [
        "kardeşler.pop()\n",
        "kardeşler"
      ],
      "execution_count": null,
      "outputs": [
        {
          "output_type": "execute_result",
          "data": {
            "text/plain": [
              "['ali', 'veli', 'theli']"
            ]
          },
          "metadata": {},
          "execution_count": 28
        }
      ]
    },
    {
      "cell_type": "code",
      "metadata": {
        "colab": {
          "base_uri": "https://localhost:8080/"
        },
        "id": "T-SXx2jvw5OR",
        "outputId": "675ac1b6-35a0-4f77-c06a-25930b31d315"
      },
      "source": [
        "kardeşler.pop(1)\n",
        "kardeşler"
      ],
      "execution_count": null,
      "outputs": [
        {
          "output_type": "execute_result",
          "data": {
            "text/plain": [
              "['ali', 'theli']"
            ]
          },
          "metadata": {},
          "execution_count": 29
        }
      ]
    },
    {
      "cell_type": "code",
      "metadata": {
        "colab": {
          "base_uri": "https://localhost:8080/"
        },
        "id": "Ak9l4Xy8w5RS",
        "outputId": "f7df763b-2c42-45b8-d324-35d02f776c02"
      },
      "source": [
        "kardeşler.insert(1, \"weli\")\n",
        "kardeşler"
      ],
      "execution_count": null,
      "outputs": [
        {
          "output_type": "execute_result",
          "data": {
            "text/plain": [
              "['ali', 'weli', 'weli', 'weli', 'weli', 'theli']"
            ]
          },
          "metadata": {},
          "execution_count": 34
        }
      ]
    },
    {
      "cell_type": "code",
      "metadata": {
        "colab": {
          "base_uri": "https://localhost:8080/"
        },
        "id": "v924AToAw5Wb",
        "outputId": "0392eab3-3666-489f-ea75-925c54cab4d4"
      },
      "source": [
        "empty_list=[]\n",
        "empty_list.append(6666)\n",
        "empty_list.append('Multiverse')\n",
        "empty_list.append([0])\n",
        "\n",
        "print(empty_list)\n"
      ],
      "execution_count": null,
      "outputs": [
        {
          "output_type": "stream",
          "name": "stdout",
          "text": [
            "[6666, 'Multiverse', [0]]\n"
          ]
        }
      ]
    },
    {
      "cell_type": "code",
      "metadata": {
        "colab": {
          "base_uri": "https://localhost:8080/"
        },
        "id": "yYi3KXTyw5Zj",
        "outputId": "b8dfc069-3670-442e-f276-c4e52bf36f36"
      },
      "source": [
        "liste = []\n",
        "liste.append(1)\n",
        "liste.append(2)\n",
        "liste.append(3)\n",
        "liste.append(4) \n",
        "\n",
        "print(liste)"
      ],
      "execution_count": null,
      "outputs": [
        {
          "output_type": "stream",
          "name": "stdout",
          "text": [
            "[1, 2, 3, 4]\n"
          ]
        }
      ]
    },
    {
      "cell_type": "code",
      "metadata": {
        "colab": {
          "base_uri": "https://localhost:8080/"
        },
        "id": "bIM9s1C_Eq9F",
        "outputId": "0476eb21-181c-4263-9968-22a781c48063"
      },
      "source": [
        "liste.insert(4,5)\n",
        "liste"
      ],
      "execution_count": null,
      "outputs": [
        {
          "output_type": "execute_result",
          "data": {
            "text/plain": [
              "[1, 2, 3, 4, 5, 5]"
            ]
          },
          "metadata": {},
          "execution_count": 40
        }
      ]
    },
    {
      "cell_type": "code",
      "metadata": {
        "colab": {
          "base_uri": "https://localhost:8080/"
        },
        "id": "sXZCJ9fnErAO",
        "outputId": "b22dddec-1547-45dc-e3a6-f78feb39d652"
      },
      "source": [
        "numbers = [1,2,3,4]\n",
        "numbers.insert(4,5)\n",
        "numbers"
      ],
      "execution_count": null,
      "outputs": [
        {
          "output_type": "execute_result",
          "data": {
            "text/plain": [
              "[1, 2, 3, 4, 5]"
            ]
          },
          "metadata": {},
          "execution_count": 41
        }
      ]
    },
    {
      "cell_type": "code",
      "metadata": {
        "colab": {
          "base_uri": "https://localhost:8080/"
        },
        "id": "YbYHuui9ErDZ",
        "outputId": "f9502a7d-621b-491d-b258-995980a40d49"
      },
      "source": [
        "numbers.insert(10,6)\n",
        "numbers"
      ],
      "execution_count": null,
      "outputs": [
        {
          "output_type": "execute_result",
          "data": {
            "text/plain": [
              "[1, 2, 3, 4, 5, 6]"
            ]
          },
          "metadata": {},
          "execution_count": 42
        }
      ]
    },
    {
      "cell_type": "code",
      "metadata": {
        "id": "oF5Bqm78w5zk"
      },
      "source": [
        ""
      ],
      "execution_count": null,
      "outputs": []
    }
  ]
}
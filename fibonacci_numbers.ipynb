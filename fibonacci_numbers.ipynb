{
  "nbformat": 4,
  "nbformat_minor": 0,
  "metadata": {
    "colab": {
      "name": "fibonacci_numbers.ipynb",
      "provenance": [],
      "authorship_tag": "ABX9TyOuo+9fODxGeLo12RSRuMU4"
    },
    "kernelspec": {
      "name": "python3",
      "display_name": "Python 3"
    },
    "language_info": {
      "name": "python"
    }
  },
  "cells": [
    {
      "cell_type": "code",
      "metadata": {
        "colab": {
          "base_uri": "https://localhost:8080/"
        },
        "id": "6u2O3R5I9uQh",
        "outputId": "52c9290d-d69b-4aee-ce43-37e6296b59a0"
      },
      "source": [
        "ilk_sayi = 0\n",
        "son_sayi = 1\n",
        "fibo_list =[]\n",
        "\n",
        "son_deger = 55\n",
        "while son_sayi <= int(son_deger):\n",
        "  fibo_list.append(son_sayi)\n",
        "  ilk_sayi, son_sayi = son_sayi, son_sayi + ilk_sayi\n",
        "\n",
        "print(fibo_list[:])\n"
      ],
      "execution_count": null,
      "outputs": [
        {
          "output_type": "stream",
          "name": "stdout",
          "text": [
            "[1, 1, 2, 3, 5, 8, 13, 21, 34, 55]\n"
          ]
        }
      ]
    },
    {
      "cell_type": "markdown",
      "metadata": {
        "id": "q-ELoCE-RdaT"
      },
      "source": [
        "[5,3] [3,5]"
      ]
    },
    {
      "cell_type": "code",
      "metadata": {
        "colab": {
          "base_uri": "https://localhost:8080/"
        },
        "id": "R2Bojbe-RWvy",
        "outputId": "15f3aa58-3f15-426c-9b22-904f0a46e99c"
      },
      "source": [
        "a = 5\n",
        "b = 3\n",
        "a, b = b, a+b\n",
        "print(b)"
      ],
      "execution_count": null,
      "outputs": [
        {
          "output_type": "stream",
          "name": "stdout",
          "text": [
            "8\n"
          ]
        }
      ]
    },
    {
      "cell_type": "code",
      "metadata": {
        "colab": {
          "base_uri": "https://localhost:8080/"
        },
        "id": "Aq3-JAWzMjbx",
        "outputId": "f3bc018a-93e6-41e1-fb52-5e2094a002e8"
      },
      "source": [
        "ilk_sayi = 0\n",
        "son_sayi = 1\n",
        "gecici_sayi = 1\n",
        "fibo_list =[]\n",
        "\n",
        "\n",
        "son_deger = input(\"Liste hangi sayıya kadar olsun?\")\n",
        "while son_sayi <= int(son_deger):\n",
        "  fibo_list.append(son_sayi)\n",
        "  gecici_sayi = son_sayi + ilk_sayi\n",
        "  ilk_sayi = son_sayi\n",
        "  son_sayi = gecici_sayi\n",
        "\n",
        "print(fibo_list[:])"
      ],
      "execution_count": null,
      "outputs": [
        {
          "output_type": "stream",
          "name": "stdout",
          "text": [
            "Liste hangi sayıya kadar olsun?55\n",
            "[1, 1, 2, 3, 5, 8, 13, 21, 34, 55]\n"
          ]
        }
      ]
    },
    {
      "cell_type": "code",
      "metadata": {
        "id": "kTwaQ4oVMjk2"
      },
      "source": [
        ""
      ],
      "execution_count": null,
      "outputs": []
    },
    {
      "cell_type": "code",
      "metadata": {
        "colab": {
          "base_uri": "https://localhost:8080/"
        },
        "id": "HQHr9Gm19ysx",
        "outputId": "87283801-4735-479d-9946-187aa1b6c3d7"
      },
      "source": [
        "fibo_list = [0,1]\n",
        "\n",
        "for i in range(1,10):\n",
        "  i = fibo_list[i] + fibo_list[i-1]\n",
        "  fibo_list.append(i)\n",
        "  if i == 55:\n",
        "    break \n",
        "\n",
        "print(fibo_list[1:])\n"
      ],
      "execution_count": null,
      "outputs": [
        {
          "output_type": "stream",
          "name": "stdout",
          "text": [
            "[1, 1, 2, 3, 5, 8, 13, 21, 34, 55]\n"
          ]
        }
      ]
    },
    {
      "cell_type": "code",
      "metadata": {
        "id": "9dnqqUpnTu86"
      },
      "source": [
        ""
      ],
      "execution_count": null,
      "outputs": []
    }
  ]
}
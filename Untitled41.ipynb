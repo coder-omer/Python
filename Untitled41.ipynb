{
  "nbformat": 4,
  "nbformat_minor": 0,
  "metadata": {
    "colab": {
      "name": "Untitled41.ipynb",
      "provenance": [],
      "authorship_tag": "ABX9TyP3eimND+OmW0bxl644lBDa",
      "include_colab_link": true
    },
    "kernelspec": {
      "name": "python3",
      "display_name": "Python 3"
    },
    "language_info": {
      "name": "python"
    }
  },
  "cells": [
    {
      "cell_type": "markdown",
      "metadata": {
        "id": "view-in-github",
        "colab_type": "text"
      },
      "source": [
        "<a href=\"https://colab.research.google.com/github/coder-omer/Python/blob/main/Untitled41.ipynb\" target=\"_parent\"><img src=\"https://colab.research.google.com/assets/colab-badge.svg\" alt=\"Open In Colab\"/></a>"
      ]
    },
    {
      "cell_type": "code",
      "execution_count": null,
      "metadata": {
        "colab": {
          "base_uri": "https://localhost:8080/"
        },
        "id": "g5aJPkutckUz",
        "outputId": "7e31b1ea-fa3b-4832-c881-e01c2631a5fd"
      },
      "outputs": [
        {
          "output_type": "stream",
          "name": "stdout",
          "text": [
            "How Can Mirrors Be Real If Our Eyes Aren't Real\n"
          ]
        }
      ],
      "source": [
        "def to_jaden_case(string):\n",
        "    kelimeler=string.split()\n",
        "    for i in range(0,len(kelimeler)):\n",
        "      kelimeler[i]=kelimeler[i].capitalize()\n",
        "    print(\" \".join(kelimeler))\n",
        "\n",
        "quote = \"How can mirrors be real if our eyes aren't real\"\n",
        "to_jaden_case(quote)"
      ]
    }
  ]
}
{
  "cells": [
    {
      "cell_type": "markdown",
      "metadata": {
        "id": "view-in-github",
        "colab_type": "text"
      },
      "source": [
        "<a href=\"https://colab.research.google.com/github/coder-omer/Python/blob/main/ws_rai.ipynb\" target=\"_parent\"><img src=\"https://colab.research.google.com/assets/colab-badge.svg\" alt=\"Open In Colab\"/></a>"
      ]
    },
    {
      "cell_type": "markdown",
      "metadata": {
        "id": "-8zRr1qSQGCS"
      },
      "source": [
        "1- Given two arrays of strings a1 and a2 return a sorted array r in lexicographical order of the strings of a1 which are substrings of strings of a2.\n",
        "\n",
        "Example 1:\n",
        "a1 = [\"arp\", \"live\", \"strong\"]\n",
        "\n",
        "a2 = [\"lively\", \"alive\", \"harp\", \"sharp\", \"armstrong\"]\n",
        "\n",
        "returns [\"arp\", \"live\", \"strong\"]\n",
        "\n",
        "Example 2:\n",
        "a1 = [\"tarp\", \"mice\", \"bull\"]\n",
        "\n",
        "a2 = [\"lively\", \"alive\", \"harp\", \"sharp\", \"armstrong\"]\n",
        "\n",
        "returns []\n",
        "\n",
        "Notes:\n",
        "Arrays are written in \"general\" notation. See \"Your Test Cases\" for examples in your language.\n",
        "\n",
        "In Shell bash a1 and a2 are strings. The return is a string where words are separated by commas.\n",
        "\n",
        "Beware: r must be without duplicates.[bağlantı metni](https://www.codewars.com/kata/550554fd08b86f84fe000a58)"
      ]
    },
    {
      "cell_type": "code",
      "execution_count": null,
      "metadata": {
        "id": "mXCk_4N5OThw"
      },
      "outputs": [],
      "source": [
        "def in_array(a1,a2):\n",
        "  s=[]\n",
        "  for i in a1:\n",
        "    for j in a2:\n",
        "      if i in j and i not in s:\n",
        "        s.append(i)\n",
        "  return sorted(s) "
      ]
    },
    {
      "cell_type": "code",
      "source": [
        "in_array([\"tarp\", \"mice\", \"bull\"],[\"lively\", \"alive\", \"harp\", \"sharp\", \"armstrong\"])"
      ],
      "metadata": {
        "colab": {
          "base_uri": "https://localhost:8080/"
        },
        "id": "Tq91Obn0XFZW",
        "outputId": "b2b5f938-43ac-42fc-bdeb-72db6999e3f5"
      },
      "execution_count": null,
      "outputs": [
        {
          "output_type": "execute_result",
          "data": {
            "text/plain": [
              "[]"
            ]
          },
          "metadata": {},
          "execution_count": 3
        }
      ]
    },
    {
      "cell_type": "code",
      "source": [
        "in_array([\"arp\", \"live\", \"strong\"],[\"lively\", \"alive\", \"harp\", \"sharp\", \"armstrong\"])"
      ],
      "metadata": {
        "colab": {
          "base_uri": "https://localhost:8080/"
        },
        "id": "R3g39y-vXy4_",
        "outputId": "5286ef85-154d-4f12-bb10-d55b0b851096"
      },
      "execution_count": null,
      "outputs": [
        {
          "output_type": "execute_result",
          "data": {
            "text/plain": [
              "['arp', 'live', 'strong']"
            ]
          },
          "metadata": {},
          "execution_count": 4
        }
      ]
    },
    {
      "cell_type": "markdown",
      "metadata": {
        "id": "qyzQHBj4QZFT"
      },
      "source": [
        "2- My friend John and I are members of the \"Fat to Fit Club (FFC)\". John is worried because each month a list with the weights of members is published and each month he is the last on the list which means he is the heaviest.\n",
        "\n",
        "I am the one who establishes the list so I told him: \"Don't worry any more, I will modify the order of the list\". It was decided to attribute a \"weight\" to numbers. The weight of a number will be from now on the sum of its digits.\n",
        "\n",
        "For example 99 will have \"weight\" 18, 100 will have \"weight\" 1 so in the list 100 will come before 99.\n",
        "\n",
        "Given a string with the weights of FFC members in normal order can you give this string ordered by \"weights\" of these numbers?\n",
        "\n",
        "Example:\n",
        "\"56 65 74 100 99 68 86 180 90\" ordered by numbers weights becomes: \n",
        "\n",
        "\"100 180 90 56 65 74 68 86 99\"\n",
        "When two numbers have the same \"weight\", let us class them as if they were strings (alphabetical ordering) and not numbers:\n",
        "\n",
        "180 is before 90 since, having the same \"weight\" (9), it comes before as a string.\n",
        "\n",
        "All numbers in the list are positive numbers and the list can be empty.\n",
        "\n",
        "Notes\n",
        "it may happen that the input string have leading, trailing whitespaces and more than a unique whitespace between two consecutive numbers\n",
        "For C: The result is freed.[bağlantı metni](https://www.codewars.com/kata/weight-for-weight/python)"
      ]
    },
    {
      "cell_type": "code",
      "execution_count": null,
      "metadata": {
        "id": "K5U4bakFRoIw"
      },
      "outputs": [],
      "source": [
        "def agırlıklı_sırala(l):\n",
        "  l = l.split()\n",
        "  l1 = []\n",
        "  t = 0\n",
        "  for i in l:\n",
        "    for j in i:\n",
        "      t += int(j)\n",
        "    l1.append(t)\n",
        "    t=0\n",
        "  return ' '.join([v for k,v in sorted(zip(l1,l))])"
      ]
    },
    {
      "cell_type": "code",
      "source": [
        "agırlıklı_sırala(\"56 65 74 100 99 68 86 180 90\")"
      ],
      "metadata": {
        "colab": {
          "base_uri": "https://localhost:8080/",
          "height": 35
        },
        "id": "ATUXDUK1Z0sq",
        "outputId": "447540f4-6822-4d46-8862-87211f8205e0"
      },
      "execution_count": null,
      "outputs": [
        {
          "output_type": "execute_result",
          "data": {
            "application/vnd.google.colaboratory.intrinsic+json": {
              "type": "string"
            },
            "text/plain": [
              "'100 180 90 56 65 74 68 86 99'"
            ]
          },
          "metadata": {},
          "execution_count": 11
        }
      ]
    },
    {
      "cell_type": "markdown",
      "metadata": {
        "id": "79CGrQiBRpXK"
      },
      "source": [
        "3- The goal of this exercise is to convert a string to a new string where each character in the new string is \"(\" if that character appears only once in the original string, or \")\" if that character appears more than once in the original string. Ignore capitalization when determining if a character is a duplicate.\n",
        "\n",
        "Examples\n",
        "\"din\"      =>  \"(((\"\n",
        "\"recede\"   =>  \"()()()\"\n",
        "\"Success\"  =>  \")())())\"\n",
        "\"(( @\"     =>  \"))((\" \n",
        "Notes\n",
        "\n",
        "Assertion messages may be unclear about what they display in some languages. If you read \"...It Should encode XXX\", the \"XXX\" is the expected result, not the input![bağlantı metni](https://www.codewars.com/kata/54b42f9314d9229fd6000d9c)"
      ]
    },
    {
      "cell_type": "code",
      "execution_count": null,
      "metadata": {
        "id": "AUsuYPqrSZCd"
      },
      "outputs": [],
      "source": [
        "def dublicate_encode(s):\n",
        "  s = s.lower()\n",
        "  y = ''\n",
        "  for i in s:\n",
        "    if s.count(i) == 1:\n",
        "      y += '('\n",
        "    else:\n",
        "      y += ')'\n",
        "  return y\n"
      ]
    },
    {
      "cell_type": "code",
      "source": [
        "dublicate_encode('recede')"
      ],
      "metadata": {
        "colab": {
          "base_uri": "https://localhost:8080/",
          "height": 35
        },
        "id": "K3EJDbJ4c7WG",
        "outputId": "6c3f7f0b-b822-43b9-eeb4-85d1098c8681"
      },
      "execution_count": null,
      "outputs": [
        {
          "output_type": "execute_result",
          "data": {
            "application/vnd.google.colaboratory.intrinsic+json": {
              "type": "string"
            },
            "text/plain": [
              "'()()()'"
            ]
          },
          "metadata": {},
          "execution_count": 13
        }
      ]
    },
    {
      "cell_type": "code",
      "source": [
        "def dublicate_encode(s):\n",
        "  s = s.lower()\n",
        "  return ''.join(['(' if s.count(i) == 1 else ')' for i in s])"
      ],
      "metadata": {
        "id": "tNppxYOcdCAF"
      },
      "execution_count": null,
      "outputs": []
    },
    {
      "cell_type": "code",
      "source": [
        "dublicate_encode('recede')"
      ],
      "metadata": {
        "colab": {
          "base_uri": "https://localhost:8080/",
          "height": 35
        },
        "id": "Pl-b9r8JdpEY",
        "outputId": "171e55bf-24d3-4eee-d26e-da635fd9685f"
      },
      "execution_count": null,
      "outputs": [
        {
          "output_type": "execute_result",
          "data": {
            "application/vnd.google.colaboratory.intrinsic+json": {
              "type": "string"
            },
            "text/plain": [
              "'()()()'"
            ]
          },
          "metadata": {},
          "execution_count": 15
        }
      ]
    },
    {
      "cell_type": "markdown",
      "metadata": {
        "id": "mYCtofo3SZmG"
      },
      "source": [
        "4- Write a function, which takes a non-negative integer (seconds) as input and returns the time in a human-readable format (HH:MM:SS)\n",
        "\n",
        "HH = hours, padded to 2 digits, range: 00 - 99\n",
        "MM = minutes, padded to 2 digits, range: 00 - 59\n",
        "SS = seconds, padded to 2 digits, range: 00 - 59\n",
        "The maximum time never exceeds 359999 (99:59:59)\n",
        "[bağlantı metni](https://www.codewars.com/kata/52685f7382004e774f0001f7)"
      ]
    },
    {
      "cell_type": "code",
      "execution_count": null,
      "metadata": {
        "id": "PxD2oigPS98C"
      },
      "outputs": [],
      "source": [
        "def make_readable(s):\n",
        "  hh = (s // 60) // 60\n",
        "  mm = (s // 60) % 60\n",
        "  ss = s % 60\n",
        "  return f'{hh:02d}:{mm:02d}:{ss:02d}'\n"
      ]
    },
    {
      "cell_type": "code",
      "source": [
        "make_readable(4820)"
      ],
      "metadata": {
        "colab": {
          "base_uri": "https://localhost:8080/",
          "height": 35
        },
        "id": "YnOINgLT-hsB",
        "outputId": "7f51abae-3931-4fec-9a82-f8b4dd4b0539"
      },
      "execution_count": null,
      "outputs": [
        {
          "output_type": "execute_result",
          "data": {
            "application/vnd.google.colaboratory.intrinsic+json": {
              "type": "string"
            },
            "text/plain": [
              "'01:20:20'"
            ]
          },
          "metadata": {},
          "execution_count": 13
        }
      ]
    },
    {
      "cell_type": "markdown",
      "metadata": {
        "id": "WcsK7zS1S-if"
      },
      "source": [
        "5- Complete the function scramble(str1, str2) that returns true if a portion of str1 characters can be rearranged to match str2, otherwise returns false.\n",
        "\n",
        "Notes:\n",
        "\n",
        "Only lower case letters will be used (a-z). No punctuation or digits will be included.\n",
        "Performance needs to be considered\n",
        "Input strings s1 and s2 are null terminated.\n",
        "Examples\n",
        "scramble('rkqodlw', 'world') ==> True\n",
        "scramble('cedewaraaossoqqyt', 'codewars') ==> True\n",
        "scramble('katas', 'steak') ==> False [bağlantı metni](https://www.codewars.com/kata/55c04b4cc56a697bb0000048)"
      ]
    },
    {
      "cell_type": "code",
      "execution_count": null,
      "metadata": {
        "id": "Sjh3zla7Tae3"
      },
      "outputs": [],
      "source": [
        "def scramble(s1,s2):\n",
        "  return all([True if s2.count(i) <= s1.count(i) else False for i in set(s2)])"
      ]
    },
    {
      "cell_type": "code",
      "source": [
        "scramble('rkqodlw', 'world')"
      ],
      "metadata": {
        "colab": {
          "base_uri": "https://localhost:8080/"
        },
        "id": "1P3kuL02BxIz",
        "outputId": "98774160-f895-41b4-e2ec-0860438c90be"
      },
      "execution_count": null,
      "outputs": [
        {
          "output_type": "execute_result",
          "data": {
            "text/plain": [
              "True"
            ]
          },
          "metadata": {},
          "execution_count": 15
        }
      ]
    },
    {
      "cell_type": "code",
      "source": [
        "scramble('katas', 'steak')"
      ],
      "metadata": {
        "colab": {
          "base_uri": "https://localhost:8080/"
        },
        "id": "zkbG4QtBCB9e",
        "outputId": "a24d9c95-c571-4703-e6aa-59913c1617cc"
      },
      "execution_count": null,
      "outputs": [
        {
          "output_type": "execute_result",
          "data": {
            "text/plain": [
              "False"
            ]
          },
          "metadata": {},
          "execution_count": 17
        }
      ]
    },
    {
      "cell_type": "code",
      "source": [
        "def scramble(s1,s2):\n",
        "\n",
        "  return all([True if s2.count(i) <= s1.count(i) else False for i in set(s2)])\n",
        "\n",
        "scramble('katas', 'steak')"
      ],
      "metadata": {
        "colab": {
          "base_uri": "https://localhost:8080/"
        },
        "id": "3FCKYxe5DG8T",
        "outputId": "cb5f5f4d-3961-4c30-c3c7-57a6db3b5191"
      },
      "execution_count": null,
      "outputs": [
        {
          "output_type": "execute_result",
          "data": {
            "text/plain": [
              "False"
            ]
          },
          "metadata": {},
          "execution_count": 32
        }
      ]
    },
    {
      "cell_type": "code",
      "source": [
        "def scramble(s1,s2):\n",
        "  s = True\n",
        "  for i in set(s2):\n",
        "    if s2.count(i) > s1.count(i):\n",
        "      s = False\n",
        "      break\n",
        "  return s\n",
        "\n",
        "scramble('rkqodlw', 'world')"
      ],
      "metadata": {
        "colab": {
          "base_uri": "https://localhost:8080/"
        },
        "id": "jslw0U2KF69W",
        "outputId": "90c52b5f-bb2f-4d96-d469-335577931337"
      },
      "execution_count": null,
      "outputs": [
        {
          "output_type": "execute_result",
          "data": {
            "text/plain": [
              "True"
            ]
          },
          "metadata": {},
          "execution_count": 36
        }
      ]
    },
    {
      "cell_type": "markdown",
      "metadata": {
        "id": "1Dx97BY2T0yj"
      },
      "source": [
        "6- Move the first letter of each word to the end of it, then add \"ay\" to the end of the word. Leave punctuation marks untouched.\n",
        "\n",
        "Examples\n",
        "pig_it('Pig latin is cool') # igPay atinlay siay oolcay\n",
        "pig_it('Hello world !')     # elloHay orldway ! [bağlantı metni](https://www.codewars.com/kata/520b9d2ad5c005041100000f)"
      ]
    },
    {
      "cell_type": "code",
      "execution_count": null,
      "metadata": {
        "id": "nK8ttI7FUPq2"
      },
      "outputs": [],
      "source": [
        "def change(s):\n",
        "  s = s.split()\n",
        "  y=''\n",
        "  for i in s:\n",
        "    if i.isalnum():\n",
        "      y += i[1:] + i[0] + 'ay'+' '\n",
        "    else:\n",
        "      y += i + ' '\n",
        "  return y.strip()\n"
      ]
    },
    {
      "cell_type": "code",
      "source": [
        "change('Pig latin is cool')"
      ],
      "metadata": {
        "colab": {
          "base_uri": "https://localhost:8080/",
          "height": 35
        },
        "id": "v6OaQkVnQuEk",
        "outputId": "d68cd56b-ef80-45a1-afbf-8077ca2f6d6c"
      },
      "execution_count": null,
      "outputs": [
        {
          "output_type": "execute_result",
          "data": {
            "application/vnd.google.colaboratory.intrinsic+json": {
              "type": "string"
            },
            "text/plain": [
              "'igPay atinlay siay oolcay'"
            ]
          },
          "metadata": {},
          "execution_count": 38
        }
      ]
    },
    {
      "cell_type": "markdown",
      "metadata": {
        "id": "wAn-rjkyUXdR"
      },
      "source": [
        "7- What is an anagram? Well, two words are anagrams of each other if they both contain the same letters. For example:\n",
        "\n",
        "'abba' & 'baab' == true\n",
        "\n",
        "'abba' & 'bbaa' == true\n",
        "\n",
        "'abba' & 'abbba' == false\n",
        "\n",
        "'abba' & 'abca' == false\n",
        "Write a function that will find all the anagrams of a word from a list. You will be given two inputs a word and an array with words. You should return an array of all the anagrams or an empty array if there are none. For example:\n",
        "\n",
        "anagrams('abba', ['aabb', 'abcd', 'bbaa', 'dada']) => ['aabb', 'bbaa']\n",
        "\n",
        "anagrams('racer', ['crazer', 'carer', 'racar', 'caers', 'racer']) => ['carer', 'racer']\n",
        "\n",
        "anagrams('laser', ['lazing', 'lazy',  'lacer']) => [] [bağlantı metni](https://www.codewars.com/kata/523a86aa4230ebb5420001e1)"
      ]
    },
    {
      "cell_type": "code",
      "source": [
        "sorted('abcd')"
      ],
      "metadata": {
        "id": "tqjtnE5mTgKH",
        "outputId": "ec97c4c4-ff8a-4280-d120-b184ae06df99",
        "colab": {
          "base_uri": "https://localhost:8080/"
        }
      },
      "execution_count": null,
      "outputs": [
        {
          "output_type": "execute_result",
          "data": {
            "text/plain": [
              "['a', 'b', 'c', 'd']"
            ]
          },
          "metadata": {},
          "execution_count": 42
        }
      ]
    },
    {
      "cell_type": "code",
      "execution_count": null,
      "metadata": {
        "id": "YS0p24roUgMq"
      },
      "outputs": [],
      "source": [
        "def anagram(word, words):\n",
        "  return [i for i in words if sorted(word) == sorted(i)]"
      ]
    },
    {
      "cell_type": "code",
      "source": [
        "anagram('abba', ['aabb', 'abcd', 'bbaa', 'dada'])"
      ],
      "metadata": {
        "colab": {
          "base_uri": "https://localhost:8080/"
        },
        "id": "hzCGc3XsTVEI",
        "outputId": "407c8fa8-aa04-4012-fce8-cd5d39390bc0"
      },
      "execution_count": null,
      "outputs": [
        {
          "output_type": "execute_result",
          "data": {
            "text/plain": [
              "['aabb', 'bbaa']"
            ]
          },
          "metadata": {},
          "execution_count": 41
        }
      ]
    }
  ],
  "metadata": {
    "colab": {
      "name": "ws_rai.ipynb",
      "provenance": [],
      "include_colab_link": true
    },
    "kernelspec": {
      "display_name": "Python 3",
      "language": "python",
      "name": "python3"
    },
    "language_info": {
      "codemirror_mode": {
        "name": "ipython",
        "version": 3
      },
      "file_extension": ".py",
      "mimetype": "text/x-python",
      "name": "python",
      "nbconvert_exporter": "python",
      "pygments_lexer": "ipython3",
      "version": "3.8.5"
    }
  },
  "nbformat": 4,
  "nbformat_minor": 0
}
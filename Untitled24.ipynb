{
  "nbformat": 4,
  "nbformat_minor": 0,
  "metadata": {
    "colab": {
      "name": "Untitled24.ipynb",
      "provenance": [],
      "authorship_tag": "ABX9TyNNeNQZqtVD9ELlKtmkPTF/"
    },
    "kernelspec": {
      "name": "python3",
      "display_name": "Python 3"
    },
    "language_info": {
      "name": "python"
    }
  },
  "cells": [
    {
      "cell_type": "code",
      "metadata": {
        "colab": {
          "base_uri": "https://localhost:8080/"
        },
        "id": "Qk5Ym6zuj0Dm",
        "outputId": "4fa8c313-7308-4e4f-937c-3065d3cadfd3"
      },
      "source": [
        "n = int(input(\"put the number: \"))\n",
        "sumy = 0\n",
        "i = 0\n",
        "for i in range(1,n,2) :\n",
        "  sumy += i\n",
        "print(\"sum of 1 to n is: \", sumy)"
      ],
      "execution_count": 2,
      "outputs": [
        {
          "output_type": "stream",
          "name": "stdout",
          "text": [
            "put the number: 4\n",
            "sum of 1 to n is:  4\n"
          ]
        }
      ]
    },
    {
      "cell_type": "code",
      "metadata": {
        "colab": {
          "base_uri": "https://localhost:8080/"
        },
        "id": "sbwNtqQ_kKQr",
        "outputId": "3ff441d0-0812-4d46-97c2-9c8372ffc027"
      },
      "source": [
        "[i for i in range(5)]"
      ],
      "execution_count": null,
      "outputs": [
        {
          "output_type": "execute_result",
          "data": {
            "text/plain": [
              "[0, 1, 2, 3, 4]"
            ]
          },
          "metadata": {},
          "execution_count": 17
        }
      ]
    },
    {
      "cell_type": "code",
      "metadata": {
        "colab": {
          "base_uri": "https://localhost:8080/"
        },
        "id": "G4cs3aOQlvod",
        "outputId": "4aec694c-b353-4f93-da94-004526c086d7"
      },
      "source": [
        "n = int(input('put the number: '))\n",
        "\n",
        "print(sum([i for i in range(n+1)]))"
      ],
      "execution_count": null,
      "outputs": [
        {
          "output_type": "stream",
          "name": "stdout",
          "text": [
            "put the number: 5\n",
            "15\n"
          ]
        }
      ]
    }
  ]
}
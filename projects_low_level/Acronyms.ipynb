{
  "nbformat": 4,
  "nbformat_minor": 0,
  "metadata": {
    "colab": {
      "provenance": []
    },
    "kernelspec": {
      "name": "python3",
      "display_name": "Python 3"
    },
    "language_info": {
      "name": "python"
    }
  },
  "cells": [
    {
      "cell_type": "code",
      "execution_count": 1,
      "metadata": {
        "colab": {
          "base_uri": "https://localhost:8080/"
        },
        "id": "Iss9TCSLmed8",
        "outputId": "80e2481f-9472-4836-f410-62159512b52c"
      },
      "outputs": [
        {
          "name": "stdout",
          "output_type": "stream",
          "text": [
            "Enter a phrase:  European Union\n"
          ]
        }
      ],
      "source": [
        "user_input = str(input(\"Enter a phrase:  \"))"
      ]
    },
    {
      "cell_type": "code",
      "source": [
        "text = user_input.split()"
      ],
      "metadata": {
        "id": "DaGFMVg-ms99"
      },
      "execution_count": 2,
      "outputs": []
    },
    {
      "cell_type": "code",
      "source": [
        "a = \" \""
      ],
      "metadata": {
        "id": "YscZIqccmtCd"
      },
      "execution_count": 3,
      "outputs": []
    },
    {
      "cell_type": "code",
      "source": [
        "for i in text:\n",
        "    a = a + str(i[0]).upper()"
      ],
      "metadata": {
        "id": "o2zem7XjmtIN"
      },
      "execution_count": 4,
      "outputs": []
    },
    {
      "cell_type": "code",
      "source": [
        "print(a)"
      ],
      "metadata": {
        "colab": {
          "base_uri": "https://localhost:8080/"
        },
        "id": "gbkn8hP2mzHH",
        "outputId": "7ac914c2-ecd6-4613-a031-63d130395f39"
      },
      "execution_count": 5,
      "outputs": [
        {
          "output_type": "stream",
          "name": "stdout",
          "text": [
            " EU\n"
          ]
        }
      ]
    }
  ]
}
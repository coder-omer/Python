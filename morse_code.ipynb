{
  "nbformat": 4,
  "nbformat_minor": 0,
  "metadata": {
    "colab": {
      "name": "morse_code.ipynb",
      "provenance": [],
      "authorship_tag": "ABX9TyNzlAjl93LmMF3mMkp1mRda",
      "include_colab_link": true
    },
    "kernelspec": {
      "name": "python3",
      "display_name": "Python 3"
    },
    "language_info": {
      "name": "python"
    }
  },
  "cells": [
    {
      "cell_type": "markdown",
      "metadata": {
        "id": "view-in-github",
        "colab_type": "text"
      },
      "source": [
        "<a href=\"https://colab.research.google.com/github/coder-omer/Python/blob/main/morse_code.ipynb\" target=\"_parent\"><img src=\"https://colab.research.google.com/assets/colab-badge.svg\" alt=\"Open In Colab\"/></a>"
      ]
    },
    {
      "cell_type": "code",
      "execution_count": null,
      "metadata": {
        "id": "ROvEdcCqq641"
      },
      "outputs": [],
      "source": [
        "morse_code_dict = { 'A':'.-', 'B':'-...',\n",
        "                    'C':'-.-.', 'D':'-..', 'E':'.',\n",
        "                    'F':'..-.', 'G':'--.', 'H':'....',\n",
        "                    'I':'..', 'J':'.---', 'K':'-.-',\n",
        "                    'L':'.-..', 'M':'--', 'N':'-.',\n",
        "                    'O':'---', 'P':'.--.', 'Q':'--.-',\n",
        "                    'R':'.-.', 'S':'...', 'T':'-',\n",
        "                    'U':'..-', 'V':'...-', 'W':'.--',\n",
        "                    'X':'-..-', 'Y':'-.--', 'Z':'--..',\n",
        "                    '1':'.----', '2':'..---', '3':'...--',\n",
        "                    '4':'....-', '5':'.....', '6':'-....',\n",
        "                    '7':'--...', '8':'---..', '9':'----.',\n",
        "                    '0':'-----', ', ':'--..--', '.':'.-.-.-',\n",
        "                    '?':'..--..', '/':'-..-.', '-':'-....-',\n",
        "                    '(':'-.--.', ')':'-.--.-'}"
      ]
    },
    {
      "cell_type": "code",
      "source": [
        "def morse_code(d):\n",
        "   kelime=\"\"\n",
        "   for i in d.split(\"   \"):\n",
        "         for j in i.split(\" \"):\n",
        "            for m,j in zip(morse_code_dict.keys(),morse_code_dict.values()):\n",
        "                kelime += m\n",
        "   return kelime\n",
        "   \n",
        "morse_code('.... . -.--   .--- ..- -.. .')"
      ],
      "metadata": {
        "colab": {
          "base_uri": "https://localhost:8080/",
          "height": 53
        },
        "id": "RHP25MkfrclB",
        "outputId": "b0f99696-d1c9-4609-cd5b-70fe75ab86cf"
      },
      "execution_count": null,
      "outputs": [
        {
          "output_type": "execute_result",
          "data": {
            "application/vnd.google.colaboratory.intrinsic+json": {
              "type": "string"
            },
            "text/plain": [
              "'ABCDEFGHIJKLMNOPQRSTUVWXYZ1234567890, .?/-()ABCDEFGHIJKLMNOPQRSTUVWXYZ1234567890, .?/-()ABCDEFGHIJKLMNOPQRSTUVWXYZ1234567890, .?/-()ABCDEFGHIJKLMNOPQRSTUVWXYZ1234567890, .?/-()ABCDEFGHIJKLMNOPQRSTUVWXYZ1234567890, .?/-()ABCDEFGHIJKLMNOPQRSTUVWXYZ1234567890, .?/-()ABCDEFGHIJKLMNOPQRSTUVWXYZ1234567890, .?/-()'"
            ]
          },
          "metadata": {},
          "execution_count": 2
        }
      ]
    },
    {
      "cell_type": "code",
      "source": [
        "morse_code('--- -- . .-.')"
      ],
      "metadata": {
        "id": "Wz02SlNxq8Bu"
      },
      "execution_count": null,
      "outputs": []
    },
    {
      "cell_type": "code",
      "source": [
        "list(morse_code_dict.keys())[list(morse_code_dict.values()).index(\".\")]"
      ],
      "metadata": {
        "colab": {
          "base_uri": "https://localhost:8080/",
          "height": 35
        },
        "id": "q5B7eu-4w64E",
        "outputId": "281e7d20-05f5-4828-89b7-59a04c48317c"
      },
      "execution_count": null,
      "outputs": [
        {
          "output_type": "execute_result",
          "data": {
            "application/vnd.google.colaboratory.intrinsic+json": {
              "type": "string"
            },
            "text/plain": [
              "'E'"
            ]
          },
          "metadata": {},
          "execution_count": 8
        }
      ]
    },
    {
      "cell_type": "code",
      "source": [
        "mydict = {'george': 16, 'amber': 19}\n",
        "print(list(mydict.keys())[list(mydict.values()).index(16)])\n",
        "for i,k in zip(mydict.keys(),mydict.values()):\n",
        "  print(i)"
      ],
      "metadata": {
        "colab": {
          "base_uri": "https://localhost:8080/"
        },
        "id": "pEgFysGTw607",
        "outputId": "4a20007a-59cf-4426-c398-28a4d4f92bcd"
      },
      "execution_count": null,
      "outputs": [
        {
          "output_type": "stream",
          "name": "stdout",
          "text": [
            "george\n",
            "george\n",
            "amber\n"
          ]
        }
      ]
    },
    {
      "cell_type": "code",
      "source": [
        "print(*zip(morse_code_dict.keys(),morse_code_dict.values()))"
      ],
      "metadata": {
        "colab": {
          "base_uri": "https://localhost:8080/"
        },
        "id": "0Tdmrl6mw6yl",
        "outputId": "412786c9-dcf0-4924-ca7c-9c130127095e"
      },
      "execution_count": null,
      "outputs": [
        {
          "output_type": "stream",
          "name": "stdout",
          "text": [
            "('A', '.-') ('B', '-...') ('C', '-.-.') ('D', '-..') ('E', '.') ('F', '..-.') ('G', '--.') ('H', '....') ('I', '..') ('J', '.---') ('K', '-.-') ('L', '.-..') ('M', '--') ('N', '-.') ('O', '---') ('P', '.--.') ('Q', '--.-') ('R', '.-.') ('S', '...') ('T', '-') ('U', '..-') ('V', '...-') ('W', '.--') ('X', '-..-') ('Y', '-.--') ('Z', '--..') ('1', '.----') ('2', '..---') ('3', '...--') ('4', '....-') ('5', '.....') ('6', '-....') ('7', '--...') ('8', '---..') ('9', '----.') ('0', '-----') (', ', '--..--') ('.', '.-.-.-') ('?', '..--..') ('/', '-..-.') ('-', '-....-') ('(', '-.--.') (')', '-.--.-')\n"
          ]
        }
      ]
    },
    {
      "cell_type": "code",
      "source": [
        "morse_code_dict = { 'A':'.-', 'B':'-...',\n",
        "                    'C':'-.-.', 'D':'-..', 'E':'.',\n",
        "                    'F':'..-.', 'G':'--.', 'H':'....',\n",
        "                    'I':'..', 'J':'.---', 'K':'-.-',\n",
        "                    'L':'.-..', 'M':'--', 'N':'-.',\n",
        "                    'O':'---', 'P':'.--.', 'Q':'--.-',\n",
        "                    'R':'.-.', 'S':'...', 'T':'-',\n",
        "                    'U':'..-', 'V':'...-', 'W':'.--',\n",
        "                    'X':'-..-', 'Y':'-.--', 'Z':'--..',\n",
        "                    '1':'.----', '2':'..---', '3':'...--',\n",
        "                    '4':'....-', '5':'.....', '6':'-....',\n",
        "                    '7':'--...', '8':'---..', '9':'----.',\n",
        "                    '0':'-----', ', ':'--..--', '.':'.-.-.-',\n",
        "                    '?':'..--..', '/':'-..-.', '-':'-....-',\n",
        "                    '(':'-.--.', ')':'-.--.-'}\n",
        "\n",
        "def morse_code(d):\n",
        "   kelime=\"\"\n",
        "   for i in d.split(\"   \"):\n",
        "         for j in i.split(\" \"):\n",
        "           kelime += list(morse_code_dict.keys())[list(morse_code_dict.values()).index(j)]\n",
        "   return kelime\n",
        "   \n",
        "morse_code('.... . -.--   .--- ..- -.. .')"
      ],
      "metadata": {
        "colab": {
          "base_uri": "https://localhost:8080/",
          "height": 35
        },
        "id": "u00CgPbFw6vb",
        "outputId": "db2e4a27-1e93-4f4f-88aa-8f792f1de0d7"
      },
      "execution_count": null,
      "outputs": [
        {
          "output_type": "execute_result",
          "data": {
            "application/vnd.google.colaboratory.intrinsic+json": {
              "type": "string"
            },
            "text/plain": [
              "'HEYJUDE'"
            ]
          },
          "metadata": {},
          "execution_count": 33
        }
      ]
    },
    {
      "cell_type": "code",
      "source": [
        "morse_code('--- -- . .-.')"
      ],
      "metadata": {
        "colab": {
          "base_uri": "https://localhost:8080/",
          "height": 35
        },
        "id": "wu5l3zqVw6p-",
        "outputId": "71c6eef1-a5e5-4c53-ce34-17270e8ec88a"
      },
      "execution_count": null,
      "outputs": [
        {
          "output_type": "execute_result",
          "data": {
            "application/vnd.google.colaboratory.intrinsic+json": {
              "type": "string"
            },
            "text/plain": [
              "'OMER'"
            ]
          },
          "metadata": {},
          "execution_count": 19
        }
      ]
    },
    {
      "cell_type": "code",
      "source": [
        "def get_key(val):\n",
        "  for key, value in morse_code_dict.items():\n",
        "    if val == value:\n",
        "      return key"
      ],
      "metadata": {
        "id": "gdmfOEsW21NV"
      },
      "execution_count": null,
      "outputs": []
    },
    {
      "cell_type": "code",
      "source": [
        "morse_code_dict = { 'A':'.-', 'B':'-...',\n",
        "                    'C':'-.-.', 'D':'-..', 'E':'.',\n",
        "                    'F':'..-.', 'G':'--.', 'H':'....',\n",
        "                    'I':'..', 'J':'.---', 'K':'-.-',\n",
        "                    'L':'.-..', 'M':'--', 'N':'-.',\n",
        "                    'O':'---', 'P':'.--.', 'Q':'--.-',\n",
        "                    'R':'.-.', 'S':'...', 'T':'-',\n",
        "                    'U':'..-', 'V':'...-', 'W':'.--',\n",
        "                    'X':'-..-', 'Y':'-.--', 'Z':'--..',\n",
        "                    '1':'.----', '2':'..---', '3':'...--',\n",
        "                    '4':'....-', '5':'.....', '6':'-....',\n",
        "                    '7':'--...', '8':'---..', '9':'----.',\n",
        "                    '0':'-----', ', ':'--..--', '.':'.-.-.-',\n",
        "                    '?':'..--..', '/':'-..-.', '-':'-....-',\n",
        "                    '(':'-.--.', ')':'-.--.-'}\n",
        "\n",
        "def morse_code(d):\n",
        "   kelime=\"\"\n",
        "   for i in d.split(\"   \"):\n",
        "         for j in i.split(\" \"):\n",
        "           print(get_key(j), end='')\n",
        "           kelime += list(morse_code_dict.keys())[list(morse_code_dict.values()).index(j)]\n",
        "   return kelime\n",
        "   \n",
        "morse_code('.... . -.--   .--- ..- -.. .')"
      ],
      "metadata": {
        "colab": {
          "base_uri": "https://localhost:8080/",
          "height": 35
        },
        "id": "krlCdN76w6nY",
        "outputId": "2d945d05-10c3-4072-860d-b50588743613"
      },
      "execution_count": null,
      "outputs": [
        {
          "output_type": "stream",
          "name": "stdout",
          "text": [
            "HEYJUDE"
          ]
        },
        {
          "output_type": "execute_result",
          "data": {
            "application/vnd.google.colaboratory.intrinsic+json": {
              "type": "string"
            },
            "text/plain": [
              "'HEYJUDE'"
            ]
          },
          "metadata": {},
          "execution_count": 42
        }
      ]
    },
    {
      "cell_type": "code",
      "source": [
        "morse_code_dict = { 'A':'.-', 'B':'-...',\n",
        "                    'C':'-.-.', 'D':'-..', 'E':'.',\n",
        "                    'F':'..-.', 'G':'--.', 'H':'....',\n",
        "                    'I':'..', 'J':'.---', 'K':'-.-',\n",
        "                    'L':'.-..', 'M':'--', 'N':'-.',\n",
        "                    'O':'---', 'P':'.--.', 'Q':'--.-',\n",
        "                    'R':'.-.', 'S':'...', 'T':'-',\n",
        "                    'U':'..-', 'V':'...-', 'W':'.--',\n",
        "                    'X':'-..-', 'Y':'-.--', 'Z':'--..',\n",
        "                    '1':'.----', '2':'..---', '3':'...--',\n",
        "                    '4':'....-', '5':'.....', '6':'-....',\n",
        "                    '7':'--...', '8':'---..', '9':'----.',\n",
        "                    '0':'-----', ', ':'--..--', '.':'.-.-.-',\n",
        "                    '?':'..--..', '/':'-..-.', '-':'-....-',\n",
        "                    '(':'-.--.', ')':'-.--.-'}\n",
        "\n",
        "def morse_code(d):\n",
        "   kelime=\"\"\n",
        "   for i in d.split(\"   \"):\n",
        "         for j in i.split(\" \"):\n",
        "           for key, value in morse_code_dict.items():\n",
        "             if value == j:\n",
        "               kelime += key           \n",
        "\n",
        "   return kelime\n",
        "   \n",
        "morse_code('.... . -.--   .--- ..- -.. .')"
      ],
      "metadata": {
        "colab": {
          "base_uri": "https://localhost:8080/",
          "height": 35
        },
        "id": "Pb2-ciU8w6k0",
        "outputId": "64b77a84-9565-4357-b286-364a1fa6bfad"
      },
      "execution_count": null,
      "outputs": [
        {
          "output_type": "execute_result",
          "data": {
            "application/vnd.google.colaboratory.intrinsic+json": {
              "type": "string"
            },
            "text/plain": [
              "'HEYJUDE'"
            ]
          },
          "metadata": {},
          "execution_count": 47
        }
      ]
    },
    {
      "cell_type": "markdown",
      "source": [
        ""
      ],
      "metadata": {
        "id": "mJktAjEvw6HJ"
      }
    }
  ]
}
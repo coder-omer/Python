{
  "nbformat": 4,
  "nbformat_minor": 0,
  "metadata": {
    "colab": {
      "name": "Untitled27.ipynb",
      "provenance": [],
      "authorship_tag": "ABX9TyNFgeUKC3/GyT+UDmTTU4JW",
      "include_colab_link": true
    },
    "kernelspec": {
      "name": "python3",
      "display_name": "Python 3"
    },
    "language_info": {
      "name": "python"
    }
  },
  "cells": [
    {
      "cell_type": "markdown",
      "metadata": {
        "id": "view-in-github",
        "colab_type": "text"
      },
      "source": [
        "<a href=\"https://colab.research.google.com/github/coder-omer/Python/blob/main/Untitled27.ipynb\" target=\"_parent\"><img src=\"https://colab.research.google.com/assets/colab-badge.svg\" alt=\"Open In Colab\"/></a>"
      ]
    },
    {
      "cell_type": "code",
      "source": [
        "fruits = ['Banana\\n', 'Orange\\n', 'Apple\\n', 'Strawberry\\n', 'Cherry\\n']\n",
        "\n",
        "with open(\"fruits.txt\", 'w', encoding=\"utf-8\") as file:\n",
        "    file.writelines(fruits)  # takes an iterator for writing\n",
        "   \n",
        "with open(\"fruits.txt\", 'r', encoding=\"utf-8\") as file:\n",
        "    print(file.read())\n",
        "\n",
        "with open(\"fruits.txt\", 'r', encoding=\"utf-8\") as file:\n",
        "    print(file.readlines())\n",
        "\n"
      ],
      "metadata": {
        "colab": {
          "base_uri": "https://localhost:8080/"
        },
        "id": "kUEqXfl208pK",
        "outputId": "eede4b4f-1390-41de-f3be-7fee07dfed80"
      },
      "execution_count": null,
      "outputs": [
        {
          "output_type": "stream",
          "name": "stdout",
          "text": [
            "Banana\n",
            "Orange\n",
            "Apple\n",
            "Strawberry\n",
            "Cherry\n",
            "\n",
            "['Banana\\n', 'Orange\\n', 'Apple\\n', 'Strawberry\\n', 'Cherry\\n']\n"
          ]
        }
      ]
    },
    {
      "cell_type": "code",
      "source": [
        "colors = ['red\\n', 'green\\n', 'yellow\\n', 'white\\n', 'black\\n']\n",
        "\n",
        "with open(\"colors.txt\", 'w', encoding=\"utf-8\") as file:\n",
        "  for color in colors:\n",
        "        file writeline(colors)  \n"
      ],
      "metadata": {
        "colab": {
          "base_uri": "https://localhost:8080/",
          "height": 130
        },
        "id": "HqjGrbCi08la",
        "outputId": "377484d3-fcd4-4e85-dc95-1d990cd1a6aa"
      },
      "execution_count": null,
      "outputs": [
        {
          "output_type": "error",
          "ename": "SyntaxError",
          "evalue": "ignored",
          "traceback": [
            "\u001b[0;36m  File \u001b[0;32m\"<ipython-input-9-0c124b92fb23>\"\u001b[0;36m, line \u001b[0;32m5\u001b[0m\n\u001b[0;31m    file writeline(colors)\u001b[0m\n\u001b[0m                 ^\u001b[0m\n\u001b[0;31mSyntaxError\u001b[0m\u001b[0;31m:\u001b[0m invalid syntax\n"
          ]
        }
      ]
    },
    {
      "cell_type": "code",
      "source": [
        "colors = ['red\\n', 'green\\n', 'yellow\\n', 'white\\n', 'black\\n']\n",
        "\n",
        "with open(\"colors.txt\", 'w', encoding=\"utf-8\") as file:\n",
        "    file.writelines(colors)  \n",
        "   \n",
        "with open(\"colors.txt\", 'r', encoding=\"utf-8\") as file:\n",
        "    print(file.read())\n",
        "\n",
        "\n"
      ],
      "metadata": {
        "colab": {
          "base_uri": "https://localhost:8080/"
        },
        "id": "YTZZfnUx08h2",
        "outputId": "a7862b3c-bc30-48fe-bf71-64ad2c5aea40"
      },
      "execution_count": null,
      "outputs": [
        {
          "output_type": "stream",
          "name": "stdout",
          "text": [
            "red\n",
            "green\n",
            "yellow\n",
            "white\n",
            "black\n",
            "\n"
          ]
        }
      ]
    },
    {
      "cell_type": "code",
      "source": [
        ""
      ],
      "metadata": {
        "id": "UkzAkPPs08e3"
      },
      "execution_count": null,
      "outputs": []
    },
    {
      "cell_type": "code",
      "source": [
        ""
      ],
      "metadata": {
        "id": "LJXfP7FQ08VQ"
      },
      "execution_count": null,
      "outputs": []
    },
    {
      "cell_type": "code",
      "source": [
        ""
      ],
      "metadata": {
        "id": "mYvSTLid08KS"
      },
      "execution_count": null,
      "outputs": []
    },
    {
      "cell_type": "code",
      "execution_count": null,
      "metadata": {
        "colab": {
          "base_uri": "https://localhost:8080/"
        },
        "id": "LhRpz_yyn_Vg",
        "outputId": "6861dbae-79bc-40a2-ce9c-aec32e948169"
      },
      "outputs": [
        {
          "output_type": "stream",
          "name": "stdout",
          "text": [
            "a\n"
          ]
        }
      ],
      "source": [
        "def front_back(word):\n",
        "  first_char = word[-1]\n",
        "  last_char = word[0]\n",
        "  if first_char == last_char:\n",
        "    return word\n",
        "  else:\n",
        "    return (first_char + word[1:-1] + last_char)\n",
        "\n",
        "print(front_back('a'))"
      ]
    }
  ]
}
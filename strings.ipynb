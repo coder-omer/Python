{
  "nbformat": 4,
  "nbformat_minor": 0,
  "metadata": {
    "colab": {
      "name": "strings.ipynb",
      "provenance": [],
      "collapsed_sections": [],
      "authorship_tag": "ABX9TyP4fRJiHyrIarYwF6jz/Gg9"
    },
    "kernelspec": {
      "name": "python3",
      "display_name": "Python 3"
    },
    "language_info": {
      "name": "python"
    }
  },
  "cells": [
    {
      "cell_type": "code",
      "metadata": {
        "colab": {
          "base_uri": "https://localhost:8080/"
        },
        "id": "2zB1SFr3r4dO",
        "outputId": "78efd43b-0787-4fe1-ca09-8cfb62addcef"
      },
      "source": [
        "fruit = 'Orange'\n",
        "\n",
        "print('Word                   : ' , fruit)"
      ],
      "execution_count": null,
      "outputs": [
        {
          "output_type": "stream",
          "name": "stdout",
          "text": [
            "Word                   :  Orange\n"
          ]
        }
      ]
    },
    {
      "cell_type": "code",
      "metadata": {
        "colab": {
          "base_uri": "https://localhost:8080/"
        },
        "id": "slC3544or4is",
        "outputId": "4841fb04-c887-4b36-b367-63063252217e"
      },
      "source": [
        "print('First letter           : ' , fruit[0])"
      ],
      "execution_count": null,
      "outputs": [
        {
          "output_type": "stream",
          "name": "stdout",
          "text": [
            "First letter           :  O\n"
          ]
        }
      ]
    },
    {
      "cell_type": "code",
      "metadata": {
        "colab": {
          "base_uri": "https://localhost:8080/"
        },
        "id": "B11P5Y8ir4l7",
        "outputId": "c7f332b8-48fb-4ee0-dd6c-7daf33d24d11"
      },
      "source": [
        "print('Second letter           : ' , fruit[1])"
      ],
      "execution_count": null,
      "outputs": [
        {
          "output_type": "stream",
          "name": "stdout",
          "text": [
            "Second letter           :  r\n"
          ]
        }
      ]
    },
    {
      "cell_type": "code",
      "metadata": {
        "colab": {
          "base_uri": "https://localhost:8080/"
        },
        "id": "GuD3gAP2r4of",
        "outputId": "9e65a48d-3207-4879-d161-f296902d9b07"
      },
      "source": [
        "print(\"3rd to 5th letters     : \" , fruit[2:5])\n",
        "print(\"Letter all after 3rd   : \" , fruit[2:])"
      ],
      "execution_count": null,
      "outputs": [
        {
          "output_type": "stream",
          "name": "stdout",
          "text": [
            "3rd to 5th letters     :  ang\n",
            "Letter all after 3rd   :  ange\n"
          ]
        }
      ]
    },
    {
      "cell_type": "code",
      "metadata": {
        "colab": {
          "base_uri": "https://localhost:8080/"
        },
        "id": "yJ9HMM7Wr4rS",
        "outputId": "61eeaaba-9e43-4c56-d635-dd034ef7c4b9"
      },
      "source": [
        "print(\"2nd to 6th letters     : \" , fruit[1:6])\n",
        "print(\"Letter all after 1st   : \" , fruit[1:])"
      ],
      "execution_count": null,
      "outputs": [
        {
          "output_type": "stream",
          "name": "stdout",
          "text": [
            "2nd to 6th letters     :  range\n",
            "Letter all after 1st   :  range\n"
          ]
        }
      ]
    },
    {
      "cell_type": "code",
      "metadata": {
        "colab": {
          "base_uri": "https://localhost:8080/"
        },
        "id": "TtF3rzaAr4t_",
        "outputId": "cc2af2b4-e82f-4377-e140-9311e8ddaeb2"
      },
      "source": [
        "print('tamamı           : ' , fruit[:])"
      ],
      "execution_count": null,
      "outputs": [
        {
          "output_type": "stream",
          "name": "stdout",
          "text": [
            "tamamı           :  Orange\n"
          ]
        }
      ]
    },
    {
      "cell_type": "code",
      "metadata": {
        "colab": {
          "base_uri": "https://localhost:8080/"
        },
        "id": "xVUexwB3r4xC",
        "outputId": "62f4c162-7151-4a0a-b59e-1afd7e4fd638"
      },
      "source": [
        "print('verilen sayıdan itibaren : ' , fruit[2:])"
      ],
      "execution_count": null,
      "outputs": [
        {
          "output_type": "stream",
          "name": "stdout",
          "text": [
            "verilen sayıdan itibaren :  ange\n"
          ]
        }
      ]
    },
    {
      "cell_type": "code",
      "metadata": {
        "colab": {
          "base_uri": "https://localhost:8080/"
        },
        "id": "vS-s2Xsvr4z6",
        "outputId": "888cfd89-1f4a-4724-b086-91237ae2e673"
      },
      "source": [
        "print('verilen sayıda sonlanıyor  : ' , fruit[:4])"
      ],
      "execution_count": null,
      "outputs": [
        {
          "output_type": "stream",
          "name": "stdout",
          "text": [
            "verilen sayıda sonlanıyor  :  Oran\n"
          ]
        }
      ]
    },
    {
      "cell_type": "code",
      "metadata": {
        "colab": {
          "base_uri": "https://localhost:8080/"
        },
        "id": "L7f2KHszr42x",
        "outputId": "3d6dfac3-26a2-43a9-8f6c-82bea23f64ca"
      },
      "source": [
        "print('basamak basamak     : ' , fruit[::2])"
      ],
      "execution_count": null,
      "outputs": [
        {
          "output_type": "stream",
          "name": "stdout",
          "text": [
            "basamak basamak     :  Oag\n"
          ]
        }
      ]
    },
    {
      "cell_type": "code",
      "metadata": {
        "colab": {
          "base_uri": "https://localhost:8080/"
        },
        "id": "zkfaMjinr45v",
        "outputId": "43b81adb-9adf-4062-d12d-ab243c7ff3d8"
      },
      "source": [
        "print('basamak basamak     : ' , fruit[::-2])"
      ],
      "execution_count": null,
      "outputs": [
        {
          "output_type": "stream",
          "name": "stdout",
          "text": [
            "basamak basamak     :  enr\n"
          ]
        }
      ]
    },
    {
      "cell_type": "code",
      "metadata": {
        "colab": {
          "base_uri": "https://localhost:8080/"
        },
        "id": "nxPUNqXor48h",
        "outputId": "8eeb9e2a-1585-4e0b-f305-d3230f4f3468"
      },
      "source": [
        "print('clarus' + 'way')"
      ],
      "execution_count": null,
      "outputs": [
        {
          "output_type": "stream",
          "name": "stdout",
          "text": [
            "clarusway\n"
          ]
        }
      ]
    },
    {
      "cell_type": "code",
      "metadata": {
        "colab": {
          "base_uri": "https://localhost:8080/"
        },
        "id": "AGHrTec6r4_f",
        "outputId": "0a7651e7-56cf-4995-bba4-1af9964d288f"
      },
      "source": [
        "print(3*'no way!')"
      ],
      "execution_count": null,
      "outputs": [
        {
          "output_type": "stream",
          "name": "stdout",
          "text": [
            "no way!no way!no way!\n"
          ]
        }
      ]
    },
    {
      "cell_type": "code",
      "metadata": {
        "colab": {
          "base_uri": "https://localhost:8080/"
        },
        "id": "zxXoWmBtr5Ch",
        "outputId": "78e3c69d-4810-46fc-d90a-a01ee041da4d"
      },
      "source": [
        "fruit = 'Orange'\n",
        "vegetable = 'Tomato'\n",
        "print(\"using + :\", fruit + vegetable)\n",
        "print(\"using * :\", 3 * fruit)"
      ],
      "execution_count": null,
      "outputs": [
        {
          "output_type": "stream",
          "name": "stdout",
          "text": [
            "using + : OrangeTomato\n",
            "using * : OrangeOrangeOrange\n"
          ]
        }
      ]
    },
    {
      "cell_type": "code",
      "metadata": {
        "colab": {
          "base_uri": "https://localhost:8080/"
        },
        "id": "LMO-izIRr5Ff",
        "outputId": "8f61769b-f321-45cc-a441-c3a06d4724cb"
      },
      "source": [
        "fruit = 'orange'\n",
        "fruit += ' apple'\n",
        "\n",
        "print(fruit)"
      ],
      "execution_count": null,
      "outputs": [
        {
          "output_type": "stream",
          "name": "stdout",
          "text": [
            "orange apple\n"
          ]
        }
      ]
    },
    {
      "cell_type": "code",
      "metadata": {
        "colab": {
          "base_uri": "https://localhost:8080/"
        },
        "id": "0bROQrMir5IP",
        "outputId": "e0805172-205c-400d-ce98-50aecc40aa36"
      },
      "source": [
        "fruit = 'orange'\n",
        "fruit += ' apple'\n",
        "fruit += ' banana'\n",
        "fruit += ' apricot'\n",
        "\n",
        "print(fruit)"
      ],
      "execution_count": null,
      "outputs": [
        {
          "output_type": "stream",
          "name": "stdout",
          "text": [
            "orange apple banana apricot\n"
          ]
        }
      ]
    },
    {
      "cell_type": "code",
      "metadata": {
        "colab": {
          "base_uri": "https://localhost:8080/"
        },
        "id": "Ny97KXJavwMx",
        "outputId": "9a0b85ef-57ca-476f-b3ff-6f561a64a724"
      },
      "source": [
        "phrase = 'I have %d %s and %.2f brothers' % (4, \"children\", 5)  \n",
        "print (phrase)"
      ],
      "execution_count": null,
      "outputs": [
        {
          "output_type": "stream",
          "name": "stdout",
          "text": [
            "I have 4 children and 5.00 brothers\n"
          ]
        }
      ]
    },
    {
      "cell_type": "code",
      "metadata": {
        "colab": {
          "base_uri": "https://localhost:8080/"
        },
        "id": "Z2R1RU2svwPa",
        "outputId": "8ab17021-8380-4d36-8beb-6870511d71d8"
      },
      "source": [
        "sentence = \"apologizing is a virtue\"\n",
        "\n",
        "print(\"%.11s\" % sentence)  # we get first 11 characters of the string\n"
      ],
      "execution_count": null,
      "outputs": [
        {
          "output_type": "stream",
          "name": "stdout",
          "text": [
            "apologizing\n"
          ]
        }
      ]
    },
    {
      "cell_type": "code",
      "metadata": {
        "colab": {
          "base_uri": "https://localhost:8080/"
        },
        "id": "SUsD0AKYvwSa",
        "outputId": "72a38fea-420c-4894-c4f4-fc56b28610d9"
      },
      "source": [
        "fruit = 'Orange'\n",
        "vegetable = 'Tomato'\n",
        "amount = 4\n",
        "print('The amount of {} we bought is {} pounds'.format(fruit, amount))"
      ],
      "execution_count": null,
      "outputs": [
        {
          "output_type": "stream",
          "name": "stdout",
          "text": [
            "The amount of Orange we bought is 4 pounds\n"
          ]
        }
      ]
    },
    {
      "cell_type": "code",
      "metadata": {
        "colab": {
          "base_uri": "https://localhost:8080/"
        },
        "id": "677siFpjvwVl",
        "outputId": "9d329b19-d653-4d5c-c2af-4e2f9adb65e4"
      },
      "source": [
        "print('{state} is the most {adjective} state of the {country}'.format(state='California', country='USA', adjective='crowded'))"
      ],
      "execution_count": null,
      "outputs": [
        {
          "output_type": "stream",
          "name": "stdout",
          "text": [
            "California is the most crowded state of the USA\n"
          ]
        }
      ]
    },
    {
      "cell_type": "code",
      "metadata": {
        "colab": {
          "base_uri": "https://localhost:8080/"
        },
        "id": "2KOzQFvkvwY9",
        "outputId": "0aacd30b-5bcd-4d99-8aff-fff850e1d03e"
      },
      "source": [
        "print('{0} is the most {adjective} state of the {country}'.format('California', country='USA', adjective='crowded'))"
      ],
      "execution_count": null,
      "outputs": [
        {
          "output_type": "stream",
          "name": "stdout",
          "text": [
            "California is the most crowded state of the USA\n"
          ]
        }
      ]
    },
    {
      "cell_type": "code",
      "metadata": {
        "colab": {
          "base_uri": "https://localhost:8080/"
        },
        "id": "RkrJPNiKvwb-",
        "outputId": "297dc77f-3337-4303-e8b9-e32561125a6c"
      },
      "source": [
        "print(\"{6} {0} {5} {3} {4} {1} {2}\".format('have', 6, 'months', 'a job', 'in', 'found', 'I will'))"
      ],
      "execution_count": null,
      "outputs": [
        {
          "output_type": "stream",
          "name": "stdout",
          "text": [
            "I will have found a job in 6 months\n"
          ]
        }
      ]
    },
    {
      "cell_type": "code",
      "metadata": {
        "colab": {
          "base_uri": "https://localhost:8080/"
        },
        "id": "x4BTo4kavwe8",
        "outputId": "40e1f211-e683-4ff2-b9ac-32aa883fab7e"
      },
      "source": [
        "print(\"{9} {7} {1} {10} {3} {2} {5} {8} {6} {0} {4}\".format('in', 'know', 'bring', 'to', 'students.', 'out', 'best', 'teachers', 'the', 'Good', 'how'))"
      ],
      "execution_count": null,
      "outputs": [
        {
          "output_type": "stream",
          "name": "stdout",
          "text": [
            "Good teachers know how to bring out the best in students.\n"
          ]
        }
      ]
    },
    {
      "cell_type": "code",
      "metadata": {
        "colab": {
          "base_uri": "https://localhost:8080/"
        },
        "id": "5jZjiVLBvwhv",
        "outputId": "a0ff23c9-3bcb-4600-ae77-4e728a3dbb90"
      },
      "source": [
        "fruit = 'Orange'\n",
        "vegetable = 'Tomato'\n",
        "amount = 6\n",
        "output = f\"The amount of {fruit} and {vegetable} we bought are totally {amount} pounds\"\n",
        "\n",
        "print(output)"
      ],
      "execution_count": null,
      "outputs": [
        {
          "output_type": "stream",
          "name": "stdout",
          "text": [
            "The amount of Orange and Tomato we bought are totally 6 pounds\n"
          ]
        }
      ]
    },
    {
      "cell_type": "code",
      "metadata": {
        "colab": {
          "base_uri": "https://localhost:8080/"
        },
        "id": "iUJhfgzHvwk0",
        "outputId": "b9fb34ba-4b03-4084-81fb-eb994443adc9"
      },
      "source": [
        "result = f\"{4 * 5}\"\n",
        "\n",
        "print(result)"
      ],
      "execution_count": null,
      "outputs": [
        {
          "output_type": "stream",
          "name": "stdout",
          "text": [
            "20\n"
          ]
        }
      ]
    },
    {
      "cell_type": "code",
      "metadata": {
        "colab": {
          "base_uri": "https://localhost:8080/"
        },
        "id": "gIcDB8hrvwnt",
        "outputId": "d8f824a3-e656-4a95-cc09-38f8d62f7368"
      },
      "source": [
        "my_name = 'JOSEPH'\n",
        "output = f\"My name is {my_name.capitalize()}\"\n",
        "\n",
        "print(output)"
      ],
      "execution_count": null,
      "outputs": [
        {
          "output_type": "stream",
          "name": "stdout",
          "text": [
            "My name is Joseph\n"
          ]
        }
      ]
    },
    {
      "cell_type": "code",
      "metadata": {
        "colab": {
          "base_uri": "https://localhost:8080/"
        },
        "id": "aGYNjR0EM6En",
        "outputId": "3b7c077b-fa73-4cf3-c584-d7959f0aa0f2"
      },
      "source": [
        "name = \"Joseph\"\n",
        "job = \"teachers\"\n",
        "domain = \"Data Science\"\n",
        "message = (\n",
        "     f\"Hi {name}. \"\n",
        "     f\"You are one of the {job} \"\n",
        "     f\"in the {domain} section.\"\n",
        ")\n",
        "print(message)"
      ],
      "execution_count": null,
      "outputs": [
        {
          "output_type": "stream",
          "name": "stdout",
          "text": [
            "Hi Joseph. You are one of the teachers in the Data Science section.\n"
          ]
        }
      ]
    },
    {
      "cell_type": "code",
      "metadata": {
        "colab": {
          "base_uri": "https://localhost:8080/"
        },
        "id": "W_tw4Ya7M6Ho",
        "outputId": "8cbc03f9-5807-413b-c0fe-5724439b9dcb"
      },
      "source": [
        "name = \"Joseph\"\n",
        "job = \"teachers\"\n",
        "domain = \"Data Science\"\n",
        "message = f\"Hi {name}. \" \\\n",
        "     f\"You are one of the {job} \" \\\n",
        "     f\"in the {domain} section.\"\n",
        "\n",
        "print(message)"
      ],
      "execution_count": null,
      "outputs": [
        {
          "output_type": "stream",
          "name": "stdout",
          "text": [
            "Hi Joseph. You are one of the teachers in the Data Science section.\n"
          ]
        }
      ]
    },
    {
      "cell_type": "code",
      "metadata": {
        "colab": {
          "base_uri": "https://localhost:8080/"
        },
        "id": "DnNO8lHkM6L_",
        "outputId": "b0221a26-a9d0-4991-8a84-d4d3589f8e0e"
      },
      "source": [
        "text = 'www.clarusway.com'\n",
        "print(text.endswith('.com'))\n",
        "print(text.startswith('http:'))"
      ],
      "execution_count": null,
      "outputs": [
        {
          "output_type": "stream",
          "name": "stdout",
          "text": [
            "True\n",
            "False\n"
          ]
        }
      ]
    },
    {
      "cell_type": "code",
      "metadata": {
        "colab": {
          "base_uri": "https://localhost:8080/"
        },
        "id": "jkvQ7mggM6QQ",
        "outputId": "16538ec4-9296-46c0-9b9f-f21d6a9f6e77"
      },
      "source": [
        "text = 'www.clarusway.com'\n",
        "print(text.endswith('om'))\n",
        "print(text.startswith('w'))"
      ],
      "execution_count": null,
      "outputs": [
        {
          "output_type": "stream",
          "name": "stdout",
          "text": [
            "True\n",
            "True\n"
          ]
        }
      ]
    },
    {
      "cell_type": "code",
      "metadata": {
        "colab": {
          "base_uri": "https://localhost:8080/"
        },
        "id": "CYR2dp-ZM6Uh",
        "outputId": "46c379c7-e4e2-4933-fed0-d04a8acbf0ce"
      },
      "source": [
        "email = \"clarusway@clarusway.com is my e-mail address\"\n",
        "print(email.startswith(\"@\", 9))\n",
        "print(email.endswith(\"-\", 10, 32))"
      ],
      "execution_count": null,
      "outputs": [
        {
          "output_type": "stream",
          "name": "stdout",
          "text": [
            "True\n",
            "True\n"
          ]
        }
      ]
    },
    {
      "cell_type": "code",
      "metadata": {
        "colab": {
          "base_uri": "https://localhost:8080/"
        },
        "id": "5WPqXp2XM6as",
        "outputId": "f87d5e31-d5e3-43d8-fb75-62ed4c94aae4"
      },
      "source": [
        "phrase = \"myemailaddress@clarusway.com\"\n",
        "\n",
        "print(len(phrase))"
      ],
      "execution_count": null,
      "outputs": [
        {
          "output_type": "stream",
          "name": "stdout",
          "text": [
            "28\n"
          ]
        }
      ]
    },
    {
      "cell_type": "code",
      "metadata": {
        "colab": {
          "base_uri": "https://localhost:8080/"
        },
        "id": "cs0UOdJLvwqs",
        "outputId": "b89b63e0-da2a-4a53-945f-6f0a4b0bb301"
      },
      "source": [
        "phrase = \"myemailaddress@clarusway.com\"\n",
        "\n",
        "print(len(phrase))\n",
        "print(phrase.startswith(\"@\", 14))\n",
        "print(phrase.endswith(\".\", 10, 25))"
      ],
      "execution_count": null,
      "outputs": [
        {
          "output_type": "stream",
          "name": "stdout",
          "text": [
            "28\n",
            "True\n",
            "True\n"
          ]
        }
      ]
    },
    {
      "cell_type": "code",
      "metadata": {
        "colab": {
          "base_uri": "https://localhost:8080/"
        },
        "id": "ucZ5HHSVrNl_",
        "outputId": "40dbc01c-043d-4e4a-c56c-b3795e7d7759"
      },
      "source": [
        "sentence = \"I live and work in Virginia\"\n",
        "\n",
        "print(sentence.upper())  \n",
        "\n",
        "print(sentence.lower())\n",
        "\n",
        "print(sentence.swapcase())\n",
        "\n",
        "print(sentence)  # note that, source text is unchanged"
      ],
      "execution_count": null,
      "outputs": [
        {
          "output_type": "stream",
          "name": "stdout",
          "text": [
            "I LIVE AND WORK IN VIRGINIA\n",
            "i live and work in virginia\n",
            "i LIVE AND WORK IN vIRGINIA\n",
            "I live and work in Virginia\n"
          ]
        }
      ]
    },
    {
      "cell_type": "code",
      "metadata": {
        "colab": {
          "base_uri": "https://localhost:8080/"
        },
        "id": "80QHxYODrNo6",
        "outputId": "c1dd35ba-5ce1-4cd9-8e7e-94b486ca52e7"
      },
      "source": [
        "sentence = \"I live and work in Virginia\"\n",
        "title_sentence = sentence.title() \n",
        "print(title_sentence)  \n",
        "\n",
        "changed_sentence = sentence.replace(\"i\", \"+\")\n",
        "print(changed_sentence)  \n",
        "\n",
        "print(sentence)  # note that, again source text is unchanged"
      ],
      "execution_count": null,
      "outputs": [
        {
          "output_type": "stream",
          "name": "stdout",
          "text": [
            "I Live And Work In Virginia\n",
            "I l+ve and work +n V+rg+n+a\n",
            "I live and work in Virginia\n"
          ]
        }
      ]
    },
    {
      "cell_type": "code",
      "metadata": {
        "colab": {
          "base_uri": "https://localhost:8080/"
        },
        "id": "vPdv-QkcrNsW",
        "outputId": "a8bc9bf1-10a4-4564-dff7-6da1152c1af9"
      },
      "source": [
        "sentence = \"I live and work in Virginia\"\n",
        "swap_case = sentence.swapcase()\n",
        "print(swap_case)\n",
        "print(swap_case.capitalize())  # changes 'i' to uppercase and\n",
        "# the rest to lowercase"
      ],
      "execution_count": null,
      "outputs": [
        {
          "output_type": "stream",
          "name": "stdout",
          "text": [
            "i LIVE AND WORK IN vIRGINIA\n",
            "I live and work in virginia\n"
          ]
        }
      ]
    },
    {
      "cell_type": "code",
      "metadata": {
        "colab": {
          "base_uri": "https://localhost:8080/"
        },
        "id": "5C5OKDturNul",
        "outputId": "21637256-e09d-464b-d89c-ab87970447ab"
      },
      "source": [
        "print(sentence.upper()) "
      ],
      "execution_count": null,
      "outputs": [
        {
          "output_type": "stream",
          "name": "stdout",
          "text": [
            "I LIVE AND WORK IN VIRGINIA\n"
          ]
        }
      ]
    },
    {
      "cell_type": "code",
      "metadata": {
        "colab": {
          "base_uri": "https://localhost:8080/"
        },
        "id": "Kzd5MbSlrNxh",
        "outputId": "124f4205-d529-4b2a-8a74-7b52b2c47e60"
      },
      "source": [
        "print(sentence.lower())"
      ],
      "execution_count": null,
      "outputs": [
        {
          "output_type": "stream",
          "name": "stdout",
          "text": [
            "i live and work in virginia\n"
          ]
        }
      ]
    },
    {
      "cell_type": "code",
      "metadata": {
        "colab": {
          "base_uri": "https://localhost:8080/"
        },
        "id": "aR7is3tvrN1X",
        "outputId": "eb871dd4-7e8b-4a9d-8744-b43d198af3e9"
      },
      "source": [
        "print(sentence.swapcase())"
      ],
      "execution_count": null,
      "outputs": [
        {
          "output_type": "stream",
          "name": "stdout",
          "text": [
            "i LIVE AND WORK IN vIRGINIA\n"
          ]
        }
      ]
    },
    {
      "cell_type": "code",
      "metadata": {
        "colab": {
          "base_uri": "https://localhost:8080/"
        },
        "id": "GuCADtg3rN3S",
        "outputId": "9a0602cb-726e-489b-834f-a3bfa6d31dc9"
      },
      "source": [
        "print(sentence)"
      ],
      "execution_count": null,
      "outputs": [
        {
          "output_type": "stream",
          "name": "stdout",
          "text": [
            "I live and work in Virginia\n"
          ]
        }
      ]
    },
    {
      "cell_type": "code",
      "metadata": {
        "colab": {
          "base_uri": "https://localhost:8080/"
        },
        "id": "7yjUQoc1sSO3",
        "outputId": "31779a03-414f-43ee-d9d9-ac9b8019ee50"
      },
      "source": [
        "print(sentence.capitalize())"
      ],
      "execution_count": null,
      "outputs": [
        {
          "output_type": "stream",
          "name": "stdout",
          "text": [
            "I live and work in virginia\n"
          ]
        }
      ]
    },
    {
      "cell_type": "code",
      "metadata": {
        "colab": {
          "base_uri": "https://localhost:8080/"
        },
        "id": "Pf34VKXdsSRs",
        "outputId": "4949050b-d31a-40fc-fc0a-afda2e730b29"
      },
      "source": [
        "print(sentence.replace('i','o'))"
      ],
      "execution_count": null,
      "outputs": [
        {
          "output_type": "stream",
          "name": "stdout",
          "text": [
            "I love and work on Vorgonoa\n"
          ]
        }
      ]
    },
    {
      "cell_type": "code",
      "metadata": {
        "colab": {
          "base_uri": "https://localhost:8080/"
        },
        "id": "Q4q-IHmPtogC",
        "outputId": "9bc2c8b7-cae0-4a88-df6e-2409e06ab13f"
      },
      "source": [
        "print(sentence)"
      ],
      "execution_count": null,
      "outputs": [
        {
          "output_type": "stream",
          "name": "stdout",
          "text": [
            "I live and work in Virginia\n"
          ]
        }
      ]
    },
    {
      "cell_type": "code",
      "metadata": {
        "colab": {
          "base_uri": "https://localhost:8080/"
        },
        "id": "e3rgw_oosSUM",
        "outputId": "60a14217-8301-46b5-e6b3-7ed575da83de"
      },
      "source": [
        "print(sentence.replace('i','o',2))"
      ],
      "execution_count": null,
      "outputs": [
        {
          "output_type": "stream",
          "name": "stdout",
          "text": [
            "I love and work on Virginia\n"
          ]
        }
      ]
    },
    {
      "cell_type": "code",
      "metadata": {
        "colab": {
          "base_uri": "https://localhost:8080/"
        },
        "id": "AEkrjrhCsSXE",
        "outputId": "d46aa4d1-9d02-43af-f138-40a9b7733937"
      },
      "source": [
        "print(\"Actions speaks louder than words\".upper().swapcase().capitalize())"
      ],
      "execution_count": null,
      "outputs": [
        {
          "output_type": "stream",
          "name": "stdout",
          "text": [
            "Actions speaks louder than words\n"
          ]
        }
      ]
    },
    {
      "cell_type": "code",
      "metadata": {
        "colab": {
          "base_uri": "https://localhost:8080/"
        },
        "id": "pCpME2IQsSay",
        "outputId": "8dc6d951-83a1-4a46-b2d8-1efe1a7d2365"
      },
      "source": [
        "print(\"Actions speaks louder than words\".upper())"
      ],
      "execution_count": null,
      "outputs": [
        {
          "output_type": "stream",
          "name": "stdout",
          "text": [
            "ACTIONS SPEAKS LOUDER THAN WORDS\n"
          ]
        }
      ]
    },
    {
      "cell_type": "code",
      "metadata": {
        "colab": {
          "base_uri": "https://localhost:8080/"
        },
        "id": "jBM4Pm7XrN6M",
        "outputId": "34c3def8-a4d1-4ee1-e46e-fcc5ac756fe0"
      },
      "source": [
        "print(\"Actions speaks louder than words\".swapcase())"
      ],
      "execution_count": null,
      "outputs": [
        {
          "output_type": "stream",
          "name": "stdout",
          "text": [
            "aCTIONS SPEAKS LOUDER THAN WORDS\n"
          ]
        }
      ]
    },
    {
      "cell_type": "code",
      "metadata": {
        "colab": {
          "base_uri": "https://localhost:8080/"
        },
        "id": "qsoLozUjuK5E",
        "outputId": "4bd693a4-2b02-46a1-f67e-1ab344108139"
      },
      "source": [
        "print(\"Actions speaks louder than words\".capitalize())"
      ],
      "execution_count": null,
      "outputs": [
        {
          "output_type": "stream",
          "name": "stdout",
          "text": [
            "Actions speaks louder than words\n"
          ]
        }
      ]
    },
    {
      "cell_type": "code",
      "metadata": {
        "colab": {
          "base_uri": "https://localhost:8080/"
        },
        "id": "aNbg-gN3uK8L",
        "outputId": "3cd8bbcf-f6cf-46c1-881e-298b17f512cc"
      },
      "source": [
        "print(\"Actions speaks louder than words\".title())"
      ],
      "execution_count": null,
      "outputs": [
        {
          "output_type": "stream",
          "name": "stdout",
          "text": [
            "Actions Speaks Louder Than Words\n"
          ]
        }
      ]
    },
    {
      "cell_type": "code",
      "metadata": {
        "colab": {
          "base_uri": "https://localhost:8080/"
        },
        "id": "y6Q4kN-6CxuV",
        "outputId": "a862f04c-39fd-471d-83a0-85402e1fe9e6"
      },
      "source": [
        "space_string = \"     listen first      \"\n",
        "print(space_string.strip())  # removes all spaces from both sides"
      ],
      "execution_count": null,
      "outputs": [
        {
          "output_type": "stream",
          "name": "stdout",
          "text": [
            "listen first\n"
          ]
        }
      ]
    }
  ]
}
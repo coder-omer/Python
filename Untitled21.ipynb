{
  "nbformat": 4,
  "nbformat_minor": 0,
  "metadata": {
    "colab": {
      "name": "Untitled21.ipynb",
      "provenance": [],
      "authorship_tag": "ABX9TyMTZ6XBIPszPlHY+9YYLJMR"
    },
    "kernelspec": {
      "name": "python3",
      "display_name": "Python 3"
    },
    "language_info": {
      "name": "python"
    }
  },
  "cells": [
    {
      "cell_type": "code",
      "metadata": {
        "colab": {
          "base_uri": "https://localhost:8080/"
        },
        "id": "Fynj-JR8VAvX",
        "outputId": "44add9fb-d044-43d4-fa46-e56fac4e8706"
      },
      "source": [
        "print('Say: I love you!')\n",
        "print()\n",
        "print('me too', 2019)"
      ],
      "execution_count": null,
      "outputs": [
        {
          "output_type": "stream",
          "name": "stdout",
          "text": [
            "Say: I love you!\n",
            "\n",
            "me too 2019\n"
          ]
        }
      ]
    },
    {
      "cell_type": "code",
      "metadata": {
        "id": "KfNDEhVAVBXH"
      },
      "source": [
        "def first_function(argument_1, argument_2) :\n",
        "    print(argument_1**2 + argument_2**2)"
      ],
      "execution_count": null,
      "outputs": []
    },
    {
      "cell_type": "code",
      "metadata": {
        "colab": {
          "base_uri": "https://localhost:8080/"
        },
        "id": "fAzJEndBVBZ0",
        "outputId": "80311121-bc25-4aa2-f38e-54df15f7cc68"
      },
      "source": [
        "first_function(2, 3)  # here, the values (2 and 3) are allocated to the arguments"
      ],
      "execution_count": null,
      "outputs": [
        {
          "output_type": "stream",
          "name": "stdout",
          "text": [
            "13\n"
          ]
        }
      ]
    },
    {
      "cell_type": "code",
      "metadata": {
        "colab": {
          "base_uri": "https://localhost:8080/"
        },
        "id": "6cMjAZJwVBdU",
        "outputId": "65e93883-4835-46d0-f8a3-17b8d5fd690d"
      },
      "source": [
        "def multiply(a, b) :\n",
        "    print(a * b)\n",
        "  \n",
        "multiply(3, 5)\n",
        "multiply(-1, 2.5)\n",
        "multiply('amazing ', 3)  # it's really amazing, right?"
      ],
      "execution_count": null,
      "outputs": [
        {
          "output_type": "stream",
          "name": "stdout",
          "text": [
            "15\n",
            "-2.5\n",
            "amazing amazing amazing \n"
          ]
        }
      ]
    },
    {
      "cell_type": "code",
      "metadata": {
        "colab": {
          "base_uri": "https://localhost:8080/"
        },
        "id": "r-ueZqiBVBkr",
        "outputId": "8edc103b-3df1-42f4-bd07-f1c23fd031b8"
      },
      "source": [
        "def motto() :\n",
        "    print(\"Don't hesitate to reinvent yourself!\")\n",
        "\n",
        "motto()  # it takes no argument"
      ],
      "execution_count": null,
      "outputs": [
        {
          "output_type": "stream",
          "name": "stdout",
          "text": [
            "Don't hesitate to reinvent yourself!\n"
          ]
        }
      ]
    },
    {
      "cell_type": "code",
      "metadata": {
        "colab": {
          "base_uri": "https://localhost:8080/"
        },
        "id": "AhTeiCbuhe3R",
        "outputId": "efe6ebcb-079a-4aec-9a58-c88fa5a4775b"
      },
      "source": [
        "def toplam(a,b):\n",
        "  print(a+b)\n",
        "\n",
        "toplam(3,5)\n",
        "toplam(67,85)"
      ],
      "execution_count": null,
      "outputs": [
        {
          "output_type": "stream",
          "name": "stdout",
          "text": [
            "8\n",
            "152\n"
          ]
        }
      ]
    },
    {
      "cell_type": "code",
      "metadata": {
        "colab": {
          "base_uri": "https://localhost:8080/"
        },
        "id": "-l_ZWSGahe8A",
        "outputId": "5a7a8314-8dfd-405f-eaf9-50b57a3db5af"
      },
      "source": [
        "def multiply_1(a, b) :\n",
        "    print(a * b)  # it prints something\n",
        "\n",
        "def multiply_2(a, b) :\n",
        "    return a * b  # returns any numeric data type value\n",
        "\n",
        "multiply_1(10, 5)\n",
        "print(multiply_2(10, 5))"
      ],
      "execution_count": null,
      "outputs": [
        {
          "output_type": "stream",
          "name": "stdout",
          "text": [
            "50\n",
            "50\n"
          ]
        }
      ]
    },
    {
      "cell_type": "code",
      "metadata": {
        "colab": {
          "base_uri": "https://localhost:8080/"
        },
        "id": "LgRyseI0he_Q",
        "outputId": "525192be-7427-4824-9ffc-d4c741d9249a"
      },
      "source": [
        "print(type(multiply_1(10, 2)))\n",
        "print(type(multiply_2(10, 5)))"
      ],
      "execution_count": null,
      "outputs": [
        {
          "output_type": "stream",
          "name": "stdout",
          "text": [
            "20\n",
            "<class 'NoneType'>\n",
            "<class 'int'>\n"
          ]
        }
      ]
    },
    {
      "cell_type": "code",
      "metadata": {
        "colab": {
          "base_uri": "https://localhost:8080/"
        },
        "id": "aiqJNfbghfCK",
        "outputId": "46c3bdcc-7e5a-4e0d-e613-e2e7c088a5af"
      },
      "source": [
        "shadow_var = print(\"It can't be assigned to any variable\")\n",
        "print(shadow_var)  # NoneType value can't be used"
      ],
      "execution_count": null,
      "outputs": [
        {
          "output_type": "stream",
          "name": "stdout",
          "text": [
            "It can't be assigned to any variable\n",
            "None\n"
          ]
        }
      ]
    },
    {
      "cell_type": "code",
      "metadata": {
        "id": "Q9y6gxf2VB6Q"
      },
      "source": [
        ""
      ],
      "execution_count": null,
      "outputs": []
    }
  ]
}
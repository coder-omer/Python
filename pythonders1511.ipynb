{
  "nbformat": 4,
  "nbformat_minor": 0,
  "metadata": {
    "colab": {
      "name": "pythonders1511.ipynb",
      "provenance": [],
      "authorship_tag": "ABX9TyMzKQTyiJnEWy/sSpVC4qM8"
    },
    "kernelspec": {
      "name": "python3",
      "display_name": "Python 3"
    },
    "language_info": {
      "name": "python"
    }
  },
  "cells": [
    {
      "cell_type": "code",
      "metadata": {
        "colab": {
          "base_uri": "https://localhost:8080/"
        },
        "id": "g3kVBp6vzl6b",
        "outputId": "91bd0cb0-c5b7-4642-eb93-3558b58fae0d"
      },
      "source": [
        "sum = 0\n",
        "for i in range(1,75):\n",
        "  sum += i\n",
        "print(sum)"
      ],
      "execution_count": null,
      "outputs": [
        {
          "output_type": "stream",
          "name": "stdout",
          "text": [
            "2775\n"
          ]
        }
      ]
    },
    {
      "cell_type": "code",
      "metadata": {
        "colab": {
          "base_uri": "https://localhost:8080/"
        },
        "id": "DEvLgllnz461",
        "outputId": "2bfc7678-0c4b-4c97-b4b8-6cf2c60e3e7f"
      },
      "source": [
        "toplam = 0\n",
        "for i in range(1,75):\n",
        "  toplam += i\n",
        "print(toplam)"
      ],
      "execution_count": null,
      "outputs": [
        {
          "output_type": "stream",
          "name": "stdout",
          "text": [
            "2775\n"
          ]
        }
      ]
    },
    {
      "cell_type": "code",
      "metadata": {
        "colab": {
          "base_uri": "https://localhost:8080/"
        },
        "id": "bi5Lljfxz4_C",
        "outputId": "06aca5d9-96a5-46cf-b0b3-f338091a6979"
      },
      "source": [
        "names = [\"susan\", \"tom\", \"edward\"]\n",
        "mood = [\"happy\", \"sad\"]\n",
        "\n",
        "for i in names:\n",
        "  for ii in mood:\n",
        "    print(i +\" is \" + ii)"
      ],
      "execution_count": null,
      "outputs": [
        {
          "output_type": "stream",
          "name": "stdout",
          "text": [
            "susan is happy\n",
            "susan is sad\n",
            "tom is happy\n",
            "tom is sad\n",
            "edward is happy\n",
            "edward is sad\n"
          ]
        }
      ]
    },
    {
      "cell_type": "code",
      "metadata": {
        "id": "gnzilB1Cz5Ch"
      },
      "source": [
        "x, y, *z, t = (11, 22, 33, 44, 55, 66, 77)"
      ],
      "execution_count": null,
      "outputs": []
    },
    {
      "cell_type": "code",
      "metadata": {
        "colab": {
          "base_uri": "https://localhost:8080/"
        },
        "id": "0cqq0Amtz5FA",
        "outputId": "eb7e8598-8144-4364-ca8c-8ba63a5136cd"
      },
      "source": [
        "x"
      ],
      "execution_count": null,
      "outputs": [
        {
          "output_type": "execute_result",
          "data": {
            "text/plain": [
              "11"
            ]
          },
          "metadata": {},
          "execution_count": 9
        }
      ]
    },
    {
      "cell_type": "code",
      "metadata": {
        "colab": {
          "base_uri": "https://localhost:8080/"
        },
        "id": "x0vi5gIvz5H2",
        "outputId": "a6bc7ba7-cdf9-46dc-b200-17c4a52f4d76"
      },
      "source": [
        "y"
      ],
      "execution_count": null,
      "outputs": [
        {
          "output_type": "execute_result",
          "data": {
            "text/plain": [
              "22"
            ]
          },
          "metadata": {},
          "execution_count": 10
        }
      ]
    },
    {
      "cell_type": "code",
      "metadata": {
        "colab": {
          "base_uri": "https://localhost:8080/"
        },
        "id": "s-RD9dRSz5MY",
        "outputId": "eed3590d-64f0-423e-ea91-5f63815e37a2"
      },
      "source": [
        "z"
      ],
      "execution_count": null,
      "outputs": [
        {
          "output_type": "execute_result",
          "data": {
            "text/plain": [
              "[33, 44, 55, 66]"
            ]
          },
          "metadata": {},
          "execution_count": 11
        }
      ]
    },
    {
      "cell_type": "code",
      "metadata": {
        "colab": {
          "base_uri": "https://localhost:8080/"
        },
        "id": "gCy84VNOz5QU",
        "outputId": "7858aa5c-c52a-4f1b-ebcc-c4c42cf33db7"
      },
      "source": [
        "t"
      ],
      "execution_count": null,
      "outputs": [
        {
          "output_type": "execute_result",
          "data": {
            "text/plain": [
              "77"
            ]
          },
          "metadata": {},
          "execution_count": 12
        }
      ]
    },
    {
      "cell_type": "code",
      "metadata": {
        "colab": {
          "base_uri": "https://localhost:8080/"
        },
        "id": "pto_Bpj3z5Sh",
        "outputId": "6dcb18d5-6d08-483d-d6fe-736c2bdc4dbc"
      },
      "source": [
        "sayilar = []\n",
        "\n",
        "for i in range(5):\n",
        "  sayilar.append(i)\n",
        "\n",
        "sayilar"
      ],
      "execution_count": null,
      "outputs": [
        {
          "output_type": "execute_result",
          "data": {
            "text/plain": [
              "[0, 1, 2, 3, 4]"
            ]
          },
          "metadata": {},
          "execution_count": 13
        }
      ]
    },
    {
      "cell_type": "code",
      "metadata": {
        "colab": {
          "base_uri": "https://localhost:8080/"
        },
        "id": "E1NFhHtQz5Ur",
        "outputId": "ff98e487-f6f1-452b-ee0a-e5012fd58288"
      },
      "source": [
        "[i for i in range(5)]"
      ],
      "execution_count": null,
      "outputs": [
        {
          "output_type": "execute_result",
          "data": {
            "text/plain": [
              "[0, 1, 2, 3, 4]"
            ]
          },
          "metadata": {},
          "execution_count": 14
        }
      ]
    },
    {
      "cell_type": "code",
      "metadata": {
        "colab": {
          "base_uri": "https://localhost:8080/"
        },
        "id": "3aLUOm5lzmhL",
        "outputId": "9e83b206-9991-44bb-bae1-e353c927c8d1"
      },
      "source": [
        "print(list(i for i in range(5)))"
      ],
      "execution_count": null,
      "outputs": [
        {
          "output_type": "stream",
          "name": "stdout",
          "text": [
            "[0, 1, 2, 3, 4]\n"
          ]
        }
      ]
    },
    {
      "cell_type": "code",
      "metadata": {
        "colab": {
          "base_uri": "https://localhost:8080/"
        },
        "id": "bFM-jTUDzmj7",
        "outputId": "af7c3abb-d3de-48e4-ce2f-b5ad0d43a769"
      },
      "source": [
        "my_list=[1,2,3,4,5,6]\n",
        "[i**2 for i in my_list if i%2==1]"
      ],
      "execution_count": null,
      "outputs": [
        {
          "output_type": "execute_result",
          "data": {
            "text/plain": [
              "[1, 9, 25]"
            ]
          },
          "metadata": {},
          "execution_count": 21
        }
      ]
    },
    {
      "cell_type": "code",
      "metadata": {
        "colab": {
          "base_uri": "https://localhost:8080/"
        },
        "id": "T1WhcFO-zmm6",
        "outputId": "c1d47fdb-7868-403c-a045-a6abe8d5ba73"
      },
      "source": [
        "my_list = [1, 2, 3, 4, 5, 6]\n",
        "[i ** 2 for i in my_list if i % 2 ]"
      ],
      "execution_count": null,
      "outputs": [
        {
          "output_type": "execute_result",
          "data": {
            "text/plain": [
              "[1, 9, 25]"
            ]
          },
          "metadata": {},
          "execution_count": 23
        }
      ]
    },
    {
      "cell_type": "code",
      "metadata": {
        "colab": {
          "base_uri": "https://localhost:8080/"
        },
        "id": "qb8vg3MRzmp3",
        "outputId": "ff09841a-12b2-4594-b0cf-4a1bab7abda1"
      },
      "source": [
        "condition = True\n",
        "if condition :\n",
        "  a=1\n",
        "else:\n",
        "  a=0\n",
        "print(a)"
      ],
      "execution_count": null,
      "outputs": [
        {
          "output_type": "stream",
          "name": "stdout",
          "text": [
            "1\n"
          ]
        }
      ]
    },
    {
      "cell_type": "code",
      "metadata": {
        "colab": {
          "base_uri": "https://localhost:8080/"
        },
        "id": "xwuH6UqBzmsm",
        "outputId": "79084cd0-a1ac-433e-bd10-c20f358f4558"
      },
      "source": [
        "condition = True\n",
        "1 if condition else 0"
      ],
      "execution_count": null,
      "outputs": [
        {
          "output_type": "execute_result",
          "data": {
            "text/plain": [
              "1"
            ]
          },
          "metadata": {},
          "execution_count": 29
        }
      ]
    },
    {
      "cell_type": "code",
      "metadata": {
        "colab": {
          "base_uri": "https://localhost:8080/"
        },
        "id": "DD3El5oMzmv7",
        "outputId": "c1ad9698-4f5b-4d3a-8c72-17d4695b120e"
      },
      "source": [
        "my_list = [1,2,3,4,5,6]\n",
        "[i**2 for i in my_list if i % 2]"
      ],
      "execution_count": null,
      "outputs": [
        {
          "output_type": "execute_result",
          "data": {
            "text/plain": [
              "[1, 9, 25]"
            ]
          },
          "metadata": {},
          "execution_count": 33
        }
      ]
    },
    {
      "cell_type": "code",
      "metadata": {
        "colab": {
          "base_uri": "https://localhost:8080/"
        },
        "id": "Et0vnXgazmyp",
        "outputId": "47c4d7a8-49df-41e4-dee6-ea2f98b6c4c6"
      },
      "source": [
        "my_list"
      ],
      "execution_count": null,
      "outputs": [
        {
          "output_type": "execute_result",
          "data": {
            "text/plain": [
              "[1, 2, 3, 4, 5, 6]"
            ]
          },
          "metadata": {},
          "execution_count": 34
        }
      ]
    },
    {
      "cell_type": "code",
      "metadata": {
        "colab": {
          "base_uri": "https://localhost:8080/"
        },
        "id": "axbeUK8yzm1w",
        "outputId": "7cec56c2-8954-467e-ae05-63c5261dbb23"
      },
      "source": [
        "my_list = [1,2,3,4,5,6]\n",
        "[i**2 for i in my_list]"
      ],
      "execution_count": 1,
      "outputs": [
        {
          "output_type": "execute_result",
          "data": {
            "text/plain": [
              "[1, 4, 9, 16, 25, 36]"
            ]
          },
          "metadata": {},
          "execution_count": 1
        }
      ]
    },
    {
      "cell_type": "code",
      "metadata": {
        "id": "Iprm8rBpznQN"
      },
      "source": [
        ""
      ],
      "execution_count": null,
      "outputs": []
    }
  ]
}
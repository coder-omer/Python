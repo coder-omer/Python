{
  "nbformat": 4,
  "nbformat_minor": 0,
  "metadata": {
    "colab": {
      "name": "Teamwork1911.ipynb",
      "provenance": [],
      "collapsed_sections": [],
      "authorship_tag": "ABX9TyOsw6I/nOb6mc6JSn4x2Qxl"
    },
    "kernelspec": {
      "name": "python3",
      "display_name": "Python 3"
    },
    "language_info": {
      "name": "python"
    }
  },
  "cells": [
    {
      "cell_type": "code",
      "metadata": {
        "colab": {
          "base_uri": "https://localhost:8080/"
        },
        "id": "TuP_1IO6AQsY",
        "outputId": "f4633b74-95d5-496c-f042-3a07e5a6fcfa"
      },
      "source": [
        "for x in list('pqr'): \n",
        "  print(x*2,end=\" \")"
      ],
      "execution_count": null,
      "outputs": [
        {
          "output_type": "stream",
          "name": "stdout",
          "text": [
            "pp qq rr "
          ]
        }
      ]
    },
    {
      "cell_type": "code",
      "metadata": {
        "colab": {
          "base_uri": "https://localhost:8080/"
        },
        "id": "nuJL-y5hAULM",
        "outputId": "87e71802-4099-4c64-8fce-cc9073a9b5f1"
      },
      "source": [
        "d = {\"john\":40, (\"ali\",\"veli\"): 50, \"peter\":45} \n",
        "print(d[(\"ali\",\"veli\")])\n",
        "d = {}\n",
        "print(type(d))"
      ],
      "execution_count": null,
      "outputs": [
        {
          "output_type": "stream",
          "name": "stdout",
          "text": [
            "50\n",
            "<class 'dict'>\n"
          ]
        }
      ]
    },
    {
      "cell_type": "code",
      "metadata": {
        "colab": {
          "base_uri": "https://localhost:8080/"
        },
        "id": "-_1iGTLrAUOe",
        "outputId": "81c57b47-cc9f-4dc3-cc8b-166cf35206b4"
      },
      "source": [
        "d = {\"john\":40, \"peter\":45} \n",
        "print(list(d.keys()))\n",
        "print(tuple(d.keys()))\n",
        "print(set(d.keys()))\n",
        "print(d.keys())\n",
        "print(d)\n",
        "print(d.values())\n",
        "print(list(d.values()))"
      ],
      "execution_count": null,
      "outputs": [
        {
          "output_type": "stream",
          "name": "stdout",
          "text": [
            "['john', 'peter']\n",
            "('john', 'peter')\n",
            "{'peter', 'john'}\n",
            "dict_keys(['john', 'peter'])\n",
            "{'john': 40, 'peter': 45}\n",
            "dict_values([40, 45])\n",
            "[40, 45]\n"
          ]
        }
      ]
    },
    {
      "cell_type": "code",
      "metadata": {
        "colab": {
          "base_uri": "https://localhost:8080/"
        },
        "id": "VdNSh1Q6AURP",
        "outputId": "3d02f78a-0886-4082-a0a0-e27554b85d64"
      },
      "source": [
        "a={} \n",
        "a['a']=1\n",
        "a['b']=[2,3,4] \n",
        "print(a)"
      ],
      "execution_count": null,
      "outputs": [
        {
          "output_type": "stream",
          "name": "stdout",
          "text": [
            "{'a': 1, 'b': [2, 3, 4]}\n"
          ]
        }
      ]
    },
    {
      "cell_type": "code",
      "metadata": {
        "colab": {
          "base_uri": "https://localhost:8080/"
        },
        "id": "Pu_R3JUEAUUa",
        "outputId": "f03a56b2-e8ab-446d-b996-c9b9f11a36d0"
      },
      "source": [
        "a={} \n",
        "a['a']=1\n",
        "a['b']=[2,3,4]\n",
        "a[1]='aslan' \n",
        "a[1.2]='?'\n",
        "print(a)"
      ],
      "execution_count": null,
      "outputs": [
        {
          "output_type": "stream",
          "name": "stdout",
          "text": [
            "{'a': 1, 'b': [2, 3, 4], 1: 'aslan', 1.2: '?'}\n"
          ]
        }
      ]
    },
    {
      "cell_type": "code",
      "metadata": {
        "colab": {
          "base_uri": "https://localhost:8080/"
        },
        "id": "748MmnfgAUXt",
        "outputId": "d5558bc2-12e9-4e68-ee49-268c3c91a81b"
      },
      "source": [
        "z=set('abc') \n",
        "print(z)\n",
        "z.add('san') \n",
        "print(z)\n",
        "z.update(\"ali\") \n",
        "print(z)"
      ],
      "execution_count": null,
      "outputs": [
        {
          "output_type": "stream",
          "name": "stdout",
          "text": [
            "{'a', 'c', 'b'}\n",
            "{'a', 'c', 'san', 'b'}\n",
            "{'c', 'a', 'i', 'l', 'san', 'b'}\n"
          ]
        }
      ]
    },
    {
      "cell_type": "code",
      "metadata": {
        "id": "2kCdX1MlAUai",
        "colab": {
          "base_uri": "https://localhost:8080/"
        },
        "outputId": "4b01cb15-05b6-4b55-8d8e-352b2023a2a5"
      },
      "source": [
        "z=set('abc') \n",
        "print(z)"
      ],
      "execution_count": 2,
      "outputs": [
        {
          "output_type": "stream",
          "name": "stdout",
          "text": [
            "{'a', 'c', 'b'}\n"
          ]
        }
      ]
    },
    {
      "cell_type": "code",
      "metadata": {
        "id": "fqxbnlKDAUdC"
      },
      "source": [
        "count, fruit, price = (2, 'apple', 3.5)"
      ],
      "execution_count": 3,
      "outputs": []
    },
    {
      "cell_type": "code",
      "metadata": {
        "id": "SVku0FYfAUfr",
        "colab": {
          "base_uri": "https://localhost:8080/"
        },
        "outputId": "3097009f-cf31-44f3-9cd5-9e28088ba1be"
      },
      "source": [
        "print(count)"
      ],
      "execution_count": 4,
      "outputs": [
        {
          "output_type": "stream",
          "name": "stdout",
          "text": [
            "2\n"
          ]
        }
      ]
    },
    {
      "cell_type": "code",
      "metadata": {
        "id": "Zl12XP9AAUih",
        "colab": {
          "base_uri": "https://localhost:8080/"
        },
        "outputId": "ad926966-e1d2-4083-f5f4-441cc4ab14fb"
      },
      "source": [
        "print(enumerate.__doc__)"
      ],
      "execution_count": null,
      "outputs": [
        {
          "output_type": "stream",
          "name": "stdout",
          "text": [
            "Return an enumerate object.\n",
            "\n",
            "  iterable\n",
            "    an object supporting iteration\n",
            "\n",
            "The enumerate object yields pairs containing a count (from start, which\n",
            "defaults to zero) and a value yielded by the iterable argument.\n",
            "\n",
            "enumerate is useful for obtaining an indexed list:\n",
            "    (0, seq[0]), (1, seq[1]), (2, seq[2]), ...\n"
          ]
        }
      ]
    },
    {
      "cell_type": "code",
      "metadata": {
        "id": "xS8XXtMfAUlQ",
        "colab": {
          "base_uri": "https://localhost:8080/"
        },
        "outputId": "017ee2f1-2f81-417d-d141-d3b1ef05e246"
      },
      "source": [
        "college_years = ['Freshman', 'Sophomore', 'Junior', 'Senior'] \n",
        "x = list(enumerate(college_years, 2019))\n",
        "for i in x:\n",
        "  if 2020 in i:\n",
        "    print(i)\n"
      ],
      "execution_count": 5,
      "outputs": [
        {
          "output_type": "stream",
          "name": "stdout",
          "text": [
            "(2020, 'Sophomore')\n"
          ]
        }
      ]
    }
  ]
}
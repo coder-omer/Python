{
  "nbformat": 4,
  "nbformat_minor": 0,
  "metadata": {
    "colab": {
      "name": "TW8.ipynb",
      "provenance": [],
      "authorship_tag": "ABX9TyP7XkVycxgTVx0H/Lrhnl9k"
    },
    "kernelspec": {
      "name": "python3",
      "display_name": "Python 3"
    },
    "language_info": {
      "name": "python"
    }
  },
  "cells": [
    {
      "cell_type": "code",
      "metadata": {
        "id": "Sg-idlRwe696"
      },
      "source": [
        "fruits = {'Apples': 5, 'Oranges': 3, 'Bananas': 4}"
      ],
      "execution_count": null,
      "outputs": []
    },
    {
      "cell_type": "code",
      "metadata": {
        "colab": {
          "base_uri": "https://localhost:8080/"
        },
        "id": "bV0G7QHQe7pE",
        "outputId": "3352ca50-033b-4daf-841d-95111e4566f9"
      },
      "source": [
        "fruit_names = [x for x in fruits.keys()]\n",
        "print(fruit_names)"
      ],
      "execution_count": null,
      "outputs": [
        {
          "output_type": "stream",
          "name": "stdout",
          "text": [
            "['Apples', 'Oranges', 'Bananas']\n"
          ]
        }
      ]
    },
    {
      "cell_type": "code",
      "metadata": {
        "colab": {
          "base_uri": "https://localhost:8080/"
        },
        "id": "eR7B-1epe7sA",
        "outputId": "b07db47c-0097-4f29-c12a-3eb9d8caee8a"
      },
      "source": [
        "i = 5 \n",
        "while True: \n",
        "  if i%0xe == 0: \n",
        "    break\n",
        "  print(i)\n",
        "  i += 1"
      ],
      "execution_count": null,
      "outputs": [
        {
          "output_type": "stream",
          "name": "stdout",
          "text": [
            "5\n",
            "6\n",
            "7\n",
            "8\n",
            "9\n",
            "10\n",
            "11\n",
            "12\n",
            "13\n"
          ]
        }
      ]
    },
    {
      "cell_type": "code",
      "metadata": {
        "colab": {
          "base_uri": "https://localhost:8080/"
        },
        "id": "jzUMNTwNe7vL",
        "outputId": "1a67776f-9e9b-4144-ad5b-6774cf646f38"
      },
      "source": [
        "x = 'abcd' \n",
        "for i in range(len(x)): \n",
        "  x[i].upper()\n",
        "print (x)"
      ],
      "execution_count": 9,
      "outputs": [
        {
          "output_type": "stream",
          "name": "stdout",
          "text": [
            "abcd\n"
          ]
        }
      ]
    },
    {
      "cell_type": "code",
      "metadata": {
        "colab": {
          "base_uri": "https://localhost:8080/"
        },
        "id": "YiAVuxD7e7x9",
        "outputId": "6fb4eaf9-ba66-469d-c60d-0c732405f876"
      },
      "source": [
        "x = 'abcd' \n",
        "print (type(x))"
      ],
      "execution_count": 10,
      "outputs": [
        {
          "output_type": "stream",
          "name": "stdout",
          "text": [
            "<class 'str'>\n"
          ]
        }
      ]
    },
    {
      "cell_type": "code",
      "metadata": {
        "colab": {
          "base_uri": "https://localhost:8080/"
        },
        "id": "TxIe_nlHe73k",
        "outputId": "d1263758-123f-4c45-eaa3-03b602434836"
      },
      "source": [
        "k=[2,3,4]\n",
        "list(reversed(k))"
      ],
      "execution_count": null,
      "outputs": [
        {
          "output_type": "execute_result",
          "data": {
            "text/plain": [
              "[4, 3, 2]"
            ]
          },
          "metadata": {},
          "execution_count": 11
        }
      ]
    }
  ]
}
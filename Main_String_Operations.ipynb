{
  "nbformat": 4,
  "nbformat_minor": 0,
  "metadata": {
    "colab": {
      "name": "Main String Operations.ipynb",
      "provenance": [],
      "authorship_tag": "ABX9TyO35NBmXhd/Y4qDDFPvdX6z"
    },
    "kernelspec": {
      "name": "python3",
      "display_name": "Python 3"
    },
    "language_info": {
      "name": "python"
    }
  },
  "cells": [
    {
      "cell_type": "code",
      "metadata": {
        "colab": {
          "base_uri": "https://localhost:8080/"
        },
        "id": "H6zQJWJ4bFb_",
        "outputId": "a3ea17bb-fa77-40e0-e913-def591e9d7ec"
      },
      "source": [
        "space_string = \"     listen first      \"\n",
        "print(space_string.strip())  # removes all spaces from both sides"
      ],
      "execution_count": null,
      "outputs": [
        {
          "output_type": "stream",
          "name": "stdout",
          "text": [
            "listen first\n"
          ]
        }
      ]
    },
    {
      "cell_type": "code",
      "metadata": {
        "colab": {
          "base_uri": "https://localhost:8080/"
        },
        "id": "-TnP6V4fbQqE",
        "outputId": "58a715f1-2d6b-4b2d-b250-4425499fd092"
      },
      "source": [
        "space_string = \"     listen first      \"\n",
        "print(space_string.rstrip())  "
      ],
      "execution_count": null,
      "outputs": [
        {
          "output_type": "stream",
          "name": "stdout",
          "text": [
            "     listen first\n"
          ]
        }
      ]
    },
    {
      "cell_type": "code",
      "metadata": {
        "colab": {
          "base_uri": "https://localhost:8080/"
        },
        "id": "tct_yQ1mbQs2",
        "outputId": "6158ae77-db2e-4ce8-957d-0663f06a2691"
      },
      "source": [
        "space_string = \"     listen first      \"\n",
        "print(space_string.lstrip()) "
      ],
      "execution_count": null,
      "outputs": [
        {
          "output_type": "stream",
          "name": "stdout",
          "text": [
            "listen first      \n"
          ]
        }
      ]
    },
    {
      "cell_type": "code",
      "metadata": {
        "colab": {
          "base_uri": "https://localhost:8080/"
        },
        "id": "4jNj3kj1bQvx",
        "outputId": "0db97c8f-6193-4bbf-ae44-b6560540b282"
      },
      "source": [
        "source_string = \"interoperability\"\n",
        "print(source_string.strip(\"yi\"))  \n",
        "# removes trailing \"y\" or \"i\" or \"yi\" or \"iy\" from both sides"
      ],
      "execution_count": null,
      "outputs": [
        {
          "output_type": "stream",
          "name": "stdout",
          "text": [
            "nteroperabilit\n"
          ]
        }
      ]
    },
    {
      "cell_type": "code",
      "metadata": {
        "colab": {
          "base_uri": "https://localhost:8080/"
        },
        "id": "C-VbHJJxbQyS",
        "outputId": "b7af79f8-2093-45e2-811c-1d18a651c518"
      },
      "source": [
        "source_string = \"interoperability\"\n",
        "print(source_string.lstrip(\"in\"))  \n",
        "# removes \"i\" or \"n\" or \"in\" or \"ni\" from the left side"
      ],
      "execution_count": null,
      "outputs": [
        {
          "output_type": "stream",
          "name": "stdout",
          "text": [
            "teroperability\n"
          ]
        }
      ]
    },
    {
      "cell_type": "code",
      "metadata": {
        "colab": {
          "base_uri": "https://localhost:8080/"
        },
        "id": "PP3lF-uebQ1F",
        "outputId": "f52445ef-c12d-4ed7-8209-f053c997bf4f"
      },
      "source": [
        "space_string = \"     listen first      \"\n",
        "print(space_string.rstrip())  # removes spaces from the right side"
      ],
      "execution_count": null,
      "outputs": [
        {
          "output_type": "stream",
          "name": "stdout",
          "text": [
            "     listen first\n"
          ]
        }
      ]
    },
    {
      "cell_type": "code",
      "metadata": {
        "colab": {
          "base_uri": "https://localhost:8080/"
        },
        "id": "_OvDLbv9bQ30",
        "outputId": "a37092b3-ffb9-4212-cd59-78c56c6345aa"
      },
      "source": [
        "source_string = \"interoperability\"\n",
        "print(source_string.rstrip(\"yt\"))  \n",
        "# removes \"y\" or \"t\" or \"yt\" or \"ty\" from the right side"
      ],
      "execution_count": null,
      "outputs": [
        {
          "output_type": "stream",
          "name": "stdout",
          "text": [
            "interoperabili\n"
          ]
        }
      ]
    },
    {
      "cell_type": "code",
      "metadata": {
        "colab": {
          "base_uri": "https://localhost:8080/"
        },
        "id": "URFVOBSPbQ6n",
        "outputId": "6e2365cf-ab5a-436b-c9d5-02abd7556c99"
      },
      "source": [
        "sentence = 'With hard work and dedication, anything is possible.'\n",
        "print(sentence.swapcase())"
      ],
      "execution_count": null,
      "outputs": [
        {
          "output_type": "stream",
          "name": "stdout",
          "text": [
            "wITH HARD WORK AND DEDICATION, ANYTHING IS POSSIBLE.\n"
          ]
        }
      ]
    },
    {
      "cell_type": "code",
      "metadata": {
        "colab": {
          "base_uri": "https://localhost:8080/"
        },
        "id": "sCCHmvtkbQ9N",
        "outputId": "e8b6d45e-c623-4e0f-9ad9-a8759255c639"
      },
      "source": [
        "print(sentence.title())"
      ],
      "execution_count": null,
      "outputs": [
        {
          "output_type": "stream",
          "name": "stdout",
          "text": [
            "With Hard Work And Dedication, Anything Is Possible.\n"
          ]
        }
      ]
    },
    {
      "cell_type": "code",
      "metadata": {
        "colab": {
          "base_uri": "https://localhost:8080/"
        },
        "id": "Qka7gtoNbQ_3",
        "outputId": "250e99ea-03e6-4073-8f53-cf29bc593dd9"
      },
      "source": [
        "print(sentence.upper())"
      ],
      "execution_count": null,
      "outputs": [
        {
          "output_type": "stream",
          "name": "stdout",
          "text": [
            "WITH HARD WORK AND DEDICATION, ANYTHING IS POSSIBLE.\n"
          ]
        }
      ]
    },
    {
      "cell_type": "code",
      "metadata": {
        "colab": {
          "base_uri": "https://localhost:8080/"
        },
        "id": "-qU6M1nmbRFH",
        "outputId": "76ba4f3d-8256-4fec-c3d8-cc3625a96eca"
      },
      "source": [
        "print('www', 'clarusway', \"com\", sep='.', end=' ')\n",
        "print('will', end=' ')\n",
        "print('open', end=' ')\n",
        "print('your', end=' ')\n",
        "print('path', end='.')"
      ],
      "execution_count": null,
      "outputs": [
        {
          "output_type": "stream",
          "name": "stdout",
          "text": [
            "www.clarusway.com will open your path."
          ]
        }
      ]
    },
    {
      "cell_type": "code",
      "metadata": {
        "colab": {
          "base_uri": "https://localhost:8080/"
        },
        "id": "BFxPQg5tbRH6",
        "outputId": "bb70c76f-0f02-47ae-e538-0745579fc315"
      },
      "source": [
        "print(\"clarusway\" + \"2020\")"
      ],
      "execution_count": null,
      "outputs": [
        {
          "output_type": "stream",
          "name": "stdout",
          "text": [
            "clarusway2020\n"
          ]
        }
      ]
    },
    {
      "cell_type": "code",
      "metadata": {
        "colab": {
          "base_uri": "https://localhost:8080/"
        },
        "id": "g9hkcuihbRK2",
        "outputId": "04c7fe3a-d3ac-4387-ff2e-e93fdbcf938a"
      },
      "source": [
        "x = 12\n",
        "y = x + 21\n",
        "x = 2\n",
        "print(y//x)"
      ],
      "execution_count": null,
      "outputs": [
        {
          "output_type": "stream",
          "name": "stdout",
          "text": [
            "16\n"
          ]
        }
      ]
    },
    {
      "cell_type": "code",
      "metadata": {
        "colab": {
          "base_uri": "https://localhost:8080/"
        },
        "id": "Znbiqs1pqgTb",
        "outputId": "2d3a0eae-5aa0-4e35-973e-24494eaf54ab"
      },
      "source": [
        "print(12+21)"
      ],
      "execution_count": null,
      "outputs": [
        {
          "output_type": "stream",
          "name": "stdout",
          "text": [
            "33\n"
          ]
        }
      ]
    },
    {
      "cell_type": "code",
      "metadata": {
        "colab": {
          "base_uri": "https://localhost:8080/"
        },
        "id": "oPjBqBqCqgWx",
        "outputId": "b9a79947-9fa9-4314-a601-556e13afff23"
      },
      "source": [
        "print(1988+int(\"32\"))"
      ],
      "execution_count": null,
      "outputs": [
        {
          "output_type": "stream",
          "name": "stdout",
          "text": [
            "2020\n"
          ]
        }
      ]
    },
    {
      "cell_type": "code",
      "metadata": {
        "colab": {
          "base_uri": "https://localhost:8080/"
        },
        "id": "z8NVwQdHqgZd",
        "outputId": "121df674-0e24-4814-fb17-4297db9fd0cc"
      },
      "source": [
        "x = False\n",
        "y = not x\n",
        "print(not (x and y))"
      ],
      "execution_count": null,
      "outputs": [
        {
          "output_type": "stream",
          "name": "stdout",
          "text": [
            "True\n"
          ]
        }
      ]
    },
    {
      "cell_type": "code",
      "metadata": {
        "colab": {
          "base_uri": "https://localhost:8080/"
        },
        "id": "wYqO--Ohqgch",
        "outputId": "7a63c732-215a-407f-b789-de446397d6c7"
      },
      "source": [
        "print(\"{4} {9} {1} {7} {5} {0} {6} {8} {3} {2}\".format('while', 'dream', 'work.', 'and', 'Some', 'success', 'others', 'of', 'wake up', 'people'))"
      ],
      "execution_count": null,
      "outputs": [
        {
          "output_type": "stream",
          "name": "stdout",
          "text": [
            "Some people dream of success while others wake up and work.\n"
          ]
        }
      ]
    },
    {
      "cell_type": "code",
      "metadata": {
        "colab": {
          "base_uri": "https://localhost:8080/"
        },
        "id": "pd2Pa7coqgfN",
        "outputId": "58350311-713d-4081-d4ab-2dfb9a2326ff"
      },
      "source": [
        "print(not None or 1)"
      ],
      "execution_count": null,
      "outputs": [
        {
          "output_type": "stream",
          "name": "stdout",
          "text": [
            "True\n"
          ]
        }
      ]
    },
    {
      "cell_type": "code",
      "metadata": {
        "colab": {
          "base_uri": "https://localhost:8080/"
        },
        "id": "MJiHtOr1qgiS",
        "outputId": "892c42f6-4ee7-4c31-8c79-3b16cc8bed20"
      },
      "source": [
        "print(\"{3} {2} {4} {1} {0}\".format('job.', 'a', 'will', 'I', 'find'))"
      ],
      "execution_count": null,
      "outputs": [
        {
          "output_type": "stream",
          "name": "stdout",
          "text": [
            "I will find a job.\n"
          ]
        }
      ]
    },
    {
      "cell_type": "code",
      "metadata": {
        "colab": {
          "base_uri": "https://localhost:8080/"
        },
        "id": "TfXOtSiOvFHo",
        "outputId": "bd60b981-de65-4e98-b581-1c32c1bc5df4"
      },
      "source": [
        "section_3_5 = \"python data types and useful operations\"\n",
        "print(section_3_5.title())"
      ],
      "execution_count": null,
      "outputs": [
        {
          "output_type": "stream",
          "name": "stdout",
          "text": [
            "Python Data Types And Useful Operations\n"
          ]
        }
      ]
    },
    {
      "cell_type": "code",
      "metadata": {
        "colab": {
          "base_uri": "https://localhost:8080/"
        },
        "id": "NikxmX03vFKc",
        "outputId": "5df17835-1227-451e-8ed5-fb09c8e978d4"
      },
      "source": [
        "str_one='upper'\n",
        "str_one+='case'\n",
        "print(str_one)"
      ],
      "execution_count": null,
      "outputs": [
        {
          "output_type": "stream",
          "name": "stdout",
          "text": [
            "uppercase\n"
          ]
        }
      ]
    },
    {
      "cell_type": "code",
      "metadata": {
        "id": "52ij4L_52duG"
      },
      "source": [
        ""
      ],
      "execution_count": null,
      "outputs": []
    },
    {
      "cell_type": "code",
      "metadata": {
        "id": "epSt_xLE2dw4"
      },
      "source": [
        ""
      ],
      "execution_count": null,
      "outputs": []
    },
    {
      "cell_type": "code",
      "metadata": {
        "id": "HZuftx_v2d0W"
      },
      "source": [
        ""
      ],
      "execution_count": null,
      "outputs": []
    },
    {
      "cell_type": "code",
      "metadata": {
        "id": "Ms1wAf8O2d2G"
      },
      "source": [
        ""
      ],
      "execution_count": null,
      "outputs": []
    },
    {
      "cell_type": "code",
      "metadata": {
        "id": "cnG6ayBP2d5Z"
      },
      "source": [
        ""
      ],
      "execution_count": null,
      "outputs": []
    },
    {
      "cell_type": "code",
      "metadata": {
        "id": "-2dDh3CT2d9S"
      },
      "source": [
        ""
      ],
      "execution_count": null,
      "outputs": []
    },
    {
      "cell_type": "code",
      "metadata": {
        "id": "lGFQ_ncKvFN2"
      },
      "source": [
        ""
      ],
      "execution_count": null,
      "outputs": []
    },
    {
      "cell_type": "code",
      "metadata": {
        "id": "vMxYfLWBvFQj"
      },
      "source": [
        ""
      ],
      "execution_count": null,
      "outputs": []
    },
    {
      "cell_type": "code",
      "metadata": {
        "id": "3pXdgitAvFUJ"
      },
      "source": [
        ""
      ],
      "execution_count": null,
      "outputs": []
    }
  ]
}
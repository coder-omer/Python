{
  "nbformat": 4,
  "nbformat_minor": 0,
  "metadata": {
    "colab": {
      "name": "30122021.ipynb adlı not defterinin kopyası",
      "provenance": [],
      "collapsed_sections": [],
      "authorship_tag": "ABX9TyOpwBVv06AvAMN3cBUHSPVd"
    },
    "kernelspec": {
      "name": "python3",
      "display_name": "Python 3"
    },
    "language_info": {
      "name": "python"
    }
  },
  "cells": [
    {
      "cell_type": "markdown",
      "source": [
        "1- Given two arrays of strings a1 and a2 return a sorted array r in lexicographical order of the strings of a1 which are substrings of strings of a2.\n",
        "\n",
        "Example 1: a1 = [\"arp\", \"live\", \"strong\"]\n",
        "\n",
        "a2 = [\"lively\", \"alive\", \"harp\", \"sharp\", \"armstrong\"]\n",
        "\n",
        "returns [\"arp\", \"live\", \"strong\"]\n",
        "\n",
        "Example 2: a1 = [\"tarp\", \"mice\", \"bull\"]\n",
        "\n",
        "a2 = [\"lively\", \"alive\", \"harp\", \"sharp\", \"armstrong\"]\n",
        "\n",
        "returns []"
      ],
      "metadata": {
        "id": "RpcXplGQ4mE2"
      }
    },
    {
      "cell_type": "code",
      "execution_count": null,
      "metadata": {
        "colab": {
          "base_uri": "https://localhost:8080/"
        },
        "id": "xnY5HM9S2F6J",
        "outputId": "dff28c25-54e9-4c6e-d404-4a9f9eb994fe"
      },
      "outputs": [
        {
          "output_type": "execute_result",
          "data": {
            "text/plain": [
              "['arp', 'live', 'strong']"
            ]
          },
          "metadata": {},
          "execution_count": 4
        }
      ],
      "source": [
        "# Stringleri bir dizide saklayacağız, sıralayacağız ve diziyi result olarak geri döndüreceğiz. \n",
        "\n",
        "def in_array(array1,array2):        # fonksiyonu tanımlayalım\n",
        "  result = []\n",
        "  for item in array1:               # önce birinci dizideki stringleri bulmak için bir döngü oluşturalım\n",
        "    for item2 in array2:            # bu döngünün içerisinde, birinci dizideki stringlerin ikinci dizinin alt stringi olup olmadığını bulmak için ikinci bit döngü oluşturalım \n",
        "      if item in item2 and item not in result:    # eğer birinci dizideki bir item ikinci dizieki bir item ın substringi ise ve result da daha önce yoksa onu result a ekleyelim\n",
        "        result.append(item)\n",
        "        break\n",
        "  result.sort()                     # result ı sıralayalım\n",
        "  return result                     # result ı döndürelim  \n",
        "\n",
        "a1 = [\"arp\", \"live\", \"strong\"]      # birinci dizi\n",
        "a2 = [\"lively\", \"alive\", \"harp\", \"sharp\", \"armstrong\"]  # ikinci dizi\n",
        "\n",
        "in_array(a1,a2) # fonksiyonu çağıralım\n"
      ]
    },
    {
      "cell_type": "markdown",
      "source": [
        "2. Group Anagrams\n",
        "\n",
        "Title: Given an array of strings, you can combine words with different letters. Alphabetic words refer to strings with the same letters but arranged differently.\n",
        "\n",
        "Given an array of strings, group anagrams together.\n",
        "\n",
        "Example:\n",
        "\n",
        "Input: [\"eat\", \"tea\", \"tan\", \"ate\", \"nat\", \"bat\"]\n",
        "\n",
        "Output:\n",
        "\n",
        "**[\n",
        "\n",
        "[\"ate\",\"eat\",\"tea\"],\n",
        "\n",
        "[\"nat\",\"tan\"],\n",
        "\n",
        "[\"bat\"]\n",
        "\n",
        "]\n",
        "\n",
        "Explain:\n",
        "\n",
        "All inputs are lowercase. Do not consider the order of the answer output. Note:\n",
        "\n",
        "All inputs will be in lowercase. The order of your output does not matter."
      ],
      "metadata": {
        "id": "fx1rGZdmBSu4"
      }
    },
    {
      "cell_type": "code",
      "source": [
        "strs = [\"eat\", \"tea\", \"tan\", \"ate\", \"nat\", \"bat\", \"cat\", \"tac\"]\n",
        "group = {}\n",
        "\n",
        "for i in strs :\n",
        "  kelime = \"\".join(sorted(i))\n",
        "  if kelime in group :\n",
        "    group[kelime].append(i)\n",
        "  else :\n",
        "    group[kelime] = [i]\n",
        "\n",
        "print(list(group.values()))"
      ],
      "metadata": {
        "colab": {
          "base_uri": "https://localhost:8080/"
        },
        "id": "upZHFr-h2Jd3",
        "outputId": "e1fc7447-4786-48c4-dd63-0a1ef9e82251"
      },
      "execution_count": null,
      "outputs": [
        {
          "output_type": "stream",
          "name": "stdout",
          "text": [
            "[['eat', 'tea', 'ate'], ['tan', 'nat'], ['bat'], ['cat', 'tac']]\n"
          ]
        }
      ]
    },
    {
      "cell_type": "code",
      "source": [
        "strs = [\"eat\", \"tea\", \"tan\", \"ate\", \"nat\", \"bat\", \"cat\", \"tac\"]\n",
        "group = {}\n",
        "\n",
        "for i in strs :\n",
        "  kelime = \"\".join(sorted(i))\n",
        "  if kelime in group :\n",
        "    group[kelime].append(i)\n",
        "  else :\n",
        "    group[kelime] = [i]\n",
        "\n",
        "print(group)\n",
        "print(list(group.values()))"
      ],
      "metadata": {
        "colab": {
          "base_uri": "https://localhost:8080/"
        },
        "id": "GaRCr3jN4oYn",
        "outputId": "7ca97dfd-2027-48cd-ac7b-96f399d82612"
      },
      "execution_count": null,
      "outputs": [
        {
          "output_type": "stream",
          "name": "stdout",
          "text": [
            "{'aet': ['eat', 'tea', 'ate'], 'ant': ['tan', 'nat'], 'abt': ['bat'], 'act': ['cat', 'tac']}\n",
            "[['eat', 'tea', 'ate'], ['tan', 'nat'], ['bat'], ['cat', 'tac']]\n"
          ]
        }
      ]
    },
    {
      "cell_type": "markdown",
      "source": [
        "3- Kullanıcıdan alınan bir metinde hangi harfin kaç kez kullanıldığını gösteren bir program yazınız."
      ],
      "metadata": {
        "id": "wrVloQ8UIIpj"
      }
    },
    {
      "cell_type": "code",
      "source": [
        "metin = input(\"\")\n",
        "dict_metin = {}\n",
        "\n",
        "for i in metin:\n",
        "  if i not in dict_metin:\n",
        "    dict_metin[i] = [i]\n",
        "  else:\n",
        "    dict_metin[i] += [i]\n",
        "\n",
        "print(dict_metin)\n",
        "print([i for i in dict_metin.values()])"
      ],
      "metadata": {
        "colab": {
          "base_uri": "https://localhost:8080/"
        },
        "id": "unJTipVXIIaC",
        "outputId": "02f164f8-5c2a-498a-cae8-586ff42aea17"
      },
      "execution_count": null,
      "outputs": [
        {
          "output_type": "stream",
          "name": "stdout",
          "text": [
            "almanya\n",
            "{'a': ['a', 'a', 'a'], 'l': ['l'], 'm': ['m'], 'n': ['n'], 'y': ['y']}\n",
            "[['a', 'a', 'a'], ['l'], ['m'], ['n'], ['y']]\n"
          ]
        }
      ]
    },
    {
      "cell_type": "code",
      "source": [
        ""
      ],
      "metadata": {
        "id": "K58g-K6N64Hj"
      },
      "execution_count": null,
      "outputs": []
    },
    {
      "cell_type": "markdown",
      "source": [
        "4-  3 basamaklı sayıların kaç tanesi rakamlarının küplerinin toplamına eşittir."
      ],
      "metadata": {
        "id": "gcpjsC91JrDU"
      }
    },
    {
      "cell_type": "code",
      "source": [
        "toplam = 0\n",
        "sayac = 0\n",
        "for i in range(100, 1000) :\n",
        "  for j in str(i) :\n",
        "    toplam = toplam + int(j) ** 3\n",
        "  if i == toplam :\n",
        "    sayac += 1\n",
        "    print(toplam)\n",
        "  toplam = 0\n",
        "print(sayac)"
      ],
      "metadata": {
        "colab": {
          "base_uri": "https://localhost:8080/"
        },
        "id": "pnL0XhK3Jqhn",
        "outputId": "5d875c3d-da69-400c-f92a-5434b0eea9a5"
      },
      "execution_count": null,
      "outputs": [
        {
          "output_type": "stream",
          "name": "stdout",
          "text": [
            "153\n",
            "370\n",
            "371\n",
            "407\n",
            "4\n"
          ]
        }
      ]
    },
    {
      "cell_type": "code",
      "source": [
        "toplam = 0\n",
        "counter = 0\n",
        "for i in range(100, 1000) :\n",
        "  for j in str(i) :\n",
        "    toplam = toplam + int(j) ** 3\n",
        "  if i == toplam :\n",
        "    counter += 1\n",
        "    print(toplam)\n",
        "  toplam = 0\n",
        "print(counter)"
      ],
      "metadata": {
        "colab": {
          "base_uri": "https://localhost:8080/"
        },
        "id": "J7WnLqEg2Jgu",
        "outputId": "a548f39d-1cba-44e3-e85b-998e38012b89"
      },
      "execution_count": null,
      "outputs": [
        {
          "output_type": "stream",
          "name": "stdout",
          "text": [
            "153\n",
            "370\n",
            "371\n",
            "407\n",
            "4\n"
          ]
        }
      ]
    },
    {
      "cell_type": "markdown",
      "source": [
        "Write a program that square every digit of a number and concatenate them. For example, if we run 9119 through the function, 811181 will come out, because 92 is 81 and 12 is 1."
      ],
      "metadata": {
        "id": "KvadmUXlM33j"
      }
    },
    {
      "cell_type": "code",
      "source": [
        "num  = input(\"\")\n",
        "print(\"\".join([str(i) for i in [int(i) ** 2 for i in num]]))"
      ],
      "metadata": {
        "colab": {
          "base_uri": "https://localhost:8080/"
        },
        "id": "oZIVntbU2Jj1",
        "outputId": "ba17d86a-c9c4-4dfb-8a99-c5fa62c5b0cb"
      },
      "execution_count": null,
      "outputs": [
        {
          "output_type": "stream",
          "name": "stdout",
          "text": [
            "1521\n",
            "12541\n"
          ]
        }
      ]
    }
  ]
}
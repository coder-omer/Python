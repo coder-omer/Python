{
  "cells": [
    {
      "cell_type": "markdown",
      "metadata": {
        "id": "EFjnD-Q8vbng"
      },
      "source": [
        "1-QUESTION:Write a calculator function which takes orderly first number, operator and second number than gives the result."
      ]
    },
    {
      "cell_type": "code",
      "execution_count": null,
      "metadata": {
        "id": "W7RoFdpsvbnh"
      },
      "outputs": [],
      "source": [
        "def calculator():\n",
        "    operation=input().split()\n",
        "    a,o,b=int(operation[0]),operation[1],int(operation[2])\n",
        "    \n",
        "    if o=='+':\n",
        "        return a+b\n",
        "    elif o=='-':\n",
        "        return a-b\n",
        "    elif o=='*':\n",
        "        return a*b\n",
        "    elif o=='/':\n",
        "        return a/b\n",
        "    else:\n",
        "        return ('Please enter a valid operator sign')"
      ]
    },
    {
      "cell_type": "code",
      "execution_count": null,
      "metadata": {
        "id": "p3-Kr0tBvbnk",
        "outputId": "ae6f59b5-0312-40bc-c8cd-c643f9244e88"
      },
      "outputs": [
        {
          "name": "stdout",
          "output_type": "stream",
          "text": [
            "77 + 99\n"
          ]
        },
        {
          "data": {
            "text/plain": [
              "176"
            ]
          },
          "execution_count": 6,
          "metadata": {},
          "output_type": "execute_result"
        }
      ],
      "source": [
        "calculator()"
      ]
    },
    {
      "cell_type": "code",
      "execution_count": null,
      "metadata": {
        "id": "0vNpDaiavbnn"
      },
      "outputs": [],
      "source": [
        ""
      ]
    },
    {
      "cell_type": "markdown",
      "metadata": {
        "id": "YJNiaUWXvbnn"
      },
      "source": [
        "2-QUESTION:Write a function that calculates factorial of a given number."
      ]
    },
    {
      "cell_type": "code",
      "execution_count": null,
      "metadata": {
        "id": "4fnb-yyrvbnn"
      },
      "outputs": [],
      "source": [
        "def my_fact(n):\n",
        "    if n<=1:\n",
        "        return 1\n",
        "    result=n*my_fact(n-1)\n",
        "    return result"
      ]
    },
    {
      "cell_type": "code",
      "execution_count": null,
      "metadata": {
        "id": "ZCu4CO8evbno",
        "outputId": "b2cf1464-0576-464c-f043-e3786d920d92"
      },
      "outputs": [
        {
          "name": "stdout",
          "output_type": "stream",
          "text": [
            "The factorial equals: 24\n"
          ]
        }
      ],
      "source": [
        "print('The factorial equals: {}'.format(my_fact(4)))"
      ]
    },
    {
      "cell_type": "markdown",
      "metadata": {
        "id": "Hmp1NmFCvbno"
      },
      "source": [
        "3-QUESTION:This is an interview question asked by Amazon.\n",
        "\n",
        "Given an array of numbers, find the maximum sum of any contiguous subarray of the array.\n",
        "For example, given the array [34, -50, 42, 14, -5, 86], the maximum sum would be 137, since we would take elements 42, 14, -5, and 86.\n",
        "Given the array [-5, -1, -8, -9], the maximum sum would be 0, since we would not take any elements."
      ]
    },
    {
      "cell_type": "code",
      "execution_count": null,
      "metadata": {
        "id": "IFWcfc89vbnp"
      },
      "outputs": [],
      "source": [
        " [34, -50, 42, 14, -5, 86]"
      ]
    },
    {
      "cell_type": "code",
      "execution_count": null,
      "metadata": {
        "id": "1TsAYafPvbnp"
      },
      "outputs": [],
      "source": [
        "def subarray(arr):\n",
        "    total=0\n",
        "    for i in range(len(arr)):\n",
        "        for j in range(len(arr)):\n",
        "            if sum(arr[i:i+j+1])>total:\n",
        "                total=sum(arr[i:i+j+1])\n",
        "    print(total)"
      ]
    },
    {
      "cell_type": "code",
      "execution_count": null,
      "metadata": {
        "id": "FxozyraRvbnq",
        "outputId": "fa397aba-1a27-4721-d0c6-2346f5a5b49e"
      },
      "outputs": [
        {
          "name": "stdout",
          "output_type": "stream",
          "text": [
            "137\n"
          ]
        }
      ],
      "source": [
        "subarray([34, -50, 42, 14, -5, 86])"
      ]
    },
    {
      "cell_type": "code",
      "execution_count": null,
      "metadata": {
        "id": "RqWTt5sXvbnq"
      },
      "outputs": [],
      "source": [
        "#alternative solution from Hamza\n",
        "def subarray_finder(liste):\n",
        "    if sum(liste)>0:\n",
        "        newlist = []\n",
        "        count = 0\n",
        "        for i in range(len(liste)):\n",
        "            sayı = sum(liste[i:len(liste)])\n",
        "            sayı1 = sum(liste[len(liste)-count:i:-1])\n",
        "            newlist.append(sayı)\n",
        "            newlist.append(sayı1)\n",
        "            count +=1\n",
        "        return max(newlist)\n",
        "    else:\n",
        "        return 0"
      ]
    },
    {
      "cell_type": "code",
      "execution_count": null,
      "metadata": {
        "id": "7jLsPGlDvbnr",
        "outputId": "6797f05a-47cb-4790-cca4-f615bfd57f5b"
      },
      "outputs": [
        {
          "data": {
            "text/plain": [
              "137"
            ]
          },
          "execution_count": 21,
          "metadata": {},
          "output_type": "execute_result"
        }
      ],
      "source": [
        "subarray_finder([34, -50, 42, 14, -5, 86])"
      ]
    },
    {
      "cell_type": "markdown",
      "metadata": {
        "id": "7Xh_tC2ivbns"
      },
      "source": [
        "4-QUESTION: Interview Level = Medium\n",
        "    \n",
        "Given a string s, find the length of the longest substring without repeating characters.\n"
      ]
    },
    {
      "cell_type": "code",
      "execution_count": null,
      "metadata": {
        "id": "LwUx8cNyvbns"
      },
      "outputs": [],
      "source": [
        "def lengthOfLongestSubstring(s):\n",
        "    smax,temp='',''\n",
        "    for i in s:\n",
        "        if i in temp:\n",
        "            if len(temp)>len(smax):\n",
        "                smax=temp\n",
        "            while i in temp:\n",
        "                temp=temp[1:]\n",
        "        temp+=i\n",
        "#     if smax:\n",
        "#         return smax, len(temp)\n",
        "#     else: \n",
        "#         return temp, len(temp)\n",
        "    return (smax*(len(smax)>len(temp))+temp*(1-(len(smax)>len(temp))), max(len(smax),len(temp)))"
      ]
    },
    {
      "cell_type": "code",
      "execution_count": null,
      "metadata": {
        "id": "_EBmVw3avbnt",
        "outputId": "fea2e983-7019-4012-c90b-f1404f149ddb"
      },
      "outputs": [
        {
          "data": {
            "text/plain": [
              "('hgfd', 4)"
            ]
          },
          "execution_count": 55,
          "metadata": {},
          "output_type": "execute_result"
        }
      ],
      "source": [
        "lengthOfLongestSubstring('abcbdhhgfd')"
      ]
    },
    {
      "cell_type": "code",
      "execution_count": null,
      "metadata": {
        "id": "KeVkMEYLvbnu"
      },
      "outputs": [],
      "source": [
        "# alternative solution from Yusuf\n",
        "def substring(text:str):\n",
        "    long = \"\"\n",
        "    for i in range(len(text)):\n",
        "        temp = \"\"\n",
        "        for j in range(i, len(text)):\n",
        "            if text[j] in temp:\n",
        "                break\n",
        "            temp += text[j]\n",
        "        if len(temp) > len(long): #takes first one\n",
        "#       if len(temp) >= len(long): takes last one \n",
        "            long = temp\n",
        "    return long, len(long)"
      ]
    },
    {
      "cell_type": "code",
      "execution_count": null,
      "metadata": {
        "id": "z-Tv_srevbnv",
        "outputId": "a0216805-5d23-4854-80f3-99a4adaa6f37"
      },
      "outputs": [
        {
          "data": {
            "text/plain": [
              "('cbdh', 4)"
            ]
          },
          "execution_count": 57,
          "metadata": {},
          "output_type": "execute_result"
        }
      ],
      "source": [
        "substring('abcbdhhgfd')"
      ]
    },
    {
      "cell_type": "markdown",
      "metadata": {
        "id": "F_X70Ujuvbnv"
      },
      "source": [
        "5.QUESTION:Create your own module named as my_module.py which contains a function printing Hello 'Your Name' when called. \n",
        "Also create a dictionary object which keeps name and profession of you inside your module. Finally put the calculator function \n",
        "in your module and call it with both import from your interpreter and from your command prompt. "
      ]
    },
    {
      "cell_type": "code",
      "execution_count": null,
      "metadata": {
        "id": "lYklZTPovbnw"
      },
      "outputs": [],
      "source": [
        "import mymodule"
      ]
    },
    {
      "cell_type": "code",
      "execution_count": null,
      "metadata": {
        "id": "wsOzkSDVvbnx",
        "outputId": "78717e08-fe66-4d99-dc62-a425f2bf41d8"
      },
      "outputs": [
        {
          "name": "stdout",
          "output_type": "stream",
          "text": [
            "Hello Michael\n"
          ]
        }
      ],
      "source": [
        "mymodule.my_function()"
      ]
    },
    {
      "cell_type": "code",
      "execution_count": null,
      "metadata": {
        "id": "Uh1lgc2Ovbnx",
        "outputId": "41e0d74a-2e84-4e09-99ce-88ac72b6f572"
      },
      "outputs": [
        {
          "data": {
            "text/plain": [
              "{'name': 'Michael', 'profession': 'Data Scientist'}"
            ]
          },
          "execution_count": 3,
          "metadata": {},
          "output_type": "execute_result"
        }
      ],
      "source": [
        "mymodule.person"
      ]
    },
    {
      "cell_type": "code",
      "execution_count": null,
      "metadata": {
        "id": "a3iHQZcqvbny",
        "outputId": "9172c73a-c0fb-4664-d2db-8a61d7332df4"
      },
      "outputs": [
        {
          "data": {
            "text/plain": [
              "'Data Scientist'"
            ]
          },
          "execution_count": 4,
          "metadata": {},
          "output_type": "execute_result"
        }
      ],
      "source": [
        "mymodule.person['profession']"
      ]
    },
    {
      "cell_type": "code",
      "execution_count": null,
      "metadata": {
        "id": "ol4QkRVSvbnz",
        "outputId": "6c0c6d83-778f-40f8-9f0c-be13f3c71128"
      },
      "outputs": [
        {
          "name": "stdout",
          "output_type": "stream",
          "text": [
            "5 / 0\n"
          ]
        },
        {
          "ename": "ZeroDivisionError",
          "evalue": "division by zero",
          "output_type": "error",
          "traceback": [
            "\u001b[1;31m---------------------------------------------------------------------------\u001b[0m",
            "\u001b[1;31mZeroDivisionError\u001b[0m                         Traceback (most recent call last)",
            "\u001b[1;32m<ipython-input-9-a2efe352969f>\u001b[0m in \u001b[0;36m<module>\u001b[1;34m\u001b[0m\n\u001b[1;32m----> 1\u001b[1;33m \u001b[0mmymodule\u001b[0m\u001b[1;33m.\u001b[0m\u001b[0mcalculator2\u001b[0m\u001b[1;33m(\u001b[0m\u001b[1;33m)\u001b[0m\u001b[1;33m\u001b[0m\u001b[1;33m\u001b[0m\u001b[0m\n\u001b[0m",
            "\u001b[1;32m~\\Python\\Python General\\mymodule.py\u001b[0m in \u001b[0;36mcalculator2\u001b[1;34m()\u001b[0m\n\u001b[0;32m     16\u001b[0m         \u001b[1;32mreturn\u001b[0m \u001b[0ma\u001b[0m\u001b[1;33m*\u001b[0m\u001b[0mb\u001b[0m\u001b[1;33m\u001b[0m\u001b[1;33m\u001b[0m\u001b[0m\n\u001b[0;32m     17\u001b[0m     \u001b[1;32melif\u001b[0m \u001b[0mo\u001b[0m\u001b[1;33m==\u001b[0m\u001b[1;34m'/'\u001b[0m\u001b[1;33m:\u001b[0m\u001b[1;33m\u001b[0m\u001b[1;33m\u001b[0m\u001b[0m\n\u001b[1;32m---> 18\u001b[1;33m         \u001b[1;32mreturn\u001b[0m \u001b[0ma\u001b[0m\u001b[1;33m/\u001b[0m\u001b[0mb\u001b[0m\u001b[1;33m\u001b[0m\u001b[1;33m\u001b[0m\u001b[0m\n\u001b[0m\u001b[0;32m     19\u001b[0m     \u001b[1;32melse\u001b[0m\u001b[1;33m:\u001b[0m\u001b[1;33m\u001b[0m\u001b[1;33m\u001b[0m\u001b[0m\n\u001b[0;32m     20\u001b[0m         \u001b[1;32mreturn\u001b[0m \u001b[1;33m(\u001b[0m\u001b[1;34m'Please enter a valid operator sign'\u001b[0m\u001b[1;33m)\u001b[0m\u001b[1;33m\u001b[0m\u001b[1;33m\u001b[0m\u001b[0m\n",
            "\u001b[1;31mZeroDivisionError\u001b[0m: division by zero"
          ]
        }
      ],
      "source": [
        "mymodule.calculator2()"
      ]
    },
    {
      "cell_type": "code",
      "execution_count": null,
      "metadata": {
        "id": "BupeBXtbvbn0"
      },
      "outputs": [],
      "source": [
        ""
      ]
    },
    {
      "cell_type": "code",
      "execution_count": null,
      "metadata": {
        "id": "z4ui8zdKvbn1"
      },
      "outputs": [],
      "source": [
        "import numpy as np"
      ]
    },
    {
      "cell_type": "code",
      "execution_count": null,
      "metadata": {
        "id": "InBiYsJJvbn1",
        "outputId": "aea41cf0-0ca7-4c63-d0f5-10ee1f2f2a6d"
      },
      "outputs": [
        {
          "data": {
            "text/plain": [
              "86"
            ]
          },
          "execution_count": 18,
          "metadata": {},
          "output_type": "execute_result"
        }
      ],
      "source": [
        "np.max([34, -50, 42, 14, -5, 86])"
      ]
    },
    {
      "cell_type": "code",
      "execution_count": null,
      "metadata": {
        "id": "oRb-8cIDvbn1"
      },
      "outputs": [],
      "source": [
        "import pandas as pd"
      ]
    },
    {
      "cell_type": "code",
      "execution_count": null,
      "metadata": {
        "id": "ocPfP6ltvbn2"
      },
      "outputs": [],
      "source": [
        ""
      ]
    },
    {
      "cell_type": "markdown",
      "metadata": {
        "id": "Ok4XantOvbn2"
      },
      "source": [
        "**6**. QUESTION:Use the calculator you created before and name it as calculator2. Implement Full 'Exception Handling' while callling calculator2. Try to run your function, if exception occurs write 'Please enter a valid operator and valid number values' and finally write 'Calculator works just fine' for every run."
      ]
    },
    {
      "cell_type": "code",
      "execution_count": null,
      "metadata": {
        "id": "dE_ih2Tfvbn2"
      },
      "outputs": [],
      "source": [
        "def calculator():\n",
        "    operation=input().split()\n",
        "    a,o,b=int(operation[0]),operation[1],int(operation[2])\n",
        "    \n",
        "    if o=='+':\n",
        "        return a+b\n",
        "    elif o=='-':\n",
        "        return a-b\n",
        "    elif o=='*':\n",
        "        return a*b\n",
        "    elif o=='/':\n",
        "        return a/b\n",
        "    else:\n",
        "        return ('Please enter a valid operator sign')"
      ]
    },
    {
      "cell_type": "code",
      "execution_count": null,
      "metadata": {
        "id": "7_inHve5vbn3",
        "outputId": "fdc645ec-0d2c-4671-b05c-20e86920ebf9"
      },
      "outputs": [
        {
          "name": "stdout",
          "output_type": "stream",
          "text": [
            "a / 5\n",
            "Please enter valid values\n",
            "Calculator works just fine\n"
          ]
        }
      ],
      "source": [
        "try:\n",
        "    result=calculator()\n",
        "    print(result)\n",
        "except:\n",
        "    print('Please enter valid values')\n",
        "finally:\n",
        "    print('Calculator works just fine')"
      ]
    },
    {
      "cell_type": "code",
      "execution_count": null,
      "metadata": {
        "id": "zPLYDFVCvbn4",
        "outputId": "6cdc7885-8e4e-4b02-e1a4-0bce9dabe31d"
      },
      "outputs": [
        {
          "name": "stdout",
          "output_type": "stream",
          "text": [
            "5 / 0\n",
            "Nominator is zero please change it\n",
            "Calculator works just fine\n"
          ]
        }
      ],
      "source": [
        "try:\n",
        "    result=calculator()\n",
        "    print(result)\n",
        "except ZeroDivisionError:\n",
        "    print('Nominator is zero please change it')\n",
        "finally:\n",
        "    print('Calculator works just fine')"
      ]
    },
    {
      "cell_type": "code",
      "execution_count": null,
      "metadata": {
        "id": "TEuQnQT9vbn4"
      },
      "outputs": [],
      "source": [
        ""
      ]
    }
  ],
  "metadata": {
    "kernelspec": {
      "display_name": "Python 3",
      "language": "python",
      "name": "python3"
    },
    "language_info": {
      "codemirror_mode": {
        "name": "ipython",
        "version": 3
      },
      "file_extension": ".py",
      "mimetype": "text/x-python",
      "name": "python",
      "nbconvert_exporter": "python",
      "pygments_lexer": "ipython3",
      "version": "3.8.5"
    },
    "colab": {
      "name": "ITF10-workshop-Student (1).ipynb",
      "provenance": []
    }
  },
  "nbformat": 4,
  "nbformat_minor": 0
}
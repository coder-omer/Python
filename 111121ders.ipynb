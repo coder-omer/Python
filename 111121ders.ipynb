{
  "nbformat": 4,
  "nbformat_minor": 0,
  "metadata": {
    "colab": {
      "name": "111121ders.ipynb",
      "provenance": [],
      "collapsed_sections": [],
      "authorship_tag": "ABX9TyOa6bAebt9zG1E5TrOy/rdN"
    },
    "kernelspec": {
      "name": "python3",
      "display_name": "Python 3"
    },
    "language_info": {
      "name": "python"
    }
  },
  "cells": [
    {
      "cell_type": "code",
      "metadata": {
        "id": "2Vy9bgE6LUSZ"
      },
      "source": [
        "while condition1 :\n",
        "  body\n",
        "  while condition2 :\n",
        "    body\n",
        "    break"
      ],
      "execution_count": null,
      "outputs": []
    },
    {
      "cell_type": "code",
      "metadata": {
        "colab": {
          "base_uri": "https://localhost:8080/"
        },
        "id": "OKm8Gu1ILVqb",
        "outputId": "03a6f152-0381-4c12-b15c-4309cc236283"
      },
      "source": [
        "sentence = input(\"Give me a sentence: \")\n",
        "words = sentence.split()\n",
        "i = 0\n",
        "longest = 0\n",
        "while i < len(words):\n",
        "  if len(words[i]) > longest:\n",
        "    longest = len(words[i])\n",
        "  i+=1\n",
        "  print(\"bu hayat bir cümledir\")"
      ],
      "execution_count": 1,
      "outputs": [
        {
          "output_type": "stream",
          "name": "stdout",
          "text": [
            "Give me a sentence: eleman üzerinde geziniyor\n",
            "bu hayat bir cümledir\n",
            "bu hayat bir cümledir\n",
            "bu hayat bir cümledir\n"
          ]
        }
      ]
    },
    {
      "cell_type": "code",
      "metadata": {
        "colab": {
          "base_uri": "https://localhost:8080/"
        },
        "id": "xEiLJmV8LVto",
        "outputId": "d4114734-2369-407d-9606-2bfe037b2b89"
      },
      "source": [
        "names = [\"Ahmed\", \"Aisha\", \"Adam\", \"Joseph\", \"Gabriel\"]\n",
        "for names in names:\n",
        "  print(\"hello\",names)"
      ],
      "execution_count": 2,
      "outputs": [
        {
          "output_type": "stream",
          "name": "stdout",
          "text": [
            "hello Ahmed\n",
            "hello Aisha\n",
            "hello Adam\n",
            "hello Joseph\n",
            "hello Gabriel\n"
          ]
        }
      ]
    },
    {
      "cell_type": "code",
      "metadata": {
        "colab": {
          "base_uri": "https://localhost:8080/"
        },
        "id": "dLhvK8i6LVwK",
        "outputId": "a51b16a8-f7d4-459a-a201-5dad8f3ed000"
      },
      "source": [
        "print(list(range(5)))"
      ],
      "execution_count": 3,
      "outputs": [
        {
          "output_type": "stream",
          "name": "stdout",
          "text": [
            "[0, 1, 2, 3, 4]\n"
          ]
        }
      ]
    },
    {
      "cell_type": "code",
      "metadata": {
        "colab": {
          "base_uri": "https://localhost:8080/"
        },
        "id": "vsJ5hwAsLV16",
        "outputId": "a5a346eb-02da-4c3b-a9ba-03123ae2bd7c"
      },
      "source": [
        "liste = []\n",
        "\n",
        "for i in range(1,6):\n",
        "  liste.append(i)\n",
        "print(liste) "
      ],
      "execution_count": 4,
      "outputs": [
        {
          "output_type": "stream",
          "name": "stdout",
          "text": [
            "[1, 2, 3, 4, 5]\n"
          ]
        }
      ]
    },
    {
      "cell_type": "code",
      "metadata": {
        "colab": {
          "base_uri": "https://localhost:8080/"
        },
        "id": "RjHOWQK1LV44",
        "outputId": "c0fa15d3-a97b-445d-a077-e21d5b607377"
      },
      "source": [
        "course = \"clarusway\"\n",
        "\n",
        "for i in course:\n",
        "  print(i)"
      ],
      "execution_count": 5,
      "outputs": [
        {
          "output_type": "stream",
          "name": "stdout",
          "text": [
            "c\n",
            "l\n",
            "a\n",
            "r\n",
            "u\n",
            "s\n",
            "w\n",
            "a\n",
            "y\n"
          ]
        }
      ]
    },
    {
      "cell_type": "code",
      "metadata": {
        "colab": {
          "base_uri": "https://localhost:8080/"
        },
        "id": "jUkd06BgLV7t",
        "outputId": "8227205c-3577-4219-f092-c0cca3451951"
      },
      "source": [
        "course = input(\"bir kelime giriniz: \")\n",
        "j=0\n",
        "for i in course:\n",
        "  print(i, end = \"-\")\n",
        "  j=j+1\n",
        "  if j==len(course)-1:\n",
        "    print(course[-1])\n",
        "    break\n"
      ],
      "execution_count": 6,
      "outputs": [
        {
          "output_type": "stream",
          "name": "stdout",
          "text": [
            "bir kelime giriniz: clarusway\n",
            "c-l-a-r-u-s-w-a-y\n"
          ]
        }
      ]
    },
    {
      "cell_type": "code",
      "metadata": {
        "colab": {
          "base_uri": "https://localhost:8080/"
        },
        "id": "071V4JslLV-k",
        "outputId": "95785f77-5776-4181-882e-8868f27cfaef"
      },
      "source": [
        "word = input(\"give me a word: \")\n",
        "counter = 0\n",
        "for i in word:\n",
        "  counter += 1\n",
        "  if counter < len(word):\n",
        "    i = i + \"-\"\n",
        "  print(i, end=\" \")"
      ],
      "execution_count": 7,
      "outputs": [
        {
          "output_type": "stream",
          "name": "stdout",
          "text": [
            "give me a word: matematik\n",
            "m- a- t- e- m- a- t- i- k "
          ]
        }
      ]
    },
    {
      "cell_type": "code",
      "metadata": {
        "colab": {
          "base_uri": "https://localhost:8080/"
        },
        "id": "i4ojLV_TLWDO",
        "outputId": "06ca53a1-4a2f-4b55-a482-590b788029bf"
      },
      "source": [
        "count = 0\n",
        "for i in word:\n",
        "    count += 1\n",
        "    if count < len(word):\n",
        "        i = i + \"-\"\n",
        "    print(i, end = \"\")"
      ],
      "execution_count": 8,
      "outputs": [
        {
          "output_type": "stream",
          "name": "stdout",
          "text": [
            "m-a-t-e-m-a-t-i-k"
          ]
        }
      ]
    },
    {
      "cell_type": "code",
      "metadata": {
        "colab": {
          "base_uri": "https://localhost:8080/"
        },
        "id": "I6f9GkJhLWGV",
        "outputId": "0191bd50-67a8-410f-d753-a1ed79454ff0"
      },
      "source": [
        "user = {\n",
        "    \"name\": \"Daniel\",\n",
        "    \"surname\": \"Smith\",\n",
        "    \"age\": 35\n",
        "}\n",
        "for attribute in user:\n",
        "  print(attribute) "
      ],
      "execution_count": 9,
      "outputs": [
        {
          "output_type": "stream",
          "name": "stdout",
          "text": [
            "name\n",
            "surname\n",
            "age\n"
          ]
        }
      ]
    },
    {
      "cell_type": "code",
      "metadata": {
        "colab": {
          "base_uri": "https://localhost:8080/"
        },
        "id": "AUahkCLpLWJQ",
        "outputId": "11793537-df2d-49cd-f46e-d5577524707e"
      },
      "source": [
        "sayi = int(input(\"1-10 arası bir sayı giriniz: \"))\n",
        "\n",
        "for i in range(11):\n",
        "   print(\"{} * {} = \".format(sayi,i), sayi*i)\n"
      ],
      "execution_count": 11,
      "outputs": [
        {
          "output_type": "stream",
          "name": "stdout",
          "text": [
            "1-10 arası bir sayı giriniz: 5\n",
            "5 * 0 =  0\n",
            "5 * 1 =  5\n",
            "5 * 2 =  10\n",
            "5 * 3 =  15\n",
            "5 * 4 =  20\n",
            "5 * 5 =  25\n",
            "5 * 6 =  30\n",
            "5 * 7 =  35\n",
            "5 * 8 =  40\n",
            "5 * 9 =  45\n",
            "5 * 10 =  50\n"
          ]
        }
      ]
    },
    {
      "cell_type": "code",
      "metadata": {
        "colab": {
          "base_uri": "https://localhost:8080/"
        },
        "id": "FMKix3DqLWO6",
        "outputId": "eb5d17a0-975e-400a-f016-32f0626bcfe8"
      },
      "source": [
        "for sayi in range(10):\n",
        "    print(\"*\" * sayi)\n",
        " "
      ],
      "execution_count": 3,
      "outputs": [
        {
          "output_type": "stream",
          "name": "stdout",
          "text": [
            "\n",
            "*\n",
            "**\n",
            "***\n",
            "****\n",
            "*****\n",
            "******\n",
            "*******\n",
            "********\n",
            "*********\n"
          ]
        }
      ]
    },
    {
      "cell_type": "code",
      "metadata": {
        "colab": {
          "base_uri": "https://localhost:8080/"
        },
        "id": "lCHwyOh2LWSD",
        "outputId": "f8c7c252-23f6-40e2-8b47-3a389fb99686"
      },
      "source": [
        "for i in range(1,10):\n",
        "  print(str(i) * i)"
      ],
      "execution_count": 2,
      "outputs": [
        {
          "output_type": "stream",
          "name": "stdout",
          "text": [
            "1\n",
            "22\n",
            "333\n",
            "4444\n",
            "55555\n",
            "666666\n",
            "7777777\n",
            "88888888\n",
            "999999999\n"
          ]
        }
      ]
    },
    {
      "cell_type": "code",
      "metadata": {
        "colab": {
          "base_uri": "https://localhost:8080/",
          "height": 35
        },
        "id": "uZmW_v_zLWYk",
        "outputId": "0a4f25b7-ae81-4370-e16f-2c2aa5eba383"
      },
      "source": [
        "\"5\" * 5"
      ],
      "execution_count": 4,
      "outputs": [
        {
          "output_type": "execute_result",
          "data": {
            "application/vnd.google.colaboratory.intrinsic+json": {
              "type": "string"
            },
            "text/plain": [
              "'55555'"
            ]
          },
          "metadata": {},
          "execution_count": 4
        }
      ]
    },
    {
      "cell_type": "code",
      "metadata": {
        "colab": {
          "base_uri": "https://localhost:8080/"
        },
        "id": "-8iq12RoLWbj",
        "outputId": "7f07155d-0976-4df7-81b6-83a55221afa6"
      },
      "source": [
        "print(*range (5,25,2))"
      ],
      "execution_count": 5,
      "outputs": [
        {
          "output_type": "stream",
          "name": "stdout",
          "text": [
            "5 7 9 11 13 15 17 19 21 23\n"
          ]
        }
      ]
    },
    {
      "cell_type": "code",
      "metadata": {
        "colab": {
          "base_uri": "https://localhost:8080/"
        },
        "id": "Xmlz63tjLWe0",
        "outputId": "256f2187-0474-427a-c994-2a3875c12a7c"
      },
      "source": [
        "print(*range (10,0,-1))"
      ],
      "execution_count": 6,
      "outputs": [
        {
          "output_type": "stream",
          "name": "stdout",
          "text": [
            "10 9 8 7 6 5 4 3 2 1\n"
          ]
        }
      ]
    },
    {
      "cell_type": "code",
      "metadata": {
        "colab": {
          "base_uri": "https://localhost:8080/"
        },
        "id": "gCt8tnEOLWid",
        "outputId": "4dc4fdac-9adc-41db-98c7-012f94987207"
      },
      "source": [
        "print(* \"seperate\")"
      ],
      "execution_count": 7,
      "outputs": [
        {
          "output_type": "stream",
          "name": "stdout",
          "text": [
            "s e p e r a t e\n"
          ]
        }
      ]
    },
    {
      "cell_type": "code",
      "metadata": {
        "colab": {
          "base_uri": "https://localhost:8080/"
        },
        "id": "cL2bXgCOLWk8",
        "outputId": "345762a7-f3f0-4e44-f5fa-d6b7dc785cf7"
      },
      "source": [
        "text = ['one', 'two', 'three', 'four', 'five']\n",
        "numbers = [1, 2, 3, 4, 5]\n",
        "for x, y in zip(text, numbers):\n",
        "\tprint(x, ':', y)"
      ],
      "execution_count": 8,
      "outputs": [
        {
          "output_type": "stream",
          "name": "stdout",
          "text": [
            "one : 1\n",
            "two : 2\n",
            "three : 3\n",
            "four : 4\n",
            "five : 5\n"
          ]
        }
      ]
    },
    {
      "cell_type": "code",
      "metadata": {
        "colab": {
          "base_uri": "https://localhost:8080/"
        },
        "id": "326J4zhzLWoO",
        "outputId": "8cf6d18a-119f-43c7-b92f-2ac8dc1d342c"
      },
      "source": [
        "text = ['one', 'two', 'three', 'four', 'five']\n",
        "numbers = [1, 2, 3, 4, 5]\n",
        "sentence = [\"very bad\",\"bad\",\"normal\",\"good\",\"very good\"]\n",
        "for x, y, z in zip(text, numbers, sentence):\n",
        "\tprint(x, ':', y, ':', z)"
      ],
      "execution_count": 9,
      "outputs": [
        {
          "output_type": "stream",
          "name": "stdout",
          "text": [
            "one : 1 : very bad\n",
            "two : 2 : bad\n",
            "three : 3 : normal\n",
            "four : 4 : good\n",
            "five : 5 : very good\n"
          ]
        }
      ]
    },
    {
      "cell_type": "code",
      "metadata": {
        "colab": {
          "base_uri": "https://localhost:8080/"
        },
        "id": "Pqvl3UXZLWrX",
        "outputId": "7557848b-429a-4a07-fa4a-c74db2b026db"
      },
      "source": [
        "evens =[]\n",
        "odds =[]\n",
        "\n",
        "for i in range(10):\n",
        "  if i % 2 == 0:\n",
        "    evens.append(i)\n",
        "  else:\n",
        "    odds.append(i)\n",
        "\n",
        "print(evens)\n",
        "print(odds)\n"
      ],
      "execution_count": 10,
      "outputs": [
        {
          "output_type": "stream",
          "name": "stdout",
          "text": [
            "[0, 2, 4, 6, 8]\n",
            "[1, 3, 5, 7, 9]\n"
          ]
        }
      ]
    },
    {
      "cell_type": "code",
      "metadata": {
        "id": "QnRqriIALWuc",
        "colab": {
          "base_uri": "https://localhost:8080/"
        },
        "outputId": "f4f3aee2-ca5c-495e-e56b-57bbade123ca"
      },
      "source": [
        "numbers = (11, 36, 33, 66, 89, 21, 32, 16, 10)\n",
        "\n",
        "odds = 0\n",
        "even = 0\n",
        "\n",
        "for i in numbers:\n",
        "\n",
        "  if i % 2 == 0:\n",
        "    even += 1\n",
        "  else:\n",
        "    odds += 1\n",
        "\n",
        "print(\"even count :\", even)"
      ],
      "execution_count": 15,
      "outputs": [
        {
          "output_type": "stream",
          "name": "stdout",
          "text": [
            "even count : 5\n"
          ]
        }
      ]
    }
  ]
}
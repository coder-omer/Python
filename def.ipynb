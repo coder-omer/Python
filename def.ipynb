{
  "nbformat": 4,
  "nbformat_minor": 0,
  "metadata": {
    "colab": {
      "name": "def.ipynb",
      "provenance": [],
      "authorship_tag": "ABX9TyM2s12qFCKGisRDkx3S8BSt"
    },
    "kernelspec": {
      "name": "python3",
      "display_name": "Python 3"
    },
    "language_info": {
      "name": "python"
    }
  },
  "cells": [
    {
      "cell_type": "code",
      "metadata": {
        "colab": {
          "base_uri": "https://localhost:8080/"
        },
        "id": "ePbunrpDf00Y",
        "outputId": "26353476-9152-4931-ff23-6ae3ca3a5c47"
      },
      "source": [
        "from datetime import datetime\n",
        "\n",
        "# def print_time():\n",
        "#   print('task completed')\n",
        "#   print(datetime.now())\n",
        "#   print()\n",
        "\n",
        "first_name = 'Omer'\n",
        "print('first name assigned')\n",
        "print(datetime.now())\n",
        "print()\n",
        "\n",
        "for x in range(0,10):\n",
        "  print(x)\n",
        "print('loop completed')\n",
        "print(datetime.now())  \n",
        "print()"
      ],
      "execution_count": null,
      "outputs": [
        {
          "output_type": "stream",
          "name": "stdout",
          "text": [
            "first name assigned\n",
            "2021-11-22 08:01:30.874527\n",
            "\n",
            "0\n",
            "1\n",
            "2\n",
            "3\n",
            "4\n",
            "5\n",
            "6\n",
            "7\n",
            "8\n",
            "9\n",
            "loop completed\n",
            "2021-11-22 08:01:30.875725\n",
            "\n"
          ]
        }
      ]
    },
    {
      "cell_type": "code",
      "metadata": {
        "colab": {
          "base_uri": "https://localhost:8080/",
          "height": 555
        },
        "id": "dbyP1pLiqO9i",
        "outputId": "2b6ed10a-c214-49b3-de37-273ab6e68ebc"
      },
      "source": [
        "from datetime import datetime\n",
        "\n",
        "def print_time(task_name):\n",
        "  print(task_name)\n",
        "  print(datetime.now())\n",
        "  print()\n",
        "\n",
        "first_name = 'Susan'\n",
        "print_time('first name assigned')\n",
        "\n",
        "# print(datetime.now())\n",
        "# print()\n",
        "\n",
        "for x in range(0,10):\n",
        "  print(x)\n",
        "print_time('loop completed')\n",
        "# print(datetime.now())  \n",
        "# print()\n",
        "\n",
        "print_time('yeni')\n"
      ],
      "execution_count": null,
      "outputs": [
        {
          "output_type": "stream",
          "name": "stdout",
          "text": [
            "first name assigned\n",
            "2021-11-22 08:08:25.782482\n",
            "\n",
            "0\n",
            "1\n",
            "2\n",
            "3\n",
            "4\n",
            "5\n",
            "6\n",
            "7\n",
            "8\n",
            "9\n",
            "loop completed\n",
            "2021-11-22 08:08:25.782983\n",
            "\n",
            "yeni\n",
            "2021-11-22 08:08:25.783094\n",
            "\n"
          ]
        },
        {
          "output_type": "error",
          "ename": "NameError",
          "evalue": "ignored",
          "traceback": [
            "\u001b[0;31m---------------------------------------------------------------------------\u001b[0m",
            "\u001b[0;31mNameError\u001b[0m                                 Traceback (most recent call last)",
            "\u001b[0;32m<ipython-input-7-c567e87681db>\u001b[0m in \u001b[0;36m<module>\u001b[0;34m()\u001b[0m\n\u001b[1;32m     19\u001b[0m \u001b[0;34m\u001b[0m\u001b[0m\n\u001b[1;32m     20\u001b[0m \u001b[0mprint_time\u001b[0m\u001b[0;34m(\u001b[0m\u001b[0;34m'yeni'\u001b[0m\u001b[0;34m)\u001b[0m\u001b[0;34m\u001b[0m\u001b[0;34m\u001b[0m\u001b[0m\n\u001b[0;32m---> 21\u001b[0;31m \u001b[0mprint\u001b[0m\u001b[0;34m(\u001b[0m\u001b[0mtype\u001b[0m\u001b[0;34m(\u001b[0m\u001b[0mtask_name\u001b[0m\u001b[0;34m)\u001b[0m\u001b[0;34m)\u001b[0m\u001b[0;34m\u001b[0m\u001b[0;34m\u001b[0m\u001b[0m\n\u001b[0m",
            "\u001b[0;31mNameError\u001b[0m: name 'task_name' is not defined"
          ]
        }
      ]
    },
    {
      "cell_type": "code",
      "metadata": {
        "colab": {
          "base_uri": "https://localhost:8080/"
        },
        "id": "h332IcPsf3in",
        "outputId": "a32b7d1f-2a08-4cfc-a02d-ae42ddd92ff3"
      },
      "source": [
        "def my_function(a, b):\n",
        "    hypotenuse = (a**2 + b**2)**0.5\n",
        "    return hypotenuse\n",
        "\n",
        "print(my_function(3,4))"
      ],
      "execution_count": null,
      "outputs": [
        {
          "output_type": "stream",
          "name": "stdout",
          "text": [
            "5.0\n"
          ]
        }
      ]
    },
    {
      "cell_type": "code",
      "metadata": {
        "colab": {
          "base_uri": "https://localhost:8080/"
        },
        "id": "WCptzaFif3lo",
        "outputId": "1fa04ef4-9876-4981-c0c3-41ad8a782c10"
      },
      "source": [
        "def my_function(a, b):\n",
        "    area = a * b\n",
        "    return area\n",
        "\n",
        "print(my_function(3, 4))"
      ],
      "execution_count": null,
      "outputs": [
        {
          "output_type": "stream",
          "name": "stdout",
          "text": [
            "12\n"
          ]
        }
      ]
    },
    {
      "cell_type": "code",
      "metadata": {
        "colab": {
          "base_uri": "https://localhost:8080/"
        },
        "id": "h2SL7nP8f3rY",
        "outputId": "0d3bbdb5-38c5-4ca2-e812-5aafbe3e555c"
      },
      "source": [
        "def longer(a, b):\n",
        "    if len(a) >= len(b):\n",
        "        return a\n",
        "    else:\n",
        "        return b\n",
        "\n",
        "print(longer('Richard', 'John'))"
      ],
      "execution_count": null,
      "outputs": [
        {
          "output_type": "stream",
          "name": "stdout",
          "text": [
            "Richard\n"
          ]
        }
      ]
    },
    {
      "cell_type": "code",
      "metadata": {
        "colab": {
          "base_uri": "https://localhost:8080/"
        },
        "id": "Y5PdyTO9f3ub",
        "outputId": "4f237f20-602f-4735-d4a1-8b8cc40cdbe3"
      },
      "source": [
        "def my_function(a, b):\n",
        "    print(a*b)\n",
        "\n",
        "my_function(10,20)"
      ],
      "execution_count": null,
      "outputs": [
        {
          "output_type": "stream",
          "name": "stdout",
          "text": [
            "200\n"
          ]
        }
      ]
    },
    {
      "cell_type": "code",
      "metadata": {
        "colab": {
          "base_uri": "https://localhost:8080/"
        },
        "id": "tV-ukfgLf3xU",
        "outputId": "836e4950-f960-41c8-df83-45c8e6675206"
      },
      "source": [
        "def my_function(a, b):\n",
        "    hypotenuse = (a**2 + b**2)**0.5\n",
        "    return hypotenuse\n",
        "\n",
        "print(my_function(3,4))\n"
      ],
      "execution_count": null,
      "outputs": [
        {
          "output_type": "stream",
          "name": "stdout",
          "text": [
            "5.0\n"
          ]
        }
      ]
    },
    {
      "cell_type": "code",
      "metadata": {
        "colab": {
          "base_uri": "https://localhost:8080/"
        },
        "id": "LjJq8Qcyf3z_",
        "outputId": "1b573ec4-477e-4f1d-bb8a-19cef2d5139c"
      },
      "source": [
        "def longer(a, b):\n",
        "    if len(a) >= len(b):\n",
        "        return a\n",
        "    else:\n",
        "        return b\n",
        "\n",
        "print(longer('Richard', 'John'))"
      ],
      "execution_count": null,
      "outputs": [
        {
          "output_type": "stream",
          "name": "stdout",
          "text": [
            "Richard\n"
          ]
        }
      ]
    },
    {
      "cell_type": "code",
      "metadata": {
        "colab": {
          "base_uri": "https://localhost:8080/",
          "height": 317
        },
        "id": "aKlTfoYaoSOc",
        "outputId": "771bf2c1-86c8-4bd9-f9cc-5568c247666b"
      },
      "source": [
        "def who(first, last) :  # 'first' and 'last' are the parameters(or variables)\n",
        "    print('Your first name is :', first)\n",
        "    print('Your last name is :', last)\n",
        "\n",
        "who('Guido', 'van Rossum')  # 'Guido' and 'van Rossum' are the arguments\n",
        "print()\n",
        "who('Marry', 'Bold')  # 'Marry' and 'Bold' are also the arguments\n",
        "print()\n",
        "who('Oliver')"
      ],
      "execution_count": null,
      "outputs": [
        {
          "output_type": "stream",
          "name": "stdout",
          "text": [
            "Your first name is : Guido\n",
            "Your last name is : van Rossum\n",
            "\n",
            "Your first name is : Marry\n",
            "Your last name is : Bold\n",
            "\n"
          ]
        },
        {
          "output_type": "error",
          "ename": "TypeError",
          "evalue": "ignored",
          "traceback": [
            "\u001b[0;31m---------------------------------------------------------------------------\u001b[0m",
            "\u001b[0;31mTypeError\u001b[0m                                 Traceback (most recent call last)",
            "\u001b[0;32m<ipython-input-38-0419e8b8f148>\u001b[0m in \u001b[0;36m<module>\u001b[0;34m()\u001b[0m\n\u001b[1;32m      7\u001b[0m \u001b[0mwho\u001b[0m\u001b[0;34m(\u001b[0m\u001b[0;34m'Marry'\u001b[0m\u001b[0;34m,\u001b[0m \u001b[0;34m'Bold'\u001b[0m\u001b[0;34m)\u001b[0m  \u001b[0;31m# 'Marry' and 'Bold' are also the arguments\u001b[0m\u001b[0;34m\u001b[0m\u001b[0;34m\u001b[0m\u001b[0m\n\u001b[1;32m      8\u001b[0m \u001b[0mprint\u001b[0m\u001b[0;34m(\u001b[0m\u001b[0;34m)\u001b[0m\u001b[0;34m\u001b[0m\u001b[0;34m\u001b[0m\u001b[0m\n\u001b[0;32m----> 9\u001b[0;31m \u001b[0mwho\u001b[0m\u001b[0;34m(\u001b[0m\u001b[0;34m'Oliver'\u001b[0m\u001b[0;34m)\u001b[0m\u001b[0;34m\u001b[0m\u001b[0;34m\u001b[0m\u001b[0m\n\u001b[0m",
            "\u001b[0;31mTypeError\u001b[0m: who() missing 1 required positional argument: 'last'"
          ]
        }
      ]
    },
    {
      "cell_type": "code",
      "metadata": {
        "colab": {
          "base_uri": "https://localhost:8080/"
        },
        "id": "RgOB0AA-oSRJ",
        "outputId": "275dc606-a224-4c10-e659-40d67d3bfc2c"
      },
      "source": [
        "def who(first, last) :  # same structure as the previous one\n",
        "    print('Your first name is :', first)\n",
        "    print('Your last name is :', last)\n",
        "\n",
        "who(first='Guido', last='van Rossum')  # calling the function is different\n",
        "# we used kwargs to pass the values into the function"
      ],
      "execution_count": null,
      "outputs": [
        {
          "output_type": "stream",
          "name": "stdout",
          "text": [
            "Your first name is : Guido\n",
            "Your last name is : van Rossum\n"
          ]
        }
      ]
    },
    {
      "cell_type": "code",
      "metadata": {
        "colab": {
          "base_uri": "https://localhost:8080/"
        },
        "id": "iw6_gcdcoSUQ",
        "outputId": "a625d4e8-bf44-478f-9748-02523c615448"
      },
      "source": [
        "def parrot(voltage, state='a stiff', action='voom', type='Norwegian Blue'):\n",
        "    print(\"-- This parrot wouldn't\", action, end=' ')\n",
        "    print(\"if you put\", voltage, \"volts through it.\")\n",
        "    print(\"-- Lovely plumage, the\", type)\n",
        "    print(\"-- It's\", state, \"!\")\n",
        "\n",
        "parrot(1000)"
      ],
      "execution_count": null,
      "outputs": [
        {
          "output_type": "stream",
          "name": "stdout",
          "text": [
            "-- This parrot wouldn't voom if you put 1000 volts through it.\n",
            "-- Lovely plumage, the Norwegian Blue\n",
            "-- It's a stiff !\n"
          ]
        }
      ]
    },
    {
      "cell_type": "code",
      "metadata": {
        "colab": {
          "base_uri": "https://localhost:8080/"
        },
        "id": "Rgf5Ttt9oSW_",
        "outputId": "327ad81a-2b55-427e-bec8-8345f8748415"
      },
      "source": [
        "parrot(voltage=1000)"
      ],
      "execution_count": null,
      "outputs": [
        {
          "output_type": "stream",
          "name": "stdout",
          "text": [
            "-- This parrot wouldn't voom if you put 1000 volts through it.\n",
            "-- Lovely plumage, the Norwegian Blue\n",
            "-- It's a stiff !\n"
          ]
        }
      ]
    },
    {
      "cell_type": "code",
      "metadata": {
        "colab": {
          "base_uri": "https://localhost:8080/"
        },
        "id": "7NfJ-HGuoSZq",
        "outputId": "16ceadaa-f51a-480b-ecb0-7d83b31bc6f7"
      },
      "source": [
        "parrot(voltage=1000000, action='VOOOOOM')"
      ],
      "execution_count": null,
      "outputs": [
        {
          "output_type": "stream",
          "name": "stdout",
          "text": [
            "-- This parrot wouldn't VOOOOOM if you put 1000000 volts through it.\n",
            "-- Lovely plumage, the Norwegian Blue\n",
            "-- It's a stiff !\n"
          ]
        }
      ]
    },
    {
      "cell_type": "code",
      "metadata": {
        "colab": {
          "base_uri": "https://localhost:8080/"
        },
        "id": "TpIhCiNyoSca",
        "outputId": "8127dad0-ea22-45c5-80ac-925841eb78c5"
      },
      "source": [
        "parrot(action='VOOOOOM', voltage=1000000)"
      ],
      "execution_count": null,
      "outputs": [
        {
          "output_type": "stream",
          "name": "stdout",
          "text": [
            "-- This parrot wouldn't VOOOOOM if you put 1000000 volts through it.\n",
            "-- Lovely plumage, the Norwegian Blue\n",
            "-- It's a stiff !\n"
          ]
        }
      ]
    },
    {
      "cell_type": "code",
      "metadata": {
        "colab": {
          "base_uri": "https://localhost:8080/"
        },
        "id": "QQFMdb5toSfK",
        "outputId": "fe4758d7-f4fa-48bd-8e04-d6caf0d80de9"
      },
      "source": [
        "parrot('a million', 'bereft of life', 'jump') "
      ],
      "execution_count": null,
      "outputs": [
        {
          "output_type": "stream",
          "name": "stdout",
          "text": [
            "-- This parrot wouldn't jump if you put a million volts through it.\n",
            "-- Lovely plumage, the Norwegian Blue\n",
            "-- It's bereft of life !\n"
          ]
        }
      ]
    },
    {
      "cell_type": "code",
      "metadata": {
        "colab": {
          "base_uri": "https://localhost:8080/"
        },
        "id": "WGHc64WhoShq",
        "outputId": "b528be41-45ea-46b8-959e-03464706ebb4"
      },
      "source": [
        "parrot('a thousand', state='pushing up the daisies')"
      ],
      "execution_count": null,
      "outputs": [
        {
          "output_type": "stream",
          "name": "stdout",
          "text": [
            "-- This parrot wouldn't voom if you put a thousand volts through it.\n",
            "-- Lovely plumage, the Norwegian Blue\n",
            "-- It's pushing up the daisies !\n"
          ]
        }
      ]
    },
    {
      "cell_type": "code",
      "metadata": {
        "colab": {
          "base_uri": "https://localhost:8080/",
          "height": 171
        },
        "id": "BZZiVWfRoSk6",
        "outputId": "29f0e560-67c3-415c-a6b8-2b23b38d0b93"
      },
      "source": [
        "parrot()"
      ],
      "execution_count": null,
      "outputs": [
        {
          "output_type": "error",
          "ename": "TypeError",
          "evalue": "ignored",
          "traceback": [
            "\u001b[0;31m---------------------------------------------------------------------------\u001b[0m",
            "\u001b[0;31mTypeError\u001b[0m                                 Traceback (most recent call last)",
            "\u001b[0;32m<ipython-input-21-1fa32faf15ff>\u001b[0m in \u001b[0;36m<module>\u001b[0;34m()\u001b[0m\n\u001b[0;32m----> 1\u001b[0;31m \u001b[0mparrot\u001b[0m\u001b[0;34m(\u001b[0m\u001b[0;34m)\u001b[0m\u001b[0;34m\u001b[0m\u001b[0;34m\u001b[0m\u001b[0m\n\u001b[0m",
            "\u001b[0;31mTypeError\u001b[0m: parrot() missing 1 required positional argument: 'voltage'"
          ]
        }
      ]
    },
    {
      "cell_type": "code",
      "metadata": {
        "colab": {
          "base_uri": "https://localhost:8080/"
        },
        "id": "WHe73RzSoSnz",
        "outputId": "e05f2a16-1489-452f-b577-706ce88a308d"
      },
      "source": [
        "parrot(voltage=5.0, state='dead')"
      ],
      "execution_count": null,
      "outputs": [
        {
          "output_type": "stream",
          "name": "stdout",
          "text": [
            "-- This parrot wouldn't voom if you put 5.0 volts through it.\n",
            "-- Lovely plumage, the Norwegian Blue\n",
            "-- It's dead !\n"
          ]
        }
      ]
    },
    {
      "cell_type": "code",
      "metadata": {
        "colab": {
          "base_uri": "https://localhost:8080/",
          "height": 171
        },
        "id": "KLrJzhuooSqm",
        "outputId": "60ad09b3-b5a3-4e5b-80bf-a58a8219dd21"
      },
      "source": [
        "parrot(110, voltage=220)"
      ],
      "execution_count": null,
      "outputs": [
        {
          "output_type": "error",
          "ename": "TypeError",
          "evalue": "ignored",
          "traceback": [
            "\u001b[0;31m---------------------------------------------------------------------------\u001b[0m",
            "\u001b[0;31mTypeError\u001b[0m                                 Traceback (most recent call last)",
            "\u001b[0;32m<ipython-input-24-c1313626062d>\u001b[0m in \u001b[0;36m<module>\u001b[0;34m()\u001b[0m\n\u001b[0;32m----> 1\u001b[0;31m \u001b[0mparrot\u001b[0m\u001b[0;34m(\u001b[0m\u001b[0;36m110\u001b[0m\u001b[0;34m,\u001b[0m \u001b[0mvoltage\u001b[0m\u001b[0;34m=\u001b[0m\u001b[0;36m220\u001b[0m\u001b[0;34m)\u001b[0m\u001b[0;34m\u001b[0m\u001b[0;34m\u001b[0m\u001b[0m\n\u001b[0m",
            "\u001b[0;31mTypeError\u001b[0m: parrot() got multiple values for argument 'voltage'"
          ]
        }
      ]
    },
    {
      "cell_type": "code",
      "metadata": {
        "colab": {
          "base_uri": "https://localhost:8080/",
          "height": 171
        },
        "id": "9EDOWVq6oStc",
        "outputId": "c222833e-c842-4310-9deb-7c94bb325d2a"
      },
      "source": [
        "parrot(actor='John Cleese')"
      ],
      "execution_count": null,
      "outputs": [
        {
          "output_type": "error",
          "ename": "TypeError",
          "evalue": "ignored",
          "traceback": [
            "\u001b[0;31m---------------------------------------------------------------------------\u001b[0m",
            "\u001b[0;31mTypeError\u001b[0m                                 Traceback (most recent call last)",
            "\u001b[0;32m<ipython-input-25-65e0c6ab2f7f>\u001b[0m in \u001b[0;36m<module>\u001b[0;34m()\u001b[0m\n\u001b[0;32m----> 1\u001b[0;31m \u001b[0mparrot\u001b[0m\u001b[0;34m(\u001b[0m\u001b[0mactor\u001b[0m\u001b[0;34m=\u001b[0m\u001b[0;34m'John Cleese'\u001b[0m\u001b[0;34m)\u001b[0m\u001b[0;34m\u001b[0m\u001b[0;34m\u001b[0m\u001b[0m\n\u001b[0m",
            "\u001b[0;31mTypeError\u001b[0m: parrot() got an unexpected keyword argument 'actor'"
          ]
        }
      ]
    },
    {
      "cell_type": "code",
      "metadata": {
        "colab": {
          "base_uri": "https://localhost:8080/"
        },
        "id": "b9j9s-2moSwJ",
        "outputId": "8d3651df-2f69-4848-da04-c3c928e31f74"
      },
      "source": [
        "def function(a):\n",
        "    pass  # actually, 'pass' does nothing. it just moves to the next line of code\n",
        "    print(a)\n",
        "function(0)"
      ],
      "execution_count": null,
      "outputs": [
        {
          "output_type": "stream",
          "name": "stdout",
          "text": [
            "0\n"
          ]
        }
      ]
    },
    {
      "cell_type": "code",
      "metadata": {
        "colab": {
          "base_uri": "https://localhost:8080/"
        },
        "id": "gqa1g-g4oSzd",
        "outputId": "0228d9df-72ab-4e67-ee03-3e30154da338"
      },
      "source": [
        "def city(capital, continent='Europe'):\n",
        "    print(capital, 'in', continent)\n",
        "\n",
        "city('Athens')  # we don't have to pass any arguments into 'continent'\n",
        "city('Ulaanbaatar', continent='Asia')  # we can change the default value by kwargs\n",
        "city('Cape Town', 'Africa')  # we can change the default value by positional args."
      ],
      "execution_count": null,
      "outputs": [
        {
          "output_type": "stream",
          "name": "stdout",
          "text": [
            "Athens in Europe\n",
            "Ulaanbaatar in Asia\n",
            "Cape Town in Africa\n"
          ]
        }
      ]
    },
    {
      "cell_type": "code",
      "metadata": {
        "id": "vlj2gfAcoS2c",
        "colab": {
          "base_uri": "https://localhost:8080/"
        },
        "outputId": "bca32bbb-37ce-4c0e-fae1-86ba8b4e6f78"
      },
      "source": [
        "def fruiterer(fruit1, fruit2) :\n",
        "    print('I want to get', fruit1, 'and', fruit2)\n",
        "        \n",
        "fruiterer('orange', 'banana')"
      ],
      "execution_count": null,
      "outputs": [
        {
          "output_type": "stream",
          "name": "stdout",
          "text": [
            "I want to get orange and banana\n"
          ]
        }
      ]
    },
    {
      "cell_type": "code",
      "metadata": {
        "id": "YP79Zf2-oS5f",
        "colab": {
          "base_uri": "https://localhost:8080/"
        },
        "outputId": "8bdb6898-ddd7-48c9-8b06-730998cdb579"
      },
      "source": [
        "def fruiterer(*fruit) :\n",
        "    print('I want to get :')\n",
        "    for i in fruit :\n",
        "        print('-', i)\n",
        "        \n",
        "fruiterer('orange', 'banana', 'melon', 'ananas')"
      ],
      "execution_count": null,
      "outputs": [
        {
          "output_type": "stream",
          "name": "stdout",
          "text": [
            "I want to get :\n",
            "- orange\n",
            "- banana\n",
            "- melon\n",
            "- ananas\n"
          ]
        }
      ]
    },
    {
      "cell_type": "code",
      "metadata": {
        "id": "J_dFji-RoS8j",
        "colab": {
          "base_uri": "https://localhost:8080/"
        },
        "outputId": "1cdc4b66-b012-4041-e9e8-ddd26794abda"
      },
      "source": [
        "def animals(**kwargs):\n",
        "    for key, value in kwargs.items():\n",
        "        print(value, \"are\", key)\n",
        " \n",
        "animals(Carnivores=\"Lions\", Omnivores=\"Bears\", Herbivores=\"Deers\", Nomnivores=\"Human\")"
      ],
      "execution_count": null,
      "outputs": [
        {
          "output_type": "stream",
          "name": "stdout",
          "text": [
            "Lions are Carnivores\n",
            "Bears are Omnivores\n",
            "Deers are Herbivores\n",
            "Human are Nomnivores\n"
          ]
        }
      ]
    },
    {
      "cell_type": "code",
      "metadata": {
        "id": "wLPF4nftoS_m",
        "colab": {
          "base_uri": "https://localhost:8080/"
        },
        "outputId": "763ee1b2-4478-42bf-e147-e6fdea1cac5f"
      },
      "source": [
        "def brothers(bro1, bro2, bro3):\n",
        "    print('Here are the names of brothers :')\n",
        "    print(bro1, bro2, bro3, sep='\\n')\n",
        "\n",
        "family = ['tom', 'sue', 'tim']\n",
        "brothers(*family)"
      ],
      "execution_count": null,
      "outputs": [
        {
          "output_type": "stream",
          "name": "stdout",
          "text": [
            "Here are the names of brothers :\n",
            "tom\n",
            "sue\n",
            "tim\n"
          ]
        }
      ]
    },
    {
      "cell_type": "code",
      "metadata": {
        "id": "jwsrZpl0oTCf",
        "colab": {
          "base_uri": "https://localhost:8080/"
        },
        "outputId": "87a6e027-2278-49fb-fc20-8bd237db97d9"
      },
      "source": [
        "def gene(x, y):  # defined by positional args\n",
        "    print(x, \"belongs to Generation X\")\n",
        "    print(y, \"belongs to Generation Y\")\n",
        " \n",
        "dict_gene = {'y' : \"Marry\", 'x' : \"Fred\"}\n",
        "gene(**dict_gene)  # we call the function by a single argument(variable)"
      ],
      "execution_count": null,
      "outputs": [
        {
          "output_type": "stream",
          "name": "stdout",
          "text": [
            "Fred belongs to Generation X\n",
            "Marry belongs to Generation Y\n"
          ]
        }
      ]
    },
    {
      "cell_type": "code",
      "metadata": {
        "id": "0wtL5PXvoTFR",
        "colab": {
          "base_uri": "https://localhost:8080/"
        },
        "outputId": "51e5939e-ec0c-4905-b2cc-bb17e482e268"
      },
      "source": [
        "def gene(x='Solomon', y='David'):  # defined by kwargs (default values assigned to x and y)\n",
        "    print(x, \"belongs to Generation X\")\n",
        "    print(y, \"belongs to Generation Y\")\n",
        " \n",
        "dict_gene = {'y' : \"Marry\", 'x' : \"Fred\"}\n",
        "gene(**dict_gene) "
      ],
      "execution_count": null,
      "outputs": [
        {
          "output_type": "stream",
          "name": "stdout",
          "text": [
            "Fred belongs to Generation X\n",
            "Marry belongs to Generation Y\n"
          ]
        }
      ]
    },
    {
      "cell_type": "code",
      "metadata": {
        "id": "FISWQQS9oTIS",
        "colab": {
          "base_uri": "https://localhost:8080/"
        },
        "outputId": "4057b4ed-33d2-47b4-9b6c-369f5d1b0941"
      },
      "source": [
        "def make_sentence(**kwargs):\n",
        "    result = \"\"\n",
        "    # Iterating over the Python kwargs dictionary\n",
        "    for i in kwargs.values():\n",
        "        result += i\n",
        "    return result\n",
        "\n",
        "print(make_sentence(a=\"I \", b=\"love \", c=\"Clarusway!\"))"
      ],
      "execution_count": null,
      "outputs": [
        {
          "output_type": "stream",
          "name": "stdout",
          "text": [
            "I love Clarusway!\n"
          ]
        }
      ]
    }
  ]
}
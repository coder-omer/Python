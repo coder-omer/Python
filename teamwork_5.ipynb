{
  "nbformat": 4,
  "nbformat_minor": 0,
  "metadata": {
    "colab": {
      "name": "teamwork_5.ipynb",
      "provenance": [],
      "authorship_tag": "ABX9TyPgZr+7uNYK1j96h1V7AZCX"
    },
    "kernelspec": {
      "name": "python3",
      "display_name": "Python 3"
    },
    "language_info": {
      "name": "python"
    }
  },
  "cells": [
    {
      "cell_type": "code",
      "metadata": {
        "id": "Kb596UrFlHb0"
      },
      "source": [
        "count, fruit, price = (2, 'apple', 3.5)"
      ],
      "execution_count": 1,
      "outputs": []
    },
    {
      "cell_type": "code",
      "metadata": {
        "colab": {
          "base_uri": "https://localhost:8080/"
        },
        "id": "F0IZaSPalKkI",
        "outputId": "d1358286-dcaf-4a6d-c65a-6049b1c541a6"
      },
      "source": [
        "print(count)\n",
        "print(fruit)\n",
        "print(price)\n"
      ],
      "execution_count": 2,
      "outputs": [
        {
          "output_type": "stream",
          "name": "stdout",
          "text": [
            "2\n",
            "apple\n",
            "3.5\n"
          ]
        }
      ]
    },
    {
      "cell_type": "code",
      "metadata": {
        "colab": {
          "base_uri": "https://localhost:8080/"
        },
        "id": "4QM2gebwlKnI",
        "outputId": "0153767e-bc98-4cae-bb04-d44d107e92ae"
      },
      "source": [
        "l = list(range(10))\n",
        "print(l)\n",
        "# [0, 1, 2, 3, 4, 5, 6, 7, 8, 9]\n",
        "\n",
        "print(l.pop(0))\n",
        "# 0\n",
        "\n",
        "print(l)\n",
        "# [1, 2, 3, 4, 5, 6, 7, 8, 9]\n",
        "\n",
        "print(l.pop(3))\n",
        "# 4\n",
        "\n",
        "print(l)\n",
        "# [1, 2, 3, 5, 6, 7, 8, 9]"
      ],
      "execution_count": 3,
      "outputs": [
        {
          "output_type": "stream",
          "name": "stdout",
          "text": [
            "[0, 1, 2, 3, 4, 5, 6, 7, 8, 9]\n",
            "0\n",
            "[1, 2, 3, 4, 5, 6, 7, 8, 9]\n",
            "4\n",
            "[1, 2, 3, 5, 6, 7, 8, 9]\n"
          ]
        }
      ]
    },
    {
      "cell_type": "code",
      "metadata": {
        "colab": {
          "base_uri": "https://localhost:8080/"
        },
        "id": "108Ek5kXlKp8",
        "outputId": "853ac02d-a949-475b-f551-6f66fa24279a"
      },
      "source": [
        "college_years = ['Freshman', 'Sophomore', 'Junior', 'Senior'] \n",
        "print(list(enumerate(college_years, 2019)))"
      ],
      "execution_count": 4,
      "outputs": [
        {
          "output_type": "stream",
          "name": "stdout",
          "text": [
            "[(2019, 'Freshman'), (2020, 'Sophomore'), (2021, 'Junior'), (2022, 'Senior')]\n"
          ]
        }
      ]
    },
    {
      "cell_type": "code",
      "metadata": {
        "id": "VW09H2jDlKs-"
      },
      "source": [
        "fruits = ['Apples', 'Oranges', 'Bananas'] \n",
        "quantities = [5, 3, 4] \n",
        "prices = [1.50, 2.25, 0.89]\n"
      ],
      "execution_count": 5,
      "outputs": []
    },
    {
      "cell_type": "code",
      "metadata": {
        "colab": {
          "base_uri": "https://localhost:8080/"
        },
        "id": "DCS9l6AilKwB",
        "outputId": "b6e1dd67-c4fa-46c5-cd9d-50a6f1ab286d"
      },
      "source": [
        "fruits = ['Apples', 'Oranges', 'Bananas'] \n",
        "quantities = [5, 3, 4] \n",
        "prices = [1.50, 2.25, 0.89] \n",
        "i = 0\n",
        "output = [] \n",
        "while i < 3:\n",
        "  fruit = fruits[i]\n",
        "  temp_qty = quantities[i] \n",
        "  temp_price = prices[i]\n",
        "  output.append((fruit, temp_qty, temp_price))\n",
        "  i = i + 1\n",
        "print(output)"
      ],
      "execution_count": 12,
      "outputs": [
        {
          "output_type": "stream",
          "name": "stdout",
          "text": [
            "[('Apples', 5, 1.5), ('Oranges', 3, 2.25), ('Bananas', 4, 0.89)]\n"
          ]
        }
      ]
    },
    {
      "cell_type": "code",
      "metadata": {
        "colab": {
          "base_uri": "https://localhost:8080/"
        },
        "id": "Yt77LlgNlKyg",
        "outputId": "0b7a34a0-bec8-4041-e571-05a24fff2961"
      },
      "source": [
        "l = list(range(10))\n",
        "print(l)"
      ],
      "execution_count": 19,
      "outputs": [
        {
          "output_type": "stream",
          "name": "stdout",
          "text": [
            "[0, 1, 2, 3, 4, 5, 6, 7, 8, 9]\n"
          ]
        }
      ]
    },
    {
      "cell_type": "code",
      "source": [
        "del (l)"
      ],
      "metadata": {
        "id": "GxG9trMHULU1"
      },
      "execution_count": 20,
      "outputs": []
    },
    {
      "cell_type": "code",
      "source": [
        "print(l)"
      ],
      "metadata": {
        "colab": {
          "base_uri": "https://localhost:8080/",
          "height": 165
        },
        "id": "d4riMiqTUPbL",
        "outputId": "361606f1-f73d-4984-ef94-7b1261d94e1e"
      },
      "execution_count": 21,
      "outputs": [
        {
          "output_type": "error",
          "ename": "NameError",
          "evalue": "ignored",
          "traceback": [
            "\u001b[0;31m---------------------------------------------------------------------------\u001b[0m",
            "\u001b[0;31mNameError\u001b[0m                                 Traceback (most recent call last)",
            "\u001b[0;32m<ipython-input-21-e6f469464218>\u001b[0m in \u001b[0;36m<module>\u001b[0;34m()\u001b[0m\n\u001b[0;32m----> 1\u001b[0;31m \u001b[0mprint\u001b[0m\u001b[0;34m(\u001b[0m\u001b[0ml\u001b[0m\u001b[0;34m)\u001b[0m\u001b[0;34m\u001b[0m\u001b[0;34m\u001b[0m\u001b[0m\n\u001b[0m",
            "\u001b[0;31mNameError\u001b[0m: name 'l' is not defined"
          ]
        }
      ]
    },
    {
      "cell_type": "code",
      "metadata": {
        "colab": {
          "base_uri": "https://localhost:8080/"
        },
        "id": "nPTYZQL4lK1T",
        "outputId": "c265bfc6-c157-47fb-9cfe-c9a52b292832"
      },
      "source": [
        "fruits = ['Apples', 'Oranges', 'Bananas'] \n",
        "quantities = [5, 3, 4] \n",
        "prices = [1.50, 2.25, 0.89]\n",
        "groceries = zip(fruits, quantities, prices) \n",
        "print(list(groceries))"
      ],
      "execution_count": null,
      "outputs": [
        {
          "output_type": "stream",
          "name": "stdout",
          "text": [
            "[('Apples', 5, 1.5), ('Oranges', 3, 2.25), ('Bananas', 4, 0.89)]\n"
          ]
        }
      ]
    },
    {
      "cell_type": "code",
      "metadata": {
        "id": "h2iqoFm2lIl8"
      },
      "source": [
        "fruits = ['Apples', 'Oranges', 'Bananas'] \n",
        "quantities = [5, 3, 4] \n",
        "prices = [1.50, 2.25, 0.89]"
      ],
      "execution_count": 22,
      "outputs": []
    },
    {
      "cell_type": "code",
      "metadata": {
        "id": "uB1aH45NlIoK"
      },
      "source": [
        "zip_manav = zip(fruits, quantities,prices)"
      ],
      "execution_count": 23,
      "outputs": []
    },
    {
      "cell_type": "code",
      "metadata": {
        "id": "WE_LuzYMlIrJ",
        "colab": {
          "base_uri": "https://localhost:8080/"
        },
        "outputId": "bd3723b7-d052-4c67-ce34-dbde644c0a2e"
      },
      "source": [
        "print(zip_manav)"
      ],
      "execution_count": 24,
      "outputs": [
        {
          "output_type": "stream",
          "name": "stdout",
          "text": [
            "<zip object at 0x7f6e90244fa0>\n"
          ]
        }
      ]
    },
    {
      "cell_type": "code",
      "metadata": {
        "id": "2yvGcxuUlItb",
        "colab": {
          "base_uri": "https://localhost:8080/"
        },
        "outputId": "0859c8c4-b8ac-4fe1-be3c-e930bef60b3a"
      },
      "source": [
        "print(list(zip_manav))"
      ],
      "execution_count": 25,
      "outputs": [
        {
          "output_type": "stream",
          "name": "stdout",
          "text": [
            "[('Apples', 5, 1.5), ('Oranges', 3, 2.25), ('Bananas', 4, 0.89)]\n"
          ]
        }
      ]
    }
  ]
}
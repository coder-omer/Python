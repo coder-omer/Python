{
  "nbformat": 4,
  "nbformat_minor": 0,
  "metadata": {
    "colab": {
      "name": "17112021.ipynb",
      "provenance": [],
      "authorship_tag": "ABX9TyP8OM1n+XNFNaO/pOdeuW/2"
    },
    "kernelspec": {
      "name": "python3",
      "display_name": "Python 3"
    },
    "language_info": {
      "name": "python"
    }
  },
  "cells": [
    {
      "cell_type": "code",
      "metadata": {
        "colab": {
          "base_uri": "https://localhost:8080/"
        },
        "id": "cZHW-4-HMgQ6",
        "outputId": "4e50590b-39e7-4dbf-d420-b26e100e6ab0"
      },
      "source": [
        "price = float(input('enter the value of the product: '))\n",
        "if price >= 1.00:\n",
        "  tax =  .07\n",
        "else: \n",
        "  tax = 0\n",
        "print(tax)"
      ],
      "execution_count": null,
      "outputs": [
        {
          "output_type": "stream",
          "name": "stdout",
          "text": [
            "enter the value of the product: 10\n",
            "0.07\n"
          ]
        }
      ]
    },
    {
      "cell_type": "code",
      "metadata": {
        "colab": {
          "base_uri": "https://localhost:8080/"
        },
        "id": "RJTz_OlTMgxZ",
        "outputId": "8d9a3f3a-74ae-4164-dbba-cd7271fcef90"
      },
      "source": [
        "price = float(input('enter the value of the product: '))\n",
        "if price >= 1.00:\n",
        "  tax =  .07\n",
        "else: \n",
        "  tax = 0\n",
        "print(tax)"
      ],
      "execution_count": null,
      "outputs": [
        {
          "output_type": "stream",
          "name": "stdout",
          "text": [
            "enter the value of the product: 0.85\n",
            "0\n"
          ]
        }
      ]
    },
    {
      "cell_type": "code",
      "metadata": {
        "colab": {
          "base_uri": "https://localhost:8080/"
        },
        "id": "fTw5UDFeMg0a",
        "outputId": "757ab52d-87cf-42ef-e173-be2fd6a89432"
      },
      "source": [
        "country = 'canada'\n",
        "if country == 'canada':\n",
        "  print('oh look a Canadian')\n",
        "else:\n",
        "  print('you are not from Canada')"
      ],
      "execution_count": null,
      "outputs": [
        {
          "output_type": "stream",
          "name": "stdout",
          "text": [
            "oh look a Canadian\n"
          ]
        }
      ]
    },
    {
      "cell_type": "code",
      "metadata": {
        "colab": {
          "base_uri": "https://localhost:8080/"
        },
        "id": "fLLpbRQAMg8I",
        "outputId": "02522cb8-89a1-49a8-809f-1e148ff71c11"
      },
      "source": [
        "country = input('Which contry do you live? ')\n",
        "if country.lower() == 'canada':\n",
        "  print('oh look a Canadian')\n",
        "else:\n",
        "  print('you are not from Canada')"
      ],
      "execution_count": null,
      "outputs": [
        {
          "output_type": "stream",
          "name": "stdout",
          "text": [
            "Which contry do you live? CANADA\n",
            "oh look a Canadian\n"
          ]
        }
      ]
    },
    {
      "cell_type": "code",
      "metadata": {
        "colab": {
          "base_uri": "https://localhost:8080/"
        },
        "id": "HpUCtRbrMg_a",
        "outputId": "598d89f0-6f08-42ce-c827-dafc1fac6e11"
      },
      "source": [
        "new = \"w3resource\"\n",
        "if len (new) < 2:\n",
        "  print(\"empty string\")\n",
        "else:\n",
        "  print(new[0:2] + new[-2:])"
      ],
      "execution_count": null,
      "outputs": [
        {
          "output_type": "stream",
          "name": "stdout",
          "text": [
            "w3ce\n"
          ]
        }
      ]
    },
    {
      "cell_type": "code",
      "metadata": {
        "colab": {
          "base_uri": "https://localhost:8080/"
        },
        "id": "1Oi_aGFkP6V5",
        "outputId": "d8d25416-090f-4572-b6c9-b91c01e1f047"
      },
      "source": [
        "print(\"Twinkle, twinkle, little star,\\n\\t How I wonder what you are!\\n\\t\\t Up above the world so high,\\n\\t\\t Like a diamond in the sky.\\nTwinkle, twinkle, little star,\\n\\t How I wonder what you are\")\n"
      ],
      "execution_count": null,
      "outputs": [
        {
          "output_type": "stream",
          "name": "stdout",
          "text": [
            "Twinkle, twinkle, little star,\n",
            "\t How I wonder what you are!\n",
            "\t\t Up above the world so high,\n",
            "\t\t Like a diamond in the sky.\n",
            "Twinkle, twinkle, little star,\n",
            "\t How I wonder what you are\n"
          ]
        }
      ]
    },
    {
      "cell_type": "code",
      "metadata": {
        "colab": {
          "base_uri": "https://localhost:8080/"
        },
        "id": "mv3gIipjP6Y9",
        "outputId": "b93cf38b-8716-41a0-87ee-762f07f3fb6f"
      },
      "source": [
        "exam_st_date = (11,12,2014)\n",
        "print(\"The examination will start from : \",exam_st_date[0],\"/\",exam_st_date[1],\"/\",exam_st_date[2]) "
      ],
      "execution_count": null,
      "outputs": [
        {
          "output_type": "stream",
          "name": "stdout",
          "text": [
            "The examination will start from :  11 / 12 / 2014\n"
          ]
        }
      ]
    },
    {
      "cell_type": "code",
      "metadata": {
        "colab": {
          "base_uri": "https://localhost:8080/"
        },
        "id": "zsYLmwRTP6cb",
        "outputId": "819469f0-054c-4cd9-b344-f0eee500aa3a"
      },
      "source": [
        "exam_st_date = (11,12,2014)\n",
        "print(\"The examination will start from : {} / {} / {}\".format(exam_st_date[0],exam_st_date[1],exam_st_date[2])) "
      ],
      "execution_count": null,
      "outputs": [
        {
          "output_type": "stream",
          "name": "stdout",
          "text": [
            "The examination will start from : 11 / 12 / 2014\n"
          ]
        }
      ]
    },
    {
      "cell_type": "code",
      "metadata": {
        "colab": {
          "base_uri": "https://localhost:8080/"
        },
        "id": "yzcgt8B9P6fx",
        "outputId": "cf635127-fedc-401e-e163-76413ef6bc8b"
      },
      "source": [
        "number = int(input(\"bir sayı giriniz: \"))\n",
        "divisors = []\n",
        "i=1\n",
        "j=0\n",
        "while i < number:\n",
        "  if number%i == 0:\n",
        "    divisors.append(i)\n",
        "    j += i\n",
        "  i=i+1\n",
        "# print(divisors)\n",
        "# print(j)\n",
        "if j == number:\n",
        "  print(number, \"perfect\")\n",
        "else:\n",
        "  print(number, \"not perfect\")\n"
      ],
      "execution_count": null,
      "outputs": [
        {
          "output_type": "stream",
          "name": "stdout",
          "text": [
            "bir sayı giriniz: 496\n",
            "496 perfect\n"
          ]
        }
      ]
    },
    {
      "cell_type": "code",
      "metadata": {
        "colab": {
          "base_uri": "https://localhost:8080/"
        },
        "id": "JDW5EIe3P6id",
        "outputId": "9e1993cd-6e96-4c78-cde9-35d45faea398"
      },
      "source": [
        "number = int(input(\"bir sayı giriniz: \"))\n",
        "divisors = []\n",
        "i=1\n",
        "j=0\n",
        "while i < number:\n",
        "  if number%i == 0:\n",
        "    j += i\n",
        "  i=i+1\n",
        "  \n",
        "if j == number:\n",
        "  print(number, \"perfect\")\n",
        "else:\n",
        "  print(number, \"not perfect\")"
      ],
      "execution_count": null,
      "outputs": [
        {
          "output_type": "stream",
          "name": "stdout",
          "text": [
            "bir sayı giriniz: 496\n",
            "496 perfect\n"
          ]
        }
      ]
    },
    {
      "cell_type": "code",
      "metadata": {
        "colab": {
          "base_uri": "https://localhost:8080/"
        },
        "id": "13gr2Nf-P6lL",
        "outputId": "10fddb4b-d92d-4445-c85c-2f2dd22d0d65"
      },
      "source": [
        "num = int(input(\"\"))\n",
        "total = sum([i for i in range(1,num) if num % i == 0])\n",
        "if total == num :\n",
        "  print(\"{} is a perfect number.\".format(num))\n",
        "else:\n",
        "  print(\"{} is not a perfect number.\".format(num))"
      ],
      "execution_count": null,
      "outputs": [
        {
          "output_type": "stream",
          "name": "stdout",
          "text": [
            "8128\n",
            "8128 is a perfect number.\n"
          ]
        }
      ]
    },
    {
      "cell_type": "code",
      "metadata": {
        "id": "3q1SXnQKCcd6"
      },
      "source": [
        ""
      ],
      "execution_count": null,
      "outputs": []
    },
    {
      "cell_type": "code",
      "metadata": {
        "colab": {
          "base_uri": "https://localhost:8080/"
        },
        "id": "1Hn1Xv65P6oA",
        "outputId": "d63c0c7b-684d-4d5e-f86c-da472930b901"
      },
      "source": [
        "number = int(input(\"bir sayı giriniz: \"))\n",
        "toplam = 0\n",
        "for i in range(1, number):\n",
        "  if number%i == 0:\n",
        "    toplam = toplam + i\n",
        "if toplam == number:\n",
        "  print(number, \"perfect\")\n",
        "else:\n",
        "  print(number, \"not perfect\")"
      ],
      "execution_count": null,
      "outputs": [
        {
          "output_type": "stream",
          "name": "stdout",
          "text": [
            "bir sayı giriniz: 496\n",
            "496 perfect\n"
          ]
        }
      ]
    },
    {
      "cell_type": "code",
      "metadata": {
        "colab": {
          "base_uri": "https://localhost:8080/"
        },
        "id": "PpTRN2MDP6rD",
        "outputId": "c32c0d03-8e71-4e72-899d-60f36b346ae1"
      },
      "source": [
        "sentence = \"Ey Edip, Ad'ana'da ,pide ye\"\n",
        "\n",
        "liste = list(sentence.lower())\n",
        "liste1 = liste[::-1]\n",
        "\n",
        "if liste1 == liste:\n",
        "  print(\"Sentence is palindrome\")\n",
        "else:\n",
        "  print(\"Sentence is not palindrome\")\n",
        "\n",
        "print(liste)\n",
        "print(liste1)\n"
      ],
      "execution_count": null,
      "outputs": [
        {
          "output_type": "stream",
          "name": "stdout",
          "text": [
            "Sentence is palindrome\n",
            "['e', 'y', ' ', 'e', 'd', 'i', 'p', ',', ' ', 'a', 'd', \"'\", 'a', 'n', 'a', \"'\", 'd', 'a', ' ', ',', 'p', 'i', 'd', 'e', ' ', 'y', 'e']\n",
            "['e', 'y', ' ', 'e', 'd', 'i', 'p', ',', ' ', 'a', 'd', \"'\", 'a', 'n', 'a', \"'\", 'd', 'a', ' ', ',', 'p', 'i', 'd', 'e', ' ', 'y', 'e']\n"
          ]
        }
      ]
    },
    {
      "cell_type": "code",
      "metadata": {
        "colab": {
          "base_uri": "https://localhost:8080/"
        },
        "id": "zrM71iihP6uG",
        "outputId": "74590ad8-7884-470b-b404-bf877a0305d4"
      },
      "source": [
        "course = 'clarusway'\n",
        "\n",
        "for i in course :\n",
        "    print(i)"
      ],
      "execution_count": null,
      "outputs": [
        {
          "output_type": "stream",
          "name": "stdout",
          "text": [
            "c\n",
            "l\n",
            "a\n",
            "r\n",
            "u\n",
            "s\n",
            "w\n",
            "a\n",
            "y\n"
          ]
        }
      ]
    },
    {
      "cell_type": "code",
      "metadata": {
        "colab": {
          "base_uri": "https://localhost:8080/"
        },
        "id": "0g1m5KHdP6xO",
        "outputId": "b6ebfeb1-fc95-4487-da60-db7e1cfaa70f"
      },
      "source": [
        "times = int(input(\"How many times should I say 'I love you'   \"))\n",
        "\n",
        "for i in range(times):\n",
        "    print('I love you')"
      ],
      "execution_count": null,
      "outputs": [
        {
          "output_type": "stream",
          "name": "stdout",
          "text": [
            "How many times should I say 'I love you'   5\n",
            "I love you\n",
            "I love you\n",
            "I love you\n",
            "I love you\n",
            "I love you\n"
          ]
        }
      ]
    },
    {
      "cell_type": "code",
      "metadata": {
        "colab": {
          "base_uri": "https://localhost:8080/"
        },
        "id": "fm0V9GOAP60m",
        "outputId": "9ebdc87b-97fc-4106-a6c2-cc4aea88553a"
      },
      "source": [
        "n = int(input('enter a number between 1-10  '))\n",
        "\n",
        "for i in range(11):\n",
        "    print('{}x{} = '.format(n, i), n*i)"
      ],
      "execution_count": null,
      "outputs": [
        {
          "output_type": "stream",
          "name": "stdout",
          "text": [
            "enter a number between 1-10  21\n",
            "21x0 =  0\n",
            "21x1 =  21\n",
            "21x2 =  42\n",
            "21x3 =  63\n",
            "21x4 =  84\n",
            "21x5 =  105\n",
            "21x6 =  126\n",
            "21x7 =  147\n",
            "21x8 =  168\n",
            "21x9 =  189\n",
            "21x10 =  210\n"
          ]
        }
      ]
    },
    {
      "cell_type": "code",
      "metadata": {
        "colab": {
          "base_uri": "https://localhost:8080/"
        },
        "id": "lrhuRj6IP63y",
        "outputId": "46169129-7d9c-41c2-88d7-ade6700ad136"
      },
      "source": [
        "n = int(input('enter a number between 1-10  '))\n",
        "\n",
        "for i in range(1,11):\n",
        "    print(n%i)"
      ],
      "execution_count": null,
      "outputs": [
        {
          "output_type": "stream",
          "name": "stdout",
          "text": [
            "enter a number between 1-10  9\n",
            "0\n",
            "1\n",
            "0\n",
            "1\n",
            "4\n",
            "3\n",
            "2\n",
            "1\n",
            "0\n",
            "9\n"
          ]
        }
      ]
    },
    {
      "cell_type": "code",
      "metadata": {
        "colab": {
          "base_uri": "https://localhost:8080/"
        },
        "id": "6RrqHljjP67E",
        "outputId": "00c63f78-9d12-4f44-d851-d312562d3764"
      },
      "source": [
        "b = list(range(11))\n",
        "\n",
        "print(b)"
      ],
      "execution_count": null,
      "outputs": [
        {
          "output_type": "stream",
          "name": "stdout",
          "text": [
            "[0, 1, 2, 3, 4, 5, 6, 7, 8, 9, 10]\n"
          ]
        }
      ]
    },
    {
      "cell_type": "code",
      "metadata": {
        "colab": {
          "base_uri": "https://localhost:8080/"
        },
        "id": "Rh919JBcP6-t",
        "outputId": "701ccf22-b9cc-4435-f919-740e202f8a27"
      },
      "source": [
        "c = range(11)\n",
        "print(c)"
      ],
      "execution_count": null,
      "outputs": [
        {
          "output_type": "stream",
          "name": "stdout",
          "text": [
            "range(0, 11)\n"
          ]
        }
      ]
    },
    {
      "cell_type": "code",
      "metadata": {
        "colab": {
          "base_uri": "https://localhost:8080/"
        },
        "id": "jNQgxf6vP7CN",
        "outputId": "528cc8d4-106a-4489-d561-b43ec6a94415"
      },
      "source": [
        "a = set(range(0,10))\n",
        "\n",
        "print(a)"
      ],
      "execution_count": null,
      "outputs": [
        {
          "output_type": "stream",
          "name": "stdout",
          "text": [
            "{0, 1, 2, 3, 4, 5, 6, 7, 8, 9}\n"
          ]
        }
      ]
    },
    {
      "cell_type": "code",
      "metadata": {
        "colab": {
          "base_uri": "https://localhost:8080/"
        },
        "id": "tHs0DF3nMhCg",
        "outputId": "4f517f0e-f044-4486-f285-865d6ba77cb5"
      },
      "source": [
        "c = tuple(range(11))\n",
        "\n",
        "print(c)"
      ],
      "execution_count": null,
      "outputs": [
        {
          "output_type": "stream",
          "name": "stdout",
          "text": [
            "(0, 1, 2, 3, 4, 5, 6, 7, 8, 9, 10)\n"
          ]
        }
      ]
    },
    {
      "cell_type": "code",
      "metadata": {
        "colab": {
          "base_uri": "https://localhost:8080/"
        },
        "id": "emJS93q0MhFj",
        "outputId": "b3963886-babc-4a99-a3f7-db3605d7f2ed"
      },
      "source": [
        "print(range(5))  # it will not print the numbers in sequence"
      ],
      "execution_count": null,
      "outputs": [
        {
          "output_type": "stream",
          "name": "stdout",
          "text": [
            "range(0, 5)\n"
          ]
        }
      ]
    },
    {
      "cell_type": "code",
      "metadata": {
        "colab": {
          "base_uri": "https://localhost:8080/"
        },
        "id": "5qwN5WymMhIK",
        "outputId": "93997f75-91f2-4cb6-d3df-7b6d1c3e85fa"
      },
      "source": [
        "print(*range(5))  # '*' separates its elements"
      ],
      "execution_count": null,
      "outputs": [
        {
          "output_type": "stream",
          "name": "stdout",
          "text": [
            "0 1 2 3 4\n"
          ]
        }
      ]
    },
    {
      "cell_type": "code",
      "metadata": {
        "colab": {
          "base_uri": "https://localhost:8080/"
        },
        "id": "EfHQ1RY1MhLM",
        "outputId": "2ea38b46-22d4-4831-a36c-f0d37691f634"
      },
      "source": [
        "c = {i for i in range(5)} \n",
        "print (c)"
      ],
      "execution_count": null,
      "outputs": [
        {
          "output_type": "stream",
          "name": "stdout",
          "text": [
            "{0, 1, 2, 3, 4}\n"
          ]
        }
      ]
    },
    {
      "cell_type": "code",
      "metadata": {
        "colab": {
          "base_uri": "https://localhost:8080/"
        },
        "id": "NYTopLzAMhOP",
        "outputId": "dea0a49c-a028-4642-b29c-f564e960fe3d"
      },
      "source": [
        "l = [i for i in range(5)] \n",
        "print (l)"
      ],
      "execution_count": null,
      "outputs": [
        {
          "output_type": "stream",
          "name": "stdout",
          "text": [
            "[0, 1, 2, 3, 4]\n"
          ]
        }
      ]
    },
    {
      "cell_type": "code",
      "metadata": {
        "colab": {
          "base_uri": "https://localhost:8080/"
        },
        "id": "M2Jupo-0MhRN",
        "outputId": "093157d4-3af6-497f-e863-295de550eecf"
      },
      "source": [
        "t = (i for i in range(5)) \n",
        "print (t)"
      ],
      "execution_count": null,
      "outputs": [
        {
          "output_type": "stream",
          "name": "stdout",
          "text": [
            "<generator object <genexpr> at 0x7fd4b86a80d0>\n"
          ]
        }
      ]
    },
    {
      "cell_type": "code",
      "metadata": {
        "colab": {
          "base_uri": "https://localhost:8080/"
        },
        "id": "Z5D1_pdJMhUA",
        "outputId": "20dbe99e-f2eb-4429-d4d2-97cbda36c55f"
      },
      "source": [
        "print(*range(5,25,2))"
      ],
      "execution_count": null,
      "outputs": [
        {
          "output_type": "stream",
          "name": "stdout",
          "text": [
            "5 7 9 11 13 15 17 19 21 23\n"
          ]
        }
      ]
    },
    {
      "cell_type": "code",
      "metadata": {
        "colab": {
          "base_uri": "https://localhost:8080/"
        },
        "id": "Coa0iXBrMhXB",
        "outputId": "07900e38-e1b2-4b30-b78c-3f6f70f1786c"
      },
      "source": [
        "print(*('separate'))"
      ],
      "execution_count": null,
      "outputs": [
        {
          "output_type": "stream",
          "name": "stdout",
          "text": [
            "s e p a r a t e\n"
          ]
        }
      ]
    },
    {
      "cell_type": "code",
      "metadata": {
        "colab": {
          "base_uri": "https://localhost:8080/"
        },
        "id": "xEQaKZUOMhaB",
        "outputId": "5fcc31db-ad44-4769-80a3-aa234739a5c0"
      },
      "source": [
        "print(*range(10,0,-2))"
      ],
      "execution_count": null,
      "outputs": [
        {
          "output_type": "stream",
          "name": "stdout",
          "text": [
            "10 8 6 4 2\n"
          ]
        }
      ]
    },
    {
      "cell_type": "code",
      "metadata": {
        "colab": {
          "base_uri": "https://localhost:8080/"
        },
        "id": "sqFTrBpDMhc7",
        "outputId": "ec96bda2-63ee-43cd-dd44-06b897084050"
      },
      "source": [
        "text = ['one','two','three','four','five']\n",
        "numbers = [1, 2, 3, 4, 5]\n",
        "for x, y in zip(text, numbers):\n",
        "    print(x, ':', y)"
      ],
      "execution_count": null,
      "outputs": [
        {
          "output_type": "stream",
          "name": "stdout",
          "text": [
            "one : 1\n",
            "two : 2\n",
            "three : 3\n",
            "four : 4\n",
            "five : 5\n"
          ]
        }
      ]
    },
    {
      "cell_type": "code",
      "metadata": {
        "id": "QYhAaitKMhgC"
      },
      "source": [
        "# times = int(input(\"How many times should I say 'I love you'   \"))\n",
        "\n",
        "# for i in range(times):\n",
        "#     print('I love you')"
      ],
      "execution_count": null,
      "outputs": []
    },
    {
      "cell_type": "code",
      "metadata": {
        "id": "hYkg4r6iMhjG"
      },
      "source": [
        ""
      ],
      "execution_count": null,
      "outputs": []
    },
    {
      "cell_type": "code",
      "metadata": {
        "colab": {
          "base_uri": "https://localhost:8080/"
        },
        "id": "vSRKgYdeMhmF",
        "outputId": "67f91b01-686a-4ce9-fc91-154ef8823ea7"
      },
      "source": [
        "name1 = input('What is your name? ')\n",
        "if name1.lower() == 'omer':\n",
        "  print(\"Hello, Omer! The password is : W@12\")\n",
        "else:\n",
        "  print(\"Hello, {}! See you later.\".format(name1))"
      ],
      "execution_count": null,
      "outputs": [
        {
          "output_type": "stream",
          "name": "stdout",
          "text": [
            "What is your name? hasan\n",
            "Hello, hasan! See you later.\n"
          ]
        }
      ]
    },
    {
      "cell_type": "code",
      "metadata": {
        "id": "g88hRFXVMho_"
      },
      "source": [
        "listA =  [\"susan\", \"tom\", False, 0, 22]\n",
        "filtered_list = filter(None, listA)"
      ],
      "execution_count": null,
      "outputs": []
    },
    {
      "cell_type": "code",
      "metadata": {
        "colab": {
          "base_uri": "https://localhost:8080/"
        },
        "id": "SbELpEJP-HjL",
        "outputId": "3e816c53-2a23-4dc6-b9c7-5c52fd30525b"
      },
      "source": [
        "filtered_list"
      ],
      "execution_count": null,
      "outputs": [
        {
          "output_type": "execute_result",
          "data": {
            "text/plain": [
              "<filter at 0x7fd4b860bf90>"
            ]
          },
          "metadata": {},
          "execution_count": 43
        }
      ]
    },
    {
      "cell_type": "code",
      "metadata": {
        "colab": {
          "base_uri": "https://localhost:8080/"
        },
        "id": "hhwvEaOc-Hmi",
        "outputId": "ef60d4da-5c11-4e3f-cc1c-fe3750c1c810"
      },
      "source": [
        "print(\"The filtered elements are : \")\n",
        "\n",
        "for i in filtered_list:\n",
        "  print(i)"
      ],
      "execution_count": null,
      "outputs": [
        {
          "output_type": "stream",
          "name": "stdout",
          "text": [
            "The filtered elements are : \n",
            "susan\n",
            "tom\n",
            "22\n"
          ]
        }
      ]
    },
    {
      "cell_type": "code",
      "metadata": {
        "colab": {
          "base_uri": "https://localhost:8080/"
        },
        "id": "5mT8J-4w-HrF",
        "outputId": "fac7ee05-5f70-4adc-ac2f-47530f202f6a"
      },
      "source": [
        "listA =  [\"susan\", \"tom\", False, 0, 22]\n",
        "filtered_list = filter(None, listA)\n",
        "print(\"The filtered elements are : \")\n",
        "\n",
        "for i in filtered_list:\n",
        "  print(i)"
      ],
      "execution_count": null,
      "outputs": [
        {
          "output_type": "stream",
          "name": "stdout",
          "text": [
            "The filtered elements are : \n",
            "susan\n",
            "tom\n",
            "22\n"
          ]
        }
      ]
    },
    {
      "cell_type": "code",
      "metadata": {
        "colab": {
          "base_uri": "https://localhost:8080/"
        },
        "id": "DgSHptl2-Ht_",
        "outputId": "2ff447f3-c74a-4941-807e-ba5609734d25"
      },
      "source": [
        "grocery = [\"bread\", \"water\", \"olive\"]\n",
        "enum_grocery = enumerate(grocery)\n",
        "\n",
        "print(type(enum_grocery))\n",
        "print(list(enum_grocery))\n",
        "enum_grocery = enumerate(grocery, 10)\n",
        "print(list(enum_grocery))"
      ],
      "execution_count": null,
      "outputs": [
        {
          "output_type": "stream",
          "name": "stdout",
          "text": [
            "<class 'enumerate'>\n",
            "[(0, 'bread'), (1, 'water'), (2, 'olive')]\n",
            "[(10, 'bread'), (11, 'water'), (12, 'olive')]\n"
          ]
        }
      ]
    },
    {
      "cell_type": "code",
      "metadata": {
        "colab": {
          "base_uri": "https://localhost:8080/"
        },
        "id": "S_y7ZHDlKTOY",
        "outputId": "786f264d-5391-44ca-cc8e-e45c028b5e53"
      },
      "source": [
        "numbers = [2.5, 30, 4, -15]\n",
        "\n",
        "numbers_sum = sum(numbers)\n",
        "print(numbers_sum)\n",
        "\n",
        "numbers_sum = sum(numbers,20)\n",
        "print(numbers_sum)"
      ],
      "execution_count": null,
      "outputs": [
        {
          "output_type": "stream",
          "name": "stdout",
          "text": [
            "21.5\n",
            "41.5\n"
          ]
        }
      ]
    },
    {
      "cell_type": "code",
      "metadata": {
        "colab": {
          "base_uri": "https://localhost:8080/"
        },
        "id": "QpQBlaf4KTSX",
        "outputId": "0774e387-3a7e-4c96-daab-989df83fb7f3"
      },
      "source": [
        "print(round(12))\n",
        "print(round(10.8))\n",
        "print(round(3.665, 2))\n",
        "print(round(3.675, 2))"
      ],
      "execution_count": null,
      "outputs": [
        {
          "output_type": "stream",
          "name": "stdout",
          "text": [
            "12\n",
            "11\n",
            "3.67\n",
            "3.67\n"
          ]
        }
      ]
    },
    {
      "cell_type": "code",
      "metadata": {
        "id": "btvCYi0VKTVj"
      },
      "source": [
        "def ilk_fonksiyonum(x,y):\n",
        "  print(x**2+y**2)"
      ],
      "execution_count": null,
      "outputs": []
    },
    {
      "cell_type": "code",
      "metadata": {
        "colab": {
          "base_uri": "https://localhost:8080/"
        },
        "id": "7rNYDhk6KTZA",
        "outputId": "6be9ea65-41ec-4cfb-996f-b270d5815e03"
      },
      "source": [
        "ilk_fonksiyonum(3,4)"
      ],
      "execution_count": null,
      "outputs": [
        {
          "output_type": "stream",
          "name": "stdout",
          "text": [
            "25\n"
          ]
        }
      ]
    },
    {
      "cell_type": "code",
      "metadata": {
        "id": "FhSe98GwKTnY"
      },
      "source": [
        "def hipotenus(a,b):\n",
        "  print((a**2+b**2)**0.5)"
      ],
      "execution_count": null,
      "outputs": []
    },
    {
      "cell_type": "code",
      "metadata": {
        "colab": {
          "base_uri": "https://localhost:8080/"
        },
        "id": "X44JoK68KTtj",
        "outputId": "e9b0649d-de63-4210-df8a-f16c4517ed3f"
      },
      "source": [
        "hipotenus(3,4)"
      ],
      "execution_count": null,
      "outputs": [
        {
          "output_type": "stream",
          "name": "stdout",
          "text": [
            "5.0\n"
          ]
        }
      ]
    },
    {
      "cell_type": "code",
      "metadata": {
        "colab": {
          "base_uri": "https://localhost:8080/"
        },
        "id": "-KQ0OSWoKTwK",
        "outputId": "f88dd239-5123-48be-fc73-9e7e3cf34410"
      },
      "source": [
        "def multiply(a,b):\n",
        "  print(a*b)\n",
        "\n",
        "multiply(3,5)\n",
        "multiply(-1, 2.5)\n",
        "multiply('amazing ',3)"
      ],
      "execution_count": null,
      "outputs": [
        {
          "output_type": "stream",
          "name": "stdout",
          "text": [
            "15\n",
            "-2.5\n",
            "amazingamazingamazing\n"
          ]
        }
      ]
    },
    {
      "cell_type": "code",
      "metadata": {
        "colab": {
          "base_uri": "https://localhost:8080/"
        },
        "id": "5krqtGUGKTyf",
        "outputId": "410543bc-e676-4b47-c869-096225990cbb"
      },
      "source": [
        "def rumi():\n",
        "  print(\"\"\"\n",
        "  Duydum ki bizi bırakmaya azmediyorsun, etme.\n",
        "Başka bir yar, başka bir dosta meylediyorsun, etme.\n",
        "Sen yadeller dünyasında ne arıyorsun yabancı?\n",
        "Hangi hasta gönüllüyü kastediyorsun, etme.\n",
        "Çalma bizi, bizden bizi, gitme o ellere doğru.\n",
        "Çalınmış başkalarına nazar ediyorsun, etme.  \n",
        "  \"\"\"    \n",
        "  )\n",
        "\n",
        "rumi()"
      ],
      "execution_count": null,
      "outputs": [
        {
          "output_type": "stream",
          "name": "stdout",
          "text": [
            "\n",
            "  Duydum ki bizi bırakmaya azmediyorsun, etme.\n",
            "Başka bir yar, başka bir dosta meylediyorsun, etme.\n",
            "Sen yadeller dünyasında ne arıyorsun yabancı?\n",
            "Hangi hasta gönüllüyü kastediyorsun, etme.\n",
            "Çalma bizi, bizden bizi, gitme o ellere doğru.\n",
            "Çalınmış başkalarına nazar ediyorsun, etme.  \n",
            "  \n"
          ]
        }
      ]
    },
    {
      "cell_type": "code",
      "metadata": {
        "id": "YYdzq3SoKT28"
      },
      "source": [
        "def add(sayi1,sayi2):\n",
        "  print(sayi1 +sayi2)"
      ],
      "execution_count": null,
      "outputs": []
    },
    {
      "cell_type": "code",
      "metadata": {
        "colab": {
          "base_uri": "https://localhost:8080/"
        },
        "id": "gE6ixoGkKT6P",
        "outputId": "018879ea-6ee1-4a03-d30e-90d7f614f17e"
      },
      "source": [
        "add (2,3)"
      ],
      "execution_count": null,
      "outputs": [
        {
          "output_type": "stream",
          "name": "stdout",
          "text": [
            "5\n"
          ]
        }
      ]
    },
    {
      "cell_type": "code",
      "metadata": {
        "colab": {
          "base_uri": "https://localhost:8080/"
        },
        "id": "F5C1qJ0mKT9x",
        "outputId": "f37597c2-927d-43d3-838e-b5b0496ad249"
      },
      "source": [
        "add(-5,5)"
      ],
      "execution_count": null,
      "outputs": [
        {
          "output_type": "stream",
          "name": "stdout",
          "text": [
            "0\n"
          ]
        }
      ]
    },
    {
      "cell_type": "code",
      "metadata": {
        "colab": {
          "base_uri": "https://localhost:8080/"
        },
        "id": "y_UrFoR1KUBf",
        "outputId": "996f8b88-1e39-4eb8-9323-be0260e9779f"
      },
      "source": [
        "add('5','5')"
      ],
      "execution_count": null,
      "outputs": [
        {
          "output_type": "stream",
          "name": "stdout",
          "text": [
            "55\n"
          ]
        }
      ]
    },
    {
      "cell_type": "code",
      "metadata": {
        "id": "0KQv7gaSKUId"
      },
      "source": [
        ""
      ],
      "execution_count": null,
      "outputs": []
    },
    {
      "cell_type": "code",
      "metadata": {
        "id": "q8dlBi1QKUE8"
      },
      "source": [
        "def calculator(sayi1,sayi2,islem):\n",
        "  if islem ==\"+\":\n",
        "    print(sayi1+sayi2)\n",
        "  elif islem == \"-\":\n",
        "    print(sayi1-sayi2)\n",
        "  elif islem == \"/\":\n",
        "    print(sayi1/sayi2)    \n",
        "  elif islem == \"*\":\n",
        "    print(sayi1*sayi2)\n",
        "  else:\n",
        "    print(\"enter valid arguments\")\n",
        "\n"
      ],
      "execution_count": null,
      "outputs": []
    },
    {
      "cell_type": "code",
      "metadata": {
        "colab": {
          "base_uri": "https://localhost:8080/"
        },
        "id": "RRDzIuy2KUMM",
        "outputId": "ab7167d9-ece8-43d4-a851-9cd5a41f1f53"
      },
      "source": [
        " calculator(88, 22, \"*\")"
      ],
      "execution_count": null,
      "outputs": [
        {
          "output_type": "stream",
          "name": "stdout",
          "text": [
            "1936\n"
          ]
        }
      ]
    },
    {
      "cell_type": "code",
      "metadata": {
        "id": "_ML631YAKUP9"
      },
      "source": [
        "def multiply_2(a,b):\n",
        "  return(a*b)"
      ],
      "execution_count": null,
      "outputs": []
    },
    {
      "cell_type": "code",
      "metadata": {
        "colab": {
          "base_uri": "https://localhost:8080/"
        },
        "id": "o7FctaSdKUS8",
        "outputId": "00ae9b7b-4186-41e0-84c7-f6beec7e5c2a"
      },
      "source": [
        "print(multiply_2(10,5))"
      ],
      "execution_count": null,
      "outputs": [
        {
          "output_type": "stream",
          "name": "stdout",
          "text": [
            "50\n"
          ]
        }
      ]
    },
    {
      "cell_type": "code",
      "metadata": {
        "id": "iWoeb6JQKUWP"
      },
      "source": [
        "def absolute_value(number):\n",
        "     if number >= 0:\n",
        "           return number\n",
        "     else:\n",
        "           return -number"
      ],
      "execution_count": null,
      "outputs": []
    },
    {
      "cell_type": "code",
      "metadata": {
        "colab": {
          "base_uri": "https://localhost:8080/"
        },
        "id": "pdOJ8xBeiBg8",
        "outputId": "e8b43518-1333-4338-a41e-d2cad31f5d35"
      },
      "source": [
        "absolute_value(-22)"
      ],
      "execution_count": null,
      "outputs": [
        {
          "output_type": "execute_result",
          "data": {
            "text/plain": [
              "22"
            ]
          },
          "metadata": {},
          "execution_count": 79
        }
      ]
    },
    {
      "cell_type": "code",
      "metadata": {
        "id": "2QuzPAHyiBlz"
      },
      "source": [
        "generator = (i **2 for i in range(6))"
      ],
      "execution_count": null,
      "outputs": []
    },
    {
      "cell_type": "code",
      "metadata": {
        "colab": {
          "base_uri": "https://localhost:8080/"
        },
        "id": "VjxXOZJgiBsg",
        "outputId": "12bc5637-94c8-4c53-80cd-4022441374f4"
      },
      "source": [
        "generator"
      ],
      "execution_count": null,
      "outputs": [
        {
          "output_type": "execute_result",
          "data": {
            "text/plain": [
              "<generator object <genexpr> at 0x7fd4b8607650>"
            ]
          },
          "metadata": {},
          "execution_count": 81
        }
      ]
    },
    {
      "cell_type": "code",
      "metadata": {
        "colab": {
          "base_uri": "https://localhost:8080/"
        },
        "id": "4EOZYKz5iBz7",
        "outputId": "9c51ed9a-deac-4510-eaa1-0deab8a49f3f"
      },
      "source": [
        "print(*generator)"
      ],
      "execution_count": null,
      "outputs": [
        {
          "output_type": "stream",
          "name": "stdout",
          "text": [
            "0 1 4 9 16 25\n"
          ]
        }
      ]
    },
    {
      "cell_type": "code",
      "metadata": {
        "id": "pXrbL6k-Mh1S"
      },
      "source": [
        ""
      ],
      "execution_count": null,
      "outputs": []
    }
  ]
}
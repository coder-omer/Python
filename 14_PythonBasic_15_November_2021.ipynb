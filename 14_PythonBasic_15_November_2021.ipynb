{
  "cells": [
    {
      "cell_type": "code",
      "execution_count": null,
      "id": "8abc4440",
      "metadata": {
        "id": "8abc4440"
      },
      "outputs": [],
      "source": [
        "v = (\"five\", 5, True)"
      ]
    },
    {
      "cell_type": "code",
      "execution_count": null,
      "id": "48e23910",
      "metadata": {
        "id": "48e23910",
        "outputId": "ff200db2-f276-44fd-bade-2bbdcf773db5"
      },
      "outputs": [
        {
          "data": {
            "text/plain": [
              "('five', 5, True)"
            ]
          },
          "execution_count": 2,
          "metadata": {},
          "output_type": "execute_result"
        }
      ],
      "source": [
        "v"
      ]
    },
    {
      "cell_type": "code",
      "execution_count": null,
      "id": "a6a11276",
      "metadata": {
        "id": "a6a11276"
      },
      "outputs": [],
      "source": [
        "(x, y, z) = v"
      ]
    },
    {
      "cell_type": "code",
      "execution_count": null,
      "id": "f2b50f1b",
      "metadata": {
        "id": "f2b50f1b",
        "outputId": "22d2a1ec-bd64-487d-b8f1-a456ad725cc7"
      },
      "outputs": [
        {
          "data": {
            "text/plain": [
              "'five'"
            ]
          },
          "execution_count": 5,
          "metadata": {},
          "output_type": "execute_result"
        }
      ],
      "source": [
        "x"
      ]
    },
    {
      "cell_type": "code",
      "execution_count": null,
      "id": "cd96a767",
      "metadata": {
        "id": "cd96a767",
        "outputId": "25ec1f62-d933-45fc-a2dc-13a995c8bef2"
      },
      "outputs": [
        {
          "data": {
            "text/plain": [
              "5"
            ]
          },
          "execution_count": 6,
          "metadata": {},
          "output_type": "execute_result"
        }
      ],
      "source": [
        "y"
      ]
    },
    {
      "cell_type": "code",
      "execution_count": null,
      "id": "e25ee617",
      "metadata": {
        "id": "e25ee617",
        "outputId": "5ed83be4-0ee4-4e01-c014-36816eab1e29"
      },
      "outputs": [
        {
          "data": {
            "text/plain": [
              "True"
            ]
          },
          "execution_count": 7,
          "metadata": {},
          "output_type": "execute_result"
        }
      ],
      "source": [
        "z"
      ]
    },
    {
      "cell_type": "code",
      "execution_count": null,
      "id": "72958383",
      "metadata": {
        "id": "72958383",
        "outputId": "c8719a8f-d969-4397-e77e-f0838a440b9c"
      },
      "outputs": [
        {
          "data": {
            "text/plain": [
              "(1, 2, 3, 4, 5, 6, 7)"
            ]
          },
          "execution_count": 14,
          "metadata": {},
          "output_type": "execute_result"
        }
      ],
      "source": [
        "tuple(range(1,8))"
      ]
    },
    {
      "cell_type": "code",
      "execution_count": null,
      "id": "b59b76bd",
      "metadata": {
        "id": "b59b76bd"
      },
      "outputs": [],
      "source": [
        "(monday, tuesday, wednesday, thursday, friday, saturday, sunday) = tuple(range(1,8))"
      ]
    },
    {
      "cell_type": "code",
      "execution_count": null,
      "id": "acc684f4",
      "metadata": {
        "id": "acc684f4",
        "outputId": "54fc2f76-649f-48be-d860-c622c400d4ab"
      },
      "outputs": [
        {
          "data": {
            "text/plain": [
              "1"
            ]
          },
          "execution_count": 12,
          "metadata": {},
          "output_type": "execute_result"
        }
      ],
      "source": [
        "monday"
      ]
    },
    {
      "cell_type": "code",
      "execution_count": null,
      "id": "d7a17cf4",
      "metadata": {
        "id": "d7a17cf4",
        "outputId": "3caa5941-7f41-4998-b971-e02683f33cbb"
      },
      "outputs": [
        {
          "data": {
            "text/plain": [
              "7"
            ]
          },
          "execution_count": 13,
          "metadata": {},
          "output_type": "execute_result"
        }
      ],
      "source": [
        "sunday"
      ]
    },
    {
      "cell_type": "code",
      "execution_count": null,
      "id": "23e27fee",
      "metadata": {
        "id": "23e27fee"
      },
      "outputs": [],
      "source": [
        "isim = \"ali\""
      ]
    },
    {
      "cell_type": "code",
      "execution_count": null,
      "id": "38869d26",
      "metadata": {
        "id": "38869d26",
        "outputId": "11067084-b79d-46ed-f2e3-a396a0ccbfd1"
      },
      "outputs": [
        {
          "data": {
            "text/plain": [
              "'ali'"
            ]
          },
          "execution_count": 16,
          "metadata": {},
          "output_type": "execute_result"
        }
      ],
      "source": [
        "\"ali\""
      ]
    },
    {
      "cell_type": "code",
      "execution_count": null,
      "id": "f5abd78e",
      "metadata": {
        "id": "f5abd78e",
        "outputId": "f5b26c5e-f392-43df-9036-50bdc181cf53"
      },
      "outputs": [
        {
          "data": {
            "text/plain": [
              "[1, 2, 3, 4, 'bir', 'iki', 'üç']"
            ]
          },
          "execution_count": 17,
          "metadata": {},
          "output_type": "execute_result"
        }
      ],
      "source": [
        "[1,2,3,4] + [\"bir\", \"iki\", \"üç\"]"
      ]
    },
    {
      "cell_type": "code",
      "execution_count": null,
      "id": "834086d3",
      "metadata": {
        "id": "834086d3",
        "outputId": "f351da97-296e-4b72-b2fb-888165c37f4b"
      },
      "outputs": [
        {
          "ename": "ValueError",
          "evalue": "too many values to unpack (expected 2)",
          "output_type": "error",
          "traceback": [
            "\u001b[0;31m---------------------------------------------------------------------------\u001b[0m",
            "\u001b[0;31mValueError\u001b[0m                                Traceback (most recent call last)",
            "\u001b[0;32m<ipython-input-18-0788392d25ce>\u001b[0m in \u001b[0;36m<module>\u001b[0;34m\u001b[0m\n\u001b[0;32m----> 1\u001b[0;31m \u001b[0ma\u001b[0m\u001b[0;34m,\u001b[0m \u001b[0mb\u001b[0m \u001b[0;34m=\u001b[0m \u001b[0;34m(\u001b[0m\u001b[0;36m10\u001b[0m\u001b[0;34m,\u001b[0m \u001b[0;36m20\u001b[0m\u001b[0;34m,\u001b[0m \u001b[0;36m30\u001b[0m\u001b[0;34m,\u001b[0m \u001b[0;36m40\u001b[0m\u001b[0;34m)\u001b[0m\u001b[0;34m\u001b[0m\u001b[0;34m\u001b[0m\u001b[0m\n\u001b[0m",
            "\u001b[0;31mValueError\u001b[0m: too many values to unpack (expected 2)"
          ]
        }
      ],
      "source": [
        "a, b = (10, 20, 30, 40)"
      ]
    },
    {
      "cell_type": "code",
      "execution_count": null,
      "id": "6ac80be1",
      "metadata": {
        "id": "6ac80be1"
      },
      "outputs": [],
      "source": [
        "a, _, b, _ = (10, 20, 30, 40)"
      ]
    },
    {
      "cell_type": "code",
      "execution_count": null,
      "id": "e3ba76c1",
      "metadata": {
        "id": "e3ba76c1",
        "outputId": "a78c6ce9-145b-44ee-a8fd-dd3f82f99043"
      },
      "outputs": [
        {
          "data": {
            "text/plain": [
              "10"
            ]
          },
          "execution_count": 20,
          "metadata": {},
          "output_type": "execute_result"
        }
      ],
      "source": [
        "a"
      ]
    },
    {
      "cell_type": "code",
      "execution_count": null,
      "id": "21250739",
      "metadata": {
        "id": "21250739",
        "outputId": "41d9b361-c8bd-4c56-da29-4f8c15f9a3b6"
      },
      "outputs": [
        {
          "data": {
            "text/plain": [
              "30"
            ]
          },
          "execution_count": 21,
          "metadata": {},
          "output_type": "execute_result"
        }
      ],
      "source": [
        "b"
      ]
    },
    {
      "cell_type": "code",
      "execution_count": null,
      "id": "325a0bcf",
      "metadata": {
        "id": "325a0bcf",
        "outputId": "9ac60273-3757-42a8-970b-76422391c068"
      },
      "outputs": [
        {
          "ename": "ValueError",
          "evalue": "too many values to unpack (expected 3)",
          "output_type": "error",
          "traceback": [
            "\u001b[0;31m---------------------------------------------------------------------------\u001b[0m",
            "\u001b[0;31mValueError\u001b[0m                                Traceback (most recent call last)",
            "\u001b[0;32m<ipython-input-22-9f0c1446e707>\u001b[0m in \u001b[0;36m<module>\u001b[0;34m\u001b[0m\n\u001b[0;32m----> 1\u001b[0;31m \u001b[0mx\u001b[0m\u001b[0;34m,\u001b[0m \u001b[0my\u001b[0m\u001b[0;34m,\u001b[0m \u001b[0mz\u001b[0m \u001b[0;34m=\u001b[0m \u001b[0;34m(\u001b[0m\u001b[0;36m11\u001b[0m\u001b[0;34m,\u001b[0m \u001b[0;36m22\u001b[0m\u001b[0;34m,\u001b[0m \u001b[0;36m33\u001b[0m\u001b[0;34m,\u001b[0m \u001b[0;36m44\u001b[0m\u001b[0;34m,\u001b[0m \u001b[0;36m55\u001b[0m\u001b[0;34m)\u001b[0m\u001b[0;34m\u001b[0m\u001b[0;34m\u001b[0m\u001b[0m\n\u001b[0m",
            "\u001b[0;31mValueError\u001b[0m: too many values to unpack (expected 3)"
          ]
        }
      ],
      "source": [
        "x, y, z = (11, 22, 33, 44, 55)"
      ]
    },
    {
      "cell_type": "code",
      "execution_count": null,
      "id": "f96096d9",
      "metadata": {
        "id": "f96096d9"
      },
      "outputs": [],
      "source": [
        "x, y, *z = (11, 22, 33, 44, 55)"
      ]
    },
    {
      "cell_type": "code",
      "execution_count": null,
      "id": "43ed4b3b",
      "metadata": {
        "id": "43ed4b3b",
        "outputId": "a8027cce-61c6-41a9-9001-1b672b79f0f3"
      },
      "outputs": [
        {
          "data": {
            "text/plain": [
              "11"
            ]
          },
          "execution_count": 24,
          "metadata": {},
          "output_type": "execute_result"
        }
      ],
      "source": [
        "x"
      ]
    },
    {
      "cell_type": "code",
      "execution_count": null,
      "id": "a6600503",
      "metadata": {
        "id": "a6600503",
        "outputId": "ec144a9e-eea3-4eaf-de23-8b2e30f7bc23"
      },
      "outputs": [
        {
          "data": {
            "text/plain": [
              "22"
            ]
          },
          "execution_count": 25,
          "metadata": {},
          "output_type": "execute_result"
        }
      ],
      "source": [
        "y"
      ]
    },
    {
      "cell_type": "code",
      "execution_count": null,
      "id": "81f3c8a5",
      "metadata": {
        "id": "81f3c8a5",
        "outputId": "178c6fc0-fe9a-4db2-a397-aeabd5d84d9f"
      },
      "outputs": [
        {
          "data": {
            "text/plain": [
              "[33, 44, 55]"
            ]
          },
          "execution_count": 26,
          "metadata": {},
          "output_type": "execute_result"
        }
      ],
      "source": [
        "z"
      ]
    },
    {
      "cell_type": "code",
      "execution_count": null,
      "id": "7b987d62",
      "metadata": {
        "id": "7b987d62"
      },
      "outputs": [],
      "source": [
        "x, y, *_ = (11, 22, 33, 44, 55, 66)"
      ]
    },
    {
      "cell_type": "code",
      "execution_count": null,
      "id": "fe88cc78",
      "metadata": {
        "id": "fe88cc78",
        "outputId": "3753ce6d-21d2-4f72-c1ab-b5e42fe8a5bb"
      },
      "outputs": [
        {
          "data": {
            "text/plain": [
              "11"
            ]
          },
          "execution_count": 29,
          "metadata": {},
          "output_type": "execute_result"
        }
      ],
      "source": [
        "x"
      ]
    },
    {
      "cell_type": "code",
      "execution_count": null,
      "id": "bc83b392",
      "metadata": {
        "id": "bc83b392",
        "outputId": "eb5be032-ffbe-4fd0-e1b8-fc7a241cfd73"
      },
      "outputs": [
        {
          "data": {
            "text/plain": [
              "22"
            ]
          },
          "execution_count": 30,
          "metadata": {},
          "output_type": "execute_result"
        }
      ],
      "source": [
        "y"
      ]
    },
    {
      "cell_type": "code",
      "execution_count": null,
      "id": "59938922",
      "metadata": {
        "id": "59938922"
      },
      "outputs": [],
      "source": [
        "x, y, *z, t = (11, 22, 33, 44, 55, 66, 77)"
      ]
    },
    {
      "cell_type": "code",
      "execution_count": null,
      "id": "0e469e62",
      "metadata": {
        "id": "0e469e62"
      },
      "outputs": [],
      "source": [
        "x, y, *_, t = (11, 22, 33, 44, 55, 66, 77)"
      ]
    },
    {
      "cell_type": "markdown",
      "id": "8d63bbf7",
      "metadata": {
        "id": "8d63bbf7"
      },
      "source": [
        "# List Comprehension"
      ]
    },
    {
      "cell_type": "markdown",
      "id": "cfe892e9",
      "metadata": {
        "id": "cfe892e9"
      },
      "source": [
        "## list comprehension'ların temel yapısı :\n",
        "\n",
        "```python\n",
        "[expression for item in iterable]\n",
        "\n",
        "\n",
        "for item in iterable :\n",
        "    expression\n",
        "```"
      ]
    },
    {
      "cell_type": "code",
      "execution_count": null,
      "id": "2da3509e",
      "metadata": {
        "id": "2da3509e",
        "outputId": "8d6f9f9f-7671-4beb-8095-212382b6b1a0"
      },
      "outputs": [
        {
          "data": {
            "text/plain": [
              "[0, 1, 2, 3, 4]"
            ]
          },
          "execution_count": 32,
          "metadata": {},
          "output_type": "execute_result"
        }
      ],
      "source": [
        "sayılar = []\n",
        "\n",
        "for i in range(5) :\n",
        "    sayılar.append(i)\n",
        "    \n",
        "sayılar"
      ]
    },
    {
      "cell_type": "code",
      "execution_count": null,
      "id": "62e73d90",
      "metadata": {
        "id": "62e73d90",
        "outputId": "817acbfa-901b-43c4-d73e-640d5a422e2b"
      },
      "outputs": [
        {
          "data": {
            "text/plain": [
              "[0, 1, 2, 3, 4]"
            ]
          },
          "execution_count": 33,
          "metadata": {},
          "output_type": "execute_result"
        }
      ],
      "source": [
        "[i for i in range(5)]"
      ]
    },
    {
      "cell_type": "code",
      "execution_count": null,
      "id": "9a557ea4",
      "metadata": {
        "id": "9a557ea4",
        "outputId": "753d825a-b0f1-4396-9548-a91cb0b1ac96"
      },
      "outputs": [
        {
          "data": {
            "text/plain": [
              "[1, 4, 9, 16, 25]"
            ]
          },
          "execution_count": 35,
          "metadata": {},
          "output_type": "execute_result"
        }
      ],
      "source": [
        "[i**2 for i in range(1,6)]"
      ]
    },
    {
      "cell_type": "code",
      "execution_count": null,
      "id": "891e78de",
      "metadata": {
        "id": "891e78de"
      },
      "outputs": [],
      "source": [
        "my_list = [1, 2, 3, 4, 5, 6]"
      ]
    },
    {
      "cell_type": "code",
      "execution_count": null,
      "id": "2b01678f",
      "metadata": {
        "id": "2b01678f"
      },
      "outputs": [],
      "source": [
        "new_list = []"
      ]
    },
    {
      "cell_type": "code",
      "execution_count": null,
      "id": "05199087",
      "metadata": {
        "id": "05199087"
      },
      "outputs": [],
      "source": [
        "for i in my_list :\n",
        "    if i % 2 :\n",
        "        new_list.append(i ** 2)"
      ]
    },
    {
      "cell_type": "code",
      "execution_count": null,
      "id": "b0809e56",
      "metadata": {
        "id": "b0809e56",
        "outputId": "3c875933-56ff-4b3f-a393-ec81525a9a39"
      },
      "outputs": [
        {
          "data": {
            "text/plain": [
              "[1, 9, 25]"
            ]
          },
          "execution_count": 39,
          "metadata": {},
          "output_type": "execute_result"
        }
      ],
      "source": [
        "new_list"
      ]
    },
    {
      "cell_type": "markdown",
      "id": "6d8c242b",
      "metadata": {
        "id": "6d8c242b"
      },
      "source": [
        "## ternary `if ` condition yapısı\n",
        "\n",
        "```python\n",
        "execute-body1 if condition else execute-body2\n",
        "```"
      ]
    },
    {
      "cell_type": "code",
      "execution_count": null,
      "id": "b422d042",
      "metadata": {
        "id": "b422d042"
      },
      "outputs": [],
      "source": [
        ""
      ]
    },
    {
      "cell_type": "code",
      "execution_count": null,
      "id": "25a642ff",
      "metadata": {
        "id": "25a642ff",
        "outputId": "2a3f3303-45ef-4f2f-821a-7ed989e059de"
      },
      "outputs": [
        {
          "name": "stdout",
          "output_type": "stream",
          "text": [
            "1\n"
          ]
        }
      ],
      "source": [
        "condition = True\n",
        "\n",
        "if condition :\n",
        "    a = 1\n",
        "else :\n",
        "    a = 0\n",
        "    \n",
        "print(a)"
      ]
    },
    {
      "cell_type": "code",
      "execution_count": null,
      "id": "f9afd22a",
      "metadata": {
        "id": "f9afd22a"
      },
      "outputs": [],
      "source": [
        ""
      ]
    },
    {
      "cell_type": "code",
      "execution_count": null,
      "id": "a7023478",
      "metadata": {
        "id": "a7023478",
        "outputId": "0b5dafcf-7ae6-4a29-c18f-5c1a6127c959"
      },
      "outputs": [
        {
          "data": {
            "text/plain": [
              "0"
            ]
          },
          "execution_count": 44,
          "metadata": {},
          "output_type": "execute_result"
        }
      ],
      "source": [
        "condition = False\n",
        "1 if condition else 0"
      ]
    },
    {
      "cell_type": "code",
      "execution_count": null,
      "id": "142cc485",
      "metadata": {
        "id": "142cc485",
        "outputId": "858afff4-54a6-4be3-90e8-6af655abe027"
      },
      "outputs": [
        {
          "data": {
            "text/plain": [
              "[1, 2, 3, 4, 5, 6]"
            ]
          },
          "execution_count": 45,
          "metadata": {},
          "output_type": "execute_result"
        }
      ],
      "source": [
        "my_list"
      ]
    },
    {
      "cell_type": "code",
      "execution_count": null,
      "id": "e688b6ec",
      "metadata": {
        "id": "e688b6ec",
        "outputId": "45e80fc0-aa7a-41e4-95f4-58e6c9216426"
      },
      "outputs": [
        {
          "data": {
            "text/plain": [
              "[1, 4, 9, 16, 25, 36]"
            ]
          },
          "execution_count": 46,
          "metadata": {},
          "output_type": "execute_result"
        }
      ],
      "source": [
        "[i ** 2 for i in my_list]"
      ]
    },
    {
      "cell_type": "code",
      "execution_count": null,
      "id": "56281b33",
      "metadata": {
        "id": "56281b33",
        "outputId": "ea157059-5156-4684-b5ad-2cee8b3f8105"
      },
      "outputs": [
        {
          "data": {
            "text/plain": [
              "[1, 9, 25]"
            ]
          },
          "execution_count": 47,
          "metadata": {},
          "output_type": "execute_result"
        }
      ],
      "source": [
        "[i ** 2 for i in my_list if i % 2]"
      ]
    },
    {
      "cell_type": "code",
      "execution_count": null,
      "id": "157732a7",
      "metadata": {
        "id": "157732a7"
      },
      "outputs": [],
      "source": [
        "body if i % 2"
      ]
    }
  ],
  "metadata": {
    "kernelspec": {
      "display_name": "Python 3",
      "language": "python",
      "name": "python3"
    },
    "language_info": {
      "codemirror_mode": {
        "name": "ipython",
        "version": 3
      },
      "file_extension": ".py",
      "mimetype": "text/x-python",
      "name": "python",
      "nbconvert_exporter": "python",
      "pygments_lexer": "ipython3",
      "version": "3.8.8"
    },
    "colab": {
      "name": "14_PythonBasic_15-November-2021.ipynb",
      "provenance": []
    }
  },
  "nbformat": 4,
  "nbformat_minor": 5
}
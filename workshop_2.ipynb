{
  "nbformat": 4,
  "nbformat_minor": 5,
  "metadata": {
    "kernelspec": {
      "display_name": "Python 3",
      "language": "python",
      "name": "python3"
    },
    "language_info": {
      "codemirror_mode": {
        "name": "ipython",
        "version": 3
      },
      "file_extension": ".py",
      "mimetype": "text/x-python",
      "name": "python",
      "nbconvert_exporter": "python",
      "pygments_lexer": "ipython3",
      "version": "3.8.8"
    },
    "colab": {
      "name": "workshop_2.ipynb",
      "provenance": [],
      "collapsed_sections": []
    }
  },
  "cells": [
    {
      "cell_type": "markdown",
      "metadata": {
        "id": "cec2380e"
      },
      "source": [
        "### Code Challenge -1\n",
        "\n",
        "<div class=\"alert alert-block alert-info\">\n",
        "    <b>💡Objective:</b>\n",
        "    <ul>\n",
        "        <li>To improve your <b>boolean logic</b> and <b>arithmetic operator algorithm</b>&nbsp;skills.</li>\n",
        "    </ul>\n",
        "</div>\n",
        "\n",
        "- Using the all following items once each, set a correct boolean expression that returns `write me`. Use the `print()` function to display the result.\n",
        "\n",
        "```python\n",
        "0\n",
        "and\n",
        "not\n",
        "\"write me\"\n",
        "```"
      ],
      "id": "cec2380e"
    },
    {
      "cell_type": "markdown",
      "metadata": {
        "id": "t2AoLvsvQMsB"
      },
      "source": [
        "# Yeni Bölüm"
      ],
      "id": "t2AoLvsvQMsB"
    },
    {
      "cell_type": "markdown",
      "metadata": {
        "id": "bd5961ea"
      },
      "source": [
        "### Solution - 1"
      ],
      "id": "bd5961ea"
    },
    {
      "cell_type": "code",
      "metadata": {
        "id": "f591cc23",
        "colab": {
          "base_uri": "https://localhost:8080/"
        },
        "outputId": "5e204c04-b47c-4f96-c586-ad210a48fd22"
      },
      "source": [
        "print(not 0 and \"write me\")"
      ],
      "id": "f591cc23",
      "execution_count": null,
      "outputs": [
        {
          "output_type": "stream",
          "name": "stdout",
          "text": [
            "write me\n"
          ]
        }
      ]
    },
    {
      "cell_type": "markdown",
      "metadata": {
        "id": "7EHxzRL2SWUz"
      },
      "source": [
        ""
      ],
      "id": "7EHxzRL2SWUz"
    },
    {
      "cell_type": "markdown",
      "metadata": {
        "id": "ff55f195"
      },
      "source": [
        "### Code Challenge-2\n",
        "\n",
        "<div class=\"alert alert-block alert-info\">\n",
        "    <b>💡Objective:</b>\n",
        "    <ul>\n",
        "        <li>To improve your <b>boolean logic algorithm</b>&nbsp;and truth value skills.</li>\n",
        "    </ul>\n",
        "</div>\n",
        "\n",
        "- Find out if a given year is a \"leap\" year.\n",
        "\n",
        "  - In the Gregorian calendar, three criteria must be taken into account to identify leap years:\n",
        "  \n",
        "    - The year must be evenly divisible by 4;\n",
        "    - If the year can also be evenly divided by 100, it is not a leap year; unless...(next one)\n",
        "    - The year is also evenly divisible by 400. Then it is a leap year.\n",
        "\n",
        "- According to these rules, the years 2000 and 2400 are leap years, while 1800, 1900, 2100, 2200, 2300, and 2500 are not the leap years.\n",
        "\n",
        "- Write a Python program that;\n",
        "  - Takes a 4-digit year from the user,\n",
        "  - Prints `True` if the given year by the user is a leap year, prints `False` otherwise.\n",
        "  \n",
        "> Note that; this question is famous on the web, so that do it yourself to get more benefits from it."
      ],
      "id": "ff55f195"
    },
    {
      "cell_type": "markdown",
      "metadata": {
        "id": "55bc3ee3"
      },
      "source": [
        "### Solution-2"
      ],
      "id": "55bc3ee3"
    },
    {
      "cell_type": "code",
      "metadata": {
        "id": "2f651282",
        "colab": {
          "base_uri": "https://localhost:8080/"
        },
        "outputId": "955e0e5c-eb94-4856-eed1-36d18315f691"
      },
      "source": [
        "yil = input('Hangi yıl olduğunu giriniz?(Örneğin 1984)')\n",
        "kontrol1 = int(yil) % 4\n",
        "kontrol2 = int(yil) % 400\n",
        "artik_yil = bool((kontrol1 == 0) and (kontrol2 == 0))\n",
        "print(artik_yil)\n"
      ],
      "id": "2f651282",
      "execution_count": null,
      "outputs": [
        {
          "output_type": "stream",
          "name": "stdout",
          "text": [
            "Hangi yıl olduğunu giriniz?(Örneğin 1984)2000\n",
            "True\n"
          ]
        }
      ]
    },
    {
      "cell_type": "code",
      "metadata": {
        "colab": {
          "base_uri": "https://localhost:8080/"
        },
        "id": "jwGNvjAKYc7w",
        "outputId": "8508dda1-aaec-4a7e-8cd2-6de07c5c7fa4"
      },
      "source": [
        "yil = input('Hangi yıl olduğunu giriniz?(Örneğin 1984)')\n",
        "artik_yil = bool((int(yil) % 4 == 0) and (int(yil) % 400 == 0))\n",
        "print(artik_yil)"
      ],
      "id": "jwGNvjAKYc7w",
      "execution_count": null,
      "outputs": [
        {
          "output_type": "stream",
          "name": "stdout",
          "text": [
            "Hangi yıl olduğunu giriniz?(Örneğin 1984)2100\n",
            "False\n"
          ]
        }
      ]
    },
    {
      "cell_type": "code",
      "metadata": {
        "colab": {
          "base_uri": "https://localhost:8080/"
        },
        "id": "S1YGafJZYdZO",
        "outputId": "536ff2e1-1a5e-4d39-c6cf-bcb18f17f8b0"
      },
      "source": [
        "yil = input('Hangi yıl olduğunu giriniz?(Örneğin 1984)')\n",
        "print(bool((int(yil) % 4 == 0) and (int(yil) % 400 == 0)))"
      ],
      "id": "S1YGafJZYdZO",
      "execution_count": null,
      "outputs": [
        {
          "output_type": "stream",
          "name": "stdout",
          "text": [
            "Hangi yıl olduğunu giriniz?(Örneğin 1984)2400\n",
            "True\n"
          ]
        }
      ]
    },
    {
      "cell_type": "markdown",
      "metadata": {
        "id": "22a552e5"
      },
      "source": [
        "### Code Challenge-3\n",
        "\n",
        "<p></p>\n",
        "\n",
        "```\n",
        "# Bu, kod` olarak biçimlendirilmiştir`\n",
        "```\n",
        "\n",
        "\n",
        "<div class=\"alert alert-block alert-info\">\n",
        "    <b>💡Objective:</b>\n",
        "    <ul>\n",
        "        <li>To improve your <b>collection </b>type <b>knowledge, </b>using<b> </b><span>new </span><span>built-in<b> function comprehension, string formatting</b></span>&nbsp;and <b>problem solving</b> skills.</li>\n",
        "    </ul>\n",
        "</div>\n",
        "\n",
        "<b>Task - 1 :</b><br>You work for a manufacturer as a programmer and\n",
        "have been asked to calculate the\n",
        "<b>total profit</b> made on the sales of a product. You are given a dictionary (<code>sales</code>) containing the <span><i>cost </i>price</span><span> </span>per unit (in dollars), <span><i>sell </i>price</span><span> </span>per unit (in dollars), and\n",
        "the <span><span>beginning</span></span><i> inventory</i>. Write a program to return the <b>total profit&nbsp;</b>made, <b>rounded&nbsp;</b>to the nearest dollar. Assume all of the <i>inventory</i> has been sold. The <i>name</i> and the <i>keys</i> of\n",
        "the dictionary are constant, so use them as they are.<br>\n",
        "<hr>\n",
        "\n",
        "\n",
        "<p>The example of the <i>values</i> (<i>sell</i>-<i>cost </i>value,&nbsp;<i>inventory</i>) and total <i>profit </i>:</p>\n",
        "\n",
        "```python\n",
        "sales = {\n",
        "  \"cost_value\": 31.87,\n",
        "  \"sell_value\": 45.00,\n",
        "  \"inventory\": 1000\n",
        "}  \n",
        "\n",
        "# the profit will be : 13130\n",
        "````\n",
        "\n",
        "<hr>\n",
        "<p><b>Task - 2 :</b><br>Your boss wants you to prepare the <b>payrolls</b> of the workers in your department. You have to convert the amount of dollars into <i>payroll </i>format. In order to help move things along, you have volunteered to write a code that\n",
        "    will take a float and return the money in the following format (as <i>dollars</i> and <i>cents</i>).&nbsp;</p>\n",
        "<p><br>\n",
        "</p>\n",
        "\n",
        "- Examples :\n",
        "\n",
        "|Given Float Type `amount`|Desired Output|\n",
        "|--|--|\n",
        "|3|\\$3.00|\n",
        "|29.99|\\$29.99|\n",
        "|4.1|\\$4.10|\n",
        "\n",
        "The output should be float type as well and two digits after the period.<br><br>\n",
        "<p></p>"
      ],
      "id": "22a552e5"
    },
    {
      "cell_type": "markdown",
      "metadata": {
        "id": "98cd2f0e"
      },
      "source": [
        "### Solution-3"
      ],
      "id": "98cd2f0e"
    },
    {
      "cell_type": "code",
      "metadata": {
        "id": "576823cc",
        "colab": {
          "base_uri": "https://localhost:8080/"
        },
        "outputId": "2fd04096-688d-41df-dae0-1fb88e0fcd75"
      },
      "source": [
        "# Task-1\n",
        "sales = {\n",
        "  \"cost_value\": 31.87,\n",
        "  \"sell_value\": 45.00,\n",
        "  \"inventory\": 1000\n",
        "}  \n",
        "\n",
        "total_profit = round ((float(sales[\"sell_value\"])-float(sales[\"cost_value\"]))*int(sales[\"inventory\"]))\n",
        "print(total_profit)\n"
      ],
      "id": "576823cc",
      "execution_count": null,
      "outputs": [
        {
          "output_type": "stream",
          "name": "stdout",
          "text": [
            "13130\n"
          ]
        }
      ]
    },
    {
      "cell_type": "code",
      "metadata": {
        "id": "63fb6f4b",
        "colab": {
          "base_uri": "https://localhost:8080/"
        },
        "outputId": "bd25d8ad-c016-44d4-e755-d827c65fb851"
      },
      "source": [
        "# Task-2\n",
        "\n",
        "amount_given = float(input(\"amount of dollars?\"))\n",
        "print(\"%.2f\" % amount_given)"
      ],
      "id": "63fb6f4b",
      "execution_count": null,
      "outputs": [
        {
          "output_type": "stream",
          "name": "stdout",
          "text": [
            "amount of dollars?3\n",
            "3.00\n"
          ]
        }
      ]
    },
    {
      "cell_type": "code",
      "metadata": {
        "id": "d3907c41"
      },
      "source": [
        ""
      ],
      "id": "d3907c41",
      "execution_count": null,
      "outputs": []
    }
  ]
}
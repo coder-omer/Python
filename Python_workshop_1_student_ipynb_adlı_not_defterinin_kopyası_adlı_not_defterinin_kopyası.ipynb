{
  "nbformat": 4,
  "nbformat_minor": 0,
  "metadata": {
    "kernelspec": {
      "name": "python3",
      "display_name": "Python 3.9.6 64-bit"
    },
    "language_info": {
      "codemirror_mode": {
        "name": "ipython",
        "version": 3
      },
      "file_extension": ".py",
      "mimetype": "text/x-python",
      "name": "python",
      "nbconvert_exporter": "python",
      "pygments_lexer": "ipython3",
      "version": "3.9.6"
    },
    "interpreter": {
      "hash": "468f25ad0239460415b7e6b7483d5c8f7213894121f6fb96c4cb6ef93fffe534"
    },
    "colab": {
      "name": "Python-workshop-1-student.ipynb adlı not defterinin kopyası adlı not defterinin kopyası",
      "provenance": [],
      "collapsed_sections": [],
      "include_colab_link": true
    }
  },
  "cells": [
    {
      "cell_type": "markdown",
      "metadata": {
        "id": "view-in-github",
        "colab_type": "text"
      },
      "source": [
        "<a href=\"https://colab.research.google.com/github/coder-omer/Python/blob/main/Python_workshop_1_student_ipynb_adl%C4%B1_not_defterinin_kopyas%C4%B1_adl%C4%B1_not_defterinin_kopyas%C4%B1.ipynb\" target=\"_parent\"><img src=\"https://colab.research.google.com/assets/colab-badge.svg\" alt=\"Open In Colab\"/></a>"
      ]
    },
    {
      "cell_type": "markdown",
      "metadata": {
        "id": "rRacOPIRd8MP"
      },
      "source": [
        "<center><img src=\"https://github.com/aaron-clarusway/fullstack/blob/master/itf-logo.png?raw=true\"  alt=\"alt text\" width=\"200\"/></center>\n",
        "<br>\n",
        "<h1><p style=\"text-align: center; color:darkblue\">Python Basic</p><h1>\n",
        "<center><h1>Workshop - 1</h1></center>\n",
        "<p><img align=\"right\"\n",
        "  src=\"https://secure.meetupstatic.com/photos/event/3/1/b/9/600_488352729.jpeg\"  width=\"15px\"></p>\n",
        "<br>\n",
        "\n",
        "\n",
        "# Subject: Basic Data Types and Useful Operations\n",
        "\n",
        "## Learning Goals\n",
        "\n",
        "* to work with quotes in strings,\n",
        "* to practice basic data types,\n",
        "* to consolidate basic boolean operations."
      ]
    },
    {
      "cell_type": "markdown",
      "metadata": {
        "id": "0I5nfsIsd8MW"
      },
      "source": [
        "### Problem 1\n",
        "\n",
        "Write a program that multiplies three numbers entered by the user. Print the output with the format method."
      ]
    },
    {
      "cell_type": "markdown",
      "metadata": {
        "id": "eRAElU40TsAe"
      },
      "source": [
        ""
      ]
    },
    {
      "cell_type": "code",
      "metadata": {
        "id": "2YvJnYAYd8MX",
        "colab": {
          "base_uri": "https://localhost:8080/"
        },
        "outputId": "87923dfe-9b07-4acd-8340-3772db4667d1"
      },
      "source": [
        "print(\"Bu program girilecek üç sayının çarpımını bulacak bir programdır\")\n",
        "\n",
        "sayi1=input(\"Birinci sayıyı girin: \") #burada birinci sayı sayi1 e atanır\n",
        "\n",
        "sayi2=input(\"İkinci sayıyı girin: \")\n",
        "\n",
        "sayi3=input(\"Üçüncü sayıyı girin: \")\n",
        "\n",
        "#print(\"birinci sayiniz:\", sayi1)\n",
        "\n",
        "#print(\"ikinci sayiniz:\", sayi2)\n",
        "\n",
        "#print(\"üçüncü sayiniz:\", sayi3)\n",
        "\n",
        "carpim = int(sayi1) * int(sayi2) * int(sayi3) \n",
        "\n",
        "print(\"girdiğiniz sayıların çarpımı:\",carpim)"
      ],
      "execution_count": null,
      "outputs": [
        {
          "output_type": "stream",
          "name": "stdout",
          "text": [
            "Bu program girilecek üç sayının çarpımını bulacak bir programdır\n",
            "Birinci sayıyı girin: 2\n",
            "İkinci sayıyı girin: 4\n",
            "Üçüncü sayıyı girin: 6\n",
            "girdiğiniz sayıların çarpımı: 48\n"
          ]
        }
      ]
    },
    {
      "cell_type": "markdown",
      "metadata": {
        "id": "u8aCuuWdd8MY"
      },
      "source": [
        "### Problem 2\n",
        "\n",
        "Write a program that calculates body mass index from **height** and **weight** entered by the user. \n",
        "\n",
        "Body mass index :  Weight / Height(m) * Height(m)"
      ]
    },
    {
      "cell_type": "code",
      "metadata": {
        "id": "E4hfN2s6d8MZ",
        "colab": {
          "base_uri": "https://localhost:8080/"
        },
        "outputId": "0aca77e8-3fc7-4a6f-de9d-d2a0881d08d2"
      },
      "source": [
        "print(\"Vücut Kitle Endeksi Hesaplama Programı\")\n",
        "\n",
        "height = float(input(\"Boy (m):\"))\n",
        "weight = int(input(\"Kilo (kg):\"))\n",
        " \n",
        "endeks  = weight/(height*height)\n",
        " \n",
        "print('Vücut Kitle Endeksiniz:', endeks)"
      ],
      "execution_count": null,
      "outputs": [
        {
          "output_type": "stream",
          "name": "stdout",
          "text": [
            "Vücut Kitle Endeksi Hesaplama Programı\n",
            "Boy (m):1.70\n",
            "Kilo (kg):76\n",
            "Vücut Kitle Endeksiniz: 26.29757785467128\n"
          ]
        }
      ]
    },
    {
      "cell_type": "markdown",
      "metadata": {
        "id": "HoLU6ha2d8MZ"
      },
      "source": [
        "### Problem 3\n",
        "\n",
        "With your $ 200, how many pieces of material can you get for $ 11 each? How much money do you have left after buying?"
      ]
    },
    {
      "cell_type": "code",
      "metadata": {
        "id": "eyzpCnTOd8Ma",
        "colab": {
          "base_uri": "https://localhost:8080/"
        },
        "outputId": "42ab7196-b0b1-45c6-f706-1e8c5f5792a1"
      },
      "source": [
        "print('Alışveriş Programı')\n",
        "\n",
        "eldeki_para=200\n",
        "\n",
        "malzeme_parasi=11\n",
        "\n",
        "print('elimizdeki para ile alabileceğimiz malzeme sayisi:', 200 // 11)\n",
        "\n",
        "print('malzemeleri aldıktan sonra elimizde kalan para miktarı:', 200 % 11)"
      ],
      "execution_count": null,
      "outputs": [
        {
          "output_type": "stream",
          "name": "stdout",
          "text": [
            "Alışveriş Programı\n",
            "elimizdeki para ile alabileceğimiz malzeme sayisi: 18\n",
            "malzemeleri aldıktan sonra elimizde kalan para miktarı: 2\n"
          ]
        }
      ]
    },
    {
      "cell_type": "markdown",
      "metadata": {
        "id": "b-9h63VFd8Mb"
      },
      "source": [
        "### Problem 4\n",
        "\n",
        "Ask the user for two numbers and assign these numbers to variables and replace the values of these variables with each other."
      ]
    },
    {
      "cell_type": "code",
      "metadata": {
        "id": "MpkW_Hfjd8Mc",
        "colab": {
          "base_uri": "https://localhost:8080/"
        },
        "outputId": "b484aef4-bb53-4805-8015-acc0db571c67"
      },
      "source": [
        "print('Değişkenlerin Değerlerini Değiştirme Programı')\n",
        "\n",
        "birincisayi=input(\"Birinci sayıyı girin: \")\n",
        "\n",
        "ikincisayi=input(\"İkinci sayıyı girin: \")\n",
        "\n",
        "gecicidegisken=int(birincisayi)\n",
        "\n",
        "birincisayi=int(ikincisayi)\n",
        "\n",
        "ikincisayi=int(gecicidegisken)\n",
        "\n",
        "print('girdiğiniz sayıların yerleri değiştirilmiştir')\n",
        "\n",
        "print('birinci sayı:', birincisayi)\n",
        "\n",
        "print('ikincisayi:',ikincisayi)"
      ],
      "execution_count": null,
      "outputs": [
        {
          "output_type": "stream",
          "name": "stdout",
          "text": [
            "Değişkenlerin Değerlerini Değiştirme Programı\n",
            "Birinci sayıyı girin: 30\n",
            "İkinci sayıyı girin: 25\n",
            "girdiğiniz sayıların yerleri değiştirilmiştir\n",
            "birinci sayı: 25\n",
            "ikincisayi: 30\n"
          ]
        }
      ]
    },
    {
      "cell_type": "markdown",
      "metadata": {
        "id": "vxew_QImd8Mc"
      },
      "source": [
        "### Problem 5\n",
        "\n",
        "Write a Python program to solve (x - y) * (x + y)."
      ]
    },
    {
      "cell_type": "code",
      "metadata": {
        "id": "lPXkFGbPd8Md",
        "colab": {
          "base_uri": "https://localhost:8080/"
        },
        "outputId": "bf22fd21-8f91-4e51-a225-90a3ee7e3b18"
      },
      "source": [
        "x, y = 5, 3\n",
        "\n",
        "result = (x-y) * (x+y)\n",
        "\n",
        "print(\"x=5 ve y=3 ise (x-y)*(x+y)=\", int(result))"
      ],
      "execution_count": null,
      "outputs": [
        {
          "output_type": "stream",
          "name": "stdout",
          "text": [
            "x=5 ve y=3 ise (x-y)*(x+y)= 16\n"
          ]
        }
      ]
    },
    {
      "cell_type": "markdown",
      "metadata": {
        "id": "fNhl7dj4d8Md"
      },
      "source": [
        "### Problem 6\n",
        "\n",
        "Get **word**, **seperator** and **repetition** values from the user and print the word on the screen according to the given values. \n",
        "\n",
        "Ex: ``word = ali, sep = /, repetition = 3`` ----> ``ali/ali/ali``"
      ]
    },
    {
      "cell_type": "code",
      "metadata": {
        "id": "9eZPZgs7d8Me",
        "colab": {
          "base_uri": "https://localhost:8080/"
        },
        "outputId": "38e48326-a67a-4f07-ba89-388ce23e0c15"
      },
      "source": [
        "kelime=input(\"kelimenizi girin: \")\n",
        "\n",
        "ayirac=input(\"ayıracınızı girin: \")\n",
        "\n",
        "tekrar=input(\"tekrar sayınızı girin: \")\n",
        "\n",
        "print ((kelime+ayirac)*(int(tekrar)-1)+kelime)"
      ],
      "execution_count": null,
      "outputs": [
        {
          "output_type": "stream",
          "name": "stdout",
          "text": [
            "kelimenizi girin: ali\n",
            "ayıracınızı girin: /\n",
            "tekrar sayınızı girin: 5\n",
            "ali/ali/ali/ali/ali\n"
          ]
        }
      ]
    },
    {
      "cell_type": "markdown",
      "metadata": {
        "id": "mwobld7yd8Mf"
      },
      "source": [
        "### Problem 7\n",
        "\n",
        ">Do not run the code, try to figure out in your mind.\n",
        "\n",
        "What will be the output of the following syntax :\n",
        "\n",
        "```python\n",
        "print(True and False and (not True and False) and not (True or False))\n",
        "```"
      ]
    },
    {
      "cell_type": "markdown",
      "metadata": {
        "id": "y5CUC7BS75Nw"
      },
      "source": [
        "False"
      ]
    },
    {
      "cell_type": "code",
      "metadata": {
        "id": "VIaorWUud8Mf",
        "colab": {
          "base_uri": "https://localhost:8080/"
        },
        "outputId": "d45eed17-f409-4ed6-d94a-61ec56bb1996"
      },
      "source": [
        "print(True and False and (not True and False) and not (True or False))"
      ],
      "execution_count": null,
      "outputs": [
        {
          "output_type": "stream",
          "name": "stdout",
          "text": [
            "False\n"
          ]
        }
      ]
    },
    {
      "cell_type": "markdown",
      "metadata": {
        "id": "V_-5p2c0d8Mf"
      },
      "source": [
        "### Problem 8\n",
        "\n",
        ">Do not run the code, try to figure out in your mind.\n",
        "\n",
        "What will be the output of the following syntax :\n",
        "\n",
        "```python\n",
        "print(True and False and not \"False\" and None and (\"None\" or None))\n",
        "```"
      ]
    },
    {
      "cell_type": "code",
      "metadata": {
        "id": "QbxsUjQ6d8Mg",
        "colab": {
          "base_uri": "https://localhost:8080/"
        },
        "outputId": "642c4388-da09-4c20-e74f-97c05d6be646"
      },
      "source": [
        "print(True and False and not \"False\" and None and (\"None\" or None))"
      ],
      "execution_count": null,
      "outputs": [
        {
          "output_type": "stream",
          "name": "stdout",
          "text": [
            "False\n"
          ]
        }
      ]
    },
    {
      "cell_type": "markdown",
      "metadata": {
        "id": "RefDIxvLd8Mg"
      },
      "source": [
        "### Problem 9\n",
        "\n",
        ">Do not run the code, try to figure out in your mind.\n",
        "\n",
        "What will be the output of the following syntax :\n",
        "\n",
        "```python\n",
        "print(\"clarusway\" and 0 and not \"\" and False and (\" \" or None))\n",
        "```"
      ]
    },
    {
      "cell_type": "code",
      "metadata": {
        "id": "VKdUQacgd8Mh",
        "colab": {
          "base_uri": "https://localhost:8080/"
        },
        "outputId": "8ad0af6a-8cb5-408f-9e50-70710a3fda97"
      },
      "source": [
        "print(\"clarusway\" and 0 and not \"\" and False and (\" \" or None))"
      ],
      "execution_count": null,
      "outputs": [
        {
          "output_type": "stream",
          "name": "stdout",
          "text": [
            "0\n"
          ]
        }
      ]
    }
  ]
}
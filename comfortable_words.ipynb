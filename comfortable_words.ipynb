{
  "nbformat": 4,
  "nbformat_minor": 0,
  "metadata": {
    "colab": {
      "name": "comfortable_words.ipynb",
      "provenance": [],
      "authorship_tag": "ABX9TyMSmkAWRx5GYiMx82LVkzjj"
    },
    "kernelspec": {
      "name": "python3",
      "display_name": "Python 3"
    },
    "language_info": {
      "name": "python"
    }
  },
  "cells": [
    {
      "cell_type": "code",
      "metadata": {
        "colab": {
          "base_uri": "https://localhost:8080/"
        },
        "id": "MKq1sxgT7ZdT",
        "outputId": "d0fe3b8b-b899-4a76-e75d-b2abdca7fac1"
      },
      "source": [
        "left = {\"q\", \"w\", \"e\", \"r\", \"t\", \"a\", \"s\", \"d\", \"f\", \"g\", \"z\", \"x\", \"c\", \"v\", \"b\"}\n",
        "right = {\"y\", \"u\", \"i\", \"o\", \"p\", \"h\", \"j\", \"k\", \"l\", \"n\", \"m\"}\n",
        "word = set(input(\"Enter a word please : \"))\n",
        "print (\"Comfortable word?\", bool(left.intersection(word) and right.intersection(word)))"
      ],
      "execution_count": null,
      "outputs": [
        {
          "output_type": "stream",
          "name": "stdout",
          "text": [
            "Enter a word please : okul\n",
            "Comfortable word? False\n"
          ]
        }
      ]
    },
    {
      "cell_type": "code",
      "metadata": {
        "colab": {
          "base_uri": "https://localhost:8080/"
        },
        "id": "rrS4kHih-fdM",
        "outputId": "463f83ab-7c52-436e-b799-d4298aa20e4d"
      },
      "source": [
        "left = {\"q\", \"w\", \"e\", \"r\", \"t\", \"a\", \"s\", \"d\", \"f\", \"g\", \"z\", \"x\", \"c\", \"v\", \"b\"}\n",
        "right = {\"y\", \"u\", \"i\", \"o\", \"p\", \"h\", \"j\", \"k\", \"l\", \"n\", \"m\"}\n",
        "word = set(input(\"Enter a word please : \"))\n",
        "#print (\"Comfortable word?\", bool(left & word and right & word))\n",
        "\n",
        "for i in word:\n",
        "  if i in left and right:\n",
        "    a = 1\n",
        "  else:\n",
        "    a = 0\n",
        "\n",
        "if a == 1:\n",
        "  print(\"evet\")\n",
        "else:\n",
        "  print(\"hayır\")\n"
      ],
      "execution_count": null,
      "outputs": [
        {
          "output_type": "stream",
          "name": "stdout",
          "text": [
            "Enter a word please : tester\n",
            "evet\n"
          ]
        }
      ]
    },
    {
      "cell_type": "code",
      "metadata": {
        "colab": {
          "base_uri": "https://localhost:8080/"
        },
        "id": "H_1GAaRME3ot",
        "outputId": "649fc4f1-3b1c-4049-bf24-79edf0caafa2"
      },
      "source": [
        "k1 = set([1, 2, 3, 4])\n",
        "k2 = set([1, 3, 5, 7])\n",
        "k1.intersection(k2)"
      ],
      "execution_count": null,
      "outputs": [
        {
          "output_type": "execute_result",
          "data": {
            "text/plain": [
              "{1, 3}"
            ]
          },
          "metadata": {},
          "execution_count": 30
        }
      ]
    },
    {
      "cell_type": "code",
      "metadata": {
        "id": "-D7cnwJ1E3cd"
      },
      "source": [
        ""
      ],
      "execution_count": null,
      "outputs": []
    }
  ]
}
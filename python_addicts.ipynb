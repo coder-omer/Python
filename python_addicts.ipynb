{
  "nbformat": 4,
  "nbformat_minor": 0,
  "metadata": {
    "colab": {
      "name": "python_addicts.ipynb",
      "provenance": [],
      "authorship_tag": "ABX9TyO8t2Odx6G4VfTz/hVfKS4Q"
    },
    "kernelspec": {
      "name": "python3",
      "display_name": "Python 3"
    },
    "language_info": {
      "name": "python"
    }
  },
  "cells": [
    {
      "cell_type": "code",
      "metadata": {
        "colab": {
          "base_uri": "https://localhost:8080/"
        },
        "id": "dGzZfUA3JQSl",
        "outputId": "5a083ea2-5433-4cfe-d757-51575c205864"
      },
      "source": [
        "mail = \"mailto: Clarusway admission@clarusway.com, 6 Haz 2021 Paz, 21:08 tarihinde şunu yazdı:\"\n",
        "split1=mail.split()\n",
        "print('part=',split1)\n",
        "a=list(split1)\n",
        "print(a[2][10:23])\n"
      ],
      "execution_count": null,
      "outputs": [
        {
          "output_type": "stream",
          "name": "stdout",
          "text": [
            "part= ['mailto:', 'Clarusway', 'admission@clarusway.com,', '6', 'Haz', '2021', 'Paz,', '21:08', 'tarihinde', 'şunu', 'yazdı:']\n",
            "clarusway.com\n"
          ]
        }
      ]
    },
    {
      "cell_type": "code",
      "metadata": {
        "colab": {
          "base_uri": "https://localhost:8080/"
        },
        "id": "2EBp4RXwP7Lz",
        "outputId": "a0fa2aaf-8b51-43e3-c387-19f8e048bb8c"
      },
      "source": [
        "mail = \"mailto: Clarusway admission@clarusway.com, 6 Haz 2021 Paz, 21:08 tarihinde şunu yazdı:\"\n",
        "print(list(mail.split())[2][10:23])"
      ],
      "execution_count": null,
      "outputs": [
        {
          "output_type": "stream",
          "name": "stdout",
          "text": [
            "clarusway.com\n"
          ]
        }
      ]
    },
    {
      "cell_type": "code",
      "metadata": {
        "colab": {
          "base_uri": "https://localhost:8080/"
        },
        "id": "R__523RoQtmV",
        "outputId": "065800f7-89f9-4f91-d699-b6a14ac3f675"
      },
      "source": [
        "mail = \"mailto: Clarusway admission@clarusway.com, 6 Haz 2021 Paz, 21:08 tarihinde şunu yazdı:\"\n",
        "\n",
        "print(list(mail.split())[mail.index('c'):mail.index(',')])"
      ],
      "execution_count": null,
      "outputs": [
        {
          "output_type": "stream",
          "name": "stdout",
          "text": [
            "[]\n"
          ]
        }
      ]
    },
    {
      "cell_type": "code",
      "metadata": {
        "colab": {
          "base_uri": "https://localhost:8080/"
        },
        "id": "tGQGNNujQtp0",
        "outputId": "095efe06-b879-4a74-dd45-1022febc97dd"
      },
      "source": [
        "mail = \"mailto: Clarusway admission@clarusway.com, 6 Haz 2021 Paz, 21:08 tarihinde şunu yazdı:\"\n",
        "\n",
        "a=mail.split()\n",
        "\n",
        "print(a)\n",
        "\n",
        "b= a[2].find(\"@\")\n",
        "\n",
        "print(b)"
      ],
      "execution_count": null,
      "outputs": [
        {
          "output_type": "stream",
          "name": "stdout",
          "text": [
            "['mailto:', 'Clarusway', 'admission@clarusway.com,', '6', 'Haz', '2021', 'Paz,', '21:08', 'tarihinde', 'şunu', 'yazdı:']\n",
            "9\n"
          ]
        }
      ]
    }
  ]
}
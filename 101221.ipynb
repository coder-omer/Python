{
  "nbformat": 4,
  "nbformat_minor": 0,
  "metadata": {
    "colab": {
      "name": "101221.ipynb",
      "provenance": [],
      "authorship_tag": "ABX9TyNgKdv3+9sSh/ixnbyVa/Ts"
    },
    "kernelspec": {
      "name": "python3",
      "display_name": "Python 3"
    },
    "language_info": {
      "name": "python"
    }
  },
  "cells": [
    {
      "cell_type": "code",
      "execution_count": null,
      "metadata": {
        "colab": {
          "base_uri": "https://localhost:8080/"
        },
        "id": "M9Ml_yELna66",
        "outputId": "f8349021-3d15-457e-ff25-2ea00bcc049b"
      },
      "outputs": [
        {
          "output_type": "stream",
          "name": "stdout",
          "text": [
            "4 is maximum\n"
          ]
        }
      ],
      "source": [
        "def printMax(a, b): \n",
        "  if a > b: print(a, 'is maximum')\n",
        "  elif a == b: print(a, 'is equal to', b)\n",
        "  else: print(b, 'is maximum') \n",
        "\n",
        "printMax(3, 4)"
      ]
    },
    {
      "cell_type": "code",
      "source": [
        "x = 50\n",
        "def func(x): \n",
        "  print('x is', x) \n",
        "  x = 2 \n",
        "  print('Changed local x to', x)\n",
        "func(x) \n",
        "print('x is now', x)"
      ],
      "metadata": {
        "colab": {
          "base_uri": "https://localhost:8080/"
        },
        "id": "C4KwepucnelI",
        "outputId": "08db5161-a65e-4c92-c1fd-504dd6e6bc8b"
      },
      "execution_count": null,
      "outputs": [
        {
          "output_type": "stream",
          "name": "stdout",
          "text": [
            "x is 50\n",
            "Changed local x to 2\n",
            "x is now 50\n"
          ]
        }
      ]
    },
    {
      "cell_type": "code",
      "source": [
        "def function1(var1=5, var2=7): \n",
        "  var2=9 \n",
        "  var1=3 \n",
        "  print (var1, \" \", var2) \n",
        "function1(10,12)"
      ],
      "metadata": {
        "colab": {
          "base_uri": "https://localhost:8080/"
        },
        "id": "-mpehL9snex-",
        "outputId": "76473609-b4ba-48d4-a60e-61bd0a231eca"
      },
      "execution_count": null,
      "outputs": [
        {
          "output_type": "stream",
          "name": "stdout",
          "text": [
            "10   12\n"
          ]
        }
      ]
    }
  ]
}
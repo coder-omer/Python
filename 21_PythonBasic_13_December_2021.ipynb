{
  "cells": [
    {
      "cell_type": "markdown",
      "metadata": {
        "id": "view-in-github",
        "colab_type": "text"
      },
      "source": [
        "<a href=\"https://colab.research.google.com/github/coder-omer/Python/blob/main/21_PythonBasic_13_December_2021.ipynb\" target=\"_parent\"><img src=\"https://colab.research.google.com/assets/colab-badge.svg\" alt=\"Open In Colab\"/></a>"
      ]
    },
    {
      "cell_type": "code",
      "execution_count": null,
      "id": "26948fcc",
      "metadata": {
        "id": "26948fcc",
        "outputId": "2a181c40-d920-44b4-ab4e-085773f3d8ad"
      },
      "outputs": [
        {
          "name": "stdout",
          "output_type": "stream",
          "text": [
            "hello world\n",
            "hello world\n",
            "hello world\n",
            "hello world\n",
            "hello world\n"
          ]
        },
        {
          "ename": "ZeroDivisionError",
          "evalue": "division by zero",
          "output_type": "error",
          "traceback": [
            "\u001b[0;31m---------------------------------------------------------------------------\u001b[0m",
            "\u001b[0;31mZeroDivisionError\u001b[0m                         Traceback (most recent call last)",
            "\u001b[0;32m<ipython-input-3-2a39dc7d9bd2>\u001b[0m in \u001b[0;36m<module>\u001b[0;34m\u001b[0m\n\u001b[1;32m      4\u001b[0m \u001b[0mprint\u001b[0m\u001b[0;34m(\u001b[0m\u001b[0;34m\"hello world\"\u001b[0m\u001b[0;34m)\u001b[0m\u001b[0;34m\u001b[0m\u001b[0;34m\u001b[0m\u001b[0m\n\u001b[1;32m      5\u001b[0m \u001b[0mprint\u001b[0m\u001b[0;34m(\u001b[0m\u001b[0;34m\"hello world\"\u001b[0m\u001b[0;34m)\u001b[0m\u001b[0;34m\u001b[0m\u001b[0;34m\u001b[0m\u001b[0m\n\u001b[0;32m----> 6\u001b[0;31m \u001b[0;36m2\u001b[0m\u001b[0;34m/\u001b[0m\u001b[0;36m0\u001b[0m\u001b[0;34m\u001b[0m\u001b[0;34m\u001b[0m\u001b[0m\n\u001b[0m\u001b[1;32m      7\u001b[0m \u001b[0mprint\u001b[0m\u001b[0;34m(\u001b[0m\u001b[0;34m\"hello world\"\u001b[0m\u001b[0;34m)\u001b[0m\u001b[0;34m\u001b[0m\u001b[0;34m\u001b[0m\u001b[0m\n\u001b[1;32m      8\u001b[0m \u001b[0mprint\u001b[0m\u001b[0;34m(\u001b[0m\u001b[0;34m\"hello world\"\u001b[0m\u001b[0;34m)\u001b[0m\u001b[0;34m\u001b[0m\u001b[0;34m\u001b[0m\u001b[0m\n",
            "\u001b[0;31mZeroDivisionError\u001b[0m: division by zero"
          ]
        }
      ],
      "source": [
        "print(\"hello world\")\n",
        "print(\"hello world\")\n",
        "print(\"hello world\")\n",
        "print(\"hello world\")\n",
        "print(\"hello world\")\n",
        "2/0\n",
        "print(\"hello world\")\n",
        "print(\"hello world\")\n",
        "print(\"hello world\")\n",
        "print(\"hello world\")\n",
        "print(\"hello world\")"
      ]
    },
    {
      "cell_type": "code",
      "execution_count": null,
      "id": "4922f476",
      "metadata": {
        "id": "4922f476",
        "outputId": "67e5f445-76cd-449c-a410-3f3cbec5c29c"
      },
      "outputs": [
        {
          "name": "stdout",
          "output_type": "stream",
          "text": [
            "The first number please : 5\n",
            "The second number please : 0\n",
            "Something went wrong...Try again.\n",
            "Probably it is because of 'division by zero' error\n"
          ]
        }
      ],
      "source": [
        "while True:\n",
        "    no_one = int(input(\"The first number please : \"))\n",
        "    no_two = int(input(\"The second number please : \"))\n",
        "    try:\n",
        "        division = no_one / no_two\n",
        "        print(\"The result of the division is : \", division)\n",
        "        break\n",
        "    except Exception as fırfırik:\n",
        "        print(\"Something went wrong...Try again.\")\n",
        "        print(\"Probably it is because of '{}' error\".format(fırfırik))\n",
        "        break"
      ]
    },
    {
      "cell_type": "code",
      "execution_count": null,
      "id": "ae17ebaf",
      "metadata": {
        "id": "ae17ebaf",
        "outputId": "763b5f3b-c795-4648-cbb3-92dd9ff16280"
      },
      "outputs": [
        {
          "name": "stdout",
          "output_type": "stream",
          "text": [
            "The first number please : 5\n",
            "The second number please : beş\n",
            "Something went wrong...Try again.\n",
            "Probably it is because of 'invalid literal for int() with base 10: 'beş'' error\n"
          ]
        }
      ],
      "source": [
        "while True:\n",
        "\n",
        "    try:\n",
        "        \n",
        "        no_one = int(input(\"The first number please : \"))\n",
        "        no_two = int(input(\"The second number please : \"))\n",
        "        \n",
        "        division = no_one / no_two\n",
        "        print(\"The result of the division is : \", division)\n",
        "        break\n",
        "    except Exception as fırfırik:\n",
        "        print(\"Something went wrong...Try again.\")\n",
        "        print(\"Probably it is because of '{}' error\".format(fırfırik))\n",
        "        break"
      ]
    },
    {
      "cell_type": "code",
      "execution_count": null,
      "id": "8d9d06e2",
      "metadata": {
        "id": "8d9d06e2",
        "outputId": "ea88482d-d1f3-4f0b-a276-a001cc6ec4c6"
      },
      "outputs": [
        {
          "ename": "NameError",
          "evalue": "name 'fırfırik' is not defined",
          "output_type": "error",
          "traceback": [
            "\u001b[0;31m---------------------------------------------------------------------------\u001b[0m",
            "\u001b[0;31mNameError\u001b[0m                                 Traceback (most recent call last)",
            "\u001b[0;32m<ipython-input-7-50ef1a20ff9a>\u001b[0m in \u001b[0;36m<module>\u001b[0;34m\u001b[0m\n\u001b[0;32m----> 1\u001b[0;31m \u001b[0mfırfırik\u001b[0m\u001b[0;34m\u001b[0m\u001b[0;34m\u001b[0m\u001b[0m\n\u001b[0m",
            "\u001b[0;31mNameError\u001b[0m: name 'fırfırik' is not defined"
          ]
        }
      ],
      "source": [
        "fırfırik"
      ]
    },
    {
      "cell_type": "code",
      "execution_count": null,
      "id": "2a941351",
      "metadata": {
        "id": "2a941351",
        "outputId": "820d45bf-84ca-48a8-bb2e-c7f9459c527a"
      },
      "outputs": [
        {
          "name": "stdout",
          "output_type": "stream",
          "text": [
            "Attempt to divide by zero\n"
          ]
        }
      ],
      "source": [
        "try:\n",
        "    x = 2/0\n",
        "\n",
        "except ZeroDivisionError:\n",
        "    print('Attempt to divide by zero')\n",
        "except:\n",
        "    print('Something else went wrong')"
      ]
    },
    {
      "cell_type": "code",
      "execution_count": null,
      "id": "787876c1",
      "metadata": {
        "id": "787876c1",
        "outputId": "da2b4a9e-8d5d-48ac-ab44-145e5d583c94"
      },
      "outputs": [
        {
          "name": "stdout",
          "output_type": "stream",
          "text": [
            "Something else went wrong\n"
          ]
        }
      ],
      "source": [
        "try:\n",
        "    x\n",
        "except ZeroDivisionError:\n",
        "    print('Attempt to divide by zero')\n",
        "except:\n",
        "    print('Something else went wrong')"
      ]
    },
    {
      "cell_type": "code",
      "execution_count": null,
      "id": "3436037e",
      "metadata": {
        "id": "3436037e",
        "outputId": "cbfbc795-ccab-43d9-b50e-0ffcde559fa7"
      },
      "outputs": [
        {
          "name": "stdout",
          "output_type": "stream",
          "text": [
            "Act in accordance with name error\n"
          ]
        }
      ],
      "source": [
        "try:\n",
        "    x\n",
        "except ZeroDivisionError:\n",
        "    print('Attempt to divide by zero')\n",
        "except NameError:\n",
        "    print('Act in accordance with name error')\n",
        "except:\n",
        "    print('Something else went wrong')"
      ]
    },
    {
      "cell_type": "code",
      "execution_count": null,
      "id": "16289622",
      "metadata": {
        "id": "16289622",
        "outputId": "cbffee7d-21d7-4fd0-e678-15ca296381d6"
      },
      "outputs": [
        {
          "ename": "ValueError",
          "evalue": "invalid literal for int() with base 10: 'on'",
          "output_type": "error",
          "traceback": [
            "\u001b[0;31m---------------------------------------------------------------------------\u001b[0m",
            "\u001b[0;31mValueError\u001b[0m                                Traceback (most recent call last)",
            "\u001b[0;32m<ipython-input-12-9db2c1f25cfb>\u001b[0m in \u001b[0;36m<module>\u001b[0;34m\u001b[0m\n\u001b[0;32m----> 1\u001b[0;31m \u001b[0mint\u001b[0m\u001b[0;34m(\u001b[0m\u001b[0;34m\"on\"\u001b[0m\u001b[0;34m)\u001b[0m\u001b[0;34m\u001b[0m\u001b[0;34m\u001b[0m\u001b[0m\n\u001b[0m",
            "\u001b[0;31mValueError\u001b[0m: invalid literal for int() with base 10: 'on'"
          ]
        }
      ],
      "source": [
        "int(\"on\")"
      ]
    },
    {
      "cell_type": "code",
      "execution_count": null,
      "id": "24535326",
      "metadata": {
        "id": "24535326",
        "outputId": "35f2c48f-20dc-43f3-8cdd-4dbc58c2640f"
      },
      "outputs": [
        {
          "name": "stdout",
          "output_type": "stream",
          "text": [
            "Something else went wrong\n"
          ]
        }
      ],
      "source": [
        "try:\n",
        "    int(\"on\")\n",
        "except ZeroDivisionError:\n",
        "    print('Attempt to divide by zero')\n",
        "except NameError:\n",
        "    print('Act in accordance with name error')\n",
        "except:\n",
        "    print('Something else went wrong')"
      ]
    },
    {
      "cell_type": "code",
      "execution_count": null,
      "id": "019875dc",
      "metadata": {
        "id": "019875dc",
        "outputId": "d7822615-fe76-4848-891e-26555905ab97"
      },
      "outputs": [
        {
          "name": "stdout",
          "output_type": "stream",
          "text": [
            "Act in accordance with value and type error\n"
          ]
        }
      ],
      "source": [
        "try:\n",
        "    int(\"on\")\n",
        "except ZeroDivisionError:\n",
        "    print('Attempt to divide by zero')\n",
        "except NameError:\n",
        "    print('Act in accordance with name error')\n",
        "except (ValueError, TypeError):\n",
        "    print('Act in accordance with value and type error')\n",
        "except:\n",
        "    print('Something else went wrong')"
      ]
    },
    {
      "cell_type": "code",
      "execution_count": null,
      "id": "1e4f3326",
      "metadata": {
        "id": "1e4f3326",
        "outputId": "a759b147-dfb4-4792-ed4c-9be8b7180db3"
      },
      "outputs": [
        {
          "name": "stdout",
          "output_type": "stream",
          "text": [
            "Act in accordance with value and type error\n"
          ]
        }
      ],
      "source": [
        "try:\n",
        "    4 + \"4\"\n",
        "except ZeroDivisionError:\n",
        "    print('Attempt to divide by zero')\n",
        "except NameError:\n",
        "    print('Act in accordance with name error')\n",
        "except (ValueError, TypeError):\n",
        "    print('Act in accordance with value and type error')\n",
        "except:\n",
        "    print('Something else went wrong')"
      ]
    },
    {
      "cell_type": "code",
      "execution_count": null,
      "id": "4701a3be",
      "metadata": {
        "id": "4701a3be",
        "outputId": "c627dc2e-d8e9-4656-97aa-0974b67e7dbd"
      },
      "outputs": [
        {
          "name": "stdout",
          "output_type": "stream",
          "text": [
            "Attempt to divide by zero\n"
          ]
        }
      ],
      "source": [
        "try:\n",
        "    4 / 0\n",
        "except ArithmeticError:\n",
        "    print('Attempt to divide by zero')\n",
        "except NameError:\n",
        "    print('Act in accordance with name error')\n",
        "except (ValueError, TypeError):\n",
        "    print('Act in accordance with value and type error')\n",
        "except:\n",
        "    print('Something else went wrong')"
      ]
    },
    {
      "cell_type": "code",
      "execution_count": null,
      "id": "2586ff34",
      "metadata": {
        "id": "2586ff34"
      },
      "outputs": [],
      "source": [
        "fruits = [\"banana\", \"mango\", \"pear\", \"apple\", \"kiwi\", \"grape\"]"
      ]
    },
    {
      "cell_type": "code",
      "execution_count": null,
      "id": "7f2193d8",
      "metadata": {
        "id": "7f2193d8",
        "outputId": "b51ec95b-5217-4e30-9511-ad91afc257d6"
      },
      "outputs": [
        {
          "name": "stdout",
          "output_type": "stream",
          "text": [
            "Pick an index number to choose your favorite fruit5\n",
            "Your favorite fruit is grape\n"
          ]
        }
      ],
      "source": [
        "while True :\n",
        "    \n",
        "    try :\n",
        "        index = int(input(\"Pick an index number to choose your favorite fruit\"))\n",
        "        print(\"Your favorite fruit is\", fruits[index])\n",
        "        break\n",
        "        \n",
        "    except IndexError :\n",
        "        print(\"There is no such an index. Try again!\")\n",
        "        \n",
        "    except ValueError :\n",
        "        print(\"You should enter integer. Try again!\")"
      ]
    },
    {
      "cell_type": "code",
      "execution_count": null,
      "id": "534e03ee",
      "metadata": {
        "id": "534e03ee",
        "outputId": "af51c796-6e3a-4aff-8a76-d7fb7b2cc2b5"
      },
      "outputs": [
        {
          "name": "stdout",
          "output_type": "stream",
          "text": [
            "Pick an index number to choose your favorite fruit9\n",
            "There is no such an index. Try again!\n",
            "Pick an index number to choose your favorite fruitdört\n",
            "You should enter integer. Try again!\n",
            "Pick an index number to choose your favorite fruit-1\n",
            "Your favorite fruit is grape\n"
          ]
        }
      ],
      "source": [
        "while True :\n",
        "    \n",
        "    try :\n",
        "        index = int(input(\"Pick an index number to choose your favorite fruit\"))\n",
        "        print(\"Your favorite fruit is\", fruits[index])\n",
        "        break\n",
        "        \n",
        "    except IndexError :\n",
        "        print(\"There is no such an index. Try again!\")\n",
        "        \n",
        "    except ValueError :\n",
        "        print(\"You should enter integer. Try again!\")"
      ]
    },
    {
      "cell_type": "code",
      "execution_count": null,
      "id": "f88b9b5b",
      "metadata": {
        "id": "f88b9b5b",
        "outputId": "156f3724-3683-48f8-ce68-cccb5916a81b"
      },
      "outputs": [
        {
          "name": "stdout",
          "output_type": "stream",
          "text": [
            "you have 3 right.\n",
            "picka an index number.beş\n",
            "Value error. You have 2 right left. Try again!\n",
            "Our fruits are always fresh!\n",
            "you have 2 right.\n",
            "picka an index number.55\n",
            "Index error. You have 1 right left. Try again!\n",
            "Our fruits are always fresh!\n",
            "you have 1 right.\n",
            "picka an index number.3\n",
            "Your favorite fruit is apple\n",
            "Congrats! You've entered valid input.\n",
            "Our fruits are always fresh!\n"
          ]
        }
      ],
      "source": [
        "counter = 3\n",
        "\n",
        "while counter > 0 :\n",
        "    \n",
        "    try :\n",
        "        print(f\"you have {counter} right.\")\n",
        "        index = int(input(\"picka an index number.\"))\n",
        "        print(\"Your favorite fruit is\", fruits[index])\n",
        "        \n",
        "    except IndexError :\n",
        "        counter -= 1\n",
        "        print(f\"Index error. You have {counter} right left. Try again!\")\n",
        "    \n",
        "    except ValueError :\n",
        "        counter -= 1\n",
        "        print(f\"Value error. You have {counter} right left. Try again!\")        \n",
        "        \n",
        "    else :\n",
        "        print(\"Congrats! You've entered valid input.\")\n",
        "        break        \n",
        "    finally :\n",
        "        print(\"Our fruits are always fresh!\")"
      ]
    },
    {
      "cell_type": "code",
      "execution_count": null,
      "id": "3be3bf29",
      "metadata": {
        "id": "3be3bf29",
        "outputId": "2527ef97-2832-4b67-8dce-9b257258c089"
      },
      "outputs": [
        {
          "data": {
            "text/plain": [
              "False"
            ]
          },
          "execution_count": 21,
          "metadata": {},
          "output_type": "execute_result"
        }
      ],
      "source": [
        "0 > 0"
      ]
    },
    {
      "cell_type": "code",
      "execution_count": null,
      "id": "76d103fa",
      "metadata": {
        "id": "76d103fa"
      },
      "outputs": [],
      "source": [
        "word = {1 : \"1\", 2 : \"2\"}"
      ]
    },
    {
      "cell_type": "code",
      "execution_count": null,
      "id": "d24527b3",
      "metadata": {
        "id": "d24527b3",
        "outputId": "40c64daa-bab0-40bc-e4d6-3d20129c3b6c"
      },
      "outputs": [
        {
          "data": {
            "text/plain": [
              "{1: '1', 2: '2'}"
            ]
          },
          "execution_count": 23,
          "metadata": {},
          "output_type": "execute_result"
        }
      ],
      "source": [
        "word"
      ]
    },
    {
      "cell_type": "code",
      "execution_count": null,
      "id": "61a161f7",
      "metadata": {
        "id": "61a161f7",
        "outputId": "cdc8c18a-0559-4fea-f5c3-96ff7600a62a"
      },
      "outputs": [
        {
          "data": {
            "text/plain": [
              "dict_keys([1, 2])"
            ]
          },
          "execution_count": 24,
          "metadata": {},
          "output_type": "execute_result"
        }
      ],
      "source": [
        "keys = word.keys()\n",
        "keys"
      ]
    },
    {
      "cell_type": "code",
      "execution_count": null,
      "id": "26715682",
      "metadata": {
        "id": "26715682"
      },
      "outputs": [],
      "source": [
        "word_1 = {}"
      ]
    },
    {
      "cell_type": "code",
      "execution_count": null,
      "id": "86418eaa",
      "metadata": {
        "id": "86418eaa"
      },
      "outputs": [],
      "source": [
        "word_1[3] = 1"
      ]
    },
    {
      "cell_type": "code",
      "execution_count": null,
      "id": "946c5690",
      "metadata": {
        "id": "946c5690",
        "outputId": "8791c5f7-eba3-4309-cb7a-81dbf9a7d3eb"
      },
      "outputs": [
        {
          "data": {
            "text/plain": [
              "{3: 1}"
            ]
          },
          "execution_count": 27,
          "metadata": {},
          "output_type": "execute_result"
        }
      ],
      "source": [
        "word_1"
      ]
    },
    {
      "cell_type": "code",
      "execution_count": null,
      "id": "dad86e21",
      "metadata": {
        "id": "dad86e21"
      },
      "outputs": [],
      "source": [
        "word_1[\"ali\"] = \"deli\""
      ]
    },
    {
      "cell_type": "code",
      "execution_count": null,
      "id": "f1fa18d3",
      "metadata": {
        "id": "f1fa18d3",
        "outputId": "c16da43b-daf2-4af8-dda3-bd7d98646641"
      },
      "outputs": [
        {
          "data": {
            "text/plain": [
              "{3: 1, 'ali': 'deli'}"
            ]
          },
          "execution_count": 29,
          "metadata": {},
          "output_type": "execute_result"
        }
      ],
      "source": [
        "word_1"
      ]
    },
    {
      "cell_type": "code",
      "execution_count": null,
      "id": "6a51367e",
      "metadata": {
        "id": "6a51367e"
      },
      "outputs": [],
      "source": [
        "word_2 = word_1.copy()"
      ]
    },
    {
      "cell_type": "code",
      "execution_count": null,
      "id": "3ad841ae",
      "metadata": {
        "id": "3ad841ae"
      },
      "outputs": [],
      "source": [
        "del word_2[\"ali\"]"
      ]
    },
    {
      "cell_type": "code",
      "execution_count": null,
      "id": "06b8b715",
      "metadata": {
        "id": "06b8b715",
        "outputId": "5aa3be28-d589-4ef5-a4fc-1e9059856792"
      },
      "outputs": [
        {
          "data": {
            "text/plain": [
              "{3: 1}"
            ]
          },
          "execution_count": 32,
          "metadata": {},
          "output_type": "execute_result"
        }
      ],
      "source": [
        "word_2"
      ]
    },
    {
      "cell_type": "code",
      "execution_count": null,
      "id": "6b40c114",
      "metadata": {
        "id": "6b40c114",
        "outputId": "88a26f2f-6d99-4b01-d060-4e9b38adcc93"
      },
      "outputs": [
        {
          "data": {
            "text/plain": [
              "{3: 1, 'p': 1}"
            ]
          },
          "execution_count": 33,
          "metadata": {},
          "output_type": "execute_result"
        }
      ],
      "source": [
        "word_2[\"p\"] = 1\n",
        "word_2"
      ]
    },
    {
      "cell_type": "code",
      "execution_count": null,
      "id": "1a7d5631",
      "metadata": {
        "id": "1a7d5631",
        "outputId": "b2c82e25-d4a6-405a-be5d-90e9ebec274a"
      },
      "outputs": [
        {
          "data": {
            "text/plain": [
              "{3: 1, 'p': 1, 'i': 1}"
            ]
          },
          "execution_count": 34,
          "metadata": {},
          "output_type": "execute_result"
        }
      ],
      "source": [
        "word_2[\"i\"] = 1\n",
        "word_2"
      ]
    },
    {
      "cell_type": "code",
      "execution_count": null,
      "id": "f359a642",
      "metadata": {
        "id": "f359a642",
        "outputId": "f3067955-dec0-4f78-90d1-51443e751cf9"
      },
      "outputs": [
        {
          "data": {
            "text/plain": [
              "True"
            ]
          },
          "execution_count": 35,
          "metadata": {},
          "output_type": "execute_result"
        }
      ],
      "source": [
        "\"i\" in word_2"
      ]
    },
    {
      "cell_type": "code",
      "execution_count": null,
      "id": "5025f4f3",
      "metadata": {
        "id": "5025f4f3",
        "outputId": "aa01b385-4f54-450c-f982-53a7d0f8d6d3"
      },
      "outputs": [
        {
          "data": {
            "text/plain": [
              "{3: 1, 'p': 1, 'i': 2}"
            ]
          },
          "execution_count": 37,
          "metadata": {},
          "output_type": "execute_result"
        }
      ],
      "source": [
        "word_2[\"i\"] = word_2[\"i\"] + 1\n",
        "word_2"
      ]
    },
    {
      "cell_type": "code",
      "execution_count": null,
      "id": "017e3b90",
      "metadata": {
        "id": "017e3b90"
      },
      "outputs": [],
      "source": [
        "string = \"bugün hüzünlüyüm. Ayrılık yakın. 2 session sonra...\""
      ]
    },
    {
      "cell_type": "code",
      "execution_count": null,
      "id": "a7d10185",
      "metadata": {
        "id": "a7d10185"
      },
      "outputs": [],
      "source": [
        "word_dict = {}"
      ]
    },
    {
      "cell_type": "code",
      "execution_count": null,
      "id": "d31ac67a",
      "metadata": {
        "id": "d31ac67a",
        "outputId": "5c2be66c-9ba4-4e1f-fc29-3afafe8e22f6"
      },
      "outputs": [
        {
          "name": "stdout",
          "output_type": "stream",
          "text": [
            "{'b': 1, 'u': 1, 'g': 1, 'ü': 5, 'n': 5, ' ': 6, 'h': 1, 'z': 1, 'l': 2, 'y': 3, 'm': 1, '.': 5, 'A': 1, 'r': 2, 'ı': 3, 'k': 2, 'a': 2, '2': 1, 's': 4, 'e': 1, 'i': 1, 'o': 2}\n"
          ]
        }
      ],
      "source": [
        "for n in string :\n",
        "\n",
        "    if n in word_dict :\n",
        "        word_dict[n] += 1\n",
        "        \n",
        "    else :\n",
        "        word_dict[n] = 1\n",
        "        \n",
        "print(word_dict)"
      ]
    },
    {
      "cell_type": "code",
      "execution_count": null,
      "id": "af17247c",
      "metadata": {
        "id": "af17247c"
      },
      "outputs": [],
      "source": [
        "veri = [\"a\", \"b\", True, (False, 1), {\"1\" : 2}, [1,2], {\"2\" : \"two\"}, {2, \"3\"}, \"c\", 23, 0]"
      ]
    },
    {
      "cell_type": "code",
      "execution_count": null,
      "id": "8296062a",
      "metadata": {
        "id": "8296062a"
      },
      "outputs": [],
      "source": [
        "tipler = [\"int\", \"str\", \"bool\", \"list\", \"tuple\", \"dict\", \"set\"]"
      ]
    },
    {
      "cell_type": "code",
      "execution_count": null,
      "id": "ad90e60f",
      "metadata": {
        "id": "ad90e60f"
      },
      "outputs": [],
      "source": [
        "{\"bool\" : 1, \"int\" : 2, \"list\" : 1, \"tuple\" : 1, \"str\" : 3}"
      ]
    },
    {
      "cell_type": "code",
      "execution_count": null,
      "id": "4b114684",
      "metadata": {
        "id": "4b114684",
        "outputId": "78569d56-b773-451e-ac8c-2f05f942b50d"
      },
      "outputs": [
        {
          "data": {
            "text/plain": [
              "{'int': 0, 'str': 0, 'bool': 0, 'list': 0, 'tuple': 0, 'dict': 0, 'set': 0}"
            ]
          },
          "execution_count": 48,
          "metadata": {},
          "output_type": "execute_result"
        }
      ],
      "source": [
        "{}.fromkeys(tipler, 0)"
      ]
    },
    {
      "cell_type": "code",
      "execution_count": null,
      "id": "0f95eecf",
      "metadata": {
        "id": "0f95eecf"
      },
      "outputs": [],
      "source": [
        "toplam = {}.fromkeys(tipler, 0)"
      ]
    },
    {
      "cell_type": "code",
      "execution_count": null,
      "id": "ce42099b",
      "metadata": {
        "id": "ce42099b",
        "outputId": "79fa6a3f-7817-4931-c71d-50cc8d51b9ec"
      },
      "outputs": [
        {
          "data": {
            "text/plain": [
              "11"
            ]
          },
          "execution_count": 50,
          "metadata": {},
          "output_type": "execute_result"
        }
      ],
      "source": [
        "len(veri)"
      ]
    },
    {
      "cell_type": "code",
      "execution_count": null,
      "id": "63dab72b",
      "metadata": {
        "id": "63dab72b",
        "outputId": "472a9c35-f8af-47a7-ba6a-d400855122dc"
      },
      "outputs": [
        {
          "data": {
            "text/plain": [
              "str"
            ]
          },
          "execution_count": 51,
          "metadata": {},
          "output_type": "execute_result"
        }
      ],
      "source": [
        "type(veri[0])"
      ]
    },
    {
      "cell_type": "code",
      "execution_count": null,
      "id": "fffe0fdd",
      "metadata": {
        "id": "fffe0fdd",
        "outputId": "5dfdcc57-2d57-4171-c1ff-d107982ef4eb"
      },
      "outputs": [
        {
          "data": {
            "text/plain": [
              "list"
            ]
          },
          "execution_count": 52,
          "metadata": {},
          "output_type": "execute_result"
        }
      ],
      "source": [
        "type(veri[5])"
      ]
    },
    {
      "cell_type": "code",
      "execution_count": null,
      "id": "564650da",
      "metadata": {
        "id": "564650da",
        "outputId": "9200713e-2843-490f-aecd-9ca750845741"
      },
      "outputs": [
        {
          "data": {
            "text/plain": [
              "True"
            ]
          },
          "execution_count": 53,
          "metadata": {},
          "output_type": "execute_result"
        }
      ],
      "source": [
        "type(veri[5]) == list"
      ]
    },
    {
      "cell_type": "code",
      "execution_count": null,
      "id": "5aeade5a",
      "metadata": {
        "id": "5aeade5a",
        "outputId": "1fc86b23-b982-46ad-bea3-8ea6fa21604f"
      },
      "outputs": [
        {
          "data": {
            "text/plain": [
              "False"
            ]
          },
          "execution_count": 54,
          "metadata": {},
          "output_type": "execute_result"
        }
      ],
      "source": [
        "type(veri[5]) == str"
      ]
    },
    {
      "cell_type": "code",
      "execution_count": null,
      "id": "3d87c9d0",
      "metadata": {
        "id": "3d87c9d0",
        "outputId": "631133f6-a0b7-4f85-c99b-f387d902117f"
      },
      "outputs": [
        {
          "data": {
            "text/plain": [
              "{'int': 2, 'str': 3, 'bool': 1, 'list': 1, 'tuple': 1, 'dict': 2, 'set': 1}"
            ]
          },
          "execution_count": 57,
          "metadata": {},
          "output_type": "execute_result"
        }
      ],
      "source": [
        "for i in range(len(veri)) :\n",
        "    \n",
        "    if type(veri[i]) == int : toplam[\"int\"] += 1\n",
        "    elif type(veri[i]) == str : toplam[\"str\"] += 1\n",
        "    elif type(veri[i]) == bool : toplam[\"bool\"] += 1\n",
        "    elif type(veri[i]) == list : toplam[\"list\"] += 1\n",
        "    elif type(veri[i]) == tuple : toplam[\"tuple\"] += 1\n",
        "    elif type(veri[i]) == dict : toplam[\"dict\"] += 1\n",
        "    elif type(veri[i]) == set : toplam[\"set\"] += 1\n",
        "        \n",
        "toplam"
      ]
    },
    {
      "cell_type": "code",
      "execution_count": null,
      "id": "df6eddf9",
      "metadata": {
        "id": "df6eddf9"
      },
      "outputs": [],
      "source": [
        "import os"
      ]
    },
    {
      "cell_type": "code",
      "execution_count": null,
      "id": "61d9b8f3",
      "metadata": {
        "id": "61d9b8f3",
        "outputId": "78fae04d-871e-444f-aa32-b371ada3af09"
      },
      "outputs": [
        {
          "data": {
            "text/plain": [
              "'/Users/ozgurhamdullah/jobs/CW/pythonic/python_sessions/PythonSessions-Cohort-010'"
            ]
          },
          "execution_count": 61,
          "metadata": {},
          "output_type": "execute_result"
        }
      ],
      "source": [
        "pwd"
      ]
    },
    {
      "cell_type": "code",
      "execution_count": null,
      "id": "3b68d51c",
      "metadata": {
        "id": "3b68d51c"
      },
      "outputs": [],
      "source": [
        "dosya_içeriği = os.listdir()"
      ]
    },
    {
      "cell_type": "code",
      "execution_count": null,
      "id": "314bc240",
      "metadata": {
        "id": "314bc240",
        "outputId": "71c090ec-f89c-45a6-a5a6-e168a151cc85"
      },
      "outputs": [
        {
          "data": {
            "text/plain": [
              "['13_PythonBasic_11-November-2021.ipynb',\n",
              " '15_PythonBasic_17-November-2021.ipynb',\n",
              " 'dummy.txt',\n",
              " '17_PythonBasic_29-November-2021.ipynb',\n",
              " '08_PythonBasic_18-October-2021.ipynb',\n",
              " '16_PythonBasic_22-November-2021.ipynb',\n",
              " '20_PythonBasic_09-December-2021.ipynb',\n",
              " '12_PythonBasic_8-November-2021.ipynb',\n",
              " '.DS_Store',\n",
              " 'my_csv_file.csv',\n",
              " 'hata1.txt',\n",
              " '11_PythonBasic_4-November-2021.ipynb',\n",
              " '03_PythonBasic_30-September-2021.ipynb',\n",
              " 'titanic_vefat.csv',\n",
              " 'fruits3.txt',\n",
              " 'fruits.txt',\n",
              " '03_PythonBasic_30-September-2021(Teacher).ipynb',\n",
              " '10_PythonBasic_1-November-2021.ipynb',\n",
              " 'fruits2.txt',\n",
              " 'fishes.txt',\n",
              " '04_PythonBasic_04-October-2021(Teacher).ipynb',\n",
              " 'test.csv',\n",
              " '14_PythonBasic_15-November-2021.ipynb',\n",
              " 'titanic_bayanlar.csv',\n",
              " '21_PythonBasic_13-December-2021.ipynb',\n",
              " 'flowers.txt',\n",
              " '01_PythonBasic_23-September-2021(Teacher).ipynb',\n",
              " '18_PythonBasic_02-December-2021.ipynb',\n",
              " '02_PythonBasic_27-September-2021.ipynb',\n",
              " '06_PythonBasic_11-October-2021(Teacher).ipynb',\n",
              " 'titanic.csv',\n",
              " '08_PythonBasic_18-October-2021(Teacher).ipynb',\n",
              " 'istiklal.txt',\n",
              " '04_PythonBasic_04-October-2021.ipynb',\n",
              " 'rumi.txt',\n",
              " 'fruits_dash.csv',\n",
              " '.ipynb_checkpoints',\n",
              " '07_PythonBasic_14-October-2021(Teacher).ipynb',\n",
              " '02_PythonBasic_27-September-2021(Teacher).ipynb',\n",
              " '06_PythonBasic_11-October-2021.ipynb',\n",
              " 'fruits.csv',\n",
              " 'insan_siiri.txt',\n",
              " '05_PythonBasic_07-October-2021.ipynb',\n",
              " '07_PythonBasic_14-October-2021.ipynb',\n",
              " '05_PythonBasic_07-October-2021(Teacher).ipynb',\n",
              " '19_PythonBasic_07-December-2021.ipynb',\n",
              " '09_PythonBasic_21-October-2021.ipynb',\n",
              " 'hata.txt',\n",
              " 'PythonInterestingTeachingCodes.ipynb',\n",
              " '01_PythonBasic_23-September-2021.ipynb']"
            ]
          },
          "execution_count": 60,
          "metadata": {},
          "output_type": "execute_result"
        }
      ],
      "source": [
        "dosya_içeriği"
      ]
    },
    {
      "cell_type": "code",
      "execution_count": null,
      "id": "e642b539",
      "metadata": {
        "id": "e642b539"
      },
      "outputs": [],
      "source": [
        "import shutil"
      ]
    },
    {
      "cell_type": "code",
      "execution_count": null,
      "id": "a1fdb380",
      "metadata": {
        "id": "a1fdb380",
        "outputId": "e2958e93-cba9-4fac-e1e7-749c6206c631"
      },
      "outputs": [
        {
          "data": {
            "text/plain": [
              "'/Users/ozgurhamdullah/jobs/CW/pythonic/python_sessions/PythonSessions-Cohort-010.zip'"
            ]
          },
          "execution_count": 67,
          "metadata": {},
          "output_type": "execute_result"
        }
      ],
      "source": [
        "shutil.make_archive(\"/Users/ozgurhamdullah/jobs/CW/pythonic/python_sessions/PythonSessions-Cohort-010\", \"zip\", \"/Users/ozgurhamdullah/jobs/CW/pythonic/python_sessions/PythonSessions-Cohort-010\")\n"
      ]
    },
    {
      "cell_type": "code",
      "execution_count": null,
      "id": "614584fd",
      "metadata": {
        "id": "614584fd",
        "outputId": "f9816b29-5ec0-464c-c7d4-5863563d0c9f"
      },
      "outputs": [
        {
          "data": {
            "text/plain": [
              "['13_PythonBasic_11-November-2021.ipynb',\n",
              " '15_PythonBasic_17-November-2021.ipynb',\n",
              " 'dummy.txt',\n",
              " '17_PythonBasic_29-November-2021.ipynb',\n",
              " '08_PythonBasic_18-October-2021.ipynb',\n",
              " '16_PythonBasic_22-November-2021.ipynb',\n",
              " '20_PythonBasic_09-December-2021.ipynb',\n",
              " '12_PythonBasic_8-November-2021.ipynb',\n",
              " '.DS_Store',\n",
              " 'my_csv_file.csv',\n",
              " 'hata1.txt',\n",
              " '11_PythonBasic_4-November-2021.ipynb',\n",
              " '03_PythonBasic_30-September-2021.ipynb',\n",
              " 'titanic_vefat.csv',\n",
              " 'fruits3.txt',\n",
              " 'fruits.txt',\n",
              " '03_PythonBasic_30-September-2021(Teacher).ipynb',\n",
              " '10_PythonBasic_1-November-2021.ipynb',\n",
              " 'fruits2.txt',\n",
              " 'fishes.txt',\n",
              " '04_PythonBasic_04-October-2021(Teacher).ipynb',\n",
              " 'test.csv',\n",
              " '14_PythonBasic_15-November-2021.ipynb',\n",
              " 'titanic_bayanlar.csv',\n",
              " '21_PythonBasic_13-December-2021.ipynb',\n",
              " 'flowers.txt',\n",
              " '01_PythonBasic_23-September-2021(Teacher).ipynb',\n",
              " '18_PythonBasic_02-December-2021.ipynb',\n",
              " '02_PythonBasic_27-September-2021.ipynb',\n",
              " '06_PythonBasic_11-October-2021(Teacher).ipynb',\n",
              " 'titanic.csv',\n",
              " '08_PythonBasic_18-October-2021(Teacher).ipynb',\n",
              " 'istiklal.txt',\n",
              " '04_PythonBasic_04-October-2021.ipynb',\n",
              " 'rumi.txt',\n",
              " 'fruits_dash.csv',\n",
              " '.ipynb_checkpoints',\n",
              " '07_PythonBasic_14-October-2021(Teacher).ipynb',\n",
              " '02_PythonBasic_27-September-2021(Teacher).ipynb',\n",
              " '06_PythonBasic_11-October-2021.ipynb',\n",
              " 'fruits.csv',\n",
              " 'insan_siiri.txt',\n",
              " '05_PythonBasic_07-October-2021.ipynb',\n",
              " '07_PythonBasic_14-October-2021.ipynb',\n",
              " '05_PythonBasic_07-October-2021(Teacher).ipynb',\n",
              " '19_PythonBasic_07-December-2021.ipynb',\n",
              " '09_PythonBasic_21-October-2021.ipynb',\n",
              " 'hata.txt',\n",
              " 'PythonInterestingTeachingCodes.ipynb',\n",
              " '01_PythonBasic_23-September-2021.ipynb']"
            ]
          },
          "execution_count": 68,
          "metadata": {},
          "output_type": "execute_result"
        }
      ],
      "source": [
        "dosya_içeriği = os.listdir()\n",
        "dosya_içeriği"
      ]
    },
    {
      "cell_type": "code",
      "execution_count": null,
      "id": "b4ec0ac7",
      "metadata": {
        "id": "b4ec0ac7"
      },
      "outputs": [],
      "source": [
        ""
      ]
    }
  ],
  "metadata": {
    "kernelspec": {
      "display_name": "Python 3",
      "language": "python",
      "name": "python3"
    },
    "language_info": {
      "codemirror_mode": {
        "name": "ipython",
        "version": 3
      },
      "file_extension": ".py",
      "mimetype": "text/x-python",
      "name": "python",
      "nbconvert_exporter": "python",
      "pygments_lexer": "ipython3",
      "version": "3.8.8"
    },
    "colab": {
      "name": "21_PythonBasic_13-December-2021.ipynb",
      "provenance": [],
      "include_colab_link": true
    }
  },
  "nbformat": 4,
  "nbformat_minor": 5
}
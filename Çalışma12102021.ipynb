{
  "nbformat": 4,
  "nbformat_minor": 0,
  "metadata": {
    "colab": {
      "name": "Çalışma12102021.ipynb",
      "provenance": [],
      "authorship_tag": "ABX9TyPBhvhO7O2p2NnKVbVf1Zvg"
    },
    "kernelspec": {
      "name": "python3",
      "display_name": "Python 3"
    },
    "language_info": {
      "name": "python"
    }
  },
  "cells": [
    {
      "cell_type": "code",
      "metadata": {
        "colab": {
          "base_uri": "https://localhost:8080/"
        },
        "id": "e2x84uXR_eL0",
        "outputId": "8b0c0b2e-6863-499d-bca1-281b1b9f492e"
      },
      "source": [
        "numbers = [1, 3, 7, 4, 3, 0, 3, 6, 3]\n",
        "\n",
        "most_frequent = max(numbers, key = numbers.count)\n",
        "\n",
        "print('the most frequent number is {} and it was {} times repeated' .format(most_frequent,numbers.count(most_frequent)))\n",
        "\n",
        "\n",
        "\n"
      ],
      "execution_count": null,
      "outputs": [
        {
          "output_type": "stream",
          "name": "stdout",
          "text": [
            "the most frequent number is 3 and it was 4 times repeated\n"
          ]
        }
      ]
    },
    {
      "cell_type": "code",
      "metadata": {
        "colab": {
          "base_uri": "https://localhost:8080/"
        },
        "id": "TpHhn2g-_jQA",
        "outputId": "45eeb6b9-84d3-4989-b018-f6cfe23f24de"
      },
      "source": [
        "girdi = \"selam merhaba test deneme test\".split()\n",
        "girdi = list(set(girdi))\n",
        "cikti = sorted(girdi)\n",
        "print (cikti)"
      ],
      "execution_count": null,
      "outputs": [
        {
          "output_type": "stream",
          "name": "stdout",
          "text": [
            "['deneme', 'merhaba', 'selam', 'test']\n"
          ]
        }
      ]
    },
    {
      "cell_type": "code",
      "metadata": {
        "colab": {
          "base_uri": "https://localhost:8080/"
        },
        "id": "Yx-3Mv-Z_jSg",
        "outputId": "818cf8fb-727f-4939-e604-9a1168e6df23"
      },
      "source": [
        "girdi = \"selam merhaba test deneme test\"\n",
        "girdi = list(set(girdi))\n",
        "#cikti = sorted(girdi)\n",
        "print (girdi)"
      ],
      "execution_count": null,
      "outputs": [
        {
          "output_type": "stream",
          "name": "stdout",
          "text": [
            "['s', 'l', 'a', 'r', 'n', 'm', 'd', 'e', 'h', ' ', 'b', 't']\n"
          ]
        }
      ]
    },
    {
      "cell_type": "code",
      "metadata": {
        "colab": {
          "base_uri": "https://localhost:8080/"
        },
        "id": "aOZQfb1d_jYA",
        "outputId": "e90c94fc-e9c3-4c3e-e981-ab309e4d889e"
      },
      "source": [
        "a_list = [1, 1, 2]\n",
        "\n",
        "most_common = max(a_list, key = a_list.count)\n",
        "\n",
        "print(most_common)"
      ],
      "execution_count": null,
      "outputs": [
        {
          "output_type": "stream",
          "name": "stdout",
          "text": [
            "1\n"
          ]
        }
      ]
    },
    {
      "cell_type": "code",
      "metadata": {
        "id": "VS_OlQXd_jtT"
      },
      "source": [
        ""
      ],
      "execution_count": null,
      "outputs": []
    },
    {
      "cell_type": "code",
      "metadata": {
        "colab": {
          "base_uri": "https://localhost:8080/"
        },
        "id": "ACTM-KgY_jwL",
        "outputId": "96c4d546-886b-4101-800a-5da81f79237e"
      },
      "source": [
        "numbers = [1, 3, 7, 4, 3, 0, 3, 6, 3]\n",
        "\n",
        "most_frequent = max(numbers, key = numbers.count)\n",
        "\n",
        "print('the most frequent number is {} and it was {} times repeated' .format(most_frequent,numbers.count(most_frequent)))"
      ],
      "execution_count": null,
      "outputs": [
        {
          "output_type": "stream",
          "name": "stdout",
          "text": [
            "the most frequent number is 3 and it was 4 times repeated\n"
          ]
        }
      ]
    },
    {
      "cell_type": "code",
      "metadata": {
        "id": "LEOHWTzq_jy_"
      },
      "source": [
        ""
      ],
      "execution_count": null,
      "outputs": []
    }
  ]
}
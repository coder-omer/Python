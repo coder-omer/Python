{
  "nbformat": 4,
  "nbformat_minor": 0,
  "metadata": {
    "colab": {
      "name": "exercise-116.ipynb",
      "provenance": [],
      "collapsed_sections": []
    },
    "kernelspec": {
      "name": "python3",
      "display_name": "Python 3"
    },
    "language_info": {
      "name": "python"
    }
  },
  "cells": [
    {
      "cell_type": "code",
      "metadata": {
        "colab": {
          "base_uri": "https://localhost:8080/"
        },
        "id": "wOpNcNUSr3cj",
        "outputId": "e78583a3-87bc-443b-f77f-c440c9a25cdb"
      },
      "source": [
        "0 ile 999 arasında girdiğim sayıyı harfe çevirerek bana söyleyen python program codu\n",
        "num = list(map(int,input(\"Enter your number: \")))\n",
        "birler_bas= [\"\",\"bir\", \"iki\", \"üç\", \"dört\", \"beş\", \"altı\", \"yedi\", \"sekiz\", \"dokuz\"]\n",
        "onlar_bas = [\"\", \"on\", \"yirmi\", \"otuz\", \"kırk\", \"elli\", \"altmış\", \"yetmiş\", \"seksen\", \"doksan\"]\n",
        "yüzler_bas= [\"\", \"yüz\", \"iki yüz\", \"üç yüz\", \"dört yüz\", \"beş yüz\", \"altı yüz\", \"yedi yüz\", \"sekiz yüz\", \"dokuz yüz\"]\n",
        "print(num)\n",
        "if len(num)==3: \n",
        "  print(yüzler_bas[num[0]],onlar_bas[num[1]],birler_bas[num[2]] )\n",
        "elif len(num)==2:\n",
        "  print(onlar_bas[num[0]], birler_bas[num[1]] )\n",
        "else:\n",
        "  print(birler_bas[num[0]])\n"
      ],
      "execution_count": null,
      "outputs": [
        {
          "output_type": "stream",
          "name": "stdout",
          "text": [
            "Enter your number: 890\n",
            "[8, 9, 0]\n",
            "sekiz yüz doksan \n"
          ]
        }
      ]
    },
    {
      "cell_type": "markdown",
      "metadata": {
        "id": "Q1w4KAKC3rLO"
      },
      "source": [
        "                        Exercise -116: \n",
        "\n",
        "                        \n",
        " 0 ile 999 arasında girdiğim sayıyı harfe çevirerek bana söyleyen python program codu"
      ]
    },
    {
      "cell_type": "code",
      "metadata": {
        "id": "y7O6nit1r3fS"
      },
      "source": [
        "num = int(input(\"Enter your number: \"))\n",
        "ones = [\"sıfır\", \"bir\", \"iki\", \"üç\", \"dört\", \"beş\", \"altı\", \"yedi\", \"sekiz\", \"dokuz\"]\n",
        "tens = [\"\", \"on\", \"yirmi\", \"otuz\", \"kırk\", \"elli\", \"altmış\", \"yetmiş\", \"seksen\", \"doksan\"]\n",
        "hundred = [\"\", \"yüz\", \"iki yüz\", \"üç yüz\", \"dört yüz\", \"beş yüz\", \"altı yüz\", \"yedi yüz\", \"sekiz yüz\", \"dokuz yüz\"]\n",
        "\n",
        "digit_hundred = (num % 1000 - num % 100) // 100\n",
        "digit_tens = (num % 100 -num % 10 ) // 10 \n",
        "digit_ones = num % 10 \n",
        "\n",
        "\n",
        "if len(str(num)) == 1 :\n",
        "  print(ones[digit_ones])\n",
        "elif len(str(num)) == 2 :\n",
        "  if str(num).endswith(\"0\"):\n",
        "    print(tens[digit_tens])\n",
        "  else :\n",
        "    print(tens[digit_tens], ones[digit_ones])\n",
        "elif len(str(num)) == 3 :\n",
        "  if str(num).endswith(\"0\") :\n",
        "    print(hundred[digit_hundred],tens[digit_tens])\n",
        "  else :\n",
        "     print(hundred[digit_hundred],tens[digit_tens], ones[digit_ones])\n"
      ],
      "execution_count": null,
      "outputs": []
    },
    {
      "cell_type": "code",
      "metadata": {
        "id": "R87OkKiR3eAr"
      },
      "source": [
        "num = input(\"Enter your number: \")\n",
        "ones = {0: \"\", 1: \"bir\", 2: \"iki\", 3: \"üç\", 4: \"dört\", 5: \"beş\", 6: \"altı\", 7: \"yedi\", 8: \"sekiz\", 9: \"dokuz\"}\n",
        "tens = {0: \"\", 1: \"on\", 2: \"yirmi\",3: \"otuz\",4: \"kırk\",5: \"elli\",6: \"altmış\",7: \"yetmiş\",8: \"seksen\",9: \"doksan\"}\n",
        "hund_mil=[\"yüz\",\"bin\", \"milyon\", \"milyar\"]\n",
        "\n",
        "arry = list(num)\n",
        "print(arry)\n",
        "if num == \"0\":\n",
        "    print(\"Sıfır\")\n",
        "if len(arry) == 1:\n",
        "    print(ones[int(arry[0])])\n",
        "elif len(arry) == 2:\n",
        "    print(tens[int(arry[0])],ones[int(arry[1])])\n",
        "elif len(arry) == 3:\n",
        "    print(ones[int(arry[0])],hund_mil[0],tens[int(arry[1])],ones[int(arry[2])])"
      ],
      "execution_count": null,
      "outputs": []
    },
    {
      "cell_type": "code",
      "metadata": {
        "id": "__gunOC13eDs"
      },
      "source": [
        "num = input(\"Enter your number: \")\n",
        "ones = [\"sıfır\", \"bir\", \"iki\", \"üç\", \"dört\", \"beş\", \"altı\", \"yedi\", \"sekiz\", \"dokuz\"]\n",
        "tens = [\"\", \"on\", \"yirmi\", \"otuz\", \"kırk\", \"elli\", \"altmış\", \"yetmiş\", \"seksen\", \"doksan\"]\n",
        "hundred = [\"\", \"yüz\", \"iki yüz\", \"üç yüz\", \"dört yüz\", \"beş yüz\", \"altı yüz\", \"yedi yüz\", \"sekiz yüz\", \"dokuz yüz\"]\n",
        "thousand = [\"\", \"bin\", \"iki bin\", \"üç bin\", \"dört bin\", \"beş bin\", \"altı bin\", \"yedi bin\", \"sekiz bin\", \"dokuz bin\"]\n",
        "\n",
        "arry = list(num)\n",
        "print(arry)\n",
        "if len(str(num)) == 1 :\n",
        "  print(ones[int(arry[0])])\n",
        "elif len(str(num)) == 2 :\n",
        "  if str(num).endswith(\"0\"):\n",
        "    print(tens[int(arry[0])])\n",
        "  else :\n",
        "    print(tens[int(arry[0])], ones[int(arry[1])])\n",
        "elif len(str(num)) == 3 :\n",
        "   if str(num).endswith(\"0\") :\n",
        "     print(hundred[int(arry[0])],tens[int(arry[1])])\n",
        "   else :\n",
        "      print(hundred[int(arry[0])],tens[int(arry[1])], ones[int(arry[2])])\n",
        "elif len(str(num)) == 4 :\n",
        "    if str(num).endswith(\"00\"):\n",
        "        print(thousand[int(arry[0])], hundred[int(arry[1])])\n",
        "    elif str(num).endswith(\"0\"):\n",
        "        print(thousand[int(arry[0])], hundred[int(arry[1])],tens[int(arry[2])])\n",
        "    else:\n",
        "        print(thousand[int(arry[0])], hundred[int(arry[1])], tens[int(arry[2])],ones[int(arry[3])])\n",
        "\n",
        "elif len(str(num)) == 5 :\n",
        "    if str(num).endswith(\"0000\"):\n",
        "        print(tens[int(arry[0])], thousand[1])\n",
        "    elif str(num).endswith(\"000\"):\n",
        "        print(tens[int(arry[0])],ones[int(arry[1])],thousand[1])\n",
        "    elif str(num).endswith(\"00\"):\n",
        "        print(tens[int(arry[0])],ones[int(arry[1])],thousand[1], hundred[int(arry[2])])\n",
        "    elif str(num).endswith(\"0\"):\n",
        "        print(tens[int(arry[0])],ones[int(arry[1])],thousand[1], hundred[int(arry[2])],tens[int(arry[3])])\n",
        "    else:\n",
        "        print(tens[int(arry[0])],ones[int(arry[1])],thousand[1], hundred[int(arry[2])],tens[int(arry[3])],ones[int(arry[4])])"
      ],
      "execution_count": null,
      "outputs": []
    },
    {
      "cell_type": "code",
      "metadata": {
        "id": "qGfwYG013eGI"
      },
      "source": [
        "num = int(input(\"Enter your number: \"))\n",
        "ones = [\"sıfır\", \"bir\", \"iki\", \"üç\", \"dört\", \"beş\", \"altı\", \"yedi\", \"sekiz\", \"dokuz\"]\n",
        "tens = [\"\", \"on\", \"yirmi\", \"otuz\", \"kırk\", \"elli\", \"altmış\", \"yetmiş\", \"seksen\", \"doksan\"]\n",
        "hundred = [\"\", \"yüz\", \"iki yüz\", \"üç yüz\", \"dört yüz\", \"beş yüz\", \"altı yüz\", \"yedi yüz\", \"sekiz yüz\", \"dokuz yüz\"]\n",
        "\n",
        "digit_hundred = (num % 1000 - num % 100) // 100\n",
        "digit_tens = (num % 100 -num % 10 ) // 10\n",
        "digit_ones = num % 10\n",
        "\n",
        "\n",
        "if len(str(num)) == 1 :\n",
        "  print(ones[digit_ones])\n",
        "elif len(str(num)) == 2 :\n",
        "  if str(num).endswith(\"0\"):\n",
        "    print(tens[digit_tens])\n",
        "  else :\n",
        "    print(tens[digit_tens], ones[digit_ones])\n",
        "elif len(str(num)) == 3 :\n",
        "  if str(num).endswith(\"0\") :\n",
        "    print(hundred[digit_hundred],tens[digit_tens])\n",
        "  else :\n",
        "     print(hundred[digit_hundred],tens[digit_tens], ones[digit_ones])"
      ],
      "execution_count": null,
      "outputs": []
    },
    {
      "cell_type": "code",
      "metadata": {
        "colab": {
          "base_uri": "https://localhost:8080/"
        },
        "id": "wZD6NiNUr3h4",
        "outputId": "9afb7428-d931-4e4a-d7d3-4abfe2bc3eb6"
      },
      "source": [
        "num = int(input(\"Enter your number: \"))\n",
        "print(num%1000-num%100)\n",
        "600//100"
      ],
      "execution_count": null,
      "outputs": [
        {
          "output_type": "stream",
          "name": "stdout",
          "text": [
            "Enter your number: 654\n",
            "600\n"
          ]
        },
        {
          "output_type": "execute_result",
          "data": {
            "text/plain": [
              "6"
            ]
          },
          "metadata": {},
          "execution_count": 16
        }
      ]
    },
    {
      "cell_type": "code",
      "metadata": {
        "colab": {
          "base_uri": "https://localhost:8080/"
        },
        "id": "BkNKhNZpr35N",
        "outputId": "e34241f5-c825-438c-ee46-cb2fa5561568"
      },
      "source": [
        "454%1000"
      ],
      "execution_count": null,
      "outputs": [
        {
          "output_type": "execute_result",
          "data": {
            "text/plain": [
              "454"
            ]
          },
          "metadata": {},
          "execution_count": 11
        }
      ]
    },
    {
      "cell_type": "code",
      "metadata": {
        "colab": {
          "base_uri": "https://localhost:8080/"
        },
        "id": "Xv1-QQWsY67c",
        "outputId": "1cb9bb1b-a089-4ea9-f153-cdd5442f433c"
      },
      "source": [
        "8897//1000   \n"
      ],
      "execution_count": null,
      "outputs": [
        {
          "output_type": "execute_result",
          "data": {
            "text/plain": [
              "8"
            ]
          },
          "metadata": {},
          "execution_count": 15
        }
      ]
    },
    {
      "cell_type": "code",
      "metadata": {
        "id": "dEQ0oAi5SHy_",
        "colab": {
          "base_uri": "https://localhost:8080/"
        },
        "outputId": "de9f4af9-8878-4b54-e8c5-a1443ce9c628"
      },
      "source": [
        "n = int(input('put the number: '))\n",
        "\n",
        "print(sum([i for i in range(n+1)]))"
      ],
      "execution_count": null,
      "outputs": [
        {
          "output_type": "stream",
          "name": "stdout",
          "text": [
            "put the number: 8\n",
            "36\n"
          ]
        }
      ]
    },
    {
      "cell_type": "code",
      "metadata": {
        "id": "ORLThqsvSH1w"
      },
      "source": [
        "def sum_double(x, y):\n",
        "    return [(x+y)*2 if x==y else x+y]"
      ],
      "execution_count": null,
      "outputs": []
    },
    {
      "cell_type": "code",
      "metadata": {
        "id": "lzloRcBtSH4Y",
        "colab": {
          "base_uri": "https://localhost:8080/"
        },
        "outputId": "65fed96d-3051-45e5-ed24-a661c50aa71d"
      },
      "source": [
        "print(sum_double(5,5))"
      ],
      "execution_count": null,
      "outputs": [
        {
          "output_type": "stream",
          "name": "stdout",
          "text": [
            "[20]\n"
          ]
        }
      ]
    },
    {
      "cell_type": "code",
      "metadata": {
        "id": "sw-MhfBqX6Wp"
      },
      "source": [
        "def sum_double(x, y):\n",
        "    return (x+y)*2 if x==y else x+y"
      ],
      "execution_count": null,
      "outputs": []
    },
    {
      "cell_type": "code",
      "metadata": {
        "colab": {
          "base_uri": "https://localhost:8080/"
        },
        "id": "IF2ZQ7WZX6bf",
        "outputId": "5311ea9d-77e2-4d36-8062-07c1b4cd0a71"
      },
      "source": [
        "print(sum_double(5,5))"
      ],
      "execution_count": null,
      "outputs": [
        {
          "output_type": "stream",
          "name": "stdout",
          "text": [
            "20\n"
          ]
        }
      ]
    },
    {
      "cell_type": "code",
      "metadata": {
        "id": "MnpFXj1JX6ev"
      },
      "source": [
        "def parrot_trouble(talking, hour):\n",
        "    return\n",
        "    if talking == True and 0<hour<6:\n",
        "        print(True)\n",
        "    elif talking == False and 0<hour<6:\n",
        "        print(False)\n",
        "    elif talking == True and 21<hour<24:\n",
        "        print(True)\n",
        "    elif talking == False and 21<hour<24:\n",
        "        print(False)\n",
        "    else:\n",
        "        print(False)\n",
        "print(parrot_trouble)"
      ],
      "execution_count": null,
      "outputs": []
    },
    {
      "cell_type": "code",
      "metadata": {
        "colab": {
          "base_uri": "https://localhost:8080/"
        },
        "id": "87K2EzmIX6mr",
        "outputId": "955ea5fa-8f85-4a4b-9164-52e46655a422"
      },
      "source": [
        "print(parrot_trouble(True, 5))"
      ],
      "execution_count": null,
      "outputs": [
        {
          "output_type": "stream",
          "name": "stdout",
          "text": [
            "None\n"
          ]
        }
      ]
    },
    {
      "cell_type": "code",
      "metadata": {
        "id": "zObZIHYva5yO"
      },
      "source": [
        "def parrot_trouble(talking, hour):\n",
        "   return True if talking == True and (0<hour<6 or 21<hour<24) else False\n"
      ],
      "execution_count": null,
      "outputs": []
    },
    {
      "cell_type": "code",
      "metadata": {
        "colab": {
          "base_uri": "https://localhost:8080/"
        },
        "id": "0Vq2gpnva539",
        "outputId": "4417acbf-f1e7-4b65-9c26-478734cb79cf"
      },
      "source": [
        "print(parrot_trouble(True, 5))"
      ],
      "execution_count": null,
      "outputs": [
        {
          "output_type": "stream",
          "name": "stdout",
          "text": [
            "True\n"
          ]
        }
      ]
    },
    {
      "cell_type": "code",
      "metadata": {
        "colab": {
          "base_uri": "https://localhost:8080/"
        },
        "id": "7ZumaAvla57a",
        "outputId": "b22278f5-4106-4bc7-b6d2-2cf42e51493f"
      },
      "source": [
        "print(parrot_trouble(True, 8))"
      ],
      "execution_count": null,
      "outputs": [
        {
          "output_type": "stream",
          "name": "stdout",
          "text": [
            "False\n"
          ]
        }
      ]
    },
    {
      "cell_type": "code",
      "metadata": {
        "colab": {
          "base_uri": "https://localhost:8080/"
        },
        "id": "1wVlGiU7a5-s",
        "outputId": "35ec7c05-1b6e-4fab-fdde-440fc580fe6d"
      },
      "source": [
        "print(parrot_trouble(False, 22))"
      ],
      "execution_count": null,
      "outputs": [
        {
          "output_type": "stream",
          "name": "stdout",
          "text": [
            "False\n"
          ]
        }
      ]
    }
  ]
}
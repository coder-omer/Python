{
  "nbformat": 4,
  "nbformat_minor": 0,
  "metadata": {
    "colab": {
      "name": "KarHesabı.ipynb",
      "provenance": [],
      "collapsed_sections": [],
      "authorship_tag": "ABX9TyOyelSx9XIAS4mV5XRWyFBN"
    },
    "kernelspec": {
      "name": "python3",
      "display_name": "Python 3"
    },
    "language_info": {
      "name": "python"
    }
  },
  "cells": [
    {
      "cell_type": "code",
      "metadata": {
        "colab": {
          "base_uri": "https://localhost:8080/"
        },
        "id": "9DFaEpkKvRTX",
        "outputId": "437653bb-a19c-47d8-b838-455fb0837f3b"
      },
      "source": [
        "Anapara=1000\n",
        "KarOrani=0.07\n",
        "Sure=7\n",
        "\n",
        "SonPara=Anapara*(1+KarOrani)**Sure\n",
        "\n",
        "print(int(SonPara))"
      ],
      "execution_count": null,
      "outputs": [
        {
          "output_type": "stream",
          "name": "stdout",
          "text": [
            "1605\n"
          ]
        }
      ]
    },
    {
      "cell_type": "code",
      "metadata": {
        "colab": {
          "base_uri": "https://localhost:8080/"
        },
        "id": "AQ8exqmV0nMG",
        "outputId": "1f577eab-cb3c-46d3-880d-f60adefed4d3"
      },
      "source": [
        "anapara=1000     # kripto para borsasına dolar cinsinden yatırılan miktar\n",
        "kar_orani=0.07   # günlük sabit kar oranı \n",
        "sure=7           # yatırım süresi\n",
        "\n",
        "son_para=anapara*(1+kar_orani)**sure # yatırım sonu ulaşılacak dolar hesaplaması\n",
        "\n",
        "print(int(son_para))  # yatırım sonu ulaşılacak dolar miktarı\n"
      ],
      "execution_count": null,
      "outputs": [
        {
          "output_type": "stream",
          "name": "stdout",
          "text": [
            "1605\n"
          ]
        }
      ]
    }
  ]
}
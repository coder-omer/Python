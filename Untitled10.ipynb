{
  "nbformat": 4,
  "nbformat_minor": 0,
  "metadata": {
    "colab": {
      "name": "Untitled10.ipynb",
      "provenance": [],
      "authorship_tag": "ABX9TyMjo0Jt4QW8ZNb7LiNxMlnI"
    },
    "kernelspec": {
      "name": "python3",
      "display_name": "Python 3"
    },
    "language_info": {
      "name": "python"
    }
  },
  "cells": [
    {
      "cell_type": "code",
      "metadata": {
        "colab": {
          "base_uri": "https://localhost:8080/"
        },
        "id": "WpvUqQ3RxY2I",
        "outputId": "02cc9819-5a90-4653-fa04-a2a1ee91f65a"
      },
      "source": [
        "str_x =  \"Emma is good developer. Emma is a writer\"\n",
        "print(\"Emma appeared {} times\".format(str_x.count(\"Emma\")))"
      ],
      "execution_count": null,
      "outputs": [
        {
          "output_type": "stream",
          "name": "stdout",
          "text": [
            "Emma appeared 2 times\n"
          ]
        }
      ]
    },
    {
      "cell_type": "code",
      "metadata": {
        "id": "QQu4Q3LoxYYT"
      },
      "source": [
        ""
      ],
      "execution_count": null,
      "outputs": []
    },
    {
      "cell_type": "code",
      "metadata": {
        "id": "gqe_nFxWxYPM"
      },
      "source": [
        ""
      ],
      "execution_count": null,
      "outputs": []
    },
    {
      "cell_type": "code",
      "metadata": {
        "colab": {
          "base_uri": "https://localhost:8080/"
        },
        "id": "1EqfRQ61KHzw",
        "outputId": "28b3cd18-0321-4490-f058-cfcedd0fe053"
      },
      "source": [
        "numbers = [1, 3, 7, 4, 3, 0, 3, 6, 3]\n",
        "\n",
        "most_frequent = max(numbers,key=numbers.count)\n",
        "print(\"en cok gecen rakam :\",most_frequent)\n",
        "print(\"kac defa gectigi :\",numbers.count(most_frequent))\n",
        "\n",
        "print('the most frequent number is {} and it was {} times repeated' .format(most_frequent,numbers.count(most_frequent)))\n"
      ],
      "execution_count": null,
      "outputs": [
        {
          "output_type": "stream",
          "name": "stdout",
          "text": [
            "en cok gecen rakam : 3\n",
            "kac defa gectigi : 4\n",
            "the most frequent number is 3 and it was 4 times repeated\n"
          ]
        }
      ]
    },
    {
      "cell_type": "code",
      "metadata": {
        "id": "m-U29FBRxXFE"
      },
      "source": [
        ""
      ],
      "execution_count": null,
      "outputs": []
    },
    {
      "cell_type": "code",
      "metadata": {
        "id": "c8OLPXgNxXKE"
      },
      "source": [
        ""
      ],
      "execution_count": null,
      "outputs": []
    }
  ]
}
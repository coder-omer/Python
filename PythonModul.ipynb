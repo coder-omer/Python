{
  "nbformat": 4,
  "nbformat_minor": 0,
  "metadata": {
    "colab": {
      "name": "PythonModul.ipynb",
      "provenance": [],
      "collapsed_sections": [],
      "authorship_tag": "ABX9TyMIJ3MhoIbu6timQcEd2rPf"
    },
    "kernelspec": {
      "name": "python3",
      "display_name": "Python 3"
    },
    "language_info": {
      "name": "python"
    }
  },
  "cells": [
    {
      "cell_type": "code",
      "metadata": {
        "colab": {
          "base_uri": "https://localhost:8080/",
          "height": 35
        },
        "id": "-t8xwEa4dtNH",
        "outputId": "0f2b127a-52cc-4f5a-b81d-0368c7c5c0bc"
      },
      "source": [
        "pwd"
      ],
      "execution_count": null,
      "outputs": [
        {
          "output_type": "execute_result",
          "data": {
            "application/vnd.google.colaboratory.intrinsic+json": {
              "type": "string"
            },
            "text/plain": [
              "'/content'"
            ]
          },
          "metadata": {},
          "execution_count": 3
        }
      ]
    },
    {
      "cell_type": "code",
      "metadata": {
        "id": "nmPH4d43dzfV",
        "colab": {
          "base_uri": "https://localhost:8080/"
        },
        "outputId": "44173013-06d1-4840-acb6-69e11feee479"
      },
      "source": [
        "def concat_str(a,b):\n",
        "    return a+b\n",
        "\n",
        "print(concat_str(\"ali\",\"veli\"))"
      ],
      "execution_count": null,
      "outputs": [
        {
          "output_type": "stream",
          "name": "stdout",
          "text": [
            "aliveli\n"
          ]
        }
      ]
    }
  ]
}
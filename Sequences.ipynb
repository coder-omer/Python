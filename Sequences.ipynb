{
  "nbformat": 4,
  "nbformat_minor": 0,
  "metadata": {
    "colab": {
      "name": "Sequences.ipynb",
      "provenance": [],
      "authorship_tag": "ABX9TyPEwB7kE1PWZo23X86DhXrl",
      "include_colab_link": true
    },
    "kernelspec": {
      "name": "python3",
      "display_name": "Python 3"
    },
    "language_info": {
      "name": "python"
    }
  },
  "cells": [
    {
      "cell_type": "markdown",
      "metadata": {
        "id": "view-in-github",
        "colab_type": "text"
      },
      "source": [
        "<a href=\"https://colab.research.google.com/github/coder-omer/Python/blob/main/Sequences.ipynb\" target=\"_parent\"><img src=\"https://colab.research.google.com/assets/colab-badge.svg\" alt=\"Open In Colab\"/></a>"
      ]
    },
    {
      "cell_type": "code",
      "metadata": {
        "id": "kjvDfAN33B-I",
        "colab": {
          "base_uri": "https://localhost:8080/"
        },
        "outputId": "65ca96d2-9a06-47e7-d672-56cbdfa2dce5"
      },
      "source": [
        "print(\"one\", \"two\", \"three\", sep=\"\\t\") # separated by tab marks"
      ],
      "execution_count": null,
      "outputs": [
        {
          "output_type": "stream",
          "name": "stdout",
          "text": [
            "one\ttwo\tthree\n"
          ]
        }
      ]
    },
    {
      "cell_type": "code",
      "metadata": {
        "id": "187iwM9b3Lgo",
        "colab": {
          "base_uri": "https://localhost:8080/"
        },
        "outputId": "de9876d2-2bb6-4eff-f90c-3cdb87a9a894"
      },
      "source": [
        "print('we', '\\bare', '\\bunited') # remember, normally print() function\n",
        "# separates expressions by spaces"
      ],
      "execution_count": null,
      "outputs": [
        {
          "output_type": "stream",
          "name": "stdout",
          "text": [
            "we \bare \bunited\n"
          ]
        }
      ]
    },
    {
      "cell_type": "code",
      "metadata": {
        "id": "e53RISWQ3Lkb",
        "colab": {
          "base_uri": "https://localhost:8080/"
        },
        "outputId": "9e0e653a-3e65-4a2a-85d4-de0b99fdd1c8"
      },
      "source": [
        "print('C:\\\\november\\number_expenditure.txt')"
      ],
      "execution_count": null,
      "outputs": [
        {
          "output_type": "stream",
          "name": "stdout",
          "text": [
            "C:\\november\n",
            "umber_expenditure.txt\n"
          ]
        }
      ]
    },
    {
      "cell_type": "code",
      "metadata": {
        "id": "CgSvYkrg3Lml",
        "colab": {
          "base_uri": "https://localhost:8080/"
        },
        "outputId": "118d57c8-cc6f-4bc5-a4d8-016ba825bbb9"
      },
      "source": [
        "print(\"one\", \"two\", \"three\", sep=\"\\t\") # separated by tab marks\n"
      ],
      "execution_count": null,
      "outputs": [
        {
          "output_type": "stream",
          "name": "stdout",
          "text": [
            "one\ttwo\tthree\n"
          ]
        }
      ]
    },
    {
      "cell_type": "code",
      "metadata": {
        "id": "hcMKY0DR3Lp5",
        "colab": {
          "base_uri": "https://localhost:8080/"
        },
        "outputId": "b3743a5e-b26c-4387-ed7a-b0a197edac9b"
      },
      "source": [
        "print('we', '\\bare', '\\bunited') # remember, normally print() function\n",
        "# separates expressions by spaces"
      ],
      "execution_count": null,
      "outputs": [
        {
          "output_type": "stream",
          "name": "stdout",
          "text": [
            "we \bare \bunited\n"
          ]
        }
      ]
    },
    {
      "cell_type": "code",
      "metadata": {
        "id": "_1AonOsL3LsW",
        "colab": {
          "base_uri": "https://localhost:8080/"
        },
        "outputId": "f0e5eba0-76d3-4339-fc6b-c4aaa9b39b24"
      },
      "source": [
        "print('it\\'s funny to learn Python') "
      ],
      "execution_count": null,
      "outputs": [
        {
          "output_type": "stream",
          "name": "stdout",
          "text": [
            "it's funny to learn Python\n"
          ]
        }
      ]
    },
    {
      "cell_type": "code",
      "metadata": {
        "id": "FzFoyaUo3LvZ",
        "colab": {
          "base_uri": "https://localhost:8080/"
        },
        "outputId": "e76c96a1-723a-4a6c-d6bb-2afc9cda18d3"
      },
      "source": [
        "print('C:\\\\November\\number_expenditure.txt')"
      ],
      "execution_count": null,
      "outputs": [
        {
          "output_type": "stream",
          "name": "stdout",
          "text": [
            "C:\\November\n",
            "umber_expenditure.txt\n"
          ]
        }
      ]
    },
    {
      "cell_type": "code",
      "metadata": {
        "id": "WqKY4q3t3Lyo"
      },
      "source": [
        "print(None or 1)"
      ],
      "execution_count": null,
      "outputs": []
    }
  ]
}
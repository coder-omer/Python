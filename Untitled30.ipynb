{
  "nbformat": 4,
  "nbformat_minor": 0,
  "metadata": {
    "colab": {
      "name": "Untitled30.ipynb",
      "provenance": [],
      "authorship_tag": "ABX9TyOtnB4k8isDacJymKarhosq",
      "include_colab_link": true
    },
    "kernelspec": {
      "name": "python3",
      "display_name": "Python 3"
    },
    "language_info": {
      "name": "python"
    }
  },
  "cells": [
    {
      "cell_type": "markdown",
      "metadata": {
        "id": "view-in-github",
        "colab_type": "text"
      },
      "source": [
        "<a href=\"https://colab.research.google.com/github/coder-omer/Python/blob/main/Untitled30.ipynb\" target=\"_parent\"><img src=\"https://colab.research.google.com/assets/colab-badge.svg\" alt=\"Open In Colab\"/></a>"
      ]
    },
    {
      "cell_type": "code",
      "execution_count": null,
      "metadata": {
        "id": "r-Weg-D6E7mU"
      },
      "outputs": [],
      "source": [
        "liste = range(100)\n",
        "def asalSayi(sayi):\n",
        "    i = 2\n",
        "    if sayi ==2:\n",
        "        return True\n",
        "    elif sayi<2:\n",
        "        return False\n",
        "    else:\n",
        "        while(i<sayi):\n",
        "            if sayi%i==0:\n",
        "                return False\n",
        "            i +=1\n",
        "        return True\n",
        "filter2 = filter(asalSayi,liste)\n",
        "print(list(filter2))"
      ]
    },
    {
      "cell_type": "code",
      "source": [
        "liste = [1,2,3,4,5,6,7,8,9,10]\n",
        " \n",
        "def kareAl(sayi):\n",
        "    return sayi**2\n",
        " \n",
        "map1 = map(kareAl,liste)\n",
        "map1 = list(map1)\n",
        "print(map1)"
      ],
      "metadata": {
        "colab": {
          "base_uri": "https://localhost:8080/"
        },
        "id": "Sd8ZMM7dE8K-",
        "outputId": "df6a5fd7-b700-417c-e0e7-872c523fcc61"
      },
      "execution_count": null,
      "outputs": [
        {
          "output_type": "stream",
          "name": "stdout",
          "text": [
            "[1, 4, 9, 16, 25, 36, 49, 64, 81, 100]\n"
          ]
        }
      ]
    },
    {
      "cell_type": "code",
      "source": [
        "liste = [1,2,3,4,5,6,7,8,9,10]\n",
        " \n",
        "def kareAl(sayi):\n",
        "    return sayi**2\n",
        "\n",
        " \n",
        "map1 = list(map(kareAl,liste))\n",
        "print(map1)\n",
        "\n"
      ],
      "metadata": {
        "colab": {
          "base_uri": "https://localhost:8080/"
        },
        "id": "vguP0M-IE8SC",
        "outputId": "3abfd958-d1ba-42bc-9c7e-834f03492955"
      },
      "execution_count": null,
      "outputs": [
        {
          "output_type": "stream",
          "name": "stdout",
          "text": [
            "[1, 4, 9, 16, 25, 36, 49, 64, 81, 100]\n"
          ]
        }
      ]
    },
    {
      "cell_type": "code",
      "source": [
        "liste = [1,2,3,4,5,6,7,8,9,10]\n",
        " \n",
        "def kareAl(sayi):\n",
        "    return sayi**2\n",
        "\n",
        " \n",
        "map1 = list(map(kareAl,liste))\n",
        "print(map1)\n",
        "print(type(map1))"
      ],
      "metadata": {
        "colab": {
          "base_uri": "https://localhost:8080/"
        },
        "id": "DpOtpU7kE8Vj",
        "outputId": "04b1e6c3-f28e-420b-c27e-a64f16bd5ff6"
      },
      "execution_count": null,
      "outputs": [
        {
          "output_type": "stream",
          "name": "stdout",
          "text": [
            "[1, 4, 9, 16, 25, 36, 49, 64, 81, 100]\n",
            "<class 'list'>\n"
          ]
        }
      ]
    },
    {
      "cell_type": "code",
      "source": [
        "liste1 = [1,3,5,9,7,6,8]\n",
        "liste2 = [6,8,7,9,4,6]\n",
        "liste3 = [8,4,9,3,1,5,9]\n",
        " \n",
        "map2 = map(lambda y,x,z:x+y*z,liste1,liste2,liste3)\n",
        " \n",
        "print(list(map2))"
      ],
      "metadata": {
        "colab": {
          "base_uri": "https://localhost:8080/"
        },
        "id": "WaF2HF_DE8Yb",
        "outputId": "e3a1c597-69cb-4851-c16a-ae761e8b416b"
      },
      "execution_count": null,
      "outputs": [
        {
          "output_type": "stream",
          "name": "stdout",
          "text": [
            "[14, 20, 52, 36, 11, 36]\n"
          ]
        }
      ]
    },
    {
      "cell_type": "code",
      "source": [
        "liste = [1,2,3,4,5,6,7,8,9,10]\n",
        " \n",
        "def kareAl(sayi):\n",
        "    return sayi**2\n",
        "\n",
        " \n",
        "map1 = list(map(kareAl,liste))\n",
        "print(map1)\n",
        "print(type(map1))"
      ],
      "metadata": {
        "id": "GHrwNwYaE8iy"
      },
      "execution_count": null,
      "outputs": []
    },
    {
      "cell_type": "code",
      "source": [
        "liste = [1,2,3,4,5,6,7,8,9,10]\n",
        "\n",
        "def kareAl(sayi):\n",
        "    return sayi**2\n",
        "\n",
        "for i in range(10):\n",
        "    a=kareAl(liste[i])\n",
        "    liste[i]=a\n",
        "\n",
        "print(liste)"
      ],
      "metadata": {
        "colab": {
          "base_uri": "https://localhost:8080/"
        },
        "id": "ye3cot9hE8mp",
        "outputId": "03333b58-a032-4261-ac0e-ba63f64aa497"
      },
      "execution_count": null,
      "outputs": [
        {
          "output_type": "stream",
          "name": "stdout",
          "text": [
            "[1, 4, 9, 16, 25, 36, 49, 64, 81, 100]\n"
          ]
        }
      ]
    },
    {
      "cell_type": "code",
      "source": [
        "liste = [1,2,3,4,5,6,7,8,9,10]\n",
        "\n",
        "def kareAl(sayi):\n",
        "    return sayi**2\n",
        "\n",
        "bosList=[]\n",
        "\n",
        "for i in range(10):\n",
        "    a=kareAl(liste[i])\n",
        "    bosList.insert(i,a)\n",
        "\n",
        "print(bosList)"
      ],
      "metadata": {
        "colab": {
          "base_uri": "https://localhost:8080/"
        },
        "id": "cvexH9pqE8qs",
        "outputId": "632db544-ea1e-47f5-caac-aa3292e156a1"
      },
      "execution_count": null,
      "outputs": [
        {
          "output_type": "stream",
          "name": "stdout",
          "text": [
            "[1, 4, 9, 16, 25, 36, 49, 64, 81, 100]\n"
          ]
        }
      ]
    },
    {
      "cell_type": "code",
      "source": [
        "liste = [1,3,5,7,8,9]\n",
        " \n",
        "filter1 = filter(lambda sayi:,liste)\n",
        " \n",
        "print(list(filter1))\n",
        " "
      ],
      "metadata": {
        "colab": {
          "base_uri": "https://localhost:8080/",
          "height": 131
        },
        "id": "O8vI0s30E8uW",
        "outputId": "ad133875-2317-4b17-bebf-5c841a8f699e"
      },
      "execution_count": null,
      "outputs": [
        {
          "output_type": "error",
          "ename": "SyntaxError",
          "evalue": "ignored",
          "traceback": [
            "\u001b[0;36m  File \u001b[0;32m\"<ipython-input-55-e6f69888b234>\"\u001b[0;36m, line \u001b[0;32m3\u001b[0m\n\u001b[0;31m    filter1 = filter(lambda sayi:a=sayi-sayi,liste)\u001b[0m\n\u001b[0m                    ^\u001b[0m\n\u001b[0;31mSyntaxError\u001b[0m\u001b[0;31m:\u001b[0m lambda cannot contain assignment\n"
          ]
        }
      ]
    },
    {
      "cell_type": "code",
      "source": [
        "3%2"
      ],
      "metadata": {
        "colab": {
          "base_uri": "https://localhost:8080/"
        },
        "id": "Q7yL_ONKE9JI",
        "outputId": "9fa04fb2-f461-45b5-8894-17a472fca52c"
      },
      "execution_count": null,
      "outputs": [
        {
          "output_type": "execute_result",
          "data": {
            "text/plain": [
              "1"
            ]
          },
          "metadata": {},
          "execution_count": 43
        }
      ]
    }
  ]
}
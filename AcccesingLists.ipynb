{
  "nbformat": 4,
  "nbformat_minor": 0,
  "metadata": {
    "colab": {
      "name": "AcccesingLists.ipynb",
      "provenance": [],
      "authorship_tag": "ABX9TyObTx/pqKr2PKPbVwdLYR1z",
      "include_colab_link": true
    },
    "kernelspec": {
      "name": "python3",
      "display_name": "Python 3"
    },
    "language_info": {
      "name": "python"
    }
  },
  "cells": [
    {
      "cell_type": "markdown",
      "metadata": {
        "id": "view-in-github",
        "colab_type": "text"
      },
      "source": [
        "<a href=\"https://colab.research.google.com/github/coder-omer/Python/blob/main/AcccesingLists.ipynb\" target=\"_parent\"><img src=\"https://colab.research.google.com/assets/colab-badge.svg\" alt=\"Open In Colab\"/></a>"
      ]
    },
    {
      "cell_type": "code",
      "metadata": {
        "colab": {
          "base_uri": "https://localhost:8080/"
        },
        "id": "dD2bL4bkV4cf",
        "outputId": "cbd8002d-84b7-4b04-e854-7f6f48be7c5f"
      },
      "source": [
        "country = ['USA', 'Brasil', 'UK', 'Germany', 'Turkey', 'New Zealand']\n",
        "\n",
        "print(country)"
      ],
      "execution_count": null,
      "outputs": [
        {
          "output_type": "stream",
          "name": "stdout",
          "text": [
            "['USA', 'Brasil', 'UK', 'Germany', 'Turkey', 'New Zealand']\n"
          ]
        }
      ]
    },
    {
      "cell_type": "code",
      "metadata": {
        "colab": {
          "base_uri": "https://localhost:8080/"
        },
        "id": "i0tJ_lj_WF9q",
        "outputId": "0d839805-138a-4938-87cc-6af6c1f48eb2"
      },
      "source": [
        "print(country[2])"
      ],
      "execution_count": null,
      "outputs": [
        {
          "output_type": "stream",
          "name": "stdout",
          "text": [
            "UK\n"
          ]
        }
      ]
    },
    {
      "cell_type": "code",
      "metadata": {
        "colab": {
          "base_uri": "https://localhost:8080/"
        },
        "id": "740yv5yBWGGP",
        "outputId": "abc2d280-cd7c-4e09-8af4-57818d792138"
      },
      "source": [
        "string_1 = 'I quit smoking'\n",
        "\n",
        "new_list_1 = list(string_1)  # we created multi element list\n",
        "print(new_list_1)\n",
        "\n",
        "new_list_2 = [string_1]  # this is a single element list\n",
        "print(new_list_2)"
      ],
      "execution_count": null,
      "outputs": [
        {
          "output_type": "stream",
          "name": "stdout",
          "text": [
            "['I', ' ', 'q', 'u', 'i', 't', ' ', 's', 'm', 'o', 'k', 'i', 'n', 'g']\n",
            "['I quit smoking']\n"
          ]
        }
      ]
    },
    {
      "cell_type": "code",
      "metadata": {
        "colab": {
          "base_uri": "https://localhost:8080/"
        },
        "id": "XsXIVADPWGI_",
        "outputId": "3e4b1d75-de8c-43ff-aa1d-e0a79f043263"
      },
      "source": [
        "mixed_list = [11, 'Joseph', False, 3.14, None, [1, 2, 3]]\n",
        "\n",
        "print(mixed_list)"
      ],
      "execution_count": null,
      "outputs": [
        {
          "output_type": "stream",
          "name": "stdout",
          "text": [
            "[11, 'Joseph', False, 3.14, None, [1, 2, 3]]\n"
          ]
        }
      ]
    },
    {
      "cell_type": "code",
      "metadata": {
        "colab": {
          "base_uri": "https://localhost:8080/"
        },
        "id": "1z9CVZtLWGOg",
        "outputId": "7098df73-f74b-41f6-b418-dc973611395c"
      },
      "source": [
        "mixed_list_2=[mixed_list]\n",
        "print(mixed_list_2)"
      ],
      "execution_count": null,
      "outputs": [
        {
          "output_type": "stream",
          "name": "stdout",
          "text": [
            "[[11, 'Joseph', False, 3.14, None, [1, 2, 3]]]\n"
          ]
        }
      ]
    },
    {
      "cell_type": "code",
      "metadata": {
        "colab": {
          "base_uri": "https://localhost:8080/"
        },
        "id": "uPVWoEuCWGRi",
        "outputId": "12abb410-a66b-4656-9d38-52774777bfdc"
      },
      "source": [
        "warning = 'You must quit smoking!'\n",
        "list1 = list(warning)\n",
        "print(list1)"
      ],
      "execution_count": null,
      "outputs": [
        {
          "output_type": "stream",
          "name": "stdout",
          "text": [
            "['Y', 'o', 'u', ' ', 'm', 'u', 's', 't', ' ', 'q', 'u', 'i', 't', ' ', 's', 'm', 'o', 'k', 'i', 'n', 'g', '!']\n"
          ]
        }
      ]
    },
    {
      "cell_type": "code",
      "metadata": {
        "colab": {
          "base_uri": "https://localhost:8080/"
        },
        "id": "DIlK0xe9WGUA",
        "outputId": "fee6f002-dfc3-48a1-c190-6c257b6e2580"
      },
      "source": [
        "karakter_sayisi = len(list1)\n",
        "print(karakter_sayisi)"
      ],
      "execution_count": null,
      "outputs": [
        {
          "output_type": "stream",
          "name": "stdout",
          "text": [
            "22\n"
          ]
        }
      ]
    },
    {
      "cell_type": "code",
      "metadata": {
        "colab": {
          "base_uri": "https://localhost:8080/"
        },
        "id": "47uf_9esWGWy",
        "outputId": "90b25067-1e1f-4da5-dfe5-4b95ebb0844a"
      },
      "source": [
        "warning = 'You must quit smoking!'\n",
        "\n",
        "print(len(list(warning)))"
      ],
      "execution_count": null,
      "outputs": [
        {
          "output_type": "stream",
          "name": "stdout",
          "text": [
            "22\n"
          ]
        }
      ]
    },
    {
      "cell_type": "code",
      "metadata": {
        "id": "t5zVQyUCWGZh"
      },
      "source": [
        "empty_list_1= []\n",
        "\n",
        "empty_list_2 = list()"
      ],
      "execution_count": null,
      "outputs": []
    },
    {
      "cell_type": "code",
      "metadata": {
        "colab": {
          "base_uri": "https://localhost:8080/"
        },
        "id": "8DnTq62nWGcQ",
        "outputId": "99d53297-a141-49b1-b8be-e079b6dc8fe6"
      },
      "source": [
        "empty_list_1 = []\n",
        "empty_list_1.append('114')\n",
        "empty_list_1.append('plastic-free sea')\n",
        "\n",
        "print(empty_list_1) "
      ],
      "execution_count": null,
      "outputs": [
        {
          "output_type": "stream",
          "name": "stdout",
          "text": [
            "['114', 'plastic-free sea']\n"
          ]
        }
      ]
    },
    {
      "cell_type": "code",
      "metadata": {
        "colab": {
          "base_uri": "https://localhost:8080/"
        },
        "id": "5sYM1CNEWGfU",
        "outputId": "6ad363e8-83c4-446a-d0f3-a1b051f351f4"
      },
      "source": [
        "city = ['New York', 'London', 'Istanbul', 'Seoul', 'Sydney']\n",
        "city.append('Addis Ababa')\n",
        "\n",
        "print(city) "
      ],
      "execution_count": null,
      "outputs": [
        {
          "output_type": "stream",
          "name": "stdout",
          "text": [
            "['New York', 'London', 'Istanbul', 'Seoul', 'Sydney', 'Addis Ababa']\n"
          ]
        }
      ]
    },
    {
      "cell_type": "code",
      "metadata": {
        "colab": {
          "base_uri": "https://localhost:8080/"
        },
        "id": "TAnujWfIWGh_",
        "outputId": "ce72466f-c686-4357-cbc2-ff7088ad0846"
      },
      "source": [
        "city = ['New York', 'London', 'Istanbul', 'Seoul', 'Sydney', 'Addis Ababa']\n",
        "city.insert(2, 'Stockholm')\n",
        "\n",
        "print(city)"
      ],
      "execution_count": null,
      "outputs": [
        {
          "output_type": "stream",
          "name": "stdout",
          "text": [
            "['New York', 'London', 'Stockholm', 'Istanbul', 'Seoul', 'Sydney', 'Addis Ababa']\n"
          ]
        }
      ]
    },
    {
      "cell_type": "code",
      "metadata": {
        "colab": {
          "base_uri": "https://localhost:8080/"
        },
        "id": "K76w0K-EWGkh",
        "outputId": "2c748971-a70a-4462-df04-d34575621b76"
      },
      "source": [
        "city = ['New York', 'London', 'Stockholm', 'Istanbul', 'Seoul', 'Sydney', 'Addis Ababa']\n",
        "city.remove('London')\n",
        "print(city)  # we have deleted 'London'"
      ],
      "execution_count": null,
      "outputs": [
        {
          "output_type": "stream",
          "name": "stdout",
          "text": [
            "['New York', 'Stockholm', 'Istanbul', 'Seoul', 'Sydney', 'Addis Ababa']\n"
          ]
        }
      ]
    },
    {
      "cell_type": "code",
      "metadata": {
        "colab": {
          "base_uri": "https://localhost:8080/"
        },
        "id": "DjkakRTvWGoA",
        "outputId": "21499fce-81a1-4f21-f057-4ab324f5439f"
      },
      "source": [
        "city = ['New York', 'Stockholm', 'Istanbul', 'Seoul', 'Sydney', 'Addis Ababa']\n",
        "city.sort()  # lists the items in alphabetical order\n",
        "print(city)   "
      ],
      "execution_count": null,
      "outputs": [
        {
          "output_type": "stream",
          "name": "stdout",
          "text": [
            "['Addis Ababa', 'Istanbul', 'New York', 'Seoul', 'Stockholm', 'Sydney']\n"
          ]
        }
      ]
    },
    {
      "cell_type": "code",
      "metadata": {
        "colab": {
          "base_uri": "https://localhost:8080/"
        },
        "id": "ClxGe84nZoSA",
        "outputId": "76c7ae9c-b10e-4261-a761-8255b109c4f4"
      },
      "source": [
        "city = ['Addis Ababa', 'Istanbul', 'New York', 'Seoul', 'Stockholm', 'Sydney']\n",
        "print(len(city))"
      ],
      "execution_count": null,
      "outputs": [
        {
          "output_type": "stream",
          "name": "stdout",
          "text": [
            "6\n"
          ]
        }
      ]
    },
    {
      "cell_type": "code",
      "metadata": {
        "colab": {
          "base_uri": "https://localhost:8080/"
        },
        "id": "3ArImZihZoUt",
        "outputId": "41e84e11-92d3-4f85-ed12-e9862eb61355"
      },
      "source": [
        "my_list = [1, 3, 5, 7]\n",
        "print(my_list * 3)"
      ],
      "execution_count": null,
      "outputs": [
        {
          "output_type": "stream",
          "name": "stdout",
          "text": [
            "[1, 3, 5, 7, 1, 3, 5, 7, 1, 3, 5, 7]\n"
          ]
        }
      ]
    },
    {
      "cell_type": "code",
      "metadata": {
        "colab": {
          "base_uri": "https://localhost:8080/"
        },
        "id": "YG-SmheIZoXS",
        "outputId": "cae38596-3dde-4550-9078-f937c93339ad"
      },
      "source": [
        "city = ['New York', 'Stockholm', 'Istanbul', 'Seoul', 'Sydney', 'Addis Ababa']\n",
        "city[1] = 'Melbourne'  # we assign 'Melbourne' to index 1\n",
        "print(city)   "
      ],
      "execution_count": null,
      "outputs": [
        {
          "output_type": "stream",
          "name": "stdout",
          "text": [
            "['New York', 'Melbourne', 'Istanbul', 'Seoul', 'Sydney', 'Addis Ababa']\n"
          ]
        }
      ]
    },
    {
      "cell_type": "code",
      "metadata": {
        "colab": {
          "base_uri": "https://localhost:8080/"
        },
        "id": "W50nysBWZoaC",
        "outputId": "a7ae0ff9-4f67-4d75-8acd-862c6ad73b31"
      },
      "source": [
        "print(city.index('Seoul'))"
      ],
      "execution_count": null,
      "outputs": [
        {
          "output_type": "stream",
          "name": "stdout",
          "text": [
            "3\n"
          ]
        }
      ]
    },
    {
      "cell_type": "code",
      "metadata": {
        "colab": {
          "base_uri": "https://localhost:8080/"
        },
        "id": "XUJJ70ZXZofN",
        "outputId": "74039045-ee2e-42ca-e6e2-e9b2544c9374"
      },
      "source": [
        "del(city[4])\n",
        "print(city)"
      ],
      "execution_count": null,
      "outputs": [
        {
          "output_type": "stream",
          "name": "stdout",
          "text": [
            "['New York', 'Melbourne', 'Istanbul', 'Seoul', 'Addis Ababa']\n"
          ]
        }
      ]
    },
    {
      "cell_type": "code",
      "metadata": {
        "colab": {
          "base_uri": "https://localhost:8080/"
        },
        "id": "5MhCwWG4ZoiC",
        "outputId": "fd751a53-246d-49e4-f7e6-186fb20f5345"
      },
      "source": [
        "print(city.pop(my_list[0]))"
      ],
      "execution_count": null,
      "outputs": [
        {
          "output_type": "stream",
          "name": "stdout",
          "text": [
            "Seoul\n"
          ]
        }
      ]
    },
    {
      "cell_type": "code",
      "metadata": {
        "colab": {
          "base_uri": "https://localhost:8080/"
        },
        "id": "gHNTo9S_Zoki",
        "outputId": "a970334c-2f1a-4395-9456-c132750fbf0d"
      },
      "source": [
        "print(city)"
      ],
      "execution_count": null,
      "outputs": [
        {
          "output_type": "stream",
          "name": "stdout",
          "text": [
            "['Melbourne']\n"
          ]
        }
      ]
    },
    {
      "cell_type": "code",
      "metadata": {
        "colab": {
          "base_uri": "https://localhost:8080/"
        },
        "id": "s8_uCgz4ZonR",
        "outputId": "9edd1aac-2ac1-49dc-8ed2-e46ea969d375"
      },
      "source": [
        "city = ['New York', 'Stockholm', 'Istanbul', 'Seoul', 'Sydney', 'Addis Ababa']\n",
        "print(city.pop(my_list[0]))\n",
        "print(city)"
      ],
      "execution_count": null,
      "outputs": [
        {
          "output_type": "stream",
          "name": "stdout",
          "text": [
            "Stockholm\n",
            "['New York', 'Istanbul', 'Seoul', 'Sydney', 'Addis Ababa']\n"
          ]
        }
      ]
    },
    {
      "cell_type": "code",
      "metadata": {
        "colab": {
          "base_uri": "https://localhost:8080/"
        },
        "id": "FpE6hlI5Zoqr",
        "outputId": "12d3e06b-b5e5-439b-fa47-cb9a58fb6ea8"
      },
      "source": [
        "print(city.pop(my_list[1]))\n",
        "print(city)"
      ],
      "execution_count": null,
      "outputs": [
        {
          "output_type": "stream",
          "name": "stdout",
          "text": [
            "Sydney\n",
            "['New York', 'Istanbul', 'Seoul', 'Addis Ababa']\n"
          ]
        }
      ]
    }
  ]
}